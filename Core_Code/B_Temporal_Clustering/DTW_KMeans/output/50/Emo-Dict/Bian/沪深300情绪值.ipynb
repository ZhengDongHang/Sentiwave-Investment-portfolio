{
 "cells": [
  {
   "cell_type": "code",
   "execution_count": 1,
   "id": "44742dd4-6d00-4393-9e90-e3377728466c",
   "metadata": {
    "execution": {
     "iopub.execute_input": "2025-06-06T11:12:41.147614Z",
     "iopub.status.busy": "2025-06-06T11:12:41.147340Z",
     "iopub.status.idle": "2025-06-06T11:12:42.382412Z",
     "shell.execute_reply": "2025-06-06T11:12:42.381432Z"
    },
    "papermill": {
     "duration": 1.287838,
     "end_time": "2025-06-06T11:12:42.429889",
     "exception": false,
     "start_time": "2025-06-06T11:12:41.142051",
     "status": "completed"
    },
    "tags": []
   },
   "outputs": [],
   "source": [
    "import os\n",
    "import ast\n",
    "import random\n",
    "import pandas as pd\n",
    "import numpy as np\n",
    "import matplotlib.pyplot as plt\n",
    "%matplotlib inline\n",
    "plt.rcParams[\"font.sans-serif\"]=[\"WenQuanYi Micro Hei\"] #设置字体\n",
    "plt.rcParams[\"axes.unicode_minus\"]=False #该语句解决图像中的“-”负号的乱码问题\n",
    "\n",
    "# 禁止随机，结果可复现\n",
    "random.seed(42)\n",
    "np.random.seed(42)"
   ]
  },
  {
   "cell_type": "markdown",
   "id": "2f28196d-3421-4906-81cc-390066ca9c6f",
   "metadata": {
    "papermill": {
     "duration": 0.047737,
     "end_time": "2025-06-06T11:12:43.039723",
     "exception": false,
     "start_time": "2025-06-06T11:12:42.991986",
     "status": "completed"
    },
    "tags": []
   },
   "source": [
    "## 超参数选择"
   ]
  },
  {
   "cell_type": "code",
   "execution_count": 2,
   "id": "143a4727-3771-4244-8ed0-dc7ad04927bb",
   "metadata": {
    "execution": {
     "iopub.execute_input": "2025-06-06T11:12:43.950382Z",
     "iopub.status.busy": "2025-06-06T11:12:43.949900Z",
     "iopub.status.idle": "2025-06-06T11:12:43.954542Z",
     "shell.execute_reply": "2025-06-06T11:12:43.953747Z"
    },
    "papermill": {
     "duration": 0.112137,
     "end_time": "2025-06-06T11:12:43.976456",
     "exception": false,
     "start_time": "2025-06-06T11:12:43.864319",
     "status": "completed"
    },
    "tags": [
     "parameters"
    ]
   },
   "outputs": [],
   "source": [
    "# Parameters\n",
    "emo_index_id = 0\n",
    "stage_id = 0\n",
    "model_id = 0\n",
    "data_number = 20"
   ]
  },
  {
   "cell_type": "code",
   "execution_count": 3,
   "id": "e11cc25b",
   "metadata": {
    "execution": {
     "iopub.execute_input": "2025-06-06T11:12:44.988262Z",
     "iopub.status.busy": "2025-06-06T11:12:44.987182Z",
     "iopub.status.idle": "2025-06-06T11:12:44.993285Z",
     "shell.execute_reply": "2025-06-06T11:12:44.992060Z"
    },
    "papermill": {
     "duration": 0.100225,
     "end_time": "2025-06-06T11:12:45.012847",
     "exception": false,
     "start_time": "2025-06-06T11:12:44.912622",
     "status": "completed"
    },
    "tags": [
     "injected-parameters"
    ]
   },
   "outputs": [],
   "source": [
    "# Parameters\n",
    "emo_index_id = 1\n",
    "stage_id = 0\n",
    "model_id = 1\n",
    "data_number = 50\n"
   ]
  },
  {
   "cell_type": "code",
   "execution_count": 4,
   "id": "ed578f0b-2a2c-4fc5-954c-e4db8108e55d",
   "metadata": {
    "execution": {
     "iopub.execute_input": "2025-06-06T11:12:45.992675Z",
     "iopub.status.busy": "2025-06-06T11:12:45.991360Z",
     "iopub.status.idle": "2025-06-06T11:12:46.002246Z",
     "shell.execute_reply": "2025-06-06T11:12:46.000950Z"
    },
    "papermill": {
     "duration": 0.141988,
     "end_time": "2025-06-06T11:12:46.097806",
     "exception": false,
     "start_time": "2025-06-06T11:12:45.955818",
     "status": "completed"
    },
    "tags": []
   },
   "outputs": [
    {
     "name": "stdout",
     "output_type": "stream",
     "text": [
      "Running with: emo_index=沪深300情绪值, stage=计算矩阵, model=Emo-Dict/Bian, data_number=50\n"
     ]
    }
   ],
   "source": [
    "emo_index = ['上证综合情绪值', '沪深300情绪值', '创业板情绪值'][emo_index_id]\n",
    "stage = ['计算矩阵', '读取矩阵'][stage_id]\n",
    "model = ['Emo-Dict/DLUT', 'Emo-Dict/Bian', 'Emo-Dict/Jiang',\n",
    "         'Machine-learning/LR', 'Machine-learning/RF', 'Machine-learning/SVM', \n",
    "         'Deep-learning/Separated_task'][model_id]\n",
    "\n",
    "ROOT_PATH = '/data/public/fintechlab/zdh/Individual-Stock-Analysis/B_Temporal_Clustering'\n",
    "Clustering_Method = 'Clustering_Based_on_Separation'\n",
    "Emotion_Data_PATH = f'{ROOT_PATH}/data/Emotion_Data/{model}'   # 情绪数据路径\n",
    "Financial_Data_PATH = f'{ROOT_PATH}/data/Financial_Data' # 金融数据路径\n",
    "\n",
    "print(f\"Running with: emo_index={emo_index}, stage={stage}, model={model}, data_number={data_number}\")"
   ]
  },
  {
   "cell_type": "code",
   "execution_count": null,
   "id": "d5257e0d-2d51-4515-a9c3-53da32b2d250",
   "metadata": {
    "papermill": {
     "duration": 0.050015,
     "end_time": "2025-06-06T11:12:47.110378",
     "exception": false,
     "start_time": "2025-06-06T11:12:47.060363",
     "status": "completed"
    },
    "tags": []
   },
   "outputs": [],
   "source": []
  },
  {
   "cell_type": "markdown",
   "id": "f7248828-7dde-4532-a18d-44a0f14780a9",
   "metadata": {
    "papermill": {
     "duration": 0.073624,
     "end_time": "2025-06-06T11:12:48.071591",
     "exception": false,
     "start_time": "2025-06-06T11:12:47.997967",
     "status": "completed"
    },
    "tags": []
   },
   "source": [
    "## 数据准备"
   ]
  },
  {
   "cell_type": "code",
   "execution_count": 5,
   "id": "a8decf35-7c4e-47f6-b5d4-678a203bf870",
   "metadata": {
    "execution": {
     "iopub.execute_input": "2025-06-06T11:12:48.769422Z",
     "iopub.status.busy": "2025-06-06T11:12:48.768839Z",
     "iopub.status.idle": "2025-06-06T11:13:07.548316Z",
     "shell.execute_reply": "2025-06-06T11:13:07.547355Z"
    },
    "papermill": {
     "duration": 18.852127,
     "end_time": "2025-06-06T11:13:07.575063",
     "exception": false,
     "start_time": "2025-06-06T11:12:48.722936",
     "status": "completed"
    },
    "tags": []
   },
   "outputs": [
    {
     "data": {
      "text/html": [
       "<div>\n",
       "<style scoped>\n",
       "    .dataframe tbody tr th:only-of-type {\n",
       "        vertical-align: middle;\n",
       "    }\n",
       "\n",
       "    .dataframe tbody tr th {\n",
       "        vertical-align: top;\n",
       "    }\n",
       "\n",
       "    .dataframe thead th {\n",
       "        text-align: right;\n",
       "    }\n",
       "</style>\n",
       "<table border=\"1\" class=\"dataframe\">\n",
       "  <thead>\n",
       "    <tr style=\"text-align: right;\">\n",
       "      <th></th>\n",
       "      <th>股票编号</th>\n",
       "      <th>日期</th>\n",
       "      <th>上证综合情绪值</th>\n",
       "      <th>沪深300情绪值</th>\n",
       "      <th>创业板情绪值</th>\n",
       "    </tr>\n",
       "  </thead>\n",
       "  <tbody>\n",
       "    <tr>\n",
       "      <th>0</th>\n",
       "      <td>601933</td>\n",
       "      <td>2024-12-27</td>\n",
       "      <td>1.000000</td>\n",
       "      <td>1.000000</td>\n",
       "      <td>1.000000</td>\n",
       "    </tr>\n",
       "    <tr>\n",
       "      <th>1</th>\n",
       "      <td>601933</td>\n",
       "      <td>2024-11-18</td>\n",
       "      <td>0.000000</td>\n",
       "      <td>0.000000</td>\n",
       "      <td>0.000000</td>\n",
       "    </tr>\n",
       "    <tr>\n",
       "      <th>2</th>\n",
       "      <td>601933</td>\n",
       "      <td>2024-11-17</td>\n",
       "      <td>0.000000</td>\n",
       "      <td>0.000000</td>\n",
       "      <td>0.000000</td>\n",
       "    </tr>\n",
       "    <tr>\n",
       "      <th>3</th>\n",
       "      <td>601933</td>\n",
       "      <td>2024-11-17</td>\n",
       "      <td>0.000000</td>\n",
       "      <td>0.000000</td>\n",
       "      <td>0.000000</td>\n",
       "    </tr>\n",
       "    <tr>\n",
       "      <th>4</th>\n",
       "      <td>601933</td>\n",
       "      <td>2024-11-17</td>\n",
       "      <td>0.000000</td>\n",
       "      <td>0.000000</td>\n",
       "      <td>0.000000</td>\n",
       "    </tr>\n",
       "    <tr>\n",
       "      <th>...</th>\n",
       "      <td>...</td>\n",
       "      <td>...</td>\n",
       "      <td>...</td>\n",
       "      <td>...</td>\n",
       "      <td>...</td>\n",
       "    </tr>\n",
       "    <tr>\n",
       "      <th>495326</th>\n",
       "      <td>601919</td>\n",
       "      <td>2021-04-09</td>\n",
       "      <td>1.000000</td>\n",
       "      <td>1.000000</td>\n",
       "      <td>1.000000</td>\n",
       "    </tr>\n",
       "    <tr>\n",
       "      <th>495327</th>\n",
       "      <td>601919</td>\n",
       "      <td>2021-04-09</td>\n",
       "      <td>0.000000</td>\n",
       "      <td>0.000000</td>\n",
       "      <td>0.000000</td>\n",
       "    </tr>\n",
       "    <tr>\n",
       "      <th>495328</th>\n",
       "      <td>601919</td>\n",
       "      <td>2021-04-08</td>\n",
       "      <td>0.333333</td>\n",
       "      <td>0.333333</td>\n",
       "      <td>0.333333</td>\n",
       "    </tr>\n",
       "    <tr>\n",
       "      <th>495329</th>\n",
       "      <td>601919</td>\n",
       "      <td>2021-04-08</td>\n",
       "      <td>0.000000</td>\n",
       "      <td>0.000000</td>\n",
       "      <td>0.000000</td>\n",
       "    </tr>\n",
       "    <tr>\n",
       "      <th>495330</th>\n",
       "      <td>601919</td>\n",
       "      <td>2021-01-01</td>\n",
       "      <td>0.000000</td>\n",
       "      <td>0.000000</td>\n",
       "      <td>0.000000</td>\n",
       "    </tr>\n",
       "  </tbody>\n",
       "</table>\n",
       "<p>495331 rows × 5 columns</p>\n",
       "</div>"
      ],
      "text/plain": [
       "          股票编号          日期   上证综合情绪值  沪深300情绪值    创业板情绪值\n",
       "0       601933  2024-12-27  1.000000  1.000000  1.000000\n",
       "1       601933  2024-11-18  0.000000  0.000000  0.000000\n",
       "2       601933  2024-11-17  0.000000  0.000000  0.000000\n",
       "3       601933  2024-11-17  0.000000  0.000000  0.000000\n",
       "4       601933  2024-11-17  0.000000  0.000000  0.000000\n",
       "...        ...         ...       ...       ...       ...\n",
       "495326  601919  2021-04-09  1.000000  1.000000  1.000000\n",
       "495327  601919  2021-04-09  0.000000  0.000000  0.000000\n",
       "495328  601919  2021-04-08  0.333333  0.333333  0.333333\n",
       "495329  601919  2021-04-08  0.000000  0.000000  0.000000\n",
       "495330  601919  2021-01-01  0.000000  0.000000  0.000000\n",
       "\n",
       "[495331 rows x 5 columns]"
      ]
     },
     "execution_count": 5,
     "metadata": {},
     "output_type": "execute_result"
    }
   ],
   "source": [
    "\"\"\"读取股吧个股的数据\"\"\"\n",
    "all_data = []\n",
    "file_list = [f for f in os.listdir(Emotion_Data_PATH) if f.endswith('.csv')]\n",
    "\n",
    "for file in file_list:\n",
    "    file_path = os.path.join(Emotion_Data_PATH, file)\n",
    "    df = pd.read_csv(file_path)\n",
    "    stock_code = os.path.splitext(file)[0] # 获取股票编号（文件名去掉扩展名）\n",
    "    \n",
    "    # 提取每一行的日期和情绪值\n",
    "    for _, row in df.iterrows():\n",
    "        new_row = {\n",
    "            '股票编号': stock_code,\n",
    "            '日期': row['日期'],\n",
    "            '上证综合情绪值': row['上证综合情绪值'],\n",
    "            '沪深300情绪值': row['沪深300情绪值'],\n",
    "            '创业板情绪值': row['创业板情绪值']\n",
    "        }\n",
    "        all_data.append(new_row)\n",
    "        \n",
    "guba_data = pd.DataFrame(all_data)\n",
    "guba_data"
   ]
  },
  {
   "cell_type": "code",
   "execution_count": 6,
   "id": "eb06634d-e605-45f9-8b0f-4de2d2f8738f",
   "metadata": {
    "execution": {
     "iopub.execute_input": "2025-06-06T11:13:07.635635Z",
     "iopub.status.busy": "2025-06-06T11:13:07.635184Z",
     "iopub.status.idle": "2025-06-06T11:13:07.734974Z",
     "shell.execute_reply": "2025-06-06T11:13:07.734226Z"
    },
    "papermill": {
     "duration": 0.178309,
     "end_time": "2025-06-06T11:13:07.792926",
     "exception": false,
     "start_time": "2025-06-06T11:13:07.614617",
     "status": "completed"
    },
    "tags": []
   },
   "outputs": [
    {
     "data": {
      "text/html": [
       "<div>\n",
       "<style scoped>\n",
       "    .dataframe tbody tr th:only-of-type {\n",
       "        vertical-align: middle;\n",
       "    }\n",
       "\n",
       "    .dataframe tbody tr th {\n",
       "        vertical-align: top;\n",
       "    }\n",
       "\n",
       "    .dataframe thead th {\n",
       "        text-align: right;\n",
       "    }\n",
       "</style>\n",
       "<table border=\"1\" class=\"dataframe\">\n",
       "  <thead>\n",
       "    <tr style=\"text-align: right;\">\n",
       "      <th></th>\n",
       "      <th>股票编号</th>\n",
       "      <th>日期</th>\n",
       "      <th>交易量</th>\n",
       "      <th>收益率变化</th>\n",
       "    </tr>\n",
       "  </thead>\n",
       "  <tbody>\n",
       "    <tr>\n",
       "      <th>0</th>\n",
       "      <td>000002</td>\n",
       "      <td>2021-06-01</td>\n",
       "      <td>60990961</td>\n",
       "      <td>-0.003745</td>\n",
       "    </tr>\n",
       "    <tr>\n",
       "      <th>1</th>\n",
       "      <td>000002</td>\n",
       "      <td>2021-06-02</td>\n",
       "      <td>85354506</td>\n",
       "      <td>0.006015</td>\n",
       "    </tr>\n",
       "    <tr>\n",
       "      <th>2</th>\n",
       "      <td>000002</td>\n",
       "      <td>2021-06-03</td>\n",
       "      <td>50594187</td>\n",
       "      <td>-0.003363</td>\n",
       "    </tr>\n",
       "    <tr>\n",
       "      <th>3</th>\n",
       "      <td>000002</td>\n",
       "      <td>2021-06-04</td>\n",
       "      <td>71422364</td>\n",
       "      <td>-0.012748</td>\n",
       "    </tr>\n",
       "    <tr>\n",
       "      <th>4</th>\n",
       "      <td>000002</td>\n",
       "      <td>2021-06-07</td>\n",
       "      <td>64745280</td>\n",
       "      <td>-0.014812</td>\n",
       "    </tr>\n",
       "    <tr>\n",
       "      <th>...</th>\n",
       "      <td>...</td>\n",
       "      <td>...</td>\n",
       "      <td>...</td>\n",
       "      <td>...</td>\n",
       "    </tr>\n",
       "    <tr>\n",
       "      <th>154877</th>\n",
       "      <td>688981</td>\n",
       "      <td>2024-11-20</td>\n",
       "      <td>58507495</td>\n",
       "      <td>-0.017071</td>\n",
       "    </tr>\n",
       "    <tr>\n",
       "      <th>154878</th>\n",
       "      <td>688981</td>\n",
       "      <td>2024-11-21</td>\n",
       "      <td>56197106</td>\n",
       "      <td>0.002358</td>\n",
       "    </tr>\n",
       "    <tr>\n",
       "      <th>154879</th>\n",
       "      <td>688981</td>\n",
       "      <td>2024-11-22</td>\n",
       "      <td>79240108</td>\n",
       "      <td>-0.050588</td>\n",
       "    </tr>\n",
       "    <tr>\n",
       "      <th>154880</th>\n",
       "      <td>688981</td>\n",
       "      <td>2024-11-25</td>\n",
       "      <td>76905909</td>\n",
       "      <td>-0.029402</td>\n",
       "    </tr>\n",
       "    <tr>\n",
       "      <th>154881</th>\n",
       "      <td>688981</td>\n",
       "      <td>2024-11-26</td>\n",
       "      <td>35363542</td>\n",
       "      <td>-0.012303</td>\n",
       "    </tr>\n",
       "  </tbody>\n",
       "</table>\n",
       "<p>154882 rows × 4 columns</p>\n",
       "</div>"
      ],
      "text/plain": [
       "          股票编号          日期       交易量     收益率变化\n",
       "0       000002  2021-06-01  60990961 -0.003745\n",
       "1       000002  2021-06-02  85354506  0.006015\n",
       "2       000002  2021-06-03  50594187 -0.003363\n",
       "3       000002  2021-06-04  71422364 -0.012748\n",
       "4       000002  2021-06-07  64745280 -0.014812\n",
       "...        ...         ...       ...       ...\n",
       "154877  688981  2024-11-20  58507495 -0.017071\n",
       "154878  688981  2024-11-21  56197106  0.002358\n",
       "154879  688981  2024-11-22  79240108 -0.050588\n",
       "154880  688981  2024-11-25  76905909 -0.029402\n",
       "154881  688981  2024-11-26  35363542 -0.012303\n",
       "\n",
       "[154882 rows x 4 columns]"
      ]
     },
     "execution_count": 6,
     "metadata": {},
     "output_type": "execute_result"
    }
   ],
   "source": [
    "\"\"\"读取股票回报率的数据\"\"\"\n",
    "return_data = pd.read_csv(f'{Financial_Data_PATH}/日个股回报率.csv', dtype={'股票编号': str})\n",
    "return_data"
   ]
  },
  {
   "cell_type": "code",
   "execution_count": 7,
   "id": "ce9fdf73-0d04-4a37-b883-03e1a307cf4b",
   "metadata": {
    "execution": {
     "iopub.execute_input": "2025-06-06T11:13:08.506625Z",
     "iopub.status.busy": "2025-06-06T11:13:08.506278Z",
     "iopub.status.idle": "2025-06-06T11:13:08.721141Z",
     "shell.execute_reply": "2025-06-06T11:13:08.720499Z"
    },
    "papermill": {
     "duration": 0.379991,
     "end_time": "2025-06-06T11:13:08.761225",
     "exception": false,
     "start_time": "2025-06-06T11:13:08.381234",
     "status": "completed"
    },
    "tags": []
   },
   "outputs": [
    {
     "data": {
      "text/html": [
       "<div>\n",
       "<style scoped>\n",
       "    .dataframe tbody tr th:only-of-type {\n",
       "        vertical-align: middle;\n",
       "    }\n",
       "\n",
       "    .dataframe tbody tr th {\n",
       "        vertical-align: top;\n",
       "    }\n",
       "\n",
       "    .dataframe thead th {\n",
       "        text-align: right;\n",
       "    }\n",
       "</style>\n",
       "<table border=\"1\" class=\"dataframe\">\n",
       "  <thead>\n",
       "    <tr style=\"text-align: right;\">\n",
       "      <th></th>\n",
       "      <th>股票编号</th>\n",
       "      <th>日期</th>\n",
       "      <th>上证综合情绪值</th>\n",
       "      <th>沪深300情绪值</th>\n",
       "      <th>创业板情绪值</th>\n",
       "      <th>交易量</th>\n",
       "      <th>收益率变化</th>\n",
       "    </tr>\n",
       "  </thead>\n",
       "  <tbody>\n",
       "    <tr>\n",
       "      <th>1</th>\n",
       "      <td>601933</td>\n",
       "      <td>2024-11-18</td>\n",
       "      <td>0.0</td>\n",
       "      <td>0.0</td>\n",
       "      <td>0.0</td>\n",
       "      <td>310012824.0</td>\n",
       "      <td>-0.004608</td>\n",
       "    </tr>\n",
       "    <tr>\n",
       "      <th>11</th>\n",
       "      <td>601933</td>\n",
       "      <td>2024-11-15</td>\n",
       "      <td>-1.0</td>\n",
       "      <td>-1.0</td>\n",
       "      <td>-1.0</td>\n",
       "      <td>423271473.0</td>\n",
       "      <td>-0.064655</td>\n",
       "    </tr>\n",
       "    <tr>\n",
       "      <th>12</th>\n",
       "      <td>601933</td>\n",
       "      <td>2024-11-15</td>\n",
       "      <td>0.0</td>\n",
       "      <td>0.0</td>\n",
       "      <td>0.0</td>\n",
       "      <td>423271473.0</td>\n",
       "      <td>-0.064655</td>\n",
       "    </tr>\n",
       "    <tr>\n",
       "      <th>13</th>\n",
       "      <td>601933</td>\n",
       "      <td>2024-11-14</td>\n",
       "      <td>0.0</td>\n",
       "      <td>0.0</td>\n",
       "      <td>0.0</td>\n",
       "      <td>372259052.0</td>\n",
       "      <td>-0.053061</td>\n",
       "    </tr>\n",
       "    <tr>\n",
       "      <th>14</th>\n",
       "      <td>601933</td>\n",
       "      <td>2024-11-14</td>\n",
       "      <td>0.0</td>\n",
       "      <td>0.0</td>\n",
       "      <td>0.0</td>\n",
       "      <td>372259052.0</td>\n",
       "      <td>-0.053061</td>\n",
       "    </tr>\n",
       "    <tr>\n",
       "      <th>...</th>\n",
       "      <td>...</td>\n",
       "      <td>...</td>\n",
       "      <td>...</td>\n",
       "      <td>...</td>\n",
       "      <td>...</td>\n",
       "      <td>...</td>\n",
       "      <td>...</td>\n",
       "    </tr>\n",
       "    <tr>\n",
       "      <th>495148</th>\n",
       "      <td>601919</td>\n",
       "      <td>2021-06-01</td>\n",
       "      <td>0.0</td>\n",
       "      <td>0.0</td>\n",
       "      <td>0.0</td>\n",
       "      <td>268816321.0</td>\n",
       "      <td>0.045859</td>\n",
       "    </tr>\n",
       "    <tr>\n",
       "      <th>495149</th>\n",
       "      <td>601919</td>\n",
       "      <td>2021-06-01</td>\n",
       "      <td>0.0</td>\n",
       "      <td>0.0</td>\n",
       "      <td>0.0</td>\n",
       "      <td>268816321.0</td>\n",
       "      <td>0.045859</td>\n",
       "    </tr>\n",
       "    <tr>\n",
       "      <th>495150</th>\n",
       "      <td>601919</td>\n",
       "      <td>2021-06-01</td>\n",
       "      <td>1.0</td>\n",
       "      <td>1.0</td>\n",
       "      <td>1.0</td>\n",
       "      <td>268816321.0</td>\n",
       "      <td>0.045859</td>\n",
       "    </tr>\n",
       "    <tr>\n",
       "      <th>495151</th>\n",
       "      <td>601919</td>\n",
       "      <td>2021-06-01</td>\n",
       "      <td>1.0</td>\n",
       "      <td>1.0</td>\n",
       "      <td>1.0</td>\n",
       "      <td>268816321.0</td>\n",
       "      <td>0.045859</td>\n",
       "    </tr>\n",
       "    <tr>\n",
       "      <th>495152</th>\n",
       "      <td>601919</td>\n",
       "      <td>2021-06-01</td>\n",
       "      <td>-1.0</td>\n",
       "      <td>-1.0</td>\n",
       "      <td>-1.0</td>\n",
       "      <td>268816321.0</td>\n",
       "      <td>0.045859</td>\n",
       "    </tr>\n",
       "  </tbody>\n",
       "</table>\n",
       "<p>391899 rows × 7 columns</p>\n",
       "</div>"
      ],
      "text/plain": [
       "          股票编号          日期  上证综合情绪值  沪深300情绪值  创业板情绪值          交易量     收益率变化\n",
       "1       601933  2024-11-18      0.0       0.0     0.0  310012824.0 -0.004608\n",
       "11      601933  2024-11-15     -1.0      -1.0    -1.0  423271473.0 -0.064655\n",
       "12      601933  2024-11-15      0.0       0.0     0.0  423271473.0 -0.064655\n",
       "13      601933  2024-11-14      0.0       0.0     0.0  372259052.0 -0.053061\n",
       "14      601933  2024-11-14      0.0       0.0     0.0  372259052.0 -0.053061\n",
       "...        ...         ...      ...       ...     ...          ...       ...\n",
       "495148  601919  2021-06-01      0.0       0.0     0.0  268816321.0  0.045859\n",
       "495149  601919  2021-06-01      0.0       0.0     0.0  268816321.0  0.045859\n",
       "495150  601919  2021-06-01      1.0       1.0     1.0  268816321.0  0.045859\n",
       "495151  601919  2021-06-01      1.0       1.0     1.0  268816321.0  0.045859\n",
       "495152  601919  2021-06-01     -1.0      -1.0    -1.0  268816321.0  0.045859\n",
       "\n",
       "[391899 rows x 7 columns]"
      ]
     },
     "execution_count": 7,
     "metadata": {},
     "output_type": "execute_result"
    }
   ],
   "source": [
    "# 进行左连接，guba_data 为主表\n",
    "merged_data = pd.merge(guba_data, return_data[['股票编号', '日期', '交易量', '收益率变化']], \n",
    "                       on=['股票编号', '日期'], \n",
    "                       how='left')\n",
    "merged_data = merged_data.dropna()\n",
    "merged_data"
   ]
  },
  {
   "cell_type": "markdown",
   "id": "e81f38a2-48f9-4fac-99ea-6bf9703a73b1",
   "metadata": {
    "papermill": {
     "duration": 0.175765,
     "end_time": "2025-06-06T11:13:09.709768",
     "exception": false,
     "start_time": "2025-06-06T11:13:09.534003",
     "status": "completed"
    },
    "tags": []
   },
   "source": [
    "## 数据预处理"
   ]
  },
  {
   "cell_type": "code",
   "execution_count": 8,
   "id": "ed7d7646-b94d-458d-ae55-10f90a95f23c",
   "metadata": {
    "execution": {
     "iopub.execute_input": "2025-06-06T11:13:10.572933Z",
     "iopub.status.busy": "2025-06-06T11:13:10.571811Z",
     "iopub.status.idle": "2025-06-06T11:13:11.458939Z",
     "shell.execute_reply": "2025-06-06T11:13:11.458280Z"
    },
    "papermill": {
     "duration": 1.105149,
     "end_time": "2025-06-06T11:13:11.470013",
     "exception": false,
     "start_time": "2025-06-06T11:13:10.364864",
     "status": "completed"
    },
    "tags": []
   },
   "outputs": [
    {
     "data": {
      "text/html": [
       "<div>\n",
       "<style scoped>\n",
       "    .dataframe tbody tr th:only-of-type {\n",
       "        vertical-align: middle;\n",
       "    }\n",
       "\n",
       "    .dataframe tbody tr th {\n",
       "        vertical-align: top;\n",
       "    }\n",
       "\n",
       "    .dataframe thead th {\n",
       "        text-align: right;\n",
       "    }\n",
       "</style>\n",
       "<table border=\"1\" class=\"dataframe\">\n",
       "  <thead>\n",
       "    <tr style=\"text-align: right;\">\n",
       "      <th></th>\n",
       "      <th>日期</th>\n",
       "      <th>股票编号</th>\n",
       "      <th>上证综合情绪值</th>\n",
       "      <th>沪深300情绪值</th>\n",
       "      <th>创业板情绪值</th>\n",
       "      <th>交易量</th>\n",
       "      <th>收益率变化</th>\n",
       "    </tr>\n",
       "  </thead>\n",
       "  <tbody>\n",
       "    <tr>\n",
       "      <th>0</th>\n",
       "      <td>2021-06-01</td>\n",
       "      <td>000002</td>\n",
       "      <td>-0.500000</td>\n",
       "      <td>-0.500000</td>\n",
       "      <td>-0.500000</td>\n",
       "      <td>60990961.0</td>\n",
       "      <td>-0.003745</td>\n",
       "    </tr>\n",
       "    <tr>\n",
       "      <th>1</th>\n",
       "      <td>2021-06-08</td>\n",
       "      <td>000002</td>\n",
       "      <td>1.000000</td>\n",
       "      <td>1.000000</td>\n",
       "      <td>1.000000</td>\n",
       "      <td>44676494.0</td>\n",
       "      <td>0.004626</td>\n",
       "    </tr>\n",
       "    <tr>\n",
       "      <th>2</th>\n",
       "      <td>2021-06-10</td>\n",
       "      <td>000002</td>\n",
       "      <td>-0.333333</td>\n",
       "      <td>-0.333333</td>\n",
       "      <td>-0.333333</td>\n",
       "      <td>53800776.0</td>\n",
       "      <td>-0.010035</td>\n",
       "    </tr>\n",
       "    <tr>\n",
       "      <th>3</th>\n",
       "      <td>2021-06-11</td>\n",
       "      <td>000002</td>\n",
       "      <td>0.000000</td>\n",
       "      <td>0.000000</td>\n",
       "      <td>0.000000</td>\n",
       "      <td>75853738.0</td>\n",
       "      <td>-0.014035</td>\n",
       "    </tr>\n",
       "    <tr>\n",
       "      <th>4</th>\n",
       "      <td>2021-06-15</td>\n",
       "      <td>000002</td>\n",
       "      <td>-1.000000</td>\n",
       "      <td>-1.000000</td>\n",
       "      <td>-1.000000</td>\n",
       "      <td>89915501.0</td>\n",
       "      <td>-0.020957</td>\n",
       "    </tr>\n",
       "    <tr>\n",
       "      <th>...</th>\n",
       "      <td>...</td>\n",
       "      <td>...</td>\n",
       "      <td>...</td>\n",
       "      <td>...</td>\n",
       "      <td>...</td>\n",
       "      <td>...</td>\n",
       "      <td>...</td>\n",
       "    </tr>\n",
       "    <tr>\n",
       "      <th>85724</th>\n",
       "      <td>2024-11-12</td>\n",
       "      <td>688981</td>\n",
       "      <td>0.111111</td>\n",
       "      <td>0.111111</td>\n",
       "      <td>0.111111</td>\n",
       "      <td>108866759.0</td>\n",
       "      <td>-0.036864</td>\n",
       "    </tr>\n",
       "    <tr>\n",
       "      <th>85725</th>\n",
       "      <td>2024-11-13</td>\n",
       "      <td>688981</td>\n",
       "      <td>0.300000</td>\n",
       "      <td>0.300000</td>\n",
       "      <td>0.300000</td>\n",
       "      <td>80759477.0</td>\n",
       "      <td>-0.019484</td>\n",
       "    </tr>\n",
       "    <tr>\n",
       "      <th>85726</th>\n",
       "      <td>2024-11-14</td>\n",
       "      <td>688981</td>\n",
       "      <td>0.200000</td>\n",
       "      <td>0.200000</td>\n",
       "      <td>0.200000</td>\n",
       "      <td>76194102.0</td>\n",
       "      <td>-0.022897</td>\n",
       "    </tr>\n",
       "    <tr>\n",
       "      <th>85727</th>\n",
       "      <td>2024-11-15</td>\n",
       "      <td>688981</td>\n",
       "      <td>0.250000</td>\n",
       "      <td>0.250000</td>\n",
       "      <td>0.250000</td>\n",
       "      <td>71066743.0</td>\n",
       "      <td>-0.020233</td>\n",
       "    </tr>\n",
       "    <tr>\n",
       "      <th>85728</th>\n",
       "      <td>2024-11-18</td>\n",
       "      <td>688981</td>\n",
       "      <td>0.333333</td>\n",
       "      <td>0.333333</td>\n",
       "      <td>0.333333</td>\n",
       "      <td>82897403.0</td>\n",
       "      <td>-0.027500</td>\n",
       "    </tr>\n",
       "  </tbody>\n",
       "</table>\n",
       "<p>85729 rows × 7 columns</p>\n",
       "</div>"
      ],
      "text/plain": [
       "               日期    股票编号   上证综合情绪值  沪深300情绪值    创业板情绪值          交易量     收益率变化\n",
       "0      2021-06-01  000002 -0.500000 -0.500000 -0.500000   60990961.0 -0.003745\n",
       "1      2021-06-08  000002  1.000000  1.000000  1.000000   44676494.0  0.004626\n",
       "2      2021-06-10  000002 -0.333333 -0.333333 -0.333333   53800776.0 -0.010035\n",
       "3      2021-06-11  000002  0.000000  0.000000  0.000000   75853738.0 -0.014035\n",
       "4      2021-06-15  000002 -1.000000 -1.000000 -1.000000   89915501.0 -0.020957\n",
       "...           ...     ...       ...       ...       ...          ...       ...\n",
       "85724  2024-11-12  688981  0.111111  0.111111  0.111111  108866759.0 -0.036864\n",
       "85725  2024-11-13  688981  0.300000  0.300000  0.300000   80759477.0 -0.019484\n",
       "85726  2024-11-14  688981  0.200000  0.200000  0.200000   76194102.0 -0.022897\n",
       "85727  2024-11-15  688981  0.250000  0.250000  0.250000   71066743.0 -0.020233\n",
       "85728  2024-11-18  688981  0.333333  0.333333  0.333333   82897403.0 -0.027500\n",
       "\n",
       "[85729 rows x 7 columns]"
      ]
     },
     "execution_count": 8,
     "metadata": {},
     "output_type": "execute_result"
    }
   ],
   "source": [
    "# Step 1: 对情绪值列进行 Min-Max 标准化\n",
    "def min_max_normalization(df, cols):\n",
    "    for col in cols:\n",
    "        min_val = df[col].min()\n",
    "        max_val = df[col].max()\n",
    "        df[col] = 2 * (df[col] - min_val) / (max_val - min_val) - 1\n",
    "    return df\n",
    "\n",
    "# Step 2: 对每个股票编号的数据进行标准化和按日期汇总\n",
    "def process_data(df):\n",
    "    df_processed = pd.DataFrame()  # 用于存储结果\n",
    "    for stock_code, stock_data in df.groupby('股票编号'):\n",
    "        # 对每个股票编号内的数据进行标准化\n",
    "        stock_data = min_max_normalization(stock_data, ['上证综合情绪值', '沪深300情绪值', '创业板情绪值'])\n",
    "        \n",
    "        # 按日期汇总数据，同时保留股票编号\n",
    "        stock_summary = stock_data.groupby('日期').agg({\n",
    "            '股票编号': 'first',  # 保留股票编号（在同一日期内它是相同的，使用 'first'）\n",
    "            '上证综合情绪值': 'mean',  # 上证综合情绪值按日期取均值\n",
    "            '沪深300情绪值': 'mean',  # 沪深300情绪值按日期取均值\n",
    "            '创业板情绪值': 'mean',  # 创业板情绪值按日期取均值\n",
    "            '交易量': 'mean',  # 交易量按日期求和\n",
    "            '收益率变化': 'mean'  # 收益率变化按日期取均值\n",
    "        }).reset_index(drop=False)\n",
    "        \n",
    "        df_processed = pd.concat([df_processed, stock_summary], ignore_index=True)\n",
    "    \n",
    "    return df_processed\n",
    "\n",
    "# 调用处理函数\n",
    "final_data = process_data(merged_data)\n",
    "final_data"
   ]
  },
  {
   "cell_type": "markdown",
   "id": "62a7261b-838d-4aed-89de-2d2a7bad4a34",
   "metadata": {
    "papermill": {
     "duration": 0.041987,
     "end_time": "2025-06-06T11:13:11.724093",
     "exception": false,
     "start_time": "2025-06-06T11:13:11.682106",
     "status": "completed"
    },
    "tags": []
   },
   "source": [
    "## DTW 聚类"
   ]
  },
  {
   "cell_type": "code",
   "execution_count": 9,
   "id": "5d08cbc2-416e-4b1d-8d5f-1dc5b2e752e9",
   "metadata": {
    "execution": {
     "iopub.execute_input": "2025-06-06T11:13:12.027182Z",
     "iopub.status.busy": "2025-06-06T11:13:12.026858Z",
     "iopub.status.idle": "2025-06-06T11:13:12.542380Z",
     "shell.execute_reply": "2025-06-06T11:13:12.541720Z"
    },
    "papermill": {
     "duration": 0.707935,
     "end_time": "2025-06-06T11:13:12.614766",
     "exception": false,
     "start_time": "2025-06-06T11:13:11.906831",
     "status": "completed"
    },
    "tags": []
   },
   "outputs": [],
   "source": [
    "# 选择需要的列\n",
    "dtw_df = final_data[['日期', '股票编号', emo_index, '收益率变化']]\n",
    "\n",
    "# 按照股票编号和日期排序\n",
    "dtw_df = dtw_df.sort_values(by=['股票编号', '日期'])\n",
    "\n",
    "# 创建一个以股票编号为键，日期为时间序列的字典\n",
    "stock_data = {}\n",
    "if data_number > len(dtw_df['股票编号'].unique()):\n",
    "    data_number = len(dtw_df['股票编号'].unique())\n",
    "for stock in dtw_df['股票编号'].unique()[:data_number]:\n",
    "    stock_data[stock] = dtw_df[dtw_df['股票编号'] == stock][['日期', emo_index, '收益率变化']].reset_index(drop=True)"
   ]
  },
  {
   "cell_type": "code",
   "execution_count": 10,
   "id": "ef011a8d-b310-4eed-a36d-358b7caf3dd6",
   "metadata": {
    "execution": {
     "iopub.execute_input": "2025-06-06T11:13:12.730807Z",
     "iopub.status.busy": "2025-06-06T11:13:12.730473Z",
     "iopub.status.idle": "2025-06-06T11:14:53.485110Z",
     "shell.execute_reply": "2025-06-06T11:14:53.484518Z"
    },
    "papermill": {
     "duration": 100.822855,
     "end_time": "2025-06-06T11:14:53.490282",
     "exception": false,
     "start_time": "2025-06-06T11:13:12.667427",
     "status": "completed"
    },
    "tags": []
   },
   "outputs": [
    {
     "name": "stderr",
     "output_type": "stream",
     "text": [
      "\r",
      "计算 DTW 距离:   0%|          | 0/50 [00:00<?, ?股票/s]"
     ]
    },
    {
     "name": "stderr",
     "output_type": "stream",
     "text": [
      "\r",
      "计算 DTW 距离:   2%|▏         | 1/50 [00:05<04:37,  5.67s/股票]"
     ]
    },
    {
     "name": "stderr",
     "output_type": "stream",
     "text": [
      "\r",
      "计算 DTW 距离:   4%|▍         | 2/50 [00:08<03:01,  3.78s/股票]"
     ]
    },
    {
     "name": "stderr",
     "output_type": "stream",
     "text": [
      "\r",
      "计算 DTW 距离:   6%|▌         | 3/50 [00:12<03:12,  4.10s/股票]"
     ]
    },
    {
     "name": "stderr",
     "output_type": "stream",
     "text": [
      "\r",
      "计算 DTW 距离:   8%|▊         | 4/50 [00:15<02:48,  3.66s/股票]"
     ]
    },
    {
     "name": "stderr",
     "output_type": "stream",
     "text": [
      "\r",
      "计算 DTW 距离:  10%|█         | 5/50 [00:20<02:57,  3.95s/股票]"
     ]
    },
    {
     "name": "stderr",
     "output_type": "stream",
     "text": [
      "\r",
      "计算 DTW 距离:  12%|█▏        | 6/50 [00:24<03:01,  4.12s/股票]"
     ]
    },
    {
     "name": "stderr",
     "output_type": "stream",
     "text": [
      "\r",
      "计算 DTW 距离:  14%|█▍        | 7/50 [00:27<02:37,  3.66s/股票]"
     ]
    },
    {
     "name": "stderr",
     "output_type": "stream",
     "text": [
      "\r",
      "计算 DTW 距离:  16%|█▌        | 8/50 [00:31<02:39,  3.79s/股票]"
     ]
    },
    {
     "name": "stderr",
     "output_type": "stream",
     "text": [
      "\r",
      "计算 DTW 距离:  18%|█▊        | 9/50 [00:35<02:38,  3.87s/股票]"
     ]
    },
    {
     "name": "stderr",
     "output_type": "stream",
     "text": [
      "\r",
      "计算 DTW 距离:  20%|██        | 10/50 [00:38<02:31,  3.80s/股票]"
     ]
    },
    {
     "name": "stderr",
     "output_type": "stream",
     "text": [
      "\r",
      "计算 DTW 距离:  22%|██▏       | 11/50 [00:42<02:19,  3.57s/股票]"
     ]
    },
    {
     "name": "stderr",
     "output_type": "stream",
     "text": [
      "\r",
      "计算 DTW 距离:  24%|██▍       | 12/50 [00:45<02:15,  3.57s/股票]"
     ]
    },
    {
     "name": "stderr",
     "output_type": "stream",
     "text": [
      "\r",
      "计算 DTW 距离:  26%|██▌       | 13/50 [00:49<02:11,  3.55s/股票]"
     ]
    },
    {
     "name": "stderr",
     "output_type": "stream",
     "text": [
      "\r",
      "计算 DTW 距离:  28%|██▊       | 14/50 [00:52<02:07,  3.54s/股票]"
     ]
    },
    {
     "name": "stderr",
     "output_type": "stream",
     "text": [
      "\r",
      "计算 DTW 距离:  30%|███       | 15/50 [00:54<01:49,  3.14s/股票]"
     ]
    },
    {
     "name": "stderr",
     "output_type": "stream",
     "text": [
      "\r",
      "计算 DTW 距离:  32%|███▏      | 16/50 [00:56<01:30,  2.67s/股票]"
     ]
    },
    {
     "name": "stderr",
     "output_type": "stream",
     "text": [
      "\r",
      "计算 DTW 距离:  34%|███▍      | 17/50 [00:58<01:23,  2.53s/股票]"
     ]
    },
    {
     "name": "stderr",
     "output_type": "stream",
     "text": [
      "\r",
      "计算 DTW 距离:  36%|███▌      | 18/50 [01:00<01:16,  2.38s/股票]"
     ]
    },
    {
     "name": "stderr",
     "output_type": "stream",
     "text": [
      "\r",
      "计算 DTW 距离:  38%|███▊      | 19/50 [01:02<01:12,  2.34s/股票]"
     ]
    },
    {
     "name": "stderr",
     "output_type": "stream",
     "text": [
      "\r",
      "计算 DTW 距离:  40%|████      | 20/50 [01:05<01:08,  2.30s/股票]"
     ]
    },
    {
     "name": "stderr",
     "output_type": "stream",
     "text": [
      "\r",
      "计算 DTW 距离:  42%|████▏     | 21/50 [01:07<01:09,  2.39s/股票]"
     ]
    },
    {
     "name": "stderr",
     "output_type": "stream",
     "text": [
      "\r",
      "计算 DTW 距离:  44%|████▍     | 22/50 [01:09<01:04,  2.31s/股票]"
     ]
    },
    {
     "name": "stderr",
     "output_type": "stream",
     "text": [
      "\r",
      "计算 DTW 距离:  46%|████▌     | 23/50 [01:11<00:58,  2.16s/股票]"
     ]
    },
    {
     "name": "stderr",
     "output_type": "stream",
     "text": [
      "\r",
      "计算 DTW 距离:  48%|████▊     | 24/50 [01:13<00:53,  2.07s/股票]"
     ]
    },
    {
     "name": "stderr",
     "output_type": "stream",
     "text": [
      "\r",
      "计算 DTW 距离:  50%|█████     | 25/50 [01:15<00:54,  2.18s/股票]"
     ]
    },
    {
     "name": "stderr",
     "output_type": "stream",
     "text": [
      "\r",
      "计算 DTW 距离:  52%|█████▏    | 26/50 [01:18<00:53,  2.21s/股票]"
     ]
    },
    {
     "name": "stderr",
     "output_type": "stream",
     "text": [
      "\r",
      "计算 DTW 距离:  54%|█████▍    | 27/50 [01:20<00:48,  2.13s/股票]"
     ]
    },
    {
     "name": "stderr",
     "output_type": "stream",
     "text": [
      "\r",
      "计算 DTW 距离:  56%|█████▌    | 28/50 [01:22<00:45,  2.05s/股票]"
     ]
    },
    {
     "name": "stderr",
     "output_type": "stream",
     "text": [
      "\r",
      "计算 DTW 距离:  58%|█████▊    | 29/50 [01:23<00:38,  1.85s/股票]"
     ]
    },
    {
     "name": "stderr",
     "output_type": "stream",
     "text": [
      "\r",
      "计算 DTW 距离:  60%|██████    | 30/50 [01:25<00:35,  1.79s/股票]"
     ]
    },
    {
     "name": "stderr",
     "output_type": "stream",
     "text": [
      "\r",
      "计算 DTW 距离:  62%|██████▏   | 31/50 [01:26<00:30,  1.61s/股票]"
     ]
    },
    {
     "name": "stderr",
     "output_type": "stream",
     "text": [
      "\r",
      "计算 DTW 距离:  64%|██████▍   | 32/50 [01:27<00:28,  1.57s/股票]"
     ]
    },
    {
     "name": "stderr",
     "output_type": "stream",
     "text": [
      "\r",
      "计算 DTW 距离:  66%|██████▌   | 33/50 [01:29<00:26,  1.56s/股票]"
     ]
    },
    {
     "name": "stderr",
     "output_type": "stream",
     "text": [
      "\r",
      "计算 DTW 距离:  68%|██████▊   | 34/50 [01:30<00:24,  1.54s/股票]"
     ]
    },
    {
     "name": "stderr",
     "output_type": "stream",
     "text": [
      "\r",
      "计算 DTW 距离:  70%|███████   | 35/50 [01:31<00:21,  1.45s/股票]"
     ]
    },
    {
     "name": "stderr",
     "output_type": "stream",
     "text": [
      "\r",
      "计算 DTW 距离:  72%|███████▏  | 36/50 [01:33<00:20,  1.44s/股票]"
     ]
    },
    {
     "name": "stderr",
     "output_type": "stream",
     "text": [
      "\r",
      "计算 DTW 距离:  74%|███████▍  | 37/50 [01:34<00:15,  1.22s/股票]"
     ]
    },
    {
     "name": "stderr",
     "output_type": "stream",
     "text": [
      "\r",
      "计算 DTW 距离:  76%|███████▌  | 38/50 [01:35<00:14,  1.20s/股票]"
     ]
    },
    {
     "name": "stderr",
     "output_type": "stream",
     "text": [
      "\r",
      "计算 DTW 距离:  78%|███████▊  | 39/50 [01:36<00:11,  1.07s/股票]"
     ]
    },
    {
     "name": "stderr",
     "output_type": "stream",
     "text": [
      "\r",
      "计算 DTW 距离:  80%|████████  | 40/50 [01:36<00:09,  1.10股票/s]"
     ]
    },
    {
     "name": "stderr",
     "output_type": "stream",
     "text": [
      "\r",
      "计算 DTW 距离:  82%|████████▏ | 41/50 [01:37<00:07,  1.14股票/s]"
     ]
    },
    {
     "name": "stderr",
     "output_type": "stream",
     "text": [
      "\r",
      "计算 DTW 距离:  84%|████████▍ | 42/50 [01:38<00:06,  1.16股票/s]"
     ]
    },
    {
     "name": "stderr",
     "output_type": "stream",
     "text": [
      "\r",
      "计算 DTW 距离:  86%|████████▌ | 43/50 [01:38<00:05,  1.30股票/s]"
     ]
    },
    {
     "name": "stderr",
     "output_type": "stream",
     "text": [
      "\r",
      "计算 DTW 距离:  88%|████████▊ | 44/50 [01:39<00:04,  1.48股票/s]"
     ]
    },
    {
     "name": "stderr",
     "output_type": "stream",
     "text": [
      "\r",
      "计算 DTW 距离:  90%|█████████ | 45/50 [01:39<00:03,  1.52股票/s]"
     ]
    },
    {
     "name": "stderr",
     "output_type": "stream",
     "text": [
      "\r",
      "计算 DTW 距离:  92%|█████████▏| 46/50 [01:40<00:02,  1.88股票/s]"
     ]
    },
    {
     "name": "stderr",
     "output_type": "stream",
     "text": [
      "\r",
      "计算 DTW 距离:  94%|█████████▍| 47/50 [01:40<00:01,  2.27股票/s]"
     ]
    },
    {
     "name": "stderr",
     "output_type": "stream",
     "text": [
      "\r",
      "计算 DTW 距离:  96%|█████████▌| 48/50 [01:40<00:00,  2.87股票/s]"
     ]
    },
    {
     "name": "stderr",
     "output_type": "stream",
     "text": [
      "\r",
      "计算 DTW 距离: 100%|██████████| 50/50 [01:40<00:00,  2.01s/股票]"
     ]
    },
    {
     "name": "stderr",
     "output_type": "stream",
     "text": [
      "\n"
     ]
    }
   ],
   "source": [
    "if stage == '计算矩阵':\n",
    "    from tqdm import tqdm\n",
    "    from fastdtw import fastdtw\n",
    "    from scipy.spatial.distance import euclidean\n",
    "    \n",
    "    # 假设stock_data已经准备好了，stock_ids包含所有股票编号\n",
    "    stock_ids = list(stock_data.keys())\n",
    "    dtw_distances = np.zeros((len(stock_ids), len(stock_ids)))\n",
    "    \n",
    "    # 使用 tqdm 包装外层循环以显示进度条\n",
    "    for i, stock_i in tqdm(enumerate(stock_ids), total=len(stock_ids), desc=\"计算 DTW 距离\", unit=\"股票\"):\n",
    "        for j, stock_j in enumerate(stock_ids):\n",
    "            if i < j:\n",
    "                series_i = stock_data[stock_i][[emo_index, '收益率变化']].values\n",
    "                series_j = stock_data[stock_j][[emo_index, '收益率变化']].values\n",
    "                distance, _ = fastdtw(series_i, series_j, dist=euclidean)\n",
    "                dtw_distances[i, j] = distance\n",
    "                dtw_distances[j, i] = distance  # 对称距离矩阵\n",
    "    \n",
    "    \n",
    "    if emo_index == '上证综合情绪值':\n",
    "        print(f'{ROOT_PATH}/{Clustering_Method}/个股分析/{data_number}/{model}/个股分析_上证综合')\n",
    "        os.makedirs(f'{ROOT_PATH}/{Clustering_Method}/个股分析/{data_number}/{model}/个股分析_上证综合', exist_ok=True)\n",
    "        np.save(f'{ROOT_PATH}/{Clustering_Method}/个股分析/{model}/个股分析_上证综合/dtw_distances.npy', dtw_distances)\n",
    "    if emo_index == '沪深300情绪值':\n",
    "        os.makedirs(f'{ROOT_PATH}/{Clustering_Method}/个股分析/{data_number}/{model}/个股分析_沪深300', exist_ok=True)\n",
    "        np.save(f'{ROOT_PATH}/{Clustering_Method}/个股分析/{data_number}/{model}/个股分析_沪深300/dtw_distances.npy', dtw_distances)\n",
    "    if emo_index == '创业板情绪值':\n",
    "        os.makedirs(f'{ROOT_PATH}/{Clustering_Method}/个股分析/{data_number}/{model}/个股分析_创业板', exist_ok=True)\n",
    "        np.save(f'{ROOT_PATH}/{Clustering_Method}/个股分析/{data_number}/{model}/个股分析_创业板/dtw_distances.npy', dtw_distances)"
   ]
  },
  {
   "cell_type": "code",
   "execution_count": 11,
   "id": "f798b7fe-a204-4b5b-9ae7-b7b6c1d1f5ab",
   "metadata": {
    "execution": {
     "iopub.execute_input": "2025-06-06T11:14:53.636395Z",
     "iopub.status.busy": "2025-06-06T11:14:53.635845Z",
     "iopub.status.idle": "2025-06-06T11:14:53.641992Z",
     "shell.execute_reply": "2025-06-06T11:14:53.641342Z"
    },
    "papermill": {
     "duration": 0.102267,
     "end_time": "2025-06-06T11:14:53.672215",
     "exception": false,
     "start_time": "2025-06-06T11:14:53.569948",
     "status": "completed"
    },
    "tags": []
   },
   "outputs": [],
   "source": [
    "# 读取 DTW 距离矩阵\n",
    "stock_ids = list(stock_data.keys())\n",
    "if emo_index == '上证综合情绪值':\n",
    "    dtw_distances = np.load(f'{ROOT_PATH}/{Clustering_Method}/个股分析/{data_number}/{model}/个股分析_上证综合/dtw_distances.npy')\n",
    "if emo_index == '沪深300情绪值':\n",
    "    dtw_distances = np.load(f'{ROOT_PATH}/{Clustering_Method}/个股分析/{data_number}/{model}/个股分析_沪深300/dtw_distances.npy')\n",
    "if emo_index == '创业板情绪值':\n",
    "    dtw_distances = np.load(f'{ROOT_PATH}/{Clustering_Method}/个股分析/{data_number}/{model}/个股分析_创业板/dtw_distances.npy')"
   ]
  },
  {
   "cell_type": "code",
   "execution_count": 12,
   "id": "248e3754-77bf-4768-8d9c-382617bab423",
   "metadata": {
    "execution": {
     "iopub.execute_input": "2025-06-06T11:14:53.751118Z",
     "iopub.status.busy": "2025-06-06T11:14:53.750820Z",
     "iopub.status.idle": "2025-06-06T11:14:54.407857Z",
     "shell.execute_reply": "2025-06-06T11:14:54.407296Z"
    },
    "papermill": {
     "duration": 0.680937,
     "end_time": "2025-06-06T11:14:54.408744",
     "exception": false,
     "start_time": "2025-06-06T11:14:53.727807",
     "status": "completed"
    },
    "tags": []
   },
   "outputs": [
    {
     "data": {
      "text/plain": [
       "{'000002': np.int32(2),\n",
       " '000061': np.int32(0),\n",
       " '000063': np.int32(2),\n",
       " '000069': np.int32(0),\n",
       " '000100': np.int32(1),\n",
       " '000333': np.int32(1),\n",
       " '000513': np.int32(0),\n",
       " '000625': np.int32(2),\n",
       " '000651': np.int32(2),\n",
       " '000661': np.int32(1),\n",
       " '000681': np.int32(0),\n",
       " '000723': np.int32(2),\n",
       " '000725': np.int32(2),\n",
       " '000858': np.int32(2),\n",
       " '000895': np.int32(0),\n",
       " '000910': np.int32(0),\n",
       " '000937': np.int32(0),\n",
       " '000999': np.int32(0),\n",
       " '001979': np.int32(0),\n",
       " '002008': np.int32(0),\n",
       " '002024': np.int32(1),\n",
       " '002065': np.int32(0),\n",
       " '002142': np.int32(0),\n",
       " '002202': np.int32(0),\n",
       " '002230': np.int32(1),\n",
       " '002241': np.int32(2),\n",
       " '002271': np.int32(1),\n",
       " '002304': np.int32(1),\n",
       " '002368': np.int32(0),\n",
       " '002371': np.int32(2),\n",
       " '002387': np.int32(0),\n",
       " '002415': np.int32(0),\n",
       " '002460': np.int32(2),\n",
       " '002466': np.int32(2),\n",
       " '002475': np.int32(1),\n",
       " '002594': np.int32(2),\n",
       " '003816': np.int32(0),\n",
       " '300002': np.int32(1),\n",
       " '300003': np.int32(0),\n",
       " '300012': np.int32(0),\n",
       " '300014': np.int32(1),\n",
       " '300015': np.int32(2),\n",
       " '300027': np.int32(2),\n",
       " '300037': np.int32(0),\n",
       " '300059': np.int32(1),\n",
       " '300070': np.int32(0),\n",
       " '300122': np.int32(0),\n",
       " '300124': np.int32(0),\n",
       " '300136': np.int32(0),\n",
       " '300142': np.int32(2)}"
      ]
     },
     "execution_count": 12,
     "metadata": {},
     "output_type": "execute_result"
    }
   ],
   "source": [
    "from sklearn.cluster import KMeans\n",
    "\n",
    "# KMeans 聚类\n",
    "kmeans = KMeans(n_clusters=3, init='k-means++', random_state=42)\n",
    "clusters = kmeans.fit_predict(dtw_distances)\n",
    "\n",
    "# 查看每个股票的聚类结果\n",
    "stock_clusters = {stock_ids[i]: clusters[i] for i in range(len(stock_ids))}\n",
    "\n",
    "# 创建一个 DataFrame 来保存股票编号与对应的聚类标签\n",
    "stock_clusters_df = pd.DataFrame({\n",
    "    '股票编号': stock_ids,\n",
    "    '聚类标签': clusters\n",
    "})\n",
    "if emo_index == '上证综合情绪值':\n",
    "    stock_clusters_df.to_csv(f'{ROOT_PATH}/{Clustering_Method}/个股分析/{data_number}/{model}/个股分析_上证综合/clusters_results.csv', index=False, encoding='utf-8')\n",
    "if emo_index == '沪深300情绪值':\n",
    "    stock_clusters_df.to_csv(f'{ROOT_PATH}/{Clustering_Method}/个股分析/{data_number}/{model}/个股分析_沪深300/clusters_results.csv', index=False, encoding='utf-8')\n",
    "if emo_index == '创业板情绪值':\n",
    "    stock_clusters_df.to_csv(f'{ROOT_PATH}/{Clustering_Method}/个股分析/{data_number}/{model}/个股分析_创业板/clusters_results.csv', index=False, encoding='utf-8')\n",
    "stock_clusters\n"
   ]
  },
  {
   "cell_type": "code",
   "execution_count": 13,
   "id": "7cd1419f-73a5-465c-b919-39ee7fd56d1b",
   "metadata": {
    "execution": {
     "iopub.execute_input": "2025-06-06T11:14:54.424743Z",
     "iopub.status.busy": "2025-06-06T11:14:54.424232Z",
     "iopub.status.idle": "2025-06-06T11:14:54.645023Z",
     "shell.execute_reply": "2025-06-06T11:14:54.644438Z"
    },
    "papermill": {
     "duration": 0.230145,
     "end_time": "2025-06-06T11:14:54.647837",
     "exception": false,
     "start_time": "2025-06-06T11:14:54.417692",
     "status": "completed"
    },
    "tags": []
   },
   "outputs": [
    {
     "data": {
      "image/png": "[encoded data removed]",
      "text/plain": [
       "<Figure size 640x480 with 2 Axes>"
      ]
     },
     "metadata": {},
     "output_type": "display_data"
    }
   ],
   "source": [
    "import matplotlib.pyplot as plt\n",
    "from sklearn.decomposition import PCA\n",
    "\n",
    "# 使用PCA将高维的DTW距离降到2D\n",
    "pca = PCA(n_components=2)\n",
    "dtw_distances_2d = pca.fit_transform(dtw_distances)\n",
    "\n",
    "# 创建聚类结果的散点图\n",
    "plt.scatter(dtw_distances_2d[:, 0], dtw_distances_2d[:, 1], c=clusters, cmap='viridis')\n",
    "plt.colorbar()\n",
    "plt.title('DTW Clustering of Stocks')\n",
    "if emo_index == '上证综合情绪值':\n",
    "    plt.savefig(f'{ROOT_PATH}/{Clustering_Method}/个股分析/{data_number}/{model}/个股分析_上证综合/DTW_Clustering_of_Stocks3')\n",
    "if emo_index == '沪深300情绪值':\n",
    "    plt.savefig(f'{ROOT_PATH}/{Clustering_Method}/个股分析/{data_number}/{model}/个股分析_沪深300/DTW_Clustering_of_Stocks3')\n",
    "if emo_index == '创业板情绪值':\n",
    "    plt.savefig(f'{ROOT_PATH}/{Clustering_Method}/个股分析/{data_number}/{model}/个股分析_创业板/DTW_Clustering_of_Stocks3')\n",
    "plt.show()\n"
   ]
  },
  {
   "cell_type": "code",
   "execution_count": 14,
   "id": "ffe346c4-4156-4138-ac71-d641999d304e",
   "metadata": {
    "execution": {
     "iopub.execute_input": "2025-06-06T11:14:54.684003Z",
     "iopub.status.busy": "2025-06-06T11:14:54.683789Z",
     "iopub.status.idle": "2025-06-06T11:14:56.815452Z",
     "shell.execute_reply": "2025-06-06T11:14:56.814914Z"
    },
    "papermill": {
     "duration": 2.150309,
     "end_time": "2025-06-06T11:14:56.816807",
     "exception": false,
     "start_time": "2025-06-06T11:14:54.666498",
     "status": "completed"
    },
    "scrolled": true,
    "tags": []
   },
   "outputs": [
    {
     "name": "stderr",
     "output_type": "stream",
     "text": [
      "/tmp/ipykernel_2034208/3646053049.py:46: UserWarning: Tight layout not applied. The left and right margins cannot be made large enough to accommodate all Axes decorations.\n",
      "  plt.tight_layout()\n"
     ]
    }
   ],
   "source": [
    "import matplotlib.pyplot as plt\n",
    "from mpl_toolkits.mplot3d import Axes3D\n",
    "import matplotlib.dates as mdates\n",
    "\n",
    "# 假设 final_data 已经加载并经过清洗处理\n",
    "merged_data_cleaned = final_data.copy()\n",
    "\n",
    "# 将日期列转换为 datetime 类型（确保时间格式正确）\n",
    "merged_data_cleaned['日期'] = pd.to_datetime(merged_data_cleaned['日期'])\n",
    "\n",
    "# 设置绘图窗口，一行三列的子图\n",
    "fig, axes = plt.subplots(3, 1, figsize=(50, 50), subplot_kw={'projection': '3d'})\n",
    "\n",
    "# 情绪值列名列表\n",
    "emotion_columns = ['上证综合情绪值', '沪深300情绪值', '创业板情绪值']\n",
    "\n",
    "# 遍历每个情绪值列\n",
    "for i, emotion_col in enumerate(emotion_columns):\n",
    "    ax = axes[i]\n",
    "    \n",
    "    # 按股票编号分组\n",
    "    for stock_code, stock_data in merged_data_cleaned.groupby('股票编号'):\n",
    "        if stock_code == '000002':  # 如果只关心股票编号为 '000002'\n",
    "            # 对每个股票编号绘制三维折线图\n",
    "            x = stock_data[emotion_col]  # 情绪值作为 x 轴\n",
    "            y = mdates.date2num(stock_data['日期'])  # 时间转换为数值类型，用于 y 轴\n",
    "            z = stock_data['收益率变化']  # 收益率变化作为 z 轴\n",
    "            \n",
    "            # 绘制三维折线图\n",
    "            ax.plot(x, y, z, label=f\"股票 {stock_code}\", marker='o', linestyle='-', alpha=0.7)\n",
    "\n",
    "    # 设置图表标签\n",
    "    ax.set_xlabel(emotion_col)\n",
    "    ax.set_ylabel('时间')\n",
    "    ax.set_zlabel('收益率变化')\n",
    "    ax.set_title(f'{emotion_col} 与收益率变化的三维关系')\n",
    "\n",
    "    # 设置 y 轴显示为半年显示一次\n",
    "    ax.yaxis.set_major_locator(mdates.MonthLocator(bymonthday=15, interval=6))  # 每半年一个刻度\n",
    "    ax.yaxis.set_major_formatter(mdates.DateFormatter('%Y-%m'))  # 按年月显示\n",
    "\n",
    "    # 自动旋转日期标签，防止重叠\n",
    "    fig.autofmt_xdate()\n",
    "\n",
    "# 调整布局\n",
    "plt.tight_layout()\n",
    "plt.savefig(f'{ROOT_PATH}/{Clustering_Method}/个股分析/{data_number}/{model}/万科A情绪股价时间序列数据')\n",
    "# plt.show()\n",
    "plt.close()"
   ]
  },
  {
   "cell_type": "markdown",
   "id": "7fcc99d8-77d8-4f04-b078-6f1909c9ea93",
   "metadata": {
    "papermill": {
     "duration": 0.010585,
     "end_time": "2025-06-06T11:14:56.837760",
     "exception": false,
     "start_time": "2025-06-06T11:14:56.827175",
     "status": "completed"
    },
    "tags": []
   },
   "source": [
    "## 数据集成"
   ]
  },
  {
   "cell_type": "code",
   "execution_count": 15,
   "id": "354a906d-b21f-44c4-a87f-f7e153aa1619",
   "metadata": {
    "execution": {
     "iopub.execute_input": "2025-06-06T11:14:56.859327Z",
     "iopub.status.busy": "2025-06-06T11:14:56.859003Z",
     "iopub.status.idle": "2025-06-06T11:14:56.888590Z",
     "shell.execute_reply": "2025-06-06T11:14:56.888121Z"
    },
    "papermill": {
     "duration": 0.041542,
     "end_time": "2025-06-06T11:14:56.889572",
     "exception": false,
     "start_time": "2025-06-06T11:14:56.848030",
     "status": "completed"
    },
    "tags": []
   },
   "outputs": [
    {
     "data": {
      "text/html": [
       "<div>\n",
       "<style scoped>\n",
       "    .dataframe tbody tr th:only-of-type {\n",
       "        vertical-align: middle;\n",
       "    }\n",
       "\n",
       "    .dataframe tbody tr th {\n",
       "        vertical-align: top;\n",
       "    }\n",
       "\n",
       "    .dataframe thead th {\n",
       "        text-align: right;\n",
       "    }\n",
       "</style>\n",
       "<table border=\"1\" class=\"dataframe\">\n",
       "  <thead>\n",
       "    <tr style=\"text-align: right;\">\n",
       "      <th></th>\n",
       "      <th>Stkcd</th>\n",
       "      <th>聚类标签</th>\n",
       "      <th>Stknme</th>\n",
       "    </tr>\n",
       "  </thead>\n",
       "  <tbody>\n",
       "    <tr>\n",
       "      <th>0</th>\n",
       "      <td>000002</td>\n",
       "      <td>2</td>\n",
       "      <td>万科A</td>\n",
       "    </tr>\n",
       "    <tr>\n",
       "      <th>1</th>\n",
       "      <td>000061</td>\n",
       "      <td>0</td>\n",
       "      <td>农产品</td>\n",
       "    </tr>\n",
       "    <tr>\n",
       "      <th>2</th>\n",
       "      <td>000063</td>\n",
       "      <td>2</td>\n",
       "      <td>中兴通讯</td>\n",
       "    </tr>\n",
       "    <tr>\n",
       "      <th>3</th>\n",
       "      <td>000069</td>\n",
       "      <td>0</td>\n",
       "      <td>华侨城A</td>\n",
       "    </tr>\n",
       "    <tr>\n",
       "      <th>4</th>\n",
       "      <td>000100</td>\n",
       "      <td>1</td>\n",
       "      <td>TCL科技</td>\n",
       "    </tr>\n",
       "    <tr>\n",
       "      <th>5</th>\n",
       "      <td>000333</td>\n",
       "      <td>1</td>\n",
       "      <td>美的集团</td>\n",
       "    </tr>\n",
       "    <tr>\n",
       "      <th>6</th>\n",
       "      <td>000513</td>\n",
       "      <td>0</td>\n",
       "      <td>丽珠集团</td>\n",
       "    </tr>\n",
       "    <tr>\n",
       "      <th>7</th>\n",
       "      <td>000625</td>\n",
       "      <td>2</td>\n",
       "      <td>长安汽车</td>\n",
       "    </tr>\n",
       "    <tr>\n",
       "      <th>8</th>\n",
       "      <td>000651</td>\n",
       "      <td>2</td>\n",
       "      <td>格力电器</td>\n",
       "    </tr>\n",
       "    <tr>\n",
       "      <th>9</th>\n",
       "      <td>000661</td>\n",
       "      <td>1</td>\n",
       "      <td>长春高新</td>\n",
       "    </tr>\n",
       "    <tr>\n",
       "      <th>10</th>\n",
       "      <td>000681</td>\n",
       "      <td>0</td>\n",
       "      <td>视觉中国</td>\n",
       "    </tr>\n",
       "    <tr>\n",
       "      <th>11</th>\n",
       "      <td>000723</td>\n",
       "      <td>2</td>\n",
       "      <td>美锦能源</td>\n",
       "    </tr>\n",
       "    <tr>\n",
       "      <th>12</th>\n",
       "      <td>000725</td>\n",
       "      <td>2</td>\n",
       "      <td>京东方A</td>\n",
       "    </tr>\n",
       "    <tr>\n",
       "      <th>13</th>\n",
       "      <td>000858</td>\n",
       "      <td>2</td>\n",
       "      <td>五粮液</td>\n",
       "    </tr>\n",
       "    <tr>\n",
       "      <th>14</th>\n",
       "      <td>000895</td>\n",
       "      <td>0</td>\n",
       "      <td>双汇发展</td>\n",
       "    </tr>\n",
       "    <tr>\n",
       "      <th>15</th>\n",
       "      <td>000910</td>\n",
       "      <td>0</td>\n",
       "      <td>大亚圣象</td>\n",
       "    </tr>\n",
       "    <tr>\n",
       "      <th>16</th>\n",
       "      <td>000937</td>\n",
       "      <td>0</td>\n",
       "      <td>冀中能源</td>\n",
       "    </tr>\n",
       "    <tr>\n",
       "      <th>17</th>\n",
       "      <td>000999</td>\n",
       "      <td>0</td>\n",
       "      <td>华润三九</td>\n",
       "    </tr>\n",
       "    <tr>\n",
       "      <th>18</th>\n",
       "      <td>001979</td>\n",
       "      <td>0</td>\n",
       "      <td>招商蛇口</td>\n",
       "    </tr>\n",
       "    <tr>\n",
       "      <th>19</th>\n",
       "      <td>002008</td>\n",
       "      <td>0</td>\n",
       "      <td>大族激光</td>\n",
       "    </tr>\n",
       "    <tr>\n",
       "      <th>20</th>\n",
       "      <td>002024</td>\n",
       "      <td>1</td>\n",
       "      <td>ST 易购</td>\n",
       "    </tr>\n",
       "    <tr>\n",
       "      <th>21</th>\n",
       "      <td>002065</td>\n",
       "      <td>0</td>\n",
       "      <td>东华软件</td>\n",
       "    </tr>\n",
       "    <tr>\n",
       "      <th>22</th>\n",
       "      <td>002142</td>\n",
       "      <td>0</td>\n",
       "      <td>宁波银行</td>\n",
       "    </tr>\n",
       "    <tr>\n",
       "      <th>23</th>\n",
       "      <td>002202</td>\n",
       "      <td>0</td>\n",
       "      <td>金风科技</td>\n",
       "    </tr>\n",
       "    <tr>\n",
       "      <th>24</th>\n",
       "      <td>002230</td>\n",
       "      <td>1</td>\n",
       "      <td>科大讯飞</td>\n",
       "    </tr>\n",
       "    <tr>\n",
       "      <th>25</th>\n",
       "      <td>002241</td>\n",
       "      <td>2</td>\n",
       "      <td>歌尔股份</td>\n",
       "    </tr>\n",
       "    <tr>\n",
       "      <th>26</th>\n",
       "      <td>002271</td>\n",
       "      <td>1</td>\n",
       "      <td>东方雨虹</td>\n",
       "    </tr>\n",
       "    <tr>\n",
       "      <th>27</th>\n",
       "      <td>002304</td>\n",
       "      <td>1</td>\n",
       "      <td>洋河股份</td>\n",
       "    </tr>\n",
       "    <tr>\n",
       "      <th>28</th>\n",
       "      <td>002368</td>\n",
       "      <td>0</td>\n",
       "      <td>太极股份</td>\n",
       "    </tr>\n",
       "    <tr>\n",
       "      <th>29</th>\n",
       "      <td>002371</td>\n",
       "      <td>2</td>\n",
       "      <td>北方华创</td>\n",
       "    </tr>\n",
       "    <tr>\n",
       "      <th>30</th>\n",
       "      <td>002387</td>\n",
       "      <td>0</td>\n",
       "      <td>维信诺</td>\n",
       "    </tr>\n",
       "    <tr>\n",
       "      <th>31</th>\n",
       "      <td>002415</td>\n",
       "      <td>0</td>\n",
       "      <td>海康威视</td>\n",
       "    </tr>\n",
       "    <tr>\n",
       "      <th>32</th>\n",
       "      <td>002460</td>\n",
       "      <td>2</td>\n",
       "      <td>赣锋锂业</td>\n",
       "    </tr>\n",
       "    <tr>\n",
       "      <th>33</th>\n",
       "      <td>002466</td>\n",
       "      <td>2</td>\n",
       "      <td>天齐锂业</td>\n",
       "    </tr>\n",
       "    <tr>\n",
       "      <th>34</th>\n",
       "      <td>002475</td>\n",
       "      <td>1</td>\n",
       "      <td>立讯精密</td>\n",
       "    </tr>\n",
       "    <tr>\n",
       "      <th>35</th>\n",
       "      <td>002594</td>\n",
       "      <td>2</td>\n",
       "      <td>比亚迪</td>\n",
       "    </tr>\n",
       "    <tr>\n",
       "      <th>36</th>\n",
       "      <td>003816</td>\n",
       "      <td>0</td>\n",
       "      <td>中国广核</td>\n",
       "    </tr>\n",
       "    <tr>\n",
       "      <th>37</th>\n",
       "      <td>300002</td>\n",
       "      <td>1</td>\n",
       "      <td>神州泰岳</td>\n",
       "    </tr>\n",
       "    <tr>\n",
       "      <th>38</th>\n",
       "      <td>300003</td>\n",
       "      <td>0</td>\n",
       "      <td>乐普医疗</td>\n",
       "    </tr>\n",
       "    <tr>\n",
       "      <th>39</th>\n",
       "      <td>300012</td>\n",
       "      <td>0</td>\n",
       "      <td>华测检测</td>\n",
       "    </tr>\n",
       "    <tr>\n",
       "      <th>40</th>\n",
       "      <td>300014</td>\n",
       "      <td>1</td>\n",
       "      <td>亿纬锂能</td>\n",
       "    </tr>\n",
       "    <tr>\n",
       "      <th>41</th>\n",
       "      <td>300015</td>\n",
       "      <td>2</td>\n",
       "      <td>爱尔眼科</td>\n",
       "    </tr>\n",
       "    <tr>\n",
       "      <th>42</th>\n",
       "      <td>300027</td>\n",
       "      <td>2</td>\n",
       "      <td>华谊兄弟</td>\n",
       "    </tr>\n",
       "    <tr>\n",
       "      <th>43</th>\n",
       "      <td>300037</td>\n",
       "      <td>0</td>\n",
       "      <td>新宙邦</td>\n",
       "    </tr>\n",
       "    <tr>\n",
       "      <th>44</th>\n",
       "      <td>300059</td>\n",
       "      <td>1</td>\n",
       "      <td>东方财富</td>\n",
       "    </tr>\n",
       "    <tr>\n",
       "      <th>45</th>\n",
       "      <td>300070</td>\n",
       "      <td>0</td>\n",
       "      <td>碧水源</td>\n",
       "    </tr>\n",
       "    <tr>\n",
       "      <th>46</th>\n",
       "      <td>300122</td>\n",
       "      <td>0</td>\n",
       "      <td>智飞生物</td>\n",
       "    </tr>\n",
       "    <tr>\n",
       "      <th>47</th>\n",
       "      <td>300124</td>\n",
       "      <td>0</td>\n",
       "      <td>汇川技术</td>\n",
       "    </tr>\n",
       "    <tr>\n",
       "      <th>48</th>\n",
       "      <td>300136</td>\n",
       "      <td>0</td>\n",
       "      <td>信维通信</td>\n",
       "    </tr>\n",
       "    <tr>\n",
       "      <th>49</th>\n",
       "      <td>300142</td>\n",
       "      <td>2</td>\n",
       "      <td>沃森生物</td>\n",
       "    </tr>\n",
       "  </tbody>\n",
       "</table>\n",
       "</div>"
      ],
      "text/plain": [
       "     Stkcd  聚类标签 Stknme\n",
       "0   000002     2    万科A\n",
       "1   000061     0    农产品\n",
       "2   000063     2   中兴通讯\n",
       "3   000069     0   华侨城A\n",
       "4   000100     1  TCL科技\n",
       "5   000333     1   美的集团\n",
       "6   000513     0   丽珠集团\n",
       "7   000625     2   长安汽车\n",
       "8   000651     2   格力电器\n",
       "9   000661     1   长春高新\n",
       "10  000681     0   视觉中国\n",
       "11  000723     2   美锦能源\n",
       "12  000725     2   京东方A\n",
       "13  000858     2    五粮液\n",
       "14  000895     0   双汇发展\n",
       "15  000910     0   大亚圣象\n",
       "16  000937     0   冀中能源\n",
       "17  000999     0   华润三九\n",
       "18  001979     0   招商蛇口\n",
       "19  002008     0   大族激光\n",
       "20  002024     1  ST 易购\n",
       "21  002065     0   东华软件\n",
       "22  002142     0   宁波银行\n",
       "23  002202     0   金风科技\n",
       "24  002230     1   科大讯飞\n",
       "25  002241     2   歌尔股份\n",
       "26  002271     1   东方雨虹\n",
       "27  002304     1   洋河股份\n",
       "28  002368     0   太极股份\n",
       "29  002371     2   北方华创\n",
       "30  002387     0    维信诺\n",
       "31  002415     0   海康威视\n",
       "32  002460     2   赣锋锂业\n",
       "33  002466     2   天齐锂业\n",
       "34  002475     1   立讯精密\n",
       "35  002594     2    比亚迪\n",
       "36  003816     0   中国广核\n",
       "37  300002     1   神州泰岳\n",
       "38  300003     0   乐普医疗\n",
       "39  300012     0   华测检测\n",
       "40  300014     1   亿纬锂能\n",
       "41  300015     2   爱尔眼科\n",
       "42  300027     2   华谊兄弟\n",
       "43  300037     0    新宙邦\n",
       "44  300059     1   东方财富\n",
       "45  300070     0    碧水源\n",
       "46  300122     0   智飞生物\n",
       "47  300124     0   汇川技术\n",
       "48  300136     0   信维通信\n",
       "49  300142     2   沃森生物"
      ]
     },
     "execution_count": 15,
     "metadata": {},
     "output_type": "execute_result"
    }
   ],
   "source": [
    "import pandas as pd\n",
    "\n",
    "# 读取两个CSV文件\n",
    "if emo_index == '上证综合情绪值':\n",
    "    cluster_df = pd.read_csv(f'{ROOT_PATH}/{Clustering_Method}/个股分析/{data_number}/{model}/个股分析_上证综合/clusters_results.csv', dtype={'股票编号': str})\n",
    "if emo_index == '沪深300情绪值':\n",
    "    cluster_df = pd.read_csv(f'{ROOT_PATH}/{Clustering_Method}/个股分析/{data_number}/{model}/个股分析_沪深300/clusters_results.csv', dtype={'股票编号': str})\n",
    "if emo_index == '创业板情绪值':\n",
    "    cluster_df = pd.read_csv(f'{ROOT_PATH}/{Clustering_Method}/个股分析/{data_number}/{model}/个股分析_创业板/clusters_results.csv', dtype={'股票编号': str})\n",
    "company_info_df = pd.read_csv(f'{Financial_Data_PATH}/中国公司代码.csv', dtype={'Stkcd': str})  # 假设第二个文件名为company_info.csv\n",
    "\n",
    "# 重命名列名，统一为 'Stkcd' 以便合并\n",
    "cluster_df = cluster_df.rename(columns={'股票编号': 'Stkcd'})\n",
    "\n",
    "# 显式统一合并键的数据类型\n",
    "cluster_df['Stkcd'] = cluster_df['Stkcd'].astype(str)\n",
    "company_info_df['Stkcd'] = company_info_df['Stkcd'].astype(str)\n",
    "\n",
    "# 合并前清除可能重复的列，防止冲突\n",
    "if 'Stknme' in cluster_df.columns:\n",
    "    cluster_df = cluster_df.drop(columns=['Stknme'])\n",
    "\n",
    "# 安全合并\n",
    "merged_df = pd.merge(cluster_df, company_info_df[['Stkcd', 'Stknme']], on='Stkcd', how='left')\n",
    "\n",
    "if emo_index == '上证综合情绪值':\n",
    "    merged_df.to_csv(f'{ROOT_PATH}/{Clustering_Method}/个股分析/{data_number}/{model}/个股分析_上证综合/clusters_results.csv', index=False)\n",
    "if emo_index == '沪深300情绪值':\n",
    "    merged_df.to_csv(f'{ROOT_PATH}/{Clustering_Method}/个股分析/{data_number}/{model}/个股分析_沪深300/clusters_results.csv', index=False)\n",
    "if emo_index == '创业板情绪值':\n",
    "    merged_df.to_csv(f'{ROOT_PATH}/{Clustering_Method}/个股分析/{data_number}/{model}/个股分析_创业板/clusters_results.csv', index=False)\n",
    "\n",
    "merged_df\n"
   ]
  },
  {
   "cell_type": "code",
   "execution_count": null,
   "id": "00b116a3-d2cf-4ab1-b287-ac857e9867f7",
   "metadata": {
    "papermill": {
     "duration": 0.010629,
     "end_time": "2025-06-06T11:14:56.911919",
     "exception": false,
     "start_time": "2025-06-06T11:14:56.901290",
     "status": "completed"
    },
    "tags": []
   },
   "outputs": [],
   "source": []
  },
  {
   "cell_type": "code",
   "execution_count": null,
   "id": "c2b75f69-0ebf-494f-9df5-9055cc5c6076",
   "metadata": {
    "papermill": {
     "duration": 0.00975,
     "end_time": "2025-06-06T11:14:56.931955",
     "exception": false,
     "start_time": "2025-06-06T11:14:56.922205",
     "status": "completed"
    },
    "tags": []
   },
   "outputs": [],
   "source": []
  }
 ],
 "metadata": {
  "kernelspec": {
   "display_name": "Python (z_env)",
   "language": "python",
   "name": "z_env"
  },
  "language_info": {
   "codemirror_mode": {
    "name": "ipython",
    "version": 3
   },
   "file_extension": ".py",
   "mimetype": "text/x-python",
   "name": "python",
   "nbconvert_exporter": "python",
   "pygments_lexer": "ipython3",
   "version": "3.12.9"
  },
  "papermill": {
   "default_parameters": {},
   "duration": 138.776851,
   "end_time": "2025-06-06T11:14:57.568022",
   "environment_variables": {},
   "exception": null,
   "input_path": "code.ipynb",
   "output_path": "output/50/Emo-Dict/Bian/沪深300情绪值.ipynb",
   "parameters": {
    "data_number": 50,
    "emo_index_id": 1,
    "model_id": 1,
    "stage_id": 0
   },
   "start_time": "2025-06-06T11:12:38.791171",
   "version": "2.6.0"
  }
 },
 "nbformat": 4,
 "nbformat_minor": 5
}