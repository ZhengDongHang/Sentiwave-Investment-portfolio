{
 "cells": [
  {
   "cell_type": "code",
   "execution_count": 1,
   "id": "44742dd4-6d00-4393-9e90-e3377728466c",
   "metadata": {
    "execution": {
     "iopub.execute_input": "2025-06-06T11:12:41.737379Z",
     "iopub.status.busy": "2025-06-06T11:12:41.737118Z",
     "iopub.status.idle": "2025-06-06T11:12:42.452379Z",
     "shell.execute_reply": "2025-06-06T11:12:42.451592Z"
    },
    "papermill": {
     "duration": 0.752043,
     "end_time": "2025-06-06T11:12:42.475661",
     "exception": false,
     "start_time": "2025-06-06T11:12:41.723618",
     "status": "completed"
    },
    "tags": []
   },
   "outputs": [],
   "source": [
    "import os\n",
    "import ast\n",
    "import random\n",
    "import pandas as pd\n",
    "import numpy as np\n",
    "import matplotlib.pyplot as plt\n",
    "%matplotlib inline\n",
    "plt.rcParams[\"font.sans-serif\"]=[\"WenQuanYi Micro Hei\"] #设置字体\n",
    "plt.rcParams[\"axes.unicode_minus\"]=False #该语句解决图像中的“-”负号的乱码问题\n",
    "\n",
    "# 禁止随机，结果可复现\n",
    "random.seed(42)\n",
    "np.random.seed(42)"
   ]
  },
  {
   "cell_type": "markdown",
   "id": "2f28196d-3421-4906-81cc-390066ca9c6f",
   "metadata": {
    "papermill": {
     "duration": 0.041077,
     "end_time": "2025-06-06T11:12:43.104494",
     "exception": false,
     "start_time": "2025-06-06T11:12:43.063417",
     "status": "completed"
    },
    "tags": []
   },
   "source": [
    "## 超参数选择"
   ]
  },
  {
   "cell_type": "code",
   "execution_count": 2,
   "id": "143a4727-3771-4244-8ed0-dc7ad04927bb",
   "metadata": {
    "execution": {
     "iopub.execute_input": "2025-06-06T11:12:43.971515Z",
     "iopub.status.busy": "2025-06-06T11:12:43.971057Z",
     "iopub.status.idle": "2025-06-06T11:12:43.975351Z",
     "shell.execute_reply": "2025-06-06T11:12:43.974673Z"
    },
    "papermill": {
     "duration": 0.146059,
     "end_time": "2025-06-06T11:12:44.028898",
     "exception": false,
     "start_time": "2025-06-06T11:12:43.882839",
     "status": "completed"
    },
    "tags": [
     "parameters"
    ]
   },
   "outputs": [],
   "source": [
    "# Parameters\n",
    "emo_index_id = 0\n",
    "stage_id = 0\n",
    "model_id = 0\n",
    "data_number = 20"
   ]
  },
  {
   "cell_type": "code",
   "execution_count": 3,
   "id": "121726a6",
   "metadata": {
    "execution": {
     "iopub.execute_input": "2025-06-06T11:12:45.069227Z",
     "iopub.status.busy": "2025-06-06T11:12:45.068800Z",
     "iopub.status.idle": "2025-06-06T11:12:45.074290Z",
     "shell.execute_reply": "2025-06-06T11:12:45.073223Z"
    },
    "papermill": {
     "duration": 0.180418,
     "end_time": "2025-06-06T11:12:45.135039",
     "exception": false,
     "start_time": "2025-06-06T11:12:44.954621",
     "status": "completed"
    },
    "tags": [
     "injected-parameters"
    ]
   },
   "outputs": [],
   "source": [
    "# Parameters\n",
    "emo_index_id = 2\n",
    "stage_id = 0\n",
    "model_id = 3\n",
    "data_number = 20\n"
   ]
  },
  {
   "cell_type": "code",
   "execution_count": 4,
   "id": "ed578f0b-2a2c-4fc5-954c-e4db8108e55d",
   "metadata": {
    "execution": {
     "iopub.execute_input": "2025-06-06T11:12:46.186923Z",
     "iopub.status.busy": "2025-06-06T11:12:46.185837Z",
     "iopub.status.idle": "2025-06-06T11:12:46.196989Z",
     "shell.execute_reply": "2025-06-06T11:12:46.195656Z"
    },
    "papermill": {
     "duration": 0.220904,
     "end_time": "2025-06-06T11:12:46.292506",
     "exception": false,
     "start_time": "2025-06-06T11:12:46.071602",
     "status": "completed"
    },
    "tags": []
   },
   "outputs": [
    {
     "name": "stdout",
     "output_type": "stream",
     "text": [
      "Running with: emo_index=创业板情绪值, stage=计算矩阵, model=Machine-learning/LR, data_number=20\n"
     ]
    }
   ],
   "source": [
    "emo_index = ['上证综合情绪值', '沪深300情绪值', '创业板情绪值'][emo_index_id]\n",
    "stage = ['计算矩阵', '读取矩阵'][stage_id]\n",
    "model = ['Emo-Dict/DLUT', 'Emo-Dict/Bian', 'Emo-Dict/Jiang',\n",
    "         'Machine-learning/LR', 'Machine-learning/RF', 'Machine-learning/SVM', \n",
    "         'Deep-learning/Separated_task'][model_id]\n",
    "\n",
    "ROOT_PATH = '/data/public/fintechlab/zdh/Individual-Stock-Analysis/B_Temporal_Clustering'\n",
    "Clustering_Method = 'Clustering_Based_on_Separation'\n",
    "Emotion_Data_PATH = f'{ROOT_PATH}/data/Emotion_Data/{model}'   # 情绪数据路径\n",
    "Financial_Data_PATH = f'{ROOT_PATH}/data/Financial_Data' # 金融数据路径\n",
    "\n",
    "print(f\"Running with: emo_index={emo_index}, stage={stage}, model={model}, data_number={data_number}\")"
   ]
  },
  {
   "cell_type": "code",
   "execution_count": null,
   "id": "d5257e0d-2d51-4515-a9c3-53da32b2d250",
   "metadata": {
    "papermill": {
     "duration": 0.033695,
     "end_time": "2025-06-06T11:12:47.262481",
     "exception": false,
     "start_time": "2025-06-06T11:12:47.228786",
     "status": "completed"
    },
    "tags": []
   },
   "outputs": [],
   "source": []
  },
  {
   "cell_type": "markdown",
   "id": "f7248828-7dde-4532-a18d-44a0f14780a9",
   "metadata": {
    "papermill": {
     "duration": 0.084718,
     "end_time": "2025-06-06T11:12:48.135009",
     "exception": false,
     "start_time": "2025-06-06T11:12:48.050291",
     "status": "completed"
    },
    "tags": []
   },
   "source": [
    "## 数据准备"
   ]
  },
  {
   "cell_type": "code",
   "execution_count": 5,
   "id": "a8decf35-7c4e-47f6-b5d4-678a203bf870",
   "metadata": {
    "execution": {
     "iopub.execute_input": "2025-06-06T11:12:48.797381Z",
     "iopub.status.busy": "2025-06-06T11:12:48.796567Z",
     "iopub.status.idle": "2025-06-06T11:13:07.622469Z",
     "shell.execute_reply": "2025-06-06T11:13:07.621995Z"
    },
    "papermill": {
     "duration": 18.879964,
     "end_time": "2025-06-06T11:13:07.641459",
     "exception": false,
     "start_time": "2025-06-06T11:12:48.761495",
     "status": "completed"
    },
    "tags": []
   },
   "outputs": [
    {
     "data": {
      "text/html": [
       "<div>\n",
       "<style scoped>\n",
       "    .dataframe tbody tr th:only-of-type {\n",
       "        vertical-align: middle;\n",
       "    }\n",
       "\n",
       "    .dataframe tbody tr th {\n",
       "        vertical-align: top;\n",
       "    }\n",
       "\n",
       "    .dataframe thead th {\n",
       "        text-align: right;\n",
       "    }\n",
       "</style>\n",
       "<table border=\"1\" class=\"dataframe\">\n",
       "  <thead>\n",
       "    <tr style=\"text-align: right;\">\n",
       "      <th></th>\n",
       "      <th>股票编号</th>\n",
       "      <th>日期</th>\n",
       "      <th>上证综合情绪值</th>\n",
       "      <th>沪深300情绪值</th>\n",
       "      <th>创业板情绪值</th>\n",
       "    </tr>\n",
       "  </thead>\n",
       "  <tbody>\n",
       "    <tr>\n",
       "      <th>0</th>\n",
       "      <td>601933</td>\n",
       "      <td>2024-12-27</td>\n",
       "      <td>-0.113738</td>\n",
       "      <td>-0.101489</td>\n",
       "      <td>-0.081345</td>\n",
       "    </tr>\n",
       "    <tr>\n",
       "      <th>1</th>\n",
       "      <td>601933</td>\n",
       "      <td>2024-11-18</td>\n",
       "      <td>-0.309356</td>\n",
       "      <td>-0.389241</td>\n",
       "      <td>-0.453771</td>\n",
       "    </tr>\n",
       "    <tr>\n",
       "      <th>2</th>\n",
       "      <td>601933</td>\n",
       "      <td>2024-11-17</td>\n",
       "      <td>-0.111936</td>\n",
       "      <td>-0.098525</td>\n",
       "      <td>-0.253679</td>\n",
       "    </tr>\n",
       "    <tr>\n",
       "      <th>3</th>\n",
       "      <td>601933</td>\n",
       "      <td>2024-11-17</td>\n",
       "      <td>-0.333549</td>\n",
       "      <td>-0.315537</td>\n",
       "      <td>-0.428072</td>\n",
       "    </tr>\n",
       "    <tr>\n",
       "      <th>4</th>\n",
       "      <td>601933</td>\n",
       "      <td>2024-11-17</td>\n",
       "      <td>-0.333549</td>\n",
       "      <td>-0.315537</td>\n",
       "      <td>-0.428072</td>\n",
       "    </tr>\n",
       "    <tr>\n",
       "      <th>...</th>\n",
       "      <td>...</td>\n",
       "      <td>...</td>\n",
       "      <td>...</td>\n",
       "      <td>...</td>\n",
       "      <td>...</td>\n",
       "    </tr>\n",
       "    <tr>\n",
       "      <th>495326</th>\n",
       "      <td>601919</td>\n",
       "      <td>2021-04-09</td>\n",
       "      <td>-0.333549</td>\n",
       "      <td>-0.315537</td>\n",
       "      <td>-0.428072</td>\n",
       "    </tr>\n",
       "    <tr>\n",
       "      <th>495327</th>\n",
       "      <td>601919</td>\n",
       "      <td>2021-04-09</td>\n",
       "      <td>-0.333549</td>\n",
       "      <td>-0.315537</td>\n",
       "      <td>-0.428072</td>\n",
       "    </tr>\n",
       "    <tr>\n",
       "      <th>495328</th>\n",
       "      <td>601919</td>\n",
       "      <td>2021-04-08</td>\n",
       "      <td>-0.269253</td>\n",
       "      <td>-0.241277</td>\n",
       "      <td>-0.374080</td>\n",
       "    </tr>\n",
       "    <tr>\n",
       "      <th>495329</th>\n",
       "      <td>601919</td>\n",
       "      <td>2021-04-08</td>\n",
       "      <td>-0.227588</td>\n",
       "      <td>-0.214871</td>\n",
       "      <td>-0.243539</td>\n",
       "    </tr>\n",
       "    <tr>\n",
       "      <th>495330</th>\n",
       "      <td>601919</td>\n",
       "      <td>2021-01-01</td>\n",
       "      <td>-0.333549</td>\n",
       "      <td>-0.315537</td>\n",
       "      <td>-0.428072</td>\n",
       "    </tr>\n",
       "  </tbody>\n",
       "</table>\n",
       "<p>495331 rows × 5 columns</p>\n",
       "</div>"
      ],
      "text/plain": [
       "          股票编号          日期   上证综合情绪值  沪深300情绪值    创业板情绪值\n",
       "0       601933  2024-12-27 -0.113738 -0.101489 -0.081345\n",
       "1       601933  2024-11-18 -0.309356 -0.389241 -0.453771\n",
       "2       601933  2024-11-17 -0.111936 -0.098525 -0.253679\n",
       "3       601933  2024-11-17 -0.333549 -0.315537 -0.428072\n",
       "4       601933  2024-11-17 -0.333549 -0.315537 -0.428072\n",
       "...        ...         ...       ...       ...       ...\n",
       "495326  601919  2021-04-09 -0.333549 -0.315537 -0.428072\n",
       "495327  601919  2021-04-09 -0.333549 -0.315537 -0.428072\n",
       "495328  601919  2021-04-08 -0.269253 -0.241277 -0.374080\n",
       "495329  601919  2021-04-08 -0.227588 -0.214871 -0.243539\n",
       "495330  601919  2021-01-01 -0.333549 -0.315537 -0.428072\n",
       "\n",
       "[495331 rows x 5 columns]"
      ]
     },
     "execution_count": 5,
     "metadata": {},
     "output_type": "execute_result"
    }
   ],
   "source": [
    "\"\"\"读取股吧个股的数据\"\"\"\n",
    "all_data = []\n",
    "file_list = [f for f in os.listdir(Emotion_Data_PATH) if f.endswith('.csv')]\n",
    "\n",
    "for file in file_list:\n",
    "    file_path = os.path.join(Emotion_Data_PATH, file)\n",
    "    df = pd.read_csv(file_path)\n",
    "    stock_code = os.path.splitext(file)[0] # 获取股票编号（文件名去掉扩展名）\n",
    "    \n",
    "    # 提取每一行的日期和情绪值\n",
    "    for _, row in df.iterrows():\n",
    "        new_row = {\n",
    "            '股票编号': stock_code,\n",
    "            '日期': row['日期'],\n",
    "            '上证综合情绪值': row['上证综合情绪值'],\n",
    "            '沪深300情绪值': row['沪深300情绪值'],\n",
    "            '创业板情绪值': row['创业板情绪值']\n",
    "        }\n",
    "        all_data.append(new_row)\n",
    "        \n",
    "guba_data = pd.DataFrame(all_data)\n",
    "guba_data"
   ]
  },
  {
   "cell_type": "code",
   "execution_count": 6,
   "id": "eb06634d-e605-45f9-8b0f-4de2d2f8738f",
   "metadata": {
    "execution": {
     "iopub.execute_input": "2025-06-06T11:13:08.210724Z",
     "iopub.status.busy": "2025-06-06T11:13:08.210364Z",
     "iopub.status.idle": "2025-06-06T11:13:08.312124Z",
     "shell.execute_reply": "2025-06-06T11:13:08.311479Z"
    },
    "papermill": {
     "duration": 0.338315,
     "end_time": "2025-06-06T11:13:08.370087",
     "exception": false,
     "start_time": "2025-06-06T11:13:08.031772",
     "status": "completed"
    },
    "tags": []
   },
   "outputs": [
    {
     "data": {
      "text/html": [
       "<div>\n",
       "<style scoped>\n",
       "    .dataframe tbody tr th:only-of-type {\n",
       "        vertical-align: middle;\n",
       "    }\n",
       "\n",
       "    .dataframe tbody tr th {\n",
       "        vertical-align: top;\n",
       "    }\n",
       "\n",
       "    .dataframe thead th {\n",
       "        text-align: right;\n",
       "    }\n",
       "</style>\n",
       "<table border=\"1\" class=\"dataframe\">\n",
       "  <thead>\n",
       "    <tr style=\"text-align: right;\">\n",
       "      <th></th>\n",
       "      <th>股票编号</th>\n",
       "      <th>日期</th>\n",
       "      <th>交易量</th>\n",
       "      <th>收益率变化</th>\n",
       "    </tr>\n",
       "  </thead>\n",
       "  <tbody>\n",
       "    <tr>\n",
       "      <th>0</th>\n",
       "      <td>000002</td>\n",
       "      <td>2021-06-01</td>\n",
       "      <td>60990961</td>\n",
       "      <td>-0.003745</td>\n",
       "    </tr>\n",
       "    <tr>\n",
       "      <th>1</th>\n",
       "      <td>000002</td>\n",
       "      <td>2021-06-02</td>\n",
       "      <td>85354506</td>\n",
       "      <td>0.006015</td>\n",
       "    </tr>\n",
       "    <tr>\n",
       "      <th>2</th>\n",
       "      <td>000002</td>\n",
       "      <td>2021-06-03</td>\n",
       "      <td>50594187</td>\n",
       "      <td>-0.003363</td>\n",
       "    </tr>\n",
       "    <tr>\n",
       "      <th>3</th>\n",
       "      <td>000002</td>\n",
       "      <td>2021-06-04</td>\n",
       "      <td>71422364</td>\n",
       "      <td>-0.012748</td>\n",
       "    </tr>\n",
       "    <tr>\n",
       "      <th>4</th>\n",
       "      <td>000002</td>\n",
       "      <td>2021-06-07</td>\n",
       "      <td>64745280</td>\n",
       "      <td>-0.014812</td>\n",
       "    </tr>\n",
       "    <tr>\n",
       "      <th>...</th>\n",
       "      <td>...</td>\n",
       "      <td>...</td>\n",
       "      <td>...</td>\n",
       "      <td>...</td>\n",
       "    </tr>\n",
       "    <tr>\n",
       "      <th>154877</th>\n",
       "      <td>688981</td>\n",
       "      <td>2024-11-20</td>\n",
       "      <td>58507495</td>\n",
       "      <td>-0.017071</td>\n",
       "    </tr>\n",
       "    <tr>\n",
       "      <th>154878</th>\n",
       "      <td>688981</td>\n",
       "      <td>2024-11-21</td>\n",
       "      <td>56197106</td>\n",
       "      <td>0.002358</td>\n",
       "    </tr>\n",
       "    <tr>\n",
       "      <th>154879</th>\n",
       "      <td>688981</td>\n",
       "      <td>2024-11-22</td>\n",
       "      <td>79240108</td>\n",
       "      <td>-0.050588</td>\n",
       "    </tr>\n",
       "    <tr>\n",
       "      <th>154880</th>\n",
       "      <td>688981</td>\n",
       "      <td>2024-11-25</td>\n",
       "      <td>76905909</td>\n",
       "      <td>-0.029402</td>\n",
       "    </tr>\n",
       "    <tr>\n",
       "      <th>154881</th>\n",
       "      <td>688981</td>\n",
       "      <td>2024-11-26</td>\n",
       "      <td>35363542</td>\n",
       "      <td>-0.012303</td>\n",
       "    </tr>\n",
       "  </tbody>\n",
       "</table>\n",
       "<p>154882 rows × 4 columns</p>\n",
       "</div>"
      ],
      "text/plain": [
       "          股票编号          日期       交易量     收益率变化\n",
       "0       000002  2021-06-01  60990961 -0.003745\n",
       "1       000002  2021-06-02  85354506  0.006015\n",
       "2       000002  2021-06-03  50594187 -0.003363\n",
       "3       000002  2021-06-04  71422364 -0.012748\n",
       "4       000002  2021-06-07  64745280 -0.014812\n",
       "...        ...         ...       ...       ...\n",
       "154877  688981  2024-11-20  58507495 -0.017071\n",
       "154878  688981  2024-11-21  56197106  0.002358\n",
       "154879  688981  2024-11-22  79240108 -0.050588\n",
       "154880  688981  2024-11-25  76905909 -0.029402\n",
       "154881  688981  2024-11-26  35363542 -0.012303\n",
       "\n",
       "[154882 rows x 4 columns]"
      ]
     },
     "execution_count": 6,
     "metadata": {},
     "output_type": "execute_result"
    }
   ],
   "source": [
    "\"\"\"读取股票回报率的数据\"\"\"\n",
    "return_data = pd.read_csv(f'{Financial_Data_PATH}/日个股回报率.csv', dtype={'股票编号': str})\n",
    "return_data"
   ]
  },
  {
   "cell_type": "code",
   "execution_count": 7,
   "id": "ce9fdf73-0d04-4a37-b883-03e1a307cf4b",
   "metadata": {
    "execution": {
     "iopub.execute_input": "2025-06-06T11:13:09.404839Z",
     "iopub.status.busy": "2025-06-06T11:13:09.404419Z",
     "iopub.status.idle": "2025-06-06T11:13:09.641792Z",
     "shell.execute_reply": "2025-06-06T11:13:09.641393Z"
    },
    "papermill": {
     "duration": 0.358348,
     "end_time": "2025-06-06T11:13:09.721236",
     "exception": false,
     "start_time": "2025-06-06T11:13:09.362888",
     "status": "completed"
    },
    "tags": []
   },
   "outputs": [
    {
     "data": {
      "text/html": [
       "<div>\n",
       "<style scoped>\n",
       "    .dataframe tbody tr th:only-of-type {\n",
       "        vertical-align: middle;\n",
       "    }\n",
       "\n",
       "    .dataframe tbody tr th {\n",
       "        vertical-align: top;\n",
       "    }\n",
       "\n",
       "    .dataframe thead th {\n",
       "        text-align: right;\n",
       "    }\n",
       "</style>\n",
       "<table border=\"1\" class=\"dataframe\">\n",
       "  <thead>\n",
       "    <tr style=\"text-align: right;\">\n",
       "      <th></th>\n",
       "      <th>股票编号</th>\n",
       "      <th>日期</th>\n",
       "      <th>上证综合情绪值</th>\n",
       "      <th>沪深300情绪值</th>\n",
       "      <th>创业板情绪值</th>\n",
       "      <th>交易量</th>\n",
       "      <th>收益率变化</th>\n",
       "    </tr>\n",
       "  </thead>\n",
       "  <tbody>\n",
       "    <tr>\n",
       "      <th>1</th>\n",
       "      <td>601933</td>\n",
       "      <td>2024-11-18</td>\n",
       "      <td>-0.309356</td>\n",
       "      <td>-0.389241</td>\n",
       "      <td>-0.453771</td>\n",
       "      <td>310012824.0</td>\n",
       "      <td>-0.004608</td>\n",
       "    </tr>\n",
       "    <tr>\n",
       "      <th>11</th>\n",
       "      <td>601933</td>\n",
       "      <td>2024-11-15</td>\n",
       "      <td>-0.333549</td>\n",
       "      <td>-0.315537</td>\n",
       "      <td>-0.428072</td>\n",
       "      <td>423271473.0</td>\n",
       "      <td>-0.064655</td>\n",
       "    </tr>\n",
       "    <tr>\n",
       "      <th>12</th>\n",
       "      <td>601933</td>\n",
       "      <td>2024-11-15</td>\n",
       "      <td>-0.333549</td>\n",
       "      <td>-0.315537</td>\n",
       "      <td>-0.428072</td>\n",
       "      <td>423271473.0</td>\n",
       "      <td>-0.064655</td>\n",
       "    </tr>\n",
       "    <tr>\n",
       "      <th>13</th>\n",
       "      <td>601933</td>\n",
       "      <td>2024-11-14</td>\n",
       "      <td>-0.333549</td>\n",
       "      <td>-0.315537</td>\n",
       "      <td>-0.428072</td>\n",
       "      <td>372259052.0</td>\n",
       "      <td>-0.053061</td>\n",
       "    </tr>\n",
       "    <tr>\n",
       "      <th>14</th>\n",
       "      <td>601933</td>\n",
       "      <td>2024-11-14</td>\n",
       "      <td>-0.333549</td>\n",
       "      <td>-0.315537</td>\n",
       "      <td>-0.428072</td>\n",
       "      <td>372259052.0</td>\n",
       "      <td>-0.053061</td>\n",
       "    </tr>\n",
       "    <tr>\n",
       "      <th>...</th>\n",
       "      <td>...</td>\n",
       "      <td>...</td>\n",
       "      <td>...</td>\n",
       "      <td>...</td>\n",
       "      <td>...</td>\n",
       "      <td>...</td>\n",
       "      <td>...</td>\n",
       "    </tr>\n",
       "    <tr>\n",
       "      <th>495148</th>\n",
       "      <td>601919</td>\n",
       "      <td>2021-06-01</td>\n",
       "      <td>-0.333549</td>\n",
       "      <td>-0.315537</td>\n",
       "      <td>-0.428072</td>\n",
       "      <td>268816321.0</td>\n",
       "      <td>0.045859</td>\n",
       "    </tr>\n",
       "    <tr>\n",
       "      <th>495149</th>\n",
       "      <td>601919</td>\n",
       "      <td>2021-06-01</td>\n",
       "      <td>-0.138187</td>\n",
       "      <td>-0.085096</td>\n",
       "      <td>-0.235211</td>\n",
       "      <td>268816321.0</td>\n",
       "      <td>0.045859</td>\n",
       "    </tr>\n",
       "    <tr>\n",
       "      <th>495150</th>\n",
       "      <td>601919</td>\n",
       "      <td>2021-06-01</td>\n",
       "      <td>-0.188267</td>\n",
       "      <td>-0.179317</td>\n",
       "      <td>-0.083904</td>\n",
       "      <td>268816321.0</td>\n",
       "      <td>0.045859</td>\n",
       "    </tr>\n",
       "    <tr>\n",
       "      <th>495151</th>\n",
       "      <td>601919</td>\n",
       "      <td>2021-06-01</td>\n",
       "      <td>-0.411479</td>\n",
       "      <td>-0.445273</td>\n",
       "      <td>-0.421940</td>\n",
       "      <td>268816321.0</td>\n",
       "      <td>0.045859</td>\n",
       "    </tr>\n",
       "    <tr>\n",
       "      <th>495152</th>\n",
       "      <td>601919</td>\n",
       "      <td>2021-06-01</td>\n",
       "      <td>-0.333549</td>\n",
       "      <td>-0.315537</td>\n",
       "      <td>-0.428072</td>\n",
       "      <td>268816321.0</td>\n",
       "      <td>0.045859</td>\n",
       "    </tr>\n",
       "  </tbody>\n",
       "</table>\n",
       "<p>391899 rows × 7 columns</p>\n",
       "</div>"
      ],
      "text/plain": [
       "          股票编号          日期   上证综合情绪值  沪深300情绪值    创业板情绪值          交易量  \\\n",
       "1       601933  2024-11-18 -0.309356 -0.389241 -0.453771  310012824.0   \n",
       "11      601933  2024-11-15 -0.333549 -0.315537 -0.428072  423271473.0   \n",
       "12      601933  2024-11-15 -0.333549 -0.315537 -0.428072  423271473.0   \n",
       "13      601933  2024-11-14 -0.333549 -0.315537 -0.428072  372259052.0   \n",
       "14      601933  2024-11-14 -0.333549 -0.315537 -0.428072  372259052.0   \n",
       "...        ...         ...       ...       ...       ...          ...   \n",
       "495148  601919  2021-06-01 -0.333549 -0.315537 -0.428072  268816321.0   \n",
       "495149  601919  2021-06-01 -0.138187 -0.085096 -0.235211  268816321.0   \n",
       "495150  601919  2021-06-01 -0.188267 -0.179317 -0.083904  268816321.0   \n",
       "495151  601919  2021-06-01 -0.411479 -0.445273 -0.421940  268816321.0   \n",
       "495152  601919  2021-06-01 -0.333549 -0.315537 -0.428072  268816321.0   \n",
       "\n",
       "           收益率变化  \n",
       "1      -0.004608  \n",
       "11     -0.064655  \n",
       "12     -0.064655  \n",
       "13     -0.053061  \n",
       "14     -0.053061  \n",
       "...          ...  \n",
       "495148  0.045859  \n",
       "495149  0.045859  \n",
       "495150  0.045859  \n",
       "495151  0.045859  \n",
       "495152  0.045859  \n",
       "\n",
       "[391899 rows x 7 columns]"
      ]
     },
     "execution_count": 7,
     "metadata": {},
     "output_type": "execute_result"
    }
   ],
   "source": [
    "# 进行左连接，guba_data 为主表\n",
    "merged_data = pd.merge(guba_data, return_data[['股票编号', '日期', '交易量', '收益率变化']], \n",
    "                       on=['股票编号', '日期'], \n",
    "                       how='left')\n",
    "merged_data = merged_data.dropna()\n",
    "merged_data"
   ]
  },
  {
   "cell_type": "markdown",
   "id": "e81f38a2-48f9-4fac-99ea-6bf9703a73b1",
   "metadata": {
    "papermill": {
     "duration": 0.180538,
     "end_time": "2025-06-06T11:13:10.528222",
     "exception": false,
     "start_time": "2025-06-06T11:13:10.347684",
     "status": "completed"
    },
    "tags": []
   },
   "source": [
    "## 数据预处理"
   ]
  },
  {
   "cell_type": "code",
   "execution_count": 8,
   "id": "ed7d7646-b94d-458d-ae55-10f90a95f23c",
   "metadata": {
    "execution": {
     "iopub.execute_input": "2025-06-06T11:13:11.224514Z",
     "iopub.status.busy": "2025-06-06T11:13:11.224141Z",
     "iopub.status.idle": "2025-06-06T11:13:12.222880Z",
     "shell.execute_reply": "2025-06-06T11:13:12.222042Z"
    },
    "papermill": {
     "duration": 1.128999,
     "end_time": "2025-06-06T11:13:12.239196",
     "exception": false,
     "start_time": "2025-06-06T11:13:11.110197",
     "status": "completed"
    },
    "tags": []
   },
   "outputs": [
    {
     "data": {
      "text/html": [
       "<div>\n",
       "<style scoped>\n",
       "    .dataframe tbody tr th:only-of-type {\n",
       "        vertical-align: middle;\n",
       "    }\n",
       "\n",
       "    .dataframe tbody tr th {\n",
       "        vertical-align: top;\n",
       "    }\n",
       "\n",
       "    .dataframe thead th {\n",
       "        text-align: right;\n",
       "    }\n",
       "</style>\n",
       "<table border=\"1\" class=\"dataframe\">\n",
       "  <thead>\n",
       "    <tr style=\"text-align: right;\">\n",
       "      <th></th>\n",
       "      <th>日期</th>\n",
       "      <th>股票编号</th>\n",
       "      <th>上证综合情绪值</th>\n",
       "      <th>沪深300情绪值</th>\n",
       "      <th>创业板情绪值</th>\n",
       "      <th>交易量</th>\n",
       "      <th>收益率变化</th>\n",
       "    </tr>\n",
       "  </thead>\n",
       "  <tbody>\n",
       "    <tr>\n",
       "      <th>0</th>\n",
       "      <td>2021-06-01</td>\n",
       "      <td>000002</td>\n",
       "      <td>0.434940</td>\n",
       "      <td>0.369359</td>\n",
       "      <td>0.322997</td>\n",
       "      <td>60990961.0</td>\n",
       "      <td>-0.003745</td>\n",
       "    </tr>\n",
       "    <tr>\n",
       "      <th>1</th>\n",
       "      <td>2021-06-08</td>\n",
       "      <td>000002</td>\n",
       "      <td>0.402102</td>\n",
       "      <td>0.326794</td>\n",
       "      <td>0.265733</td>\n",
       "      <td>44676494.0</td>\n",
       "      <td>0.004626</td>\n",
       "    </tr>\n",
       "    <tr>\n",
       "      <th>2</th>\n",
       "      <td>2021-06-10</td>\n",
       "      <td>000002</td>\n",
       "      <td>0.442200</td>\n",
       "      <td>0.379346</td>\n",
       "      <td>0.330197</td>\n",
       "      <td>53800776.0</td>\n",
       "      <td>-0.010035</td>\n",
       "    </tr>\n",
       "    <tr>\n",
       "      <th>3</th>\n",
       "      <td>2021-06-11</td>\n",
       "      <td>000002</td>\n",
       "      <td>0.434940</td>\n",
       "      <td>0.369359</td>\n",
       "      <td>0.322997</td>\n",
       "      <td>75853738.0</td>\n",
       "      <td>-0.014035</td>\n",
       "    </tr>\n",
       "    <tr>\n",
       "      <th>4</th>\n",
       "      <td>2021-06-15</td>\n",
       "      <td>000002</td>\n",
       "      <td>0.423167</td>\n",
       "      <td>0.360859</td>\n",
       "      <td>0.302940</td>\n",
       "      <td>89915501.0</td>\n",
       "      <td>-0.020957</td>\n",
       "    </tr>\n",
       "    <tr>\n",
       "      <th>...</th>\n",
       "      <td>...</td>\n",
       "      <td>...</td>\n",
       "      <td>...</td>\n",
       "      <td>...</td>\n",
       "      <td>...</td>\n",
       "      <td>...</td>\n",
       "      <td>...</td>\n",
       "    </tr>\n",
       "    <tr>\n",
       "      <th>85724</th>\n",
       "      <td>2024-11-12</td>\n",
       "      <td>688981</td>\n",
       "      <td>0.285848</td>\n",
       "      <td>0.194098</td>\n",
       "      <td>0.219389</td>\n",
       "      <td>108866759.0</td>\n",
       "      <td>-0.036864</td>\n",
       "    </tr>\n",
       "    <tr>\n",
       "      <th>85725</th>\n",
       "      <td>2024-11-13</td>\n",
       "      <td>688981</td>\n",
       "      <td>0.278204</td>\n",
       "      <td>0.185220</td>\n",
       "      <td>0.211680</td>\n",
       "      <td>80759477.0</td>\n",
       "      <td>-0.019484</td>\n",
       "    </tr>\n",
       "    <tr>\n",
       "      <th>85726</th>\n",
       "      <td>2024-11-14</td>\n",
       "      <td>688981</td>\n",
       "      <td>0.241201</td>\n",
       "      <td>0.149258</td>\n",
       "      <td>0.170331</td>\n",
       "      <td>76194102.0</td>\n",
       "      <td>-0.022897</td>\n",
       "    </tr>\n",
       "    <tr>\n",
       "      <th>85727</th>\n",
       "      <td>2024-11-15</td>\n",
       "      <td>688981</td>\n",
       "      <td>0.268361</td>\n",
       "      <td>0.176924</td>\n",
       "      <td>0.200593</td>\n",
       "      <td>71066743.0</td>\n",
       "      <td>-0.020233</td>\n",
       "    </tr>\n",
       "    <tr>\n",
       "      <th>85728</th>\n",
       "      <td>2024-11-18</td>\n",
       "      <td>688981</td>\n",
       "      <td>0.245712</td>\n",
       "      <td>0.153928</td>\n",
       "      <td>0.175415</td>\n",
       "      <td>82897403.0</td>\n",
       "      <td>-0.027500</td>\n",
       "    </tr>\n",
       "  </tbody>\n",
       "</table>\n",
       "<p>85729 rows × 7 columns</p>\n",
       "</div>"
      ],
      "text/plain": [
       "               日期    股票编号   上证综合情绪值  沪深300情绪值    创业板情绪值          交易量     收益率变化\n",
       "0      2021-06-01  000002  0.434940  0.369359  0.322997   60990961.0 -0.003745\n",
       "1      2021-06-08  000002  0.402102  0.326794  0.265733   44676494.0  0.004626\n",
       "2      2021-06-10  000002  0.442200  0.379346  0.330197   53800776.0 -0.010035\n",
       "3      2021-06-11  000002  0.434940  0.369359  0.322997   75853738.0 -0.014035\n",
       "4      2021-06-15  000002  0.423167  0.360859  0.302940   89915501.0 -0.020957\n",
       "...           ...     ...       ...       ...       ...          ...       ...\n",
       "85724  2024-11-12  688981  0.285848  0.194098  0.219389  108866759.0 -0.036864\n",
       "85725  2024-11-13  688981  0.278204  0.185220  0.211680   80759477.0 -0.019484\n",
       "85726  2024-11-14  688981  0.241201  0.149258  0.170331   76194102.0 -0.022897\n",
       "85727  2024-11-15  688981  0.268361  0.176924  0.200593   71066743.0 -0.020233\n",
       "85728  2024-11-18  688981  0.245712  0.153928  0.175415   82897403.0 -0.027500\n",
       "\n",
       "[85729 rows x 7 columns]"
      ]
     },
     "execution_count": 8,
     "metadata": {},
     "output_type": "execute_result"
    }
   ],
   "source": [
    "# Step 1: 对情绪值列进行 Min-Max 标准化\n",
    "def min_max_normalization(df, cols):\n",
    "    for col in cols:\n",
    "        min_val = df[col].min()\n",
    "        max_val = df[col].max()\n",
    "        df[col] = 2 * (df[col] - min_val) / (max_val - min_val) - 1\n",
    "    return df\n",
    "\n",
    "# Step 2: 对每个股票编号的数据进行标准化和按日期汇总\n",
    "def process_data(df):\n",
    "    df_processed = pd.DataFrame()  # 用于存储结果\n",
    "    for stock_code, stock_data in df.groupby('股票编号'):\n",
    "        # 对每个股票编号内的数据进行标准化\n",
    "        stock_data = min_max_normalization(stock_data, ['上证综合情绪值', '沪深300情绪值', '创业板情绪值'])\n",
    "        \n",
    "        # 按日期汇总数据，同时保留股票编号\n",
    "        stock_summary = stock_data.groupby('日期').agg({\n",
    "            '股票编号': 'first',  # 保留股票编号（在同一日期内它是相同的，使用 'first'）\n",
    "            '上证综合情绪值': 'mean',  # 上证综合情绪值按日期取均值\n",
    "            '沪深300情绪值': 'mean',  # 沪深300情绪值按日期取均值\n",
    "            '创业板情绪值': 'mean',  # 创业板情绪值按日期取均值\n",
    "            '交易量': 'mean',  # 交易量按日期求和\n",
    "            '收益率变化': 'mean'  # 收益率变化按日期取均值\n",
    "        }).reset_index(drop=False)\n",
    "        \n",
    "        df_processed = pd.concat([df_processed, stock_summary], ignore_index=True)\n",
    "    \n",
    "    return df_processed\n",
    "\n",
    "# 调用处理函数\n",
    "final_data = process_data(merged_data)\n",
    "final_data"
   ]
  },
  {
   "cell_type": "markdown",
   "id": "62a7261b-838d-4aed-89de-2d2a7bad4a34",
   "metadata": {
    "papermill": {
     "duration": 0.017018,
     "end_time": "2025-06-06T11:13:12.284950",
     "exception": false,
     "start_time": "2025-06-06T11:13:12.267932",
     "status": "completed"
    },
    "tags": []
   },
   "source": [
    "## DTW 聚类"
   ]
  },
  {
   "cell_type": "code",
   "execution_count": 9,
   "id": "5d08cbc2-416e-4b1d-8d5f-1dc5b2e752e9",
   "metadata": {
    "execution": {
     "iopub.execute_input": "2025-06-06T11:13:12.307967Z",
     "iopub.status.busy": "2025-06-06T11:13:12.307640Z",
     "iopub.status.idle": "2025-06-06T11:13:12.514376Z",
     "shell.execute_reply": "2025-06-06T11:13:12.513808Z"
    },
    "papermill": {
     "duration": 0.230934,
     "end_time": "2025-06-06T11:13:12.530408",
     "exception": false,
     "start_time": "2025-06-06T11:13:12.299474",
     "status": "completed"
    },
    "tags": []
   },
   "outputs": [],
   "source": [
    "# 选择需要的列\n",
    "dtw_df = final_data[['日期', '股票编号', emo_index, '收益率变化']]\n",
    "\n",
    "# 按照股票编号和日期排序\n",
    "dtw_df = dtw_df.sort_values(by=['股票编号', '日期'])\n",
    "\n",
    "# 创建一个以股票编号为键，日期为时间序列的字典\n",
    "stock_data = {}\n",
    "if data_number > len(dtw_df['股票编号'].unique()):\n",
    "    data_number = len(dtw_df['股票编号'].unique())\n",
    "for stock in dtw_df['股票编号'].unique()[:data_number]:\n",
    "    stock_data[stock] = dtw_df[dtw_df['股票编号'] == stock][['日期', emo_index, '收益率变化']].reset_index(drop=True)"
   ]
  },
  {
   "cell_type": "code",
   "execution_count": 10,
   "id": "ef011a8d-b310-4eed-a36d-358b7caf3dd6",
   "metadata": {
    "execution": {
     "iopub.execute_input": "2025-06-06T11:13:12.605250Z",
     "iopub.status.busy": "2025-06-06T11:13:12.604984Z",
     "iopub.status.idle": "2025-06-06T11:13:28.146855Z",
     "shell.execute_reply": "2025-06-06T11:13:28.146311Z"
    },
    "papermill": {
     "duration": 15.64438,
     "end_time": "2025-06-06T11:13:28.221909",
     "exception": false,
     "start_time": "2025-06-06T11:13:12.577529",
     "status": "completed"
    },
    "tags": []
   },
   "outputs": [
    {
     "name": "stderr",
     "output_type": "stream",
     "text": [
      "\r",
      "计算 DTW 距离:   0%|          | 0/20 [00:00<?, ?股票/s]"
     ]
    },
    {
     "name": "stderr",
     "output_type": "stream",
     "text": [
      "\r",
      "计算 DTW 距离:   5%|▌         | 1/20 [00:02<00:45,  2.41s/股票]"
     ]
    },
    {
     "name": "stderr",
     "output_type": "stream",
     "text": [
      "\r",
      "计算 DTW 距离:  10%|█         | 2/20 [00:03<00:27,  1.51s/股票]"
     ]
    },
    {
     "name": "stderr",
     "output_type": "stream",
     "text": [
      "\r",
      "计算 DTW 距离:  15%|█▌        | 3/20 [00:04<00:25,  1.53s/股票]"
     ]
    },
    {
     "name": "stderr",
     "output_type": "stream",
     "text": [
      "\r",
      "计算 DTW 距离:  20%|██        | 4/20 [00:05<00:21,  1.37s/股票]"
     ]
    },
    {
     "name": "stderr",
     "output_type": "stream",
     "text": [
      "\r",
      "计算 DTW 距离:  25%|██▌       | 5/20 [00:07<00:20,  1.34s/股票]"
     ]
    },
    {
     "name": "stderr",
     "output_type": "stream",
     "text": [
      "\r",
      "计算 DTW 距离:  30%|███       | 6/20 [00:08<00:18,  1.29s/股票]"
     ]
    },
    {
     "name": "stderr",
     "output_type": "stream",
     "text": [
      "\r",
      "计算 DTW 距离:  35%|███▌      | 7/20 [00:09<00:14,  1.14s/股票]"
     ]
    },
    {
     "name": "stderr",
     "output_type": "stream",
     "text": [
      "\r",
      "计算 DTW 距离:  40%|████      | 8/20 [00:10<00:13,  1.13s/股票]"
     ]
    },
    {
     "name": "stderr",
     "output_type": "stream",
     "text": [
      "\r",
      "计算 DTW 距离:  45%|████▌     | 9/20 [00:11<00:12,  1.10s/股票]"
     ]
    },
    {
     "name": "stderr",
     "output_type": "stream",
     "text": [
      "\r",
      "计算 DTW 距离:  50%|█████     | 10/20 [00:12<00:10,  1.01s/股票]"
     ]
    },
    {
     "name": "stderr",
     "output_type": "stream",
     "text": [
      "\r",
      "计算 DTW 距离:  55%|█████▌    | 11/20 [00:12<00:07,  1.13股票/s]"
     ]
    },
    {
     "name": "stderr",
     "output_type": "stream",
     "text": [
      "\r",
      "计算 DTW 距离:  60%|██████    | 12/20 [00:13<00:06,  1.23股票/s]"
     ]
    },
    {
     "name": "stderr",
     "output_type": "stream",
     "text": [
      "\r",
      "计算 DTW 距离:  65%|██████▌   | 13/20 [00:14<00:05,  1.34股票/s]"
     ]
    },
    {
     "name": "stderr",
     "output_type": "stream",
     "text": [
      "\r",
      "计算 DTW 距离:  70%|███████   | 14/20 [00:14<00:04,  1.49股票/s]"
     ]
    },
    {
     "name": "stderr",
     "output_type": "stream",
     "text": [
      "\r",
      "计算 DTW 距离:  75%|███████▌  | 15/20 [00:14<00:02,  1.84股票/s]"
     ]
    },
    {
     "name": "stderr",
     "output_type": "stream",
     "text": [
      "\r",
      "计算 DTW 距离:  80%|████████  | 16/20 [00:14<00:01,  2.35股票/s]"
     ]
    },
    {
     "name": "stderr",
     "output_type": "stream",
     "text": [
      "\r",
      "计算 DTW 距离:  85%|████████▌ | 17/20 [00:15<00:01,  2.85股票/s]"
     ]
    },
    {
     "name": "stderr",
     "output_type": "stream",
     "text": [
      "\r",
      "计算 DTW 距离:  90%|█████████ | 18/20 [00:15<00:00,  3.59股票/s]"
     ]
    },
    {
     "name": "stderr",
     "output_type": "stream",
     "text": [
      "\r",
      "计算 DTW 距离: 100%|██████████| 20/20 [00:15<00:00,  1.31股票/s]"
     ]
    },
    {
     "name": "stderr",
     "output_type": "stream",
     "text": [
      "\n"
     ]
    }
   ],
   "source": [
    "if stage == '计算矩阵':\n",
    "    from tqdm import tqdm\n",
    "    from fastdtw import fastdtw\n",
    "    from scipy.spatial.distance import euclidean\n",
    "    \n",
    "    # 假设stock_data已经准备好了，stock_ids包含所有股票编号\n",
    "    stock_ids = list(stock_data.keys())\n",
    "    dtw_distances = np.zeros((len(stock_ids), len(stock_ids)))\n",
    "    \n",
    "    # 使用 tqdm 包装外层循环以显示进度条\n",
    "    for i, stock_i in tqdm(enumerate(stock_ids), total=len(stock_ids), desc=\"计算 DTW 距离\", unit=\"股票\"):\n",
    "        for j, stock_j in enumerate(stock_ids):\n",
    "            if i < j:\n",
    "                series_i = stock_data[stock_i][[emo_index, '收益率变化']].values\n",
    "                series_j = stock_data[stock_j][[emo_index, '收益率变化']].values\n",
    "                distance, _ = fastdtw(series_i, series_j, dist=euclidean)\n",
    "                dtw_distances[i, j] = distance\n",
    "                dtw_distances[j, i] = distance  # 对称距离矩阵\n",
    "    \n",
    "    \n",
    "    if emo_index == '上证综合情绪值':\n",
    "        print(f'{ROOT_PATH}/{Clustering_Method}/个股分析/{data_number}/{model}/个股分析_上证综合')\n",
    "        os.makedirs(f'{ROOT_PATH}/{Clustering_Method}/个股分析/{data_number}/{model}/个股分析_上证综合', exist_ok=True)\n",
    "        np.save(f'{ROOT_PATH}/{Clustering_Method}/个股分析/{model}/个股分析_上证综合/dtw_distances.npy', dtw_distances)\n",
    "    if emo_index == '沪深300情绪值':\n",
    "        os.makedirs(f'{ROOT_PATH}/{Clustering_Method}/个股分析/{data_number}/{model}/个股分析_沪深300', exist_ok=True)\n",
    "        np.save(f'{ROOT_PATH}/{Clustering_Method}/个股分析/{data_number}/{model}/个股分析_沪深300/dtw_distances.npy', dtw_distances)\n",
    "    if emo_index == '创业板情绪值':\n",
    "        os.makedirs(f'{ROOT_PATH}/{Clustering_Method}/个股分析/{data_number}/{model}/个股分析_创业板', exist_ok=True)\n",
    "        np.save(f'{ROOT_PATH}/{Clustering_Method}/个股分析/{data_number}/{model}/个股分析_创业板/dtw_distances.npy', dtw_distances)"
   ]
  },
  {
   "cell_type": "code",
   "execution_count": 11,
   "id": "f798b7fe-a204-4b5b-9ae7-b7b6c1d1f5ab",
   "metadata": {
    "execution": {
     "iopub.execute_input": "2025-06-06T11:13:28.245623Z",
     "iopub.status.busy": "2025-06-06T11:13:28.244827Z",
     "iopub.status.idle": "2025-06-06T11:13:28.250572Z",
     "shell.execute_reply": "2025-06-06T11:13:28.249763Z"
    },
    "papermill": {
     "duration": 0.031958,
     "end_time": "2025-06-06T11:13:28.263297",
     "exception": false,
     "start_time": "2025-06-06T11:13:28.231339",
     "status": "completed"
    },
    "tags": []
   },
   "outputs": [],
   "source": [
    "# 读取 DTW 距离矩阵\n",
    "stock_ids = list(stock_data.keys())\n",
    "if emo_index == '上证综合情绪值':\n",
    "    dtw_distances = np.load(f'{ROOT_PATH}/{Clustering_Method}/个股分析/{data_number}/{model}/个股分析_上证综合/dtw_distances.npy')\n",
    "if emo_index == '沪深300情绪值':\n",
    "    dtw_distances = np.load(f'{ROOT_PATH}/{Clustering_Method}/个股分析/{data_number}/{model}/个股分析_沪深300/dtw_distances.npy')\n",
    "if emo_index == '创业板情绪值':\n",
    "    dtw_distances = np.load(f'{ROOT_PATH}/{Clustering_Method}/个股分析/{data_number}/{model}/个股分析_创业板/dtw_distances.npy')"
   ]
  },
  {
   "cell_type": "code",
   "execution_count": 12,
   "id": "248e3754-77bf-4768-8d9c-382617bab423",
   "metadata": {
    "execution": {
     "iopub.execute_input": "2025-06-06T11:13:28.300041Z",
     "iopub.status.busy": "2025-06-06T11:13:28.299817Z",
     "iopub.status.idle": "2025-06-06T11:13:28.826932Z",
     "shell.execute_reply": "2025-06-06T11:13:28.826474Z"
    },
    "papermill": {
     "duration": 0.564604,
     "end_time": "2025-06-06T11:13:28.841390",
     "exception": false,
     "start_time": "2025-06-06T11:13:28.276786",
     "status": "completed"
    },
    "tags": []
   },
   "outputs": [
    {
     "data": {
      "text/plain": [
       "{'000002': np.int32(1),\n",
       " '000061': np.int32(0),\n",
       " '000063': np.int32(2),\n",
       " '000069': np.int32(0),\n",
       " '000100': np.int32(2),\n",
       " '000333': np.int32(2),\n",
       " '000513': np.int32(1),\n",
       " '000625': np.int32(0),\n",
       " '000651': np.int32(2),\n",
       " '000661': np.int32(0),\n",
       " '000681': np.int32(0),\n",
       " '000723': np.int32(0),\n",
       " '000725': np.int32(1),\n",
       " '000858': np.int32(1),\n",
       " '000895': np.int32(0),\n",
       " '000910': np.int32(0),\n",
       " '000937': np.int32(0),\n",
       " '000999': np.int32(2),\n",
       " '001979': np.int32(0),\n",
       " '002008': np.int32(0)}"
      ]
     },
     "execution_count": 12,
     "metadata": {},
     "output_type": "execute_result"
    }
   ],
   "source": [
    "from sklearn.cluster import KMeans\n",
    "\n",
    "# KMeans 聚类\n",
    "kmeans = KMeans(n_clusters=3, init='k-means++', random_state=42)\n",
    "clusters = kmeans.fit_predict(dtw_distances)\n",
    "\n",
    "# 查看每个股票的聚类结果\n",
    "stock_clusters = {stock_ids[i]: clusters[i] for i in range(len(stock_ids))}\n",
    "\n",
    "# 创建一个 DataFrame 来保存股票编号与对应的聚类标签\n",
    "stock_clusters_df = pd.DataFrame({\n",
    "    '股票编号': stock_ids,\n",
    "    '聚类标签': clusters\n",
    "})\n",
    "if emo_index == '上证综合情绪值':\n",
    "    stock_clusters_df.to_csv(f'{ROOT_PATH}/{Clustering_Method}/个股分析/{data_number}/{model}/个股分析_上证综合/clusters_results.csv', index=False, encoding='utf-8')\n",
    "if emo_index == '沪深300情绪值':\n",
    "    stock_clusters_df.to_csv(f'{ROOT_PATH}/{Clustering_Method}/个股分析/{data_number}/{model}/个股分析_沪深300/clusters_results.csv', index=False, encoding='utf-8')\n",
    "if emo_index == '创业板情绪值':\n",
    "    stock_clusters_df.to_csv(f'{ROOT_PATH}/{Clustering_Method}/个股分析/{data_number}/{model}/个股分析_创业板/clusters_results.csv', index=False, encoding='utf-8')\n",
    "stock_clusters\n"
   ]
  },
  {
   "cell_type": "code",
   "execution_count": 13,
   "id": "7cd1419f-73a5-465c-b919-39ee7fd56d1b",
   "metadata": {
    "execution": {
     "iopub.execute_input": "2025-06-06T11:13:28.886121Z",
     "iopub.status.busy": "2025-06-06T11:13:28.885426Z",
     "iopub.status.idle": "2025-06-06T11:13:29.171809Z",
     "shell.execute_reply": "2025-06-06T11:13:29.171244Z"
    },
    "papermill": {
     "duration": 0.307563,
     "end_time": "2025-06-06T11:13:29.177751",
     "exception": false,
     "start_time": "2025-06-06T11:13:28.870188",
     "status": "completed"
    },
    "tags": []
   },
   "outputs": [
    {
     "data": {
      "image/png": "[encoded data removed]",
      "text/plain": [
       "<Figure size 640x480 with 2 Axes>"
      ]
     },
     "metadata": {},
     "output_type": "display_data"
    }
   ],
   "source": [
    "import matplotlib.pyplot as plt\n",
    "from sklearn.decomposition import PCA\n",
    "\n",
    "# 使用PCA将高维的DTW距离降到2D\n",
    "pca = PCA(n_components=2)\n",
    "dtw_distances_2d = pca.fit_transform(dtw_distances)\n",
    "\n",
    "# 创建聚类结果的散点图\n",
    "plt.scatter(dtw_distances_2d[:, 0], dtw_distances_2d[:, 1], c=clusters, cmap='viridis')\n",
    "plt.colorbar()\n",
    "plt.title('DTW Clustering of Stocks')\n",
    "if emo_index == '上证综合情绪值':\n",
    "    plt.savefig(f'{ROOT_PATH}/{Clustering_Method}/个股分析/{data_number}/{model}/个股分析_上证综合/DTW_Clustering_of_Stocks3')\n",
    "if emo_index == '沪深300情绪值':\n",
    "    plt.savefig(f'{ROOT_PATH}/{Clustering_Method}/个股分析/{data_number}/{model}/个股分析_沪深300/DTW_Clustering_of_Stocks3')\n",
    "if emo_index == '创业板情绪值':\n",
    "    plt.savefig(f'{ROOT_PATH}/{Clustering_Method}/个股分析/{data_number}/{model}/个股分析_创业板/DTW_Clustering_of_Stocks3')\n",
    "plt.show()\n"
   ]
  },
  {
   "cell_type": "code",
   "execution_count": 14,
   "id": "ffe346c4-4156-4138-ac71-d641999d304e",
   "metadata": {
    "execution": {
     "iopub.execute_input": "2025-06-06T11:13:29.224586Z",
     "iopub.status.busy": "2025-06-06T11:13:29.224353Z",
     "iopub.status.idle": "2025-06-06T11:13:31.269088Z",
     "shell.execute_reply": "2025-06-06T11:13:31.268578Z"
    },
    "papermill": {
     "duration": 2.075144,
     "end_time": "2025-06-06T11:13:31.270374",
     "exception": false,
     "start_time": "2025-06-06T11:13:29.195230",
     "status": "completed"
    },
    "scrolled": true,
    "tags": []
   },
   "outputs": [],
   "source": [
    "import matplotlib.pyplot as plt\n",
    "from mpl_toolkits.mplot3d import Axes3D\n",
    "import matplotlib.dates as mdates\n",
    "\n",
    "# 假设 final_data 已经加载并经过清洗处理\n",
    "merged_data_cleaned = final_data.copy()\n",
    "\n",
    "# 将日期列转换为 datetime 类型（确保时间格式正确）\n",
    "merged_data_cleaned['日期'] = pd.to_datetime(merged_data_cleaned['日期'])\n",
    "\n",
    "# 设置绘图窗口，一行三列的子图\n",
    "fig, axes = plt.subplots(3, 1, figsize=(50, 50), subplot_kw={'projection': '3d'})\n",
    "\n",
    "# 情绪值列名列表\n",
    "emotion_columns = ['上证综合情绪值', '沪深300情绪值', '创业板情绪值']\n",
    "\n",
    "# 遍历每个情绪值列\n",
    "for i, emotion_col in enumerate(emotion_columns):\n",
    "    ax = axes[i]\n",
    "    \n",
    "    # 按股票编号分组\n",
    "    for stock_code, stock_data in merged_data_cleaned.groupby('股票编号'):\n",
    "        if stock_code == '000002':  # 如果只关心股票编号为 '000002'\n",
    "            # 对每个股票编号绘制三维折线图\n",
    "            x = stock_data[emotion_col]  # 情绪值作为 x 轴\n",
    "            y = mdates.date2num(stock_data['日期'])  # 时间转换为数值类型，用于 y 轴\n",
    "            z = stock_data['收益率变化']  # 收益率变化作为 z 轴\n",
    "            \n",
    "            # 绘制三维折线图\n",
    "            ax.plot(x, y, z, label=f\"股票 {stock_code}\", marker='o', linestyle='-', alpha=0.7)\n",
    "\n",
    "    # 设置图表标签\n",
    "    ax.set_xlabel(emotion_col)\n",
    "    ax.set_ylabel('时间')\n",
    "    ax.set_zlabel('收益率变化')\n",
    "    ax.set_title(f'{emotion_col} 与收益率变化的三维关系')\n",
    "\n",
    "    # 设置 y 轴显示为半年显示一次\n",
    "    ax.yaxis.set_major_locator(mdates.MonthLocator(bymonthday=15, interval=6))  # 每半年一个刻度\n",
    "    ax.yaxis.set_major_formatter(mdates.DateFormatter('%Y-%m'))  # 按年月显示\n",
    "\n",
    "    # 自动旋转日期标签，防止重叠\n",
    "    fig.autofmt_xdate()\n",
    "\n",
    "# 调整布局\n",
    "plt.tight_layout()\n",
    "plt.savefig(f'{ROOT_PATH}/{Clustering_Method}/个股分析/{data_number}/{model}/万科A情绪股价时间序列数据')\n",
    "# plt.show()\n",
    "plt.close()"
   ]
  },
  {
   "cell_type": "markdown",
   "id": "7fcc99d8-77d8-4f04-b078-6f1909c9ea93",
   "metadata": {
    "papermill": {
     "duration": 0.018935,
     "end_time": "2025-06-06T11:13:31.308317",
     "exception": false,
     "start_time": "2025-06-06T11:13:31.289382",
     "status": "completed"
    },
    "tags": []
   },
   "source": [
    "## 数据集成"
   ]
  },
  {
   "cell_type": "code",
   "execution_count": 15,
   "id": "354a906d-b21f-44c4-a87f-f7e153aa1619",
   "metadata": {
    "execution": {
     "iopub.execute_input": "2025-06-06T11:13:31.339303Z",
     "iopub.status.busy": "2025-06-06T11:13:31.338941Z",
     "iopub.status.idle": "2025-06-06T11:13:31.378441Z",
     "shell.execute_reply": "2025-06-06T11:13:31.377923Z"
    },
    "papermill": {
     "duration": 0.068699,
     "end_time": "2025-06-06T11:13:31.397902",
     "exception": false,
     "start_time": "2025-06-06T11:13:31.329203",
     "status": "completed"
    },
    "tags": []
   },
   "outputs": [
    {
     "data": {
      "text/html": [
       "<div>\n",
       "<style scoped>\n",
       "    .dataframe tbody tr th:only-of-type {\n",
       "        vertical-align: middle;\n",
       "    }\n",
       "\n",
       "    .dataframe tbody tr th {\n",
       "        vertical-align: top;\n",
       "    }\n",
       "\n",
       "    .dataframe thead th {\n",
       "        text-align: right;\n",
       "    }\n",
       "</style>\n",
       "<table border=\"1\" class=\"dataframe\">\n",
       "  <thead>\n",
       "    <tr style=\"text-align: right;\">\n",
       "      <th></th>\n",
       "      <th>Stkcd</th>\n",
       "      <th>聚类标签</th>\n",
       "      <th>Stknme</th>\n",
       "    </tr>\n",
       "  </thead>\n",
       "  <tbody>\n",
       "    <tr>\n",
       "      <th>0</th>\n",
       "      <td>000002</td>\n",
       "      <td>1</td>\n",
       "      <td>万科A</td>\n",
       "    </tr>\n",
       "    <tr>\n",
       "      <th>1</th>\n",
       "      <td>000061</td>\n",
       "      <td>0</td>\n",
       "      <td>农产品</td>\n",
       "    </tr>\n",
       "    <tr>\n",
       "      <th>2</th>\n",
       "      <td>000063</td>\n",
       "      <td>2</td>\n",
       "      <td>中兴通讯</td>\n",
       "    </tr>\n",
       "    <tr>\n",
       "      <th>3</th>\n",
       "      <td>000069</td>\n",
       "      <td>0</td>\n",
       "      <td>华侨城A</td>\n",
       "    </tr>\n",
       "    <tr>\n",
       "      <th>4</th>\n",
       "      <td>000100</td>\n",
       "      <td>2</td>\n",
       "      <td>TCL科技</td>\n",
       "    </tr>\n",
       "    <tr>\n",
       "      <th>5</th>\n",
       "      <td>000333</td>\n",
       "      <td>2</td>\n",
       "      <td>美的集团</td>\n",
       "    </tr>\n",
       "    <tr>\n",
       "      <th>6</th>\n",
       "      <td>000513</td>\n",
       "      <td>1</td>\n",
       "      <td>丽珠集团</td>\n",
       "    </tr>\n",
       "    <tr>\n",
       "      <th>7</th>\n",
       "      <td>000625</td>\n",
       "      <td>0</td>\n",
       "      <td>长安汽车</td>\n",
       "    </tr>\n",
       "    <tr>\n",
       "      <th>8</th>\n",
       "      <td>000651</td>\n",
       "      <td>2</td>\n",
       "      <td>格力电器</td>\n",
       "    </tr>\n",
       "    <tr>\n",
       "      <th>9</th>\n",
       "      <td>000661</td>\n",
       "      <td>0</td>\n",
       "      <td>长春高新</td>\n",
       "    </tr>\n",
       "    <tr>\n",
       "      <th>10</th>\n",
       "      <td>000681</td>\n",
       "      <td>0</td>\n",
       "      <td>视觉中国</td>\n",
       "    </tr>\n",
       "    <tr>\n",
       "      <th>11</th>\n",
       "      <td>000723</td>\n",
       "      <td>0</td>\n",
       "      <td>美锦能源</td>\n",
       "    </tr>\n",
       "    <tr>\n",
       "      <th>12</th>\n",
       "      <td>000725</td>\n",
       "      <td>1</td>\n",
       "      <td>京东方A</td>\n",
       "    </tr>\n",
       "    <tr>\n",
       "      <th>13</th>\n",
       "      <td>000858</td>\n",
       "      <td>1</td>\n",
       "      <td>五粮液</td>\n",
       "    </tr>\n",
       "    <tr>\n",
       "      <th>14</th>\n",
       "      <td>000895</td>\n",
       "      <td>0</td>\n",
       "      <td>双汇发展</td>\n",
       "    </tr>\n",
       "    <tr>\n",
       "      <th>15</th>\n",
       "      <td>000910</td>\n",
       "      <td>0</td>\n",
       "      <td>大亚圣象</td>\n",
       "    </tr>\n",
       "    <tr>\n",
       "      <th>16</th>\n",
       "      <td>000937</td>\n",
       "      <td>0</td>\n",
       "      <td>冀中能源</td>\n",
       "    </tr>\n",
       "    <tr>\n",
       "      <th>17</th>\n",
       "      <td>000999</td>\n",
       "      <td>2</td>\n",
       "      <td>华润三九</td>\n",
       "    </tr>\n",
       "    <tr>\n",
       "      <th>18</th>\n",
       "      <td>001979</td>\n",
       "      <td>0</td>\n",
       "      <td>招商蛇口</td>\n",
       "    </tr>\n",
       "    <tr>\n",
       "      <th>19</th>\n",
       "      <td>002008</td>\n",
       "      <td>0</td>\n",
       "      <td>大族激光</td>\n",
       "    </tr>\n",
       "  </tbody>\n",
       "</table>\n",
       "</div>"
      ],
      "text/plain": [
       "     Stkcd  聚类标签 Stknme\n",
       "0   000002     1    万科A\n",
       "1   000061     0    农产品\n",
       "2   000063     2   中兴通讯\n",
       "3   000069     0   华侨城A\n",
       "4   000100     2  TCL科技\n",
       "5   000333     2   美的集团\n",
       "6   000513     1   丽珠集团\n",
       "7   000625     0   长安汽车\n",
       "8   000651     2   格力电器\n",
       "9   000661     0   长春高新\n",
       "10  000681     0   视觉中国\n",
       "11  000723     0   美锦能源\n",
       "12  000725     1   京东方A\n",
       "13  000858     1    五粮液\n",
       "14  000895     0   双汇发展\n",
       "15  000910     0   大亚圣象\n",
       "16  000937     0   冀中能源\n",
       "17  000999     2   华润三九\n",
       "18  001979     0   招商蛇口\n",
       "19  002008     0   大族激光"
      ]
     },
     "execution_count": 15,
     "metadata": {},
     "output_type": "execute_result"
    }
   ],
   "source": [
    "import pandas as pd\n",
    "\n",
    "# 读取两个CSV文件\n",
    "if emo_index == '上证综合情绪值':\n",
    "    cluster_df = pd.read_csv(f'{ROOT_PATH}/{Clustering_Method}/个股分析/{data_number}/{model}/个股分析_上证综合/clusters_results.csv', dtype={'股票编号': str})\n",
    "if emo_index == '沪深300情绪值':\n",
    "    cluster_df = pd.read_csv(f'{ROOT_PATH}/{Clustering_Method}/个股分析/{data_number}/{model}/个股分析_沪深300/clusters_results.csv', dtype={'股票编号': str})\n",
    "if emo_index == '创业板情绪值':\n",
    "    cluster_df = pd.read_csv(f'{ROOT_PATH}/{Clustering_Method}/个股分析/{data_number}/{model}/个股分析_创业板/clusters_results.csv', dtype={'股票编号': str})\n",
    "company_info_df = pd.read_csv(f'{Financial_Data_PATH}/中国公司代码.csv', dtype={'Stkcd': str})  # 假设第二个文件名为company_info.csv\n",
    "\n",
    "# 重命名列名，统一为 'Stkcd' 以便合并\n",
    "cluster_df = cluster_df.rename(columns={'股票编号': 'Stkcd'})\n",
    "\n",
    "# 显式统一合并键的数据类型\n",
    "cluster_df['Stkcd'] = cluster_df['Stkcd'].astype(str)\n",
    "company_info_df['Stkcd'] = company_info_df['Stkcd'].astype(str)\n",
    "\n",
    "# 合并前清除可能重复的列，防止冲突\n",
    "if 'Stknme' in cluster_df.columns:\n",
    "    cluster_df = cluster_df.drop(columns=['Stknme'])\n",
    "\n",
    "# 安全合并\n",
    "merged_df = pd.merge(cluster_df, company_info_df[['Stkcd', 'Stknme']], on='Stkcd', how='left')\n",
    "\n",
    "if emo_index == '上证综合情绪值':\n",
    "    merged_df.to_csv(f'{ROOT_PATH}/{Clustering_Method}/个股分析/{data_number}/{model}/个股分析_上证综合/clusters_results.csv', index=False)\n",
    "if emo_index == '沪深300情绪值':\n",
    "    merged_df.to_csv(f'{ROOT_PATH}/{Clustering_Method}/个股分析/{data_number}/{model}/个股分析_沪深300/clusters_results.csv', index=False)\n",
    "if emo_index == '创业板情绪值':\n",
    "    merged_df.to_csv(f'{ROOT_PATH}/{Clustering_Method}/个股分析/{data_number}/{model}/个股分析_创业板/clusters_results.csv', index=False)\n",
    "\n",
    "merged_df\n"
   ]
  },
  {
   "cell_type": "code",
   "execution_count": null,
   "id": "00b116a3-d2cf-4ab1-b287-ac857e9867f7",
   "metadata": {
    "papermill": {
     "duration": 0.016276,
     "end_time": "2025-06-06T11:13:31.441582",
     "exception": false,
     "start_time": "2025-06-06T11:13:31.425306",
     "status": "completed"
    },
    "tags": []
   },
   "outputs": [],
   "source": []
  },
  {
   "cell_type": "code",
   "execution_count": null,
   "id": "c2b75f69-0ebf-494f-9df5-9055cc5c6076",
   "metadata": {
    "papermill": {
     "duration": 0.004183,
     "end_time": "2025-06-06T11:13:31.454536",
     "exception": false,
     "start_time": "2025-06-06T11:13:31.450353",
     "status": "completed"
    },
    "tags": []
   },
   "outputs": [],
   "source": []
  }
 ],
 "metadata": {
  "kernelspec": {
   "display_name": "Python (z_env)",
   "language": "python",
   "name": "z_env"
  },
  "language_info": {
   "codemirror_mode": {
    "name": "ipython",
    "version": 3
   },
   "file_extension": ".py",
   "mimetype": "text/x-python",
   "name": "python",
   "nbconvert_exporter": "python",
   "pygments_lexer": "ipython3",
   "version": "3.12.9"
  },
  "papermill": {
   "default_parameters": {},
   "duration": 52.847568,
   "end_time": "2025-06-06T11:13:32.269617",
   "environment_variables": {},
   "exception": null,
   "input_path": "code.ipynb",
   "output_path": "output/20/Machine-learning/LR/创业板情绪值.ipynb",
   "parameters": {
    "data_number": 20,
    "emo_index_id": 2,
    "model_id": 3,
    "stage_id": 0
   },
   "start_time": "2025-06-06T11:12:39.422049",
   "version": "2.6.0"
  }
 },
 "nbformat": 4,
 "nbformat_minor": 5
}