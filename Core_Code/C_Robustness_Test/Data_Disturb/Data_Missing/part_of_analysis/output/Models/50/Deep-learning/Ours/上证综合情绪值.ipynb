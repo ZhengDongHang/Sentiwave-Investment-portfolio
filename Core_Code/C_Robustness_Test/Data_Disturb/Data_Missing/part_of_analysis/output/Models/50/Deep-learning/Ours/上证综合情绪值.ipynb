{
 "cells": [
  {
   "cell_type": "code",
   "execution_count": 1,
   "id": "d949de82",
   "metadata": {
    "execution": {
     "iopub.execute_input": "2025-06-08T16:16:15.821181Z",
     "iopub.status.busy": "2025-06-08T16:16:15.820999Z",
     "iopub.status.idle": "2025-06-08T16:16:15.825562Z",
     "shell.execute_reply": "2025-06-08T16:16:15.824867Z"
    },
    "papermill": {
     "duration": 0.009962,
     "end_time": "2025-06-08T16:16:15.826272",
     "exception": false,
     "start_time": "2025-06-08T16:16:15.816310",
     "status": "completed"
    },
    "tags": [
     "injected-parameters"
    ]
   },
   "outputs": [],
   "source": [
    "# Parameters\n",
    "EMO_INDEX = 0\n",
    "MODEL_INDEX = 7\n",
    "N = 50\n"
   ]
  },
  {
   "cell_type": "code",
   "execution_count": 2,
   "id": "ac1f5758-102b-44a4-bc4a-6fce77390472",
   "metadata": {
    "execution": {
     "iopub.execute_input": "2025-06-08T16:16:15.833995Z",
     "iopub.status.busy": "2025-06-08T16:16:15.833799Z",
     "iopub.status.idle": "2025-06-08T16:16:16.915205Z",
     "shell.execute_reply": "2025-06-08T16:16:16.914694Z"
    },
    "papermill": {
     "duration": 1.086449,
     "end_time": "2025-06-08T16:16:16.916363",
     "exception": false,
     "start_time": "2025-06-08T16:16:15.829914",
     "status": "completed"
    },
    "tags": []
   },
   "outputs": [],
   "source": [
    "import os\n",
    "import ast\n",
    "import pandas as pd\n",
    "import numpy as np\n",
    "from tqdm import tqdm\n",
    "tqdm.pandas()\n",
    "import matplotlib.pyplot as plt\n",
    "from mpl_toolkits.mplot3d import Axes3D\n",
    "import matplotlib.dates as mdates\n",
    "import statsmodels.api as sm # 用于统计检验\n",
    "%matplotlib inline\n",
    "plt.rcParams[\"font.sans-serif\"]=[\"WenQuanYi Micro Hei\"] #设置字体\n",
    "plt.rcParams[\"axes.unicode_minus\"]=False #该语句解决图像中的“-”负号的乱码问题"
   ]
  },
  {
   "cell_type": "markdown",
   "id": "4aa5b3c5-90dc-41a8-8f8e-51ee0a038af9",
   "metadata": {
    "papermill": {
     "duration": 0.006918,
     "end_time": "2025-06-08T16:16:16.930707",
     "exception": false,
     "start_time": "2025-06-08T16:16:16.923789",
     "status": "completed"
    },
    "tags": []
   },
   "source": [
    "## 参数选择"
   ]
  },
  {
   "cell_type": "code",
   "execution_count": 3,
   "id": "2c099ec3-1f52-4731-912d-f894c40c4ae8",
   "metadata": {
    "execution": {
     "iopub.execute_input": "2025-06-08T16:16:16.944528Z",
     "iopub.status.busy": "2025-06-08T16:16:16.944242Z",
     "iopub.status.idle": "2025-06-08T16:16:16.946418Z",
     "shell.execute_reply": "2025-06-08T16:16:16.946082Z"
    },
    "papermill": {
     "duration": 0.009788,
     "end_time": "2025-06-08T16:16:16.947137",
     "exception": false,
     "start_time": "2025-06-08T16:16:16.937349",
     "status": "completed"
    },
    "tags": []
   },
   "outputs": [],
   "source": [
    "# # Parameters\n",
    "# MODEL_INDEX = 2\n",
    "# EMO_INDEX = 0\n",
    "# N = 20"
   ]
  },
  {
   "cell_type": "code",
   "execution_count": 4,
   "id": "5e92fbf2-a036-4632-83e9-d2f7f792dd5a",
   "metadata": {
    "execution": {
     "iopub.execute_input": "2025-06-08T16:16:16.960067Z",
     "iopub.status.busy": "2025-06-08T16:16:16.959858Z",
     "iopub.status.idle": "2025-06-08T16:16:16.962309Z",
     "shell.execute_reply": "2025-06-08T16:16:16.961986Z"
    },
    "papermill": {
     "duration": 0.009713,
     "end_time": "2025-06-08T16:16:16.963099",
     "exception": false,
     "start_time": "2025-06-08T16:16:16.953386",
     "status": "completed"
    },
    "tags": []
   },
   "outputs": [],
   "source": [
    "ORI_DATA_PATH = '/data/public/fintechlab/zdh/Individual-Stock-Analysis/B_Temporal_Clustering/data'\n",
    "ROOT_PATH = '/data/public/fintechlab/zdh/Individual-Stock-Analysis/B_Result_Analysis'\n",
    "CLUSTER_PATH = f'{ROOT_PATH}/data/Comparison_of_Emotional_models'\n",
    "\n",
    "MODEL = ['Emo-Dict/DLUT', 'Emo-Dict/Bian', 'Emo-Dict/Jiang',\n",
    "         'Machine-learning/LR', 'Machine-learning/RF', 'Machine-learning/SVM', \n",
    "         'Deep-learning/BERT', 'Deep-learning/Ours'][MODEL_INDEX]\n",
    "Emotion_Data_PATH = f'{ORI_DATA_PATH}/Emotion_Data/{MODEL}'   # 情绪数据路径\n",
    "Financial_Data_PATH = f'{ORI_DATA_PATH}/Financial_Data' # 金融数据路径"
   ]
  },
  {
   "cell_type": "code",
   "execution_count": 5,
   "id": "ab28f59a-bcba-4fa6-b8e4-1d9c62f19601",
   "metadata": {
    "execution": {
     "iopub.execute_input": "2025-06-08T16:16:16.974648Z",
     "iopub.status.busy": "2025-06-08T16:16:16.974472Z",
     "iopub.status.idle": "2025-06-08T16:16:16.977047Z",
     "shell.execute_reply": "2025-06-08T16:16:16.976611Z"
    },
    "papermill": {
     "duration": 0.009252,
     "end_time": "2025-06-08T16:16:16.977864",
     "exception": false,
     "start_time": "2025-06-08T16:16:16.968612",
     "status": "completed"
    },
    "tags": []
   },
   "outputs": [],
   "source": [
    "EMO_MARKET = ['Shanghai_Composite_Index', 'CSI_300_Index', 'Chinext_Index'][EMO_INDEX]\n",
    "EMO_INDEX_MAP = {\n",
    "    'Shanghai_Composite_Index': '上证综合情绪值',\n",
    "    'CSI_300_Index': '沪深300情绪值',\n",
    "    'Chinext_Index': '创业板情绪值'\n",
    "}\n",
    "EMO_NAME = EMO_INDEX_MAP[EMO_MARKET]"
   ]
  },
  {
   "cell_type": "markdown",
   "id": "31aeb8aa-a43c-4527-a3ed-8894749f6666",
   "metadata": {
    "papermill": {
     "duration": 0.006097,
     "end_time": "2025-06-08T16:16:16.990254",
     "exception": false,
     "start_time": "2025-06-08T16:16:16.984157",
     "status": "completed"
    },
    "tags": []
   },
   "source": [
    "## 数据预处理"
   ]
  },
  {
   "cell_type": "code",
   "execution_count": 6,
   "id": "7b46a311-bd99-40de-a098-15fa056cc7c9",
   "metadata": {
    "execution": {
     "iopub.execute_input": "2025-06-08T16:16:17.004164Z",
     "iopub.status.busy": "2025-06-08T16:16:17.003774Z",
     "iopub.status.idle": "2025-06-08T16:16:17.019415Z",
     "shell.execute_reply": "2025-06-08T16:16:17.018725Z"
    },
    "papermill": {
     "duration": 0.02354,
     "end_time": "2025-06-08T16:16:17.020378",
     "exception": false,
     "start_time": "2025-06-08T16:16:16.996838",
     "status": "completed"
    },
    "tags": []
   },
   "outputs": [
    {
     "data": {
      "text/html": [
       "<div>\n",
       "<style scoped>\n",
       "    .dataframe tbody tr th:only-of-type {\n",
       "        vertical-align: middle;\n",
       "    }\n",
       "\n",
       "    .dataframe tbody tr th {\n",
       "        vertical-align: top;\n",
       "    }\n",
       "\n",
       "    .dataframe thead th {\n",
       "        text-align: right;\n",
       "    }\n",
       "</style>\n",
       "<table border=\"1\" class=\"dataframe\">\n",
       "  <thead>\n",
       "    <tr style=\"text-align: right;\">\n",
       "      <th></th>\n",
       "      <th>股票编号</th>\n",
       "      <th>聚类标签</th>\n",
       "      <th>公司名称</th>\n",
       "    </tr>\n",
       "  </thead>\n",
       "  <tbody>\n",
       "    <tr>\n",
       "      <th>117</th>\n",
       "      <td>600703</td>\n",
       "      <td>2</td>\n",
       "      <td>三安光电</td>\n",
       "    </tr>\n",
       "    <tr>\n",
       "      <th>78</th>\n",
       "      <td>600029</td>\n",
       "      <td>1</td>\n",
       "      <td>南方航空</td>\n",
       "    </tr>\n",
       "    <tr>\n",
       "      <th>131</th>\n",
       "      <td>600905</td>\n",
       "      <td>2</td>\n",
       "      <td>三峡能源</td>\n",
       "    </tr>\n",
       "    <tr>\n",
       "      <th>146</th>\n",
       "      <td>601318</td>\n",
       "      <td>2</td>\n",
       "      <td>中国平安</td>\n",
       "    </tr>\n",
       "    <tr>\n",
       "      <th>112</th>\n",
       "      <td>600600</td>\n",
       "      <td>1</td>\n",
       "      <td>青岛啤酒</td>\n",
       "    </tr>\n",
       "  </tbody>\n",
       "</table>\n",
       "</div>"
      ],
      "text/plain": [
       "       股票编号  聚类标签  公司名称\n",
       "117  600703     2  三安光电\n",
       "78   600029     1  南方航空\n",
       "131  600905     2  三峡能源\n",
       "146  601318     2  中国平安\n",
       "112  600600     1  青岛啤酒"
      ]
     },
     "execution_count": 6,
     "metadata": {},
     "output_type": "execute_result"
    }
   ],
   "source": [
    "## 读取聚类结果\n",
    "cluster_data = pd.read_csv(f'{CLUSTER_PATH}/{EMO_MARKET}/{MODEL}.csv', dtype={\"Stkcd\": str})\n",
    "cluster_data.columns = ['股票编号', '聚类标签', '公司名称']\n",
    "\n",
    "# 尝试抽样直到满足每个簇至少出现3次\n",
    "for _ in range(100):\n",
    "    cluster_data = cluster_data.sample(n=N, random_state=np.random.randint(0, 10000))\n",
    "    label_counts = cluster_data['聚类标签'].value_counts()\n",
    "    \n",
    "    if all(label_counts >= 3):\n",
    "        break\n",
    "else:\n",
    "    raise ValueError(f\"在 {RETRY_LIMIT} 次尝试中无法找到满足每个簇至少3个样本的抽样结果，请减少 N 或检查数据分布。\")\n",
    "\n",
    "cluster_data.head()"
   ]
  },
  {
   "cell_type": "code",
   "execution_count": 7,
   "id": "9ea2a594-a7ee-4fb7-a54b-47fd614ed2e5",
   "metadata": {
    "execution": {
     "iopub.execute_input": "2025-06-08T16:16:17.034451Z",
     "iopub.status.busy": "2025-06-08T16:16:17.034229Z",
     "iopub.status.idle": "2025-06-08T16:17:24.941442Z",
     "shell.execute_reply": "2025-06-08T16:17:24.941008Z"
    },
    "papermill": {
     "duration": 68.221739,
     "end_time": "2025-06-08T16:17:25.248645",
     "exception": false,
     "start_time": "2025-06-08T16:16:17.026906",
     "status": "completed"
    },
    "tags": []
   },
   "outputs": [
    {
     "name": "stderr",
     "output_type": "stream",
     "text": [
      "\r",
      "读取文件:   0%|          | 0/183 [00:00<?, ?it/s]"
     ]
    },
    {
     "name": "stderr",
     "output_type": "stream",
     "text": [
      "\r",
      "读取文件:   1%|          | 1/183 [00:00<01:00,  3.03it/s]"
     ]
    },
    {
     "name": "stderr",
     "output_type": "stream",
     "text": [
      "\r",
      "读取文件:   2%|▏         | 3/183 [00:00<00:37,  4.78it/s]"
     ]
    },
    {
     "name": "stderr",
     "output_type": "stream",
     "text": [
      "\r",
      "读取文件:   2%|▏         | 4/183 [00:01<01:18,  2.27it/s]"
     ]
    },
    {
     "name": "stderr",
     "output_type": "stream",
     "text": [
      "\r",
      "读取文件:   3%|▎         | 5/183 [00:01<00:59,  3.00it/s]"
     ]
    },
    {
     "name": "stderr",
     "output_type": "stream",
     "text": [
      "\r",
      "读取文件:   3%|▎         | 6/183 [00:01<00:48,  3.61it/s]"
     ]
    },
    {
     "name": "stderr",
     "output_type": "stream",
     "text": [
      "\r",
      "读取文件:   4%|▍         | 7/183 [00:02<01:24,  2.08it/s]"
     ]
    },
    {
     "name": "stderr",
     "output_type": "stream",
     "text": [
      "\r",
      "读取文件:   4%|▍         | 8/183 [00:02<01:04,  2.72it/s]"
     ]
    },
    {
     "name": "stderr",
     "output_type": "stream",
     "text": [
      "\r",
      "读取文件:   5%|▍         | 9/183 [00:03<01:04,  2.71it/s]"
     ]
    },
    {
     "name": "stderr",
     "output_type": "stream",
     "text": [
      "\r",
      "读取文件:   5%|▌         | 10/183 [00:03<01:08,  2.53it/s]"
     ]
    },
    {
     "name": "stderr",
     "output_type": "stream",
     "text": [
      "\r",
      "读取文件:   6%|▌         | 11/183 [00:03<00:54,  3.16it/s]"
     ]
    },
    {
     "name": "stderr",
     "output_type": "stream",
     "text": [
      "\r",
      "读取文件:   7%|▋         | 12/183 [00:04<00:47,  3.63it/s]"
     ]
    },
    {
     "name": "stderr",
     "output_type": "stream",
     "text": [
      "\r",
      "读取文件:   8%|▊         | 14/183 [00:04<00:29,  5.76it/s]"
     ]
    },
    {
     "name": "stderr",
     "output_type": "stream",
     "text": [
      "\r",
      "读取文件:   8%|▊         | 15/183 [00:04<00:37,  4.43it/s]"
     ]
    },
    {
     "name": "stderr",
     "output_type": "stream",
     "text": [
      "\r",
      "读取文件:   9%|▊         | 16/183 [00:07<02:59,  1.07s/it]"
     ]
    },
    {
     "name": "stderr",
     "output_type": "stream",
     "text": [
      "\r",
      "读取文件:   9%|▉         | 17/183 [00:08<02:15,  1.23it/s]"
     ]
    },
    {
     "name": "stderr",
     "output_type": "stream",
     "text": [
      "\r",
      "读取文件:  10%|▉         | 18/183 [00:09<02:41,  1.02it/s]"
     ]
    },
    {
     "name": "stderr",
     "output_type": "stream",
     "text": [
      "\r",
      "读取文件:  11%|█         | 20/183 [00:09<01:32,  1.76it/s]"
     ]
    },
    {
     "name": "stderr",
     "output_type": "stream",
     "text": [
      "\r",
      "读取文件:  11%|█▏        | 21/183 [00:09<01:15,  2.15it/s]"
     ]
    },
    {
     "name": "stderr",
     "output_type": "stream",
     "text": [
      "\r",
      "读取文件:  12%|█▏        | 22/183 [00:09<01:01,  2.62it/s]"
     ]
    },
    {
     "name": "stderr",
     "output_type": "stream",
     "text": [
      "\r",
      "读取文件:  13%|█▎        | 23/183 [00:10<01:01,  2.62it/s]"
     ]
    },
    {
     "name": "stderr",
     "output_type": "stream",
     "text": [
      "\r",
      "读取文件:  13%|█▎        | 24/183 [00:10<00:54,  2.93it/s]"
     ]
    },
    {
     "name": "stderr",
     "output_type": "stream",
     "text": [
      "\r",
      "读取文件:  14%|█▎        | 25/183 [00:10<00:53,  2.93it/s]"
     ]
    },
    {
     "name": "stderr",
     "output_type": "stream",
     "text": [
      "\r",
      "读取文件:  14%|█▍        | 26/183 [00:11<00:45,  3.42it/s]"
     ]
    },
    {
     "name": "stderr",
     "output_type": "stream",
     "text": [
      "\r",
      "读取文件:  15%|█▍        | 27/183 [00:11<00:53,  2.90it/s]"
     ]
    },
    {
     "name": "stderr",
     "output_type": "stream",
     "text": [
      "\r",
      "读取文件:  15%|█▌        | 28/183 [00:11<00:54,  2.87it/s]"
     ]
    },
    {
     "name": "stderr",
     "output_type": "stream",
     "text": [
      "\r",
      "读取文件:  16%|█▌        | 29/183 [00:12<00:50,  3.02it/s]"
     ]
    },
    {
     "name": "stderr",
     "output_type": "stream",
     "text": [
      "\r",
      "读取文件:  16%|█▋        | 30/183 [00:12<00:40,  3.76it/s]"
     ]
    },
    {
     "name": "stderr",
     "output_type": "stream",
     "text": [
      "\r",
      "读取文件:  17%|█▋        | 31/183 [00:13<01:24,  1.79it/s]"
     ]
    },
    {
     "name": "stderr",
     "output_type": "stream",
     "text": [
      "\r",
      "读取文件:  17%|█▋        | 32/183 [00:14<01:26,  1.75it/s]"
     ]
    },
    {
     "name": "stderr",
     "output_type": "stream",
     "text": [
      "\r",
      "读取文件:  19%|█▊        | 34/183 [00:14<00:53,  2.79it/s]"
     ]
    },
    {
     "name": "stderr",
     "output_type": "stream",
     "text": [
      "\r",
      "读取文件:  19%|█▉        | 35/183 [00:15<01:07,  2.19it/s]"
     ]
    },
    {
     "name": "stderr",
     "output_type": "stream",
     "text": [
      "\r",
      "读取文件:  20%|██        | 37/183 [00:15<00:43,  3.36it/s]"
     ]
    },
    {
     "name": "stderr",
     "output_type": "stream",
     "text": [
      "\r",
      "读取文件:  21%|██▏       | 39/183 [00:15<00:30,  4.76it/s]"
     ]
    },
    {
     "name": "stderr",
     "output_type": "stream",
     "text": [
      "\r",
      "读取文件:  22%|██▏       | 41/183 [00:15<00:22,  6.44it/s]"
     ]
    },
    {
     "name": "stderr",
     "output_type": "stream",
     "text": [
      "\r",
      "读取文件:  23%|██▎       | 43/183 [00:15<00:20,  6.77it/s]"
     ]
    },
    {
     "name": "stderr",
     "output_type": "stream",
     "text": [
      "\r",
      "读取文件:  25%|██▍       | 45/183 [00:16<00:24,  5.55it/s]"
     ]
    },
    {
     "name": "stderr",
     "output_type": "stream",
     "text": [
      "\r",
      "读取文件:  25%|██▌       | 46/183 [00:16<00:32,  4.16it/s]"
     ]
    },
    {
     "name": "stderr",
     "output_type": "stream",
     "text": [
      "\r",
      "读取文件:  26%|██▌       | 47/183 [00:17<00:40,  3.34it/s]"
     ]
    },
    {
     "name": "stderr",
     "output_type": "stream",
     "text": [
      "\r",
      "读取文件:  26%|██▌       | 48/183 [00:17<00:39,  3.45it/s]"
     ]
    },
    {
     "name": "stderr",
     "output_type": "stream",
     "text": [
      "\r",
      "读取文件:  27%|██▋       | 49/183 [00:17<00:40,  3.28it/s]"
     ]
    },
    {
     "name": "stderr",
     "output_type": "stream",
     "text": [
      "\r",
      "读取文件:  28%|██▊       | 51/183 [00:18<00:39,  3.31it/s]"
     ]
    },
    {
     "name": "stderr",
     "output_type": "stream",
     "text": [
      "\r",
      "读取文件:  29%|██▉       | 53/183 [00:18<00:32,  3.98it/s]"
     ]
    },
    {
     "name": "stderr",
     "output_type": "stream",
     "text": [
      "\r",
      "读取文件:  30%|██▉       | 54/183 [00:19<00:33,  3.84it/s]"
     ]
    },
    {
     "name": "stderr",
     "output_type": "stream",
     "text": [
      "\r",
      "读取文件:  31%|███       | 56/183 [00:19<00:29,  4.25it/s]"
     ]
    },
    {
     "name": "stderr",
     "output_type": "stream",
     "text": [
      "\r",
      "读取文件:  31%|███       | 57/183 [00:20<00:56,  2.22it/s]"
     ]
    },
    {
     "name": "stderr",
     "output_type": "stream",
     "text": [
      "\r",
      "读取文件:  32%|███▏      | 58/183 [00:21<00:52,  2.37it/s]"
     ]
    },
    {
     "name": "stderr",
     "output_type": "stream",
     "text": [
      "\r",
      "读取文件:  33%|███▎      | 60/183 [00:21<00:35,  3.47it/s]"
     ]
    },
    {
     "name": "stderr",
     "output_type": "stream",
     "text": [
      "\r",
      "读取文件:  33%|███▎      | 61/183 [00:21<00:43,  2.82it/s]"
     ]
    },
    {
     "name": "stderr",
     "output_type": "stream",
     "text": [
      "\r",
      "读取文件:  34%|███▍      | 62/183 [00:22<00:39,  3.06it/s]"
     ]
    },
    {
     "name": "stderr",
     "output_type": "stream",
     "text": [
      "\r",
      "读取文件:  35%|███▍      | 64/183 [00:22<00:30,  3.86it/s]"
     ]
    },
    {
     "name": "stderr",
     "output_type": "stream",
     "text": [
      "\r",
      "读取文件:  36%|███▌      | 65/183 [00:22<00:30,  3.85it/s]"
     ]
    },
    {
     "name": "stderr",
     "output_type": "stream",
     "text": [
      "\r",
      "读取文件:  36%|███▌      | 66/183 [00:23<00:38,  3.06it/s]"
     ]
    },
    {
     "name": "stderr",
     "output_type": "stream",
     "text": [
      "\r",
      "读取文件:  37%|███▋      | 67/183 [00:23<00:51,  2.23it/s]"
     ]
    },
    {
     "name": "stderr",
     "output_type": "stream",
     "text": [
      "\r",
      "读取文件:  37%|███▋      | 68/183 [00:24<01:00,  1.90it/s]"
     ]
    },
    {
     "name": "stderr",
     "output_type": "stream",
     "text": [
      "\r",
      "读取文件:  38%|███▊      | 69/183 [00:25<01:00,  1.90it/s]"
     ]
    },
    {
     "name": "stderr",
     "output_type": "stream",
     "text": [
      "\r",
      "读取文件:  38%|███▊      | 70/183 [00:25<00:56,  2.01it/s]"
     ]
    },
    {
     "name": "stderr",
     "output_type": "stream",
     "text": [
      "\r",
      "读取文件:  39%|███▉      | 71/183 [00:25<00:45,  2.48it/s]"
     ]
    },
    {
     "name": "stderr",
     "output_type": "stream",
     "text": [
      "\r",
      "读取文件:  39%|███▉      | 72/183 [00:26<00:38,  2.85it/s]"
     ]
    },
    {
     "name": "stderr",
     "output_type": "stream",
     "text": [
      "\r",
      "读取文件:  40%|███▉      | 73/183 [00:27<01:01,  1.78it/s]"
     ]
    },
    {
     "name": "stderr",
     "output_type": "stream",
     "text": [
      "\r",
      "读取文件:  40%|████      | 74/183 [00:31<03:01,  1.66s/it]"
     ]
    },
    {
     "name": "stderr",
     "output_type": "stream",
     "text": [
      "\r",
      "读取文件:  41%|████      | 75/183 [00:31<02:10,  1.21s/it]"
     ]
    },
    {
     "name": "stderr",
     "output_type": "stream",
     "text": [
      "\r",
      "读取文件:  42%|████▏     | 76/183 [00:31<01:36,  1.11it/s]"
     ]
    },
    {
     "name": "stderr",
     "output_type": "stream",
     "text": [
      "\r",
      "读取文件:  42%|████▏     | 77/183 [00:31<01:11,  1.47it/s]"
     ]
    },
    {
     "name": "stderr",
     "output_type": "stream",
     "text": [
      "\r",
      "读取文件:  43%|████▎     | 78/183 [00:32<01:03,  1.65it/s]"
     ]
    },
    {
     "name": "stderr",
     "output_type": "stream",
     "text": [
      "\r",
      "读取文件:  43%|████▎     | 79/183 [00:32<00:50,  2.06it/s]"
     ]
    },
    {
     "name": "stderr",
     "output_type": "stream",
     "text": [
      "\r",
      "读取文件:  44%|████▎     | 80/183 [00:33<00:56,  1.81it/s]"
     ]
    },
    {
     "name": "stderr",
     "output_type": "stream",
     "text": [
      "\r",
      "读取文件:  44%|████▍     | 81/183 [00:34<01:12,  1.40it/s]"
     ]
    },
    {
     "name": "stderr",
     "output_type": "stream",
     "text": [
      "\r",
      "读取文件:  45%|████▌     | 83/183 [00:34<00:53,  1.85it/s]"
     ]
    },
    {
     "name": "stderr",
     "output_type": "stream",
     "text": [
      "\r",
      "读取文件:  46%|████▌     | 84/183 [00:35<00:43,  2.29it/s]"
     ]
    },
    {
     "name": "stderr",
     "output_type": "stream",
     "text": [
      "\r",
      "读取文件:  46%|████▋     | 85/183 [00:35<00:38,  2.54it/s]"
     ]
    },
    {
     "name": "stderr",
     "output_type": "stream",
     "text": [
      "\r",
      "读取文件:  47%|████▋     | 86/183 [00:35<00:32,  2.96it/s]"
     ]
    },
    {
     "name": "stderr",
     "output_type": "stream",
     "text": [
      "\r",
      "读取文件:  48%|████▊     | 88/183 [00:36<00:33,  2.80it/s]"
     ]
    },
    {
     "name": "stderr",
     "output_type": "stream",
     "text": [
      "\r",
      "读取文件:  49%|████▊     | 89/183 [00:36<00:31,  2.96it/s]"
     ]
    },
    {
     "name": "stderr",
     "output_type": "stream",
     "text": [
      "\r",
      "读取文件:  49%|████▉     | 90/183 [00:36<00:30,  3.08it/s]"
     ]
    },
    {
     "name": "stderr",
     "output_type": "stream",
     "text": [
      "\r",
      "读取文件:  50%|████▉     | 91/183 [00:37<00:26,  3.50it/s]"
     ]
    },
    {
     "name": "stderr",
     "output_type": "stream",
     "text": [
      "\r",
      "读取文件:  50%|█████     | 92/183 [00:37<00:24,  3.70it/s]"
     ]
    },
    {
     "name": "stderr",
     "output_type": "stream",
     "text": [
      "\r",
      "读取文件:  51%|█████▏    | 94/183 [00:37<00:23,  3.73it/s]"
     ]
    },
    {
     "name": "stderr",
     "output_type": "stream",
     "text": [
      "\r",
      "读取文件:  52%|█████▏    | 95/183 [00:37<00:21,  4.09it/s]"
     ]
    },
    {
     "name": "stderr",
     "output_type": "stream",
     "text": [
      "\r",
      "读取文件:  52%|█████▏    | 96/183 [00:38<00:35,  2.46it/s]"
     ]
    },
    {
     "name": "stderr",
     "output_type": "stream",
     "text": [
      "\r",
      "读取文件:  53%|█████▎    | 97/183 [00:39<00:39,  2.16it/s]"
     ]
    },
    {
     "name": "stderr",
     "output_type": "stream",
     "text": [
      "\r",
      "读取文件:  54%|█████▎    | 98/183 [00:39<00:35,  2.37it/s]"
     ]
    },
    {
     "name": "stderr",
     "output_type": "stream",
     "text": [
      "\r",
      "读取文件:  54%|█████▍    | 99/183 [00:39<00:29,  2.88it/s]"
     ]
    },
    {
     "name": "stderr",
     "output_type": "stream",
     "text": [
      "\r",
      "读取文件:  55%|█████▌    | 101/183 [00:40<00:29,  2.76it/s]"
     ]
    },
    {
     "name": "stderr",
     "output_type": "stream",
     "text": [
      "\r",
      "读取文件:  56%|█████▋    | 103/183 [00:40<00:19,  4.10it/s]"
     ]
    },
    {
     "name": "stderr",
     "output_type": "stream",
     "text": [
      "\r",
      "读取文件:  57%|█████▋    | 104/183 [00:40<00:17,  4.62it/s]"
     ]
    },
    {
     "name": "stderr",
     "output_type": "stream",
     "text": [
      "\r",
      "读取文件:  57%|█████▋    | 105/183 [00:41<00:18,  4.24it/s]"
     ]
    },
    {
     "name": "stderr",
     "output_type": "stream",
     "text": [
      "\r",
      "读取文件:  58%|█████▊    | 107/183 [00:41<00:13,  5.44it/s]"
     ]
    },
    {
     "name": "stderr",
     "output_type": "stream",
     "text": [
      "\r",
      "读取文件:  60%|█████▉    | 109/183 [00:41<00:11,  6.64it/s]"
     ]
    },
    {
     "name": "stderr",
     "output_type": "stream",
     "text": [
      "\r",
      "读取文件:  60%|██████    | 110/183 [00:41<00:11,  6.57it/s]"
     ]
    },
    {
     "name": "stderr",
     "output_type": "stream",
     "text": [
      "\r",
      "读取文件:  61%|██████    | 111/183 [00:41<00:10,  6.78it/s]"
     ]
    },
    {
     "name": "stderr",
     "output_type": "stream",
     "text": [
      "\r",
      "读取文件:  61%|██████    | 112/183 [00:42<00:10,  7.02it/s]"
     ]
    },
    {
     "name": "stderr",
     "output_type": "stream",
     "text": [
      "\r",
      "读取文件:  62%|██████▏   | 113/183 [00:42<00:12,  5.69it/s]"
     ]
    },
    {
     "name": "stderr",
     "output_type": "stream",
     "text": [
      "\r",
      "读取文件:  63%|██████▎   | 115/183 [00:42<00:11,  5.72it/s]"
     ]
    },
    {
     "name": "stderr",
     "output_type": "stream",
     "text": [
      "\r",
      "读取文件:  64%|██████▍   | 117/183 [00:43<00:11,  5.70it/s]"
     ]
    },
    {
     "name": "stderr",
     "output_type": "stream",
     "text": [
      "\r",
      "读取文件:  64%|██████▍   | 118/183 [00:43<00:11,  5.65it/s]"
     ]
    },
    {
     "name": "stderr",
     "output_type": "stream",
     "text": [
      "\r",
      "读取文件:  66%|██████▌   | 120/183 [00:43<00:09,  6.80it/s]"
     ]
    },
    {
     "name": "stderr",
     "output_type": "stream",
     "text": [
      "\r",
      "读取文件:  66%|██████▌   | 121/183 [00:43<00:10,  6.00it/s]"
     ]
    },
    {
     "name": "stderr",
     "output_type": "stream",
     "text": [
      "\r",
      "读取文件:  67%|██████▋   | 122/183 [00:45<00:28,  2.12it/s]"
     ]
    },
    {
     "name": "stderr",
     "output_type": "stream",
     "text": [
      "\r",
      "读取文件:  67%|██████▋   | 123/183 [00:45<00:23,  2.59it/s]"
     ]
    },
    {
     "name": "stderr",
     "output_type": "stream",
     "text": [
      "\r",
      "读取文件:  68%|██████▊   | 124/183 [00:48<01:13,  1.25s/it]"
     ]
    },
    {
     "name": "stderr",
     "output_type": "stream",
     "text": [
      "\r",
      "读取文件:  68%|██████▊   | 125/183 [00:49<00:57,  1.02it/s]"
     ]
    },
    {
     "name": "stderr",
     "output_type": "stream",
     "text": [
      "\r",
      "读取文件:  69%|██████▉   | 127/183 [00:49<00:32,  1.73it/s]"
     ]
    },
    {
     "name": "stderr",
     "output_type": "stream",
     "text": [
      "\r",
      "读取文件:  70%|██████▉   | 128/183 [00:49<00:26,  2.07it/s]"
     ]
    },
    {
     "name": "stderr",
     "output_type": "stream",
     "text": [
      "\r",
      "读取文件:  70%|███████   | 129/183 [00:49<00:23,  2.34it/s]"
     ]
    },
    {
     "name": "stderr",
     "output_type": "stream",
     "text": [
      "\r",
      "读取文件:  72%|███████▏  | 131/183 [00:50<00:21,  2.40it/s]"
     ]
    },
    {
     "name": "stderr",
     "output_type": "stream",
     "text": [
      "\r",
      "读取文件:  72%|███████▏  | 132/183 [00:51<00:31,  1.61it/s]"
     ]
    },
    {
     "name": "stderr",
     "output_type": "stream",
     "text": [
      "\r",
      "读取文件:  73%|███████▎  | 133/183 [00:51<00:24,  2.02it/s]"
     ]
    },
    {
     "name": "stderr",
     "output_type": "stream",
     "text": [
      "\r",
      "读取文件:  74%|███████▍  | 135/183 [00:53<00:27,  1.73it/s]"
     ]
    },
    {
     "name": "stderr",
     "output_type": "stream",
     "text": [
      "\r",
      "读取文件:  74%|███████▍  | 136/183 [00:53<00:26,  1.77it/s]"
     ]
    },
    {
     "name": "stderr",
     "output_type": "stream",
     "text": [
      "\r",
      "读取文件:  75%|███████▍  | 137/183 [00:54<00:30,  1.53it/s]"
     ]
    },
    {
     "name": "stderr",
     "output_type": "stream",
     "text": [
      "\r",
      "读取文件:  76%|███████▌  | 139/183 [00:55<00:19,  2.30it/s]"
     ]
    },
    {
     "name": "stderr",
     "output_type": "stream",
     "text": [
      "\r",
      "读取文件:  77%|███████▋  | 140/183 [00:55<00:21,  2.01it/s]"
     ]
    },
    {
     "name": "stderr",
     "output_type": "stream",
     "text": [
      "\r",
      "读取文件:  77%|███████▋  | 141/183 [00:55<00:17,  2.43it/s]"
     ]
    },
    {
     "name": "stderr",
     "output_type": "stream",
     "text": [
      "\r",
      "读取文件:  78%|███████▊  | 142/183 [00:56<00:17,  2.32it/s]"
     ]
    },
    {
     "name": "stderr",
     "output_type": "stream",
     "text": [
      "\r",
      "读取文件:  78%|███████▊  | 143/183 [00:56<00:18,  2.21it/s]"
     ]
    },
    {
     "name": "stderr",
     "output_type": "stream",
     "text": [
      "\r",
      "读取文件:  79%|███████▊  | 144/183 [00:57<00:22,  1.71it/s]"
     ]
    },
    {
     "name": "stderr",
     "output_type": "stream",
     "text": [
      "\r",
      "读取文件:  80%|███████▉  | 146/183 [00:58<00:13,  2.67it/s]"
     ]
    },
    {
     "name": "stderr",
     "output_type": "stream",
     "text": [
      "\r",
      "读取文件:  80%|████████  | 147/183 [00:58<00:15,  2.28it/s]"
     ]
    },
    {
     "name": "stderr",
     "output_type": "stream",
     "text": [
      "\r",
      "读取文件:  81%|████████  | 148/183 [00:58<00:12,  2.79it/s]"
     ]
    },
    {
     "name": "stderr",
     "output_type": "stream",
     "text": [
      "\r",
      "读取文件:  81%|████████▏ | 149/183 [00:58<00:10,  3.25it/s]"
     ]
    },
    {
     "name": "stderr",
     "output_type": "stream",
     "text": [
      "\r",
      "读取文件:  83%|████████▎ | 151/183 [00:59<00:10,  3.13it/s]"
     ]
    },
    {
     "name": "stderr",
     "output_type": "stream",
     "text": [
      "\r",
      "读取文件:  84%|████████▎ | 153/183 [00:59<00:07,  4.23it/s]"
     ]
    },
    {
     "name": "stderr",
     "output_type": "stream",
     "text": [
      "\r",
      "读取文件:  84%|████████▍ | 154/183 [00:59<00:06,  4.64it/s]"
     ]
    },
    {
     "name": "stderr",
     "output_type": "stream",
     "text": [
      "\r",
      "读取文件:  85%|████████▌ | 156/183 [01:00<00:06,  3.87it/s]"
     ]
    },
    {
     "name": "stderr",
     "output_type": "stream",
     "text": [
      "\r",
      "读取文件:  86%|████████▌ | 157/183 [01:00<00:06,  3.72it/s]"
     ]
    },
    {
     "name": "stderr",
     "output_type": "stream",
     "text": [
      "\r",
      "读取文件:  86%|████████▋ | 158/183 [01:01<00:05,  4.22it/s]"
     ]
    },
    {
     "name": "stderr",
     "output_type": "stream",
     "text": [
      "\r",
      "读取文件:  87%|████████▋ | 159/183 [01:01<00:06,  3.85it/s]"
     ]
    },
    {
     "name": "stderr",
     "output_type": "stream",
     "text": [
      "\r",
      "读取文件:  87%|████████▋ | 160/183 [01:01<00:05,  3.84it/s]"
     ]
    },
    {
     "name": "stderr",
     "output_type": "stream",
     "text": [
      "\r",
      "读取文件:  88%|████████▊ | 161/183 [01:01<00:05,  3.93it/s]"
     ]
    },
    {
     "name": "stderr",
     "output_type": "stream",
     "text": [
      "\r",
      "读取文件:  89%|████████▉ | 163/183 [01:02<00:03,  5.91it/s]"
     ]
    },
    {
     "name": "stderr",
     "output_type": "stream",
     "text": [
      "\r",
      "读取文件:  90%|█████████ | 165/183 [01:02<00:02,  7.63it/s]"
     ]
    },
    {
     "name": "stderr",
     "output_type": "stream",
     "text": [
      "\r",
      "读取文件:  91%|█████████ | 166/183 [01:02<00:03,  4.71it/s]"
     ]
    },
    {
     "name": "stderr",
     "output_type": "stream",
     "text": [
      "\r",
      "读取文件:  91%|█████████▏| 167/183 [01:03<00:04,  3.93it/s]"
     ]
    },
    {
     "name": "stderr",
     "output_type": "stream",
     "text": [
      "\r",
      "读取文件:  92%|█████████▏| 168/183 [01:03<00:03,  4.45it/s]"
     ]
    },
    {
     "name": "stderr",
     "output_type": "stream",
     "text": [
      "\r",
      "读取文件:  93%|█████████▎| 170/183 [01:03<00:02,  5.70it/s]"
     ]
    },
    {
     "name": "stderr",
     "output_type": "stream",
     "text": [
      "\r",
      "读取文件:  94%|█████████▍| 172/183 [01:03<00:01,  7.63it/s]"
     ]
    },
    {
     "name": "stderr",
     "output_type": "stream",
     "text": [
      "\r",
      "读取文件:  95%|█████████▌| 174/183 [01:04<00:01,  5.63it/s]"
     ]
    },
    {
     "name": "stderr",
     "output_type": "stream",
     "text": [
      "\r",
      "读取文件:  96%|█████████▌| 175/183 [01:04<00:01,  5.60it/s]"
     ]
    },
    {
     "name": "stderr",
     "output_type": "stream",
     "text": [
      "\r",
      "读取文件:  97%|█████████▋| 177/183 [01:04<00:00,  6.65it/s]"
     ]
    },
    {
     "name": "stderr",
     "output_type": "stream",
     "text": [
      "\r",
      "读取文件:  98%|█████████▊| 179/183 [01:05<00:01,  3.38it/s]"
     ]
    },
    {
     "name": "stderr",
     "output_type": "stream",
     "text": [
      "\r",
      "读取文件:  99%|█████████▉| 181/183 [01:05<00:00,  4.56it/s]"
     ]
    },
    {
     "name": "stderr",
     "output_type": "stream",
     "text": [
      "\r",
      "读取文件:  99%|█████████▉| 182/183 [01:05<00:00,  4.46it/s]"
     ]
    },
    {
     "name": "stderr",
     "output_type": "stream",
     "text": [
      "\r",
      "读取文件: 100%|██████████| 183/183 [01:07<00:00,  2.01it/s]"
     ]
    },
    {
     "name": "stderr",
     "output_type": "stream",
     "text": [
      "\r",
      "读取文件: 100%|██████████| 183/183 [01:07<00:00,  2.71it/s]"
     ]
    },
    {
     "name": "stderr",
     "output_type": "stream",
     "text": [
      "\n"
     ]
    },
    {
     "data": {
      "text/html": [
       "<div>\n",
       "<style scoped>\n",
       "    .dataframe tbody tr th:only-of-type {\n",
       "        vertical-align: middle;\n",
       "    }\n",
       "\n",
       "    .dataframe tbody tr th {\n",
       "        vertical-align: top;\n",
       "    }\n",
       "\n",
       "    .dataframe thead th {\n",
       "        text-align: right;\n",
       "    }\n",
       "</style>\n",
       "<table border=\"1\" class=\"dataframe\">\n",
       "  <thead>\n",
       "    <tr style=\"text-align: right;\">\n",
       "      <th></th>\n",
       "      <th>日期</th>\n",
       "      <th>高维情绪变量</th>\n",
       "      <th>股票编号</th>\n",
       "    </tr>\n",
       "  </thead>\n",
       "  <tbody>\n",
       "    <tr>\n",
       "      <th>0</th>\n",
       "      <td>2024-12-27</td>\n",
       "      <td>[-0.18730907142162323, -0.22363345324993134, 0...</td>\n",
       "      <td>601933</td>\n",
       "    </tr>\n",
       "    <tr>\n",
       "      <th>1</th>\n",
       "      <td>2024-11-18</td>\n",
       "      <td>[-0.6446929574012756, 0.14099551737308502, 0.4...</td>\n",
       "      <td>601933</td>\n",
       "    </tr>\n",
       "    <tr>\n",
       "      <th>2</th>\n",
       "      <td>2024-11-17</td>\n",
       "      <td>[-0.14928916096687317, -0.10993610322475433, 0...</td>\n",
       "      <td>601933</td>\n",
       "    </tr>\n",
       "    <tr>\n",
       "      <th>3</th>\n",
       "      <td>2024-11-17</td>\n",
       "      <td>[-0.2892271876335144, 0.09153766185045242, 0.2...</td>\n",
       "      <td>601933</td>\n",
       "    </tr>\n",
       "    <tr>\n",
       "      <th>4</th>\n",
       "      <td>2024-11-17</td>\n",
       "      <td>[-0.18511946499347687, 0.3309328258037567, 0.2...</td>\n",
       "      <td>601933</td>\n",
       "    </tr>\n",
       "    <tr>\n",
       "      <th>...</th>\n",
       "      <td>...</td>\n",
       "      <td>...</td>\n",
       "      <td>...</td>\n",
       "    </tr>\n",
       "    <tr>\n",
       "      <th>495326</th>\n",
       "      <td>2021-04-09</td>\n",
       "      <td>[-0.14503593742847443, 0.25753334164619446, 0....</td>\n",
       "      <td>601919</td>\n",
       "    </tr>\n",
       "    <tr>\n",
       "      <th>495327</th>\n",
       "      <td>2021-04-09</td>\n",
       "      <td>[-0.30359137058258057, 0.26559382677078247, 0....</td>\n",
       "      <td>601919</td>\n",
       "    </tr>\n",
       "    <tr>\n",
       "      <th>495328</th>\n",
       "      <td>2021-04-08</td>\n",
       "      <td>[0.15271537005901337, -0.08832913637161255, 0....</td>\n",
       "      <td>601919</td>\n",
       "    </tr>\n",
       "    <tr>\n",
       "      <th>495329</th>\n",
       "      <td>2021-04-08</td>\n",
       "      <td>[-0.004539322108030319, 0.3122449517250061, 0....</td>\n",
       "      <td>601919</td>\n",
       "    </tr>\n",
       "    <tr>\n",
       "      <th>495330</th>\n",
       "      <td>2021-01-01</td>\n",
       "      <td>[-0.2253921627998352, 0.3089153468608856, 0.38...</td>\n",
       "      <td>601919</td>\n",
       "    </tr>\n",
       "  </tbody>\n",
       "</table>\n",
       "<p>495331 rows × 3 columns</p>\n",
       "</div>"
      ],
      "text/plain": [
       "                日期                                             高维情绪变量    股票编号\n",
       "0       2024-12-27  [-0.18730907142162323, -0.22363345324993134, 0...  601933\n",
       "1       2024-11-18  [-0.6446929574012756, 0.14099551737308502, 0.4...  601933\n",
       "2       2024-11-17  [-0.14928916096687317, -0.10993610322475433, 0...  601933\n",
       "3       2024-11-17  [-0.2892271876335144, 0.09153766185045242, 0.2...  601933\n",
       "4       2024-11-17  [-0.18511946499347687, 0.3309328258037567, 0.2...  601933\n",
       "...            ...                                                ...     ...\n",
       "495326  2021-04-09  [-0.14503593742847443, 0.25753334164619446, 0....  601919\n",
       "495327  2021-04-09  [-0.30359137058258057, 0.26559382677078247, 0....  601919\n",
       "495328  2021-04-08  [0.15271537005901337, -0.08832913637161255, 0....  601919\n",
       "495329  2021-04-08  [-0.004539322108030319, 0.3122449517250061, 0....  601919\n",
       "495330  2021-01-01  [-0.2253921627998352, 0.3089153468608856, 0.38...  601919\n",
       "\n",
       "[495331 rows x 3 columns]"
      ]
     },
     "execution_count": 7,
     "metadata": {},
     "output_type": "execute_result"
    }
   ],
   "source": [
    "## 读取股吧个股的数据\n",
    "all_data = []\n",
    "file_list = [f for f in os.listdir(Emotion_Data_PATH) if f.endswith('.csv')]\n",
    "\n",
    "if MODEL != 'Deep-learning/Ours':\n",
    "    for file in file_list:\n",
    "        file_path = os.path.join(Emotion_Data_PATH, file)\n",
    "        df = pd.read_csv(file_path)\n",
    "        stock_code = os.path.splitext(file)[0] # 获取股票编号（文件名去掉扩展名）\n",
    "        \n",
    "        # 提取每一行的日期和情绪值\n",
    "        for _, row in df.iterrows():\n",
    "            new_row = {\n",
    "                '股票编号': stock_code,\n",
    "                '日期': row['日期'],\n",
    "                '上证综合情绪值': row['上证综合情绪值'],\n",
    "                '沪深300情绪值': row['沪深300情绪值'],\n",
    "                '创业板情绪值': row['创业板情绪值']\n",
    "            }\n",
    "            all_data.append(new_row)\n",
    "    guba_data = pd.DataFrame(all_data)\n",
    "else:\n",
    "    for file in tqdm(file_list, desc=\"读取文件\"):\n",
    "        file_path = os.path.join(Emotion_Data_PATH, file)\n",
    "        try:\n",
    "            df = pd.read_csv(file_path, usecols=['日期', '高维情绪变量'])  # 只读需要的列\n",
    "        except Exception as e:\n",
    "            print(f\"读取失败 {file}: {e}\")\n",
    "            continue\n",
    "    \n",
    "        stock_code = os.path.splitext(file)[0]\n",
    "    \n",
    "        df['股票编号'] = stock_code\n",
    "        all_data.append(df)\n",
    "    guba_data = pd.concat(all_data, ignore_index=True)\n",
    "\n",
    "guba_data"
   ]
  },
  {
   "cell_type": "code",
   "execution_count": 8,
   "id": "681a9681-755a-4556-a1fd-3b7817713e08",
   "metadata": {
    "execution": {
     "iopub.execute_input": "2025-06-08T16:17:25.815548Z",
     "iopub.status.busy": "2025-06-08T16:17:25.815339Z",
     "iopub.status.idle": "2025-06-08T16:17:25.894408Z",
     "shell.execute_reply": "2025-06-08T16:17:25.894018Z"
    },
    "papermill": {
     "duration": 0.255661,
     "end_time": "2025-06-08T16:17:25.928217",
     "exception": false,
     "start_time": "2025-06-08T16:17:25.672556",
     "status": "completed"
    },
    "tags": []
   },
   "outputs": [
    {
     "data": {
      "text/html": [
       "<div>\n",
       "<style scoped>\n",
       "    .dataframe tbody tr th:only-of-type {\n",
       "        vertical-align: middle;\n",
       "    }\n",
       "\n",
       "    .dataframe tbody tr th {\n",
       "        vertical-align: top;\n",
       "    }\n",
       "\n",
       "    .dataframe thead th {\n",
       "        text-align: right;\n",
       "    }\n",
       "</style>\n",
       "<table border=\"1\" class=\"dataframe\">\n",
       "  <thead>\n",
       "    <tr style=\"text-align: right;\">\n",
       "      <th></th>\n",
       "      <th>股票编号</th>\n",
       "      <th>日期</th>\n",
       "      <th>交易量</th>\n",
       "      <th>收益率变化</th>\n",
       "    </tr>\n",
       "  </thead>\n",
       "  <tbody>\n",
       "    <tr>\n",
       "      <th>0</th>\n",
       "      <td>000002</td>\n",
       "      <td>2021-06-01</td>\n",
       "      <td>60990961</td>\n",
       "      <td>-0.003745</td>\n",
       "    </tr>\n",
       "    <tr>\n",
       "      <th>1</th>\n",
       "      <td>000002</td>\n",
       "      <td>2021-06-02</td>\n",
       "      <td>85354506</td>\n",
       "      <td>0.006015</td>\n",
       "    </tr>\n",
       "    <tr>\n",
       "      <th>2</th>\n",
       "      <td>000002</td>\n",
       "      <td>2021-06-03</td>\n",
       "      <td>50594187</td>\n",
       "      <td>-0.003363</td>\n",
       "    </tr>\n",
       "    <tr>\n",
       "      <th>3</th>\n",
       "      <td>000002</td>\n",
       "      <td>2021-06-04</td>\n",
       "      <td>71422364</td>\n",
       "      <td>-0.012748</td>\n",
       "    </tr>\n",
       "    <tr>\n",
       "      <th>4</th>\n",
       "      <td>000002</td>\n",
       "      <td>2021-06-07</td>\n",
       "      <td>64745280</td>\n",
       "      <td>-0.014812</td>\n",
       "    </tr>\n",
       "    <tr>\n",
       "      <th>...</th>\n",
       "      <td>...</td>\n",
       "      <td>...</td>\n",
       "      <td>...</td>\n",
       "      <td>...</td>\n",
       "    </tr>\n",
       "    <tr>\n",
       "      <th>154877</th>\n",
       "      <td>688981</td>\n",
       "      <td>2024-11-20</td>\n",
       "      <td>58507495</td>\n",
       "      <td>-0.017071</td>\n",
       "    </tr>\n",
       "    <tr>\n",
       "      <th>154878</th>\n",
       "      <td>688981</td>\n",
       "      <td>2024-11-21</td>\n",
       "      <td>56197106</td>\n",
       "      <td>0.002358</td>\n",
       "    </tr>\n",
       "    <tr>\n",
       "      <th>154879</th>\n",
       "      <td>688981</td>\n",
       "      <td>2024-11-22</td>\n",
       "      <td>79240108</td>\n",
       "      <td>-0.050588</td>\n",
       "    </tr>\n",
       "    <tr>\n",
       "      <th>154880</th>\n",
       "      <td>688981</td>\n",
       "      <td>2024-11-25</td>\n",
       "      <td>76905909</td>\n",
       "      <td>-0.029402</td>\n",
       "    </tr>\n",
       "    <tr>\n",
       "      <th>154881</th>\n",
       "      <td>688981</td>\n",
       "      <td>2024-11-26</td>\n",
       "      <td>35363542</td>\n",
       "      <td>-0.012303</td>\n",
       "    </tr>\n",
       "  </tbody>\n",
       "</table>\n",
       "<p>154882 rows × 4 columns</p>\n",
       "</div>"
      ],
      "text/plain": [
       "          股票编号          日期       交易量     收益率变化\n",
       "0       000002  2021-06-01  60990961 -0.003745\n",
       "1       000002  2021-06-02  85354506  0.006015\n",
       "2       000002  2021-06-03  50594187 -0.003363\n",
       "3       000002  2021-06-04  71422364 -0.012748\n",
       "4       000002  2021-06-07  64745280 -0.014812\n",
       "...        ...         ...       ...       ...\n",
       "154877  688981  2024-11-20  58507495 -0.017071\n",
       "154878  688981  2024-11-21  56197106  0.002358\n",
       "154879  688981  2024-11-22  79240108 -0.050588\n",
       "154880  688981  2024-11-25  76905909 -0.029402\n",
       "154881  688981  2024-11-26  35363542 -0.012303\n",
       "\n",
       "[154882 rows x 4 columns]"
      ]
     },
     "execution_count": 8,
     "metadata": {},
     "output_type": "execute_result"
    }
   ],
   "source": [
    "## 读取股票回报率的数据\n",
    "return_data = pd.read_csv(f'{Financial_Data_PATH}/日个股回报率.csv', dtype={'股票编号': str})\n",
    "return_data"
   ]
  },
  {
   "cell_type": "code",
   "execution_count": 9,
   "id": "df1c7944-bb24-4fbf-acfd-e51c0d6403a6",
   "metadata": {
    "execution": {
     "iopub.execute_input": "2025-06-08T16:17:26.198559Z",
     "iopub.status.busy": "2025-06-08T16:17:26.198100Z",
     "iopub.status.idle": "2025-06-08T16:17:26.796609Z",
     "shell.execute_reply": "2025-06-08T16:17:26.794625Z"
    },
    "papermill": {
     "duration": 0.645541,
     "end_time": "2025-06-08T16:17:26.797617",
     "exception": false,
     "start_time": "2025-06-08T16:17:26.152076",
     "status": "completed"
    },
    "tags": []
   },
   "outputs": [
    {
     "data": {
      "text/html": [
       "<div>\n",
       "<style scoped>\n",
       "    .dataframe tbody tr th:only-of-type {\n",
       "        vertical-align: middle;\n",
       "    }\n",
       "\n",
       "    .dataframe tbody tr th {\n",
       "        vertical-align: top;\n",
       "    }\n",
       "\n",
       "    .dataframe thead th {\n",
       "        text-align: right;\n",
       "    }\n",
       "</style>\n",
       "<table border=\"1\" class=\"dataframe\">\n",
       "  <thead>\n",
       "    <tr style=\"text-align: right;\">\n",
       "      <th></th>\n",
       "      <th>日期</th>\n",
       "      <th>高维情绪变量</th>\n",
       "      <th>股票编号</th>\n",
       "      <th>交易量</th>\n",
       "      <th>收益率变化</th>\n",
       "      <th>聚类标签</th>\n",
       "      <th>公司名称</th>\n",
       "    </tr>\n",
       "  </thead>\n",
       "  <tbody>\n",
       "    <tr>\n",
       "      <th>20782</th>\n",
       "      <td>2024-11-15</td>\n",
       "      <td>[-0.261523962020874, -0.16983817517757416, 0.2...</td>\n",
       "      <td>002475</td>\n",
       "      <td>77059914.0</td>\n",
       "      <td>-0.019950</td>\n",
       "      <td>2.0</td>\n",
       "      <td>立讯精密</td>\n",
       "    </tr>\n",
       "    <tr>\n",
       "      <th>20783</th>\n",
       "      <td>2024-11-15</td>\n",
       "      <td>[-0.22364211082458496, -0.11699872463941574, 0...</td>\n",
       "      <td>002475</td>\n",
       "      <td>77059914.0</td>\n",
       "      <td>-0.019950</td>\n",
       "      <td>2.0</td>\n",
       "      <td>立讯精密</td>\n",
       "    </tr>\n",
       "    <tr>\n",
       "      <th>20784</th>\n",
       "      <td>2024-11-15</td>\n",
       "      <td>[-0.3292462229728699, 0.08564773947000504, 0.4...</td>\n",
       "      <td>002475</td>\n",
       "      <td>77059914.0</td>\n",
       "      <td>-0.019950</td>\n",
       "      <td>2.0</td>\n",
       "      <td>立讯精密</td>\n",
       "    </tr>\n",
       "    <tr>\n",
       "      <th>20785</th>\n",
       "      <td>2024-11-14</td>\n",
       "      <td>[-0.3399650454521179, 0.04659510776400566, 0.4...</td>\n",
       "      <td>002475</td>\n",
       "      <td>82870623.0</td>\n",
       "      <td>-0.035826</td>\n",
       "      <td>2.0</td>\n",
       "      <td>立讯精密</td>\n",
       "    </tr>\n",
       "    <tr>\n",
       "      <th>20786</th>\n",
       "      <td>2024-11-14</td>\n",
       "      <td>[-0.26111602783203125, 0.4187474548816681, 0.3...</td>\n",
       "      <td>002475</td>\n",
       "      <td>82870623.0</td>\n",
       "      <td>-0.035826</td>\n",
       "      <td>2.0</td>\n",
       "      <td>立讯精密</td>\n",
       "    </tr>\n",
       "    <tr>\n",
       "      <th>...</th>\n",
       "      <td>...</td>\n",
       "      <td>...</td>\n",
       "      <td>...</td>\n",
       "      <td>...</td>\n",
       "      <td>...</td>\n",
       "      <td>...</td>\n",
       "      <td>...</td>\n",
       "    </tr>\n",
       "    <tr>\n",
       "      <th>495148</th>\n",
       "      <td>2021-06-01</td>\n",
       "      <td>[0.1541367471218109, -0.010554437525570393, 0....</td>\n",
       "      <td>601919</td>\n",
       "      <td>268816321.0</td>\n",
       "      <td>0.045859</td>\n",
       "      <td>2.0</td>\n",
       "      <td>中远海控</td>\n",
       "    </tr>\n",
       "    <tr>\n",
       "      <th>495149</th>\n",
       "      <td>2021-06-01</td>\n",
       "      <td>[-0.19474640488624573, 0.09393686801195145, 0....</td>\n",
       "      <td>601919</td>\n",
       "      <td>268816321.0</td>\n",
       "      <td>0.045859</td>\n",
       "      <td>2.0</td>\n",
       "      <td>中远海控</td>\n",
       "    </tr>\n",
       "    <tr>\n",
       "      <th>495150</th>\n",
       "      <td>2021-06-01</td>\n",
       "      <td>[0.020837007090449333, 0.5046955943107605, 0.4...</td>\n",
       "      <td>601919</td>\n",
       "      <td>268816321.0</td>\n",
       "      <td>0.045859</td>\n",
       "      <td>2.0</td>\n",
       "      <td>中远海控</td>\n",
       "    </tr>\n",
       "    <tr>\n",
       "      <th>495151</th>\n",
       "      <td>2021-06-01</td>\n",
       "      <td>[0.10551305115222931, 0.36309948563575745, 0.2...</td>\n",
       "      <td>601919</td>\n",
       "      <td>268816321.0</td>\n",
       "      <td>0.045859</td>\n",
       "      <td>2.0</td>\n",
       "      <td>中远海控</td>\n",
       "    </tr>\n",
       "    <tr>\n",
       "      <th>495152</th>\n",
       "      <td>2021-06-01</td>\n",
       "      <td>[-0.1497209370136261, 0.10636598616838455, 0.1...</td>\n",
       "      <td>601919</td>\n",
       "      <td>268816321.0</td>\n",
       "      <td>0.045859</td>\n",
       "      <td>2.0</td>\n",
       "      <td>中远海控</td>\n",
       "    </tr>\n",
       "  </tbody>\n",
       "</table>\n",
       "<p>89773 rows × 7 columns</p>\n",
       "</div>"
      ],
      "text/plain": [
       "               日期                                             高维情绪变量    股票编号  \\\n",
       "20782  2024-11-15  [-0.261523962020874, -0.16983817517757416, 0.2...  002475   \n",
       "20783  2024-11-15  [-0.22364211082458496, -0.11699872463941574, 0...  002475   \n",
       "20784  2024-11-15  [-0.3292462229728699, 0.08564773947000504, 0.4...  002475   \n",
       "20785  2024-11-14  [-0.3399650454521179, 0.04659510776400566, 0.4...  002475   \n",
       "20786  2024-11-14  [-0.26111602783203125, 0.4187474548816681, 0.3...  002475   \n",
       "...           ...                                                ...     ...   \n",
       "495148 2021-06-01  [0.1541367471218109, -0.010554437525570393, 0....  601919   \n",
       "495149 2021-06-01  [-0.19474640488624573, 0.09393686801195145, 0....  601919   \n",
       "495150 2021-06-01  [0.020837007090449333, 0.5046955943107605, 0.4...  601919   \n",
       "495151 2021-06-01  [0.10551305115222931, 0.36309948563575745, 0.2...  601919   \n",
       "495152 2021-06-01  [-0.1497209370136261, 0.10636598616838455, 0.1...  601919   \n",
       "\n",
       "                交易量     收益率变化  聚类标签  公司名称  \n",
       "20782    77059914.0 -0.019950   2.0  立讯精密  \n",
       "20783    77059914.0 -0.019950   2.0  立讯精密  \n",
       "20784    77059914.0 -0.019950   2.0  立讯精密  \n",
       "20785    82870623.0 -0.035826   2.0  立讯精密  \n",
       "20786    82870623.0 -0.035826   2.0  立讯精密  \n",
       "...             ...       ...   ...   ...  \n",
       "495148  268816321.0  0.045859   2.0  中远海控  \n",
       "495149  268816321.0  0.045859   2.0  中远海控  \n",
       "495150  268816321.0  0.045859   2.0  中远海控  \n",
       "495151  268816321.0  0.045859   2.0  中远海控  \n",
       "495152  268816321.0  0.045859   2.0  中远海控  \n",
       "\n",
       "[89773 rows x 7 columns]"
      ]
     },
     "execution_count": 9,
     "metadata": {},
     "output_type": "execute_result"
    }
   ],
   "source": [
    "## 进行左连接，以 guba_data 为主表\n",
    "merged_data = pd.merge(guba_data, return_data[['股票编号', '日期', '交易量', '收益率变化']], \n",
    "                       on=['股票编号', '日期'], \n",
    "                       how='left')\n",
    "merged_data = pd.merge(merged_data, cluster_data, on='股票编号', how='left')\n",
    "merged_data = merged_data.dropna()\n",
    "\n",
    "merged_data['日期'] = pd.to_datetime(merged_data['日期'])\n",
    "merged_data = merged_data[(merged_data['日期'] > '2021-05-06') & (merged_data['日期'] < '2024-11-18')]\n",
    "merged_data"
   ]
  },
  {
   "cell_type": "code",
   "execution_count": 10,
   "id": "10b42c68-8d2c-46c2-94b0-db61456fdc2b",
   "metadata": {
    "execution": {
     "iopub.execute_input": "2025-06-08T16:17:26.828166Z",
     "iopub.status.busy": "2025-06-08T16:17:26.827912Z",
     "iopub.status.idle": "2025-06-08T16:21:36.184822Z",
     "shell.execute_reply": "2025-06-08T16:21:36.183773Z"
    },
    "papermill": {
     "duration": 249.406395,
     "end_time": "2025-06-08T16:21:36.219174",
     "exception": false,
     "start_time": "2025-06-08T16:17:26.812779",
     "status": "completed"
    },
    "tags": []
   },
   "outputs": [
    {
     "name": "stderr",
     "output_type": "stream",
     "text": [
      "\r",
      "  0%|          | 0/89773 [00:00<?, ?it/s]"
     ]
    },
    {
     "name": "stderr",
     "output_type": "stream",
     "text": [
      "\r",
      "  0%|          | 3/89773 [00:00<1:13:07, 20.46it/s]"
     ]
    },
    {
     "name": "stderr",
     "output_type": "stream",
     "text": [
      "\r",
      "  0%|          | 16/89773 [00:00<20:13, 73.99it/s] "
     ]
    },
    {
     "name": "stderr",
     "output_type": "stream",
     "text": [
      "\r",
      "  0%|          | 29/89773 [00:00<16:18, 91.71it/s]"
     ]
    },
    {
     "name": "stderr",
     "output_type": "stream",
     "text": [
      "\r",
      "  0%|          | 51/89773 [00:00<10:56, 136.71it/s]"
     ]
    },
    {
     "name": "stderr",
     "output_type": "stream",
     "text": [
      "\r",
      "  0%|          | 76/89773 [00:00<08:39, 172.53it/s]"
     ]
    },
    {
     "name": "stderr",
     "output_type": "stream",
     "text": [
      "\r",
      "  0%|          | 96/89773 [00:00<08:25, 177.42it/s]"
     ]
    },
    {
     "name": "stderr",
     "output_type": "stream",
     "text": [
      "\r",
      "  0%|          | 118/89773 [00:00<08:19, 179.54it/s]"
     ]
    },
    {
     "name": "stderr",
     "output_type": "stream",
     "text": [
      "\r",
      "  0%|          | 137/89773 [00:00<09:18, 160.57it/s]"
     ]
    },
    {
     "name": "stderr",
     "output_type": "stream",
     "text": [
      "\r",
      "  0%|          | 154/89773 [00:01<09:58, 149.66it/s]"
     ]
    },
    {
     "name": "stderr",
     "output_type": "stream",
     "text": [
      "\r",
      "  0%|          | 170/89773 [00:01<11:34, 129.07it/s]"
     ]
    },
    {
     "name": "stderr",
     "output_type": "stream",
     "text": [
      "\r",
      "  0%|          | 185/89773 [00:01<11:09, 133.89it/s]"
     ]
    },
    {
     "name": "stderr",
     "output_type": "stream",
     "text": [
      "\r",
      "  0%|          | 210/89773 [00:01<09:08, 163.20it/s]"
     ]
    },
    {
     "name": "stderr",
     "output_type": "stream",
     "text": [
      "\r",
      "  0%|          | 239/89773 [00:01<07:37, 195.54it/s]"
     ]
    },
    {
     "name": "stderr",
     "output_type": "stream",
     "text": [
      "\r",
      "  0%|          | 268/89773 [00:01<06:47, 219.43it/s]"
     ]
    },
    {
     "name": "stderr",
     "output_type": "stream",
     "text": [
      "\r",
      "  0%|          | 291/89773 [00:01<07:38, 195.07it/s]"
     ]
    },
    {
     "name": "stderr",
     "output_type": "stream",
     "text": [
      "\r",
      "  0%|          | 321/89773 [00:01<06:44, 221.08it/s]"
     ]
    },
    {
     "name": "stderr",
     "output_type": "stream",
     "text": [
      "\r",
      "  0%|          | 350/89773 [00:02<06:15, 238.02it/s]"
     ]
    },
    {
     "name": "stderr",
     "output_type": "stream",
     "text": [
      "\r",
      "  0%|          | 375/89773 [00:02<06:35, 226.09it/s]"
     ]
    },
    {
     "name": "stderr",
     "output_type": "stream",
     "text": [
      "\r",
      "  0%|          | 399/89773 [00:02<07:11, 207.04it/s]"
     ]
    },
    {
     "name": "stderr",
     "output_type": "stream",
     "text": [
      "\r",
      "  0%|          | 421/89773 [00:02<08:47, 169.30it/s]"
     ]
    },
    {
     "name": "stderr",
     "output_type": "stream",
     "text": [
      "\r",
      "  1%|          | 451/89773 [00:02<07:31, 197.74it/s]"
     ]
    },
    {
     "name": "stderr",
     "output_type": "stream",
     "text": [
      "\r",
      "  1%|          | 489/89773 [00:02<06:08, 242.09it/s]"
     ]
    },
    {
     "name": "stderr",
     "output_type": "stream",
     "text": [
      "\r",
      "  1%|          | 547/89773 [00:02<04:31, 328.48it/s]"
     ]
    },
    {
     "name": "stderr",
     "output_type": "stream",
     "text": [
      "\r",
      "  1%|          | 604/89773 [00:02<03:46, 393.51it/s]"
     ]
    },
    {
     "name": "stderr",
     "output_type": "stream",
     "text": [
      "\r",
      "  1%|          | 657/89773 [00:02<03:27, 429.42it/s]"
     ]
    },
    {
     "name": "stderr",
     "output_type": "stream",
     "text": [
      "\r",
      "  1%|          | 703/89773 [00:03<03:37, 408.73it/s]"
     ]
    },
    {
     "name": "stderr",
     "output_type": "stream",
     "text": [
      "\r",
      "  1%|          | 746/89773 [00:03<04:53, 303.62it/s]"
     ]
    },
    {
     "name": "stderr",
     "output_type": "stream",
     "text": [
      "\r",
      "  1%|          | 782/89773 [00:03<05:18, 279.00it/s]"
     ]
    },
    {
     "name": "stderr",
     "output_type": "stream",
     "text": [
      "\r",
      "  1%|          | 814/89773 [00:03<05:41, 260.20it/s]"
     ]
    },
    {
     "name": "stderr",
     "output_type": "stream",
     "text": [
      "\r",
      "  1%|          | 843/89773 [00:03<07:32, 196.47it/s]"
     ]
    },
    {
     "name": "stderr",
     "output_type": "stream",
     "text": [
      "\r",
      "  1%|          | 871/89773 [00:04<06:59, 212.11it/s]"
     ]
    },
    {
     "name": "stderr",
     "output_type": "stream",
     "text": [
      "\r",
      "  1%|          | 899/89773 [00:04<06:32, 226.48it/s]"
     ]
    },
    {
     "name": "stderr",
     "output_type": "stream",
     "text": [
      "\r",
      "  1%|          | 927/89773 [00:04<06:12, 238.81it/s]"
     ]
    },
    {
     "name": "stderr",
     "output_type": "stream",
     "text": [
      "\r",
      "  1%|          | 955/89773 [00:04<05:56, 248.79it/s]"
     ]
    },
    {
     "name": "stderr",
     "output_type": "stream",
     "text": [
      "\r",
      "  1%|          | 984/89773 [00:04<05:42, 258.89it/s]"
     ]
    },
    {
     "name": "stderr",
     "output_type": "stream",
     "text": [
      "\r",
      "  1%|          | 1012/89773 [00:04<05:35, 264.48it/s]"
     ]
    },
    {
     "name": "stderr",
     "output_type": "stream",
     "text": [
      "\r",
      "  1%|          | 1040/89773 [00:04<05:30, 268.63it/s]"
     ]
    },
    {
     "name": "stderr",
     "output_type": "stream",
     "text": [
      "\r",
      "  1%|          | 1069/89773 [00:04<05:25, 272.45it/s]"
     ]
    },
    {
     "name": "stderr",
     "output_type": "stream",
     "text": [
      "\r",
      "  1%|          | 1100/89773 [00:04<05:14, 282.28it/s]"
     ]
    },
    {
     "name": "stderr",
     "output_type": "stream",
     "text": [
      "\r",
      "  1%|▏         | 1129/89773 [00:04<05:14, 281.62it/s]"
     ]
    },
    {
     "name": "stderr",
     "output_type": "stream",
     "text": [
      "\r",
      "  1%|▏         | 1158/89773 [00:05<05:13, 282.90it/s]"
     ]
    },
    {
     "name": "stderr",
     "output_type": "stream",
     "text": [
      "\r",
      "  1%|▏         | 1187/89773 [00:05<05:13, 282.33it/s]"
     ]
    },
    {
     "name": "stderr",
     "output_type": "stream",
     "text": [
      "\r",
      "  1%|▏         | 1216/89773 [00:05<05:14, 281.74it/s]"
     ]
    },
    {
     "name": "stderr",
     "output_type": "stream",
     "text": [
      "\r",
      "  1%|▏         | 1245/89773 [00:05<06:21, 232.00it/s]"
     ]
    },
    {
     "name": "stderr",
     "output_type": "stream",
     "text": [
      "\r",
      "  1%|▏         | 1274/89773 [00:05<05:59, 246.08it/s]"
     ]
    },
    {
     "name": "stderr",
     "output_type": "stream",
     "text": [
      "\r",
      "  1%|▏         | 1304/89773 [00:05<05:40, 259.57it/s]"
     ]
    },
    {
     "name": "stderr",
     "output_type": "stream",
     "text": [
      "\r",
      "  1%|▏         | 1333/89773 [00:05<05:33, 265.39it/s]"
     ]
    },
    {
     "name": "stderr",
     "output_type": "stream",
     "text": [
      "\r",
      "  2%|▏         | 1361/89773 [00:05<05:28, 269.19it/s]"
     ]
    },
    {
     "name": "stderr",
     "output_type": "stream",
     "text": [
      "\r",
      "  2%|▏         | 1403/89773 [00:05<04:43, 312.18it/s]"
     ]
    },
    {
     "name": "stderr",
     "output_type": "stream",
     "text": [
      "\r",
      "  2%|▏         | 1454/89773 [00:06<03:59, 369.06it/s]"
     ]
    },
    {
     "name": "stderr",
     "output_type": "stream",
     "text": [
      "\r",
      "  2%|▏         | 1505/89773 [00:06<03:35, 409.32it/s]"
     ]
    },
    {
     "name": "stderr",
     "output_type": "stream",
     "text": [
      "\r",
      "  2%|▏         | 1562/89773 [00:06<03:13, 455.45it/s]"
     ]
    },
    {
     "name": "stderr",
     "output_type": "stream",
     "text": [
      "\r",
      "  2%|▏         | 1618/89773 [00:06<03:01, 485.70it/s]"
     ]
    },
    {
     "name": "stderr",
     "output_type": "stream",
     "text": [
      "\r",
      "  2%|▏         | 1667/89773 [00:06<03:26, 426.11it/s]"
     ]
    },
    {
     "name": "stderr",
     "output_type": "stream",
     "text": [
      "\r",
      "  2%|▏         | 1723/89773 [00:06<03:10, 461.71it/s]"
     ]
    },
    {
     "name": "stderr",
     "output_type": "stream",
     "text": [
      "\r",
      "  2%|▏         | 1780/89773 [00:06<02:59, 490.94it/s]"
     ]
    },
    {
     "name": "stderr",
     "output_type": "stream",
     "text": [
      "\r",
      "  2%|▏         | 1837/89773 [00:06<02:51, 513.04it/s]"
     ]
    },
    {
     "name": "stderr",
     "output_type": "stream",
     "text": [
      "\r",
      "  2%|▏         | 1895/89773 [00:06<02:45, 531.33it/s]"
     ]
    },
    {
     "name": "stderr",
     "output_type": "stream",
     "text": [
      "\r",
      "  2%|▏         | 1953/89773 [00:06<02:41, 544.06it/s]"
     ]
    },
    {
     "name": "stderr",
     "output_type": "stream",
     "text": [
      "\r",
      "  2%|▏         | 2008/89773 [00:07<03:09, 463.49it/s]"
     ]
    },
    {
     "name": "stderr",
     "output_type": "stream",
     "text": [
      "\r",
      "  2%|▏         | 2057/89773 [00:07<04:28, 326.95it/s]"
     ]
    },
    {
     "name": "stderr",
     "output_type": "stream",
     "text": [
      "\r",
      "  2%|▏         | 2116/89773 [00:07<03:50, 380.52it/s]"
     ]
    },
    {
     "name": "stderr",
     "output_type": "stream",
     "text": [
      "\r",
      "  2%|▏         | 2171/89773 [00:07<03:29, 417.36it/s]"
     ]
    },
    {
     "name": "stderr",
     "output_type": "stream",
     "text": [
      "\r",
      "  2%|▏         | 2219/89773 [00:07<03:42, 393.74it/s]"
     ]
    },
    {
     "name": "stderr",
     "output_type": "stream",
     "text": [
      "\r",
      "  3%|▎         | 2263/89773 [00:07<04:00, 363.66it/s]"
     ]
    },
    {
     "name": "stderr",
     "output_type": "stream",
     "text": [
      "\r",
      "  3%|▎         | 2321/89773 [00:07<03:31, 413.48it/s]"
     ]
    },
    {
     "name": "stderr",
     "output_type": "stream",
     "text": [
      "\r",
      "  3%|▎         | 2379/89773 [00:08<03:12, 454.85it/s]"
     ]
    },
    {
     "name": "stderr",
     "output_type": "stream",
     "text": [
      "\r",
      "  3%|▎         | 2437/89773 [00:08<02:59, 487.77it/s]"
     ]
    },
    {
     "name": "stderr",
     "output_type": "stream",
     "text": [
      "\r",
      "  3%|▎         | 2489/89773 [00:08<03:22, 431.56it/s]"
     ]
    },
    {
     "name": "stderr",
     "output_type": "stream",
     "text": [
      "\r",
      "  3%|▎         | 2547/89773 [00:08<03:06, 468.32it/s]"
     ]
    },
    {
     "name": "stderr",
     "output_type": "stream",
     "text": [
      "\r",
      "  3%|▎         | 2605/89773 [00:08<02:55, 496.76it/s]"
     ]
    },
    {
     "name": "stderr",
     "output_type": "stream",
     "text": [
      "\r",
      "  3%|▎         | 2663/89773 [00:08<02:48, 518.33it/s]"
     ]
    },
    {
     "name": "stderr",
     "output_type": "stream",
     "text": [
      "\r",
      "  3%|▎         | 2718/89773 [00:08<02:45, 525.75it/s]"
     ]
    },
    {
     "name": "stderr",
     "output_type": "stream",
     "text": [
      "\r",
      "  3%|▎         | 2772/89773 [00:08<02:59, 484.19it/s]"
     ]
    },
    {
     "name": "stderr",
     "output_type": "stream",
     "text": [
      "\r",
      "  3%|▎         | 2822/89773 [00:09<03:25, 422.74it/s]"
     ]
    },
    {
     "name": "stderr",
     "output_type": "stream",
     "text": [
      "\r",
      "  3%|▎         | 2867/89773 [00:09<03:45, 384.92it/s]"
     ]
    },
    {
     "name": "stderr",
     "output_type": "stream",
     "text": [
      "\r",
      "  3%|▎         | 2925/89773 [00:09<03:21, 430.63it/s]"
     ]
    },
    {
     "name": "stderr",
     "output_type": "stream",
     "text": [
      "\r",
      "  3%|▎         | 2971/89773 [00:09<03:20, 433.19it/s]"
     ]
    },
    {
     "name": "stderr",
     "output_type": "stream",
     "text": [
      "\r",
      "  3%|▎         | 3016/89773 [00:09<03:40, 392.83it/s]"
     ]
    },
    {
     "name": "stderr",
     "output_type": "stream",
     "text": [
      "\r",
      "  3%|▎         | 3074/89773 [00:09<03:17, 440.09it/s]"
     ]
    },
    {
     "name": "stderr",
     "output_type": "stream",
     "text": [
      "\r",
      "  3%|▎         | 3132/89773 [00:09<03:02, 475.60it/s]"
     ]
    },
    {
     "name": "stderr",
     "output_type": "stream",
     "text": [
      "\r",
      "  4%|▎         | 3187/89773 [00:09<02:55, 494.63it/s]"
     ]
    },
    {
     "name": "stderr",
     "output_type": "stream",
     "text": [
      "\r",
      "  4%|▎         | 3245/89773 [00:09<02:47, 516.98it/s]"
     ]
    },
    {
     "name": "stderr",
     "output_type": "stream",
     "text": [
      "\r",
      "  4%|▎         | 3298/89773 [00:10<03:41, 389.54it/s]"
     ]
    },
    {
     "name": "stderr",
     "output_type": "stream",
     "text": [
      "\r",
      "  4%|▎         | 3355/89773 [00:10<03:20, 431.44it/s]"
     ]
    },
    {
     "name": "stderr",
     "output_type": "stream",
     "text": [
      "\r",
      "  4%|▍         | 3411/89773 [00:10<03:06, 462.15it/s]"
     ]
    },
    {
     "name": "stderr",
     "output_type": "stream",
     "text": [
      "\r",
      "  4%|▍         | 3469/89773 [00:10<02:55, 491.02it/s]"
     ]
    },
    {
     "name": "stderr",
     "output_type": "stream",
     "text": [
      "\r",
      "  4%|▍         | 3522/89773 [00:10<03:14, 442.94it/s]"
     ]
    },
    {
     "name": "stderr",
     "output_type": "stream",
     "text": [
      "\r",
      "  4%|▍         | 3578/89773 [00:10<03:02, 472.62it/s]"
     ]
    },
    {
     "name": "stderr",
     "output_type": "stream",
     "text": [
      "\r",
      "  4%|▍         | 3632/89773 [00:10<02:55, 489.99it/s]"
     ]
    },
    {
     "name": "stderr",
     "output_type": "stream",
     "text": [
      "\r",
      "  4%|▍         | 3684/89773 [00:10<03:37, 395.52it/s]"
     ]
    },
    {
     "name": "stderr",
     "output_type": "stream",
     "text": [
      "\r",
      "  4%|▍         | 3739/89773 [00:11<03:19, 431.99it/s]"
     ]
    },
    {
     "name": "stderr",
     "output_type": "stream",
     "text": [
      "\r",
      "  4%|▍         | 3796/89773 [00:11<03:04, 465.54it/s]"
     ]
    },
    {
     "name": "stderr",
     "output_type": "stream",
     "text": [
      "\r",
      "  4%|▍         | 3848/89773 [00:11<02:59, 478.76it/s]"
     ]
    },
    {
     "name": "stderr",
     "output_type": "stream",
     "text": [
      "\r",
      "  4%|▍         | 3899/89773 [00:11<03:20, 427.61it/s]"
     ]
    },
    {
     "name": "stderr",
     "output_type": "stream",
     "text": [
      "\r",
      "  4%|▍         | 3945/89773 [00:11<03:23, 421.33it/s]"
     ]
    },
    {
     "name": "stderr",
     "output_type": "stream",
     "text": [
      "\r",
      "  4%|▍         | 4004/89773 [00:11<03:05, 463.54it/s]"
     ]
    },
    {
     "name": "stderr",
     "output_type": "stream",
     "text": [
      "\r",
      "  5%|▍         | 4062/89773 [00:11<02:53, 494.94it/s]"
     ]
    },
    {
     "name": "stderr",
     "output_type": "stream",
     "text": [
      "\r",
      "  5%|▍         | 4114/89773 [00:11<03:35, 397.36it/s]"
     ]
    },
    {
     "name": "stderr",
     "output_type": "stream",
     "text": [
      "\r",
      "  5%|▍         | 4158/89773 [00:12<03:41, 385.85it/s]"
     ]
    },
    {
     "name": "stderr",
     "output_type": "stream",
     "text": [
      "\r",
      "  5%|▍         | 4217/89773 [00:12<03:16, 434.57it/s]"
     ]
    },
    {
     "name": "stderr",
     "output_type": "stream",
     "text": [
      "\r",
      "  5%|▍         | 4276/89773 [00:12<03:00, 473.40it/s]"
     ]
    },
    {
     "name": "stderr",
     "output_type": "stream",
     "text": [
      "\r",
      "  5%|▍         | 4335/89773 [00:12<02:49, 502.60it/s]"
     ]
    },
    {
     "name": "stderr",
     "output_type": "stream",
     "text": [
      "\r",
      "  5%|▍         | 4394/89773 [00:12<02:42, 524.58it/s]"
     ]
    },
    {
     "name": "stderr",
     "output_type": "stream",
     "text": [
      "\r",
      "  5%|▍         | 4453/89773 [00:12<02:37, 540.74it/s]"
     ]
    },
    {
     "name": "stderr",
     "output_type": "stream",
     "text": [
      "\r",
      "  5%|▌         | 4509/89773 [00:12<03:09, 449.27it/s]"
     ]
    },
    {
     "name": "stderr",
     "output_type": "stream",
     "text": [
      "\r",
      "  5%|▌         | 4567/89773 [00:12<02:56, 481.99it/s]"
     ]
    },
    {
     "name": "stderr",
     "output_type": "stream",
     "text": [
      "\r",
      "  5%|▌         | 4626/89773 [00:12<02:47, 508.60it/s]"
     ]
    },
    {
     "name": "stderr",
     "output_type": "stream",
     "text": [
      "\r",
      "  5%|▌         | 4684/89773 [00:13<02:41, 528.00it/s]"
     ]
    },
    {
     "name": "stderr",
     "output_type": "stream",
     "text": [
      "\r",
      "  5%|▌         | 4743/89773 [00:13<02:36, 542.98it/s]"
     ]
    },
    {
     "name": "stderr",
     "output_type": "stream",
     "text": [
      "\r",
      "  5%|▌         | 4801/89773 [00:13<02:33, 553.42it/s]"
     ]
    },
    {
     "name": "stderr",
     "output_type": "stream",
     "text": [
      "\r",
      "  5%|▌         | 4860/89773 [00:13<02:31, 561.50it/s]"
     ]
    },
    {
     "name": "stderr",
     "output_type": "stream",
     "text": [
      "\r",
      "  5%|▌         | 4917/89773 [00:13<03:04, 459.06it/s]"
     ]
    },
    {
     "name": "stderr",
     "output_type": "stream",
     "text": [
      "\r",
      "  6%|▌         | 4975/89773 [00:13<02:53, 489.48it/s]"
     ]
    },
    {
     "name": "stderr",
     "output_type": "stream",
     "text": [
      "\r",
      "  6%|▌         | 5034/89773 [00:13<02:44, 513.92it/s]"
     ]
    },
    {
     "name": "stderr",
     "output_type": "stream",
     "text": [
      "\r",
      "  6%|▌         | 5093/89773 [00:13<02:39, 532.54it/s]"
     ]
    },
    {
     "name": "stderr",
     "output_type": "stream",
     "text": [
      "\r",
      "  6%|▌         | 5151/89773 [00:13<02:35, 545.83it/s]"
     ]
    },
    {
     "name": "stderr",
     "output_type": "stream",
     "text": [
      "\r",
      "  6%|▌         | 5209/89773 [00:14<02:32, 555.57it/s]"
     ]
    },
    {
     "name": "stderr",
     "output_type": "stream",
     "text": [
      "\r",
      "  6%|▌         | 5267/89773 [00:14<02:30, 562.66it/s]"
     ]
    },
    {
     "name": "stderr",
     "output_type": "stream",
     "text": [
      "\r",
      "  6%|▌         | 5324/89773 [00:14<03:05, 455.49it/s]"
     ]
    },
    {
     "name": "stderr",
     "output_type": "stream",
     "text": [
      "\r",
      "  6%|▌         | 5383/89773 [00:14<02:53, 487.62it/s]"
     ]
    },
    {
     "name": "stderr",
     "output_type": "stream",
     "text": [
      "\r",
      "  6%|▌         | 5441/89773 [00:14<02:45, 510.98it/s]"
     ]
    },
    {
     "name": "stderr",
     "output_type": "stream",
     "text": [
      "\r",
      "  6%|▌         | 5500/89773 [00:14<02:38, 530.45it/s]"
     ]
    },
    {
     "name": "stderr",
     "output_type": "stream",
     "text": [
      "\r",
      "  6%|▌         | 5559/89773 [00:14<02:34, 544.66it/s]"
     ]
    },
    {
     "name": "stderr",
     "output_type": "stream",
     "text": [
      "\r",
      "  6%|▋         | 5617/89773 [00:14<02:31, 554.64it/s]"
     ]
    },
    {
     "name": "stderr",
     "output_type": "stream",
     "text": [
      "\r",
      "  6%|▋         | 5676/89773 [00:14<02:29, 562.29it/s]"
     ]
    },
    {
     "name": "stderr",
     "output_type": "stream",
     "text": [
      "\r",
      "  6%|▋         | 5733/89773 [00:15<03:12, 436.93it/s]"
     ]
    },
    {
     "name": "stderr",
     "output_type": "stream",
     "text": [
      "\r",
      "  6%|▋         | 5791/89773 [00:15<02:58, 470.87it/s]"
     ]
    },
    {
     "name": "stderr",
     "output_type": "stream",
     "text": [
      "\r",
      "  7%|▋         | 5849/89773 [00:15<02:48, 498.54it/s]"
     ]
    },
    {
     "name": "stderr",
     "output_type": "stream",
     "text": [
      "\r",
      "  7%|▋         | 5908/89773 [00:15<02:40, 521.16it/s]"
     ]
    },
    {
     "name": "stderr",
     "output_type": "stream",
     "text": [
      "\r",
      "  7%|▋         | 5966/89773 [00:15<02:36, 536.72it/s]"
     ]
    },
    {
     "name": "stderr",
     "output_type": "stream",
     "text": [
      "\r",
      "  7%|▋         | 6025/89773 [00:15<02:32, 549.52it/s]"
     ]
    },
    {
     "name": "stderr",
     "output_type": "stream",
     "text": [
      "\r",
      "  7%|▋         | 6083/89773 [00:15<02:30, 557.78it/s]"
     ]
    },
    {
     "name": "stderr",
     "output_type": "stream",
     "text": [
      "\r",
      "  7%|▋         | 6141/89773 [00:15<02:28, 564.19it/s]"
     ]
    },
    {
     "name": "stderr",
     "output_type": "stream",
     "text": [
      "\r",
      "  7%|▋         | 6199/89773 [00:16<03:09, 441.82it/s]"
     ]
    },
    {
     "name": "stderr",
     "output_type": "stream",
     "text": [
      "\r",
      "  7%|▋         | 6258/89773 [00:16<02:55, 476.46it/s]"
     ]
    },
    {
     "name": "stderr",
     "output_type": "stream",
     "text": [
      "\r",
      "  7%|▋         | 6317/89773 [00:16<02:45, 503.87it/s]"
     ]
    },
    {
     "name": "stderr",
     "output_type": "stream",
     "text": [
      "\r",
      "  7%|▋         | 6376/89773 [00:16<02:38, 524.88it/s]"
     ]
    },
    {
     "name": "stderr",
     "output_type": "stream",
     "text": [
      "\r",
      "  7%|▋         | 6435/89773 [00:16<02:34, 540.65it/s]"
     ]
    },
    {
     "name": "stderr",
     "output_type": "stream",
     "text": [
      "\r",
      "  7%|▋         | 6494/89773 [00:16<02:30, 552.62it/s]"
     ]
    },
    {
     "name": "stderr",
     "output_type": "stream",
     "text": [
      "\r",
      "  7%|▋         | 6553/89773 [00:16<02:28, 561.31it/s]"
     ]
    },
    {
     "name": "stderr",
     "output_type": "stream",
     "text": [
      "\r",
      "  7%|▋         | 6611/89773 [00:16<03:05, 447.31it/s]"
     ]
    },
    {
     "name": "stderr",
     "output_type": "stream",
     "text": [
      "\r",
      "  7%|▋         | 6670/89773 [00:16<02:52, 480.74it/s]"
     ]
    },
    {
     "name": "stderr",
     "output_type": "stream",
     "text": [
      "\r",
      "  7%|▋         | 6728/89773 [00:17<02:43, 506.45it/s]"
     ]
    },
    {
     "name": "stderr",
     "output_type": "stream",
     "text": [
      "\r",
      "  8%|▊         | 6787/89773 [00:17<02:37, 526.69it/s]"
     ]
    },
    {
     "name": "stderr",
     "output_type": "stream",
     "text": [
      "\r",
      "  8%|▊         | 6846/89773 [00:17<02:32, 542.58it/s]"
     ]
    },
    {
     "name": "stderr",
     "output_type": "stream",
     "text": [
      "\r",
      "  8%|▊         | 6905/89773 [00:17<02:29, 553.66it/s]"
     ]
    },
    {
     "name": "stderr",
     "output_type": "stream",
     "text": [
      "\r",
      "  8%|▊         | 6964/89773 [00:17<02:27, 561.85it/s]"
     ]
    },
    {
     "name": "stderr",
     "output_type": "stream",
     "text": [
      "\r",
      "  8%|▊         | 7022/89773 [00:17<03:07, 441.13it/s]"
     ]
    },
    {
     "name": "stderr",
     "output_type": "stream",
     "text": [
      "\r",
      "  8%|▊         | 7081/89773 [00:17<02:53, 475.49it/s]"
     ]
    },
    {
     "name": "stderr",
     "output_type": "stream",
     "text": [
      "\r",
      "  8%|▊         | 7140/89773 [00:17<02:44, 502.92it/s]"
     ]
    },
    {
     "name": "stderr",
     "output_type": "stream",
     "text": [
      "\r",
      "  8%|▊         | 7199/89773 [00:17<02:37, 524.46it/s]"
     ]
    },
    {
     "name": "stderr",
     "output_type": "stream",
     "text": [
      "\r",
      "  8%|▊         | 7257/89773 [00:18<02:32, 539.72it/s]"
     ]
    },
    {
     "name": "stderr",
     "output_type": "stream",
     "text": [
      "\r",
      "  8%|▊         | 7316/89773 [00:18<02:29, 551.94it/s]"
     ]
    },
    {
     "name": "stderr",
     "output_type": "stream",
     "text": [
      "\r",
      "  8%|▊         | 7374/89773 [00:18<02:27, 558.60it/s]"
     ]
    },
    {
     "name": "stderr",
     "output_type": "stream",
     "text": [
      "\r",
      "  8%|▊         | 7431/89773 [00:18<03:07, 438.79it/s]"
     ]
    },
    {
     "name": "stderr",
     "output_type": "stream",
     "text": [
      "\r",
      "  8%|▊         | 7489/89773 [00:18<02:54, 472.33it/s]"
     ]
    },
    {
     "name": "stderr",
     "output_type": "stream",
     "text": [
      "\r",
      "  8%|▊         | 7548/89773 [00:18<02:44, 500.80it/s]"
     ]
    },
    {
     "name": "stderr",
     "output_type": "stream",
     "text": [
      "\r",
      "  8%|▊         | 7607/89773 [00:18<02:37, 522.85it/s]"
     ]
    },
    {
     "name": "stderr",
     "output_type": "stream",
     "text": [
      "\r",
      "  9%|▊         | 7666/89773 [00:18<02:32, 539.58it/s]"
     ]
    },
    {
     "name": "stderr",
     "output_type": "stream",
     "text": [
      "\r",
      "  9%|▊         | 7725/89773 [00:18<02:28, 551.46it/s]"
     ]
    },
    {
     "name": "stderr",
     "output_type": "stream",
     "text": [
      "\r",
      "  9%|▊         | 7784/89773 [00:19<02:26, 560.47it/s]"
     ]
    },
    {
     "name": "stderr",
     "output_type": "stream",
     "text": [
      "\r",
      "  9%|▊         | 7842/89773 [00:19<03:06, 438.17it/s]"
     ]
    },
    {
     "name": "stderr",
     "output_type": "stream",
     "text": [
      "\r",
      "  9%|▉         | 7901/89773 [00:19<02:53, 473.02it/s]"
     ]
    },
    {
     "name": "stderr",
     "output_type": "stream",
     "text": [
      "\r",
      "  9%|▉         | 7960/89773 [00:19<02:43, 501.26it/s]"
     ]
    },
    {
     "name": "stderr",
     "output_type": "stream",
     "text": [
      "\r",
      "  9%|▉         | 8019/89773 [00:19<02:36, 522.94it/s]"
     ]
    },
    {
     "name": "stderr",
     "output_type": "stream",
     "text": [
      "\r",
      "  9%|▉         | 8077/89773 [00:19<02:31, 538.15it/s]"
     ]
    },
    {
     "name": "stderr",
     "output_type": "stream",
     "text": [
      "\r",
      "  9%|▉         | 8136/89773 [00:19<02:28, 550.52it/s]"
     ]
    },
    {
     "name": "stderr",
     "output_type": "stream",
     "text": [
      "\r",
      "  9%|▉         | 8195/89773 [00:19<02:25, 559.20it/s]"
     ]
    },
    {
     "name": "stderr",
     "output_type": "stream",
     "text": [
      "\r",
      "  9%|▉         | 8254/89773 [00:19<02:24, 566.05it/s]"
     ]
    },
    {
     "name": "stderr",
     "output_type": "stream",
     "text": [
      "\r",
      "  9%|▉         | 8312/89773 [00:20<03:05, 438.69it/s]"
     ]
    },
    {
     "name": "stderr",
     "output_type": "stream",
     "text": [
      "\r",
      "  9%|▉         | 8370/89773 [00:20<02:52, 471.97it/s]"
     ]
    },
    {
     "name": "stderr",
     "output_type": "stream",
     "text": [
      "\r",
      "  9%|▉         | 8429/89773 [00:20<02:42, 500.27it/s]"
     ]
    },
    {
     "name": "stderr",
     "output_type": "stream",
     "text": [
      "\r",
      "  9%|▉         | 8488/89773 [00:20<02:35, 522.38it/s]"
     ]
    },
    {
     "name": "stderr",
     "output_type": "stream",
     "text": [
      "\r",
      " 10%|▉         | 8546/89773 [00:20<02:30, 538.23it/s]"
     ]
    },
    {
     "name": "stderr",
     "output_type": "stream",
     "text": [
      "\r",
      " 10%|▉         | 8605/89773 [00:20<02:27, 550.64it/s]"
     ]
    },
    {
     "name": "stderr",
     "output_type": "stream",
     "text": [
      "\r",
      " 10%|▉         | 8664/89773 [00:20<02:25, 559.23it/s]"
     ]
    },
    {
     "name": "stderr",
     "output_type": "stream",
     "text": [
      "\r",
      " 10%|▉         | 8721/89773 [00:20<03:08, 429.02it/s]"
     ]
    },
    {
     "name": "stderr",
     "output_type": "stream",
     "text": [
      "\r",
      " 10%|▉         | 8779/89773 [00:21<02:54, 463.98it/s]"
     ]
    },
    {
     "name": "stderr",
     "output_type": "stream",
     "text": [
      "\r",
      " 10%|▉         | 8837/89773 [00:21<02:44, 493.45it/s]"
     ]
    },
    {
     "name": "stderr",
     "output_type": "stream",
     "text": [
      "\r",
      " 10%|▉         | 8895/89773 [00:21<02:36, 515.25it/s]"
     ]
    },
    {
     "name": "stderr",
     "output_type": "stream",
     "text": [
      "\r",
      " 10%|▉         | 8953/89773 [00:21<02:31, 532.73it/s]"
     ]
    },
    {
     "name": "stderr",
     "output_type": "stream",
     "text": [
      "\r",
      " 10%|█         | 9011/89773 [00:21<02:28, 545.32it/s]"
     ]
    },
    {
     "name": "stderr",
     "output_type": "stream",
     "text": [
      "\r",
      " 10%|█         | 9069/89773 [00:21<02:25, 555.03it/s]"
     ]
    },
    {
     "name": "stderr",
     "output_type": "stream",
     "text": [
      "\r",
      " 10%|█         | 9126/89773 [00:21<03:17, 409.19it/s]"
     ]
    },
    {
     "name": "stderr",
     "output_type": "stream",
     "text": [
      "\r",
      " 10%|█         | 9184/89773 [00:21<02:59, 448.84it/s]"
     ]
    },
    {
     "name": "stderr",
     "output_type": "stream",
     "text": [
      "\r",
      " 10%|█         | 9242/89773 [00:22<02:47, 481.55it/s]"
     ]
    },
    {
     "name": "stderr",
     "output_type": "stream",
     "text": [
      "\r",
      " 10%|█         | 9300/89773 [00:22<02:38, 507.19it/s]"
     ]
    },
    {
     "name": "stderr",
     "output_type": "stream",
     "text": [
      "\r",
      " 10%|█         | 9358/89773 [00:22<02:33, 524.66it/s]"
     ]
    },
    {
     "name": "stderr",
     "output_type": "stream",
     "text": [
      "\r",
      " 10%|█         | 9417/89773 [00:22<02:28, 540.64it/s]"
     ]
    },
    {
     "name": "stderr",
     "output_type": "stream",
     "text": [
      "\r",
      " 11%|█         | 9476/89773 [00:22<02:25, 552.70it/s]"
     ]
    },
    {
     "name": "stderr",
     "output_type": "stream",
     "text": [
      "\r",
      " 11%|█         | 9533/89773 [00:22<03:08, 424.95it/s]"
     ]
    },
    {
     "name": "stderr",
     "output_type": "stream",
     "text": [
      "\r",
      " 11%|█         | 9591/89773 [00:22<02:53, 461.85it/s]"
     ]
    },
    {
     "name": "stderr",
     "output_type": "stream",
     "text": [
      "\r",
      " 11%|█         | 9649/89773 [00:22<02:42, 491.84it/s]"
     ]
    },
    {
     "name": "stderr",
     "output_type": "stream",
     "text": [
      "\r",
      " 11%|█         | 9707/89773 [00:22<02:35, 515.18it/s]"
     ]
    },
    {
     "name": "stderr",
     "output_type": "stream",
     "text": [
      "\r",
      " 11%|█         | 9765/89773 [00:23<02:30, 532.78it/s]"
     ]
    },
    {
     "name": "stderr",
     "output_type": "stream",
     "text": [
      "\r",
      " 11%|█         | 9824/89773 [00:23<02:26, 546.66it/s]"
     ]
    },
    {
     "name": "stderr",
     "output_type": "stream",
     "text": [
      "\r",
      " 11%|█         | 9883/89773 [00:23<02:23, 556.66it/s]"
     ]
    },
    {
     "name": "stderr",
     "output_type": "stream",
     "text": [
      "\r",
      " 11%|█         | 9940/89773 [00:23<03:07, 425.33it/s]"
     ]
    },
    {
     "name": "stderr",
     "output_type": "stream",
     "text": [
      "\r",
      " 11%|█         | 9999/89773 [00:23<02:52, 462.81it/s]"
     ]
    },
    {
     "name": "stderr",
     "output_type": "stream",
     "text": [
      "\r",
      " 11%|█         | 10058/89773 [00:23<02:41, 493.08it/s]"
     ]
    },
    {
     "name": "stderr",
     "output_type": "stream",
     "text": [
      "\r",
      " 11%|█▏        | 10117/89773 [00:23<02:34, 516.81it/s]"
     ]
    },
    {
     "name": "stderr",
     "output_type": "stream",
     "text": [
      "\r",
      " 11%|█▏        | 10176/89773 [00:23<02:28, 534.90it/s]"
     ]
    },
    {
     "name": "stderr",
     "output_type": "stream",
     "text": [
      "\r",
      " 11%|█▏        | 10234/89773 [00:23<02:25, 547.07it/s]"
     ]
    },
    {
     "name": "stderr",
     "output_type": "stream",
     "text": [
      "\r",
      " 11%|█▏        | 10293/89773 [00:24<02:22, 557.04it/s]"
     ]
    },
    {
     "name": "stderr",
     "output_type": "stream",
     "text": [
      "\r",
      " 12%|█▏        | 10352/89773 [00:24<02:20, 564.23it/s]"
     ]
    },
    {
     "name": "stderr",
     "output_type": "stream",
     "text": [
      "\r",
      " 12%|█▏        | 10410/89773 [00:24<03:06, 425.40it/s]"
     ]
    },
    {
     "name": "stderr",
     "output_type": "stream",
     "text": [
      "\r",
      " 12%|█▏        | 10469/89773 [00:24<02:51, 462.89it/s]"
     ]
    },
    {
     "name": "stderr",
     "output_type": "stream",
     "text": [
      "\r",
      " 12%|█▏        | 10528/89773 [00:24<02:40, 492.88it/s]"
     ]
    },
    {
     "name": "stderr",
     "output_type": "stream",
     "text": [
      "\r",
      " 12%|█▏        | 10586/89773 [00:24<02:33, 515.90it/s]"
     ]
    },
    {
     "name": "stderr",
     "output_type": "stream",
     "text": [
      "\r",
      " 12%|█▏        | 10645/89773 [00:24<02:28, 533.95it/s]"
     ]
    },
    {
     "name": "stderr",
     "output_type": "stream",
     "text": [
      "\r",
      " 12%|█▏        | 10704/89773 [00:24<02:24, 547.10it/s]"
     ]
    },
    {
     "name": "stderr",
     "output_type": "stream",
     "text": [
      "\r",
      " 12%|█▏        | 10763/89773 [00:24<02:21, 557.36it/s]"
     ]
    },
    {
     "name": "stderr",
     "output_type": "stream",
     "text": [
      "\r",
      " 12%|█▏        | 10820/89773 [00:25<03:07, 420.09it/s]"
     ]
    },
    {
     "name": "stderr",
     "output_type": "stream",
     "text": [
      "\r",
      " 12%|█▏        | 10879/89773 [00:25<02:51, 458.75it/s]"
     ]
    },
    {
     "name": "stderr",
     "output_type": "stream",
     "text": [
      "\r",
      " 12%|█▏        | 10938/89773 [00:25<02:40, 490.11it/s]"
     ]
    },
    {
     "name": "stderr",
     "output_type": "stream",
     "text": [
      "\r",
      " 12%|█▏        | 10997/89773 [00:25<02:33, 514.76it/s]"
     ]
    },
    {
     "name": "stderr",
     "output_type": "stream",
     "text": [
      "\r",
      " 12%|█▏        | 11056/89773 [00:25<02:27, 533.50it/s]"
     ]
    },
    {
     "name": "stderr",
     "output_type": "stream",
     "text": [
      "\r",
      " 12%|█▏        | 11115/89773 [00:25<02:23, 546.79it/s]"
     ]
    },
    {
     "name": "stderr",
     "output_type": "stream",
     "text": [
      "\r",
      " 12%|█▏        | 11173/89773 [00:25<02:21, 556.05it/s]"
     ]
    },
    {
     "name": "stderr",
     "output_type": "stream",
     "text": [
      "\r",
      " 13%|█▎        | 11230/89773 [00:26<03:09, 415.45it/s]"
     ]
    },
    {
     "name": "stderr",
     "output_type": "stream",
     "text": [
      "\r",
      " 13%|█▎        | 11288/89773 [00:26<02:53, 453.64it/s]"
     ]
    },
    {
     "name": "stderr",
     "output_type": "stream",
     "text": [
      "\r",
      " 13%|█▎        | 11346/89773 [00:26<02:41, 484.59it/s]"
     ]
    },
    {
     "name": "stderr",
     "output_type": "stream",
     "text": [
      "\r",
      " 13%|█▎        | 11405/89773 [00:26<02:33, 510.05it/s]"
     ]
    },
    {
     "name": "stderr",
     "output_type": "stream",
     "text": [
      "\r",
      " 13%|█▎        | 11464/89773 [00:26<02:27, 529.76it/s]"
     ]
    },
    {
     "name": "stderr",
     "output_type": "stream",
     "text": [
      "\r",
      " 13%|█▎        | 11522/89773 [00:26<02:24, 542.68it/s]"
     ]
    },
    {
     "name": "stderr",
     "output_type": "stream",
     "text": [
      "\r",
      " 13%|█▎        | 11580/89773 [00:26<02:21, 553.08it/s]"
     ]
    },
    {
     "name": "stderr",
     "output_type": "stream",
     "text": [
      "\r",
      " 13%|█▎        | 11637/89773 [00:26<03:09, 411.70it/s]"
     ]
    },
    {
     "name": "stderr",
     "output_type": "stream",
     "text": [
      "\r",
      " 13%|█▎        | 11696/89773 [00:26<02:52, 451.64it/s]"
     ]
    },
    {
     "name": "stderr",
     "output_type": "stream",
     "text": [
      "\r",
      " 13%|█▎        | 11755/89773 [00:27<02:41, 484.34it/s]"
     ]
    },
    {
     "name": "stderr",
     "output_type": "stream",
     "text": [
      "\r",
      " 13%|█▎        | 11814/89773 [00:27<02:32, 510.50it/s]"
     ]
    },
    {
     "name": "stderr",
     "output_type": "stream",
     "text": [
      "\r",
      " 13%|█▎        | 11873/89773 [00:27<02:26, 530.15it/s]"
     ]
    },
    {
     "name": "stderr",
     "output_type": "stream",
     "text": [
      "\r",
      " 13%|█▎        | 11932/89773 [00:27<02:22, 544.77it/s]"
     ]
    },
    {
     "name": "stderr",
     "output_type": "stream",
     "text": [
      "\r",
      " 13%|█▎        | 11991/89773 [00:27<02:20, 555.22it/s]"
     ]
    },
    {
     "name": "stderr",
     "output_type": "stream",
     "text": [
      "\r",
      " 13%|█▎        | 12050/89773 [00:27<02:18, 563.00it/s]"
     ]
    },
    {
     "name": "stderr",
     "output_type": "stream",
     "text": [
      "\r",
      " 13%|█▎        | 12108/89773 [00:27<03:08, 412.46it/s]"
     ]
    },
    {
     "name": "stderr",
     "output_type": "stream",
     "text": [
      "\r",
      " 14%|█▎        | 12166/89773 [00:27<02:52, 450.41it/s]"
     ]
    },
    {
     "name": "stderr",
     "output_type": "stream",
     "text": [
      "\r",
      " 14%|█▎        | 12224/89773 [00:27<02:40, 482.25it/s]"
     ]
    },
    {
     "name": "stderr",
     "output_type": "stream",
     "text": [
      "\r",
      " 14%|█▎        | 12283/89773 [00:28<02:32, 508.28it/s]"
     ]
    },
    {
     "name": "stderr",
     "output_type": "stream",
     "text": [
      "\r",
      " 14%|█▎        | 12341/89773 [00:28<02:26, 527.54it/s]"
     ]
    },
    {
     "name": "stderr",
     "output_type": "stream",
     "text": [
      "\r",
      " 14%|█▍        | 12400/89773 [00:28<02:22, 542.87it/s]"
     ]
    },
    {
     "name": "stderr",
     "output_type": "stream",
     "text": [
      "\r",
      " 14%|█▍        | 12459/89773 [00:28<02:19, 554.31it/s]"
     ]
    },
    {
     "name": "stderr",
     "output_type": "stream",
     "text": [
      "\r",
      " 14%|█▍        | 12516/89773 [00:28<03:14, 397.34it/s]"
     ]
    },
    {
     "name": "stderr",
     "output_type": "stream",
     "text": [
      "\r",
      " 14%|█▍        | 12574/89773 [00:28<02:56, 438.55it/s]"
     ]
    },
    {
     "name": "stderr",
     "output_type": "stream",
     "text": [
      "\r",
      " 14%|█▍        | 12632/89773 [00:28<02:43, 471.89it/s]"
     ]
    },
    {
     "name": "stderr",
     "output_type": "stream",
     "text": [
      "\r",
      " 14%|█▍        | 12690/89773 [00:28<02:34, 499.53it/s]"
     ]
    },
    {
     "name": "stderr",
     "output_type": "stream",
     "text": [
      "\r",
      " 14%|█▍        | 12749/89773 [00:29<02:27, 521.79it/s]"
     ]
    },
    {
     "name": "stderr",
     "output_type": "stream",
     "text": [
      "\r",
      " 14%|█▍        | 12807/89773 [00:29<02:23, 537.13it/s]"
     ]
    },
    {
     "name": "stderr",
     "output_type": "stream",
     "text": [
      "\r",
      " 14%|█▍        | 12865/89773 [00:29<02:20, 549.14it/s]"
     ]
    },
    {
     "name": "stderr",
     "output_type": "stream",
     "text": [
      "\r",
      " 14%|█▍        | 12922/89773 [00:29<03:15, 393.52it/s]"
     ]
    },
    {
     "name": "stderr",
     "output_type": "stream",
     "text": [
      "\r",
      " 14%|█▍        | 12980/89773 [00:29<02:56, 434.11it/s]"
     ]
    },
    {
     "name": "stderr",
     "output_type": "stream",
     "text": [
      "\r",
      " 15%|█▍        | 13038/89773 [00:29<02:43, 469.58it/s]"
     ]
    },
    {
     "name": "stderr",
     "output_type": "stream",
     "text": [
      "\r",
      " 15%|█▍        | 13097/89773 [00:29<02:33, 498.56it/s]"
     ]
    },
    {
     "name": "stderr",
     "output_type": "stream",
     "text": [
      "\r",
      " 15%|█▍        | 13156/89773 [00:29<02:27, 520.73it/s]"
     ]
    },
    {
     "name": "stderr",
     "output_type": "stream",
     "text": [
      "\r",
      " 15%|█▍        | 13215/89773 [00:29<02:22, 537.51it/s]"
     ]
    },
    {
     "name": "stderr",
     "output_type": "stream",
     "text": [
      "\r",
      " 15%|█▍        | 13274/89773 [00:30<02:19, 550.14it/s]"
     ]
    },
    {
     "name": "stderr",
     "output_type": "stream",
     "text": [
      "\r",
      " 15%|█▍        | 13333/89773 [00:30<02:16, 558.90it/s]"
     ]
    },
    {
     "name": "stderr",
     "output_type": "stream",
     "text": [
      "\r",
      " 15%|█▍        | 13391/89773 [00:30<03:09, 404.07it/s]"
     ]
    },
    {
     "name": "stderr",
     "output_type": "stream",
     "text": [
      "\r",
      " 15%|█▍        | 13449/89773 [00:30<02:52, 443.14it/s]"
     ]
    },
    {
     "name": "stderr",
     "output_type": "stream",
     "text": [
      "\r",
      " 15%|█▌        | 13507/89773 [00:30<02:39, 476.68it/s]"
     ]
    },
    {
     "name": "stderr",
     "output_type": "stream",
     "text": [
      "\r",
      " 15%|█▌        | 13565/89773 [00:30<02:31, 502.34it/s]"
     ]
    },
    {
     "name": "stderr",
     "output_type": "stream",
     "text": [
      "\r",
      " 15%|█▌        | 13623/89773 [00:30<02:25, 523.15it/s]"
     ]
    },
    {
     "name": "stderr",
     "output_type": "stream",
     "text": [
      "\r",
      " 15%|█▌        | 13681/89773 [00:30<02:21, 538.20it/s]"
     ]
    },
    {
     "name": "stderr",
     "output_type": "stream",
     "text": [
      "\r",
      " 15%|█▌        | 13740/89773 [00:31<02:18, 550.81it/s]"
     ]
    },
    {
     "name": "stderr",
     "output_type": "stream",
     "text": [
      "\r",
      " 15%|█▌        | 13797/89773 [00:31<03:12, 394.42it/s]"
     ]
    },
    {
     "name": "stderr",
     "output_type": "stream",
     "text": [
      "\r",
      " 15%|█▌        | 13855/89773 [00:31<02:53, 436.31it/s]"
     ]
    },
    {
     "name": "stderr",
     "output_type": "stream",
     "text": [
      "\r",
      " 15%|█▌        | 13913/89773 [00:31<02:40, 471.22it/s]"
     ]
    },
    {
     "name": "stderr",
     "output_type": "stream",
     "text": [
      "\r",
      " 16%|█▌        | 13971/89773 [00:31<02:31, 498.98it/s]"
     ]
    },
    {
     "name": "stderr",
     "output_type": "stream",
     "text": [
      "\r",
      " 16%|█▌        | 14029/89773 [00:31<02:25, 520.32it/s]"
     ]
    },
    {
     "name": "stderr",
     "output_type": "stream",
     "text": [
      "\r",
      " 16%|█▌        | 14087/89773 [00:31<02:21, 535.92it/s]"
     ]
    },
    {
     "name": "stderr",
     "output_type": "stream",
     "text": [
      "\r",
      " 16%|█▌        | 14145/89773 [00:31<02:18, 546.87it/s]"
     ]
    },
    {
     "name": "stderr",
     "output_type": "stream",
     "text": [
      "\r",
      " 16%|█▌        | 14204/89773 [00:31<02:15, 557.10it/s]"
     ]
    },
    {
     "name": "stderr",
     "output_type": "stream",
     "text": [
      "\r",
      " 16%|█▌        | 14261/89773 [00:32<03:09, 398.00it/s]"
     ]
    },
    {
     "name": "stderr",
     "output_type": "stream",
     "text": [
      "\r",
      " 16%|█▌        | 14319/89773 [00:32<02:51, 439.16it/s]"
     ]
    },
    {
     "name": "stderr",
     "output_type": "stream",
     "text": [
      "\r",
      " 16%|█▌        | 14378/89773 [00:32<02:38, 474.41it/s]"
     ]
    },
    {
     "name": "stderr",
     "output_type": "stream",
     "text": [
      "\r",
      " 16%|█▌        | 14437/89773 [00:32<02:29, 502.71it/s]"
     ]
    },
    {
     "name": "stderr",
     "output_type": "stream",
     "text": [
      "\r",
      " 16%|█▌        | 14496/89773 [00:32<02:23, 524.30it/s]"
     ]
    },
    {
     "name": "stderr",
     "output_type": "stream",
     "text": [
      "\r",
      " 16%|█▌        | 14554/89773 [00:32<02:19, 539.09it/s]"
     ]
    },
    {
     "name": "stderr",
     "output_type": "stream",
     "text": [
      "\r",
      " 16%|█▋        | 14613/89773 [00:32<02:16, 551.10it/s]"
     ]
    },
    {
     "name": "stderr",
     "output_type": "stream",
     "text": [
      "\r",
      " 16%|█▋        | 14670/89773 [00:33<03:10, 394.20it/s]"
     ]
    },
    {
     "name": "stderr",
     "output_type": "stream",
     "text": [
      "\r",
      " 16%|█▋        | 14728/89773 [00:33<02:52, 435.91it/s]"
     ]
    },
    {
     "name": "stderr",
     "output_type": "stream",
     "text": [
      "\r",
      " 16%|█▋        | 14787/89773 [00:33<02:38, 471.94it/s]"
     ]
    },
    {
     "name": "stderr",
     "output_type": "stream",
     "text": [
      "\r",
      " 17%|█▋        | 14846/89773 [00:33<02:29, 500.50it/s]"
     ]
    },
    {
     "name": "stderr",
     "output_type": "stream",
     "text": [
      "\r",
      " 17%|█▋        | 14905/89773 [00:33<02:23, 522.22it/s]"
     ]
    },
    {
     "name": "stderr",
     "output_type": "stream",
     "text": [
      "\r",
      " 17%|█▋        | 14963/89773 [00:33<02:19, 537.67it/s]"
     ]
    },
    {
     "name": "stderr",
     "output_type": "stream",
     "text": [
      "\r",
      " 17%|█▋        | 15022/89773 [00:33<02:15, 550.23it/s]"
     ]
    },
    {
     "name": "stderr",
     "output_type": "stream",
     "text": [
      "\r",
      " 17%|█▋        | 15080/89773 [00:33<02:13, 557.49it/s]"
     ]
    },
    {
     "name": "stderr",
     "output_type": "stream",
     "text": [
      "\r",
      " 17%|█▋        | 15137/89773 [00:34<03:11, 389.64it/s]"
     ]
    },
    {
     "name": "stderr",
     "output_type": "stream",
     "text": [
      "\r",
      " 17%|█▋        | 15196/89773 [00:34<02:52, 432.85it/s]"
     ]
    },
    {
     "name": "stderr",
     "output_type": "stream",
     "text": [
      "\r",
      " 17%|█▋        | 15254/89773 [00:34<02:39, 467.30it/s]"
     ]
    },
    {
     "name": "stderr",
     "output_type": "stream",
     "text": [
      "\r",
      " 17%|█▋        | 15313/89773 [00:34<02:29, 496.68it/s]"
     ]
    },
    {
     "name": "stderr",
     "output_type": "stream",
     "text": [
      "\r",
      " 17%|█▋        | 15372/89773 [00:34<02:23, 519.61it/s]"
     ]
    },
    {
     "name": "stderr",
     "output_type": "stream",
     "text": [
      "\r",
      " 17%|█▋        | 15430/89773 [00:34<02:18, 535.56it/s]"
     ]
    },
    {
     "name": "stderr",
     "output_type": "stream",
     "text": [
      "\r",
      " 17%|█▋        | 15488/89773 [00:34<02:15, 547.71it/s]"
     ]
    },
    {
     "name": "stderr",
     "output_type": "stream",
     "text": [
      "\r",
      " 17%|█▋        | 15545/89773 [00:34<03:10, 389.33it/s]"
     ]
    },
    {
     "name": "stderr",
     "output_type": "stream",
     "text": [
      "\r",
      " 17%|█▋        | 15604/89773 [00:34<02:51, 432.61it/s]"
     ]
    },
    {
     "name": "stderr",
     "output_type": "stream",
     "text": [
      "\r",
      " 17%|█▋        | 15662/89773 [00:35<02:38, 467.18it/s]"
     ]
    },
    {
     "name": "stderr",
     "output_type": "stream",
     "text": [
      "\r",
      " 18%|█▊        | 15719/89773 [00:35<02:30, 491.86it/s]"
     ]
    },
    {
     "name": "stderr",
     "output_type": "stream",
     "text": [
      "\r",
      " 18%|█▊        | 15777/89773 [00:35<02:23, 514.76it/s]"
     ]
    },
    {
     "name": "stderr",
     "output_type": "stream",
     "text": [
      "\r",
      " 18%|█▊        | 15835/89773 [00:35<02:18, 532.06it/s]"
     ]
    },
    {
     "name": "stderr",
     "output_type": "stream",
     "text": [
      "\r",
      " 18%|█▊        | 15894/89773 [00:35<02:15, 546.10it/s]"
     ]
    },
    {
     "name": "stderr",
     "output_type": "stream",
     "text": [
      "\r",
      " 18%|█▊        | 15953/89773 [00:35<03:09, 389.99it/s]"
     ]
    },
    {
     "name": "stderr",
     "output_type": "stream",
     "text": [
      "\r",
      " 18%|█▊        | 16011/89773 [00:35<02:50, 431.74it/s]"
     ]
    },
    {
     "name": "stderr",
     "output_type": "stream",
     "text": [
      "\r",
      " 18%|█▊        | 16069/89773 [00:35<02:37, 466.59it/s]"
     ]
    },
    {
     "name": "stderr",
     "output_type": "stream",
     "text": [
      "\r",
      " 18%|█▊        | 16127/89773 [00:36<02:28, 494.99it/s]"
     ]
    },
    {
     "name": "stderr",
     "output_type": "stream",
     "text": [
      "\r",
      " 18%|█▊        | 16185/89773 [00:36<02:22, 517.32it/s]"
     ]
    },
    {
     "name": "stderr",
     "output_type": "stream",
     "text": [
      "\r",
      " 18%|█▊        | 16243/89773 [00:36<02:17, 533.63it/s]"
     ]
    },
    {
     "name": "stderr",
     "output_type": "stream",
     "text": [
      "\r",
      " 18%|█▊        | 16301/89773 [00:36<02:14, 546.08it/s]"
     ]
    },
    {
     "name": "stderr",
     "output_type": "stream",
     "text": [
      "\r",
      " 18%|█▊        | 16359/89773 [00:36<02:12, 555.74it/s]"
     ]
    },
    {
     "name": "stderr",
     "output_type": "stream",
     "text": [
      "\r",
      " 18%|█▊        | 16416/89773 [00:36<03:08, 389.40it/s]"
     ]
    },
    {
     "name": "stderr",
     "output_type": "stream",
     "text": [
      "\r",
      " 18%|█▊        | 16474/89773 [00:36<02:49, 431.73it/s]"
     ]
    },
    {
     "name": "stderr",
     "output_type": "stream",
     "text": [
      "\r",
      " 18%|█▊        | 16532/89773 [00:36<02:36, 467.44it/s]"
     ]
    },
    {
     "name": "stderr",
     "output_type": "stream",
     "text": [
      "\r",
      " 18%|█▊        | 16590/89773 [00:36<02:27, 496.01it/s]"
     ]
    },
    {
     "name": "stderr",
     "output_type": "stream",
     "text": [
      "\r",
      " 19%|█▊        | 16648/89773 [00:37<02:21, 518.33it/s]"
     ]
    },
    {
     "name": "stderr",
     "output_type": "stream",
     "text": [
      "\r",
      " 19%|█▊        | 16706/89773 [00:37<02:16, 535.38it/s]"
     ]
    },
    {
     "name": "stderr",
     "output_type": "stream",
     "text": [
      "\r",
      " 19%|█▊        | 16764/89773 [00:37<02:13, 547.28it/s]"
     ]
    },
    {
     "name": "stderr",
     "output_type": "stream",
     "text": [
      "\r",
      " 19%|█▊        | 16821/89773 [00:37<03:14, 375.44it/s]"
     ]
    },
    {
     "name": "stderr",
     "output_type": "stream",
     "text": [
      "\r",
      " 19%|█▉        | 16879/89773 [00:37<02:53, 419.89it/s]"
     ]
    },
    {
     "name": "stderr",
     "output_type": "stream",
     "text": [
      "\r",
      " 19%|█▉        | 16938/89773 [00:37<02:38, 458.52it/s]"
     ]
    },
    {
     "name": "stderr",
     "output_type": "stream",
     "text": [
      "\r",
      " 19%|█▉        | 16996/89773 [00:37<02:29, 487.99it/s]"
     ]
    },
    {
     "name": "stderr",
     "output_type": "stream",
     "text": [
      "\r",
      " 19%|█▉        | 17054/89773 [00:37<02:22, 511.77it/s]"
     ]
    },
    {
     "name": "stderr",
     "output_type": "stream",
     "text": [
      "\r",
      " 19%|█▉        | 17111/89773 [00:38<02:17, 527.67it/s]"
     ]
    },
    {
     "name": "stderr",
     "output_type": "stream",
     "text": [
      "\r",
      " 19%|█▉        | 17169/89773 [00:38<02:14, 540.07it/s]"
     ]
    },
    {
     "name": "stderr",
     "output_type": "stream",
     "text": [
      "\r",
      " 19%|█▉        | 17226/89773 [00:38<02:12, 548.52it/s]"
     ]
    },
    {
     "name": "stderr",
     "output_type": "stream",
     "text": [
      "\r",
      " 19%|█▉        | 17283/89773 [00:38<03:18, 364.87it/s]"
     ]
    },
    {
     "name": "stderr",
     "output_type": "stream",
     "text": [
      "\r",
      " 19%|█▉        | 17341/89773 [00:38<02:56, 410.36it/s]"
     ]
    },
    {
     "name": "stderr",
     "output_type": "stream",
     "text": [
      "\r",
      " 19%|█▉        | 17399/89773 [00:38<02:41, 449.31it/s]"
     ]
    },
    {
     "name": "stderr",
     "output_type": "stream",
     "text": [
      "\r",
      " 19%|█▉        | 17457/89773 [00:38<02:30, 481.63it/s]"
     ]
    },
    {
     "name": "stderr",
     "output_type": "stream",
     "text": [
      "\r",
      " 20%|█▉        | 17516/89773 [00:38<02:22, 507.83it/s]"
     ]
    },
    {
     "name": "stderr",
     "output_type": "stream",
     "text": [
      "\r",
      " 20%|█▉        | 17574/89773 [00:39<02:16, 527.22it/s]"
     ]
    },
    {
     "name": "stderr",
     "output_type": "stream",
     "text": [
      "\r",
      " 20%|█▉        | 17632/89773 [00:39<02:13, 541.24it/s]"
     ]
    },
    {
     "name": "stderr",
     "output_type": "stream",
     "text": [
      "\r",
      " 20%|█▉        | 17689/89773 [00:39<03:17, 364.54it/s]"
     ]
    },
    {
     "name": "stderr",
     "output_type": "stream",
     "text": [
      "\r",
      " 20%|█▉        | 17747/89773 [00:39<02:55, 410.05it/s]"
     ]
    },
    {
     "name": "stderr",
     "output_type": "stream",
     "text": [
      "\r",
      " 20%|█▉        | 17805/89773 [00:39<02:40, 448.02it/s]"
     ]
    },
    {
     "name": "stderr",
     "output_type": "stream",
     "text": [
      "\r",
      " 20%|█▉        | 17863/89773 [00:39<02:29, 480.52it/s]"
     ]
    },
    {
     "name": "stderr",
     "output_type": "stream",
     "text": [
      "\r",
      " 20%|█▉        | 17921/89773 [00:39<02:21, 506.54it/s]"
     ]
    },
    {
     "name": "stderr",
     "output_type": "stream",
     "text": [
      "\r",
      " 20%|██        | 17979/89773 [00:39<02:16, 526.20it/s]"
     ]
    },
    {
     "name": "stderr",
     "output_type": "stream",
     "text": [
      "\r",
      " 20%|██        | 18037/89773 [00:40<02:12, 540.94it/s]"
     ]
    },
    {
     "name": "stderr",
     "output_type": "stream",
     "text": [
      "\r",
      " 20%|██        | 18096/89773 [00:40<02:09, 552.76it/s]"
     ]
    },
    {
     "name": "stderr",
     "output_type": "stream",
     "text": [
      "\r",
      " 20%|██        | 18153/89773 [00:40<03:10, 376.61it/s]"
     ]
    },
    {
     "name": "stderr",
     "output_type": "stream",
     "text": [
      "\r",
      " 20%|██        | 18211/89773 [00:40<02:50, 420.92it/s]"
     ]
    },
    {
     "name": "stderr",
     "output_type": "stream",
     "text": [
      "\r",
      " 20%|██        | 18269/89773 [00:40<02:35, 458.59it/s]"
     ]
    },
    {
     "name": "stderr",
     "output_type": "stream",
     "text": [
      "\r",
      " 20%|██        | 18327/89773 [00:40<02:26, 489.01it/s]"
     ]
    },
    {
     "name": "stderr",
     "output_type": "stream",
     "text": [
      "\r",
      " 20%|██        | 18385/89773 [00:40<02:19, 512.68it/s]"
     ]
    },
    {
     "name": "stderr",
     "output_type": "stream",
     "text": [
      "\r",
      " 21%|██        | 18443/89773 [00:40<02:14, 530.68it/s]"
     ]
    },
    {
     "name": "stderr",
     "output_type": "stream",
     "text": [
      "\r",
      " 21%|██        | 18501/89773 [00:40<02:10, 544.38it/s]"
     ]
    },
    {
     "name": "stderr",
     "output_type": "stream",
     "text": [
      "\r",
      " 21%|██        | 18559/89773 [00:41<02:08, 553.72it/s]"
     ]
    },
    {
     "name": "stderr",
     "output_type": "stream",
     "text": [
      "\r",
      " 21%|██        | 18616/89773 [00:41<03:09, 374.71it/s]"
     ]
    },
    {
     "name": "stderr",
     "output_type": "stream",
     "text": [
      "\r",
      " 21%|██        | 18674/89773 [00:41<02:49, 419.10it/s]"
     ]
    },
    {
     "name": "stderr",
     "output_type": "stream",
     "text": [
      "\r",
      " 21%|██        | 18732/89773 [00:41<02:35, 456.18it/s]"
     ]
    },
    {
     "name": "stderr",
     "output_type": "stream",
     "text": [
      "\r",
      " 21%|██        | 18790/89773 [00:41<02:25, 486.33it/s]"
     ]
    },
    {
     "name": "stderr",
     "output_type": "stream",
     "text": [
      "\r",
      " 21%|██        | 18848/89773 [00:41<02:18, 510.68it/s]"
     ]
    },
    {
     "name": "stderr",
     "output_type": "stream",
     "text": [
      "\r",
      " 21%|██        | 18906/89773 [00:41<02:13, 529.19it/s]"
     ]
    },
    {
     "name": "stderr",
     "output_type": "stream",
     "text": [
      "\r",
      " 21%|██        | 18964/89773 [00:41<02:10, 543.27it/s]"
     ]
    },
    {
     "name": "stderr",
     "output_type": "stream",
     "text": [
      "\r",
      " 21%|██        | 19021/89773 [00:42<03:11, 368.88it/s]"
     ]
    },
    {
     "name": "stderr",
     "output_type": "stream",
     "text": [
      "\r",
      " 21%|██▏       | 19079/89773 [00:42<02:50, 414.15it/s]"
     ]
    },
    {
     "name": "stderr",
     "output_type": "stream",
     "text": [
      "\r",
      " 21%|██▏       | 19137/89773 [00:42<02:36, 452.57it/s]"
     ]
    },
    {
     "name": "stderr",
     "output_type": "stream",
     "text": [
      "\r",
      " 21%|██▏       | 19194/89773 [00:42<02:26, 481.29it/s]"
     ]
    },
    {
     "name": "stderr",
     "output_type": "stream",
     "text": [
      "\r",
      " 21%|██▏       | 19252/89773 [00:42<02:19, 506.60it/s]"
     ]
    },
    {
     "name": "stderr",
     "output_type": "stream",
     "text": [
      "\r",
      " 22%|██▏       | 19310/89773 [00:42<02:13, 525.88it/s]"
     ]
    },
    {
     "name": "stderr",
     "output_type": "stream",
     "text": [
      "\r",
      " 22%|██▏       | 19368/89773 [00:42<02:10, 539.35it/s]"
     ]
    },
    {
     "name": "stderr",
     "output_type": "stream",
     "text": [
      "\r",
      " 22%|██▏       | 19426/89773 [00:42<02:07, 550.09it/s]"
     ]
    },
    {
     "name": "stderr",
     "output_type": "stream",
     "text": [
      "\r",
      " 22%|██▏       | 19483/89773 [00:43<03:10, 369.63it/s]"
     ]
    },
    {
     "name": "stderr",
     "output_type": "stream",
     "text": [
      "\r",
      " 22%|██▏       | 19541/89773 [00:43<02:49, 414.55it/s]"
     ]
    },
    {
     "name": "stderr",
     "output_type": "stream",
     "text": [
      "\r",
      " 22%|██▏       | 19599/89773 [00:43<02:35, 452.66it/s]"
     ]
    },
    {
     "name": "stderr",
     "output_type": "stream",
     "text": [
      "\r",
      " 22%|██▏       | 19658/89773 [00:43<02:24, 485.11it/s]"
     ]
    },
    {
     "name": "stderr",
     "output_type": "stream",
     "text": [
      "\r",
      " 22%|██▏       | 19716/89773 [00:43<02:17, 509.95it/s]"
     ]
    },
    {
     "name": "stderr",
     "output_type": "stream",
     "text": [
      "\r",
      " 22%|██▏       | 19775/89773 [00:43<02:12, 529.52it/s]"
     ]
    },
    {
     "name": "stderr",
     "output_type": "stream",
     "text": [
      "\r",
      " 22%|██▏       | 19834/89773 [00:43<02:08, 544.08it/s]"
     ]
    },
    {
     "name": "stderr",
     "output_type": "stream",
     "text": [
      "\r",
      " 22%|██▏       | 19891/89773 [00:43<02:14, 519.41it/s]"
     ]
    },
    {
     "name": "stderr",
     "output_type": "stream",
     "text": [
      "\r",
      " 22%|██▏       | 19945/89773 [00:44<04:09, 279.41it/s]"
     ]
    },
    {
     "name": "stderr",
     "output_type": "stream",
     "text": [
      "\r",
      " 22%|██▏       | 19987/89773 [00:44<04:08, 280.80it/s]"
     ]
    },
    {
     "name": "stderr",
     "output_type": "stream",
     "text": [
      "\r",
      " 22%|██▏       | 20025/89773 [00:44<04:05, 284.11it/s]"
     ]
    },
    {
     "name": "stderr",
     "output_type": "stream",
     "text": [
      "\r",
      " 22%|██▏       | 20061/89773 [00:44<04:04, 284.79it/s]"
     ]
    },
    {
     "name": "stderr",
     "output_type": "stream",
     "text": [
      "\r",
      " 22%|██▏       | 20095/89773 [00:44<04:02, 287.84it/s]"
     ]
    },
    {
     "name": "stderr",
     "output_type": "stream",
     "text": [
      "\r",
      " 22%|██▏       | 20128/89773 [00:44<04:02, 287.48it/s]"
     ]
    },
    {
     "name": "stderr",
     "output_type": "stream",
     "text": [
      "\r",
      " 22%|██▏       | 20160/89773 [00:45<04:02, 286.50it/s]"
     ]
    },
    {
     "name": "stderr",
     "output_type": "stream",
     "text": [
      "\r",
      " 22%|██▏       | 20191/89773 [00:45<04:00, 289.28it/s]"
     ]
    },
    {
     "name": "stderr",
     "output_type": "stream",
     "text": [
      "\r",
      " 23%|██▎       | 20228/89773 [00:45<03:44, 310.32it/s]"
     ]
    },
    {
     "name": "stderr",
     "output_type": "stream",
     "text": [
      "\r",
      " 23%|██▎       | 20287/89773 [00:45<03:00, 385.41it/s]"
     ]
    },
    {
     "name": "stderr",
     "output_type": "stream",
     "text": [
      "\r",
      " 23%|██▎       | 20343/89773 [00:45<03:53, 296.85it/s]"
     ]
    },
    {
     "name": "stderr",
     "output_type": "stream",
     "text": [
      "\r",
      " 23%|██▎       | 20402/89773 [00:45<03:13, 358.66it/s]"
     ]
    },
    {
     "name": "stderr",
     "output_type": "stream",
     "text": [
      "\r",
      " 23%|██▎       | 20461/89773 [00:45<02:48, 411.89it/s]"
     ]
    },
    {
     "name": "stderr",
     "output_type": "stream",
     "text": [
      "\r",
      " 23%|██▎       | 20520/89773 [00:45<02:32, 455.20it/s]"
     ]
    },
    {
     "name": "stderr",
     "output_type": "stream",
     "text": [
      "\r",
      " 23%|██▎       | 20578/89773 [00:46<02:21, 487.84it/s]"
     ]
    },
    {
     "name": "stderr",
     "output_type": "stream",
     "text": [
      "\r",
      " 23%|██▎       | 20636/89773 [00:46<02:14, 512.59it/s]"
     ]
    },
    {
     "name": "stderr",
     "output_type": "stream",
     "text": [
      "\r",
      " 23%|██▎       | 20691/89773 [00:46<02:12, 522.83it/s]"
     ]
    },
    {
     "name": "stderr",
     "output_type": "stream",
     "text": [
      "\r",
      " 23%|██▎       | 20746/89773 [00:46<02:41, 426.82it/s]"
     ]
    },
    {
     "name": "stderr",
     "output_type": "stream",
     "text": [
      "\r",
      " 23%|██▎       | 20793/89773 [00:46<05:14, 219.26it/s]"
     ]
    },
    {
     "name": "stderr",
     "output_type": "stream",
     "text": [
      "\r",
      " 23%|██▎       | 20829/89773 [00:47<05:18, 216.31it/s]"
     ]
    },
    {
     "name": "stderr",
     "output_type": "stream",
     "text": [
      "\r",
      " 23%|██▎       | 20861/89773 [00:47<05:02, 228.12it/s]"
     ]
    },
    {
     "name": "stderr",
     "output_type": "stream",
     "text": [
      "\r",
      " 23%|██▎       | 20892/89773 [00:47<04:48, 238.90it/s]"
     ]
    },
    {
     "name": "stderr",
     "output_type": "stream",
     "text": [
      "\r",
      " 23%|██▎       | 20922/89773 [00:47<04:37, 248.44it/s]"
     ]
    },
    {
     "name": "stderr",
     "output_type": "stream",
     "text": [
      "\r",
      " 23%|██▎       | 20952/89773 [00:47<04:28, 256.58it/s]"
     ]
    },
    {
     "name": "stderr",
     "output_type": "stream",
     "text": [
      "\r",
      " 23%|██▎       | 20995/89773 [00:47<03:52, 296.22it/s]"
     ]
    },
    {
     "name": "stderr",
     "output_type": "stream",
     "text": [
      "\r",
      " 23%|██▎       | 21028/89773 [00:47<04:22, 261.49it/s]"
     ]
    },
    {
     "name": "stderr",
     "output_type": "stream",
     "text": [
      "\r",
      " 23%|██▎       | 21057/89773 [00:47<04:17, 266.47it/s]"
     ]
    },
    {
     "name": "stderr",
     "output_type": "stream",
     "text": [
      "\r",
      " 23%|██▎       | 21086/89773 [00:48<04:13, 270.83it/s]"
     ]
    },
    {
     "name": "stderr",
     "output_type": "stream",
     "text": [
      "\r",
      " 24%|██▎       | 21115/89773 [00:48<04:10, 274.04it/s]"
     ]
    },
    {
     "name": "stderr",
     "output_type": "stream",
     "text": [
      "\r",
      " 24%|██▎       | 21144/89773 [00:48<04:49, 237.25it/s]"
     ]
    },
    {
     "name": "stderr",
     "output_type": "stream",
     "text": [
      "\r",
      " 24%|██▎       | 21170/89773 [00:48<04:45, 240.68it/s]"
     ]
    },
    {
     "name": "stderr",
     "output_type": "stream",
     "text": [
      "\r",
      " 24%|██▎       | 21196/89773 [00:48<05:15, 217.45it/s]"
     ]
    },
    {
     "name": "stderr",
     "output_type": "stream",
     "text": [
      "\r",
      " 24%|██▎       | 21219/89773 [00:48<05:52, 194.31it/s]"
     ]
    },
    {
     "name": "stderr",
     "output_type": "stream",
     "text": [
      "\r",
      " 24%|██▎       | 21240/89773 [00:49<09:00, 126.85it/s]"
     ]
    },
    {
     "name": "stderr",
     "output_type": "stream",
     "text": [
      "\r",
      " 24%|██▎       | 21261/89773 [00:49<08:05, 141.03it/s]"
     ]
    },
    {
     "name": "stderr",
     "output_type": "stream",
     "text": [
      "\r",
      " 24%|██▎       | 21291/89773 [00:49<06:35, 173.21it/s]"
     ]
    },
    {
     "name": "stderr",
     "output_type": "stream",
     "text": [
      "\r",
      " 24%|██▍       | 21340/89773 [00:49<04:41, 243.47it/s]"
     ]
    },
    {
     "name": "stderr",
     "output_type": "stream",
     "text": [
      "\r",
      " 24%|██▍       | 21370/89773 [00:49<04:29, 253.55it/s]"
     ]
    },
    {
     "name": "stderr",
     "output_type": "stream",
     "text": [
      "\r",
      " 24%|██▍       | 21400/89773 [00:49<04:21, 261.86it/s]"
     ]
    },
    {
     "name": "stderr",
     "output_type": "stream",
     "text": [
      "\r",
      " 24%|██▍       | 21429/89773 [00:49<04:14, 268.06it/s]"
     ]
    },
    {
     "name": "stderr",
     "output_type": "stream",
     "text": [
      "\r",
      " 24%|██▍       | 21458/89773 [00:49<04:11, 272.02it/s]"
     ]
    },
    {
     "name": "stderr",
     "output_type": "stream",
     "text": [
      "\r",
      " 24%|██▍       | 21487/89773 [00:49<04:34, 248.97it/s]"
     ]
    },
    {
     "name": "stderr",
     "output_type": "stream",
     "text": [
      "\r",
      " 24%|██▍       | 21514/89773 [00:50<05:00, 227.31it/s]"
     ]
    },
    {
     "name": "stderr",
     "output_type": "stream",
     "text": [
      "\r",
      " 24%|██▍       | 21548/89773 [00:50<04:28, 253.67it/s]"
     ]
    },
    {
     "name": "stderr",
     "output_type": "stream",
     "text": [
      "\r",
      " 24%|██▍       | 21577/89773 [00:50<04:21, 261.28it/s]"
     ]
    },
    {
     "name": "stderr",
     "output_type": "stream",
     "text": [
      "\r",
      " 24%|██▍       | 21606/89773 [00:50<04:14, 267.69it/s]"
     ]
    },
    {
     "name": "stderr",
     "output_type": "stream",
     "text": [
      "\r",
      " 24%|██▍       | 21637/89773 [00:50<04:05, 277.78it/s]"
     ]
    },
    {
     "name": "stderr",
     "output_type": "stream",
     "text": [
      "\r",
      " 24%|██▍       | 21666/89773 [00:50<04:03, 279.94it/s]"
     ]
    },
    {
     "name": "stderr",
     "output_type": "stream",
     "text": [
      "\r",
      " 24%|██▍       | 21695/89773 [00:50<07:07, 159.15it/s]"
     ]
    },
    {
     "name": "stderr",
     "output_type": "stream",
     "text": [
      "\r",
      " 24%|██▍       | 21730/89773 [00:51<05:50, 194.11it/s]"
     ]
    },
    {
     "name": "stderr",
     "output_type": "stream",
     "text": [
      "\r",
      " 24%|██▍       | 21759/89773 [00:51<05:18, 213.62it/s]"
     ]
    },
    {
     "name": "stderr",
     "output_type": "stream",
     "text": [
      "\r",
      " 24%|██▍       | 21788/89773 [00:51<04:55, 230.23it/s]"
     ]
    },
    {
     "name": "stderr",
     "output_type": "stream",
     "text": [
      "\r",
      " 24%|██▍       | 21817/89773 [00:51<04:38, 243.85it/s]"
     ]
    },
    {
     "name": "stderr",
     "output_type": "stream",
     "text": [
      "\r",
      " 24%|██▍       | 21852/89773 [00:51<04:12, 269.24it/s]"
     ]
    },
    {
     "name": "stderr",
     "output_type": "stream",
     "text": [
      "\r",
      " 24%|██▍       | 21882/89773 [00:51<04:08, 273.30it/s]"
     ]
    },
    {
     "name": "stderr",
     "output_type": "stream",
     "text": [
      "\r",
      " 24%|██▍       | 21912/89773 [00:51<04:05, 276.73it/s]"
     ]
    },
    {
     "name": "stderr",
     "output_type": "stream",
     "text": [
      "\r",
      " 24%|██▍       | 21941/89773 [00:51<04:03, 278.95it/s]"
     ]
    },
    {
     "name": "stderr",
     "output_type": "stream",
     "text": [
      "\r",
      " 24%|██▍       | 21970/89773 [00:51<04:01, 280.93it/s]"
     ]
    },
    {
     "name": "stderr",
     "output_type": "stream",
     "text": [
      "\r",
      " 25%|██▍       | 21999/89773 [00:52<04:22, 258.62it/s]"
     ]
    },
    {
     "name": "stderr",
     "output_type": "stream",
     "text": [
      "\r",
      " 25%|██▍       | 22028/89773 [00:52<04:14, 266.02it/s]"
     ]
    },
    {
     "name": "stderr",
     "output_type": "stream",
     "text": [
      "\r",
      " 25%|██▍       | 22056/89773 [00:52<04:49, 233.94it/s]"
     ]
    },
    {
     "name": "stderr",
     "output_type": "stream",
     "text": [
      "\r",
      " 25%|██▍       | 22085/89773 [00:52<04:34, 247.00it/s]"
     ]
    },
    {
     "name": "stderr",
     "output_type": "stream",
     "text": [
      "\r",
      " 25%|██▍       | 22114/89773 [00:52<04:22, 257.27it/s]"
     ]
    },
    {
     "name": "stderr",
     "output_type": "stream",
     "text": [
      "\r",
      " 25%|██▍       | 22141/89773 [00:52<07:03, 159.60it/s]"
     ]
    },
    {
     "name": "stderr",
     "output_type": "stream",
     "text": [
      "\r",
      " 25%|██▍       | 22170/89773 [00:52<06:07, 184.13it/s]"
     ]
    },
    {
     "name": "stderr",
     "output_type": "stream",
     "text": [
      "\r",
      " 25%|██▍       | 22199/89773 [00:52<05:28, 205.91it/s]"
     ]
    },
    {
     "name": "stderr",
     "output_type": "stream",
     "text": [
      "\r",
      " 25%|██▍       | 22234/89773 [00:53<04:42, 239.34it/s]"
     ]
    },
    {
     "name": "stderr",
     "output_type": "stream",
     "text": [
      "\r",
      " 25%|██▍       | 22292/89773 [00:53<03:27, 324.82it/s]"
     ]
    },
    {
     "name": "stderr",
     "output_type": "stream",
     "text": [
      "\r",
      " 25%|██▍       | 22347/89773 [00:53<02:56, 382.36it/s]"
     ]
    },
    {
     "name": "stderr",
     "output_type": "stream",
     "text": [
      "\r",
      " 25%|██▍       | 22389/89773 [00:53<03:13, 347.38it/s]"
     ]
    },
    {
     "name": "stderr",
     "output_type": "stream",
     "text": [
      "\r",
      " 25%|██▍       | 22427/89773 [00:53<03:31, 318.64it/s]"
     ]
    },
    {
     "name": "stderr",
     "output_type": "stream",
     "text": [
      "\r",
      " 25%|██▌       | 22472/89773 [00:53<03:12, 349.95it/s]"
     ]
    },
    {
     "name": "stderr",
     "output_type": "stream",
     "text": [
      "\r",
      " 25%|██▌       | 22528/89773 [00:53<02:46, 404.20it/s]"
     ]
    },
    {
     "name": "stderr",
     "output_type": "stream",
     "text": [
      "\r",
      " 25%|██▌       | 22571/89773 [00:54<03:53, 288.07it/s]"
     ]
    },
    {
     "name": "stderr",
     "output_type": "stream",
     "text": [
      "\r",
      " 25%|██▌       | 22629/89773 [00:54<03:11, 350.10it/s]"
     ]
    },
    {
     "name": "stderr",
     "output_type": "stream",
     "text": [
      "\r",
      " 25%|██▌       | 22687/89773 [00:54<02:46, 403.04it/s]"
     ]
    },
    {
     "name": "stderr",
     "output_type": "stream",
     "text": [
      "\r",
      " 25%|██▌       | 22746/89773 [00:54<02:29, 448.24it/s]"
     ]
    },
    {
     "name": "stderr",
     "output_type": "stream",
     "text": [
      "\r",
      " 25%|██▌       | 22805/89773 [00:54<02:18, 483.58it/s]"
     ]
    },
    {
     "name": "stderr",
     "output_type": "stream",
     "text": [
      "\r",
      " 25%|██▌       | 22863/89773 [00:54<02:11, 509.05it/s]"
     ]
    },
    {
     "name": "stderr",
     "output_type": "stream",
     "text": [
      "\r",
      " 26%|██▌       | 22922/89773 [00:54<02:06, 529.18it/s]"
     ]
    },
    {
     "name": "stderr",
     "output_type": "stream",
     "text": [
      "\r",
      " 26%|██▌       | 22980/89773 [00:54<02:02, 543.48it/s]"
     ]
    },
    {
     "name": "stderr",
     "output_type": "stream",
     "text": [
      "\r",
      " 26%|██▌       | 23037/89773 [00:55<03:36, 308.40it/s]"
     ]
    },
    {
     "name": "stderr",
     "output_type": "stream",
     "text": [
      "\r",
      " 26%|██▌       | 23096/89773 [00:55<03:05, 360.33it/s]"
     ]
    },
    {
     "name": "stderr",
     "output_type": "stream",
     "text": [
      "\r",
      " 26%|██▌       | 23150/89773 [00:55<02:47, 397.66it/s]"
     ]
    },
    {
     "name": "stderr",
     "output_type": "stream",
     "text": [
      "\r",
      " 26%|██▌       | 23202/89773 [00:55<02:36, 425.81it/s]"
     ]
    },
    {
     "name": "stderr",
     "output_type": "stream",
     "text": [
      "\r",
      " 26%|██▌       | 23255/89773 [00:55<02:28, 448.57it/s]"
     ]
    },
    {
     "name": "stderr",
     "output_type": "stream",
     "text": [
      "\r",
      " 26%|██▌       | 23306/89773 [00:55<02:41, 412.71it/s]"
     ]
    },
    {
     "name": "stderr",
     "output_type": "stream",
     "text": [
      "\r",
      " 26%|██▌       | 23365/89773 [00:55<02:25, 455.22it/s]"
     ]
    },
    {
     "name": "stderr",
     "output_type": "stream",
     "text": [
      "\r",
      " 26%|██▌       | 23423/89773 [00:55<02:16, 487.77it/s]"
     ]
    },
    {
     "name": "stderr",
     "output_type": "stream",
     "text": [
      "\r",
      " 26%|██▌       | 23476/89773 [00:56<03:17, 335.05it/s]"
     ]
    },
    {
     "name": "stderr",
     "output_type": "stream",
     "text": [
      "\r",
      " 26%|██▌       | 23535/89773 [00:56<02:51, 386.45it/s]"
     ]
    },
    {
     "name": "stderr",
     "output_type": "stream",
     "text": [
      "\r",
      " 26%|██▋       | 23594/89773 [00:56<02:33, 431.76it/s]"
     ]
    },
    {
     "name": "stderr",
     "output_type": "stream",
     "text": [
      "\r",
      " 26%|██▋       | 23645/89773 [00:56<02:32, 434.66it/s]"
     ]
    },
    {
     "name": "stderr",
     "output_type": "stream",
     "text": [
      "\r",
      " 26%|██▋       | 23694/89773 [00:56<02:53, 381.17it/s]"
     ]
    },
    {
     "name": "stderr",
     "output_type": "stream",
     "text": [
      "\r",
      " 26%|██▋       | 23740/89773 [00:56<02:45, 399.21it/s]"
     ]
    },
    {
     "name": "stderr",
     "output_type": "stream",
     "text": [
      "\r",
      " 27%|██▋       | 23797/89773 [00:56<02:29, 441.91it/s]"
     ]
    },
    {
     "name": "stderr",
     "output_type": "stream",
     "text": [
      "\r",
      " 27%|██▋       | 23854/89773 [00:56<02:18, 475.55it/s]"
     ]
    },
    {
     "name": "stderr",
     "output_type": "stream",
     "text": [
      "\r",
      " 27%|██▋       | 23905/89773 [00:57<03:53, 282.63it/s]"
     ]
    },
    {
     "name": "stderr",
     "output_type": "stream",
     "text": [
      "\r",
      " 27%|██▋       | 23963/89773 [00:57<03:15, 337.46it/s]"
     ]
    },
    {
     "name": "stderr",
     "output_type": "stream",
     "text": [
      "\r",
      " 27%|██▋       | 24017/89773 [00:57<02:53, 379.01it/s]"
     ]
    },
    {
     "name": "stderr",
     "output_type": "stream",
     "text": [
      "\r",
      " 27%|██▋       | 24076/89773 [00:57<02:33, 426.63it/s]"
     ]
    },
    {
     "name": "stderr",
     "output_type": "stream",
     "text": [
      "\r",
      " 27%|██▋       | 24134/89773 [00:57<02:21, 464.36it/s]"
     ]
    },
    {
     "name": "stderr",
     "output_type": "stream",
     "text": [
      "\r",
      " 27%|██▋       | 24192/89773 [00:57<02:12, 493.68it/s]"
     ]
    },
    {
     "name": "stderr",
     "output_type": "stream",
     "text": [
      "\r",
      " 27%|██▋       | 24250/89773 [00:57<02:07, 515.24it/s]"
     ]
    },
    {
     "name": "stderr",
     "output_type": "stream",
     "text": [
      "\r",
      " 27%|██▋       | 24308/89773 [00:58<02:02, 532.31it/s]"
     ]
    },
    {
     "name": "stderr",
     "output_type": "stream",
     "text": [
      "\r",
      " 27%|██▋       | 24364/89773 [00:58<03:16, 333.05it/s]"
     ]
    },
    {
     "name": "stderr",
     "output_type": "stream",
     "text": [
      "\r",
      " 27%|██▋       | 24423/89773 [00:58<02:50, 383.27it/s]"
     ]
    },
    {
     "name": "stderr",
     "output_type": "stream",
     "text": [
      "\r",
      " 27%|██▋       | 24481/89773 [00:58<02:33, 426.17it/s]"
     ]
    },
    {
     "name": "stderr",
     "output_type": "stream",
     "text": [
      "\r",
      " 27%|██▋       | 24539/89773 [00:58<02:20, 462.83it/s]"
     ]
    },
    {
     "name": "stderr",
     "output_type": "stream",
     "text": [
      "\r",
      " 27%|██▋       | 24593/89773 [00:58<02:21, 461.10it/s]"
     ]
    },
    {
     "name": "stderr",
     "output_type": "stream",
     "text": [
      "\r",
      " 27%|██▋       | 24644/89773 [00:58<02:23, 454.72it/s]"
     ]
    },
    {
     "name": "stderr",
     "output_type": "stream",
     "text": [
      "\r",
      " 28%|██▊       | 24703/89773 [00:58<02:13, 488.65it/s]"
     ]
    },
    {
     "name": "stderr",
     "output_type": "stream",
     "text": [
      "\r",
      " 28%|██▊       | 24762/89773 [00:59<02:06, 513.96it/s]"
     ]
    },
    {
     "name": "stderr",
     "output_type": "stream",
     "text": [
      "\r",
      " 28%|██▊       | 24816/89773 [00:59<03:23, 319.33it/s]"
     ]
    },
    {
     "name": "stderr",
     "output_type": "stream",
     "text": [
      "\r",
      " 28%|██▊       | 24874/89773 [00:59<02:55, 370.23it/s]"
     ]
    },
    {
     "name": "stderr",
     "output_type": "stream",
     "text": [
      "\r",
      " 28%|██▊       | 24933/89773 [00:59<02:35, 416.80it/s]"
     ]
    },
    {
     "name": "stderr",
     "output_type": "stream",
     "text": [
      "\r",
      " 28%|██▊       | 24992/89773 [00:59<02:21, 456.30it/s]"
     ]
    },
    {
     "name": "stderr",
     "output_type": "stream",
     "text": [
      "\r",
      " 28%|██▊       | 25050/89773 [00:59<02:12, 487.21it/s]"
     ]
    },
    {
     "name": "stderr",
     "output_type": "stream",
     "text": [
      "\r",
      " 28%|██▊       | 25108/89773 [00:59<02:06, 511.37it/s]"
     ]
    },
    {
     "name": "stderr",
     "output_type": "stream",
     "text": [
      "\r",
      " 28%|██▊       | 25166/89773 [01:00<02:01, 529.60it/s]"
     ]
    },
    {
     "name": "stderr",
     "output_type": "stream",
     "text": [
      "\r",
      " 28%|██▊       | 25224/89773 [01:00<01:58, 543.27it/s]"
     ]
    },
    {
     "name": "stderr",
     "output_type": "stream",
     "text": [
      "\r",
      " 28%|██▊       | 25281/89773 [01:00<03:03, 351.71it/s]"
     ]
    },
    {
     "name": "stderr",
     "output_type": "stream",
     "text": [
      "\r",
      " 28%|██▊       | 25339/89773 [01:00<02:41, 398.72it/s]"
     ]
    },
    {
     "name": "stderr",
     "output_type": "stream",
     "text": [
      "\r",
      " 28%|██▊       | 25397/89773 [01:00<02:26, 440.09it/s]"
     ]
    },
    {
     "name": "stderr",
     "output_type": "stream",
     "text": [
      "\r",
      " 28%|██▊       | 25455/89773 [01:00<02:15, 474.07it/s]"
     ]
    },
    {
     "name": "stderr",
     "output_type": "stream",
     "text": [
      "\r",
      " 28%|██▊       | 25513/89773 [01:00<02:08, 501.42it/s]"
     ]
    },
    {
     "name": "stderr",
     "output_type": "stream",
     "text": [
      "\r",
      " 28%|██▊       | 25571/89773 [01:00<02:02, 522.48it/s]"
     ]
    },
    {
     "name": "stderr",
     "output_type": "stream",
     "text": [
      "\r",
      " 29%|██▊       | 25630/89773 [01:01<01:59, 538.94it/s]"
     ]
    },
    {
     "name": "stderr",
     "output_type": "stream",
     "text": [
      "\r",
      " 29%|██▊       | 25688/89773 [01:01<01:56, 550.00it/s]"
     ]
    },
    {
     "name": "stderr",
     "output_type": "stream",
     "text": [
      "\r",
      " 29%|██▊       | 25745/89773 [01:01<03:02, 351.40it/s]"
     ]
    },
    {
     "name": "stderr",
     "output_type": "stream",
     "text": [
      "\r",
      " 29%|██▊       | 25803/89773 [01:01<02:40, 398.28it/s]"
     ]
    },
    {
     "name": "stderr",
     "output_type": "stream",
     "text": [
      "\r",
      " 29%|██▉       | 25861/89773 [01:01<02:25, 439.12it/s]"
     ]
    },
    {
     "name": "stderr",
     "output_type": "stream",
     "text": [
      "\r",
      " 29%|██▉       | 25919/89773 [01:01<02:14, 473.51it/s]"
     ]
    },
    {
     "name": "stderr",
     "output_type": "stream",
     "text": [
      "\r",
      " 29%|██▉       | 25977/89773 [01:01<02:07, 500.81it/s]"
     ]
    },
    {
     "name": "stderr",
     "output_type": "stream",
     "text": [
      "\r",
      " 29%|██▉       | 26036/89773 [01:01<02:01, 522.52it/s]"
     ]
    },
    {
     "name": "stderr",
     "output_type": "stream",
     "text": [
      "\r",
      " 29%|██▉       | 26095/89773 [01:02<01:58, 538.70it/s]"
     ]
    },
    {
     "name": "stderr",
     "output_type": "stream",
     "text": [
      "\r",
      " 29%|██▉       | 26152/89773 [01:02<03:03, 346.86it/s]"
     ]
    },
    {
     "name": "stderr",
     "output_type": "stream",
     "text": [
      "\r",
      " 29%|██▉       | 26210/89773 [01:02<02:41, 394.11it/s]"
     ]
    },
    {
     "name": "stderr",
     "output_type": "stream",
     "text": [
      "\r",
      " 29%|██▉       | 26267/89773 [01:02<02:26, 433.35it/s]"
     ]
    },
    {
     "name": "stderr",
     "output_type": "stream",
     "text": [
      "\r",
      " 29%|██▉       | 26323/89773 [01:02<02:16, 463.53it/s]"
     ]
    },
    {
     "name": "stderr",
     "output_type": "stream",
     "text": [
      "\r",
      " 29%|██▉       | 26382/89773 [01:02<02:08, 494.10it/s]"
     ]
    },
    {
     "name": "stderr",
     "output_type": "stream",
     "text": [
      "\r",
      " 29%|██▉       | 26440/89773 [01:02<02:02, 516.11it/s]"
     ]
    },
    {
     "name": "stderr",
     "output_type": "stream",
     "text": [
      "\r",
      " 30%|██▉       | 26498/89773 [01:02<01:58, 533.71it/s]"
     ]
    },
    {
     "name": "stderr",
     "output_type": "stream",
     "text": [
      "\r",
      " 30%|██▉       | 26557/89773 [01:03<01:55, 547.40it/s]"
     ]
    },
    {
     "name": "stderr",
     "output_type": "stream",
     "text": [
      "\r",
      " 30%|██▉       | 26614/89773 [01:03<03:08, 334.47it/s]"
     ]
    },
    {
     "name": "stderr",
     "output_type": "stream",
     "text": [
      "\r",
      " 30%|██▉       | 26672/89773 [01:03<02:44, 382.98it/s]"
     ]
    },
    {
     "name": "stderr",
     "output_type": "stream",
     "text": [
      "\r",
      " 30%|██▉       | 26731/89773 [01:03<02:27, 427.37it/s]"
     ]
    },
    {
     "name": "stderr",
     "output_type": "stream",
     "text": [
      "\r",
      " 30%|██▉       | 26790/89773 [01:03<02:15, 464.78it/s]"
     ]
    },
    {
     "name": "stderr",
     "output_type": "stream",
     "text": [
      "\r",
      " 30%|██▉       | 26849/89773 [01:03<02:07, 494.49it/s]"
     ]
    },
    {
     "name": "stderr",
     "output_type": "stream",
     "text": [
      "\r",
      " 30%|██▉       | 26908/89773 [01:03<02:01, 518.07it/s]"
     ]
    },
    {
     "name": "stderr",
     "output_type": "stream",
     "text": [
      "\r",
      " 30%|███       | 26965/89773 [01:03<01:58, 531.42it/s]"
     ]
    },
    {
     "name": "stderr",
     "output_type": "stream",
     "text": [
      "\r",
      " 30%|███       | 27023/89773 [01:04<01:55, 544.98it/s]"
     ]
    },
    {
     "name": "stderr",
     "output_type": "stream",
     "text": [
      "\r",
      " 30%|███       | 27080/89773 [01:04<03:01, 345.00it/s]"
     ]
    },
    {
     "name": "stderr",
     "output_type": "stream",
     "text": [
      "\r",
      " 30%|███       | 27139/89773 [01:04<02:39, 393.61it/s]"
     ]
    },
    {
     "name": "stderr",
     "output_type": "stream",
     "text": [
      "\r",
      " 30%|███       | 27197/89773 [01:04<02:23, 435.47it/s]"
     ]
    },
    {
     "name": "stderr",
     "output_type": "stream",
     "text": [
      "\r",
      " 30%|███       | 27256/89773 [01:04<02:12, 471.16it/s]"
     ]
    },
    {
     "name": "stderr",
     "output_type": "stream",
     "text": [
      "\r",
      " 30%|███       | 27315/89773 [01:04<02:05, 499.57it/s]"
     ]
    },
    {
     "name": "stderr",
     "output_type": "stream",
     "text": [
      "\r",
      " 30%|███       | 27374/89773 [01:04<01:59, 521.55it/s]"
     ]
    },
    {
     "name": "stderr",
     "output_type": "stream",
     "text": [
      "\r",
      " 31%|███       | 27433/89773 [01:04<01:55, 538.17it/s]"
     ]
    },
    {
     "name": "stderr",
     "output_type": "stream",
     "text": [
      "\r",
      " 31%|███       | 27492/89773 [01:05<01:53, 550.43it/s]"
     ]
    },
    {
     "name": "stderr",
     "output_type": "stream",
     "text": [
      "\r",
      " 31%|███       | 27550/89773 [01:05<02:59, 345.91it/s]"
     ]
    },
    {
     "name": "stderr",
     "output_type": "stream",
     "text": [
      "\r",
      " 31%|███       | 27608/89773 [01:05<02:38, 392.81it/s]"
     ]
    },
    {
     "name": "stderr",
     "output_type": "stream",
     "text": [
      "\r",
      " 31%|███       | 27667/89773 [01:05<02:22, 435.48it/s]"
     ]
    },
    {
     "name": "stderr",
     "output_type": "stream",
     "text": [
      "\r",
      " 31%|███       | 27726/89773 [01:05<02:11, 471.07it/s]"
     ]
    },
    {
     "name": "stderr",
     "output_type": "stream",
     "text": [
      "\r",
      " 31%|███       | 27784/89773 [01:05<02:04, 498.10it/s]"
     ]
    },
    {
     "name": "stderr",
     "output_type": "stream",
     "text": [
      "\r",
      " 31%|███       | 27843/89773 [01:05<01:58, 520.52it/s]"
     ]
    },
    {
     "name": "stderr",
     "output_type": "stream",
     "text": [
      "\r",
      " 31%|███       | 27902/89773 [01:06<01:55, 537.54it/s]"
     ]
    },
    {
     "name": "stderr",
     "output_type": "stream",
     "text": [
      "\r",
      " 31%|███       | 27960/89773 [01:06<01:52, 549.41it/s]"
     ]
    },
    {
     "name": "stderr",
     "output_type": "stream",
     "text": [
      "\r",
      " 31%|███       | 28017/89773 [01:06<03:00, 341.85it/s]"
     ]
    },
    {
     "name": "stderr",
     "output_type": "stream",
     "text": [
      "\r",
      " 31%|███▏      | 28074/89773 [01:06<02:39, 387.49it/s]"
     ]
    },
    {
     "name": "stderr",
     "output_type": "stream",
     "text": [
      "\r",
      " 31%|███▏      | 28130/89773 [01:06<02:25, 425.04it/s]"
     ]
    },
    {
     "name": "stderr",
     "output_type": "stream",
     "text": [
      "\r",
      " 31%|███▏      | 28188/89773 [01:06<02:13, 460.98it/s]"
     ]
    },
    {
     "name": "stderr",
     "output_type": "stream",
     "text": [
      "\r",
      " 31%|███▏      | 28246/89773 [01:06<02:05, 490.05it/s]"
     ]
    },
    {
     "name": "stderr",
     "output_type": "stream",
     "text": [
      "\r",
      " 32%|███▏      | 28304/89773 [01:06<01:59, 513.31it/s]"
     ]
    },
    {
     "name": "stderr",
     "output_type": "stream",
     "text": [
      "\r",
      " 32%|███▏      | 28362/89773 [01:07<01:55, 529.97it/s]"
     ]
    },
    {
     "name": "stderr",
     "output_type": "stream",
     "text": [
      "\r",
      " 32%|███▏      | 28418/89773 [01:07<01:54, 535.70it/s]"
     ]
    },
    {
     "name": "stderr",
     "output_type": "stream",
     "text": [
      "\r",
      " 32%|███▏      | 28474/89773 [01:07<03:03, 334.45it/s]"
     ]
    },
    {
     "name": "stderr",
     "output_type": "stream",
     "text": [
      "\r",
      " 32%|███▏      | 28533/89773 [01:07<02:39, 384.56it/s]"
     ]
    },
    {
     "name": "stderr",
     "output_type": "stream",
     "text": [
      "\r",
      " 32%|███▏      | 28592/89773 [01:07<02:22, 428.95it/s]"
     ]
    },
    {
     "name": "stderr",
     "output_type": "stream",
     "text": [
      "\r",
      " 32%|███▏      | 28651/89773 [01:07<02:11, 466.20it/s]"
     ]
    },
    {
     "name": "stderr",
     "output_type": "stream",
     "text": [
      "\r",
      " 32%|███▏      | 28710/89773 [01:07<02:03, 495.91it/s]"
     ]
    },
    {
     "name": "stderr",
     "output_type": "stream",
     "text": [
      "\r",
      " 32%|███▏      | 28769/89773 [01:07<01:57, 519.18it/s]"
     ]
    },
    {
     "name": "stderr",
     "output_type": "stream",
     "text": [
      "\r",
      " 32%|███▏      | 28828/89773 [01:08<01:53, 536.32it/s]"
     ]
    },
    {
     "name": "stderr",
     "output_type": "stream",
     "text": [
      "\r",
      " 32%|███▏      | 28886/89773 [01:08<01:51, 547.84it/s]"
     ]
    },
    {
     "name": "stderr",
     "output_type": "stream",
     "text": [
      "\r",
      " 32%|███▏      | 28943/89773 [01:08<02:59, 339.08it/s]"
     ]
    },
    {
     "name": "stderr",
     "output_type": "stream",
     "text": [
      "\r",
      " 32%|███▏      | 29001/89773 [01:08<02:36, 387.18it/s]"
     ]
    },
    {
     "name": "stderr",
     "output_type": "stream",
     "text": [
      "\r",
      " 32%|███▏      | 29060/89773 [01:08<02:20, 430.76it/s]"
     ]
    },
    {
     "name": "stderr",
     "output_type": "stream",
     "text": [
      "\r",
      " 32%|███▏      | 29119/89773 [01:08<02:09, 467.31it/s]"
     ]
    },
    {
     "name": "stderr",
     "output_type": "stream",
     "text": [
      "\r",
      " 33%|███▎      | 29178/89773 [01:08<02:01, 496.88it/s]"
     ]
    },
    {
     "name": "stderr",
     "output_type": "stream",
     "text": [
      "\r",
      " 33%|███▎      | 29237/89773 [01:08<01:56, 519.89it/s]"
     ]
    },
    {
     "name": "stderr",
     "output_type": "stream",
     "text": [
      "\r",
      " 33%|███▎      | 29295/89773 [01:09<01:52, 536.37it/s]"
     ]
    },
    {
     "name": "stderr",
     "output_type": "stream",
     "text": [
      "\r",
      " 33%|███▎      | 29352/89773 [01:09<03:00, 334.14it/s]"
     ]
    },
    {
     "name": "stderr",
     "output_type": "stream",
     "text": [
      "\r",
      " 33%|███▎      | 29410/89773 [01:09<02:37, 382.74it/s]"
     ]
    },
    {
     "name": "stderr",
     "output_type": "stream",
     "text": [
      "\r",
      " 33%|███▎      | 29469/89773 [01:09<02:21, 426.96it/s]"
     ]
    },
    {
     "name": "stderr",
     "output_type": "stream",
     "text": [
      "\r",
      " 33%|███▎      | 29528/89773 [01:09<02:09, 464.19it/s]"
     ]
    },
    {
     "name": "stderr",
     "output_type": "stream",
     "text": [
      "\r",
      " 33%|███▎      | 29587/89773 [01:09<02:01, 494.53it/s]"
     ]
    },
    {
     "name": "stderr",
     "output_type": "stream",
     "text": [
      "\r",
      " 33%|███▎      | 29645/89773 [01:09<01:56, 515.29it/s]"
     ]
    },
    {
     "name": "stderr",
     "output_type": "stream",
     "text": [
      "\r",
      " 33%|███▎      | 29702/89773 [01:10<01:53, 528.57it/s]"
     ]
    },
    {
     "name": "stderr",
     "output_type": "stream",
     "text": [
      "\r",
      " 33%|███▎      | 29761/89773 [01:10<01:50, 543.59it/s]"
     ]
    },
    {
     "name": "stderr",
     "output_type": "stream",
     "text": [
      "\r",
      " 33%|███▎      | 29818/89773 [01:10<03:06, 321.92it/s]"
     ]
    },
    {
     "name": "stderr",
     "output_type": "stream",
     "text": [
      "\r",
      " 33%|███▎      | 29876/89773 [01:10<02:41, 371.13it/s]"
     ]
    },
    {
     "name": "stderr",
     "output_type": "stream",
     "text": [
      "\r",
      " 33%|███▎      | 29934/89773 [01:10<02:23, 415.96it/s]"
     ]
    },
    {
     "name": "stderr",
     "output_type": "stream",
     "text": [
      "\r",
      " 33%|███▎      | 29993/89773 [01:10<02:11, 455.39it/s]"
     ]
    },
    {
     "name": "stderr",
     "output_type": "stream",
     "text": [
      "\r",
      " 33%|███▎      | 30052/89773 [01:10<02:02, 487.84it/s]"
     ]
    },
    {
     "name": "stderr",
     "output_type": "stream",
     "text": [
      "\r",
      " 34%|███▎      | 30110/89773 [01:10<01:56, 511.81it/s]"
     ]
    },
    {
     "name": "stderr",
     "output_type": "stream",
     "text": [
      "\r",
      " 34%|███▎      | 30169/89773 [01:11<01:52, 530.88it/s]"
     ]
    },
    {
     "name": "stderr",
     "output_type": "stream",
     "text": [
      "\r",
      " 34%|███▎      | 30228/89773 [01:11<01:49, 545.04it/s]"
     ]
    },
    {
     "name": "stderr",
     "output_type": "stream",
     "text": [
      "\r",
      " 34%|███▎      | 30285/89773 [01:11<02:57, 334.64it/s]"
     ]
    },
    {
     "name": "stderr",
     "output_type": "stream",
     "text": [
      "\r",
      " 34%|███▍      | 30343/89773 [01:11<02:35, 383.15it/s]"
     ]
    },
    {
     "name": "stderr",
     "output_type": "stream",
     "text": [
      "\r",
      " 34%|███▍      | 30401/89773 [01:11<02:19, 426.45it/s]"
     ]
    },
    {
     "name": "stderr",
     "output_type": "stream",
     "text": [
      "\r",
      " 34%|███▍      | 30460/89773 [01:11<02:07, 463.98it/s]"
     ]
    },
    {
     "name": "stderr",
     "output_type": "stream",
     "text": [
      "\r",
      " 34%|███▍      | 30519/89773 [01:11<01:59, 494.10it/s]"
     ]
    },
    {
     "name": "stderr",
     "output_type": "stream",
     "text": [
      "\r",
      " 34%|███▍      | 30578/89773 [01:12<01:54, 517.23it/s]"
     ]
    },
    {
     "name": "stderr",
     "output_type": "stream",
     "text": [
      "\r",
      " 34%|███▍      | 30637/89773 [01:12<01:50, 534.91it/s]"
     ]
    },
    {
     "name": "stderr",
     "output_type": "stream",
     "text": [
      "\r",
      " 34%|███▍      | 30696/89773 [01:12<01:47, 548.15it/s]"
     ]
    },
    {
     "name": "stderr",
     "output_type": "stream",
     "text": [
      "\r",
      " 34%|███▍      | 30754/89773 [01:12<02:56, 334.06it/s]"
     ]
    },
    {
     "name": "stderr",
     "output_type": "stream",
     "text": [
      "\r",
      " 34%|███▍      | 30813/89773 [01:12<02:33, 383.15it/s]"
     ]
    },
    {
     "name": "stderr",
     "output_type": "stream",
     "text": [
      "\r",
      " 34%|███▍      | 30872/89773 [01:12<02:17, 426.85it/s]"
     ]
    },
    {
     "name": "stderr",
     "output_type": "stream",
     "text": [
      "\r",
      " 34%|███▍      | 30931/89773 [01:12<02:06, 463.97it/s]"
     ]
    },
    {
     "name": "stderr",
     "output_type": "stream",
     "text": [
      "\r",
      " 35%|███▍      | 30990/89773 [01:12<01:59, 493.85it/s]"
     ]
    },
    {
     "name": "stderr",
     "output_type": "stream",
     "text": [
      "\r",
      " 35%|███▍      | 31049/89773 [01:13<01:53, 517.20it/s]"
     ]
    },
    {
     "name": "stderr",
     "output_type": "stream",
     "text": [
      "\r",
      " 35%|███▍      | 31108/89773 [01:13<01:49, 534.88it/s]"
     ]
    },
    {
     "name": "stderr",
     "output_type": "stream",
     "text": [
      "\r",
      " 35%|███▍      | 31167/89773 [01:13<01:46, 548.15it/s]"
     ]
    },
    {
     "name": "stderr",
     "output_type": "stream",
     "text": [
      "\r",
      " 35%|███▍      | 31225/89773 [01:13<02:56, 331.87it/s]"
     ]
    },
    {
     "name": "stderr",
     "output_type": "stream",
     "text": [
      "\r",
      " 35%|███▍      | 31284/89773 [01:13<02:33, 381.22it/s]"
     ]
    },
    {
     "name": "stderr",
     "output_type": "stream",
     "text": [
      "\r",
      " 35%|███▍      | 31342/89773 [01:13<02:17, 424.42it/s]"
     ]
    },
    {
     "name": "stderr",
     "output_type": "stream",
     "text": [
      "\r",
      " 35%|███▍      | 31400/89773 [01:13<02:06, 460.75it/s]"
     ]
    },
    {
     "name": "stderr",
     "output_type": "stream",
     "text": [
      "\r",
      " 35%|███▌      | 31459/89773 [01:13<01:58, 492.12it/s]"
     ]
    },
    {
     "name": "stderr",
     "output_type": "stream",
     "text": [
      "\r",
      " 35%|███▌      | 31518/89773 [01:14<01:52, 516.40it/s]"
     ]
    },
    {
     "name": "stderr",
     "output_type": "stream",
     "text": [
      "\r",
      " 35%|███▌      | 31576/89773 [01:14<01:49, 533.03it/s]"
     ]
    },
    {
     "name": "stderr",
     "output_type": "stream",
     "text": [
      "\r",
      " 35%|███▌      | 31634/89773 [01:14<01:46, 545.91it/s]"
     ]
    },
    {
     "name": "stderr",
     "output_type": "stream",
     "text": [
      "\r",
      " 35%|███▌      | 31691/89773 [01:14<02:57, 327.76it/s]"
     ]
    },
    {
     "name": "stderr",
     "output_type": "stream",
     "text": [
      "\r",
      " 35%|███▌      | 31750/89773 [01:14<02:33, 378.10it/s]"
     ]
    },
    {
     "name": "stderr",
     "output_type": "stream",
     "text": [
      "\r",
      " 35%|███▌      | 31809/89773 [01:14<02:16, 423.27it/s]"
     ]
    },
    {
     "name": "stderr",
     "output_type": "stream",
     "text": [
      "\r",
      " 35%|███▌      | 31868/89773 [01:14<02:05, 460.90it/s]"
     ]
    },
    {
     "name": "stderr",
     "output_type": "stream",
     "text": [
      "\r",
      " 36%|███▌      | 31927/89773 [01:15<01:57, 491.90it/s]"
     ]
    },
    {
     "name": "stderr",
     "output_type": "stream",
     "text": [
      "\r",
      " 36%|███▌      | 31986/89773 [01:15<01:51, 516.24it/s]"
     ]
    },
    {
     "name": "stderr",
     "output_type": "stream",
     "text": [
      "\r",
      " 36%|███▌      | 32045/89773 [01:15<01:48, 534.08it/s]"
     ]
    },
    {
     "name": "stderr",
     "output_type": "stream",
     "text": [
      "\r",
      " 36%|███▌      | 32104/89773 [01:15<01:45, 547.91it/s]"
     ]
    },
    {
     "name": "stderr",
     "output_type": "stream",
     "text": [
      "\r",
      " 36%|███▌      | 32162/89773 [01:15<02:55, 328.36it/s]"
     ]
    },
    {
     "name": "stderr",
     "output_type": "stream",
     "text": [
      "\r",
      " 36%|███▌      | 32221/89773 [01:15<02:32, 377.94it/s]"
     ]
    },
    {
     "name": "stderr",
     "output_type": "stream",
     "text": [
      "\r",
      " 36%|███▌      | 32280/89773 [01:15<02:16, 422.67it/s]"
     ]
    },
    {
     "name": "stderr",
     "output_type": "stream",
     "text": [
      "\r",
      " 36%|███▌      | 32339/89773 [01:15<02:04, 460.53it/s]"
     ]
    },
    {
     "name": "stderr",
     "output_type": "stream",
     "text": [
      "\r",
      " 36%|███▌      | 32398/89773 [01:16<01:56, 491.44it/s]"
     ]
    },
    {
     "name": "stderr",
     "output_type": "stream",
     "text": [
      "\r",
      " 36%|███▌      | 32457/89773 [01:16<01:51, 515.61it/s]"
     ]
    },
    {
     "name": "stderr",
     "output_type": "stream",
     "text": [
      "\r",
      " 36%|███▌      | 32516/89773 [01:16<01:47, 533.47it/s]"
     ]
    },
    {
     "name": "stderr",
     "output_type": "stream",
     "text": [
      "\r",
      " 36%|███▋      | 32575/89773 [01:16<01:44, 546.84it/s]"
     ]
    },
    {
     "name": "stderr",
     "output_type": "stream",
     "text": [
      "\r",
      " 36%|███▋      | 32633/89773 [01:16<02:57, 322.32it/s]"
     ]
    },
    {
     "name": "stderr",
     "output_type": "stream",
     "text": [
      "\r",
      " 36%|███▋      | 32691/89773 [01:16<02:33, 371.16it/s]"
     ]
    },
    {
     "name": "stderr",
     "output_type": "stream",
     "text": [
      "\r",
      " 36%|███▋      | 32749/89773 [01:16<02:17, 415.46it/s]"
     ]
    },
    {
     "name": "stderr",
     "output_type": "stream",
     "text": [
      "\r",
      " 37%|███▋      | 32808/89773 [01:17<02:05, 455.28it/s]"
     ]
    },
    {
     "name": "stderr",
     "output_type": "stream",
     "text": [
      "\r",
      " 37%|███▋      | 32867/89773 [01:17<01:56, 487.31it/s]"
     ]
    },
    {
     "name": "stderr",
     "output_type": "stream",
     "text": [
      "\r",
      " 37%|███▋      | 32926/89773 [01:17<01:50, 512.66it/s]"
     ]
    },
    {
     "name": "stderr",
     "output_type": "stream",
     "text": [
      "\r",
      " 37%|███▋      | 32985/89773 [01:17<01:46, 531.79it/s]"
     ]
    },
    {
     "name": "stderr",
     "output_type": "stream",
     "text": [
      "\r",
      " 37%|███▋      | 33044/89773 [01:17<01:43, 545.88it/s]"
     ]
    },
    {
     "name": "stderr",
     "output_type": "stream",
     "text": [
      "\r",
      " 37%|███▋      | 33102/89773 [01:17<02:54, 324.12it/s]"
     ]
    },
    {
     "name": "stderr",
     "output_type": "stream",
     "text": [
      "\r",
      " 37%|███▋      | 33161/89773 [01:17<02:31, 374.33it/s]"
     ]
    },
    {
     "name": "stderr",
     "output_type": "stream",
     "text": [
      "\r",
      " 37%|███▋      | 33220/89773 [01:18<02:14, 419.41it/s]"
     ]
    },
    {
     "name": "stderr",
     "output_type": "stream",
     "text": [
      "\r",
      " 37%|███▋      | 33279/89773 [01:18<02:03, 457.85it/s]"
     ]
    },
    {
     "name": "stderr",
     "output_type": "stream",
     "text": [
      "\r",
      " 37%|███▋      | 33337/89773 [01:18<01:55, 487.58it/s]"
     ]
    },
    {
     "name": "stderr",
     "output_type": "stream",
     "text": [
      "\r",
      " 37%|███▋      | 33396/89773 [01:18<01:49, 512.91it/s]"
     ]
    },
    {
     "name": "stderr",
     "output_type": "stream",
     "text": [
      "\r",
      " 37%|███▋      | 33454/89773 [01:18<01:46, 531.03it/s]"
     ]
    },
    {
     "name": "stderr",
     "output_type": "stream",
     "text": [
      "\r",
      " 37%|███▋      | 33512/89773 [01:18<01:43, 543.99it/s]"
     ]
    },
    {
     "name": "stderr",
     "output_type": "stream",
     "text": [
      "\r",
      " 37%|███▋      | 33569/89773 [01:18<03:02, 307.15it/s]"
     ]
    },
    {
     "name": "stderr",
     "output_type": "stream",
     "text": [
      "\r",
      " 37%|███▋      | 33627/89773 [01:19<02:37, 357.33it/s]"
     ]
    },
    {
     "name": "stderr",
     "output_type": "stream",
     "text": [
      "\r",
      " 38%|███▊      | 33686/89773 [01:19<02:18, 404.58it/s]"
     ]
    },
    {
     "name": "stderr",
     "output_type": "stream",
     "text": [
      "\r",
      " 38%|███▊      | 33745/89773 [01:19<02:05, 445.52it/s]"
     ]
    },
    {
     "name": "stderr",
     "output_type": "stream",
     "text": [
      "\r",
      " 38%|███▊      | 33803/89773 [01:19<01:57, 477.71it/s]"
     ]
    },
    {
     "name": "stderr",
     "output_type": "stream",
     "text": [
      "\r",
      " 38%|███▊      | 33861/89773 [01:19<01:50, 504.01it/s]"
     ]
    },
    {
     "name": "stderr",
     "output_type": "stream",
     "text": [
      "\r",
      " 38%|███▊      | 33920/89773 [01:19<01:46, 525.63it/s]"
     ]
    },
    {
     "name": "stderr",
     "output_type": "stream",
     "text": [
      "\r",
      " 38%|███▊      | 33979/89773 [01:19<01:42, 541.78it/s]"
     ]
    },
    {
     "name": "stderr",
     "output_type": "stream",
     "text": [
      "\r",
      " 38%|███▊      | 34036/89773 [01:19<03:01, 306.36it/s]"
     ]
    },
    {
     "name": "stderr",
     "output_type": "stream",
     "text": [
      "\r",
      " 38%|███▊      | 34095/89773 [01:20<02:35, 357.63it/s]"
     ]
    },
    {
     "name": "stderr",
     "output_type": "stream",
     "text": [
      "\r",
      " 38%|███▊      | 34153/89773 [01:20<02:17, 403.32it/s]"
     ]
    },
    {
     "name": "stderr",
     "output_type": "stream",
     "text": [
      "\r",
      " 38%|███▊      | 34211/89773 [01:20<02:05, 443.36it/s]"
     ]
    },
    {
     "name": "stderr",
     "output_type": "stream",
     "text": [
      "\r",
      " 38%|███▊      | 34270/89773 [01:20<01:56, 478.04it/s]"
     ]
    },
    {
     "name": "stderr",
     "output_type": "stream",
     "text": [
      "\r",
      " 38%|███▊      | 34329/89773 [01:20<01:49, 505.08it/s]"
     ]
    },
    {
     "name": "stderr",
     "output_type": "stream",
     "text": [
      "\r",
      " 38%|███▊      | 34388/89773 [01:20<01:45, 526.21it/s]"
     ]
    },
    {
     "name": "stderr",
     "output_type": "stream",
     "text": [
      "\r",
      " 38%|███▊      | 34446/89773 [01:20<01:42, 541.09it/s]"
     ]
    },
    {
     "name": "stderr",
     "output_type": "stream",
     "text": [
      "\r",
      " 38%|███▊      | 34503/89773 [01:21<03:02, 303.02it/s]"
     ]
    },
    {
     "name": "stderr",
     "output_type": "stream",
     "text": [
      "\r",
      " 38%|███▊      | 34548/89773 [01:21<02:48, 327.59it/s]"
     ]
    },
    {
     "name": "stderr",
     "output_type": "stream",
     "text": [
      "\r",
      " 39%|███▊      | 34593/89773 [01:21<02:37, 350.27it/s]"
     ]
    },
    {
     "name": "stderr",
     "output_type": "stream",
     "text": [
      "\r",
      " 39%|███▊      | 34637/89773 [01:21<02:29, 369.54it/s]"
     ]
    },
    {
     "name": "stderr",
     "output_type": "stream",
     "text": [
      "\r",
      " 39%|███▊      | 34681/89773 [01:21<02:22, 385.45it/s]"
     ]
    },
    {
     "name": "stderr",
     "output_type": "stream",
     "text": [
      "\r",
      " 39%|███▊      | 34725/89773 [01:21<02:18, 396.90it/s]"
     ]
    },
    {
     "name": "stderr",
     "output_type": "stream",
     "text": [
      "\r",
      " 39%|███▊      | 34769/89773 [01:21<02:15, 406.75it/s]"
     ]
    },
    {
     "name": "stderr",
     "output_type": "stream",
     "text": [
      "\r",
      " 39%|███▉      | 34813/89773 [01:21<02:12, 414.09it/s]"
     ]
    },
    {
     "name": "stderr",
     "output_type": "stream",
     "text": [
      "\r",
      " 39%|███▉      | 34857/89773 [01:21<02:10, 420.49it/s]"
     ]
    },
    {
     "name": "stderr",
     "output_type": "stream",
     "text": [
      "\r",
      " 39%|███▉      | 34901/89773 [01:21<02:09, 424.15it/s]"
     ]
    },
    {
     "name": "stderr",
     "output_type": "stream",
     "text": [
      "\r",
      " 39%|███▉      | 34945/89773 [01:22<03:52, 236.24it/s]"
     ]
    },
    {
     "name": "stderr",
     "output_type": "stream",
     "text": [
      "\r",
      " 39%|███▉      | 34989/89773 [01:22<03:20, 273.19it/s]"
     ]
    },
    {
     "name": "stderr",
     "output_type": "stream",
     "text": [
      "\r",
      " 39%|███▉      | 35033/89773 [01:22<02:58, 307.06it/s]"
     ]
    },
    {
     "name": "stderr",
     "output_type": "stream",
     "text": [
      "\r",
      " 39%|███▉      | 35077/89773 [01:22<02:42, 336.47it/s]"
     ]
    },
    {
     "name": "stderr",
     "output_type": "stream",
     "text": [
      "\r",
      " 39%|███▉      | 35121/89773 [01:22<02:31, 360.95it/s]"
     ]
    },
    {
     "name": "stderr",
     "output_type": "stream",
     "text": [
      "\r",
      " 39%|███▉      | 35164/89773 [01:22<02:24, 378.83it/s]"
     ]
    },
    {
     "name": "stderr",
     "output_type": "stream",
     "text": [
      "\r",
      " 39%|███▉      | 35208/89773 [01:22<02:18, 393.02it/s]"
     ]
    },
    {
     "name": "stderr",
     "output_type": "stream",
     "text": [
      "\r",
      " 39%|███▉      | 35252/89773 [01:23<02:14, 404.14it/s]"
     ]
    },
    {
     "name": "stderr",
     "output_type": "stream",
     "text": [
      "\r",
      " 39%|███▉      | 35296/89773 [01:23<02:11, 412.73it/s]"
     ]
    },
    {
     "name": "stderr",
     "output_type": "stream",
     "text": [
      "\r",
      " 39%|███▉      | 35340/89773 [01:23<02:09, 419.22it/s]"
     ]
    },
    {
     "name": "stderr",
     "output_type": "stream",
     "text": [
      "\r",
      " 39%|███▉      | 35384/89773 [01:23<02:08, 423.55it/s]"
     ]
    },
    {
     "name": "stderr",
     "output_type": "stream",
     "text": [
      "\r",
      " 39%|███▉      | 35428/89773 [01:23<03:38, 248.35it/s]"
     ]
    },
    {
     "name": "stderr",
     "output_type": "stream",
     "text": [
      "\r",
      " 40%|███▉      | 35486/89773 [01:23<02:53, 312.33it/s]"
     ]
    },
    {
     "name": "stderr",
     "output_type": "stream",
     "text": [
      "\r",
      " 40%|███▉      | 35544/89773 [01:23<02:26, 369.37it/s]"
     ]
    },
    {
     "name": "stderr",
     "output_type": "stream",
     "text": [
      "\r",
      " 40%|███▉      | 35602/89773 [01:24<02:09, 418.65it/s]"
     ]
    },
    {
     "name": "stderr",
     "output_type": "stream",
     "text": [
      "\r",
      " 40%|███▉      | 35660/89773 [01:24<01:58, 458.35it/s]"
     ]
    },
    {
     "name": "stderr",
     "output_type": "stream",
     "text": [
      "\r",
      " 40%|███▉      | 35718/89773 [01:24<01:50, 490.47it/s]"
     ]
    },
    {
     "name": "stderr",
     "output_type": "stream",
     "text": [
      "\r",
      " 40%|███▉      | 35776/89773 [01:24<01:44, 514.49it/s]"
     ]
    },
    {
     "name": "stderr",
     "output_type": "stream",
     "text": [
      "\r",
      " 40%|███▉      | 35834/89773 [01:24<01:41, 532.63it/s]"
     ]
    },
    {
     "name": "stderr",
     "output_type": "stream",
     "text": [
      "\r",
      " 40%|███▉      | 35890/89773 [01:24<02:54, 308.75it/s]"
     ]
    },
    {
     "name": "stderr",
     "output_type": "stream",
     "text": [
      "\r",
      " 40%|████      | 35948/89773 [01:24<02:29, 360.15it/s]"
     ]
    },
    {
     "name": "stderr",
     "output_type": "stream",
     "text": [
      "\r",
      " 40%|████      | 36006/89773 [01:25<02:12, 406.31it/s]"
     ]
    },
    {
     "name": "stderr",
     "output_type": "stream",
     "text": [
      "\r",
      " 40%|████      | 36064/89773 [01:25<02:00, 446.70it/s]"
     ]
    },
    {
     "name": "stderr",
     "output_type": "stream",
     "text": [
      "\r",
      " 40%|████      | 36123/89773 [01:25<01:51, 480.50it/s]"
     ]
    },
    {
     "name": "stderr",
     "output_type": "stream",
     "text": [
      "\r",
      " 40%|████      | 36182/89773 [01:25<01:45, 507.13it/s]"
     ]
    },
    {
     "name": "stderr",
     "output_type": "stream",
     "text": [
      "\r",
      " 40%|████      | 36240/89773 [01:25<01:41, 526.83it/s]"
     ]
    },
    {
     "name": "stderr",
     "output_type": "stream",
     "text": [
      "\r",
      " 40%|████      | 36298/89773 [01:25<01:38, 541.19it/s]"
     ]
    },
    {
     "name": "stderr",
     "output_type": "stream",
     "text": [
      "\r",
      " 40%|████      | 36355/89773 [01:25<02:54, 305.70it/s]"
     ]
    },
    {
     "name": "stderr",
     "output_type": "stream",
     "text": [
      "\r",
      " 41%|████      | 36413/89773 [01:25<02:29, 356.23it/s]"
     ]
    },
    {
     "name": "stderr",
     "output_type": "stream",
     "text": [
      "\r",
      " 41%|████      | 36471/89773 [01:26<02:12, 402.61it/s]"
     ]
    },
    {
     "name": "stderr",
     "output_type": "stream",
     "text": [
      "\r",
      " 41%|████      | 36529/89773 [01:26<02:00, 442.30it/s]"
     ]
    },
    {
     "name": "stderr",
     "output_type": "stream",
     "text": [
      "\r",
      " 41%|████      | 36587/89773 [01:26<01:51, 474.91it/s]"
     ]
    },
    {
     "name": "stderr",
     "output_type": "stream",
     "text": [
      "\r",
      " 41%|████      | 36645/89773 [01:26<01:45, 501.69it/s]"
     ]
    },
    {
     "name": "stderr",
     "output_type": "stream",
     "text": [
      "\r",
      " 41%|████      | 36703/89773 [01:26<01:41, 521.91it/s]"
     ]
    },
    {
     "name": "stderr",
     "output_type": "stream",
     "text": [
      "\r",
      " 41%|████      | 36761/89773 [01:26<01:38, 537.85it/s]"
     ]
    },
    {
     "name": "stderr",
     "output_type": "stream",
     "text": [
      "\r",
      " 41%|████      | 36818/89773 [01:26<02:50, 310.43it/s]"
     ]
    },
    {
     "name": "stderr",
     "output_type": "stream",
     "text": [
      "\r",
      " 41%|████      | 36876/89773 [01:27<02:26, 360.40it/s]"
     ]
    },
    {
     "name": "stderr",
     "output_type": "stream",
     "text": [
      "\r",
      " 41%|████      | 36934/89773 [01:27<02:10, 406.35it/s]"
     ]
    },
    {
     "name": "stderr",
     "output_type": "stream",
     "text": [
      "\r",
      " 41%|████      | 36992/89773 [01:27<01:58, 445.90it/s]"
     ]
    },
    {
     "name": "stderr",
     "output_type": "stream",
     "text": [
      "\r",
      " 41%|████▏     | 37050/89773 [01:27<01:50, 479.07it/s]"
     ]
    },
    {
     "name": "stderr",
     "output_type": "stream",
     "text": [
      "\r",
      " 41%|████▏     | 37108/89773 [01:27<01:44, 504.77it/s]"
     ]
    },
    {
     "name": "stderr",
     "output_type": "stream",
     "text": [
      "\r",
      " 41%|████▏     | 37166/89773 [01:27<01:40, 524.49it/s]"
     ]
    },
    {
     "name": "stderr",
     "output_type": "stream",
     "text": [
      "\r",
      " 41%|████▏     | 37225/89773 [01:27<01:37, 540.40it/s]"
     ]
    },
    {
     "name": "stderr",
     "output_type": "stream",
     "text": [
      "\r",
      " 42%|████▏     | 37282/89773 [01:28<02:51, 306.00it/s]"
     ]
    },
    {
     "name": "stderr",
     "output_type": "stream",
     "text": [
      "\r",
      " 42%|████▏     | 37327/89773 [01:28<02:38, 330.96it/s]"
     ]
    },
    {
     "name": "stderr",
     "output_type": "stream",
     "text": [
      "\r",
      " 42%|████▏     | 37372/89773 [01:28<02:28, 352.65it/s]"
     ]
    },
    {
     "name": "stderr",
     "output_type": "stream",
     "text": [
      "\r",
      " 42%|████▏     | 37416/89773 [01:28<02:20, 371.87it/s]"
     ]
    },
    {
     "name": "stderr",
     "output_type": "stream",
     "text": [
      "\r",
      " 42%|████▏     | 37460/89773 [01:28<02:14, 387.69it/s]"
     ]
    },
    {
     "name": "stderr",
     "output_type": "stream",
     "text": [
      "\r",
      " 42%|████▏     | 37504/89773 [01:28<02:10, 400.70it/s]"
     ]
    },
    {
     "name": "stderr",
     "output_type": "stream",
     "text": [
      "\r",
      " 42%|████▏     | 37548/89773 [01:28<02:07, 411.03it/s]"
     ]
    },
    {
     "name": "stderr",
     "output_type": "stream",
     "text": [
      "\r",
      " 42%|████▏     | 37592/89773 [01:28<02:04, 418.58it/s]"
     ]
    },
    {
     "name": "stderr",
     "output_type": "stream",
     "text": [
      "\r",
      " 42%|████▏     | 37636/89773 [01:28<02:02, 423.90it/s]"
     ]
    },
    {
     "name": "stderr",
     "output_type": "stream",
     "text": [
      "\r",
      " 42%|████▏     | 37680/89773 [01:28<02:01, 427.47it/s]"
     ]
    },
    {
     "name": "stderr",
     "output_type": "stream",
     "text": [
      "\r",
      " 42%|████▏     | 37724/89773 [01:29<02:00, 430.21it/s]"
     ]
    },
    {
     "name": "stderr",
     "output_type": "stream",
     "text": [
      "\r",
      " 42%|████▏     | 37768/89773 [01:29<03:42, 233.27it/s]"
     ]
    },
    {
     "name": "stderr",
     "output_type": "stream",
     "text": [
      "\r",
      " 42%|████▏     | 37812/89773 [01:29<03:11, 271.06it/s]"
     ]
    },
    {
     "name": "stderr",
     "output_type": "stream",
     "text": [
      "\r",
      " 42%|████▏     | 37856/89773 [01:29<02:49, 305.78it/s]"
     ]
    },
    {
     "name": "stderr",
     "output_type": "stream",
     "text": [
      "\r",
      " 42%|████▏     | 37907/89773 [01:29<02:27, 351.27it/s]"
     ]
    },
    {
     "name": "stderr",
     "output_type": "stream",
     "text": [
      "\r",
      " 42%|████▏     | 37965/89773 [01:29<02:07, 407.30it/s]"
     ]
    },
    {
     "name": "stderr",
     "output_type": "stream",
     "text": [
      "\r",
      " 42%|████▏     | 38023/89773 [01:29<01:54, 451.92it/s]"
     ]
    },
    {
     "name": "stderr",
     "output_type": "stream",
     "text": [
      "\r",
      " 42%|████▏     | 38082/89773 [01:30<01:46, 487.35it/s]"
     ]
    },
    {
     "name": "stderr",
     "output_type": "stream",
     "text": [
      "\r",
      " 42%|████▏     | 38140/89773 [01:30<01:40, 512.59it/s]"
     ]
    },
    {
     "name": "stderr",
     "output_type": "stream",
     "text": [
      "\r",
      " 43%|████▎     | 38198/89773 [01:30<01:37, 530.26it/s]"
     ]
    },
    {
     "name": "stderr",
     "output_type": "stream",
     "text": [
      "\r",
      " 43%|████▎     | 38254/89773 [01:30<02:58, 288.21it/s]"
     ]
    },
    {
     "name": "stderr",
     "output_type": "stream",
     "text": [
      "\r",
      " 43%|████▎     | 38309/89773 [01:30<02:33, 334.44it/s]"
     ]
    },
    {
     "name": "stderr",
     "output_type": "stream",
     "text": [
      "\r",
      " 43%|████▎     | 38356/89773 [01:30<02:36, 329.23it/s]"
     ]
    },
    {
     "name": "stderr",
     "output_type": "stream",
     "text": [
      "\r",
      " 43%|████▎     | 38400/89773 [01:31<02:26, 351.31it/s]"
     ]
    },
    {
     "name": "stderr",
     "output_type": "stream",
     "text": [
      "\r",
      " 43%|████▎     | 38444/89773 [01:31<02:18, 370.92it/s]"
     ]
    },
    {
     "name": "stderr",
     "output_type": "stream",
     "text": [
      "\r",
      " 43%|████▎     | 38488/89773 [01:31<02:12, 386.89it/s]"
     ]
    },
    {
     "name": "stderr",
     "output_type": "stream",
     "text": [
      "\r",
      " 43%|████▎     | 38532/89773 [01:31<02:08, 398.86it/s]"
     ]
    },
    {
     "name": "stderr",
     "output_type": "stream",
     "text": [
      "\r",
      " 43%|████▎     | 38584/89773 [01:31<01:58, 431.07it/s]"
     ]
    },
    {
     "name": "stderr",
     "output_type": "stream",
     "text": [
      "\r",
      " 43%|████▎     | 38635/89773 [01:31<01:52, 452.61it/s]"
     ]
    },
    {
     "name": "stderr",
     "output_type": "stream",
     "text": [
      "\r",
      " 43%|████▎     | 38687/89773 [01:31<01:48, 471.05it/s]"
     ]
    },
    {
     "name": "stderr",
     "output_type": "stream",
     "text": [
      "\r",
      " 43%|████▎     | 38736/89773 [01:32<03:41, 230.88it/s]"
     ]
    },
    {
     "name": "stderr",
     "output_type": "stream",
     "text": [
      "\r",
      " 43%|████▎     | 38780/89773 [01:32<03:12, 264.69it/s]"
     ]
    },
    {
     "name": "stderr",
     "output_type": "stream",
     "text": [
      "\r",
      " 43%|████▎     | 38823/89773 [01:32<02:52, 295.73it/s]"
     ]
    },
    {
     "name": "stderr",
     "output_type": "stream",
     "text": [
      "\r",
      " 43%|████▎     | 38866/89773 [01:32<02:37, 323.82it/s]"
     ]
    },
    {
     "name": "stderr",
     "output_type": "stream",
     "text": [
      "\r",
      " 43%|████▎     | 38907/89773 [01:32<02:53, 293.37it/s]"
     ]
    },
    {
     "name": "stderr",
     "output_type": "stream",
     "text": [
      "\r",
      " 43%|████▎     | 38943/89773 [01:32<03:50, 220.09it/s]"
     ]
    },
    {
     "name": "stderr",
     "output_type": "stream",
     "text": [
      "\r",
      " 43%|████▎     | 38972/89773 [01:33<04:10, 202.92it/s]"
     ]
    },
    {
     "name": "stderr",
     "output_type": "stream",
     "text": [
      "\r",
      " 43%|████▎     | 39001/89773 [01:33<03:52, 218.41it/s]"
     ]
    },
    {
     "name": "stderr",
     "output_type": "stream",
     "text": [
      "\r",
      " 43%|████▎     | 39044/89773 [01:33<03:13, 262.62it/s]"
     ]
    },
    {
     "name": "stderr",
     "output_type": "stream",
     "text": [
      "\r",
      " 44%|████▎     | 39076/89773 [01:33<03:08, 268.34it/s]"
     ]
    },
    {
     "name": "stderr",
     "output_type": "stream",
     "text": [
      "\r",
      " 44%|████▎     | 39107/89773 [01:33<03:05, 272.43it/s]"
     ]
    },
    {
     "name": "stderr",
     "output_type": "stream",
     "text": [
      "\r",
      " 44%|████▎     | 39137/89773 [01:33<03:03, 275.33it/s]"
     ]
    },
    {
     "name": "stderr",
     "output_type": "stream",
     "text": [
      "\r",
      " 44%|████▎     | 39167/89773 [01:33<03:02, 277.58it/s]"
     ]
    },
    {
     "name": "stderr",
     "output_type": "stream",
     "text": [
      "\r",
      " 44%|████▎     | 39197/89773 [01:34<06:03, 139.06it/s]"
     ]
    },
    {
     "name": "stderr",
     "output_type": "stream",
     "text": [
      "\r",
      " 44%|████▎     | 39225/89773 [01:34<05:14, 160.65it/s]"
     ]
    },
    {
     "name": "stderr",
     "output_type": "stream",
     "text": [
      "\r",
      " 44%|████▎     | 39254/89773 [01:34<04:35, 183.56it/s]"
     ]
    },
    {
     "name": "stderr",
     "output_type": "stream",
     "text": [
      "\r",
      " 44%|████▍     | 39290/89773 [01:34<03:49, 219.93it/s]"
     ]
    },
    {
     "name": "stderr",
     "output_type": "stream",
     "text": [
      "\r",
      " 44%|████▍     | 39319/89773 [01:34<03:34, 235.19it/s]"
     ]
    },
    {
     "name": "stderr",
     "output_type": "stream",
     "text": [
      "\r",
      " 44%|████▍     | 39348/89773 [01:34<03:24, 247.05it/s]"
     ]
    },
    {
     "name": "stderr",
     "output_type": "stream",
     "text": [
      "\r",
      " 44%|████▍     | 39377/89773 [01:34<03:16, 255.89it/s]"
     ]
    },
    {
     "name": "stderr",
     "output_type": "stream",
     "text": [
      "\r",
      " 44%|████▍     | 39406/89773 [01:34<03:51, 217.84it/s]"
     ]
    },
    {
     "name": "stderr",
     "output_type": "stream",
     "text": [
      "\r",
      " 44%|████▍     | 39431/89773 [01:35<04:17, 195.71it/s]"
     ]
    },
    {
     "name": "stderr",
     "output_type": "stream",
     "text": [
      "\r",
      " 44%|████▍     | 39453/89773 [01:35<04:39, 180.09it/s]"
     ]
    },
    {
     "name": "stderr",
     "output_type": "stream",
     "text": [
      "\r",
      " 44%|████▍     | 39473/89773 [01:35<04:45, 175.91it/s]"
     ]
    },
    {
     "name": "stderr",
     "output_type": "stream",
     "text": [
      "\r",
      " 44%|████▍     | 39502/89773 [01:35<04:08, 202.28it/s]"
     ]
    },
    {
     "name": "stderr",
     "output_type": "stream",
     "text": [
      "\r",
      " 44%|████▍     | 39537/89773 [01:35<03:30, 239.16it/s]"
     ]
    },
    {
     "name": "stderr",
     "output_type": "stream",
     "text": [
      "\r",
      " 44%|████▍     | 39588/89773 [01:35<02:41, 310.36it/s]"
     ]
    },
    {
     "name": "stderr",
     "output_type": "stream",
     "text": [
      "\r",
      " 44%|████▍     | 39639/89773 [01:35<02:17, 364.31it/s]"
     ]
    },
    {
     "name": "stderr",
     "output_type": "stream",
     "text": [
      "\r",
      " 44%|████▍     | 39678/89773 [01:36<04:35, 182.13it/s]"
     ]
    },
    {
     "name": "stderr",
     "output_type": "stream",
     "text": [
      "\r",
      " 44%|████▍     | 39708/89773 [01:36<04:10, 199.74it/s]"
     ]
    },
    {
     "name": "stderr",
     "output_type": "stream",
     "text": [
      "\r",
      " 44%|████▍     | 39738/89773 [01:36<03:51, 216.59it/s]"
     ]
    },
    {
     "name": "stderr",
     "output_type": "stream",
     "text": [
      "\r",
      " 44%|████▍     | 39767/89773 [01:36<03:36, 231.04it/s]"
     ]
    },
    {
     "name": "stderr",
     "output_type": "stream",
     "text": [
      "\r",
      " 44%|████▍     | 39796/89773 [01:36<03:25, 243.50it/s]"
     ]
    },
    {
     "name": "stderr",
     "output_type": "stream",
     "text": [
      "\r",
      " 44%|████▍     | 39825/89773 [01:36<03:16, 253.65it/s]"
     ]
    },
    {
     "name": "stderr",
     "output_type": "stream",
     "text": [
      "\r",
      " 44%|████▍     | 39857/89773 [01:36<03:05, 269.35it/s]"
     ]
    },
    {
     "name": "stderr",
     "output_type": "stream",
     "text": [
      "\r",
      " 44%|████▍     | 39887/89773 [01:36<03:02, 273.61it/s]"
     ]
    },
    {
     "name": "stderr",
     "output_type": "stream",
     "text": [
      "\r",
      " 44%|████▍     | 39917/89773 [01:37<03:00, 276.75it/s]"
     ]
    },
    {
     "name": "stderr",
     "output_type": "stream",
     "text": [
      "\r",
      " 44%|████▍     | 39946/89773 [01:37<02:58, 279.00it/s]"
     ]
    },
    {
     "name": "stderr",
     "output_type": "stream",
     "text": [
      "\r",
      " 45%|████▍     | 39975/89773 [01:37<02:57, 281.02it/s]"
     ]
    },
    {
     "name": "stderr",
     "output_type": "stream",
     "text": [
      "\r",
      " 45%|████▍     | 40004/89773 [01:37<02:56, 282.61it/s]"
     ]
    },
    {
     "name": "stderr",
     "output_type": "stream",
     "text": [
      "\r",
      " 45%|████▍     | 40033/89773 [01:37<02:55, 283.04it/s]"
     ]
    },
    {
     "name": "stderr",
     "output_type": "stream",
     "text": [
      "\r",
      " 45%|████▍     | 40062/89773 [01:37<02:55, 283.71it/s]"
     ]
    },
    {
     "name": "stderr",
     "output_type": "stream",
     "text": [
      "\r",
      " 45%|████▍     | 40091/89773 [01:37<03:08, 263.12it/s]"
     ]
    },
    {
     "name": "stderr",
     "output_type": "stream",
     "text": [
      "\r",
      " 45%|████▍     | 40119/89773 [01:37<03:06, 266.45it/s]"
     ]
    },
    {
     "name": "stderr",
     "output_type": "stream",
     "text": [
      "\r",
      " 45%|████▍     | 40149/89773 [01:37<03:00, 275.60it/s]"
     ]
    },
    {
     "name": "stderr",
     "output_type": "stream",
     "text": [
      "\r",
      " 45%|████▍     | 40177/89773 [01:38<06:29, 127.31it/s]"
     ]
    },
    {
     "name": "stderr",
     "output_type": "stream",
     "text": [
      "\r",
      " 45%|████▍     | 40229/89773 [01:38<04:21, 189.66it/s]"
     ]
    },
    {
     "name": "stderr",
     "output_type": "stream",
     "text": [
      "\r",
      " 45%|████▍     | 40287/89773 [01:38<03:09, 261.63it/s]"
     ]
    },
    {
     "name": "stderr",
     "output_type": "stream",
     "text": [
      "\r",
      " 45%|████▍     | 40345/89773 [01:38<02:30, 327.92it/s]"
     ]
    },
    {
     "name": "stderr",
     "output_type": "stream",
     "text": [
      "\r",
      " 45%|████▍     | 40390/89773 [01:38<02:27, 335.40it/s]"
     ]
    },
    {
     "name": "stderr",
     "output_type": "stream",
     "text": [
      "\r",
      " 45%|████▌     | 40432/89773 [01:38<02:26, 336.63it/s]"
     ]
    },
    {
     "name": "stderr",
     "output_type": "stream",
     "text": [
      "\r",
      " 45%|████▌     | 40472/89773 [01:39<02:26, 335.39it/s]"
     ]
    },
    {
     "name": "stderr",
     "output_type": "stream",
     "text": [
      "\r",
      " 45%|████▌     | 40523/89773 [01:39<02:10, 376.24it/s]"
     ]
    },
    {
     "name": "stderr",
     "output_type": "stream",
     "text": [
      "\r",
      " 45%|████▌     | 40565/89773 [01:39<02:17, 356.90it/s]"
     ]
    },
    {
     "name": "stderr",
     "output_type": "stream",
     "text": [
      "\r",
      " 45%|████▌     | 40623/89773 [01:39<01:58, 413.23it/s]"
     ]
    },
    {
     "name": "stderr",
     "output_type": "stream",
     "text": [
      "\r",
      " 45%|████▌     | 40668/89773 [01:39<04:00, 204.29it/s]"
     ]
    },
    {
     "name": "stderr",
     "output_type": "stream",
     "text": [
      "\r",
      " 45%|████▌     | 40726/89773 [01:40<03:06, 262.42it/s]"
     ]
    },
    {
     "name": "stderr",
     "output_type": "stream",
     "text": [
      "\r",
      " 45%|████▌     | 40784/89773 [01:40<02:33, 319.71it/s]"
     ]
    },
    {
     "name": "stderr",
     "output_type": "stream",
     "text": [
      "\r",
      " 45%|████▌     | 40842/89773 [01:40<02:11, 373.11it/s]"
     ]
    },
    {
     "name": "stderr",
     "output_type": "stream",
     "text": [
      "\r",
      " 46%|████▌     | 40900/89773 [01:40<01:56, 419.76it/s]"
     ]
    },
    {
     "name": "stderr",
     "output_type": "stream",
     "text": [
      "\r",
      " 46%|████▌     | 40958/89773 [01:40<01:46, 457.19it/s]"
     ]
    },
    {
     "name": "stderr",
     "output_type": "stream",
     "text": [
      "\r",
      " 46%|████▌     | 41016/89773 [01:40<01:39, 488.81it/s]"
     ]
    },
    {
     "name": "stderr",
     "output_type": "stream",
     "text": [
      "\r",
      " 46%|████▌     | 41074/89773 [01:40<01:34, 512.69it/s]"
     ]
    },
    {
     "name": "stderr",
     "output_type": "stream",
     "text": [
      "\r",
      " 46%|████▌     | 41130/89773 [01:41<02:48, 288.49it/s]"
     ]
    },
    {
     "name": "stderr",
     "output_type": "stream",
     "text": [
      "\r",
      " 46%|████▌     | 41189/89773 [01:41<02:22, 341.43it/s]"
     ]
    },
    {
     "name": "stderr",
     "output_type": "stream",
     "text": [
      "\r",
      " 46%|████▌     | 41247/89773 [01:41<02:04, 389.36it/s]"
     ]
    },
    {
     "name": "stderr",
     "output_type": "stream",
     "text": [
      "\r",
      " 46%|████▌     | 41305/89773 [01:41<01:52, 431.13it/s]"
     ]
    },
    {
     "name": "stderr",
     "output_type": "stream",
     "text": [
      "\r",
      " 46%|████▌     | 41363/89773 [01:41<01:43, 465.56it/s]"
     ]
    },
    {
     "name": "stderr",
     "output_type": "stream",
     "text": [
      "\r",
      " 46%|████▌     | 41421/89773 [01:41<01:37, 493.73it/s]"
     ]
    },
    {
     "name": "stderr",
     "output_type": "stream",
     "text": [
      "\r",
      " 46%|████▌     | 41479/89773 [01:41<01:33, 514.87it/s]"
     ]
    },
    {
     "name": "stderr",
     "output_type": "stream",
     "text": [
      "\r",
      " 46%|████▋     | 41535/89773 [01:41<01:32, 521.20it/s]"
     ]
    },
    {
     "name": "stderr",
     "output_type": "stream",
     "text": [
      "\r",
      " 46%|████▋     | 41593/89773 [01:42<02:46, 290.15it/s]"
     ]
    },
    {
     "name": "stderr",
     "output_type": "stream",
     "text": [
      "\r",
      " 46%|████▋     | 41651/89773 [01:42<02:21, 340.87it/s]"
     ]
    },
    {
     "name": "stderr",
     "output_type": "stream",
     "text": [
      "\r",
      " 46%|████▋     | 41709/89773 [01:42<02:03, 389.13it/s]"
     ]
    },
    {
     "name": "stderr",
     "output_type": "stream",
     "text": [
      "\r",
      " 47%|████▋     | 41767/89773 [01:42<01:51, 431.30it/s]"
     ]
    },
    {
     "name": "stderr",
     "output_type": "stream",
     "text": [
      "\r",
      " 47%|████▋     | 41824/89773 [01:42<01:43, 464.47it/s]"
     ]
    },
    {
     "name": "stderr",
     "output_type": "stream",
     "text": [
      "\r",
      " 47%|████▋     | 41881/89773 [01:42<01:37, 489.81it/s]"
     ]
    },
    {
     "name": "stderr",
     "output_type": "stream",
     "text": [
      "\r",
      " 47%|████▋     | 41937/89773 [01:42<01:34, 507.30it/s]"
     ]
    },
    {
     "name": "stderr",
     "output_type": "stream",
     "text": [
      "\r",
      " 47%|████▋     | 41993/89773 [01:42<01:31, 520.79it/s]"
     ]
    },
    {
     "name": "stderr",
     "output_type": "stream",
     "text": [
      "\r",
      " 47%|████▋     | 42050/89773 [01:42<01:29, 534.00it/s]"
     ]
    },
    {
     "name": "stderr",
     "output_type": "stream",
     "text": [
      "\r",
      " 47%|████▋     | 42106/89773 [01:43<02:56, 270.63it/s]"
     ]
    },
    {
     "name": "stderr",
     "output_type": "stream",
     "text": [
      "\r",
      " 47%|████▋     | 42165/89773 [01:43<02:26, 324.26it/s]"
     ]
    },
    {
     "name": "stderr",
     "output_type": "stream",
     "text": [
      "\r",
      " 47%|████▋     | 42223/89773 [01:43<02:07, 374.08it/s]"
     ]
    },
    {
     "name": "stderr",
     "output_type": "stream",
     "text": [
      "\r",
      " 47%|████▋     | 42281/89773 [01:43<01:53, 418.63it/s]"
     ]
    },
    {
     "name": "stderr",
     "output_type": "stream",
     "text": [
      "\r",
      " 47%|████▋     | 42334/89773 [01:43<01:57, 402.39it/s]"
     ]
    },
    {
     "name": "stderr",
     "output_type": "stream",
     "text": [
      "\r",
      " 47%|████▋     | 42392/89773 [01:43<01:46, 443.86it/s]"
     ]
    },
    {
     "name": "stderr",
     "output_type": "stream",
     "text": [
      "\r",
      " 47%|████▋     | 42450/89773 [01:44<01:39, 477.20it/s]"
     ]
    },
    {
     "name": "stderr",
     "output_type": "stream",
     "text": [
      "\r",
      " 47%|████▋     | 42508/89773 [01:44<01:33, 503.72it/s]"
     ]
    },
    {
     "name": "stderr",
     "output_type": "stream",
     "text": [
      "\r",
      " 47%|████▋     | 42563/89773 [01:44<02:47, 282.59it/s]"
     ]
    },
    {
     "name": "stderr",
     "output_type": "stream",
     "text": [
      "\r",
      " 47%|████▋     | 42621/89773 [01:44<02:20, 334.82it/s]"
     ]
    },
    {
     "name": "stderr",
     "output_type": "stream",
     "text": [
      "\r",
      " 48%|████▊     | 42679/89773 [01:44<02:02, 383.72it/s]"
     ]
    },
    {
     "name": "stderr",
     "output_type": "stream",
     "text": [
      "\r",
      " 48%|████▊     | 42736/89773 [01:44<01:50, 425.18it/s]"
     ]
    },
    {
     "name": "stderr",
     "output_type": "stream",
     "text": [
      "\r",
      " 48%|████▊     | 42794/89773 [01:44<01:41, 462.20it/s]"
     ]
    },
    {
     "name": "stderr",
     "output_type": "stream",
     "text": [
      "\r",
      " 48%|████▊     | 42852/89773 [01:45<01:35, 491.35it/s]"
     ]
    },
    {
     "name": "stderr",
     "output_type": "stream",
     "text": [
      "\r",
      " 48%|████▊     | 42910/89773 [01:45<01:31, 513.64it/s]"
     ]
    },
    {
     "name": "stderr",
     "output_type": "stream",
     "text": [
      "\r",
      " 48%|████▊     | 42968/89773 [01:45<01:28, 531.87it/s]"
     ]
    },
    {
     "name": "stderr",
     "output_type": "stream",
     "text": [
      "\r",
      " 48%|████▊     | 43026/89773 [01:45<01:25, 545.34it/s]"
     ]
    },
    {
     "name": "stderr",
     "output_type": "stream",
     "text": [
      "\r",
      " 48%|████▊     | 43083/89773 [01:45<02:38, 293.74it/s]"
     ]
    },
    {
     "name": "stderr",
     "output_type": "stream",
     "text": [
      "\r",
      " 48%|████▊     | 43141/89773 [01:45<02:15, 344.90it/s]"
     ]
    },
    {
     "name": "stderr",
     "output_type": "stream",
     "text": [
      "\r",
      " 48%|████▊     | 43199/89773 [01:45<01:58, 392.73it/s]"
     ]
    },
    {
     "name": "stderr",
     "output_type": "stream",
     "text": [
      "\r",
      " 48%|████▊     | 43257/89773 [01:46<01:46, 434.80it/s]"
     ]
    },
    {
     "name": "stderr",
     "output_type": "stream",
     "text": [
      "\r",
      " 48%|████▊     | 43315/89773 [01:46<01:38, 469.55it/s]"
     ]
    },
    {
     "name": "stderr",
     "output_type": "stream",
     "text": [
      "\r",
      " 48%|████▊     | 43373/89773 [01:46<01:33, 496.53it/s]"
     ]
    },
    {
     "name": "stderr",
     "output_type": "stream",
     "text": [
      "\r",
      " 48%|████▊     | 43431/89773 [01:46<01:29, 518.14it/s]"
     ]
    },
    {
     "name": "stderr",
     "output_type": "stream",
     "text": [
      "\r",
      " 48%|████▊     | 43489/89773 [01:46<01:26, 534.51it/s]"
     ]
    },
    {
     "name": "stderr",
     "output_type": "stream",
     "text": [
      "\r",
      " 49%|████▊     | 43546/89773 [01:46<02:39, 290.18it/s]"
     ]
    },
    {
     "name": "stderr",
     "output_type": "stream",
     "text": [
      "\r",
      " 49%|████▊     | 43604/89773 [01:46<02:15, 341.11it/s]"
     ]
    },
    {
     "name": "stderr",
     "output_type": "stream",
     "text": [
      "\r",
      " 49%|████▊     | 43663/89773 [01:47<01:58, 390.11it/s]"
     ]
    },
    {
     "name": "stderr",
     "output_type": "stream",
     "text": [
      "\r",
      " 49%|████▊     | 43721/89773 [01:47<01:46, 432.26it/s]"
     ]
    },
    {
     "name": "stderr",
     "output_type": "stream",
     "text": [
      "\r",
      " 49%|████▉     | 43779/89773 [01:47<01:38, 467.87it/s]"
     ]
    },
    {
     "name": "stderr",
     "output_type": "stream",
     "text": [
      "\r",
      " 49%|████▉     | 43837/89773 [01:47<01:32, 495.81it/s]"
     ]
    },
    {
     "name": "stderr",
     "output_type": "stream",
     "text": [
      "\r",
      " 49%|████▉     | 43895/89773 [01:47<01:28, 517.14it/s]"
     ]
    },
    {
     "name": "stderr",
     "output_type": "stream",
     "text": [
      "\r",
      " 49%|████▉     | 43952/89773 [01:47<01:26, 530.57it/s]"
     ]
    },
    {
     "name": "stderr",
     "output_type": "stream",
     "text": [
      "\r",
      " 49%|████▉     | 44009/89773 [01:48<02:44, 278.12it/s]"
     ]
    },
    {
     "name": "stderr",
     "output_type": "stream",
     "text": [
      "\r",
      " 49%|████▉     | 44067/89773 [01:48<02:18, 329.47it/s]"
     ]
    },
    {
     "name": "stderr",
     "output_type": "stream",
     "text": [
      "\r",
      " 49%|████▉     | 44125/89773 [01:48<02:00, 378.56it/s]"
     ]
    },
    {
     "name": "stderr",
     "output_type": "stream",
     "text": [
      "\r",
      " 49%|████▉     | 44183/89773 [01:48<01:48, 421.97it/s]"
     ]
    },
    {
     "name": "stderr",
     "output_type": "stream",
     "text": [
      "\r",
      " 49%|████▉     | 44241/89773 [01:48<01:39, 459.54it/s]"
     ]
    },
    {
     "name": "stderr",
     "output_type": "stream",
     "text": [
      "\r",
      " 49%|████▉     | 44299/89773 [01:48<01:32, 489.78it/s]"
     ]
    },
    {
     "name": "stderr",
     "output_type": "stream",
     "text": [
      "\r",
      " 49%|████▉     | 44357/89773 [01:48<01:28, 512.80it/s]"
     ]
    },
    {
     "name": "stderr",
     "output_type": "stream",
     "text": [
      "\r",
      " 49%|████▉     | 44415/89773 [01:48<01:25, 530.55it/s]"
     ]
    },
    {
     "name": "stderr",
     "output_type": "stream",
     "text": [
      "\r",
      " 50%|████▉     | 44473/89773 [01:48<01:23, 543.73it/s]"
     ]
    },
    {
     "name": "stderr",
     "output_type": "stream",
     "text": [
      "\r",
      " 50%|████▉     | 44530/89773 [01:49<02:36, 289.20it/s]"
     ]
    },
    {
     "name": "stderr",
     "output_type": "stream",
     "text": [
      "\r",
      " 50%|████▉     | 44588/89773 [01:49<02:12, 340.30it/s]"
     ]
    },
    {
     "name": "stderr",
     "output_type": "stream",
     "text": [
      "\r",
      " 50%|████▉     | 44646/89773 [01:49<01:56, 388.24it/s]"
     ]
    },
    {
     "name": "stderr",
     "output_type": "stream",
     "text": [
      "\r",
      " 50%|████▉     | 44705/89773 [01:49<01:44, 431.72it/s]"
     ]
    },
    {
     "name": "stderr",
     "output_type": "stream",
     "text": [
      "\r",
      " 50%|████▉     | 44763/89773 [01:49<01:36, 466.67it/s]"
     ]
    },
    {
     "name": "stderr",
     "output_type": "stream",
     "text": [
      "\r",
      " 50%|████▉     | 44821/89773 [01:49<01:30, 495.47it/s]"
     ]
    },
    {
     "name": "stderr",
     "output_type": "stream",
     "text": [
      "\r",
      " 50%|████▉     | 44879/89773 [01:49<01:26, 516.44it/s]"
     ]
    },
    {
     "name": "stderr",
     "output_type": "stream",
     "text": [
      "\r",
      " 50%|█████     | 44937/89773 [01:49<01:24, 533.31it/s]"
     ]
    },
    {
     "name": "stderr",
     "output_type": "stream",
     "text": [
      "\r",
      " 50%|█████     | 44994/89773 [01:50<02:36, 285.55it/s]"
     ]
    },
    {
     "name": "stderr",
     "output_type": "stream",
     "text": [
      "\r",
      " 50%|█████     | 45052/89773 [01:50<02:12, 336.83it/s]"
     ]
    },
    {
     "name": "stderr",
     "output_type": "stream",
     "text": [
      "\r",
      " 50%|█████     | 45109/89773 [01:50<01:56, 383.41it/s]"
     ]
    },
    {
     "name": "stderr",
     "output_type": "stream",
     "text": [
      "\r",
      " 50%|█████     | 45167/89773 [01:50<01:44, 426.49it/s]"
     ]
    },
    {
     "name": "stderr",
     "output_type": "stream",
     "text": [
      "\r",
      " 50%|█████     | 45225/89773 [01:50<01:36, 463.18it/s]"
     ]
    },
    {
     "name": "stderr",
     "output_type": "stream",
     "text": [
      "\r",
      " 50%|█████     | 45283/89773 [01:50<01:30, 491.79it/s]"
     ]
    },
    {
     "name": "stderr",
     "output_type": "stream",
     "text": [
      "\r",
      " 51%|█████     | 45341/89773 [01:50<01:26, 514.57it/s]"
     ]
    },
    {
     "name": "stderr",
     "output_type": "stream",
     "text": [
      "\r",
      " 51%|█████     | 45399/89773 [01:51<01:23, 531.97it/s]"
     ]
    },
    {
     "name": "stderr",
     "output_type": "stream",
     "text": [
      "\r",
      " 51%|█████     | 45456/89773 [01:51<02:37, 281.16it/s]"
     ]
    },
    {
     "name": "stderr",
     "output_type": "stream",
     "text": [
      "\r",
      " 51%|█████     | 45513/89773 [01:51<02:13, 330.37it/s]"
     ]
    },
    {
     "name": "stderr",
     "output_type": "stream",
     "text": [
      "\r",
      " 51%|█████     | 45570/89773 [01:51<01:57, 376.87it/s]"
     ]
    },
    {
     "name": "stderr",
     "output_type": "stream",
     "text": [
      "\r",
      " 51%|█████     | 45628/89773 [01:51<01:45, 420.19it/s]"
     ]
    },
    {
     "name": "stderr",
     "output_type": "stream",
     "text": [
      "\r",
      " 51%|█████     | 45686/89773 [01:51<01:36, 457.40it/s]"
     ]
    },
    {
     "name": "stderr",
     "output_type": "stream",
     "text": [
      "\r",
      " 51%|█████     | 45742/89773 [01:52<01:31, 483.26it/s]"
     ]
    },
    {
     "name": "stderr",
     "output_type": "stream",
     "text": [
      "\r",
      " 51%|█████     | 45799/89773 [01:52<01:27, 504.73it/s]"
     ]
    },
    {
     "name": "stderr",
     "output_type": "stream",
     "text": [
      "\r",
      " 51%|█████     | 45857/89773 [01:52<01:23, 524.16it/s]"
     ]
    },
    {
     "name": "stderr",
     "output_type": "stream",
     "text": [
      "\r",
      " 51%|█████     | 45915/89773 [01:52<01:21, 539.08it/s]"
     ]
    },
    {
     "name": "stderr",
     "output_type": "stream",
     "text": [
      "\r",
      " 51%|█████     | 45972/89773 [01:52<02:34, 284.14it/s]"
     ]
    },
    {
     "name": "stderr",
     "output_type": "stream",
     "text": [
      "\r",
      " 51%|█████▏    | 46031/89773 [01:52<02:09, 336.72it/s]"
     ]
    },
    {
     "name": "stderr",
     "output_type": "stream",
     "text": [
      "\r",
      " 51%|█████▏    | 46089/89773 [01:52<01:53, 385.06it/s]"
     ]
    },
    {
     "name": "stderr",
     "output_type": "stream",
     "text": [
      "\r",
      " 51%|█████▏    | 46148/89773 [01:53<01:41, 428.97it/s]"
     ]
    },
    {
     "name": "stderr",
     "output_type": "stream",
     "text": [
      "\r",
      " 51%|█████▏    | 46207/89773 [01:53<01:33, 465.75it/s]"
     ]
    },
    {
     "name": "stderr",
     "output_type": "stream",
     "text": [
      "\r",
      " 52%|█████▏    | 46265/89773 [01:53<01:28, 494.19it/s]"
     ]
    },
    {
     "name": "stderr",
     "output_type": "stream",
     "text": [
      "\r",
      " 52%|█████▏    | 46323/89773 [01:53<01:24, 516.43it/s]"
     ]
    },
    {
     "name": "stderr",
     "output_type": "stream",
     "text": [
      "\r",
      " 52%|█████▏    | 46381/89773 [01:53<01:21, 533.10it/s]"
     ]
    },
    {
     "name": "stderr",
     "output_type": "stream",
     "text": [
      "\r",
      " 52%|█████▏    | 46439/89773 [01:53<02:32, 283.62it/s]"
     ]
    },
    {
     "name": "stderr",
     "output_type": "stream",
     "text": [
      "\r",
      " 52%|█████▏    | 46496/89773 [01:53<02:09, 333.07it/s]"
     ]
    },
    {
     "name": "stderr",
     "output_type": "stream",
     "text": [
      "\r",
      " 52%|█████▏    | 46554/89773 [01:54<01:53, 380.81it/s]"
     ]
    },
    {
     "name": "stderr",
     "output_type": "stream",
     "text": [
      "\r",
      " 52%|█████▏    | 46612/89773 [01:54<01:41, 424.49it/s]"
     ]
    },
    {
     "name": "stderr",
     "output_type": "stream",
     "text": [
      "\r",
      " 52%|█████▏    | 46670/89773 [01:54<01:33, 460.71it/s]"
     ]
    },
    {
     "name": "stderr",
     "output_type": "stream",
     "text": [
      "\r",
      " 52%|█████▏    | 46727/89773 [01:54<01:28, 487.98it/s]"
     ]
    },
    {
     "name": "stderr",
     "output_type": "stream",
     "text": [
      "\r",
      " 52%|█████▏    | 46785/89773 [01:54<01:24, 511.33it/s]"
     ]
    },
    {
     "name": "stderr",
     "output_type": "stream",
     "text": [
      "\r",
      " 52%|█████▏    | 46843/89773 [01:54<01:21, 528.03it/s]"
     ]
    },
    {
     "name": "stderr",
     "output_type": "stream",
     "text": [
      "\r",
      " 52%|█████▏    | 46901/89773 [01:54<01:19, 541.67it/s]"
     ]
    },
    {
     "name": "stderr",
     "output_type": "stream",
     "text": [
      "\r",
      " 52%|█████▏    | 46958/89773 [01:55<02:36, 273.69it/s]"
     ]
    },
    {
     "name": "stderr",
     "output_type": "stream",
     "text": [
      "\r",
      " 52%|█████▏    | 47016/89773 [01:55<02:11, 325.42it/s]"
     ]
    },
    {
     "name": "stderr",
     "output_type": "stream",
     "text": [
      "\r",
      " 52%|█████▏    | 47074/89773 [01:55<01:54, 374.50it/s]"
     ]
    },
    {
     "name": "stderr",
     "output_type": "stream",
     "text": [
      "\r",
      " 53%|█████▎    | 47132/89773 [01:55<01:41, 418.87it/s]"
     ]
    },
    {
     "name": "stderr",
     "output_type": "stream",
     "text": [
      "\r",
      " 53%|█████▎    | 47190/89773 [01:55<01:33, 456.49it/s]"
     ]
    },
    {
     "name": "stderr",
     "output_type": "stream",
     "text": [
      "\r",
      " 53%|█████▎    | 47248/89773 [01:55<01:27, 486.52it/s]"
     ]
    },
    {
     "name": "stderr",
     "output_type": "stream",
     "text": [
      "\r",
      " 53%|█████▎    | 47306/89773 [01:55<01:23, 510.53it/s]"
     ]
    },
    {
     "name": "stderr",
     "output_type": "stream",
     "text": [
      "\r",
      " 53%|█████▎    | 47364/89773 [01:55<01:20, 529.44it/s]"
     ]
    },
    {
     "name": "stderr",
     "output_type": "stream",
     "text": [
      "\r",
      " 53%|█████▎    | 47422/89773 [01:55<01:17, 543.10it/s]"
     ]
    },
    {
     "name": "stderr",
     "output_type": "stream",
     "text": [
      "\r",
      " 53%|█████▎    | 47479/89773 [01:56<02:29, 282.63it/s]"
     ]
    },
    {
     "name": "stderr",
     "output_type": "stream",
     "text": [
      "\r",
      " 53%|█████▎    | 47537/89773 [01:56<02:06, 334.07it/s]"
     ]
    },
    {
     "name": "stderr",
     "output_type": "stream",
     "text": [
      "\r",
      " 53%|█████▎    | 47595/89773 [01:56<01:50, 382.69it/s]"
     ]
    },
    {
     "name": "stderr",
     "output_type": "stream",
     "text": [
      "\r",
      " 53%|█████▎    | 47653/89773 [01:56<01:38, 425.77it/s]"
     ]
    },
    {
     "name": "stderr",
     "output_type": "stream",
     "text": [
      "\r",
      " 53%|█████▎    | 47711/89773 [01:56<01:30, 462.25it/s]"
     ]
    },
    {
     "name": "stderr",
     "output_type": "stream",
     "text": [
      "\r",
      " 53%|█████▎    | 47769/89773 [01:56<01:25, 491.65it/s]"
     ]
    },
    {
     "name": "stderr",
     "output_type": "stream",
     "text": [
      "\r",
      " 53%|█████▎    | 47827/89773 [01:56<01:21, 513.91it/s]"
     ]
    },
    {
     "name": "stderr",
     "output_type": "stream",
     "text": [
      "\r",
      " 53%|█████▎    | 47885/89773 [01:57<01:18, 531.28it/s]"
     ]
    },
    {
     "name": "stderr",
     "output_type": "stream",
     "text": [
      "\r",
      " 53%|█████▎    | 47942/89773 [01:57<02:30, 278.68it/s]"
     ]
    },
    {
     "name": "stderr",
     "output_type": "stream",
     "text": [
      "\r",
      " 53%|█████▎    | 48000/89773 [01:57<02:06, 330.08it/s]"
     ]
    },
    {
     "name": "stderr",
     "output_type": "stream",
     "text": [
      "\r",
      " 54%|█████▎    | 48058/89773 [01:57<01:50, 378.89it/s]"
     ]
    },
    {
     "name": "stderr",
     "output_type": "stream",
     "text": [
      "\r",
      " 54%|█████▎    | 48116/89773 [01:57<01:38, 422.56it/s]"
     ]
    },
    {
     "name": "stderr",
     "output_type": "stream",
     "text": [
      "\r",
      " 54%|█████▎    | 48174/89773 [01:57<01:30, 459.56it/s]"
     ]
    },
    {
     "name": "stderr",
     "output_type": "stream",
     "text": [
      "\r",
      " 54%|█████▎    | 48232/89773 [01:57<01:24, 489.18it/s]"
     ]
    },
    {
     "name": "stderr",
     "output_type": "stream",
     "text": [
      "\r",
      " 54%|█████▍    | 48290/89773 [01:58<01:20, 512.52it/s]"
     ]
    },
    {
     "name": "stderr",
     "output_type": "stream",
     "text": [
      "\r",
      " 54%|█████▍    | 48348/89773 [01:58<01:18, 530.56it/s]"
     ]
    },
    {
     "name": "stderr",
     "output_type": "stream",
     "text": [
      "\r",
      " 54%|█████▍    | 48406/89773 [01:58<01:16, 542.15it/s]"
     ]
    },
    {
     "name": "stderr",
     "output_type": "stream",
     "text": [
      "\r",
      " 54%|█████▍    | 48463/89773 [01:58<02:28, 278.72it/s]"
     ]
    },
    {
     "name": "stderr",
     "output_type": "stream",
     "text": [
      "\r",
      " 54%|█████▍    | 48521/89773 [01:58<02:04, 330.21it/s]"
     ]
    },
    {
     "name": "stderr",
     "output_type": "stream",
     "text": [
      "\r",
      " 54%|█████▍    | 48579/89773 [01:58<01:48, 379.01it/s]"
     ]
    },
    {
     "name": "stderr",
     "output_type": "stream",
     "text": [
      "\r",
      " 54%|█████▍    | 48637/89773 [01:59<01:37, 422.91it/s]"
     ]
    },
    {
     "name": "stderr",
     "output_type": "stream",
     "text": [
      "\r",
      " 54%|█████▍    | 48695/89773 [01:59<01:29, 459.85it/s]"
     ]
    },
    {
     "name": "stderr",
     "output_type": "stream",
     "text": [
      "\r",
      " 54%|█████▍    | 48753/89773 [01:59<01:23, 488.36it/s]"
     ]
    },
    {
     "name": "stderr",
     "output_type": "stream",
     "text": [
      "\r",
      " 54%|█████▍    | 48811/89773 [01:59<01:19, 512.12it/s]"
     ]
    },
    {
     "name": "stderr",
     "output_type": "stream",
     "text": [
      "\r",
      " 54%|█████▍    | 48869/89773 [01:59<01:17, 529.95it/s]"
     ]
    },
    {
     "name": "stderr",
     "output_type": "stream",
     "text": [
      "\r",
      " 54%|█████▍    | 48926/89773 [01:59<02:28, 275.44it/s]"
     ]
    },
    {
     "name": "stderr",
     "output_type": "stream",
     "text": [
      "\r",
      " 55%|█████▍    | 48984/89773 [01:59<02:04, 326.85it/s]"
     ]
    },
    {
     "name": "stderr",
     "output_type": "stream",
     "text": [
      "\r",
      " 55%|█████▍    | 49042/89773 [02:00<01:48, 376.15it/s]"
     ]
    },
    {
     "name": "stderr",
     "output_type": "stream",
     "text": [
      "\r",
      " 55%|█████▍    | 49100/89773 [02:00<01:36, 420.42it/s]"
     ]
    },
    {
     "name": "stderr",
     "output_type": "stream",
     "text": [
      "\r",
      " 55%|█████▍    | 49158/89773 [02:00<01:28, 457.72it/s]"
     ]
    },
    {
     "name": "stderr",
     "output_type": "stream",
     "text": [
      "\r",
      " 55%|█████▍    | 49216/89773 [02:00<01:23, 487.88it/s]"
     ]
    },
    {
     "name": "stderr",
     "output_type": "stream",
     "text": [
      "\r",
      " 55%|█████▍    | 49274/89773 [02:00<01:19, 511.67it/s]"
     ]
    },
    {
     "name": "stderr",
     "output_type": "stream",
     "text": [
      "\r",
      " 55%|█████▍    | 49332/89773 [02:00<01:16, 529.69it/s]"
     ]
    },
    {
     "name": "stderr",
     "output_type": "stream",
     "text": [
      "\r",
      " 55%|█████▌    | 49390/89773 [02:00<01:14, 542.48it/s]"
     ]
    },
    {
     "name": "stderr",
     "output_type": "stream",
     "text": [
      "\r",
      " 55%|█████▌    | 49447/89773 [02:01<02:27, 273.23it/s]"
     ]
    },
    {
     "name": "stderr",
     "output_type": "stream",
     "text": [
      "\r",
      " 55%|█████▌    | 49505/89773 [02:01<02:04, 324.56it/s]"
     ]
    },
    {
     "name": "stderr",
     "output_type": "stream",
     "text": [
      "\r",
      " 55%|█████▌    | 49563/89773 [02:01<01:47, 373.59it/s]"
     ]
    },
    {
     "name": "stderr",
     "output_type": "stream",
     "text": [
      "\r",
      " 55%|█████▌    | 49621/89773 [02:01<01:36, 417.60it/s]"
     ]
    },
    {
     "name": "stderr",
     "output_type": "stream",
     "text": [
      "\r",
      " 55%|█████▌    | 49679/89773 [02:01<01:28, 454.61it/s]"
     ]
    },
    {
     "name": "stderr",
     "output_type": "stream",
     "text": [
      "\r",
      " 55%|█████▌    | 49737/89773 [02:01<01:22, 485.42it/s]"
     ]
    },
    {
     "name": "stderr",
     "output_type": "stream",
     "text": [
      "\r",
      " 55%|█████▌    | 49795/89773 [02:01<01:18, 509.44it/s]"
     ]
    },
    {
     "name": "stderr",
     "output_type": "stream",
     "text": [
      "\r",
      " 56%|█████▌    | 49853/89773 [02:01<01:15, 527.84it/s]"
     ]
    },
    {
     "name": "stderr",
     "output_type": "stream",
     "text": [
      "\r",
      " 56%|█████▌    | 49910/89773 [02:02<02:29, 266.62it/s]"
     ]
    },
    {
     "name": "stderr",
     "output_type": "stream",
     "text": [
      "\r",
      " 56%|█████▌    | 49968/89773 [02:02<02:05, 318.16it/s]"
     ]
    },
    {
     "name": "stderr",
     "output_type": "stream",
     "text": [
      "\r",
      " 56%|█████▌    | 50026/89773 [02:02<01:48, 367.46it/s]"
     ]
    },
    {
     "name": "stderr",
     "output_type": "stream",
     "text": [
      "\r",
      " 56%|█████▌    | 50084/89773 [02:02<01:36, 412.82it/s]"
     ]
    },
    {
     "name": "stderr",
     "output_type": "stream",
     "text": [
      "\r",
      " 56%|█████▌    | 50141/89773 [02:02<01:28, 448.89it/s]"
     ]
    },
    {
     "name": "stderr",
     "output_type": "stream",
     "text": [
      "\r",
      " 56%|█████▌    | 50198/89773 [02:02<01:22, 478.99it/s]"
     ]
    },
    {
     "name": "stderr",
     "output_type": "stream",
     "text": [
      "\r",
      " 56%|█████▌    | 50256/89773 [02:02<01:18, 504.15it/s]"
     ]
    },
    {
     "name": "stderr",
     "output_type": "stream",
     "text": [
      "\r",
      " 56%|█████▌    | 50314/89773 [02:03<01:15, 524.12it/s]"
     ]
    },
    {
     "name": "stderr",
     "output_type": "stream",
     "text": [
      "\r",
      " 56%|█████▌    | 50372/89773 [02:03<01:13, 538.96it/s]"
     ]
    },
    {
     "name": "stderr",
     "output_type": "stream",
     "text": [
      "\r",
      " 56%|█████▌    | 50429/89773 [02:03<02:30, 262.15it/s]"
     ]
    },
    {
     "name": "stderr",
     "output_type": "stream",
     "text": [
      "\r",
      " 56%|█████▌    | 50487/89773 [02:03<02:05, 313.92it/s]"
     ]
    },
    {
     "name": "stderr",
     "output_type": "stream",
     "text": [
      "\r",
      " 56%|█████▋    | 50545/89773 [02:03<01:47, 364.21it/s]"
     ]
    },
    {
     "name": "stderr",
     "output_type": "stream",
     "text": [
      "\r",
      " 56%|█████▋    | 50603/89773 [02:03<01:35, 409.17it/s]"
     ]
    },
    {
     "name": "stderr",
     "output_type": "stream",
     "text": [
      "\r",
      " 56%|█████▋    | 50661/89773 [02:04<01:27, 448.59it/s]"
     ]
    },
    {
     "name": "stderr",
     "output_type": "stream",
     "text": [
      "\r",
      " 56%|█████▋    | 50719/89773 [02:04<01:21, 481.03it/s]"
     ]
    },
    {
     "name": "stderr",
     "output_type": "stream",
     "text": [
      "\r",
      " 57%|█████▋    | 50778/89773 [02:04<01:16, 507.61it/s]"
     ]
    },
    {
     "name": "stderr",
     "output_type": "stream",
     "text": [
      "\r",
      " 57%|█████▋    | 50836/89773 [02:04<01:13, 526.99it/s]"
     ]
    },
    {
     "name": "stderr",
     "output_type": "stream",
     "text": [
      "\r",
      " 57%|█████▋    | 50893/89773 [02:04<02:25, 267.12it/s]"
     ]
    },
    {
     "name": "stderr",
     "output_type": "stream",
     "text": [
      "\r",
      " 57%|█████▋    | 50951/89773 [02:04<02:01, 318.62it/s]"
     ]
    },
    {
     "name": "stderr",
     "output_type": "stream",
     "text": [
      "\r",
      " 57%|█████▋    | 51009/89773 [02:04<01:45, 368.18it/s]"
     ]
    },
    {
     "name": "stderr",
     "output_type": "stream",
     "text": [
      "\r",
      " 57%|█████▋    | 51067/89773 [02:05<01:33, 413.25it/s]"
     ]
    },
    {
     "name": "stderr",
     "output_type": "stream",
     "text": [
      "\r",
      " 57%|█████▋    | 51125/89773 [02:05<01:25, 451.19it/s]"
     ]
    },
    {
     "name": "stderr",
     "output_type": "stream",
     "text": [
      "\r",
      " 57%|█████▋    | 51183/89773 [02:05<01:19, 482.44it/s]"
     ]
    },
    {
     "name": "stderr",
     "output_type": "stream",
     "text": [
      "\r",
      " 57%|█████▋    | 51241/89773 [02:05<01:16, 506.61it/s]"
     ]
    },
    {
     "name": "stderr",
     "output_type": "stream",
     "text": [
      "\r",
      " 57%|█████▋    | 51299/89773 [02:05<01:13, 526.29it/s]"
     ]
    },
    {
     "name": "stderr",
     "output_type": "stream",
     "text": [
      "\r",
      " 57%|█████▋    | 51358/89773 [02:05<01:10, 541.64it/s]"
     ]
    },
    {
     "name": "stderr",
     "output_type": "stream",
     "text": [
      "\r",
      " 57%|█████▋    | 51415/89773 [02:06<02:23, 267.08it/s]"
     ]
    },
    {
     "name": "stderr",
     "output_type": "stream",
     "text": [
      "\r",
      " 57%|█████▋    | 51473/89773 [02:06<02:00, 318.53it/s]"
     ]
    },
    {
     "name": "stderr",
     "output_type": "stream",
     "text": [
      "\r",
      " 57%|█████▋    | 51531/89773 [02:06<01:44, 367.44it/s]"
     ]
    },
    {
     "name": "stderr",
     "output_type": "stream",
     "text": [
      "\r",
      " 57%|█████▋    | 51589/89773 [02:06<01:32, 412.57it/s]"
     ]
    },
    {
     "name": "stderr",
     "output_type": "stream",
     "text": [
      "\r",
      " 58%|█████▊    | 51647/89773 [02:06<01:24, 451.36it/s]"
     ]
    },
    {
     "name": "stderr",
     "output_type": "stream",
     "text": [
      "\r",
      " 58%|█████▊    | 51704/89773 [02:06<01:19, 479.62it/s]"
     ]
    },
    {
     "name": "stderr",
     "output_type": "stream",
     "text": [
      "\r",
      " 58%|█████▊    | 51760/89773 [02:06<01:16, 499.03it/s]"
     ]
    },
    {
     "name": "stderr",
     "output_type": "stream",
     "text": [
      "\r",
      " 58%|█████▊    | 51817/89773 [02:06<01:13, 517.99it/s]"
     ]
    },
    {
     "name": "stderr",
     "output_type": "stream",
     "text": [
      "\r",
      " 58%|█████▊    | 51876/89773 [02:06<01:10, 535.69it/s]"
     ]
    },
    {
     "name": "stderr",
     "output_type": "stream",
     "text": [
      "\r",
      " 58%|█████▊    | 51933/89773 [02:07<02:20, 269.61it/s]"
     ]
    },
    {
     "name": "stderr",
     "output_type": "stream",
     "text": [
      "\r",
      " 58%|█████▊    | 51991/89773 [02:07<01:57, 321.14it/s]"
     ]
    },
    {
     "name": "stderr",
     "output_type": "stream",
     "text": [
      "\r",
      " 58%|█████▊    | 52049/89773 [02:07<01:41, 370.90it/s]"
     ]
    },
    {
     "name": "stderr",
     "output_type": "stream",
     "text": [
      "\r",
      " 58%|█████▊    | 52107/89773 [02:07<01:30, 415.22it/s]"
     ]
    },
    {
     "name": "stderr",
     "output_type": "stream",
     "text": [
      "\r",
      " 58%|█████▊    | 52165/89773 [02:07<01:23, 453.02it/s]"
     ]
    },
    {
     "name": "stderr",
     "output_type": "stream",
     "text": [
      "\r",
      " 58%|█████▊    | 52223/89773 [02:07<01:17, 483.56it/s]"
     ]
    },
    {
     "name": "stderr",
     "output_type": "stream",
     "text": [
      "\r",
      " 58%|█████▊    | 52281/89773 [02:07<01:13, 508.54it/s]"
     ]
    },
    {
     "name": "stderr",
     "output_type": "stream",
     "text": [
      "\r",
      " 58%|█████▊    | 52339/89773 [02:08<01:10, 527.89it/s]"
     ]
    },
    {
     "name": "stderr",
     "output_type": "stream",
     "text": [
      "\r",
      " 58%|█████▊    | 52397/89773 [02:08<01:08, 542.47it/s]"
     ]
    },
    {
     "name": "stderr",
     "output_type": "stream",
     "text": [
      "\r",
      " 58%|█████▊    | 52454/89773 [02:08<02:18, 269.59it/s]"
     ]
    },
    {
     "name": "stderr",
     "output_type": "stream",
     "text": [
      "\r",
      " 58%|█████▊    | 52498/89773 [02:08<02:12, 282.31it/s]"
     ]
    },
    {
     "name": "stderr",
     "output_type": "stream",
     "text": [
      "\r",
      " 59%|█████▊    | 52539/89773 [02:08<02:10, 285.89it/s]"
     ]
    },
    {
     "name": "stderr",
     "output_type": "stream",
     "text": [
      "\r",
      " 59%|█████▊    | 52584/89773 [02:08<01:57, 317.59it/s]"
     ]
    },
    {
     "name": "stderr",
     "output_type": "stream",
     "text": [
      "\r",
      " 59%|█████▊    | 52636/89773 [02:09<01:42, 361.55it/s]"
     ]
    },
    {
     "name": "stderr",
     "output_type": "stream",
     "text": [
      "\r",
      " 59%|█████▊    | 52689/89773 [02:09<01:32, 399.99it/s]"
     ]
    },
    {
     "name": "stderr",
     "output_type": "stream",
     "text": [
      "\r",
      " 59%|█████▉    | 52742/89773 [02:09<01:25, 431.68it/s]"
     ]
    },
    {
     "name": "stderr",
     "output_type": "stream",
     "text": [
      "\r",
      " 59%|█████▉    | 52795/89773 [02:09<01:21, 455.94it/s]"
     ]
    },
    {
     "name": "stderr",
     "output_type": "stream",
     "text": [
      "\r",
      " 59%|█████▉    | 52847/89773 [02:09<01:18, 473.17it/s]"
     ]
    },
    {
     "name": "stderr",
     "output_type": "stream",
     "text": [
      "\r",
      " 59%|█████▉    | 52899/89773 [02:09<01:15, 486.21it/s]"
     ]
    },
    {
     "name": "stderr",
     "output_type": "stream",
     "text": [
      "\r",
      " 59%|█████▉    | 52950/89773 [02:10<02:39, 231.39it/s]"
     ]
    },
    {
     "name": "stderr",
     "output_type": "stream",
     "text": [
      "\r",
      " 59%|█████▉    | 53002/89773 [02:10<02:12, 277.51it/s]"
     ]
    },
    {
     "name": "stderr",
     "output_type": "stream",
     "text": [
      "\r",
      " 59%|█████▉    | 53054/89773 [02:10<01:54, 322.07it/s]"
     ]
    },
    {
     "name": "stderr",
     "output_type": "stream",
     "text": [
      "\r",
      " 59%|█████▉    | 53106/89773 [02:10<01:40, 363.27it/s]"
     ]
    },
    {
     "name": "stderr",
     "output_type": "stream",
     "text": [
      "\r",
      " 59%|█████▉    | 53158/89773 [02:10<01:31, 398.89it/s]"
     ]
    },
    {
     "name": "stderr",
     "output_type": "stream",
     "text": [
      "\r",
      " 59%|█████▉    | 53210/89773 [02:10<01:25, 428.56it/s]"
     ]
    },
    {
     "name": "stderr",
     "output_type": "stream",
     "text": [
      "\r",
      " 59%|█████▉    | 53262/89773 [02:10<01:20, 451.83it/s]"
     ]
    },
    {
     "name": "stderr",
     "output_type": "stream",
     "text": [
      "\r",
      " 59%|█████▉    | 53314/89773 [02:10<01:17, 469.97it/s]"
     ]
    },
    {
     "name": "stderr",
     "output_type": "stream",
     "text": [
      "\r",
      " 59%|█████▉    | 53366/89773 [02:10<01:15, 482.48it/s]"
     ]
    },
    {
     "name": "stderr",
     "output_type": "stream",
     "text": [
      "\r",
      " 60%|█████▉    | 53417/89773 [02:11<02:33, 236.88it/s]"
     ]
    },
    {
     "name": "stderr",
     "output_type": "stream",
     "text": [
      "\r",
      " 60%|█████▉    | 53475/89773 [02:11<02:03, 292.95it/s]"
     ]
    },
    {
     "name": "stderr",
     "output_type": "stream",
     "text": [
      "\r",
      " 60%|█████▉    | 53533/89773 [02:11<01:44, 346.86it/s]"
     ]
    },
    {
     "name": "stderr",
     "output_type": "stream",
     "text": [
      "\r",
      " 60%|█████▉    | 53591/89773 [02:11<01:31, 396.20it/s]"
     ]
    },
    {
     "name": "stderr",
     "output_type": "stream",
     "text": [
      "\r",
      " 60%|█████▉    | 53649/89773 [02:11<01:22, 438.57it/s]"
     ]
    },
    {
     "name": "stderr",
     "output_type": "stream",
     "text": [
      "\r",
      " 60%|█████▉    | 53707/89773 [02:11<01:16, 473.04it/s]"
     ]
    },
    {
     "name": "stderr",
     "output_type": "stream",
     "text": [
      "\r",
      " 60%|█████▉    | 53765/89773 [02:11<01:11, 500.19it/s]"
     ]
    },
    {
     "name": "stderr",
     "output_type": "stream",
     "text": [
      "\r",
      " 60%|█████▉    | 53823/89773 [02:12<01:08, 521.49it/s]"
     ]
    },
    {
     "name": "stderr",
     "output_type": "stream",
     "text": [
      "\r",
      " 60%|██████    | 53881/89773 [02:12<01:06, 537.42it/s]"
     ]
    },
    {
     "name": "stderr",
     "output_type": "stream",
     "text": [
      "\r",
      " 60%|██████    | 53938/89773 [02:12<02:20, 254.42it/s]"
     ]
    },
    {
     "name": "stderr",
     "output_type": "stream",
     "text": [
      "\r",
      " 60%|██████    | 53990/89773 [02:12<02:00, 296.39it/s]"
     ]
    },
    {
     "name": "stderr",
     "output_type": "stream",
     "text": [
      "\r",
      " 60%|██████    | 54048/89773 [02:12<01:42, 348.05it/s]"
     ]
    },
    {
     "name": "stderr",
     "output_type": "stream",
     "text": [
      "\r",
      " 60%|██████    | 54106/89773 [02:12<01:30, 395.60it/s]"
     ]
    },
    {
     "name": "stderr",
     "output_type": "stream",
     "text": [
      "\r",
      " 60%|██████    | 54163/89773 [02:13<01:21, 435.38it/s]"
     ]
    },
    {
     "name": "stderr",
     "output_type": "stream",
     "text": [
      "\r",
      " 60%|██████    | 54221/89773 [02:13<01:15, 470.03it/s]"
     ]
    },
    {
     "name": "stderr",
     "output_type": "stream",
     "text": [
      "\r",
      " 60%|██████    | 54279/89773 [02:13<01:11, 497.77it/s]"
     ]
    },
    {
     "name": "stderr",
     "output_type": "stream",
     "text": [
      "\r",
      " 61%|██████    | 54337/89773 [02:13<01:08, 519.54it/s]"
     ]
    },
    {
     "name": "stderr",
     "output_type": "stream",
     "text": [
      "\r",
      " 61%|██████    | 54395/89773 [02:13<01:06, 535.11it/s]"
     ]
    },
    {
     "name": "stderr",
     "output_type": "stream",
     "text": [
      "\r",
      " 61%|██████    | 54452/89773 [02:13<02:20, 251.70it/s]"
     ]
    },
    {
     "name": "stderr",
     "output_type": "stream",
     "text": [
      "\r",
      " 61%|██████    | 54504/89773 [02:14<01:59, 294.04it/s]"
     ]
    },
    {
     "name": "stderr",
     "output_type": "stream",
     "text": [
      "\r",
      " 61%|██████    | 54557/89773 [02:14<01:44, 337.32it/s]"
     ]
    },
    {
     "name": "stderr",
     "output_type": "stream",
     "text": [
      "\r",
      " 61%|██████    | 54614/89773 [02:14<01:31, 384.98it/s]"
     ]
    },
    {
     "name": "stderr",
     "output_type": "stream",
     "text": [
      "\r",
      " 61%|██████    | 54667/89773 [02:14<01:24, 416.61it/s]"
     ]
    },
    {
     "name": "stderr",
     "output_type": "stream",
     "text": [
      "\r",
      " 61%|██████    | 54719/89773 [02:14<01:19, 441.80it/s]"
     ]
    },
    {
     "name": "stderr",
     "output_type": "stream",
     "text": [
      "\r",
      " 61%|██████    | 54777/89773 [02:14<01:13, 476.30it/s]"
     ]
    },
    {
     "name": "stderr",
     "output_type": "stream",
     "text": [
      "\r",
      " 61%|██████    | 54835/89773 [02:14<01:09, 503.60it/s]"
     ]
    },
    {
     "name": "stderr",
     "output_type": "stream",
     "text": [
      "\r",
      " 61%|██████    | 54893/89773 [02:14<01:06, 523.76it/s]"
     ]
    },
    {
     "name": "stderr",
     "output_type": "stream",
     "text": [
      "\r",
      " 61%|██████    | 54949/89773 [02:15<02:14, 258.09it/s]"
     ]
    },
    {
     "name": "stderr",
     "output_type": "stream",
     "text": [
      "\r",
      " 61%|██████▏   | 55007/89773 [02:15<01:52, 310.27it/s]"
     ]
    },
    {
     "name": "stderr",
     "output_type": "stream",
     "text": [
      "\r",
      " 61%|██████▏   | 55065/89773 [02:15<01:36, 361.11it/s]"
     ]
    },
    {
     "name": "stderr",
     "output_type": "stream",
     "text": [
      "\r",
      " 61%|██████▏   | 55123/89773 [02:15<01:25, 407.56it/s]"
     ]
    },
    {
     "name": "stderr",
     "output_type": "stream",
     "text": [
      "\r",
      " 61%|██████▏   | 55181/89773 [02:15<01:17, 446.19it/s]"
     ]
    },
    {
     "name": "stderr",
     "output_type": "stream",
     "text": [
      "\r",
      " 62%|██████▏   | 55239/89773 [02:15<01:12, 479.17it/s]"
     ]
    },
    {
     "name": "stderr",
     "output_type": "stream",
     "text": [
      "\r",
      " 62%|██████▏   | 55297/89773 [02:15<01:08, 505.29it/s]"
     ]
    },
    {
     "name": "stderr",
     "output_type": "stream",
     "text": [
      "\r",
      " 62%|██████▏   | 55355/89773 [02:15<01:05, 524.64it/s]"
     ]
    },
    {
     "name": "stderr",
     "output_type": "stream",
     "text": [
      "\r",
      " 62%|██████▏   | 55414/89773 [02:16<01:03, 540.52it/s]"
     ]
    },
    {
     "name": "stderr",
     "output_type": "stream",
     "text": [
      "\r",
      " 62%|██████▏   | 55471/89773 [02:16<02:09, 263.88it/s]"
     ]
    },
    {
     "name": "stderr",
     "output_type": "stream",
     "text": [
      "\r",
      " 62%|██████▏   | 55529/89773 [02:16<01:48, 315.11it/s]"
     ]
    },
    {
     "name": "stderr",
     "output_type": "stream",
     "text": [
      "\r",
      " 62%|██████▏   | 55587/89773 [02:16<01:33, 364.99it/s]"
     ]
    },
    {
     "name": "stderr",
     "output_type": "stream",
     "text": [
      "\r",
      " 62%|██████▏   | 55638/89773 [02:16<01:34, 359.77it/s]"
     ]
    },
    {
     "name": "stderr",
     "output_type": "stream",
     "text": [
      "\r",
      " 62%|██████▏   | 55684/89773 [02:17<01:46, 319.79it/s]"
     ]
    },
    {
     "name": "stderr",
     "output_type": "stream",
     "text": [
      "\r",
      " 62%|██████▏   | 55724/89773 [02:17<02:11, 259.05it/s]"
     ]
    },
    {
     "name": "stderr",
     "output_type": "stream",
     "text": [
      "\r",
      " 62%|██████▏   | 55761/89773 [02:17<02:02, 277.91it/s]"
     ]
    },
    {
     "name": "stderr",
     "output_type": "stream",
     "text": [
      "\r",
      " 62%|██████▏   | 55795/89773 [02:17<02:01, 279.14it/s]"
     ]
    },
    {
     "name": "stderr",
     "output_type": "stream",
     "text": [
      "\r",
      " 62%|██████▏   | 55827/89773 [02:17<02:00, 280.83it/s]"
     ]
    },
    {
     "name": "stderr",
     "output_type": "stream",
     "text": [
      "\r",
      " 62%|██████▏   | 55858/89773 [02:17<02:00, 282.01it/s]"
     ]
    },
    {
     "name": "stderr",
     "output_type": "stream",
     "text": [
      "\r",
      " 62%|██████▏   | 55889/89773 [02:17<01:58, 286.02it/s]"
     ]
    },
    {
     "name": "stderr",
     "output_type": "stream",
     "text": [
      "\r",
      " 62%|██████▏   | 55920/89773 [02:17<01:58, 286.16it/s]"
     ]
    },
    {
     "name": "stderr",
     "output_type": "stream",
     "text": [
      "\r",
      " 62%|██████▏   | 55950/89773 [02:18<04:34, 123.24it/s]"
     ]
    },
    {
     "name": "stderr",
     "output_type": "stream",
     "text": [
      "\r",
      " 62%|██████▏   | 55985/89773 [02:18<03:39, 154.13it/s]"
     ]
    },
    {
     "name": "stderr",
     "output_type": "stream",
     "text": [
      "\r",
      " 62%|██████▏   | 56014/89773 [02:18<03:11, 176.13it/s]"
     ]
    },
    {
     "name": "stderr",
     "output_type": "stream",
     "text": [
      "\r",
      " 62%|██████▏   | 56043/89773 [02:18<02:51, 197.07it/s]"
     ]
    },
    {
     "name": "stderr",
     "output_type": "stream",
     "text": [
      "\r",
      " 62%|██████▏   | 56082/89773 [02:18<02:21, 238.23it/s]"
     ]
    },
    {
     "name": "stderr",
     "output_type": "stream",
     "text": [
      "\r",
      " 63%|██████▎   | 56140/89773 [02:19<01:45, 317.61it/s]"
     ]
    },
    {
     "name": "stderr",
     "output_type": "stream",
     "text": [
      "\r",
      " 63%|██████▎   | 56192/89773 [02:19<01:31, 366.51it/s]"
     ]
    },
    {
     "name": "stderr",
     "output_type": "stream",
     "text": [
      "\r",
      " 63%|██████▎   | 56235/89773 [02:19<01:38, 340.71it/s]"
     ]
    },
    {
     "name": "stderr",
     "output_type": "stream",
     "text": [
      "\r",
      " 63%|██████▎   | 56274/89773 [02:19<02:09, 258.40it/s]"
     ]
    },
    {
     "name": "stderr",
     "output_type": "stream",
     "text": [
      "\r",
      " 63%|██████▎   | 56306/89773 [02:19<02:07, 262.16it/s]"
     ]
    },
    {
     "name": "stderr",
     "output_type": "stream",
     "text": [
      "\r",
      " 63%|██████▎   | 56337/89773 [02:19<02:03, 270.97it/s]"
     ]
    },
    {
     "name": "stderr",
     "output_type": "stream",
     "text": [
      "\r",
      " 63%|██████▎   | 56373/89773 [02:19<01:54, 290.51it/s]"
     ]
    },
    {
     "name": "stderr",
     "output_type": "stream",
     "text": [
      "\r",
      " 63%|██████▎   | 56405/89773 [02:20<01:55, 289.41it/s]"
     ]
    },
    {
     "name": "stderr",
     "output_type": "stream",
     "text": [
      "\r",
      " 63%|██████▎   | 56436/89773 [02:20<01:55, 288.81it/s]"
     ]
    },
    {
     "name": "stderr",
     "output_type": "stream",
     "text": [
      "\r",
      " 63%|██████▎   | 56467/89773 [02:20<04:50, 114.46it/s]"
     ]
    },
    {
     "name": "stderr",
     "output_type": "stream",
     "text": [
      "\r",
      " 63%|██████▎   | 56490/89773 [02:20<04:19, 128.13it/s]"
     ]
    },
    {
     "name": "stderr",
     "output_type": "stream",
     "text": [
      "\r",
      " 63%|██████▎   | 56516/89773 [02:21<03:44, 147.90it/s]"
     ]
    },
    {
     "name": "stderr",
     "output_type": "stream",
     "text": [
      "\r",
      " 63%|██████▎   | 56545/89773 [02:21<03:11, 173.10it/s]"
     ]
    },
    {
     "name": "stderr",
     "output_type": "stream",
     "text": [
      "\r",
      " 63%|██████▎   | 56574/89773 [02:21<02:49, 196.28it/s]"
     ]
    },
    {
     "name": "stderr",
     "output_type": "stream",
     "text": [
      "\r",
      " 63%|██████▎   | 56603/89773 [02:21<02:33, 216.40it/s]"
     ]
    },
    {
     "name": "stderr",
     "output_type": "stream",
     "text": [
      "\r",
      " 63%|██████▎   | 56644/89773 [02:21<02:06, 262.87it/s]"
     ]
    },
    {
     "name": "stderr",
     "output_type": "stream",
     "text": [
      "\r",
      " 63%|██████▎   | 56696/89773 [02:21<01:40, 328.42it/s]"
     ]
    },
    {
     "name": "stderr",
     "output_type": "stream",
     "text": [
      "\r",
      " 63%|██████▎   | 56734/89773 [02:21<01:39, 333.04it/s]"
     ]
    },
    {
     "name": "stderr",
     "output_type": "stream",
     "text": [
      "\r",
      " 63%|██████▎   | 56771/89773 [02:21<01:51, 295.93it/s]"
     ]
    },
    {
     "name": "stderr",
     "output_type": "stream",
     "text": [
      "\r",
      " 63%|██████▎   | 56804/89773 [02:21<01:52, 292.88it/s]"
     ]
    },
    {
     "name": "stderr",
     "output_type": "stream",
     "text": [
      "\r",
      " 63%|██████▎   | 56836/89773 [02:22<01:52, 291.66it/s]"
     ]
    },
    {
     "name": "stderr",
     "output_type": "stream",
     "text": [
      "\r",
      " 63%|██████▎   | 56879/89773 [02:22<01:40, 327.11it/s]"
     ]
    },
    {
     "name": "stderr",
     "output_type": "stream",
     "text": [
      "\r",
      " 63%|██████▎   | 56930/89773 [02:22<01:27, 375.36it/s]"
     ]
    },
    {
     "name": "stderr",
     "output_type": "stream",
     "text": [
      "\r",
      " 63%|██████▎   | 56969/89773 [02:22<03:26, 158.87it/s]"
     ]
    },
    {
     "name": "stderr",
     "output_type": "stream",
     "text": [
      "\r",
      " 64%|██████▎   | 57010/89773 [02:22<02:48, 194.46it/s]"
     ]
    },
    {
     "name": "stderr",
     "output_type": "stream",
     "text": [
      "\r",
      " 64%|██████▎   | 57068/89773 [02:23<02:05, 259.73it/s]"
     ]
    },
    {
     "name": "stderr",
     "output_type": "stream",
     "text": [
      "\r",
      " 64%|██████▎   | 57126/89773 [02:23<01:41, 321.52it/s]"
     ]
    },
    {
     "name": "stderr",
     "output_type": "stream",
     "text": [
      "\r",
      " 64%|██████▎   | 57172/89773 [02:23<01:38, 332.14it/s]"
     ]
    },
    {
     "name": "stderr",
     "output_type": "stream",
     "text": [
      "\r",
      " 64%|██████▎   | 57215/89773 [02:23<01:37, 332.78it/s]"
     ]
    },
    {
     "name": "stderr",
     "output_type": "stream",
     "text": [
      "\r",
      " 64%|██████▍   | 57271/89773 [02:23<01:24, 384.68it/s]"
     ]
    },
    {
     "name": "stderr",
     "output_type": "stream",
     "text": [
      "\r",
      " 64%|██████▍   | 57329/89773 [02:23<01:15, 431.86it/s]"
     ]
    },
    {
     "name": "stderr",
     "output_type": "stream",
     "text": [
      "\r",
      " 64%|██████▍   | 57386/89773 [02:23<01:09, 467.84it/s]"
     ]
    },
    {
     "name": "stderr",
     "output_type": "stream",
     "text": [
      "\r",
      " 64%|██████▍   | 57444/89773 [02:23<01:05, 496.24it/s]"
     ]
    },
    {
     "name": "stderr",
     "output_type": "stream",
     "text": [
      "\r",
      " 64%|██████▍   | 57497/89773 [02:24<02:31, 213.56it/s]"
     ]
    },
    {
     "name": "stderr",
     "output_type": "stream",
     "text": [
      "\r",
      " 64%|██████▍   | 57555/89773 [02:24<02:01, 265.82it/s]"
     ]
    },
    {
     "name": "stderr",
     "output_type": "stream",
     "text": [
      "\r",
      " 64%|██████▍   | 57613/89773 [02:24<01:40, 318.69it/s]"
     ]
    },
    {
     "name": "stderr",
     "output_type": "stream",
     "text": [
      "\r",
      " 64%|██████▍   | 57670/89773 [02:24<01:27, 367.02it/s]"
     ]
    },
    {
     "name": "stderr",
     "output_type": "stream",
     "text": [
      "\r",
      " 64%|██████▍   | 57728/89773 [02:24<01:17, 412.36it/s]"
     ]
    },
    {
     "name": "stderr",
     "output_type": "stream",
     "text": [
      "\r",
      " 64%|██████▍   | 57785/89773 [02:24<01:11, 448.74it/s]"
     ]
    },
    {
     "name": "stderr",
     "output_type": "stream",
     "text": [
      "\r",
      " 64%|██████▍   | 57843/89773 [02:24<01:06, 480.80it/s]"
     ]
    },
    {
     "name": "stderr",
     "output_type": "stream",
     "text": [
      "\r",
      " 64%|██████▍   | 57901/89773 [02:25<01:02, 506.45it/s]"
     ]
    },
    {
     "name": "stderr",
     "output_type": "stream",
     "text": [
      "\r",
      " 65%|██████▍   | 57957/89773 [02:25<01:09, 458.15it/s]"
     ]
    },
    {
     "name": "stderr",
     "output_type": "stream",
     "text": [
      "\r",
      " 65%|██████▍   | 58008/89773 [02:25<02:27, 215.70it/s]"
     ]
    },
    {
     "name": "stderr",
     "output_type": "stream",
     "text": [
      "\r",
      " 65%|██████▍   | 58066/89773 [02:25<01:58, 267.46it/s]"
     ]
    },
    {
     "name": "stderr",
     "output_type": "stream",
     "text": [
      "\r",
      " 65%|██████▍   | 58123/89773 [02:25<01:39, 318.48it/s]"
     ]
    },
    {
     "name": "stderr",
     "output_type": "stream",
     "text": [
      "\r",
      " 65%|██████▍   | 58180/89773 [02:26<01:25, 367.49it/s]"
     ]
    },
    {
     "name": "stderr",
     "output_type": "stream",
     "text": [
      "\r",
      " 65%|██████▍   | 58237/89773 [02:26<01:16, 411.45it/s]"
     ]
    },
    {
     "name": "stderr",
     "output_type": "stream",
     "text": [
      "\r",
      " 65%|██████▍   | 58294/89773 [02:26<01:10, 448.17it/s]"
     ]
    },
    {
     "name": "stderr",
     "output_type": "stream",
     "text": [
      "\r",
      " 65%|██████▍   | 58352/89773 [02:26<01:05, 479.80it/s]"
     ]
    },
    {
     "name": "stderr",
     "output_type": "stream",
     "text": [
      "\r",
      " 65%|██████▌   | 58409/89773 [02:26<01:02, 503.27it/s]"
     ]
    },
    {
     "name": "stderr",
     "output_type": "stream",
     "text": [
      "\r",
      " 65%|██████▌   | 58466/89773 [02:26<01:00, 520.18it/s]"
     ]
    },
    {
     "name": "stderr",
     "output_type": "stream",
     "text": [
      "\r",
      " 65%|██████▌   | 58522/89773 [02:27<02:07, 244.77it/s]"
     ]
    },
    {
     "name": "stderr",
     "output_type": "stream",
     "text": [
      "\r",
      " 65%|██████▌   | 58580/89773 [02:27<01:45, 296.41it/s]"
     ]
    },
    {
     "name": "stderr",
     "output_type": "stream",
     "text": [
      "\r",
      " 65%|██████▌   | 58637/89773 [02:27<01:30, 345.47it/s]"
     ]
    },
    {
     "name": "stderr",
     "output_type": "stream",
     "text": [
      "\r",
      " 65%|██████▌   | 58694/89773 [02:27<01:19, 391.37it/s]"
     ]
    },
    {
     "name": "stderr",
     "output_type": "stream",
     "text": [
      "\r",
      " 65%|██████▌   | 58751/89773 [02:27<01:11, 431.93it/s]"
     ]
    },
    {
     "name": "stderr",
     "output_type": "stream",
     "text": [
      "\r",
      " 66%|██████▌   | 58809/89773 [02:27<01:06, 466.89it/s]"
     ]
    },
    {
     "name": "stderr",
     "output_type": "stream",
     "text": [
      "\r",
      " 66%|██████▌   | 58867/89773 [02:27<01:02, 495.75it/s]"
     ]
    },
    {
     "name": "stderr",
     "output_type": "stream",
     "text": [
      "\r",
      " 66%|██████▌   | 58925/89773 [02:27<00:59, 517.89it/s]"
     ]
    },
    {
     "name": "stderr",
     "output_type": "stream",
     "text": [
      "\r",
      " 66%|██████▌   | 58983/89773 [02:27<00:57, 534.72it/s]"
     ]
    },
    {
     "name": "stderr",
     "output_type": "stream",
     "text": [
      "\r",
      " 66%|██████▌   | 59040/89773 [02:28<02:05, 244.40it/s]"
     ]
    },
    {
     "name": "stderr",
     "output_type": "stream",
     "text": [
      "\r",
      " 66%|██████▌   | 59098/89773 [02:28<01:43, 295.50it/s]"
     ]
    },
    {
     "name": "stderr",
     "output_type": "stream",
     "text": [
      "\r",
      " 66%|██████▌   | 59156/89773 [02:28<01:28, 346.15it/s]"
     ]
    },
    {
     "name": "stderr",
     "output_type": "stream",
     "text": [
      "\r",
      " 66%|██████▌   | 59214/89773 [02:28<01:17, 393.55it/s]"
     ]
    },
    {
     "name": "stderr",
     "output_type": "stream",
     "text": [
      "\r",
      " 66%|██████▌   | 59272/89773 [02:28<01:10, 435.04it/s]"
     ]
    },
    {
     "name": "stderr",
     "output_type": "stream",
     "text": [
      "\r",
      " 66%|██████▌   | 59330/89773 [02:28<01:04, 470.11it/s]"
     ]
    },
    {
     "name": "stderr",
     "output_type": "stream",
     "text": [
      "\r",
      " 66%|██████▌   | 59388/89773 [02:29<01:01, 497.65it/s]"
     ]
    },
    {
     "name": "stderr",
     "output_type": "stream",
     "text": [
      "\r",
      " 66%|██████▌   | 59446/89773 [02:29<00:58, 519.55it/s]"
     ]
    },
    {
     "name": "stderr",
     "output_type": "stream",
     "text": [
      "\r",
      " 66%|██████▋   | 59504/89773 [02:29<00:56, 536.25it/s]"
     ]
    },
    {
     "name": "stderr",
     "output_type": "stream",
     "text": [
      "\r",
      " 66%|██████▋   | 59561/89773 [02:29<02:01, 248.91it/s]"
     ]
    },
    {
     "name": "stderr",
     "output_type": "stream",
     "text": [
      "\r",
      " 66%|██████▋   | 59619/89773 [02:29<01:40, 300.29it/s]"
     ]
    },
    {
     "name": "stderr",
     "output_type": "stream",
     "text": [
      "\r",
      " 66%|██████▋   | 59677/89773 [02:29<01:25, 350.57it/s]"
     ]
    },
    {
     "name": "stderr",
     "output_type": "stream",
     "text": [
      "\r",
      " 67%|██████▋   | 59735/89773 [02:30<01:15, 397.37it/s]"
     ]
    },
    {
     "name": "stderr",
     "output_type": "stream",
     "text": [
      "\r",
      " 67%|██████▋   | 59793/89773 [02:30<01:08, 438.54it/s]"
     ]
    },
    {
     "name": "stderr",
     "output_type": "stream",
     "text": [
      "\r",
      " 67%|██████▋   | 59850/89773 [02:30<01:03, 470.34it/s]"
     ]
    },
    {
     "name": "stderr",
     "output_type": "stream",
     "text": [
      "\r",
      " 67%|██████▋   | 59908/89773 [02:30<00:59, 498.02it/s]"
     ]
    },
    {
     "name": "stderr",
     "output_type": "stream",
     "text": [
      "\r",
      " 67%|██████▋   | 59966/89773 [02:30<00:57, 518.53it/s]"
     ]
    },
    {
     "name": "stderr",
     "output_type": "stream",
     "text": [
      "\r",
      " 67%|██████▋   | 60024/89773 [02:30<00:55, 535.12it/s]"
     ]
    },
    {
     "name": "stderr",
     "output_type": "stream",
     "text": [
      "\r",
      " 67%|██████▋   | 60081/89773 [02:31<02:00, 247.40it/s]"
     ]
    },
    {
     "name": "stderr",
     "output_type": "stream",
     "text": [
      "\r",
      " 67%|██████▋   | 60138/89773 [02:31<01:39, 296.82it/s]"
     ]
    },
    {
     "name": "stderr",
     "output_type": "stream",
     "text": [
      "\r",
      " 67%|██████▋   | 60196/89773 [02:31<01:25, 347.21it/s]"
     ]
    },
    {
     "name": "stderr",
     "output_type": "stream",
     "text": [
      "\r",
      " 67%|██████▋   | 60254/89773 [02:31<01:14, 393.88it/s]"
     ]
    },
    {
     "name": "stderr",
     "output_type": "stream",
     "text": [
      "\r",
      " 67%|██████▋   | 60312/89773 [02:31<01:07, 435.51it/s]"
     ]
    },
    {
     "name": "stderr",
     "output_type": "stream",
     "text": [
      "\r",
      " 67%|██████▋   | 60370/89773 [02:31<01:02, 470.21it/s]"
     ]
    },
    {
     "name": "stderr",
     "output_type": "stream",
     "text": [
      "\r",
      " 67%|██████▋   | 60428/89773 [02:31<00:58, 497.44it/s]"
     ]
    },
    {
     "name": "stderr",
     "output_type": "stream",
     "text": [
      "\r",
      " 67%|██████▋   | 60486/89773 [02:31<00:56, 519.03it/s]"
     ]
    },
    {
     "name": "stderr",
     "output_type": "stream",
     "text": [
      "\r",
      " 67%|██████▋   | 60544/89773 [02:31<00:54, 535.71it/s]"
     ]
    },
    {
     "name": "stderr",
     "output_type": "stream",
     "text": [
      "\r",
      " 68%|██████▊   | 60601/89773 [02:32<02:01, 239.28it/s]"
     ]
    },
    {
     "name": "stderr",
     "output_type": "stream",
     "text": [
      "\r",
      " 68%|██████▊   | 60659/89773 [02:32<01:40, 290.45it/s]"
     ]
    },
    {
     "name": "stderr",
     "output_type": "stream",
     "text": [
      "\r",
      " 68%|██████▊   | 60717/89773 [02:32<01:25, 341.58it/s]"
     ]
    },
    {
     "name": "stderr",
     "output_type": "stream",
     "text": [
      "\r",
      " 68%|██████▊   | 60775/89773 [02:32<01:14, 389.28it/s]"
     ]
    },
    {
     "name": "stderr",
     "output_type": "stream",
     "text": [
      "\r",
      " 68%|██████▊   | 60834/89773 [02:32<01:06, 432.73it/s]"
     ]
    },
    {
     "name": "stderr",
     "output_type": "stream",
     "text": [
      "\r",
      " 68%|██████▊   | 60892/89773 [02:32<01:01, 468.29it/s]"
     ]
    },
    {
     "name": "stderr",
     "output_type": "stream",
     "text": [
      "\r",
      " 68%|██████▊   | 60951/89773 [02:33<00:57, 497.32it/s]"
     ]
    },
    {
     "name": "stderr",
     "output_type": "stream",
     "text": [
      "\r",
      " 68%|██████▊   | 61009/89773 [02:33<00:55, 519.25it/s]"
     ]
    },
    {
     "name": "stderr",
     "output_type": "stream",
     "text": [
      "\r",
      " 68%|██████▊   | 61068/89773 [02:33<00:53, 536.38it/s]"
     ]
    },
    {
     "name": "stderr",
     "output_type": "stream",
     "text": [
      "\r",
      " 68%|██████▊   | 61126/89773 [02:33<01:56, 246.74it/s]"
     ]
    },
    {
     "name": "stderr",
     "output_type": "stream",
     "text": [
      "\r",
      " 68%|██████▊   | 61184/89773 [02:33<01:36, 297.51it/s]"
     ]
    },
    {
     "name": "stderr",
     "output_type": "stream",
     "text": [
      "\r",
      " 68%|██████▊   | 61242/89773 [02:34<01:22, 347.73it/s]"
     ]
    },
    {
     "name": "stderr",
     "output_type": "stream",
     "text": [
      "\r",
      " 68%|██████▊   | 61300/89773 [02:34<01:12, 394.29it/s]"
     ]
    },
    {
     "name": "stderr",
     "output_type": "stream",
     "text": [
      "\r",
      " 68%|██████▊   | 61358/89773 [02:34<01:05, 435.37it/s]"
     ]
    },
    {
     "name": "stderr",
     "output_type": "stream",
     "text": [
      "\r",
      " 68%|██████▊   | 61416/89773 [02:34<01:00, 469.62it/s]"
     ]
    },
    {
     "name": "stderr",
     "output_type": "stream",
     "text": [
      "\r",
      " 68%|██████▊   | 61474/89773 [02:34<00:56, 497.61it/s]"
     ]
    },
    {
     "name": "stderr",
     "output_type": "stream",
     "text": [
      "\r",
      " 69%|██████▊   | 61532/89773 [02:34<00:54, 517.98it/s]"
     ]
    },
    {
     "name": "stderr",
     "output_type": "stream",
     "text": [
      "\r",
      " 69%|██████▊   | 61590/89773 [02:34<00:52, 534.81it/s]"
     ]
    },
    {
     "name": "stderr",
     "output_type": "stream",
     "text": [
      "\r",
      " 69%|██████▊   | 61647/89773 [02:35<01:55, 243.33it/s]"
     ]
    },
    {
     "name": "stderr",
     "output_type": "stream",
     "text": [
      "\r",
      " 69%|██████▊   | 61705/89773 [02:35<01:35, 294.57it/s]"
     ]
    },
    {
     "name": "stderr",
     "output_type": "stream",
     "text": [
      "\r",
      " 69%|██████▉   | 61763/89773 [02:35<01:21, 345.28it/s]"
     ]
    },
    {
     "name": "stderr",
     "output_type": "stream",
     "text": [
      "\r",
      " 69%|██████▉   | 61821/89773 [02:35<01:11, 392.91it/s]"
     ]
    },
    {
     "name": "stderr",
     "output_type": "stream",
     "text": [
      "\r",
      " 69%|██████▉   | 61879/89773 [02:35<01:04, 434.63it/s]"
     ]
    },
    {
     "name": "stderr",
     "output_type": "stream",
     "text": [
      "\r",
      " 69%|██████▉   | 61937/89773 [02:35<00:59, 469.86it/s]"
     ]
    },
    {
     "name": "stderr",
     "output_type": "stream",
     "text": [
      "\r",
      " 69%|██████▉   | 61995/89773 [02:35<00:55, 497.92it/s]"
     ]
    },
    {
     "name": "stderr",
     "output_type": "stream",
     "text": [
      "\r",
      " 69%|██████▉   | 62053/89773 [02:35<00:53, 519.95it/s]"
     ]
    },
    {
     "name": "stderr",
     "output_type": "stream",
     "text": [
      "\r",
      " 69%|██████▉   | 62111/89773 [02:35<00:51, 535.84it/s]"
     ]
    },
    {
     "name": "stderr",
     "output_type": "stream",
     "text": [
      "\r",
      " 69%|██████▉   | 62168/89773 [02:36<01:57, 235.66it/s]"
     ]
    },
    {
     "name": "stderr",
     "output_type": "stream",
     "text": [
      "\r",
      " 69%|██████▉   | 62225/89773 [02:36<01:36, 285.06it/s]"
     ]
    },
    {
     "name": "stderr",
     "output_type": "stream",
     "text": [
      "\r",
      " 69%|██████▉   | 62281/89773 [02:36<01:22, 332.69it/s]"
     ]
    },
    {
     "name": "stderr",
     "output_type": "stream",
     "text": [
      "\r",
      " 69%|██████▉   | 62337/89773 [02:36<01:12, 376.89it/s]"
     ]
    },
    {
     "name": "stderr",
     "output_type": "stream",
     "text": [
      "\r",
      " 70%|██████▉   | 62394/89773 [02:36<01:05, 419.44it/s]"
     ]
    },
    {
     "name": "stderr",
     "output_type": "stream",
     "text": [
      "\r",
      " 70%|██████▉   | 62449/89773 [02:37<01:00, 450.25it/s]"
     ]
    },
    {
     "name": "stderr",
     "output_type": "stream",
     "text": [
      "\r",
      " 70%|██████▉   | 62505/89773 [02:37<00:57, 476.76it/s]"
     ]
    },
    {
     "name": "stderr",
     "output_type": "stream",
     "text": [
      "\r",
      " 70%|██████▉   | 62563/89773 [02:37<00:54, 502.63it/s]"
     ]
    },
    {
     "name": "stderr",
     "output_type": "stream",
     "text": [
      "\r",
      " 70%|██████▉   | 62621/89773 [02:37<00:51, 522.30it/s]"
     ]
    },
    {
     "name": "stderr",
     "output_type": "stream",
     "text": [
      "\r",
      " 70%|██████▉   | 62677/89773 [02:37<01:55, 234.50it/s]"
     ]
    },
    {
     "name": "stderr",
     "output_type": "stream",
     "text": [
      "\r",
      " 70%|██████▉   | 62734/89773 [02:37<01:34, 284.76it/s]"
     ]
    },
    {
     "name": "stderr",
     "output_type": "stream",
     "text": [
      "\r",
      " 70%|██████▉   | 62791/89773 [02:38<01:20, 334.88it/s]"
     ]
    },
    {
     "name": "stderr",
     "output_type": "stream",
     "text": [
      "\r",
      " 70%|███████   | 62849/89773 [02:38<01:10, 383.03it/s]"
     ]
    },
    {
     "name": "stderr",
     "output_type": "stream",
     "text": [
      "\r",
      " 70%|███████   | 62907/89773 [02:38<01:03, 425.33it/s]"
     ]
    },
    {
     "name": "stderr",
     "output_type": "stream",
     "text": [
      "\r",
      " 70%|███████   | 62965/89773 [02:38<00:58, 461.37it/s]"
     ]
    },
    {
     "name": "stderr",
     "output_type": "stream",
     "text": [
      "\r",
      " 70%|███████   | 63022/89773 [02:38<00:54, 488.78it/s]"
     ]
    },
    {
     "name": "stderr",
     "output_type": "stream",
     "text": [
      "\r",
      " 70%|███████   | 63079/89773 [02:38<00:52, 509.95it/s]"
     ]
    },
    {
     "name": "stderr",
     "output_type": "stream",
     "text": [
      "\r",
      " 70%|███████   | 63137/89773 [02:38<00:50, 527.24it/s]"
     ]
    },
    {
     "name": "stderr",
     "output_type": "stream",
     "text": [
      "\r",
      " 70%|███████   | 63194/89773 [02:39<01:52, 236.63it/s]"
     ]
    },
    {
     "name": "stderr",
     "output_type": "stream",
     "text": [
      "\r",
      " 70%|███████   | 63251/89773 [02:39<01:32, 286.44it/s]"
     ]
    },
    {
     "name": "stderr",
     "output_type": "stream",
     "text": [
      "\r",
      " 71%|███████   | 63308/89773 [02:39<01:18, 336.07it/s]"
     ]
    },
    {
     "name": "stderr",
     "output_type": "stream",
     "text": [
      "\r",
      " 71%|███████   | 63366/89773 [02:39<01:08, 384.61it/s]"
     ]
    },
    {
     "name": "stderr",
     "output_type": "stream",
     "text": [
      "\r",
      " 71%|███████   | 63424/89773 [02:39<01:01, 427.94it/s]"
     ]
    },
    {
     "name": "stderr",
     "output_type": "stream",
     "text": [
      "\r",
      " 71%|███████   | 63482/89773 [02:39<00:56, 463.07it/s]"
     ]
    },
    {
     "name": "stderr",
     "output_type": "stream",
     "text": [
      "\r",
      " 71%|███████   | 63539/89773 [02:39<00:53, 490.24it/s]"
     ]
    },
    {
     "name": "stderr",
     "output_type": "stream",
     "text": [
      "\r",
      " 71%|███████   | 63596/89773 [02:39<00:51, 511.28it/s]"
     ]
    },
    {
     "name": "stderr",
     "output_type": "stream",
     "text": [
      "\r",
      " 71%|███████   | 63654/89773 [02:40<00:49, 527.94it/s]"
     ]
    },
    {
     "name": "stderr",
     "output_type": "stream",
     "text": [
      "\r",
      " 71%|███████   | 63711/89773 [02:40<01:50, 235.20it/s]"
     ]
    },
    {
     "name": "stderr",
     "output_type": "stream",
     "text": [
      "\r",
      " 71%|███████   | 63768/89773 [02:40<01:31, 285.12it/s]"
     ]
    },
    {
     "name": "stderr",
     "output_type": "stream",
     "text": [
      "\r",
      " 71%|███████   | 63826/89773 [02:40<01:17, 336.06it/s]"
     ]
    },
    {
     "name": "stderr",
     "output_type": "stream",
     "text": [
      "\r",
      " 71%|███████   | 63884/89773 [02:40<01:07, 384.01it/s]"
     ]
    },
    {
     "name": "stderr",
     "output_type": "stream",
     "text": [
      "\r",
      " 71%|███████   | 63941/89773 [02:41<01:00, 424.82it/s]"
     ]
    },
    {
     "name": "stderr",
     "output_type": "stream",
     "text": [
      "\r",
      " 71%|███████▏  | 63998/89773 [02:41<00:56, 459.13it/s]"
     ]
    },
    {
     "name": "stderr",
     "output_type": "stream",
     "text": [
      "\r",
      " 71%|███████▏  | 64055/89773 [02:41<00:52, 486.71it/s]"
     ]
    },
    {
     "name": "stderr",
     "output_type": "stream",
     "text": [
      "\r",
      " 71%|███████▏  | 64112/89773 [02:41<00:50, 508.50it/s]"
     ]
    },
    {
     "name": "stderr",
     "output_type": "stream",
     "text": [
      "\r",
      " 71%|███████▏  | 64169/89773 [02:41<00:48, 525.01it/s]"
     ]
    },
    {
     "name": "stderr",
     "output_type": "stream",
     "text": [
      "\r",
      " 72%|███████▏  | 64225/89773 [02:41<01:49, 232.89it/s]"
     ]
    },
    {
     "name": "stderr",
     "output_type": "stream",
     "text": [
      "\r",
      " 72%|███████▏  | 64282/89773 [02:42<01:29, 283.26it/s]"
     ]
    },
    {
     "name": "stderr",
     "output_type": "stream",
     "text": [
      "\r",
      " 72%|███████▏  | 64339/89773 [02:42<01:16, 333.68it/s]"
     ]
    },
    {
     "name": "stderr",
     "output_type": "stream",
     "text": [
      "\r",
      " 72%|███████▏  | 64396/89773 [02:42<01:06, 381.11it/s]"
     ]
    },
    {
     "name": "stderr",
     "output_type": "stream",
     "text": [
      "\r",
      " 72%|███████▏  | 64454/89773 [02:42<00:59, 425.14it/s]"
     ]
    },
    {
     "name": "stderr",
     "output_type": "stream",
     "text": [
      "\r",
      " 72%|███████▏  | 64512/89773 [02:42<00:54, 461.98it/s]"
     ]
    },
    {
     "name": "stderr",
     "output_type": "stream",
     "text": [
      "\r",
      " 72%|███████▏  | 64570/89773 [02:42<00:51, 490.35it/s]"
     ]
    },
    {
     "name": "stderr",
     "output_type": "stream",
     "text": [
      "\r",
      " 72%|███████▏  | 64628/89773 [02:42<00:48, 513.38it/s]"
     ]
    },
    {
     "name": "stderr",
     "output_type": "stream",
     "text": [
      "\r",
      " 72%|███████▏  | 64685/89773 [02:42<00:47, 527.72it/s]"
     ]
    },
    {
     "name": "stderr",
     "output_type": "stream",
     "text": [
      "\r",
      " 72%|███████▏  | 64742/89773 [02:43<01:52, 221.70it/s]"
     ]
    },
    {
     "name": "stderr",
     "output_type": "stream",
     "text": [
      "\r",
      " 72%|███████▏  | 64799/89773 [02:43<01:32, 270.95it/s]"
     ]
    },
    {
     "name": "stderr",
     "output_type": "stream",
     "text": [
      "\r",
      " 72%|███████▏  | 64856/89773 [02:43<01:17, 321.21it/s]"
     ]
    },
    {
     "name": "stderr",
     "output_type": "stream",
     "text": [
      "\r",
      " 72%|███████▏  | 64913/89773 [02:43<01:07, 369.17it/s]"
     ]
    },
    {
     "name": "stderr",
     "output_type": "stream",
     "text": [
      "\r",
      " 72%|███████▏  | 64971/89773 [02:43<00:59, 413.72it/s]"
     ]
    },
    {
     "name": "stderr",
     "output_type": "stream",
     "text": [
      "\r",
      " 72%|███████▏  | 65029/89773 [02:43<00:54, 452.19it/s]"
     ]
    },
    {
     "name": "stderr",
     "output_type": "stream",
     "text": [
      "\r",
      " 73%|███████▎  | 65087/89773 [02:43<00:51, 482.47it/s]"
     ]
    },
    {
     "name": "stderr",
     "output_type": "stream",
     "text": [
      "\r",
      " 73%|███████▎  | 65145/89773 [02:44<00:48, 507.52it/s]"
     ]
    },
    {
     "name": "stderr",
     "output_type": "stream",
     "text": [
      "\r",
      " 73%|███████▎  | 65203/89773 [02:44<00:46, 526.84it/s]"
     ]
    },
    {
     "name": "stderr",
     "output_type": "stream",
     "text": [
      "\r",
      " 73%|███████▎  | 65260/89773 [02:44<01:45, 231.34it/s]"
     ]
    },
    {
     "name": "stderr",
     "output_type": "stream",
     "text": [
      "\r",
      " 73%|███████▎  | 65318/89773 [02:44<01:26, 281.91it/s]"
     ]
    },
    {
     "name": "stderr",
     "output_type": "stream",
     "text": [
      "\r",
      " 73%|███████▎  | 65375/89773 [02:44<01:13, 331.54it/s]"
     ]
    },
    {
     "name": "stderr",
     "output_type": "stream",
     "text": [
      "\r",
      " 73%|███████▎  | 65425/89773 [02:45<01:07, 361.02it/s]"
     ]
    },
    {
     "name": "stderr",
     "output_type": "stream",
     "text": [
      "\r",
      " 73%|███████▎  | 65475/89773 [02:45<01:12, 336.19it/s]"
     ]
    },
    {
     "name": "stderr",
     "output_type": "stream",
     "text": [
      "\r",
      " 73%|███████▎  | 65518/89773 [02:45<01:15, 322.08it/s]"
     ]
    },
    {
     "name": "stderr",
     "output_type": "stream",
     "text": [
      "\r",
      " 73%|███████▎  | 65557/89773 [02:45<01:17, 312.11it/s]"
     ]
    },
    {
     "name": "stderr",
     "output_type": "stream",
     "text": [
      "\r",
      " 73%|███████▎  | 65593/89773 [02:45<01:20, 300.83it/s]"
     ]
    },
    {
     "name": "stderr",
     "output_type": "stream",
     "text": [
      "\r",
      " 73%|███████▎  | 65627/89773 [02:45<01:25, 283.27it/s]"
     ]
    },
    {
     "name": "stderr",
     "output_type": "stream",
     "text": [
      "\r",
      " 73%|███████▎  | 65658/89773 [02:45<01:29, 270.85it/s]"
     ]
    },
    {
     "name": "stderr",
     "output_type": "stream",
     "text": [
      "\r",
      " 73%|███████▎  | 65687/89773 [02:46<01:31, 262.49it/s]"
     ]
    },
    {
     "name": "stderr",
     "output_type": "stream",
     "text": [
      "\r",
      " 73%|███████▎  | 65715/89773 [02:46<01:33, 256.21it/s]"
     ]
    },
    {
     "name": "stderr",
     "output_type": "stream",
     "text": [
      "\r",
      " 73%|███████▎  | 65742/89773 [02:46<01:33, 255.87it/s]"
     ]
    },
    {
     "name": "stderr",
     "output_type": "stream",
     "text": [
      "\r",
      " 73%|███████▎  | 65785/89773 [02:46<03:23, 117.78it/s]"
     ]
    },
    {
     "name": "stderr",
     "output_type": "stream",
     "text": [
      "\r",
      " 73%|███████▎  | 65809/89773 [02:47<02:59, 133.17it/s]"
     ]
    },
    {
     "name": "stderr",
     "output_type": "stream",
     "text": [
      "\r",
      " 73%|███████▎  | 65833/89773 [02:47<02:40, 149.51it/s]"
     ]
    },
    {
     "name": "stderr",
     "output_type": "stream",
     "text": [
      "\r",
      " 73%|███████▎  | 65857/89773 [02:47<02:24, 165.75it/s]"
     ]
    },
    {
     "name": "stderr",
     "output_type": "stream",
     "text": [
      "\r",
      " 73%|███████▎  | 65882/89773 [02:47<02:11, 181.40it/s]"
     ]
    },
    {
     "name": "stderr",
     "output_type": "stream",
     "text": [
      "\r",
      " 73%|███████▎  | 65907/89773 [02:47<02:02, 195.03it/s]"
     ]
    },
    {
     "name": "stderr",
     "output_type": "stream",
     "text": [
      "\r",
      " 73%|███████▎  | 65935/89773 [02:47<01:51, 214.02it/s]"
     ]
    },
    {
     "name": "stderr",
     "output_type": "stream",
     "text": [
      "\r",
      " 73%|███████▎  | 65963/89773 [02:47<01:43, 230.79it/s]"
     ]
    },
    {
     "name": "stderr",
     "output_type": "stream",
     "text": [
      "\r",
      " 74%|███████▎  | 66011/89773 [02:47<01:20, 296.27it/s]"
     ]
    },
    {
     "name": "stderr",
     "output_type": "stream",
     "text": [
      "\r",
      " 74%|███████▎  | 66069/89773 [02:47<01:03, 373.57it/s]"
     ]
    },
    {
     "name": "stderr",
     "output_type": "stream",
     "text": [
      "\r",
      " 74%|███████▎  | 66109/89773 [02:48<01:09, 340.68it/s]"
     ]
    },
    {
     "name": "stderr",
     "output_type": "stream",
     "text": [
      "\r",
      " 74%|███████▎  | 66146/89773 [02:48<01:13, 322.70it/s]"
     ]
    },
    {
     "name": "stderr",
     "output_type": "stream",
     "text": [
      "\r",
      " 74%|███████▎  | 66202/89773 [02:48<01:01, 383.65it/s]"
     ]
    },
    {
     "name": "stderr",
     "output_type": "stream",
     "text": [
      "\r",
      " 74%|███████▍  | 66246/89773 [02:48<00:59, 396.64it/s]"
     ]
    },
    {
     "name": "stderr",
     "output_type": "stream",
     "text": [
      "\r",
      " 74%|███████▍  | 66288/89773 [02:48<01:03, 370.23it/s]"
     ]
    },
    {
     "name": "stderr",
     "output_type": "stream",
     "text": [
      "\r",
      " 74%|███████▍  | 66327/89773 [02:49<02:29, 157.23it/s]"
     ]
    },
    {
     "name": "stderr",
     "output_type": "stream",
     "text": [
      "\r",
      " 74%|███████▍  | 66385/89773 [02:49<01:48, 215.32it/s]"
     ]
    },
    {
     "name": "stderr",
     "output_type": "stream",
     "text": [
      "\r",
      " 74%|███████▍  | 66443/89773 [02:49<01:24, 275.11it/s]"
     ]
    },
    {
     "name": "stderr",
     "output_type": "stream",
     "text": [
      "\r",
      " 74%|███████▍  | 66501/89773 [02:49<01:09, 332.58it/s]"
     ]
    },
    {
     "name": "stderr",
     "output_type": "stream",
     "text": [
      "\r",
      " 74%|███████▍  | 66559/89773 [02:49<01:00, 385.13it/s]"
     ]
    },
    {
     "name": "stderr",
     "output_type": "stream",
     "text": [
      "\r",
      " 74%|███████▍  | 66617/89773 [02:49<00:53, 429.59it/s]"
     ]
    },
    {
     "name": "stderr",
     "output_type": "stream",
     "text": [
      "\r",
      " 74%|███████▍  | 66675/89773 [02:49<00:49, 465.82it/s]"
     ]
    },
    {
     "name": "stderr",
     "output_type": "stream",
     "text": [
      "\r",
      " 74%|███████▍  | 66733/89773 [02:49<00:46, 495.26it/s]"
     ]
    },
    {
     "name": "stderr",
     "output_type": "stream",
     "text": [
      "\r",
      " 74%|███████▍  | 66791/89773 [02:49<00:44, 518.07it/s]"
     ]
    },
    {
     "name": "stderr",
     "output_type": "stream",
     "text": [
      "\r",
      " 74%|███████▍  | 66848/89773 [02:50<01:40, 228.46it/s]"
     ]
    },
    {
     "name": "stderr",
     "output_type": "stream",
     "text": [
      "\r",
      " 75%|███████▍  | 66906/89773 [02:50<01:21, 279.51it/s]"
     ]
    },
    {
     "name": "stderr",
     "output_type": "stream",
     "text": [
      "\r",
      " 75%|███████▍  | 66964/89773 [02:50<01:08, 331.34it/s]"
     ]
    },
    {
     "name": "stderr",
     "output_type": "stream",
     "text": [
      "\r",
      " 75%|███████▍  | 67022/89773 [02:50<00:59, 380.13it/s]"
     ]
    },
    {
     "name": "stderr",
     "output_type": "stream",
     "text": [
      "\r",
      " 75%|███████▍  | 67076/89773 [02:50<00:54, 415.31it/s]"
     ]
    },
    {
     "name": "stderr",
     "output_type": "stream",
     "text": [
      "\r",
      " 75%|███████▍  | 67133/89773 [02:50<00:50, 451.77it/s]"
     ]
    },
    {
     "name": "stderr",
     "output_type": "stream",
     "text": [
      "\r",
      " 75%|███████▍  | 67191/89773 [02:51<00:46, 483.55it/s]"
     ]
    },
    {
     "name": "stderr",
     "output_type": "stream",
     "text": [
      "\r",
      " 75%|███████▍  | 67249/89773 [02:51<00:44, 508.64it/s]"
     ]
    },
    {
     "name": "stderr",
     "output_type": "stream",
     "text": [
      "\r",
      " 75%|███████▍  | 67306/89773 [02:51<00:42, 523.89it/s]"
     ]
    },
    {
     "name": "stderr",
     "output_type": "stream",
     "text": [
      "\r",
      " 75%|███████▌  | 67364/89773 [02:51<00:41, 538.21it/s]"
     ]
    },
    {
     "name": "stderr",
     "output_type": "stream",
     "text": [
      "\r",
      " 75%|███████▌  | 67421/89773 [02:51<01:38, 226.33it/s]"
     ]
    },
    {
     "name": "stderr",
     "output_type": "stream",
     "text": [
      "\r",
      " 75%|███████▌  | 67479/89773 [02:52<01:20, 277.43it/s]"
     ]
    },
    {
     "name": "stderr",
     "output_type": "stream",
     "text": [
      "\r",
      " 75%|███████▌  | 67537/89773 [02:52<01:07, 328.31it/s]"
     ]
    },
    {
     "name": "stderr",
     "output_type": "stream",
     "text": [
      "\r",
      " 75%|███████▌  | 67591/89773 [02:52<01:00, 368.64it/s]"
     ]
    },
    {
     "name": "stderr",
     "output_type": "stream",
     "text": [
      "\r",
      " 75%|███████▌  | 67649/89773 [02:52<00:53, 414.30it/s]"
     ]
    },
    {
     "name": "stderr",
     "output_type": "stream",
     "text": [
      "\r",
      " 75%|███████▌  | 67708/89773 [02:52<00:48, 454.38it/s]"
     ]
    },
    {
     "name": "stderr",
     "output_type": "stream",
     "text": [
      "\r",
      " 75%|███████▌  | 67766/89773 [02:52<00:45, 485.43it/s]"
     ]
    },
    {
     "name": "stderr",
     "output_type": "stream",
     "text": [
      "\r",
      " 76%|███████▌  | 67824/89773 [02:52<00:43, 508.83it/s]"
     ]
    },
    {
     "name": "stderr",
     "output_type": "stream",
     "text": [
      "\r",
      " 76%|███████▌  | 67882/89773 [02:52<00:41, 527.52it/s]"
     ]
    },
    {
     "name": "stderr",
     "output_type": "stream",
     "text": [
      "\r",
      " 76%|███████▌  | 67939/89773 [02:53<01:34, 230.90it/s]"
     ]
    },
    {
     "name": "stderr",
     "output_type": "stream",
     "text": [
      "\r",
      " 76%|███████▌  | 67997/89773 [02:53<01:17, 281.93it/s]"
     ]
    },
    {
     "name": "stderr",
     "output_type": "stream",
     "text": [
      "\r",
      " 76%|███████▌  | 68045/89773 [02:53<01:13, 297.43it/s]"
     ]
    },
    {
     "name": "stderr",
     "output_type": "stream",
     "text": [
      "\r",
      " 76%|███████▌  | 68104/89773 [02:53<01:01, 352.05it/s]"
     ]
    },
    {
     "name": "stderr",
     "output_type": "stream",
     "text": [
      "\r",
      " 76%|███████▌  | 68163/89773 [02:53<00:53, 401.69it/s]"
     ]
    },
    {
     "name": "stderr",
     "output_type": "stream",
     "text": [
      "\r",
      " 76%|███████▌  | 68221/89773 [02:53<00:48, 443.07it/s]"
     ]
    },
    {
     "name": "stderr",
     "output_type": "stream",
     "text": [
      "\r",
      " 76%|███████▌  | 68279/89773 [02:54<00:45, 476.02it/s]"
     ]
    },
    {
     "name": "stderr",
     "output_type": "stream",
     "text": [
      "\r",
      " 76%|███████▌  | 68334/89773 [02:54<00:48, 440.98it/s]"
     ]
    },
    {
     "name": "stderr",
     "output_type": "stream",
     "text": [
      "\r",
      " 76%|███████▌  | 68392/89773 [02:54<00:45, 475.12it/s]"
     ]
    },
    {
     "name": "stderr",
     "output_type": "stream",
     "text": [
      "\r",
      " 76%|███████▌  | 68444/89773 [02:54<01:40, 212.54it/s]"
     ]
    },
    {
     "name": "stderr",
     "output_type": "stream",
     "text": [
      "\r",
      " 76%|███████▋  | 68503/89773 [02:54<01:20, 265.13it/s]"
     ]
    },
    {
     "name": "stderr",
     "output_type": "stream",
     "text": [
      "\r",
      " 76%|███████▋  | 68562/89773 [02:55<01:06, 318.57it/s]"
     ]
    },
    {
     "name": "stderr",
     "output_type": "stream",
     "text": [
      "\r",
      " 76%|███████▋  | 68621/89773 [02:55<00:57, 369.87it/s]"
     ]
    },
    {
     "name": "stderr",
     "output_type": "stream",
     "text": [
      "\r",
      " 77%|███████▋  | 68680/89773 [02:55<00:50, 415.91it/s]"
     ]
    },
    {
     "name": "stderr",
     "output_type": "stream",
     "text": [
      "\r",
      " 77%|███████▋  | 68739/89773 [02:55<00:46, 455.32it/s]"
     ]
    },
    {
     "name": "stderr",
     "output_type": "stream",
     "text": [
      "\r",
      " 77%|███████▋  | 68798/89773 [02:55<00:43, 487.18it/s]"
     ]
    },
    {
     "name": "stderr",
     "output_type": "stream",
     "text": [
      "\r",
      " 77%|███████▋  | 68856/89773 [02:55<00:40, 511.54it/s]"
     ]
    },
    {
     "name": "stderr",
     "output_type": "stream",
     "text": [
      "\r",
      " 77%|███████▋  | 68915/89773 [02:55<00:39, 530.86it/s]"
     ]
    },
    {
     "name": "stderr",
     "output_type": "stream",
     "text": [
      "\r",
      " 77%|███████▋  | 68973/89773 [02:56<01:53, 183.38it/s]"
     ]
    },
    {
     "name": "stderr",
     "output_type": "stream",
     "text": [
      "\r",
      " 77%|███████▋  | 69016/89773 [02:56<01:48, 191.72it/s]"
     ]
    },
    {
     "name": "stderr",
     "output_type": "stream",
     "text": [
      "\r",
      " 77%|███████▋  | 69053/89773 [02:56<01:40, 206.67it/s]"
     ]
    },
    {
     "name": "stderr",
     "output_type": "stream",
     "text": [
      "\r",
      " 77%|███████▋  | 69087/89773 [02:56<01:34, 218.88it/s]"
     ]
    },
    {
     "name": "stderr",
     "output_type": "stream",
     "text": [
      "\r",
      " 77%|███████▋  | 69119/89773 [02:57<01:29, 230.12it/s]"
     ]
    },
    {
     "name": "stderr",
     "output_type": "stream",
     "text": [
      "\r",
      " 77%|███████▋  | 69150/89773 [02:57<01:25, 241.47it/s]"
     ]
    },
    {
     "name": "stderr",
     "output_type": "stream",
     "text": [
      "\r",
      " 77%|███████▋  | 69180/89773 [02:57<01:22, 250.55it/s]"
     ]
    },
    {
     "name": "stderr",
     "output_type": "stream",
     "text": [
      "\r",
      " 77%|███████▋  | 69210/89773 [02:57<01:20, 256.51it/s]"
     ]
    },
    {
     "name": "stderr",
     "output_type": "stream",
     "text": [
      "\r",
      " 77%|███████▋  | 69239/89773 [02:57<01:33, 219.53it/s]"
     ]
    },
    {
     "name": "stderr",
     "output_type": "stream",
     "text": [
      "\r",
      " 77%|███████▋  | 69264/89773 [02:57<01:41, 201.25it/s]"
     ]
    },
    {
     "name": "stderr",
     "output_type": "stream",
     "text": [
      "\r",
      " 77%|███████▋  | 69302/89773 [02:57<01:25, 240.21it/s]"
     ]
    },
    {
     "name": "stderr",
     "output_type": "stream",
     "text": [
      "\r",
      " 77%|███████▋  | 69331/89773 [02:57<01:21, 250.83it/s]"
     ]
    },
    {
     "name": "stderr",
     "output_type": "stream",
     "text": [
      "\r",
      " 77%|███████▋  | 69360/89773 [02:58<01:18, 259.24it/s]"
     ]
    },
    {
     "name": "stderr",
     "output_type": "stream",
     "text": [
      "\r",
      " 77%|███████▋  | 69391/89773 [02:58<01:15, 271.49it/s]"
     ]
    },
    {
     "name": "stderr",
     "output_type": "stream",
     "text": [
      "\r",
      " 77%|███████▋  | 69437/89773 [02:58<01:03, 322.11it/s]"
     ]
    },
    {
     "name": "stderr",
     "output_type": "stream",
     "text": [
      "\r",
      " 77%|███████▋  | 69488/89773 [02:58<02:28, 137.06it/s]"
     ]
    },
    {
     "name": "stderr",
     "output_type": "stream",
     "text": [
      "\r",
      " 77%|███████▋  | 69514/89773 [02:59<02:21, 143.48it/s]"
     ]
    },
    {
     "name": "stderr",
     "output_type": "stream",
     "text": [
      "\r",
      " 77%|███████▋  | 69539/89773 [02:59<02:07, 158.37it/s]"
     ]
    },
    {
     "name": "stderr",
     "output_type": "stream",
     "text": [
      "\r",
      " 77%|███████▋  | 69563/89773 [02:59<02:08, 156.90it/s]"
     ]
    },
    {
     "name": "stderr",
     "output_type": "stream",
     "text": [
      "\r",
      " 78%|███████▊  | 69584/89773 [02:59<02:10, 154.17it/s]"
     ]
    },
    {
     "name": "stderr",
     "output_type": "stream",
     "text": [
      "\r",
      " 78%|███████▊  | 69604/89773 [02:59<02:04, 161.59it/s]"
     ]
    },
    {
     "name": "stderr",
     "output_type": "stream",
     "text": [
      "\r",
      " 78%|███████▊  | 69633/89773 [02:59<01:46, 188.60it/s]"
     ]
    },
    {
     "name": "stderr",
     "output_type": "stream",
     "text": [
      "\r",
      " 78%|███████▊  | 69661/89773 [02:59<01:35, 210.09it/s]"
     ]
    },
    {
     "name": "stderr",
     "output_type": "stream",
     "text": [
      "\r",
      " 78%|███████▊  | 69690/89773 [02:59<01:27, 229.05it/s]"
     ]
    },
    {
     "name": "stderr",
     "output_type": "stream",
     "text": [
      "\r",
      " 78%|███████▊  | 69723/89773 [02:59<01:19, 253.46it/s]"
     ]
    },
    {
     "name": "stderr",
     "output_type": "stream",
     "text": [
      "\r",
      " 78%|███████▊  | 69752/89773 [03:00<01:16, 261.90it/s]"
     ]
    },
    {
     "name": "stderr",
     "output_type": "stream",
     "text": [
      "\r",
      " 78%|███████▊  | 69781/89773 [03:00<01:14, 268.68it/s]"
     ]
    },
    {
     "name": "stderr",
     "output_type": "stream",
     "text": [
      "\r",
      " 78%|███████▊  | 69810/89773 [03:00<01:13, 273.42it/s]"
     ]
    },
    {
     "name": "stderr",
     "output_type": "stream",
     "text": [
      "\r",
      " 78%|███████▊  | 69839/89773 [03:00<01:12, 276.84it/s]"
     ]
    },
    {
     "name": "stderr",
     "output_type": "stream",
     "text": [
      "\r",
      " 78%|███████▊  | 69873/89773 [03:00<01:07, 294.69it/s]"
     ]
    },
    {
     "name": "stderr",
     "output_type": "stream",
     "text": [
      "\r",
      " 78%|███████▊  | 69932/89773 [03:00<00:52, 380.10it/s]"
     ]
    },
    {
     "name": "stderr",
     "output_type": "stream",
     "text": [
      "\r",
      " 78%|███████▊  | 69990/89773 [03:00<00:45, 438.75it/s]"
     ]
    },
    {
     "name": "stderr",
     "output_type": "stream",
     "text": [
      "\r",
      " 78%|███████▊  | 70035/89773 [03:01<02:08, 153.44it/s]"
     ]
    },
    {
     "name": "stderr",
     "output_type": "stream",
     "text": [
      "\r",
      " 78%|███████▊  | 70075/89773 [03:01<01:46, 184.79it/s]"
     ]
    },
    {
     "name": "stderr",
     "output_type": "stream",
     "text": [
      "\r",
      " 78%|███████▊  | 70110/89773 [03:01<01:38, 198.94it/s]"
     ]
    },
    {
     "name": "stderr",
     "output_type": "stream",
     "text": [
      "\r",
      " 78%|███████▊  | 70150/89773 [03:01<01:24, 233.09it/s]"
     ]
    },
    {
     "name": "stderr",
     "output_type": "stream",
     "text": [
      "\r",
      " 78%|███████▊  | 70195/89773 [03:01<01:11, 274.93it/s]"
     ]
    },
    {
     "name": "stderr",
     "output_type": "stream",
     "text": [
      "\r",
      " 78%|███████▊  | 70233/89773 [03:02<01:11, 275.18it/s]"
     ]
    },
    {
     "name": "stderr",
     "output_type": "stream",
     "text": [
      "\r",
      " 78%|███████▊  | 70279/89773 [03:02<01:01, 316.47it/s]"
     ]
    },
    {
     "name": "stderr",
     "output_type": "stream",
     "text": [
      "\r",
      " 78%|███████▊  | 70337/89773 [03:02<00:51, 379.71it/s]"
     ]
    },
    {
     "name": "stderr",
     "output_type": "stream",
     "text": [
      "\r",
      " 78%|███████▊  | 70395/89773 [03:02<00:44, 431.18it/s]"
     ]
    },
    {
     "name": "stderr",
     "output_type": "stream",
     "text": [
      "\r",
      " 78%|███████▊  | 70453/89773 [03:02<00:41, 469.23it/s]"
     ]
    },
    {
     "name": "stderr",
     "output_type": "stream",
     "text": [
      "\r",
      " 79%|███████▊  | 70508/89773 [03:02<00:39, 490.81it/s]"
     ]
    },
    {
     "name": "stderr",
     "output_type": "stream",
     "text": [
      "\r",
      " 79%|███████▊  | 70565/89773 [03:02<00:37, 512.84it/s]"
     ]
    },
    {
     "name": "stderr",
     "output_type": "stream",
     "text": [
      "\r",
      " 79%|███████▊  | 70619/89773 [03:03<01:34, 202.13it/s]"
     ]
    },
    {
     "name": "stderr",
     "output_type": "stream",
     "text": [
      "\r",
      " 79%|███████▊  | 70677/89773 [03:03<01:15, 254.06it/s]"
     ]
    },
    {
     "name": "stderr",
     "output_type": "stream",
     "text": [
      "\r",
      " 79%|███████▉  | 70735/89773 [03:03<01:01, 307.46it/s]"
     ]
    },
    {
     "name": "stderr",
     "output_type": "stream",
     "text": [
      "\r",
      " 79%|███████▉  | 70793/89773 [03:03<00:52, 358.65it/s]"
     ]
    },
    {
     "name": "stderr",
     "output_type": "stream",
     "text": [
      "\r",
      " 79%|███████▉  | 70851/89773 [03:03<00:46, 405.57it/s]"
     ]
    },
    {
     "name": "stderr",
     "output_type": "stream",
     "text": [
      "\r",
      " 79%|███████▉  | 70905/89773 [03:03<00:43, 431.98it/s]"
     ]
    },
    {
     "name": "stderr",
     "output_type": "stream",
     "text": [
      "\r",
      " 79%|███████▉  | 70959/89773 [03:03<00:41, 458.50it/s]"
     ]
    },
    {
     "name": "stderr",
     "output_type": "stream",
     "text": [
      "\r",
      " 79%|███████▉  | 71017/89773 [03:03<00:38, 488.69it/s]"
     ]
    },
    {
     "name": "stderr",
     "output_type": "stream",
     "text": [
      "\r",
      " 79%|███████▉  | 71075/89773 [03:04<00:36, 512.92it/s]"
     ]
    },
    {
     "name": "stderr",
     "output_type": "stream",
     "text": [
      "\r",
      " 79%|███████▉  | 71131/89773 [03:04<01:25, 218.16it/s]"
     ]
    },
    {
     "name": "stderr",
     "output_type": "stream",
     "text": [
      "\r",
      " 79%|███████▉  | 71187/89773 [03:04<01:09, 266.47it/s]"
     ]
    },
    {
     "name": "stderr",
     "output_type": "stream",
     "text": [
      "\r",
      " 79%|███████▉  | 71245/89773 [03:04<00:58, 318.60it/s]"
     ]
    },
    {
     "name": "stderr",
     "output_type": "stream",
     "text": [
      "\r",
      " 79%|███████▉  | 71303/89773 [03:04<00:50, 369.02it/s]"
     ]
    },
    {
     "name": "stderr",
     "output_type": "stream",
     "text": [
      "\r",
      " 79%|███████▉  | 71362/89773 [03:05<00:44, 415.53it/s]"
     ]
    },
    {
     "name": "stderr",
     "output_type": "stream",
     "text": [
      "\r",
      " 80%|███████▉  | 71420/89773 [03:05<00:40, 453.98it/s]"
     ]
    },
    {
     "name": "stderr",
     "output_type": "stream",
     "text": [
      "\r",
      " 80%|███████▉  | 71475/89773 [03:05<00:39, 458.60it/s]"
     ]
    },
    {
     "name": "stderr",
     "output_type": "stream",
     "text": [
      "\r",
      " 80%|███████▉  | 71528/89773 [03:05<00:40, 451.37it/s]"
     ]
    },
    {
     "name": "stderr",
     "output_type": "stream",
     "text": [
      "\r",
      " 80%|███████▉  | 71586/89773 [03:05<00:37, 482.94it/s]"
     ]
    },
    {
     "name": "stderr",
     "output_type": "stream",
     "text": [
      "\r",
      " 80%|███████▉  | 71644/89773 [03:05<00:35, 508.48it/s]"
     ]
    },
    {
     "name": "stderr",
     "output_type": "stream",
     "text": [
      "\r",
      " 80%|███████▉  | 71698/89773 [03:06<01:24, 213.40it/s]"
     ]
    },
    {
     "name": "stderr",
     "output_type": "stream",
     "text": [
      "\r",
      " 80%|███████▉  | 71756/89773 [03:06<01:08, 264.55it/s]"
     ]
    },
    {
     "name": "stderr",
     "output_type": "stream",
     "text": [
      "\r",
      " 80%|███████▉  | 71814/89773 [03:06<00:56, 316.95it/s]"
     ]
    },
    {
     "name": "stderr",
     "output_type": "stream",
     "text": [
      "\r",
      " 80%|████████  | 71871/89773 [03:06<00:48, 365.61it/s]"
     ]
    },
    {
     "name": "stderr",
     "output_type": "stream",
     "text": [
      "\r",
      " 80%|████████  | 71929/89773 [03:06<00:43, 411.09it/s]"
     ]
    },
    {
     "name": "stderr",
     "output_type": "stream",
     "text": [
      "\r",
      " 80%|████████  | 71986/89773 [03:06<00:39, 447.30it/s]"
     ]
    },
    {
     "name": "stderr",
     "output_type": "stream",
     "text": [
      "\r",
      " 80%|████████  | 72041/89773 [03:06<00:37, 471.00it/s]"
     ]
    },
    {
     "name": "stderr",
     "output_type": "stream",
     "text": [
      "\r",
      " 80%|████████  | 72099/89773 [03:06<00:35, 498.64it/s]"
     ]
    },
    {
     "name": "stderr",
     "output_type": "stream",
     "text": [
      "\r",
      " 80%|████████  | 72156/89773 [03:07<00:34, 516.51it/s]"
     ]
    },
    {
     "name": "stderr",
     "output_type": "stream",
     "text": [
      "\r",
      " 80%|████████  | 72212/89773 [03:07<01:22, 214.13it/s]"
     ]
    },
    {
     "name": "stderr",
     "output_type": "stream",
     "text": [
      "\r",
      " 81%|████████  | 72270/89773 [03:07<01:06, 264.81it/s]"
     ]
    },
    {
     "name": "stderr",
     "output_type": "stream",
     "text": [
      "\r",
      " 81%|████████  | 72328/89773 [03:07<00:55, 316.88it/s]"
     ]
    },
    {
     "name": "stderr",
     "output_type": "stream",
     "text": [
      "\r",
      " 81%|████████  | 72387/89773 [03:07<00:47, 368.23it/s]"
     ]
    },
    {
     "name": "stderr",
     "output_type": "stream",
     "text": [
      "\r",
      " 81%|████████  | 72446/89773 [03:08<00:41, 414.56it/s]"
     ]
    },
    {
     "name": "stderr",
     "output_type": "stream",
     "text": [
      "\r",
      " 81%|████████  | 72505/89773 [03:08<00:37, 454.42it/s]"
     ]
    },
    {
     "name": "stderr",
     "output_type": "stream",
     "text": [
      "\r",
      " 81%|████████  | 72564/89773 [03:08<00:35, 486.72it/s]"
     ]
    },
    {
     "name": "stderr",
     "output_type": "stream",
     "text": [
      "\r",
      " 81%|████████  | 72623/89773 [03:08<00:33, 512.12it/s]"
     ]
    },
    {
     "name": "stderr",
     "output_type": "stream",
     "text": [
      "\r",
      " 81%|████████  | 72682/89773 [03:08<00:32, 531.11it/s]"
     ]
    },
    {
     "name": "stderr",
     "output_type": "stream",
     "text": [
      "\r",
      " 81%|████████  | 72740/89773 [03:09<01:16, 223.92it/s]"
     ]
    },
    {
     "name": "stderr",
     "output_type": "stream",
     "text": [
      "\r",
      " 81%|████████  | 72798/89773 [03:09<01:01, 274.00it/s]"
     ]
    },
    {
     "name": "stderr",
     "output_type": "stream",
     "text": [
      "\r",
      " 81%|████████  | 72856/89773 [03:09<00:52, 325.19it/s]"
     ]
    },
    {
     "name": "stderr",
     "output_type": "stream",
     "text": [
      "\r",
      " 81%|████████  | 72915/89773 [03:09<00:44, 375.32it/s]"
     ]
    },
    {
     "name": "stderr",
     "output_type": "stream",
     "text": [
      "\r",
      " 81%|████████▏ | 72974/89773 [03:09<00:39, 420.45it/s]"
     ]
    },
    {
     "name": "stderr",
     "output_type": "stream",
     "text": [
      "\r",
      " 81%|████████▏ | 73033/89773 [03:09<00:36, 459.10it/s]"
     ]
    },
    {
     "name": "stderr",
     "output_type": "stream",
     "text": [
      "\r",
      " 81%|████████▏ | 73092/89773 [03:09<00:34, 489.98it/s]"
     ]
    },
    {
     "name": "stderr",
     "output_type": "stream",
     "text": [
      "\r",
      " 81%|████████▏ | 73151/89773 [03:09<00:32, 514.17it/s]"
     ]
    },
    {
     "name": "stderr",
     "output_type": "stream",
     "text": [
      "\r",
      " 82%|████████▏ | 73210/89773 [03:09<00:31, 532.60it/s]"
     ]
    },
    {
     "name": "stderr",
     "output_type": "stream",
     "text": [
      "\r",
      " 82%|████████▏ | 73269/89773 [03:10<00:30, 546.76it/s]"
     ]
    },
    {
     "name": "stderr",
     "output_type": "stream",
     "text": [
      "\r",
      " 82%|████████▏ | 73327/89773 [03:10<01:12, 226.35it/s]"
     ]
    },
    {
     "name": "stderr",
     "output_type": "stream",
     "text": [
      "\r",
      " 82%|████████▏ | 73386/89773 [03:10<00:59, 277.30it/s]"
     ]
    },
    {
     "name": "stderr",
     "output_type": "stream",
     "text": [
      "\r",
      " 82%|████████▏ | 73445/89773 [03:10<00:49, 329.13it/s]"
     ]
    },
    {
     "name": "stderr",
     "output_type": "stream",
     "text": [
      "\r",
      " 82%|████████▏ | 73504/89773 [03:10<00:42, 378.39it/s]"
     ]
    },
    {
     "name": "stderr",
     "output_type": "stream",
     "text": [
      "\r",
      " 82%|████████▏ | 73563/89773 [03:11<00:38, 422.66it/s]"
     ]
    },
    {
     "name": "stderr",
     "output_type": "stream",
     "text": [
      "\r",
      " 82%|████████▏ | 73621/89773 [03:11<00:35, 459.25it/s]"
     ]
    },
    {
     "name": "stderr",
     "output_type": "stream",
     "text": [
      "\r",
      " 82%|████████▏ | 73679/89773 [03:11<00:32, 489.57it/s]"
     ]
    },
    {
     "name": "stderr",
     "output_type": "stream",
     "text": [
      "\r",
      " 82%|████████▏ | 73737/89773 [03:11<00:31, 512.62it/s]"
     ]
    },
    {
     "name": "stderr",
     "output_type": "stream",
     "text": [
      "\r",
      " 82%|████████▏ | 73795/89773 [03:11<00:30, 530.17it/s]"
     ]
    },
    {
     "name": "stderr",
     "output_type": "stream",
     "text": [
      "\r",
      " 82%|████████▏ | 73852/89773 [03:12<01:11, 221.43it/s]"
     ]
    },
    {
     "name": "stderr",
     "output_type": "stream",
     "text": [
      "\r",
      " 82%|████████▏ | 73910/89773 [03:12<00:58, 271.93it/s]"
     ]
    },
    {
     "name": "stderr",
     "output_type": "stream",
     "text": [
      "\r",
      " 82%|████████▏ | 73969/89773 [03:12<00:48, 324.38it/s]"
     ]
    },
    {
     "name": "stderr",
     "output_type": "stream",
     "text": [
      "\r",
      " 82%|████████▏ | 74028/89773 [03:12<00:42, 374.50it/s]"
     ]
    },
    {
     "name": "stderr",
     "output_type": "stream",
     "text": [
      "\r",
      " 83%|████████▎ | 74086/89773 [03:12<00:37, 417.63it/s]"
     ]
    },
    {
     "name": "stderr",
     "output_type": "stream",
     "text": [
      "\r",
      " 83%|████████▎ | 74144/89773 [03:12<00:34, 454.55it/s]"
     ]
    },
    {
     "name": "stderr",
     "output_type": "stream",
     "text": [
      "\r",
      " 83%|████████▎ | 74202/89773 [03:12<00:32, 484.93it/s]"
     ]
    },
    {
     "name": "stderr",
     "output_type": "stream",
     "text": [
      "\r",
      " 83%|████████▎ | 74260/89773 [03:12<00:30, 509.47it/s]"
     ]
    },
    {
     "name": "stderr",
     "output_type": "stream",
     "text": [
      "\r",
      " 83%|████████▎ | 74318/89773 [03:12<00:29, 528.63it/s]"
     ]
    },
    {
     "name": "stderr",
     "output_type": "stream",
     "text": [
      "\r",
      " 83%|████████▎ | 74375/89773 [03:13<01:11, 214.65it/s]"
     ]
    },
    {
     "name": "stderr",
     "output_type": "stream",
     "text": [
      "\r",
      " 83%|████████▎ | 74433/89773 [03:13<00:57, 264.64it/s]"
     ]
    },
    {
     "name": "stderr",
     "output_type": "stream",
     "text": [
      "\r",
      " 83%|████████▎ | 74491/89773 [03:13<00:48, 316.09it/s]"
     ]
    },
    {
     "name": "stderr",
     "output_type": "stream",
     "text": [
      "\r",
      " 83%|████████▎ | 74549/89773 [03:13<00:41, 365.84it/s]"
     ]
    },
    {
     "name": "stderr",
     "output_type": "stream",
     "text": [
      "\r",
      " 83%|████████▎ | 74607/89773 [03:13<00:36, 411.28it/s]"
     ]
    },
    {
     "name": "stderr",
     "output_type": "stream",
     "text": [
      "\r",
      " 83%|████████▎ | 74665/89773 [03:13<00:33, 450.23it/s]"
     ]
    },
    {
     "name": "stderr",
     "output_type": "stream",
     "text": [
      "\r",
      " 83%|████████▎ | 74723/89773 [03:14<00:31, 482.17it/s]"
     ]
    },
    {
     "name": "stderr",
     "output_type": "stream",
     "text": [
      "\r",
      " 83%|████████▎ | 74781/89773 [03:14<00:29, 507.87it/s]"
     ]
    },
    {
     "name": "stderr",
     "output_type": "stream",
     "text": [
      "\r",
      " 83%|████████▎ | 74839/89773 [03:14<00:28, 526.11it/s]"
     ]
    },
    {
     "name": "stderr",
     "output_type": "stream",
     "text": [
      "\r",
      " 83%|████████▎ | 74897/89773 [03:14<00:27, 540.87it/s]"
     ]
    },
    {
     "name": "stderr",
     "output_type": "stream",
     "text": [
      "\r",
      " 83%|████████▎ | 74955/89773 [03:15<01:06, 222.95it/s]"
     ]
    },
    {
     "name": "stderr",
     "output_type": "stream",
     "text": [
      "\r",
      " 84%|████████▎ | 75013/89773 [03:15<00:54, 273.32it/s]"
     ]
    },
    {
     "name": "stderr",
     "output_type": "stream",
     "text": [
      "\r",
      " 84%|████████▎ | 75072/89773 [03:15<00:45, 325.66it/s]"
     ]
    },
    {
     "name": "stderr",
     "output_type": "stream",
     "text": [
      "\r",
      " 84%|████████▎ | 75130/89773 [03:15<00:39, 374.66it/s]"
     ]
    },
    {
     "name": "stderr",
     "output_type": "stream",
     "text": [
      "\r",
      " 84%|████████▍ | 75188/89773 [03:15<00:34, 418.83it/s]"
     ]
    },
    {
     "name": "stderr",
     "output_type": "stream",
     "text": [
      "\r",
      " 84%|████████▍ | 75246/89773 [03:15<00:31, 456.41it/s]"
     ]
    },
    {
     "name": "stderr",
     "output_type": "stream",
     "text": [
      "\r",
      " 84%|████████▍ | 75304/89773 [03:15<00:29, 487.28it/s]"
     ]
    },
    {
     "name": "stderr",
     "output_type": "stream",
     "text": [
      "\r",
      " 84%|████████▍ | 75362/89773 [03:15<00:28, 511.36it/s]"
     ]
    },
    {
     "name": "stderr",
     "output_type": "stream",
     "text": [
      "\r",
      " 84%|████████▍ | 75420/89773 [03:15<00:27, 529.50it/s]"
     ]
    },
    {
     "name": "stderr",
     "output_type": "stream",
     "text": [
      "\r",
      " 84%|████████▍ | 75477/89773 [03:16<01:05, 218.68it/s]"
     ]
    },
    {
     "name": "stderr",
     "output_type": "stream",
     "text": [
      "\r",
      " 84%|████████▍ | 75535/89773 [03:16<00:52, 268.98it/s]"
     ]
    },
    {
     "name": "stderr",
     "output_type": "stream",
     "text": [
      "\r",
      " 84%|████████▍ | 75593/89773 [03:16<00:44, 320.51it/s]"
     ]
    },
    {
     "name": "stderr",
     "output_type": "stream",
     "text": [
      "\r",
      " 84%|████████▍ | 75651/89773 [03:16<00:38, 369.81it/s]"
     ]
    },
    {
     "name": "stderr",
     "output_type": "stream",
     "text": [
      "\r",
      " 84%|████████▍ | 75709/89773 [03:16<00:33, 414.86it/s]"
     ]
    },
    {
     "name": "stderr",
     "output_type": "stream",
     "text": [
      "\r",
      " 84%|████████▍ | 75767/89773 [03:16<00:30, 453.30it/s]"
     ]
    },
    {
     "name": "stderr",
     "output_type": "stream",
     "text": [
      "\r",
      " 84%|████████▍ | 75825/89773 [03:17<00:28, 484.13it/s]"
     ]
    },
    {
     "name": "stderr",
     "output_type": "stream",
     "text": [
      "\r",
      " 85%|████████▍ | 75883/89773 [03:17<00:27, 509.01it/s]"
     ]
    },
    {
     "name": "stderr",
     "output_type": "stream",
     "text": [
      "\r",
      " 85%|████████▍ | 75942/89773 [03:17<00:26, 528.93it/s]"
     ]
    },
    {
     "name": "stderr",
     "output_type": "stream",
     "text": [
      "\r",
      " 85%|████████▍ | 75999/89773 [03:17<01:03, 218.58it/s]"
     ]
    },
    {
     "name": "stderr",
     "output_type": "stream",
     "text": [
      "\r",
      " 85%|████████▍ | 76057/89773 [03:17<00:51, 268.76it/s]"
     ]
    },
    {
     "name": "stderr",
     "output_type": "stream",
     "text": [
      "\r",
      " 85%|████████▍ | 76115/89773 [03:18<00:42, 320.11it/s]"
     ]
    },
    {
     "name": "stderr",
     "output_type": "stream",
     "text": [
      "\r",
      " 85%|████████▍ | 76173/89773 [03:18<00:36, 369.67it/s]"
     ]
    },
    {
     "name": "stderr",
     "output_type": "stream",
     "text": [
      "\r",
      " 85%|████████▍ | 76231/89773 [03:18<00:32, 413.85it/s]"
     ]
    },
    {
     "name": "stderr",
     "output_type": "stream",
     "text": [
      "\r",
      " 85%|████████▍ | 76288/89773 [03:18<00:29, 450.03it/s]"
     ]
    },
    {
     "name": "stderr",
     "output_type": "stream",
     "text": [
      "\r",
      " 85%|████████▌ | 76346/89773 [03:18<00:27, 480.97it/s]"
     ]
    },
    {
     "name": "stderr",
     "output_type": "stream",
     "text": [
      "\r",
      " 85%|████████▌ | 76404/89773 [03:18<00:26, 505.67it/s]"
     ]
    },
    {
     "name": "stderr",
     "output_type": "stream",
     "text": [
      "\r",
      " 85%|████████▌ | 76462/89773 [03:18<00:25, 523.86it/s]"
     ]
    },
    {
     "name": "stderr",
     "output_type": "stream",
     "text": [
      "\r",
      " 85%|████████▌ | 76520/89773 [03:18<00:24, 538.55it/s]"
     ]
    },
    {
     "name": "stderr",
     "output_type": "stream",
     "text": [
      "\r",
      " 85%|████████▌ | 76577/89773 [03:19<01:01, 214.63it/s]"
     ]
    },
    {
     "name": "stderr",
     "output_type": "stream",
     "text": [
      "\r",
      " 85%|████████▌ | 76635/89773 [03:19<00:49, 264.80it/s]"
     ]
    },
    {
     "name": "stderr",
     "output_type": "stream",
     "text": [
      "\r",
      " 85%|████████▌ | 76693/89773 [03:19<00:41, 316.23it/s]"
     ]
    },
    {
     "name": "stderr",
     "output_type": "stream",
     "text": [
      "\r",
      " 85%|████████▌ | 76751/89773 [03:19<00:35, 365.93it/s]"
     ]
    },
    {
     "name": "stderr",
     "output_type": "stream",
     "text": [
      "\r",
      " 86%|████████▌ | 76809/89773 [03:19<00:31, 410.82it/s]"
     ]
    },
    {
     "name": "stderr",
     "output_type": "stream",
     "text": [
      "\r",
      " 86%|████████▌ | 76867/89773 [03:19<00:28, 449.84it/s]"
     ]
    },
    {
     "name": "stderr",
     "output_type": "stream",
     "text": [
      "\r",
      " 86%|████████▌ | 76925/89773 [03:20<00:26, 481.98it/s]"
     ]
    },
    {
     "name": "stderr",
     "output_type": "stream",
     "text": [
      "\r",
      " 86%|████████▌ | 76983/89773 [03:20<00:25, 507.35it/s]"
     ]
    },
    {
     "name": "stderr",
     "output_type": "stream",
     "text": [
      "\r",
      " 86%|████████▌ | 77041/89773 [03:20<00:24, 525.72it/s]"
     ]
    },
    {
     "name": "stderr",
     "output_type": "stream",
     "text": [
      "\r",
      " 86%|████████▌ | 77098/89773 [03:20<00:58, 217.00it/s]"
     ]
    },
    {
     "name": "stderr",
     "output_type": "stream",
     "text": [
      "\r",
      " 86%|████████▌ | 77156/89773 [03:20<00:47, 267.25it/s]"
     ]
    },
    {
     "name": "stderr",
     "output_type": "stream",
     "text": [
      "\r",
      " 86%|████████▌ | 77214/89773 [03:21<00:39, 318.71it/s]"
     ]
    },
    {
     "name": "stderr",
     "output_type": "stream",
     "text": [
      "\r",
      " 86%|████████▌ | 77272/89773 [03:21<00:33, 368.26it/s]"
     ]
    },
    {
     "name": "stderr",
     "output_type": "stream",
     "text": [
      "\r",
      " 86%|████████▌ | 77330/89773 [03:21<00:30, 413.33it/s]"
     ]
    },
    {
     "name": "stderr",
     "output_type": "stream",
     "text": [
      "\r",
      " 86%|████████▌ | 77388/89773 [03:21<00:27, 452.15it/s]"
     ]
    },
    {
     "name": "stderr",
     "output_type": "stream",
     "text": [
      "\r",
      " 86%|████████▋ | 77446/89773 [03:21<00:25, 483.04it/s]"
     ]
    },
    {
     "name": "stderr",
     "output_type": "stream",
     "text": [
      "\r",
      " 86%|████████▋ | 77504/89773 [03:21<00:24, 508.13it/s]"
     ]
    },
    {
     "name": "stderr",
     "output_type": "stream",
     "text": [
      "\r",
      " 86%|████████▋ | 77562/89773 [03:21<00:23, 527.32it/s]"
     ]
    },
    {
     "name": "stderr",
     "output_type": "stream",
     "text": [
      "\r",
      " 86%|████████▋ | 77619/89773 [03:22<00:56, 213.76it/s]"
     ]
    },
    {
     "name": "stderr",
     "output_type": "stream",
     "text": [
      "\r",
      " 87%|████████▋ | 77677/89773 [03:22<00:45, 263.76it/s]"
     ]
    },
    {
     "name": "stderr",
     "output_type": "stream",
     "text": [
      "\r",
      " 87%|████████▋ | 77730/89773 [03:22<00:39, 307.17it/s]"
     ]
    },
    {
     "name": "stderr",
     "output_type": "stream",
     "text": [
      "\r",
      " 87%|████████▋ | 77779/89773 [03:22<00:39, 301.09it/s]"
     ]
    },
    {
     "name": "stderr",
     "output_type": "stream",
     "text": [
      "\r",
      " 87%|████████▋ | 77822/89773 [03:22<00:40, 297.44it/s]"
     ]
    },
    {
     "name": "stderr",
     "output_type": "stream",
     "text": [
      "\r",
      " 87%|████████▋ | 77861/89773 [03:22<00:40, 294.57it/s]"
     ]
    },
    {
     "name": "stderr",
     "output_type": "stream",
     "text": [
      "\r",
      " 87%|████████▋ | 77897/89773 [03:23<00:40, 292.57it/s]"
     ]
    },
    {
     "name": "stderr",
     "output_type": "stream",
     "text": [
      "\r",
      " 87%|████████▋ | 77931/89773 [03:23<00:40, 290.68it/s]"
     ]
    },
    {
     "name": "stderr",
     "output_type": "stream",
     "text": [
      "\r",
      " 87%|████████▋ | 77963/89773 [03:23<00:40, 289.34it/s]"
     ]
    },
    {
     "name": "stderr",
     "output_type": "stream",
     "text": [
      "\r",
      " 87%|████████▋ | 77994/89773 [03:23<00:40, 288.41it/s]"
     ]
    },
    {
     "name": "stderr",
     "output_type": "stream",
     "text": [
      "\r",
      " 87%|████████▋ | 78025/89773 [03:23<00:40, 287.40it/s]"
     ]
    },
    {
     "name": "stderr",
     "output_type": "stream",
     "text": [
      "\r",
      " 87%|████████▋ | 78055/89773 [03:23<00:40, 286.91it/s]"
     ]
    },
    {
     "name": "stderr",
     "output_type": "stream",
     "text": [
      "\r",
      " 87%|████████▋ | 78095/89773 [03:23<00:36, 317.35it/s]"
     ]
    },
    {
     "name": "stderr",
     "output_type": "stream",
     "text": [
      "\r",
      " 87%|████████▋ | 78153/89773 [03:23<00:29, 390.02it/s]"
     ]
    },
    {
     "name": "stderr",
     "output_type": "stream",
     "text": [
      "\r",
      " 87%|████████▋ | 78194/89773 [03:24<01:28, 131.27it/s]"
     ]
    },
    {
     "name": "stderr",
     "output_type": "stream",
     "text": [
      "\r",
      " 87%|████████▋ | 78224/89773 [03:24<01:16, 150.40it/s]"
     ]
    },
    {
     "name": "stderr",
     "output_type": "stream",
     "text": [
      "\r",
      " 87%|████████▋ | 78254/89773 [03:24<01:07, 170.85it/s]"
     ]
    },
    {
     "name": "stderr",
     "output_type": "stream",
     "text": [
      "\r",
      " 87%|████████▋ | 78284/89773 [03:24<01:00, 191.24it/s]"
     ]
    },
    {
     "name": "stderr",
     "output_type": "stream",
     "text": [
      "\r",
      " 87%|████████▋ | 78317/89773 [03:25<00:52, 217.69it/s]"
     ]
    },
    {
     "name": "stderr",
     "output_type": "stream",
     "text": [
      "\r",
      " 87%|████████▋ | 78376/89773 [03:25<00:38, 297.86it/s]"
     ]
    },
    {
     "name": "stderr",
     "output_type": "stream",
     "text": [
      "\r",
      " 87%|████████▋ | 78415/89773 [03:25<00:35, 317.35it/s]"
     ]
    },
    {
     "name": "stderr",
     "output_type": "stream",
     "text": [
      "\r",
      " 87%|████████▋ | 78454/89773 [03:25<00:36, 306.51it/s]"
     ]
    },
    {
     "name": "stderr",
     "output_type": "stream",
     "text": [
      "\r",
      " 87%|████████▋ | 78490/89773 [03:25<00:36, 312.91it/s]"
     ]
    },
    {
     "name": "stderr",
     "output_type": "stream",
     "text": [
      "\r",
      " 87%|████████▋ | 78549/89773 [03:25<00:29, 382.75it/s]"
     ]
    },
    {
     "name": "stderr",
     "output_type": "stream",
     "text": [
      "\r",
      " 88%|████████▊ | 78591/89773 [03:25<00:31, 359.63it/s]"
     ]
    },
    {
     "name": "stderr",
     "output_type": "stream",
     "text": [
      "\r",
      " 88%|████████▊ | 78633/89773 [03:25<00:29, 373.75it/s]"
     ]
    },
    {
     "name": "stderr",
     "output_type": "stream",
     "text": [
      "\r",
      " 88%|████████▊ | 78679/89773 [03:25<00:28, 395.64it/s]"
     ]
    },
    {
     "name": "stderr",
     "output_type": "stream",
     "text": [
      "\r",
      " 88%|████████▊ | 78721/89773 [03:26<01:16, 145.37it/s]"
     ]
    },
    {
     "name": "stderr",
     "output_type": "stream",
     "text": [
      "\r",
      " 88%|████████▊ | 78779/89773 [03:26<00:55, 199.60it/s]"
     ]
    },
    {
     "name": "stderr",
     "output_type": "stream",
     "text": [
      "\r",
      " 88%|████████▊ | 78837/89773 [03:26<00:42, 257.16it/s]"
     ]
    },
    {
     "name": "stderr",
     "output_type": "stream",
     "text": [
      "\r",
      " 88%|████████▊ | 78895/89773 [03:26<00:34, 314.56it/s]"
     ]
    },
    {
     "name": "stderr",
     "output_type": "stream",
     "text": [
      "\r",
      " 88%|████████▊ | 78954/89773 [03:27<00:29, 369.23it/s]"
     ]
    },
    {
     "name": "stderr",
     "output_type": "stream",
     "text": [
      "\r",
      " 88%|████████▊ | 79012/89773 [03:27<00:25, 415.62it/s]"
     ]
    },
    {
     "name": "stderr",
     "output_type": "stream",
     "text": [
      "\r",
      " 88%|████████▊ | 79066/89773 [03:27<00:24, 442.79it/s]"
     ]
    },
    {
     "name": "stderr",
     "output_type": "stream",
     "text": [
      "\r",
      " 88%|████████▊ | 79124/89773 [03:27<00:22, 477.49it/s]"
     ]
    },
    {
     "name": "stderr",
     "output_type": "stream",
     "text": [
      "\r",
      " 88%|████████▊ | 79182/89773 [03:27<00:20, 504.42it/s]"
     ]
    },
    {
     "name": "stderr",
     "output_type": "stream",
     "text": [
      "\r",
      " 88%|████████▊ | 79240/89773 [03:27<00:20, 524.38it/s]"
     ]
    },
    {
     "name": "stderr",
     "output_type": "stream",
     "text": [
      "\r",
      " 88%|████████▊ | 79297/89773 [03:28<00:50, 208.41it/s]"
     ]
    },
    {
     "name": "stderr",
     "output_type": "stream",
     "text": [
      "\r",
      " 88%|████████▊ | 79344/89773 [03:28<00:42, 243.61it/s]"
     ]
    },
    {
     "name": "stderr",
     "output_type": "stream",
     "text": [
      "\r",
      " 88%|████████▊ | 79388/89773 [03:28<00:38, 270.98it/s]"
     ]
    },
    {
     "name": "stderr",
     "output_type": "stream",
     "text": [
      "\r",
      " 88%|████████▊ | 79447/89773 [03:28<00:31, 329.41it/s]"
     ]
    },
    {
     "name": "stderr",
     "output_type": "stream",
     "text": [
      "\r",
      " 89%|████████▊ | 79506/89773 [03:28<00:26, 383.06it/s]"
     ]
    },
    {
     "name": "stderr",
     "output_type": "stream",
     "text": [
      "\r",
      " 89%|████████▊ | 79565/89773 [03:28<00:23, 429.23it/s]"
     ]
    },
    {
     "name": "stderr",
     "output_type": "stream",
     "text": [
      "\r",
      " 89%|████████▊ | 79624/89773 [03:28<00:21, 467.41it/s]"
     ]
    },
    {
     "name": "stderr",
     "output_type": "stream",
     "text": [
      "\r",
      " 89%|████████▉ | 79679/89773 [03:29<00:23, 435.64it/s]"
     ]
    },
    {
     "name": "stderr",
     "output_type": "stream",
     "text": [
      "\r",
      " 89%|████████▉ | 79738/89773 [03:29<00:21, 472.25it/s]"
     ]
    },
    {
     "name": "stderr",
     "output_type": "stream",
     "text": [
      "\r",
      " 89%|████████▉ | 79796/89773 [03:29<00:19, 500.05it/s]"
     ]
    },
    {
     "name": "stderr",
     "output_type": "stream",
     "text": [
      "\r",
      " 89%|████████▉ | 79850/89773 [03:29<00:48, 203.74it/s]"
     ]
    },
    {
     "name": "stderr",
     "output_type": "stream",
     "text": [
      "\r",
      " 89%|████████▉ | 79908/89773 [03:29<00:38, 254.04it/s]"
     ]
    },
    {
     "name": "stderr",
     "output_type": "stream",
     "text": [
      "\r",
      " 89%|████████▉ | 79967/89773 [03:30<00:31, 307.36it/s]"
     ]
    },
    {
     "name": "stderr",
     "output_type": "stream",
     "text": [
      "\r",
      " 89%|████████▉ | 80025/89773 [03:30<00:27, 357.84it/s]"
     ]
    },
    {
     "name": "stderr",
     "output_type": "stream",
     "text": [
      "\r",
      " 89%|████████▉ | 80083/89773 [03:30<00:24, 403.29it/s]"
     ]
    },
    {
     "name": "stderr",
     "output_type": "stream",
     "text": [
      "\r",
      " 89%|████████▉ | 80141/89773 [03:30<00:21, 443.48it/s]"
     ]
    },
    {
     "name": "stderr",
     "output_type": "stream",
     "text": [
      "\r",
      " 89%|████████▉ | 80199/89773 [03:30<00:20, 476.92it/s]"
     ]
    },
    {
     "name": "stderr",
     "output_type": "stream",
     "text": [
      "\r",
      " 89%|████████▉ | 80257/89773 [03:30<00:18, 502.20it/s]"
     ]
    },
    {
     "name": "stderr",
     "output_type": "stream",
     "text": [
      "\r",
      " 89%|████████▉ | 80315/89773 [03:30<00:18, 522.71it/s]"
     ]
    },
    {
     "name": "stderr",
     "output_type": "stream",
     "text": [
      "\r",
      " 90%|████████▉ | 80373/89773 [03:30<00:17, 538.09it/s]"
     ]
    },
    {
     "name": "stderr",
     "output_type": "stream",
     "text": [
      "\r",
      " 90%|████████▉ | 80430/89773 [03:31<00:45, 206.74it/s]"
     ]
    },
    {
     "name": "stderr",
     "output_type": "stream",
     "text": [
      "\r",
      " 90%|████████▉ | 80488/89773 [03:31<00:36, 256.43it/s]"
     ]
    },
    {
     "name": "stderr",
     "output_type": "stream",
     "text": [
      "\r",
      " 90%|████████▉ | 80546/89773 [03:31<00:29, 307.97it/s]"
     ]
    },
    {
     "name": "stderr",
     "output_type": "stream",
     "text": [
      "\r",
      " 90%|████████▉ | 80604/89773 [03:31<00:25, 358.13it/s]"
     ]
    },
    {
     "name": "stderr",
     "output_type": "stream",
     "text": [
      "\r",
      " 90%|████████▉ | 80662/89773 [03:31<00:22, 403.93it/s]"
     ]
    },
    {
     "name": "stderr",
     "output_type": "stream",
     "text": [
      "\r",
      " 90%|████████▉ | 80720/89773 [03:31<00:20, 444.30it/s]"
     ]
    },
    {
     "name": "stderr",
     "output_type": "stream",
     "text": [
      "\r",
      " 90%|████████▉ | 80779/89773 [03:32<00:18, 478.40it/s]"
     ]
    },
    {
     "name": "stderr",
     "output_type": "stream",
     "text": [
      "\r",
      " 90%|█████████ | 80837/89773 [03:32<00:17, 504.53it/s]"
     ]
    },
    {
     "name": "stderr",
     "output_type": "stream",
     "text": [
      "\r",
      " 90%|█████████ | 80895/89773 [03:32<00:16, 524.90it/s]"
     ]
    },
    {
     "name": "stderr",
     "output_type": "stream",
     "text": [
      "\r",
      " 90%|█████████ | 80953/89773 [03:33<00:46, 189.98it/s]"
     ]
    },
    {
     "name": "stderr",
     "output_type": "stream",
     "text": [
      "\r",
      " 90%|█████████ | 80996/89773 [03:33<00:42, 207.89it/s]"
     ]
    },
    {
     "name": "stderr",
     "output_type": "stream",
     "text": [
      "\r",
      " 90%|█████████ | 81035/89773 [03:33<00:39, 222.07it/s]"
     ]
    },
    {
     "name": "stderr",
     "output_type": "stream",
     "text": [
      "\r",
      " 90%|█████████ | 81071/89773 [03:33<00:36, 236.52it/s]"
     ]
    },
    {
     "name": "stderr",
     "output_type": "stream",
     "text": [
      "\r",
      " 90%|█████████ | 81105/89773 [03:33<00:35, 246.29it/s]"
     ]
    },
    {
     "name": "stderr",
     "output_type": "stream",
     "text": [
      "\r",
      " 90%|█████████ | 81138/89773 [03:33<00:33, 256.41it/s]"
     ]
    },
    {
     "name": "stderr",
     "output_type": "stream",
     "text": [
      "\r",
      " 90%|█████████ | 81170/89773 [03:33<00:32, 263.04it/s]"
     ]
    },
    {
     "name": "stderr",
     "output_type": "stream",
     "text": [
      "\r",
      " 90%|█████████ | 81201/89773 [03:33<00:32, 267.85it/s]"
     ]
    },
    {
     "name": "stderr",
     "output_type": "stream",
     "text": [
      "\r",
      " 90%|█████████ | 81231/89773 [03:33<00:31, 274.84it/s]"
     ]
    },
    {
     "name": "stderr",
     "output_type": "stream",
     "text": [
      "\r",
      " 91%|█████████ | 81261/89773 [03:34<00:30, 276.94it/s]"
     ]
    },
    {
     "name": "stderr",
     "output_type": "stream",
     "text": [
      "\r",
      " 91%|█████████ | 81291/89773 [03:34<00:31, 268.20it/s]"
     ]
    },
    {
     "name": "stderr",
     "output_type": "stream",
     "text": [
      "\r",
      " 91%|█████████ | 81326/89773 [03:34<00:29, 288.95it/s]"
     ]
    },
    {
     "name": "stderr",
     "output_type": "stream",
     "text": [
      "\r",
      " 91%|█████████ | 81383/89773 [03:34<00:22, 365.00it/s]"
     ]
    },
    {
     "name": "stderr",
     "output_type": "stream",
     "text": [
      "\r",
      " 91%|█████████ | 81438/89773 [03:34<00:19, 416.83it/s]"
     ]
    },
    {
     "name": "stderr",
     "output_type": "stream",
     "text": [
      "\r",
      " 91%|█████████ | 81481/89773 [03:34<00:21, 392.54it/s]"
     ]
    },
    {
     "name": "stderr",
     "output_type": "stream",
     "text": [
      "\r",
      " 91%|█████████ | 81522/89773 [03:35<01:11, 115.98it/s]"
     ]
    },
    {
     "name": "stderr",
     "output_type": "stream",
     "text": [
      "\r",
      " 91%|█████████ | 81552/89773 [03:35<01:08, 120.22it/s]"
     ]
    },
    {
     "name": "stderr",
     "output_type": "stream",
     "text": [
      "\r",
      " 91%|█████████ | 81577/89773 [03:35<01:03, 129.91it/s]"
     ]
    },
    {
     "name": "stderr",
     "output_type": "stream",
     "text": [
      "\r",
      " 91%|█████████ | 81602/89773 [03:36<00:55, 146.39it/s]"
     ]
    },
    {
     "name": "stderr",
     "output_type": "stream",
     "text": [
      "\r",
      " 91%|█████████ | 81631/89773 [03:36<00:48, 169.53it/s]"
     ]
    },
    {
     "name": "stderr",
     "output_type": "stream",
     "text": [
      "\r",
      " 91%|█████████ | 81660/89773 [03:36<00:42, 192.35it/s]"
     ]
    },
    {
     "name": "stderr",
     "output_type": "stream",
     "text": [
      "\r",
      " 91%|█████████ | 81689/89773 [03:36<00:38, 211.60it/s]"
     ]
    },
    {
     "name": "stderr",
     "output_type": "stream",
     "text": [
      "\r",
      " 91%|█████████ | 81717/89773 [03:36<00:35, 227.44it/s]"
     ]
    },
    {
     "name": "stderr",
     "output_type": "stream",
     "text": [
      "\r",
      " 91%|█████████ | 81754/89773 [03:36<00:30, 262.45it/s]"
     ]
    },
    {
     "name": "stderr",
     "output_type": "stream",
     "text": [
      "\r",
      " 91%|█████████ | 81809/89773 [03:36<00:23, 336.47it/s]"
     ]
    },
    {
     "name": "stderr",
     "output_type": "stream",
     "text": [
      "\r",
      " 91%|█████████ | 81849/89773 [03:36<00:22, 351.23it/s]"
     ]
    },
    {
     "name": "stderr",
     "output_type": "stream",
     "text": [
      "\r",
      " 91%|█████████ | 81887/89773 [03:37<00:30, 260.01it/s]"
     ]
    },
    {
     "name": "stderr",
     "output_type": "stream",
     "text": [
      "\r",
      " 91%|█████████▏| 81919/89773 [03:37<00:30, 257.01it/s]"
     ]
    },
    {
     "name": "stderr",
     "output_type": "stream",
     "text": [
      "\r",
      " 91%|█████████▏| 81949/89773 [03:37<00:29, 263.48it/s]"
     ]
    },
    {
     "name": "stderr",
     "output_type": "stream",
     "text": [
      "\r",
      " 91%|█████████▏| 82000/89773 [03:37<00:24, 322.98it/s]"
     ]
    },
    {
     "name": "stderr",
     "output_type": "stream",
     "text": [
      "\r",
      " 91%|█████████▏| 82039/89773 [03:38<01:08, 113.66it/s]"
     ]
    },
    {
     "name": "stderr",
     "output_type": "stream",
     "text": [
      "\r",
      " 91%|█████████▏| 82093/89773 [03:38<00:47, 160.31it/s]"
     ]
    },
    {
     "name": "stderr",
     "output_type": "stream",
     "text": [
      "\r",
      " 92%|█████████▏| 82150/89773 [03:38<00:35, 215.40it/s]"
     ]
    },
    {
     "name": "stderr",
     "output_type": "stream",
     "text": [
      "\r",
      " 92%|█████████▏| 82191/89773 [03:38<00:32, 231.53it/s]"
     ]
    },
    {
     "name": "stderr",
     "output_type": "stream",
     "text": [
      "\r",
      " 92%|█████████▏| 82229/89773 [03:38<00:30, 248.55it/s]"
     ]
    },
    {
     "name": "stderr",
     "output_type": "stream",
     "text": [
      "\r",
      " 92%|█████████▏| 82265/89773 [03:38<00:29, 256.94it/s]"
     ]
    },
    {
     "name": "stderr",
     "output_type": "stream",
     "text": [
      "\r",
      " 92%|█████████▏| 82304/89773 [03:38<00:26, 284.50it/s]"
     ]
    },
    {
     "name": "stderr",
     "output_type": "stream",
     "text": [
      "\r",
      " 92%|█████████▏| 82363/89773 [03:39<00:20, 354.04it/s]"
     ]
    },
    {
     "name": "stderr",
     "output_type": "stream",
     "text": [
      "\r",
      " 92%|█████████▏| 82421/89773 [03:39<00:17, 409.42it/s]"
     ]
    },
    {
     "name": "stderr",
     "output_type": "stream",
     "text": [
      "\r",
      " 92%|█████████▏| 82479/89773 [03:39<00:16, 453.51it/s]"
     ]
    },
    {
     "name": "stderr",
     "output_type": "stream",
     "text": [
      "\r",
      " 92%|█████████▏| 82529/89773 [03:39<00:17, 415.94it/s]"
     ]
    },
    {
     "name": "stderr",
     "output_type": "stream",
     "text": [
      "\r",
      " 92%|█████████▏| 82575/89773 [03:39<00:17, 406.30it/s]"
     ]
    },
    {
     "name": "stderr",
     "output_type": "stream",
     "text": [
      "\r",
      " 92%|█████████▏| 82619/89773 [03:40<00:46, 154.61it/s]"
     ]
    },
    {
     "name": "stderr",
     "output_type": "stream",
     "text": [
      "\r",
      " 92%|█████████▏| 82676/89773 [03:40<00:34, 204.89it/s]"
     ]
    },
    {
     "name": "stderr",
     "output_type": "stream",
     "text": [
      "\r",
      " 92%|█████████▏| 82734/89773 [03:40<00:27, 259.60it/s]"
     ]
    },
    {
     "name": "stderr",
     "output_type": "stream",
     "text": [
      "\r",
      " 92%|█████████▏| 82791/89773 [03:40<00:22, 313.38it/s]"
     ]
    },
    {
     "name": "stderr",
     "output_type": "stream",
     "text": [
      "\r",
      " 92%|█████████▏| 82844/89773 [03:40<00:19, 356.13it/s]"
     ]
    },
    {
     "name": "stderr",
     "output_type": "stream",
     "text": [
      "\r",
      " 92%|█████████▏| 82894/89773 [03:40<00:19, 360.54it/s]"
     ]
    },
    {
     "name": "stderr",
     "output_type": "stream",
     "text": [
      "\r",
      " 92%|█████████▏| 82952/89773 [03:40<00:16, 409.86it/s]"
     ]
    },
    {
     "name": "stderr",
     "output_type": "stream",
     "text": [
      "\r",
      " 92%|█████████▏| 83010/89773 [03:40<00:15, 449.75it/s]"
     ]
    },
    {
     "name": "stderr",
     "output_type": "stream",
     "text": [
      "\r",
      " 93%|█████████▎| 83068/89773 [03:41<00:13, 482.05it/s]"
     ]
    },
    {
     "name": "stderr",
     "output_type": "stream",
     "text": [
      "\r",
      " 93%|█████████▎| 83122/89773 [03:41<00:14, 453.91it/s]"
     ]
    },
    {
     "name": "stderr",
     "output_type": "stream",
     "text": [
      "\r",
      " 93%|█████████▎| 83172/89773 [03:41<00:35, 187.09it/s]"
     ]
    },
    {
     "name": "stderr",
     "output_type": "stream",
     "text": [
      "\r",
      " 93%|█████████▎| 83228/89773 [03:41<00:27, 234.54it/s]"
     ]
    },
    {
     "name": "stderr",
     "output_type": "stream",
     "text": [
      "\r",
      " 93%|█████████▎| 83271/89773 [03:42<00:25, 256.36it/s]"
     ]
    },
    {
     "name": "stderr",
     "output_type": "stream",
     "text": [
      "\r",
      " 93%|█████████▎| 83329/89773 [03:42<00:20, 313.45it/s]"
     ]
    },
    {
     "name": "stderr",
     "output_type": "stream",
     "text": [
      "\r",
      " 93%|█████████▎| 83387/89773 [03:42<00:17, 366.35it/s]"
     ]
    },
    {
     "name": "stderr",
     "output_type": "stream",
     "text": [
      "\r",
      " 93%|█████████▎| 83445/89773 [03:42<00:15, 413.81it/s]"
     ]
    },
    {
     "name": "stderr",
     "output_type": "stream",
     "text": [
      "\r",
      " 93%|█████████▎| 83497/89773 [03:42<00:14, 423.57it/s]"
     ]
    },
    {
     "name": "stderr",
     "output_type": "stream",
     "text": [
      "\r",
      " 93%|█████████▎| 83547/89773 [03:42<00:14, 428.55it/s]"
     ]
    },
    {
     "name": "stderr",
     "output_type": "stream",
     "text": [
      "\r",
      " 93%|█████████▎| 83605/89773 [03:42<00:13, 466.71it/s]"
     ]
    },
    {
     "name": "stderr",
     "output_type": "stream",
     "text": [
      "\r",
      " 93%|█████████▎| 83663/89773 [03:42<00:12, 496.62it/s]"
     ]
    },
    {
     "name": "stderr",
     "output_type": "stream",
     "text": [
      "\r",
      " 93%|█████████▎| 83716/89773 [03:43<00:31, 192.96it/s]"
     ]
    },
    {
     "name": "stderr",
     "output_type": "stream",
     "text": [
      "\r",
      " 93%|█████████▎| 83774/89773 [03:43<00:24, 243.40it/s]"
     ]
    },
    {
     "name": "stderr",
     "output_type": "stream",
     "text": [
      "\r",
      " 93%|█████████▎| 83832/89773 [03:43<00:20, 296.33it/s]"
     ]
    },
    {
     "name": "stderr",
     "output_type": "stream",
     "text": [
      "\r",
      " 93%|█████████▎| 83890/89773 [03:43<00:16, 347.93it/s]"
     ]
    },
    {
     "name": "stderr",
     "output_type": "stream",
     "text": [
      "\r",
      " 94%|█████████▎| 83948/89773 [03:43<00:14, 395.97it/s]"
     ]
    },
    {
     "name": "stderr",
     "output_type": "stream",
     "text": [
      "\r",
      " 94%|█████████▎| 84006/89773 [03:44<00:13, 437.53it/s]"
     ]
    },
    {
     "name": "stderr",
     "output_type": "stream",
     "text": [
      "\r",
      " 94%|█████████▎| 84064/89773 [03:44<00:12, 472.43it/s]"
     ]
    },
    {
     "name": "stderr",
     "output_type": "stream",
     "text": [
      "\r",
      " 94%|█████████▎| 84122/89773 [03:44<00:11, 499.39it/s]"
     ]
    },
    {
     "name": "stderr",
     "output_type": "stream",
     "text": [
      "\r",
      " 94%|█████████▍| 84180/89773 [03:44<00:10, 520.80it/s]"
     ]
    },
    {
     "name": "stderr",
     "output_type": "stream",
     "text": [
      "\r",
      " 94%|█████████▍| 84238/89773 [03:44<00:10, 536.40it/s]"
     ]
    },
    {
     "name": "stderr",
     "output_type": "stream",
     "text": [
      "\r",
      " 94%|█████████▍| 84295/89773 [03:45<00:26, 205.11it/s]"
     ]
    },
    {
     "name": "stderr",
     "output_type": "stream",
     "text": [
      "\r",
      " 94%|█████████▍| 84353/89773 [03:45<00:21, 254.56it/s]"
     ]
    },
    {
     "name": "stderr",
     "output_type": "stream",
     "text": [
      "\r",
      " 94%|█████████▍| 84411/89773 [03:45<00:17, 305.99it/s]"
     ]
    },
    {
     "name": "stderr",
     "output_type": "stream",
     "text": [
      "\r",
      " 94%|█████████▍| 84469/89773 [03:45<00:14, 356.45it/s]"
     ]
    },
    {
     "name": "stderr",
     "output_type": "stream",
     "text": [
      "\r",
      " 94%|█████████▍| 84527/89773 [03:45<00:13, 402.87it/s]"
     ]
    },
    {
     "name": "stderr",
     "output_type": "stream",
     "text": [
      "\r",
      " 94%|█████████▍| 84585/89773 [03:45<00:11, 443.12it/s]"
     ]
    },
    {
     "name": "stderr",
     "output_type": "stream",
     "text": [
      "\r",
      " 94%|█████████▍| 84643/89773 [03:45<00:10, 476.34it/s]"
     ]
    },
    {
     "name": "stderr",
     "output_type": "stream",
     "text": [
      "\r",
      " 94%|█████████▍| 84701/89773 [03:45<00:10, 503.18it/s]"
     ]
    },
    {
     "name": "stderr",
     "output_type": "stream",
     "text": [
      "\r",
      " 94%|█████████▍| 84759/89773 [03:45<00:09, 523.34it/s]"
     ]
    },
    {
     "name": "stderr",
     "output_type": "stream",
     "text": [
      "\r",
      " 94%|█████████▍| 84816/89773 [03:46<00:24, 204.80it/s]"
     ]
    },
    {
     "name": "stderr",
     "output_type": "stream",
     "text": [
      "\r",
      " 95%|█████████▍| 84874/89773 [03:46<00:19, 254.15it/s]"
     ]
    },
    {
     "name": "stderr",
     "output_type": "stream",
     "text": [
      "\r",
      " 95%|█████████▍| 84932/89773 [03:46<00:15, 305.73it/s]"
     ]
    },
    {
     "name": "stderr",
     "output_type": "stream",
     "text": [
      "\r",
      " 95%|█████████▍| 84990/89773 [03:46<00:13, 356.17it/s]"
     ]
    },
    {
     "name": "stderr",
     "output_type": "stream",
     "text": [
      "\r",
      " 95%|█████████▍| 85048/89773 [03:46<00:11, 402.72it/s]"
     ]
    },
    {
     "name": "stderr",
     "output_type": "stream",
     "text": [
      "\r",
      " 95%|█████████▍| 85106/89773 [03:47<00:10, 443.07it/s]"
     ]
    },
    {
     "name": "stderr",
     "output_type": "stream",
     "text": [
      "\r",
      " 95%|█████████▍| 85164/89773 [03:47<00:09, 476.42it/s]"
     ]
    },
    {
     "name": "stderr",
     "output_type": "stream",
     "text": [
      "\r",
      " 95%|█████████▍| 85222/89773 [03:47<00:09, 503.14it/s]"
     ]
    },
    {
     "name": "stderr",
     "output_type": "stream",
     "text": [
      "\r",
      " 95%|█████████▍| 85280/89773 [03:47<00:08, 523.87it/s]"
     ]
    },
    {
     "name": "stderr",
     "output_type": "stream",
     "text": [
      "\r",
      " 95%|█████████▌| 85338/89773 [03:47<00:08, 539.01it/s]"
     ]
    },
    {
     "name": "stderr",
     "output_type": "stream",
     "text": [
      "\r",
      " 95%|█████████▌| 85396/89773 [03:48<00:21, 203.54it/s]"
     ]
    },
    {
     "name": "stderr",
     "output_type": "stream",
     "text": [
      "\r",
      " 95%|█████████▌| 85454/89773 [03:48<00:17, 252.65it/s]"
     ]
    },
    {
     "name": "stderr",
     "output_type": "stream",
     "text": [
      "\r",
      " 95%|█████████▌| 85512/89773 [03:48<00:14, 304.05it/s]"
     ]
    },
    {
     "name": "stderr",
     "output_type": "stream",
     "text": [
      "\r",
      " 95%|█████████▌| 85570/89773 [03:48<00:11, 354.41it/s]"
     ]
    },
    {
     "name": "stderr",
     "output_type": "stream",
     "text": [
      "\r",
      " 95%|█████████▌| 85628/89773 [03:48<00:10, 400.42it/s]"
     ]
    },
    {
     "name": "stderr",
     "output_type": "stream",
     "text": [
      "\r",
      " 95%|█████████▌| 85686/89773 [03:48<00:09, 441.27it/s]"
     ]
    },
    {
     "name": "stderr",
     "output_type": "stream",
     "text": [
      "\r",
      " 96%|█████████▌| 85744/89773 [03:48<00:08, 474.95it/s]"
     ]
    },
    {
     "name": "stderr",
     "output_type": "stream",
     "text": [
      "\r",
      " 96%|█████████▌| 85802/89773 [03:48<00:07, 501.64it/s]"
     ]
    },
    {
     "name": "stderr",
     "output_type": "stream",
     "text": [
      "\r",
      " 96%|█████████▌| 85860/89773 [03:48<00:07, 521.82it/s]"
     ]
    },
    {
     "name": "stderr",
     "output_type": "stream",
     "text": [
      "\r",
      " 96%|█████████▌| 85918/89773 [03:49<00:07, 537.35it/s]"
     ]
    },
    {
     "name": "stderr",
     "output_type": "stream",
     "text": [
      "\r",
      " 96%|█████████▌| 85976/89773 [03:49<00:18, 204.89it/s]"
     ]
    },
    {
     "name": "stderr",
     "output_type": "stream",
     "text": [
      "\r",
      " 96%|█████████▌| 86034/89773 [03:49<00:14, 254.11it/s]"
     ]
    },
    {
     "name": "stderr",
     "output_type": "stream",
     "text": [
      "\r",
      " 96%|█████████▌| 86092/89773 [03:49<00:12, 305.30it/s]"
     ]
    },
    {
     "name": "stderr",
     "output_type": "stream",
     "text": [
      "\r",
      " 96%|█████████▌| 86151/89773 [03:50<00:10, 356.64it/s]"
     ]
    },
    {
     "name": "stderr",
     "output_type": "stream",
     "text": [
      "\r",
      " 96%|█████████▌| 86209/89773 [03:50<00:08, 402.25it/s]"
     ]
    },
    {
     "name": "stderr",
     "output_type": "stream",
     "text": [
      "\r",
      " 96%|█████████▌| 86267/89773 [03:50<00:07, 441.79it/s]"
     ]
    },
    {
     "name": "stderr",
     "output_type": "stream",
     "text": [
      "\r",
      " 96%|█████████▌| 86325/89773 [03:50<00:07, 475.49it/s]"
     ]
    },
    {
     "name": "stderr",
     "output_type": "stream",
     "text": [
      "\r",
      " 96%|█████████▌| 86383/89773 [03:50<00:06, 501.40it/s]"
     ]
    },
    {
     "name": "stderr",
     "output_type": "stream",
     "text": [
      "\r",
      " 96%|█████████▋| 86441/89773 [03:50<00:06, 522.27it/s]"
     ]
    },
    {
     "name": "stderr",
     "output_type": "stream",
     "text": [
      "\r",
      " 96%|█████████▋| 86499/89773 [03:50<00:06, 538.12it/s]"
     ]
    },
    {
     "name": "stderr",
     "output_type": "stream",
     "text": [
      "\r",
      " 96%|█████████▋| 86557/89773 [03:51<00:15, 206.16it/s]"
     ]
    },
    {
     "name": "stderr",
     "output_type": "stream",
     "text": [
      "\r",
      " 96%|█████████▋| 86615/89773 [03:51<00:12, 255.46it/s]"
     ]
    },
    {
     "name": "stderr",
     "output_type": "stream",
     "text": [
      "\r",
      " 97%|█████████▋| 86673/89773 [03:51<00:10, 306.83it/s]"
     ]
    },
    {
     "name": "stderr",
     "output_type": "stream",
     "text": [
      "\r",
      " 97%|█████████▋| 86731/89773 [03:51<00:08, 357.08it/s]"
     ]
    },
    {
     "name": "stderr",
     "output_type": "stream",
     "text": [
      "\r",
      " 97%|█████████▋| 86786/89773 [03:51<00:07, 396.25it/s]"
     ]
    },
    {
     "name": "stderr",
     "output_type": "stream",
     "text": [
      "\r",
      " 97%|█████████▋| 86840/89773 [03:51<00:06, 429.08it/s]"
     ]
    },
    {
     "name": "stderr",
     "output_type": "stream",
     "text": [
      "\r",
      " 97%|█████████▋| 86896/89773 [03:51<00:06, 459.89it/s]"
     ]
    },
    {
     "name": "stderr",
     "output_type": "stream",
     "text": [
      "\r",
      " 97%|█████████▋| 86952/89773 [03:52<00:05, 484.60it/s]"
     ]
    },
    {
     "name": "stderr",
     "output_type": "stream",
     "text": [
      "\r",
      " 97%|█████████▋| 87007/89773 [03:52<00:05, 499.59it/s]"
     ]
    },
    {
     "name": "stderr",
     "output_type": "stream",
     "text": [
      "\r",
      " 97%|█████████▋| 87065/89773 [03:52<00:05, 520.36it/s]"
     ]
    },
    {
     "name": "stderr",
     "output_type": "stream",
     "text": [
      "\r",
      " 97%|█████████▋| 87121/89773 [03:52<00:13, 200.26it/s]"
     ]
    },
    {
     "name": "stderr",
     "output_type": "stream",
     "text": [
      "\r",
      " 97%|█████████▋| 87179/89773 [03:53<00:10, 250.21it/s]"
     ]
    },
    {
     "name": "stderr",
     "output_type": "stream",
     "text": [
      "\r",
      " 97%|█████████▋| 87237/89773 [03:53<00:08, 302.28it/s]"
     ]
    },
    {
     "name": "stderr",
     "output_type": "stream",
     "text": [
      "\r",
      " 97%|█████████▋| 87295/89773 [03:53<00:07, 353.39it/s]"
     ]
    },
    {
     "name": "stderr",
     "output_type": "stream",
     "text": [
      "\r",
      " 97%|█████████▋| 87353/89773 [03:53<00:06, 400.42it/s]"
     ]
    },
    {
     "name": "stderr",
     "output_type": "stream",
     "text": [
      "\r",
      " 97%|█████████▋| 87411/89773 [03:53<00:05, 440.98it/s]"
     ]
    },
    {
     "name": "stderr",
     "output_type": "stream",
     "text": [
      "\r",
      " 97%|█████████▋| 87469/89773 [03:53<00:04, 474.75it/s]"
     ]
    },
    {
     "name": "stderr",
     "output_type": "stream",
     "text": [
      "\r",
      " 97%|█████████▋| 87526/89773 [03:53<00:04, 498.41it/s]"
     ]
    },
    {
     "name": "stderr",
     "output_type": "stream",
     "text": [
      "\r",
      " 98%|█████████▊| 87583/89773 [03:53<00:04, 517.36it/s]"
     ]
    },
    {
     "name": "stderr",
     "output_type": "stream",
     "text": [
      "\r",
      " 98%|█████████▊| 87641/89773 [03:54<00:10, 196.39it/s]"
     ]
    },
    {
     "name": "stderr",
     "output_type": "stream",
     "text": [
      "\r",
      " 98%|█████████▊| 87699/89773 [03:54<00:08, 244.99it/s]"
     ]
    },
    {
     "name": "stderr",
     "output_type": "stream",
     "text": [
      "\r",
      " 98%|█████████▊| 87757/89773 [03:54<00:06, 296.36it/s]"
     ]
    },
    {
     "name": "stderr",
     "output_type": "stream",
     "text": [
      "\r",
      " 98%|█████████▊| 87815/89773 [03:54<00:05, 347.32it/s]"
     ]
    },
    {
     "name": "stderr",
     "output_type": "stream",
     "text": [
      "\r",
      " 98%|█████████▊| 87873/89773 [03:54<00:04, 394.50it/s]"
     ]
    },
    {
     "name": "stderr",
     "output_type": "stream",
     "text": [
      "\r",
      " 98%|█████████▊| 87931/89773 [03:55<00:04, 436.13it/s]"
     ]
    },
    {
     "name": "stderr",
     "output_type": "stream",
     "text": [
      "\r",
      " 98%|█████████▊| 87989/89773 [03:55<00:03, 471.01it/s]"
     ]
    },
    {
     "name": "stderr",
     "output_type": "stream",
     "text": [
      "\r",
      " 98%|█████████▊| 88047/89773 [03:55<00:03, 498.24it/s]"
     ]
    },
    {
     "name": "stderr",
     "output_type": "stream",
     "text": [
      "\r",
      " 98%|█████████▊| 88105/89773 [03:55<00:03, 519.77it/s]"
     ]
    },
    {
     "name": "stderr",
     "output_type": "stream",
     "text": [
      "\r",
      " 98%|█████████▊| 88163/89773 [03:55<00:03, 535.36it/s]"
     ]
    },
    {
     "name": "stderr",
     "output_type": "stream",
     "text": [
      "\r",
      " 98%|█████████▊| 88221/89773 [03:56<00:07, 202.97it/s]"
     ]
    },
    {
     "name": "stderr",
     "output_type": "stream",
     "text": [
      "\r",
      " 98%|█████████▊| 88279/89773 [03:56<00:05, 251.96it/s]"
     ]
    },
    {
     "name": "stderr",
     "output_type": "stream",
     "text": [
      "\r",
      " 98%|█████████▊| 88337/89773 [03:56<00:04, 303.24it/s]"
     ]
    },
    {
     "name": "stderr",
     "output_type": "stream",
     "text": [
      "\r",
      " 98%|█████████▊| 88395/89773 [03:56<00:03, 353.61it/s]"
     ]
    },
    {
     "name": "stderr",
     "output_type": "stream",
     "text": [
      "\r",
      " 99%|█████████▊| 88453/89773 [03:56<00:03, 399.80it/s]"
     ]
    },
    {
     "name": "stderr",
     "output_type": "stream",
     "text": [
      "\r",
      " 99%|█████████▊| 88511/89773 [03:56<00:02, 439.86it/s]"
     ]
    },
    {
     "name": "stderr",
     "output_type": "stream",
     "text": [
      "\r",
      " 99%|█████████▊| 88569/89773 [03:56<00:02, 473.76it/s]"
     ]
    },
    {
     "name": "stderr",
     "output_type": "stream",
     "text": [
      "\r",
      " 99%|█████████▊| 88627/89773 [03:56<00:02, 500.99it/s]"
     ]
    },
    {
     "name": "stderr",
     "output_type": "stream",
     "text": [
      "\r",
      " 99%|█████████▉| 88685/89773 [03:56<00:02, 521.58it/s]"
     ]
    },
    {
     "name": "stderr",
     "output_type": "stream",
     "text": [
      "\r",
      " 99%|█████████▉| 88743/89773 [03:57<00:01, 536.75it/s]"
     ]
    },
    {
     "name": "stderr",
     "output_type": "stream",
     "text": [
      "\r",
      " 99%|█████████▉| 88801/89773 [03:57<00:04, 200.14it/s]"
     ]
    },
    {
     "name": "stderr",
     "output_type": "stream",
     "text": [
      "\r",
      " 99%|█████████▉| 88853/89773 [03:57<00:03, 241.01it/s]"
     ]
    },
    {
     "name": "stderr",
     "output_type": "stream",
     "text": [
      "\r",
      " 99%|█████████▉| 88905/89773 [03:57<00:03, 283.79it/s]"
     ]
    },
    {
     "name": "stderr",
     "output_type": "stream",
     "text": [
      "\r",
      " 99%|█████████▉| 88957/89773 [03:58<00:02, 325.68it/s]"
     ]
    },
    {
     "name": "stderr",
     "output_type": "stream",
     "text": [
      "\r",
      " 99%|█████████▉| 89009/89773 [03:58<00:02, 365.26it/s]"
     ]
    },
    {
     "name": "stderr",
     "output_type": "stream",
     "text": [
      "\r",
      " 99%|█████████▉| 89061/89773 [03:58<00:01, 399.75it/s]"
     ]
    },
    {
     "name": "stderr",
     "output_type": "stream",
     "text": [
      "\r",
      " 99%|█████████▉| 89113/89773 [03:58<00:01, 428.39it/s]"
     ]
    },
    {
     "name": "stderr",
     "output_type": "stream",
     "text": [
      "\r",
      " 99%|█████████▉| 89165/89773 [03:58<00:01, 451.16it/s]"
     ]
    },
    {
     "name": "stderr",
     "output_type": "stream",
     "text": [
      "\r",
      " 99%|█████████▉| 89217/89773 [03:58<00:01, 469.21it/s]"
     ]
    },
    {
     "name": "stderr",
     "output_type": "stream",
     "text": [
      "\r",
      " 99%|█████████▉| 89272/89773 [03:58<00:01, 490.13it/s]"
     ]
    },
    {
     "name": "stderr",
     "output_type": "stream",
     "text": [
      "\r",
      "100%|█████████▉| 89330/89773 [03:58<00:00, 514.99it/s]"
     ]
    },
    {
     "name": "stderr",
     "output_type": "stream",
     "text": [
      "\r",
      "100%|█████████▉| 89384/89773 [03:59<00:02, 190.36it/s]"
     ]
    },
    {
     "name": "stderr",
     "output_type": "stream",
     "text": [
      "\r",
      "100%|█████████▉| 89436/89773 [03:59<00:01, 232.79it/s]"
     ]
    },
    {
     "name": "stderr",
     "output_type": "stream",
     "text": [
      "\r",
      "100%|█████████▉| 89487/89773 [03:59<00:01, 275.96it/s]"
     ]
    },
    {
     "name": "stderr",
     "output_type": "stream",
     "text": [
      "\r",
      "100%|█████████▉| 89538/89773 [03:59<00:00, 318.73it/s]"
     ]
    },
    {
     "name": "stderr",
     "output_type": "stream",
     "text": [
      "\r",
      "100%|█████████▉| 89589/89773 [03:59<00:00, 358.31it/s]"
     ]
    },
    {
     "name": "stderr",
     "output_type": "stream",
     "text": [
      "\r",
      "100%|█████████▉| 89640/89773 [03:59<00:00, 392.47it/s]"
     ]
    },
    {
     "name": "stderr",
     "output_type": "stream",
     "text": [
      "\r",
      "100%|█████████▉| 89691/89773 [04:00<00:00, 420.73it/s]"
     ]
    },
    {
     "name": "stderr",
     "output_type": "stream",
     "text": [
      "\r",
      "100%|█████████▉| 89741/89773 [04:00<00:00, 435.16it/s]"
     ]
    },
    {
     "name": "stderr",
     "output_type": "stream",
     "text": [
      "\r",
      "100%|██████████| 89773/89773 [04:00<00:00, 373.74it/s]"
     ]
    },
    {
     "name": "stderr",
     "output_type": "stream",
     "text": [
      "\n"
     ]
    },
    {
     "name": "stderr",
     "output_type": "stream",
     "text": [
      "\r",
      "Processing stocks:   0%|          | 0/50 [00:00<?, ?it/s]"
     ]
    },
    {
     "name": "stderr",
     "output_type": "stream",
     "text": [
      "\r",
      "Processing stocks:   2%|▏         | 1/50 [00:00<00:15,  3.14it/s]"
     ]
    },
    {
     "name": "stderr",
     "output_type": "stream",
     "text": [
      "\r",
      "Processing stocks:   4%|▍         | 2/50 [00:00<00:21,  2.22it/s]"
     ]
    },
    {
     "name": "stderr",
     "output_type": "stream",
     "text": [
      "\r",
      "Processing stocks:   6%|▌         | 3/50 [00:01<00:17,  2.66it/s]"
     ]
    },
    {
     "name": "stderr",
     "output_type": "stream",
     "text": [
      "\r",
      "Processing stocks:   8%|▊         | 4/50 [00:01<00:14,  3.13it/s]"
     ]
    },
    {
     "name": "stderr",
     "output_type": "stream",
     "text": [
      "\r",
      "Processing stocks:  10%|█         | 5/50 [00:01<00:10,  4.12it/s]"
     ]
    },
    {
     "name": "stderr",
     "output_type": "stream",
     "text": [
      "\r",
      "Processing stocks:  12%|█▏        | 6/50 [00:02<00:19,  2.22it/s]"
     ]
    },
    {
     "name": "stderr",
     "output_type": "stream",
     "text": [
      "\r",
      "Processing stocks:  16%|█▌        | 8/50 [00:02<00:11,  3.63it/s]"
     ]
    },
    {
     "name": "stderr",
     "output_type": "stream",
     "text": [
      "\r",
      "Processing stocks:  20%|██        | 10/50 [00:02<00:07,  5.00it/s]"
     ]
    },
    {
     "name": "stderr",
     "output_type": "stream",
     "text": [
      "\r",
      "Processing stocks:  24%|██▍       | 12/50 [00:02<00:06,  6.29it/s]"
     ]
    },
    {
     "name": "stderr",
     "output_type": "stream",
     "text": [
      "\r",
      "Processing stocks:  26%|██▌       | 13/50 [00:03<00:05,  6.29it/s]"
     ]
    },
    {
     "name": "stderr",
     "output_type": "stream",
     "text": [
      "\r",
      "Processing stocks:  30%|███       | 15/50 [00:03<00:05,  6.93it/s]"
     ]
    },
    {
     "name": "stderr",
     "output_type": "stream",
     "text": [
      "\r",
      "Processing stocks:  32%|███▏      | 16/50 [00:03<00:04,  6.87it/s]"
     ]
    },
    {
     "name": "stderr",
     "output_type": "stream",
     "text": [
      "\r",
      "Processing stocks:  34%|███▍      | 17/50 [00:03<00:04,  6.90it/s]"
     ]
    },
    {
     "name": "stderr",
     "output_type": "stream",
     "text": [
      "\r",
      "Processing stocks:  38%|███▊      | 19/50 [00:03<00:03,  8.90it/s]"
     ]
    },
    {
     "name": "stderr",
     "output_type": "stream",
     "text": [
      "\r",
      "Processing stocks:  42%|████▏     | 21/50 [00:03<00:02, 10.05it/s]"
     ]
    },
    {
     "name": "stderr",
     "output_type": "stream",
     "text": [
      "\r",
      "Processing stocks:  46%|████▌     | 23/50 [00:04<00:03,  7.39it/s]"
     ]
    },
    {
     "name": "stderr",
     "output_type": "stream",
     "text": [
      "\r",
      "Processing stocks:  50%|█████     | 25/50 [00:04<00:03,  6.51it/s]"
     ]
    },
    {
     "name": "stderr",
     "output_type": "stream",
     "text": [
      "\r",
      "Processing stocks:  52%|█████▏    | 26/50 [00:04<00:03,  6.34it/s]"
     ]
    },
    {
     "name": "stderr",
     "output_type": "stream",
     "text": [
      "\r",
      "Processing stocks:  54%|█████▍    | 27/50 [00:04<00:03,  6.68it/s]"
     ]
    },
    {
     "name": "stderr",
     "output_type": "stream",
     "text": [
      "\r",
      "Processing stocks:  56%|█████▌    | 28/50 [00:05<00:03,  7.24it/s]"
     ]
    },
    {
     "name": "stderr",
     "output_type": "stream",
     "text": [
      "\r",
      "Processing stocks:  58%|█████▊    | 29/50 [00:05<00:02,  7.22it/s]"
     ]
    },
    {
     "name": "stderr",
     "output_type": "stream",
     "text": [
      "\r",
      "Processing stocks:  62%|██████▏   | 31/50 [00:05<00:02,  7.12it/s]"
     ]
    },
    {
     "name": "stderr",
     "output_type": "stream",
     "text": [
      "\r",
      "Processing stocks:  64%|██████▍   | 32/50 [00:05<00:02,  7.11it/s]"
     ]
    },
    {
     "name": "stderr",
     "output_type": "stream",
     "text": [
      "\r",
      "Processing stocks:  66%|██████▌   | 33/50 [00:05<00:02,  7.09it/s]"
     ]
    },
    {
     "name": "stderr",
     "output_type": "stream",
     "text": [
      "\r",
      "Processing stocks:  70%|███████   | 35/50 [00:05<00:01,  8.82it/s]"
     ]
    },
    {
     "name": "stderr",
     "output_type": "stream",
     "text": [
      "\r",
      "Processing stocks:  76%|███████▌  | 38/50 [00:06<00:01,  7.51it/s]"
     ]
    },
    {
     "name": "stderr",
     "output_type": "stream",
     "text": [
      "\r",
      "Processing stocks:  80%|████████  | 40/50 [00:06<00:01,  8.12it/s]"
     ]
    },
    {
     "name": "stderr",
     "output_type": "stream",
     "text": [
      "\r",
      "Processing stocks:  82%|████████▏ | 41/50 [00:06<00:01,  6.24it/s]"
     ]
    },
    {
     "name": "stderr",
     "output_type": "stream",
     "text": [
      "\r",
      "Processing stocks:  84%|████████▍ | 42/50 [00:07<00:01,  6.73it/s]"
     ]
    },
    {
     "name": "stderr",
     "output_type": "stream",
     "text": [
      "\r",
      "Processing stocks:  86%|████████▌ | 43/50 [00:07<00:02,  3.07it/s]"
     ]
    },
    {
     "name": "stderr",
     "output_type": "stream",
     "text": [
      "\r",
      "Processing stocks:  90%|█████████ | 45/50 [00:08<00:01,  4.23it/s]"
     ]
    },
    {
     "name": "stderr",
     "output_type": "stream",
     "text": [
      "\r",
      "Processing stocks:  92%|█████████▏| 46/50 [00:08<00:01,  3.57it/s]"
     ]
    },
    {
     "name": "stderr",
     "output_type": "stream",
     "text": [
      "\r",
      "Processing stocks:  94%|█████████▍| 47/50 [00:08<00:00,  4.00it/s]"
     ]
    },
    {
     "name": "stderr",
     "output_type": "stream",
     "text": [
      "\r",
      "Processing stocks:  98%|█████████▊| 49/50 [00:09<00:00,  4.91it/s]"
     ]
    },
    {
     "name": "stderr",
     "output_type": "stream",
     "text": [
      "\r",
      "Processing stocks: 100%|██████████| 50/50 [00:09<00:00,  5.51it/s]"
     ]
    },
    {
     "name": "stderr",
     "output_type": "stream",
     "text": [
      "\n"
     ]
    },
    {
     "data": {
      "text/html": [
       "<div>\n",
       "<style scoped>\n",
       "    .dataframe tbody tr th:only-of-type {\n",
       "        vertical-align: middle;\n",
       "    }\n",
       "\n",
       "    .dataframe tbody tr th {\n",
       "        vertical-align: top;\n",
       "    }\n",
       "\n",
       "    .dataframe thead th {\n",
       "        text-align: right;\n",
       "    }\n",
       "</style>\n",
       "<table border=\"1\" class=\"dataframe\">\n",
       "  <thead>\n",
       "    <tr style=\"text-align: right;\">\n",
       "      <th></th>\n",
       "      <th>股票编号</th>\n",
       "      <th>日期</th>\n",
       "      <th>高维情绪变量</th>\n",
       "      <th>交易量</th>\n",
       "      <th>收益率变化</th>\n",
       "      <th>聚类标签</th>\n",
       "      <th>公司名称</th>\n",
       "    </tr>\n",
       "  </thead>\n",
       "  <tbody>\n",
       "    <tr>\n",
       "      <th>0</th>\n",
       "      <td>000002</td>\n",
       "      <td>2021-06-01</td>\n",
       "      <td>[-0.178, -0.141, 0.283, 0.184, -0.002, 0.299, ...</td>\n",
       "      <td>60990961.0</td>\n",
       "      <td>-0.003745</td>\n",
       "      <td>2.0</td>\n",
       "      <td>万科A</td>\n",
       "    </tr>\n",
       "    <tr>\n",
       "      <th>1</th>\n",
       "      <td>000002</td>\n",
       "      <td>2021-06-08</td>\n",
       "      <td>[-0.276, -0.035, 0.247, 0.326, 0.018, 0.244, -...</td>\n",
       "      <td>44676494.0</td>\n",
       "      <td>0.004626</td>\n",
       "      <td>2.0</td>\n",
       "      <td>万科A</td>\n",
       "    </tr>\n",
       "    <tr>\n",
       "      <th>2</th>\n",
       "      <td>000002</td>\n",
       "      <td>2021-06-10</td>\n",
       "      <td>[-0.083, 0.072, 0.273, 0.26, -0.087, 0.276, -0...</td>\n",
       "      <td>53800776.0</td>\n",
       "      <td>-0.010035</td>\n",
       "      <td>2.0</td>\n",
       "      <td>万科A</td>\n",
       "    </tr>\n",
       "    <tr>\n",
       "      <th>3</th>\n",
       "      <td>000002</td>\n",
       "      <td>2021-06-11</td>\n",
       "      <td>[-0.114, 0.163, 0.381, 0.325, -0.091, 0.088, -...</td>\n",
       "      <td>75853738.0</td>\n",
       "      <td>-0.014035</td>\n",
       "      <td>2.0</td>\n",
       "      <td>万科A</td>\n",
       "    </tr>\n",
       "    <tr>\n",
       "      <th>4</th>\n",
       "      <td>000002</td>\n",
       "      <td>2021-06-15</td>\n",
       "      <td>[-0.169, 0.147, 0.442, 0.245, -0.009, 0.368, -...</td>\n",
       "      <td>89915501.0</td>\n",
       "      <td>-0.020957</td>\n",
       "      <td>2.0</td>\n",
       "      <td>万科A</td>\n",
       "    </tr>\n",
       "    <tr>\n",
       "      <th>...</th>\n",
       "      <td>...</td>\n",
       "      <td>...</td>\n",
       "      <td>...</td>\n",
       "      <td>...</td>\n",
       "      <td>...</td>\n",
       "      <td>...</td>\n",
       "      <td>...</td>\n",
       "    </tr>\n",
       "    <tr>\n",
       "      <th>22577</th>\n",
       "      <td>688027</td>\n",
       "      <td>2024-11-08</td>\n",
       "      <td>[-0.256, 0.111, 0.464, 0.062, -0.251, 0.017, -...</td>\n",
       "      <td>4293539.0</td>\n",
       "      <td>0.030305</td>\n",
       "      <td>1.0</td>\n",
       "      <td>国盾量子</td>\n",
       "    </tr>\n",
       "    <tr>\n",
       "      <th>22578</th>\n",
       "      <td>688027</td>\n",
       "      <td>2024-11-12</td>\n",
       "      <td>[-0.003, 0.185, 0.305, 0.533, 0.034, 0.336, -0...</td>\n",
       "      <td>3943615.0</td>\n",
       "      <td>-0.061404</td>\n",
       "      <td>1.0</td>\n",
       "      <td>国盾量子</td>\n",
       "    </tr>\n",
       "    <tr>\n",
       "      <th>22579</th>\n",
       "      <td>688027</td>\n",
       "      <td>2024-11-13</td>\n",
       "      <td>[-0.296, -0.023, 0.302, 0.175, 0.083, 0.216, -...</td>\n",
       "      <td>3551408.0</td>\n",
       "      <td>-0.017570</td>\n",
       "      <td>1.0</td>\n",
       "      <td>国盾量子</td>\n",
       "    </tr>\n",
       "    <tr>\n",
       "      <th>22580</th>\n",
       "      <td>688027</td>\n",
       "      <td>2024-11-14</td>\n",
       "      <td>[-0.344, -0.02, 0.309, 0.283, 0.03, 0.295, -0....</td>\n",
       "      <td>6098264.0</td>\n",
       "      <td>0.054033</td>\n",
       "      <td>1.0</td>\n",
       "      <td>国盾量子</td>\n",
       "    </tr>\n",
       "    <tr>\n",
       "      <th>22581</th>\n",
       "      <td>688027</td>\n",
       "      <td>2024-11-15</td>\n",
       "      <td>[-0.243, 0.021, 0.233, 0.167, 0.055, 0.272, -0...</td>\n",
       "      <td>4718232.0</td>\n",
       "      <td>-0.060903</td>\n",
       "      <td>1.0</td>\n",
       "      <td>国盾量子</td>\n",
       "    </tr>\n",
       "  </tbody>\n",
       "</table>\n",
       "<p>22582 rows × 7 columns</p>\n",
       "</div>"
      ],
      "text/plain": [
       "         股票编号         日期                                             高维情绪变量  \\\n",
       "0      000002 2021-06-01  [-0.178, -0.141, 0.283, 0.184, -0.002, 0.299, ...   \n",
       "1      000002 2021-06-08  [-0.276, -0.035, 0.247, 0.326, 0.018, 0.244, -...   \n",
       "2      000002 2021-06-10  [-0.083, 0.072, 0.273, 0.26, -0.087, 0.276, -0...   \n",
       "3      000002 2021-06-11  [-0.114, 0.163, 0.381, 0.325, -0.091, 0.088, -...   \n",
       "4      000002 2021-06-15  [-0.169, 0.147, 0.442, 0.245, -0.009, 0.368, -...   \n",
       "...       ...        ...                                                ...   \n",
       "22577  688027 2024-11-08  [-0.256, 0.111, 0.464, 0.062, -0.251, 0.017, -...   \n",
       "22578  688027 2024-11-12  [-0.003, 0.185, 0.305, 0.533, 0.034, 0.336, -0...   \n",
       "22579  688027 2024-11-13  [-0.296, -0.023, 0.302, 0.175, 0.083, 0.216, -...   \n",
       "22580  688027 2024-11-14  [-0.344, -0.02, 0.309, 0.283, 0.03, 0.295, -0....   \n",
       "22581  688027 2024-11-15  [-0.243, 0.021, 0.233, 0.167, 0.055, 0.272, -0...   \n",
       "\n",
       "              交易量     收益率变化  聚类标签  公司名称  \n",
       "0      60990961.0 -0.003745   2.0   万科A  \n",
       "1      44676494.0  0.004626   2.0   万科A  \n",
       "2      53800776.0 -0.010035   2.0   万科A  \n",
       "3      75853738.0 -0.014035   2.0   万科A  \n",
       "4      89915501.0 -0.020957   2.0   万科A  \n",
       "...           ...       ...   ...   ...  \n",
       "22577   4293539.0  0.030305   1.0  国盾量子  \n",
       "22578   3943615.0 -0.061404   1.0  国盾量子  \n",
       "22579   3551408.0 -0.017570   1.0  国盾量子  \n",
       "22580   6098264.0  0.054033   1.0  国盾量子  \n",
       "22581   4718232.0 -0.060903   1.0  国盾量子  \n",
       "\n",
       "[22582 rows x 7 columns]"
      ]
     },
     "execution_count": 10,
     "metadata": {},
     "output_type": "execute_result"
    }
   ],
   "source": [
    "# 对情绪值列进行 Min-Max 标准化\n",
    "def min_max_normalization(df, cols):\n",
    "    for col in cols:\n",
    "        min_val = df[col].min()\n",
    "        max_val = df[col].max()\n",
    "        df[col] = 2 * (df[col] - min_val) / (max_val - min_val) - 1\n",
    "    return df\n",
    "\n",
    "# 对每个股票编号的数据进行标准化和按日期汇总\n",
    "def process_data(df):\n",
    "    if MODEL != 'Deep-learning/Ours':\n",
    "        df_processed = pd.DataFrame()  # 用于存储结果\n",
    "        for stock_code, stock_data in df.groupby('股票编号'):\n",
    "            # 对每个股票编号内的数据进行标准化\n",
    "            stock_data = min_max_normalization(stock_data, ['上证综合情绪值', '沪深300情绪值', '创业板情绪值'])\n",
    "            \n",
    "            # 按日期汇总数据，同时保留股票编号\n",
    "            stock_summary = stock_data.groupby('日期').agg({\n",
    "                '股票编号': 'first',  # 保留股票编号（在同一日期内它是相同的，使用 'first'）\n",
    "                '上证综合情绪值': 'mean',  # 上证综合情绪值按日期取均值\n",
    "                '沪深300情绪值': 'mean',  # 沪深300情绪值按日期取均值\n",
    "                '创业板情绪值': 'mean',  # 创业板情绪值按日期取均值\n",
    "                '交易量': 'mean',  # 交易量按日期求和\n",
    "                '收益率变化': 'mean',  # 收益率变化按日期取均值\n",
    "                '聚类标签': 'first', # 保留聚类标签（在同一日期内它是相同的，使用 'first'）\n",
    "                '公司名称': 'first', # 保留公司名称（在同一日期内它是相同的，使用 'first'）\n",
    "            }).reset_index(drop=False)\n",
    "            \n",
    "            # 合并每个股票的汇总数据\n",
    "            df_processed = pd.concat([df_processed, stock_summary], ignore_index=True)\n",
    "            df_processed = df_processed.sort_values(by=['股票编号', '日期'], ascending=[True, True])\n",
    "        return df_processed\n",
    "    else:\n",
    "        df_processed = []    \n",
    "        # 确保高维情绪变量是 list 类型（如果还没转过）\n",
    "        if isinstance(df['高维情绪变量'].iloc[0], str):\n",
    "            df['高维情绪变量'] = df['高维情绪变量'].progress_apply(ast.literal_eval)\n",
    "        # 对每个股票编号处理，加 tqdm 进度条\n",
    "        for stock_code, stock_data in tqdm(df.groupby('股票编号'), desc=\"Processing stocks\"):\n",
    "            for date, group in stock_data.groupby('日期'):\n",
    "                emotion_matrix = np.array(group['高维情绪变量'].tolist())  # (样本数, 维度)\n",
    "\n",
    "                avg_emotion = emotion_matrix.mean(axis=0).round(3).tolist()\n",
    "\n",
    "                summary_row = {\n",
    "                    '股票编号': stock_code,\n",
    "                    '日期': date,\n",
    "                    '高维情绪变量': avg_emotion,\n",
    "                    '交易量': group['交易量'].mean(),\n",
    "                    '收益率变化': group['收益率变化'].mean(),\n",
    "                    '聚类标签': group['聚类标签'].iloc[0], # 保留聚类标签\n",
    "                    '公司名称': group['公司名称'].iloc[0], # 保留公司名称\n",
    "                }\n",
    "                df_processed.append(summary_row)\n",
    "\n",
    "\n",
    "    return pd.DataFrame(df_processed)\n",
    "\n",
    "final_data = process_data(merged_data)\n",
    "final_data"
   ]
  },
  {
   "cell_type": "code",
   "execution_count": 11,
   "id": "e024f795-a026-4d66-a585-029ee09bc584",
   "metadata": {
    "execution": {
     "iopub.execute_input": "2025-06-08T16:21:38.448971Z",
     "iopub.status.busy": "2025-06-08T16:21:38.448778Z",
     "iopub.status.idle": "2025-06-08T16:21:38.453729Z",
     "shell.execute_reply": "2025-06-08T16:21:38.453140Z"
    },
    "papermill": {
     "duration": 1.3045,
     "end_time": "2025-06-08T16:21:38.623440",
     "exception": false,
     "start_time": "2025-06-08T16:21:37.318940",
     "status": "completed"
    },
    "tags": []
   },
   "outputs": [],
   "source": [
    "# 统计检验 : 按照聚类标签分组，并计算均值和方差\n",
    "df = final_data.copy()\n",
    "if MODEL != 'Deep-learning/Ours':\n",
    "    statistical_result = df.groupby('聚类标签').agg(\n",
    "        情绪值均值=(EMO_NAME, 'mean'),\n",
    "        情绪值方差=(EMO_NAME, 'var'),\n",
    "        收益率变化均值=('收益率变化', 'mean'),\n",
    "        收益率变化方差=('收益率变化', 'var')\n",
    "    ).reset_index()\n",
    "else:\n",
    "    statistical_result = None\n",
    "# 输出结果\n",
    "statistical_result"
   ]
  },
  {
   "cell_type": "markdown",
   "id": "c6fef2e6-ce92-4739-8124-df5fda3089ab",
   "metadata": {
    "papermill": {
     "duration": 0.303272,
     "end_time": "2025-06-08T16:21:39.337211",
     "exception": false,
     "start_time": "2025-06-08T16:21:39.033939",
     "status": "completed"
    },
    "tags": []
   },
   "source": [
    "## 情绪值与股价二维展示图"
   ]
  },
  {
   "cell_type": "code",
   "execution_count": 12,
   "id": "7c10340e-e2e3-4c0c-b81f-f9254871cdd6",
   "metadata": {
    "execution": {
     "iopub.execute_input": "2025-06-08T16:21:39.534230Z",
     "iopub.status.busy": "2025-06-08T16:21:39.533841Z",
     "iopub.status.idle": "2025-06-08T16:21:39.540638Z",
     "shell.execute_reply": "2025-06-08T16:21:39.540112Z"
    },
    "papermill": {
     "duration": 0.083944,
     "end_time": "2025-06-08T16:21:39.541421",
     "exception": false,
     "start_time": "2025-06-08T16:21:39.457477",
     "status": "completed"
    },
    "tags": []
   },
   "outputs": [],
   "source": [
    "## 绘制不同簇情绪值随时间变化图\n",
    "if MODEL != 'Deep-learning/Ours':\n",
    "    # 按 '聚类标签' 和 '日期' 分组，计算平均情绪值\n",
    "    df_grouped = final_data.groupby(['聚类标签', '日期'])[['上证综合情绪值', '沪深300情绪值', '创业板情绪值']].mean().reset_index()\n",
    "    \n",
    "    # 为每个聚类标签绘制折线\n",
    "    i = 0\n",
    "    plt.figure(figsize=(12, 12))\n",
    "    for cluster in df_grouped['聚类标签'].unique():\n",
    "        if i == 0:\n",
    "            x = 'red'\n",
    "        elif i == 1:\n",
    "            x = 'blue'\n",
    "        elif i == 2:\n",
    "            x = 'green'\n",
    "        df_cluster = df_grouped[df_grouped['聚类标签'] == cluster]\n",
    "        plt.plot(df_cluster['日期'], df_cluster[EMO_NAME], label=f'{EMO_NAME} - 聚类 {cluster}', color=x)\n",
    "        i += 1\n",
    "        \n",
    "    plt.xlabel('日期')\n",
    "    plt.ylabel('平均情绪值')\n",
    "    plt.title('情绪值趋势图')\n",
    "    \n",
    "    \n",
    "    plt.gca().xaxis.set_major_locator(mdates.MonthLocator(bymonthday=15, interval=3))  # 每三个月显示\n",
    "    plt.gca().xaxis.set_major_formatter(mdates.DateFormatter('%Y-%m'))  # 格式化为年-月\n",
    "    \n",
    "    plt.xticks(rotation=45)\n",
    "    plt.legend()\n",
    "    plt.tight_layout()\n",
    "    \n",
    "    # plt.savefig(f'个股分析/{market_address}/图片/情绪值趋势图', dpi=300)\n",
    "    plt.show()\n"
   ]
  },
  {
   "cell_type": "code",
   "execution_count": 13,
   "id": "83095f56-13e5-42c8-93c4-9c403fd4feb0",
   "metadata": {
    "execution": {
     "iopub.execute_input": "2025-06-08T16:21:39.774664Z",
     "iopub.status.busy": "2025-06-08T16:21:39.774199Z",
     "iopub.status.idle": "2025-06-08T16:21:39.780916Z",
     "shell.execute_reply": "2025-06-08T16:21:39.779846Z"
    },
    "papermill": {
     "duration": 0.12707,
     "end_time": "2025-06-08T16:21:39.782063",
     "exception": false,
     "start_time": "2025-06-08T16:21:39.654993",
     "status": "completed"
    },
    "tags": []
   },
   "outputs": [],
   "source": [
    "## 绘制不同簇收益率随时间变化图\n",
    "if MODEL != 'Deep-learning/Ours':\n",
    "    # 按 '聚类标签' 和 '日期' 分组，计算平均收益率\n",
    "    return_grouped = final_data.groupby(['聚类标签', '日期'])['收益率变化'].mean().reset_index()\n",
    "    \n",
    "    # 为每个聚类标签绘制折线\n",
    "    i = 0\n",
    "    plt.figure(figsize=(12, 12))\n",
    "    for cluster in df_grouped['聚类标签'].unique():\n",
    "        if i == 0:\n",
    "            x = 'red'\n",
    "        elif i == 1:\n",
    "            x = 'blue'\n",
    "        elif i == 2:\n",
    "            x = 'green'\n",
    "        df_cluster = return_grouped[return_grouped['聚类标签'] == cluster]\n",
    "        plt.plot(df_cluster['日期'], df_cluster['收益率变化'], label=f'收益率变化 - 聚类 {cluster}', color=x)\n",
    "        i += 1\n",
    "    \n",
    "    plt.xlabel('日期')\n",
    "    plt.ylabel('平均收益率')\n",
    "    plt.title('收益率趋势图')\n",
    "    \n",
    "    plt.gca().xaxis.set_major_locator(mdates.MonthLocator(bymonthday=15, interval=3))  # 每三个月显示\n",
    "    plt.gca().xaxis.set_major_formatter(mdates.DateFormatter('%Y-%m'))  # 格式化为年-月\n",
    "    \n",
    "    plt.xticks(rotation=45)\n",
    "    plt.legend()\n",
    "    plt.tight_layout()\n",
    "    \n",
    "    # 显示图表\n",
    "    # plt.savefig(f'个股分析/{market_address}/图片/收益率趋势图', dpi=300)\n",
    "    plt.show()"
   ]
  },
  {
   "cell_type": "markdown",
   "id": "131ed14a-35c0-4e49-8c57-c89fd472f7bf",
   "metadata": {
    "papermill": {
     "duration": 0.123043,
     "end_time": "2025-06-08T16:21:40.009984",
     "exception": false,
     "start_time": "2025-06-08T16:21:39.886941",
     "status": "completed"
    },
    "tags": []
   },
   "source": [
    "## 三维展示图，分别展示簇是0，1，2的代表图"
   ]
  },
  {
   "cell_type": "code",
   "execution_count": 14,
   "id": "96b7a14d-c32e-4222-b82d-5f43f9928d35",
   "metadata": {
    "execution": {
     "iopub.execute_input": "2025-06-08T16:21:41.002273Z",
     "iopub.status.busy": "2025-06-08T16:21:41.001355Z",
     "iopub.status.idle": "2025-06-08T16:21:41.010125Z",
     "shell.execute_reply": "2025-06-08T16:21:41.009356Z"
    },
    "papermill": {
     "duration": 0.602776,
     "end_time": "2025-06-08T16:21:41.020435",
     "exception": false,
     "start_time": "2025-06-08T16:21:40.417659",
     "status": "completed"
    },
    "tags": []
   },
   "outputs": [],
   "source": [
    "### 聚类0示例 ###\n",
    "if MODEL != 'Deep-learning/Ours':\n",
    "    # 复制数据集，确保不会修改原始数据\n",
    "    merged_data_cleaned = final_data.copy()\n",
    "    merged_data_cleaned['日期'] = pd.to_datetime(merged_data_cleaned['日期'])\n",
    "    \n",
    "    # 选择聚类标签为 0 的数据，找到数据最多的股票编号\n",
    "    cluster_0_data = merged_data_cleaned[merged_data_cleaned['聚类标签'] == 0]\n",
    "    top_stock_code = cluster_0_data['股票编号'].value_counts().idxmax()\n",
    "    top_stock_data = cluster_0_data[cluster_0_data['股票编号'] == top_stock_code]\n",
    "    \n",
    "    # 创建 3D 图\n",
    "    fig = plt.figure(figsize=(50, 50))\n",
    "    ax = fig.add_subplot(111, projection='3d')\n",
    "    \n",
    "    # 提取绘图数据\n",
    "    x = top_stock_data[EMO_NAME]  # 情绪值作为 x 轴\n",
    "    y = mdates.date2num(top_stock_data['日期'])  # 时间转换为数值类型\n",
    "    z = top_stock_data['收益率变化']  # 收益率变化作为 z 轴\n",
    "    \n",
    "    # 绘制三维折线图\n",
    "    ax.plot(x, y, z, label=f\"股票 {top_stock_code}\", marker='o', linestyle='-', alpha=0.7)\n",
    "    \n",
    "    # 设置轴标签\n",
    "    ax.set_xlabel(EMO_NAME)\n",
    "    ax.set_ylabel('时间')\n",
    "    ax.set_zlabel('收益率变化')\n",
    "    ax.set_title(f'股票 {top_stock_code}: {EMO_NAME} 与收益率变化的三维关系')\n",
    "    \n",
    "    # 设置 y 轴时间刻度（每半年一个刻度）\n",
    "    ax.yaxis.set_major_locator(mdates.MonthLocator(bymonthday=15, interval=6))  # 每半年一个刻度\n",
    "    ax.yaxis.set_major_formatter(mdates.DateFormatter('%Y-%m'))  # 按年月显示\n",
    "    \n",
    "    # 旋转日期标签防止重叠\n",
    "    fig.autofmt_xdate()\n",
    "    \n",
    "    # 调整布局并保存图像\n",
    "    plt.legend()\n",
    "    # plt.savefig(f'个股分析/{market_address}/图片/聚类0_{top_stock_code}.png', dpi=300, bbox_inches='tight')\n",
    "    plt.show()\n"
   ]
  },
  {
   "cell_type": "code",
   "execution_count": 15,
   "id": "f889b93b-d345-4862-821d-e20a660d5248",
   "metadata": {
    "execution": {
     "iopub.execute_input": "2025-06-08T16:21:41.487289Z",
     "iopub.status.busy": "2025-06-08T16:21:41.486961Z",
     "iopub.status.idle": "2025-06-08T16:21:41.494029Z",
     "shell.execute_reply": "2025-06-08T16:21:41.493541Z"
    },
    "papermill": {
     "duration": 0.142674,
     "end_time": "2025-06-08T16:21:41.494872",
     "exception": false,
     "start_time": "2025-06-08T16:21:41.352198",
     "status": "completed"
    },
    "tags": []
   },
   "outputs": [],
   "source": [
    "### 聚类1示例 ###\n",
    "if MODEL != 'Deep-learning/Ours':\n",
    "    # 复制数据集，确保不会修改原始数据\n",
    "    merged_data_cleaned = final_data.copy()\n",
    "    merged_data_cleaned['日期'] = pd.to_datetime(merged_data_cleaned['日期'])\n",
    "    \n",
    "    # 选择聚类标签为 0 的数据，找到数据最多的股票编号\n",
    "    cluster_0_data = merged_data_cleaned[merged_data_cleaned['聚类标签'] == 1]\n",
    "    top_stock_code = cluster_0_data['股票编号'].value_counts().idxmax()\n",
    "    top_stock_data = cluster_0_data[cluster_0_data['股票编号'] == top_stock_code]\n",
    "    \n",
    "    \n",
    "    # 创建 3D 图\n",
    "    fig = plt.figure(figsize=(50, 50))\n",
    "    ax = fig.add_subplot(111, projection='3d')\n",
    "    \n",
    "    # 提取绘图数据\n",
    "    x = top_stock_data[EMO_NAME]  # 情绪值作为 x 轴\n",
    "    y = mdates.date2num(top_stock_data['日期'])  # 时间转换为数值类型\n",
    "    z = top_stock_data['收益率变化']  # 收益率变化作为 z 轴\n",
    "    \n",
    "    # 绘制三维折线图\n",
    "    ax.plot(x, y, z, label=f\"股票 {top_stock_code}\", marker='o', linestyle='-', alpha=0.7)\n",
    "    \n",
    "    # 设置轴标签\n",
    "    ax.set_xlabel(EMO_NAME)\n",
    "    ax.set_ylabel('时间')\n",
    "    ax.set_zlabel('收益率变化')\n",
    "    ax.set_title(f'股票 {top_stock_code}: {EMO_NAME} 与收益率变化的三维关系')\n",
    "    \n",
    "    # 设置 y 轴时间刻度（每半年一个刻度）\n",
    "    ax.yaxis.set_major_locator(mdates.MonthLocator(bymonthday=15, interval=6))  # 每半年一个刻度\n",
    "    ax.yaxis.set_major_formatter(mdates.DateFormatter('%Y-%m'))  # 按年月显示\n",
    "    \n",
    "    # 旋转日期标签防止重叠\n",
    "    fig.autofmt_xdate()\n",
    "    \n",
    "    # 调整布局并保存图像\n",
    "    plt.legend()\n",
    "    # plt.savefig(f'个股分析/{market_address}/图片/聚类1_{top_stock_code}.png', dpi=300, bbox_inches='tight')\n",
    "    plt.show()\n"
   ]
  },
  {
   "cell_type": "code",
   "execution_count": 16,
   "id": "b5fc2e95-696f-4c88-8cb2-ab228cc9edd4",
   "metadata": {
    "execution": {
     "iopub.execute_input": "2025-06-08T16:21:41.867488Z",
     "iopub.status.busy": "2025-06-08T16:21:41.867139Z",
     "iopub.status.idle": "2025-06-08T16:21:41.876209Z",
     "shell.execute_reply": "2025-06-08T16:21:41.875638Z"
    },
    "papermill": {
     "duration": 0.236364,
     "end_time": "2025-06-08T16:21:41.877466",
     "exception": false,
     "start_time": "2025-06-08T16:21:41.641102",
     "status": "completed"
    },
    "tags": []
   },
   "outputs": [],
   "source": [
    "### 聚类2示例 ###\n",
    "if MODEL != 'Deep-learning/Ours':\n",
    "    # 复制数据集，确保不会修改原始数据\n",
    "    merged_data_cleaned = final_data.copy()\n",
    "    merged_data_cleaned['日期'] = pd.to_datetime(merged_data_cleaned['日期'])\n",
    "    \n",
    "    # 选择聚类标签为 0 的数据，找到数据最多的股票编号\n",
    "    cluster_0_data = merged_data_cleaned[merged_data_cleaned['聚类标签'] == 2]\n",
    "    top_stock_code = cluster_0_data['股票编号'].value_counts().idxmax()\n",
    "    top_stock_data = cluster_0_data[cluster_0_data['股票编号'] == top_stock_code]\n",
    "    \n",
    "    \n",
    "    # 创建 3D 图\n",
    "    fig = plt.figure(figsize=(50, 50))\n",
    "    ax = fig.add_subplot(111, projection='3d')\n",
    "    \n",
    "    # 提取绘图数据\n",
    "    x = top_stock_data[EMO_NAME]  # 情绪值作为 x 轴\n",
    "    y = mdates.date2num(top_stock_data['日期'])  # 时间转换为数值类型\n",
    "    z = top_stock_data['收益率变化']  # 收益率变化作为 z 轴\n",
    "    \n",
    "    # 绘制三维折线图\n",
    "    ax.plot(x, y, z, label=f\"股票 {top_stock_code}\", marker='o', linestyle='-', alpha=0.7)\n",
    "    \n",
    "    # 设置轴标签\n",
    "    ax.set_xlabel(EMO_NAME)\n",
    "    ax.set_ylabel('时间')\n",
    "    ax.set_zlabel('收益率变化')\n",
    "    ax.set_title(f'股票 {top_stock_code}: {EMO_NAME} 与收益率变化的三维关系')\n",
    "    \n",
    "    # 设置 y 轴时间刻度（每半年一个刻度）\n",
    "    ax.yaxis.set_major_locator(mdates.MonthLocator(bymonthday=15, interval=6))  # 每半年一个刻度\n",
    "    ax.yaxis.set_major_formatter(mdates.DateFormatter('%Y-%m'))  # 按年月显示\n",
    "    \n",
    "    # 旋转日期标签防止重叠\n",
    "    fig.autofmt_xdate()\n",
    "    \n",
    "    # 调整布局并保存图像\n",
    "    plt.legend()\n",
    "    # plt.savefig(f'个股分析/{market_address}/图片/聚类2_{top_stock_code}.png', dpi=300, bbox_inches='tight')\n",
    "    plt.show()\n"
   ]
  },
  {
   "cell_type": "markdown",
   "id": "f9fb3110-ba40-4553-9a28-fb7e7a5cb2fd",
   "metadata": {
    "papermill": {
     "duration": 0.230955,
     "end_time": "2025-06-08T16:21:42.330062",
     "exception": false,
     "start_time": "2025-06-08T16:21:42.099107",
     "status": "completed"
    },
    "tags": []
   },
   "source": [
    "## 进行聚类间实证分析"
   ]
  },
  {
   "cell_type": "markdown",
   "id": "5d72a906-887e-4ede-9e17-31ac9016f673",
   "metadata": {
    "papermill": {
     "duration": 0.173527,
     "end_time": "2025-06-08T16:21:42.798379",
     "exception": false,
     "start_time": "2025-06-08T16:21:42.624852",
     "status": "completed"
    },
    "tags": []
   },
   "source": [
    "#### 读取个股金融数据"
   ]
  },
  {
   "cell_type": "code",
   "execution_count": 17,
   "id": "366cd855-a111-4154-b9e3-413919e130cc",
   "metadata": {
    "execution": {
     "iopub.execute_input": "2025-06-08T16:21:43.089358Z",
     "iopub.status.busy": "2025-06-08T16:21:43.089047Z",
     "iopub.status.idle": "2025-06-08T16:21:44.339286Z",
     "shell.execute_reply": "2025-06-08T16:21:44.338843Z"
    },
    "papermill": {
     "duration": 1.423766,
     "end_time": "2025-06-08T16:21:44.379054",
     "exception": false,
     "start_time": "2025-06-08T16:21:42.955288",
     "status": "completed"
    },
    "tags": []
   },
   "outputs": [
    {
     "data": {
      "text/html": [
       "<div>\n",
       "<style scoped>\n",
       "    .dataframe tbody tr th:only-of-type {\n",
       "        vertical-align: middle;\n",
       "    }\n",
       "\n",
       "    .dataframe tbody tr th {\n",
       "        vertical-align: top;\n",
       "    }\n",
       "\n",
       "    .dataframe thead th {\n",
       "        text-align: right;\n",
       "    }\n",
       "</style>\n",
       "<table border=\"1\" class=\"dataframe\">\n",
       "  <thead>\n",
       "    <tr style=\"text-align: right;\">\n",
       "      <th></th>\n",
       "      <th>日期_Date</th>\n",
       "      <th>股票代码_Stkcd</th>\n",
       "      <th>日振幅(%)_Dampltd</th>\n",
       "      <th>日收益率_Dret</th>\n",
       "      <th>市盈率_PE</th>\n",
       "      <th>成交量_Trdvol</th>\n",
       "      <th>流通股日换手率(%)_DTrdTurnR</th>\n",
       "      <th>总市值加权平均日资本收益_Daretmc</th>\n",
       "    </tr>\n",
       "  </thead>\n",
       "  <tbody>\n",
       "    <tr>\n",
       "      <th>0</th>\n",
       "      <td>2023-02-01</td>\n",
       "      <td>000100</td>\n",
       "      <td>1.6667</td>\n",
       "      <td>0.0071</td>\n",
       "      <td>276.47</td>\n",
       "      <td>147751077.0</td>\n",
       "      <td>1.0357</td>\n",
       "      <td>0.0145</td>\n",
       "    </tr>\n",
       "    <tr>\n",
       "      <th>1</th>\n",
       "      <td>2023-02-02</td>\n",
       "      <td>000100</td>\n",
       "      <td>2.1277</td>\n",
       "      <td>-0.0095</td>\n",
       "      <td>273.86</td>\n",
       "      <td>188929965.0</td>\n",
       "      <td>1.3244</td>\n",
       "      <td>-0.0005</td>\n",
       "    </tr>\n",
       "    <tr>\n",
       "      <th>2</th>\n",
       "      <td>2023-02-03</td>\n",
       "      <td>000100</td>\n",
       "      <td>2.1480</td>\n",
       "      <td>-0.0048</td>\n",
       "      <td>272.55</td>\n",
       "      <td>200087013.0</td>\n",
       "      <td>1.4026</td>\n",
       "      <td>-0.0042</td>\n",
       "    </tr>\n",
       "    <tr>\n",
       "      <th>3</th>\n",
       "      <td>2023-02-06</td>\n",
       "      <td>000100</td>\n",
       "      <td>1.6787</td>\n",
       "      <td>-0.0072</td>\n",
       "      <td>270.59</td>\n",
       "      <td>134158688.0</td>\n",
       "      <td>0.9404</td>\n",
       "      <td>-0.0084</td>\n",
       "    </tr>\n",
       "    <tr>\n",
       "      <th>4</th>\n",
       "      <td>2023-02-07</td>\n",
       "      <td>000100</td>\n",
       "      <td>1.4493</td>\n",
       "      <td>0.0024</td>\n",
       "      <td>271.24</td>\n",
       "      <td>87200030.0</td>\n",
       "      <td>0.6113</td>\n",
       "      <td>0.0036</td>\n",
       "    </tr>\n",
       "    <tr>\n",
       "      <th>...</th>\n",
       "      <td>...</td>\n",
       "      <td>...</td>\n",
       "      <td>...</td>\n",
       "      <td>...</td>\n",
       "      <td>...</td>\n",
       "      <td>...</td>\n",
       "      <td>...</td>\n",
       "      <td>...</td>\n",
       "    </tr>\n",
       "    <tr>\n",
       "      <th>162617</th>\n",
       "      <td>2024-11-14</td>\n",
       "      <td>601566</td>\n",
       "      <td>3.0340</td>\n",
       "      <td>-0.0255</td>\n",
       "      <td>16.94</td>\n",
       "      <td>3223500.0</td>\n",
       "      <td>0.5610</td>\n",
       "      <td>-0.0146</td>\n",
       "    </tr>\n",
       "    <tr>\n",
       "      <th>162618</th>\n",
       "      <td>2024-11-15</td>\n",
       "      <td>601566</td>\n",
       "      <td>2.8643</td>\n",
       "      <td>0.0025</td>\n",
       "      <td>16.98</td>\n",
       "      <td>2824500.0</td>\n",
       "      <td>0.4915</td>\n",
       "      <td>-0.0112</td>\n",
       "    </tr>\n",
       "    <tr>\n",
       "      <th>162619</th>\n",
       "      <td>2024-11-18</td>\n",
       "      <td>601566</td>\n",
       "      <td>3.8509</td>\n",
       "      <td>-0.0025</td>\n",
       "      <td>16.94</td>\n",
       "      <td>3729993.0</td>\n",
       "      <td>0.6491</td>\n",
       "      <td>0.0009</td>\n",
       "    </tr>\n",
       "    <tr>\n",
       "      <th>162620</th>\n",
       "      <td>2024-11-19</td>\n",
       "      <td>601566</td>\n",
       "      <td>2.3661</td>\n",
       "      <td>0.0137</td>\n",
       "      <td>17.17</td>\n",
       "      <td>3367065.0</td>\n",
       "      <td>0.5859</td>\n",
       "      <td>0.0031</td>\n",
       "    </tr>\n",
       "    <tr>\n",
       "      <th>162621</th>\n",
       "      <td>2024-11-20</td>\n",
       "      <td>601566</td>\n",
       "      <td>2.4570</td>\n",
       "      <td>0.0172</td>\n",
       "      <td>17.46</td>\n",
       "      <td>4148800.0</td>\n",
       "      <td>0.7220</td>\n",
       "      <td>0.0054</td>\n",
       "    </tr>\n",
       "  </tbody>\n",
       "</table>\n",
       "<p>162622 rows × 8 columns</p>\n",
       "</div>"
      ],
      "text/plain": [
       "           日期_Date 股票代码_Stkcd  日振幅(%)_Dampltd  日收益率_Dret  市盈率_PE   成交量_Trdvol  \\\n",
       "0       2023-02-01     000100          1.6667     0.0071  276.47  147751077.0   \n",
       "1       2023-02-02     000100          2.1277    -0.0095  273.86  188929965.0   \n",
       "2       2023-02-03     000100          2.1480    -0.0048  272.55  200087013.0   \n",
       "3       2023-02-06     000100          1.6787    -0.0072  270.59  134158688.0   \n",
       "4       2023-02-07     000100          1.4493     0.0024  271.24   87200030.0   \n",
       "...            ...        ...             ...        ...     ...          ...   \n",
       "162617  2024-11-14     601566          3.0340    -0.0255   16.94    3223500.0   \n",
       "162618  2024-11-15     601566          2.8643     0.0025   16.98    2824500.0   \n",
       "162619  2024-11-18     601566          3.8509    -0.0025   16.94    3729993.0   \n",
       "162620  2024-11-19     601566          2.3661     0.0137   17.17    3367065.0   \n",
       "162621  2024-11-20     601566          2.4570     0.0172   17.46    4148800.0   \n",
       "\n",
       "        流通股日换手率(%)_DTrdTurnR  总市值加权平均日资本收益_Daretmc  \n",
       "0                     1.0357                0.0145  \n",
       "1                     1.3244               -0.0005  \n",
       "2                     1.4026               -0.0042  \n",
       "3                     0.9404               -0.0084  \n",
       "4                     0.6113                0.0036  \n",
       "...                      ...                   ...  \n",
       "162617                0.5610               -0.0146  \n",
       "162618                0.4915               -0.0112  \n",
       "162619                0.6491                0.0009  \n",
       "162620                0.5859                0.0031  \n",
       "162621                0.7220                0.0054  \n",
       "\n",
       "[162622 rows x 8 columns]"
      ]
     },
     "execution_count": 17,
     "metadata": {},
     "output_type": "execute_result"
    }
   ],
   "source": [
    "# 读取原始数据\n",
    "microfinancial_data = pd.read_csv(f'{Financial_Data_PATH}/个股微观金融数据.csv', encoding='utf-8')\n",
    "\n",
    "# 选择重要的列，日期和股票代码一定要包含\n",
    "columns_to_select = [\n",
    "    '日期_Date',  # 日期\n",
    "    '股票代码_Stkcd',  # 股票代码\n",
    "    '日振幅(%)_Dampltd',  # 日振幅\n",
    "    '日收益率_Dret',  # 日收益率\n",
    "    '市盈率_PE',  # 市盈率\n",
    "    '成交量_Trdvol',  # 成交量\n",
    "    '流通股日换手率(%)_DTrdTurnR',\n",
    "    '总市值加权平均日资本收益_Daretmc',\n",
    "]\n",
    "\n",
    "# 提取相关列\n",
    "microfinancial_data = microfinancial_data[columns_to_select]\n",
    "microfinancial_data['股票代码_Stkcd'] = microfinancial_data['股票代码_Stkcd'].apply(lambda x: str(x).zfill(6))\n",
    "\n",
    "# microfinancial_data = microfinancial_data[microfinancial_data['日期_Date'] == '2022-03-01'] #用于检验某一天数据\n",
    "microfinancial_data"
   ]
  },
  {
   "cell_type": "markdown",
   "id": "787c08e3-82c2-4b98-97fd-a9fc81a9cfcc",
   "metadata": {
    "papermill": {
     "duration": 0.287607,
     "end_time": "2025-06-08T16:21:44.865686",
     "exception": false,
     "start_time": "2025-06-08T16:21:44.578079",
     "status": "completed"
    },
    "tags": []
   },
   "source": [
    "#### 加载之前的情绪聚类数据"
   ]
  },
  {
   "cell_type": "code",
   "execution_count": 18,
   "id": "26d07f1c-0f88-47c3-92ab-fd4a41735e8e",
   "metadata": {
    "execution": {
     "iopub.execute_input": "2025-06-08T16:21:45.860529Z",
     "iopub.status.busy": "2025-06-08T16:21:45.860158Z",
     "iopub.status.idle": "2025-06-08T16:21:45.882676Z",
     "shell.execute_reply": "2025-06-08T16:21:45.881654Z"
    },
    "papermill": {
     "duration": 0.73743,
     "end_time": "2025-06-08T16:21:45.884803",
     "exception": false,
     "start_time": "2025-06-08T16:21:45.147373",
     "status": "completed"
    },
    "tags": []
   },
   "outputs": [
    {
     "data": {
      "text/html": [
       "<div>\n",
       "<style scoped>\n",
       "    .dataframe tbody tr th:only-of-type {\n",
       "        vertical-align: middle;\n",
       "    }\n",
       "\n",
       "    .dataframe tbody tr th {\n",
       "        vertical-align: top;\n",
       "    }\n",
       "\n",
       "    .dataframe thead th {\n",
       "        text-align: right;\n",
       "    }\n",
       "</style>\n",
       "<table border=\"1\" class=\"dataframe\">\n",
       "  <thead>\n",
       "    <tr style=\"text-align: right;\">\n",
       "      <th></th>\n",
       "      <th>股票编号</th>\n",
       "      <th>日期</th>\n",
       "      <th>高维情绪变量</th>\n",
       "      <th>交易量</th>\n",
       "      <th>收益率变化</th>\n",
       "      <th>聚类标签</th>\n",
       "      <th>公司名称</th>\n",
       "    </tr>\n",
       "  </thead>\n",
       "  <tbody>\n",
       "    <tr>\n",
       "      <th>0</th>\n",
       "      <td>000002</td>\n",
       "      <td>2021-06-01</td>\n",
       "      <td>[-0.178, -0.141, 0.283, 0.184, -0.002, 0.299, ...</td>\n",
       "      <td>60990961.0</td>\n",
       "      <td>-0.003745</td>\n",
       "      <td>2.0</td>\n",
       "      <td>万科A</td>\n",
       "    </tr>\n",
       "    <tr>\n",
       "      <th>1</th>\n",
       "      <td>000002</td>\n",
       "      <td>2021-06-08</td>\n",
       "      <td>[-0.276, -0.035, 0.247, 0.326, 0.018, 0.244, -...</td>\n",
       "      <td>44676494.0</td>\n",
       "      <td>0.004626</td>\n",
       "      <td>2.0</td>\n",
       "      <td>万科A</td>\n",
       "    </tr>\n",
       "    <tr>\n",
       "      <th>2</th>\n",
       "      <td>000002</td>\n",
       "      <td>2021-06-10</td>\n",
       "      <td>[-0.083, 0.072, 0.273, 0.26, -0.087, 0.276, -0...</td>\n",
       "      <td>53800776.0</td>\n",
       "      <td>-0.010035</td>\n",
       "      <td>2.0</td>\n",
       "      <td>万科A</td>\n",
       "    </tr>\n",
       "    <tr>\n",
       "      <th>3</th>\n",
       "      <td>000002</td>\n",
       "      <td>2021-06-11</td>\n",
       "      <td>[-0.114, 0.163, 0.381, 0.325, -0.091, 0.088, -...</td>\n",
       "      <td>75853738.0</td>\n",
       "      <td>-0.014035</td>\n",
       "      <td>2.0</td>\n",
       "      <td>万科A</td>\n",
       "    </tr>\n",
       "    <tr>\n",
       "      <th>4</th>\n",
       "      <td>000002</td>\n",
       "      <td>2021-06-15</td>\n",
       "      <td>[-0.169, 0.147, 0.442, 0.245, -0.009, 0.368, -...</td>\n",
       "      <td>89915501.0</td>\n",
       "      <td>-0.020957</td>\n",
       "      <td>2.0</td>\n",
       "      <td>万科A</td>\n",
       "    </tr>\n",
       "    <tr>\n",
       "      <th>...</th>\n",
       "      <td>...</td>\n",
       "      <td>...</td>\n",
       "      <td>...</td>\n",
       "      <td>...</td>\n",
       "      <td>...</td>\n",
       "      <td>...</td>\n",
       "      <td>...</td>\n",
       "    </tr>\n",
       "    <tr>\n",
       "      <th>22577</th>\n",
       "      <td>688027</td>\n",
       "      <td>2024-11-08</td>\n",
       "      <td>[-0.256, 0.111, 0.464, 0.062, -0.251, 0.017, -...</td>\n",
       "      <td>4293539.0</td>\n",
       "      <td>0.030305</td>\n",
       "      <td>1.0</td>\n",
       "      <td>国盾量子</td>\n",
       "    </tr>\n",
       "    <tr>\n",
       "      <th>22578</th>\n",
       "      <td>688027</td>\n",
       "      <td>2024-11-12</td>\n",
       "      <td>[-0.003, 0.185, 0.305, 0.533, 0.034, 0.336, -0...</td>\n",
       "      <td>3943615.0</td>\n",
       "      <td>-0.061404</td>\n",
       "      <td>1.0</td>\n",
       "      <td>国盾量子</td>\n",
       "    </tr>\n",
       "    <tr>\n",
       "      <th>22579</th>\n",
       "      <td>688027</td>\n",
       "      <td>2024-11-13</td>\n",
       "      <td>[-0.296, -0.023, 0.302, 0.175, 0.083, 0.216, -...</td>\n",
       "      <td>3551408.0</td>\n",
       "      <td>-0.017570</td>\n",
       "      <td>1.0</td>\n",
       "      <td>国盾量子</td>\n",
       "    </tr>\n",
       "    <tr>\n",
       "      <th>22580</th>\n",
       "      <td>688027</td>\n",
       "      <td>2024-11-14</td>\n",
       "      <td>[-0.344, -0.02, 0.309, 0.283, 0.03, 0.295, -0....</td>\n",
       "      <td>6098264.0</td>\n",
       "      <td>0.054033</td>\n",
       "      <td>1.0</td>\n",
       "      <td>国盾量子</td>\n",
       "    </tr>\n",
       "    <tr>\n",
       "      <th>22581</th>\n",
       "      <td>688027</td>\n",
       "      <td>2024-11-15</td>\n",
       "      <td>[-0.243, 0.021, 0.233, 0.167, 0.055, 0.272, -0...</td>\n",
       "      <td>4718232.0</td>\n",
       "      <td>-0.060903</td>\n",
       "      <td>1.0</td>\n",
       "      <td>国盾量子</td>\n",
       "    </tr>\n",
       "  </tbody>\n",
       "</table>\n",
       "<p>22582 rows × 7 columns</p>\n",
       "</div>"
      ],
      "text/plain": [
       "         股票编号         日期                                             高维情绪变量  \\\n",
       "0      000002 2021-06-01  [-0.178, -0.141, 0.283, 0.184, -0.002, 0.299, ...   \n",
       "1      000002 2021-06-08  [-0.276, -0.035, 0.247, 0.326, 0.018, 0.244, -...   \n",
       "2      000002 2021-06-10  [-0.083, 0.072, 0.273, 0.26, -0.087, 0.276, -0...   \n",
       "3      000002 2021-06-11  [-0.114, 0.163, 0.381, 0.325, -0.091, 0.088, -...   \n",
       "4      000002 2021-06-15  [-0.169, 0.147, 0.442, 0.245, -0.009, 0.368, -...   \n",
       "...       ...        ...                                                ...   \n",
       "22577  688027 2024-11-08  [-0.256, 0.111, 0.464, 0.062, -0.251, 0.017, -...   \n",
       "22578  688027 2024-11-12  [-0.003, 0.185, 0.305, 0.533, 0.034, 0.336, -0...   \n",
       "22579  688027 2024-11-13  [-0.296, -0.023, 0.302, 0.175, 0.083, 0.216, -...   \n",
       "22580  688027 2024-11-14  [-0.344, -0.02, 0.309, 0.283, 0.03, 0.295, -0....   \n",
       "22581  688027 2024-11-15  [-0.243, 0.021, 0.233, 0.167, 0.055, 0.272, -0...   \n",
       "\n",
       "              交易量     收益率变化  聚类标签  公司名称  \n",
       "0      60990961.0 -0.003745   2.0   万科A  \n",
       "1      44676494.0  0.004626   2.0   万科A  \n",
       "2      53800776.0 -0.010035   2.0   万科A  \n",
       "3      75853738.0 -0.014035   2.0   万科A  \n",
       "4      89915501.0 -0.020957   2.0   万科A  \n",
       "...           ...       ...   ...   ...  \n",
       "22577   4293539.0  0.030305   1.0  国盾量子  \n",
       "22578   3943615.0 -0.061404   1.0  国盾量子  \n",
       "22579   3551408.0 -0.017570   1.0  国盾量子  \n",
       "22580   6098264.0  0.054033   1.0  国盾量子  \n",
       "22581   4718232.0 -0.060903   1.0  国盾量子  \n",
       "\n",
       "[22582 rows x 7 columns]"
      ]
     },
     "execution_count": 18,
     "metadata": {},
     "output_type": "execute_result"
    }
   ],
   "source": [
    "final_data"
   ]
  },
  {
   "cell_type": "markdown",
   "id": "f9b4d839-d669-4daf-b47a-908c679f1635",
   "metadata": {
    "papermill": {
     "duration": 0.0718,
     "end_time": "2025-06-08T16:21:46.079586",
     "exception": false,
     "start_time": "2025-06-08T16:21:46.007786",
     "status": "completed"
    },
    "tags": []
   },
   "source": [
    "#### 读取市场换手率与市盈率并进行插值"
   ]
  },
  {
   "cell_type": "code",
   "execution_count": 19,
   "id": "7d25b396-8837-4a76-b2d8-abced31afa33",
   "metadata": {
    "execution": {
     "iopub.execute_input": "2025-06-08T16:21:46.349713Z",
     "iopub.status.busy": "2025-06-08T16:21:46.348690Z",
     "iopub.status.idle": "2025-06-08T16:21:46.399708Z",
     "shell.execute_reply": "2025-06-08T16:21:46.399165Z"
    },
    "papermill": {
     "duration": 0.180965,
     "end_time": "2025-06-08T16:21:46.400464",
     "exception": false,
     "start_time": "2025-06-08T16:21:46.219499",
     "status": "completed"
    },
    "tags": []
   },
   "outputs": [
    {
     "data": {
      "text/html": [
       "<div>\n",
       "<style scoped>\n",
       "    .dataframe tbody tr th:only-of-type {\n",
       "        vertical-align: middle;\n",
       "    }\n",
       "\n",
       "    .dataframe tbody tr th {\n",
       "        vertical-align: top;\n",
       "    }\n",
       "\n",
       "    .dataframe thead th {\n",
       "        text-align: right;\n",
       "    }\n",
       "</style>\n",
       "<table border=\"1\" class=\"dataframe\">\n",
       "  <thead>\n",
       "    <tr style=\"text-align: right;\">\n",
       "      <th></th>\n",
       "      <th>统计日期</th>\n",
       "      <th>市场平均市盈率</th>\n",
       "      <th>市场换手率(总股本)</th>\n",
       "    </tr>\n",
       "  </thead>\n",
       "  <tbody>\n",
       "    <tr>\n",
       "      <th>0</th>\n",
       "      <td>2021-01-04</td>\n",
       "      <td>16.918000</td>\n",
       "      <td>1.140600</td>\n",
       "    </tr>\n",
       "    <tr>\n",
       "      <th>12</th>\n",
       "      <td>2021-01-04</td>\n",
       "      <td>25.986305</td>\n",
       "      <td>1.237217</td>\n",
       "    </tr>\n",
       "    <tr>\n",
       "      <th>11</th>\n",
       "      <td>2021-01-04</td>\n",
       "      <td>35.054611</td>\n",
       "      <td>1.333834</td>\n",
       "    </tr>\n",
       "    <tr>\n",
       "      <th>10</th>\n",
       "      <td>2021-01-04</td>\n",
       "      <td>44.122916</td>\n",
       "      <td>1.430451</td>\n",
       "    </tr>\n",
       "    <tr>\n",
       "      <th>8</th>\n",
       "      <td>2021-01-04</td>\n",
       "      <td>53.191221</td>\n",
       "      <td>1.527068</td>\n",
       "    </tr>\n",
       "    <tr>\n",
       "      <th>...</th>\n",
       "      <td>...</td>\n",
       "      <td>...</td>\n",
       "      <td>...</td>\n",
       "    </tr>\n",
       "    <tr>\n",
       "      <th>12364</th>\n",
       "      <td>2024-12-06</td>\n",
       "      <td>39.185061</td>\n",
       "      <td>2.176139</td>\n",
       "    </tr>\n",
       "    <tr>\n",
       "      <th>12363</th>\n",
       "      <td>2024-12-06</td>\n",
       "      <td>14.390000</td>\n",
       "      <td>1.292500</td>\n",
       "    </tr>\n",
       "    <tr>\n",
       "      <th>12374</th>\n",
       "      <td>2024-12-06</td>\n",
       "      <td>14.390000</td>\n",
       "      <td>1.292500</td>\n",
       "    </tr>\n",
       "    <tr>\n",
       "      <th>12368</th>\n",
       "      <td>2024-12-06</td>\n",
       "      <td>14.390000</td>\n",
       "      <td>1.292500</td>\n",
       "    </tr>\n",
       "    <tr>\n",
       "      <th>12375</th>\n",
       "      <td>2024-12-06</td>\n",
       "      <td>14.390000</td>\n",
       "      <td>1.292500</td>\n",
       "    </tr>\n",
       "  </tbody>\n",
       "</table>\n",
       "<p>12376 rows × 3 columns</p>\n",
       "</div>"
      ],
      "text/plain": [
       "            统计日期    市场平均市盈率  市场换手率(总股本)\n",
       "0     2021-01-04  16.918000    1.140600\n",
       "12    2021-01-04  25.986305    1.237217\n",
       "11    2021-01-04  35.054611    1.333834\n",
       "10    2021-01-04  44.122916    1.430451\n",
       "8     2021-01-04  53.191221    1.527068\n",
       "...          ...        ...         ...\n",
       "12364 2024-12-06  39.185061    2.176139\n",
       "12363 2024-12-06  14.390000    1.292500\n",
       "12374 2024-12-06  14.390000    1.292500\n",
       "12368 2024-12-06  14.390000    1.292500\n",
       "12375 2024-12-06  14.390000    1.292500\n",
       "\n",
       "[12376 rows x 3 columns]"
      ]
     },
     "execution_count": 19,
     "metadata": {},
     "output_type": "execute_result"
    }
   ],
   "source": [
    "turnover_PE_rate = pd.read_csv(f'{Financial_Data_PATH}/市场整体换手率与市盈率.csv', encoding='utf-8')\n",
    "turnover_PE_rate['统计日期'] = pd.to_datetime(turnover_PE_rate['统计日期'])\n",
    "\n",
    "# 按照 '统计日期' 排序\n",
    "turnover_PE_rate = turnover_PE_rate.sort_values(by='统计日期')\n",
    "\n",
    "# 对 '平均市盈率' 和 '换手率(总股本)' 进行线性插值\n",
    "turnover_PE_rate[['平均市盈率', '换手率(总股本)']] = turnover_PE_rate[['平均市盈率', '换手率(总股本)']].interpolate(method='linear', axis=0)\n",
    "\n",
    "turnover_PE_rate = turnover_PE_rate.drop(columns=['统计口径编码'])\n",
    "turnover_PE_rate.columns = ['统计日期', '市场平均市盈率', '市场换手率(总股本)']\n",
    "turnover_PE_rate"
   ]
  },
  {
   "cell_type": "markdown",
   "id": "dceeef4a-a5ca-4d9c-b67d-59a41151ff31",
   "metadata": {
    "papermill": {
     "duration": 0.600473,
     "end_time": "2025-06-08T16:21:47.072630",
     "exception": false,
     "start_time": "2025-06-08T16:21:46.472157",
     "status": "completed"
    },
    "tags": []
   },
   "source": [
    "#### 数据拼接"
   ]
  },
  {
   "cell_type": "code",
   "execution_count": 20,
   "id": "405cad59-e9c6-4ff1-ae2d-f40ffa6b9180",
   "metadata": {
    "execution": {
     "iopub.execute_input": "2025-06-08T16:21:48.108854Z",
     "iopub.status.busy": "2025-06-08T16:21:48.108608Z",
     "iopub.status.idle": "2025-06-08T16:21:48.382546Z",
     "shell.execute_reply": "2025-06-08T16:21:48.382100Z"
    },
    "papermill": {
     "duration": 0.491712,
     "end_time": "2025-06-08T16:21:48.396276",
     "exception": false,
     "start_time": "2025-06-08T16:21:47.904564",
     "status": "completed"
    },
    "tags": []
   },
   "outputs": [
    {
     "data": {
      "text/html": [
       "<div>\n",
       "<style scoped>\n",
       "    .dataframe tbody tr th:only-of-type {\n",
       "        vertical-align: middle;\n",
       "    }\n",
       "\n",
       "    .dataframe tbody tr th {\n",
       "        vertical-align: top;\n",
       "    }\n",
       "\n",
       "    .dataframe thead th {\n",
       "        text-align: right;\n",
       "    }\n",
       "</style>\n",
       "<table border=\"1\" class=\"dataframe\">\n",
       "  <thead>\n",
       "    <tr style=\"text-align: right;\">\n",
       "      <th></th>\n",
       "      <th>股票编号</th>\n",
       "      <th>日期</th>\n",
       "      <th>高维情绪变量</th>\n",
       "      <th>收益率变化</th>\n",
       "      <th>日振幅(%)_Dampltd</th>\n",
       "      <th>市盈率_PE</th>\n",
       "      <th>流通股日换手率(%)_DTrdTurnR</th>\n",
       "      <th>总市值加权平均日资本收益_Daretmc</th>\n",
       "      <th>市场平均市盈率</th>\n",
       "      <th>市场换手率(总股本)</th>\n",
       "      <th>聚类标签</th>\n",
       "      <th>公司名称</th>\n",
       "      <th>成交量(百万)_Trdvol</th>\n",
       "    </tr>\n",
       "  </thead>\n",
       "  <tbody>\n",
       "    <tr>\n",
       "      <th>0</th>\n",
       "      <td>000002</td>\n",
       "      <td>2021-06-01</td>\n",
       "      <td>[-0.178, -0.141, 0.283, 0.184, -0.002, 0.299, ...</td>\n",
       "      <td>-0.003745</td>\n",
       "      <td>1.8727</td>\n",
       "      <td>7.44</td>\n",
       "      <td>0.6272</td>\n",
       "      <td>0.0039</td>\n",
       "      <td>24.523860</td>\n",
       "      <td>1.030223</td>\n",
       "      <td>2.0</td>\n",
       "      <td>万科A</td>\n",
       "      <td>60.990961</td>\n",
       "    </tr>\n",
       "    <tr>\n",
       "      <th>1</th>\n",
       "      <td>000002</td>\n",
       "      <td>2021-06-01</td>\n",
       "      <td>[-0.178, -0.141, 0.283, 0.184, -0.002, 0.299, ...</td>\n",
       "      <td>-0.003745</td>\n",
       "      <td>1.8727</td>\n",
       "      <td>7.44</td>\n",
       "      <td>0.6272</td>\n",
       "      <td>0.0039</td>\n",
       "      <td>31.761720</td>\n",
       "      <td>1.132746</td>\n",
       "      <td>2.0</td>\n",
       "      <td>万科A</td>\n",
       "      <td>60.990961</td>\n",
       "    </tr>\n",
       "    <tr>\n",
       "      <th>2</th>\n",
       "      <td>000002</td>\n",
       "      <td>2021-06-01</td>\n",
       "      <td>[-0.178, -0.141, 0.283, 0.184, -0.002, 0.299, ...</td>\n",
       "      <td>-0.003745</td>\n",
       "      <td>1.8727</td>\n",
       "      <td>7.44</td>\n",
       "      <td>0.6272</td>\n",
       "      <td>0.0039</td>\n",
       "      <td>38.999580</td>\n",
       "      <td>1.235269</td>\n",
       "      <td>2.0</td>\n",
       "      <td>万科A</td>\n",
       "      <td>60.990961</td>\n",
       "    </tr>\n",
       "    <tr>\n",
       "      <th>3</th>\n",
       "      <td>000002</td>\n",
       "      <td>2021-06-01</td>\n",
       "      <td>[-0.178, -0.141, 0.283, 0.184, -0.002, 0.299, ...</td>\n",
       "      <td>-0.003745</td>\n",
       "      <td>1.8727</td>\n",
       "      <td>7.44</td>\n",
       "      <td>0.6272</td>\n",
       "      <td>0.0039</td>\n",
       "      <td>46.237440</td>\n",
       "      <td>1.337792</td>\n",
       "      <td>2.0</td>\n",
       "      <td>万科A</td>\n",
       "      <td>60.990961</td>\n",
       "    </tr>\n",
       "    <tr>\n",
       "      <th>4</th>\n",
       "      <td>000002</td>\n",
       "      <td>2021-06-01</td>\n",
       "      <td>[-0.178, -0.141, 0.283, 0.184, -0.002, 0.299, ...</td>\n",
       "      <td>-0.003745</td>\n",
       "      <td>1.8727</td>\n",
       "      <td>7.44</td>\n",
       "      <td>0.6272</td>\n",
       "      <td>0.0039</td>\n",
       "      <td>53.475301</td>\n",
       "      <td>1.440316</td>\n",
       "      <td>2.0</td>\n",
       "      <td>万科A</td>\n",
       "      <td>60.990961</td>\n",
       "    </tr>\n",
       "    <tr>\n",
       "      <th>...</th>\n",
       "      <td>...</td>\n",
       "      <td>...</td>\n",
       "      <td>...</td>\n",
       "      <td>...</td>\n",
       "      <td>...</td>\n",
       "      <td>...</td>\n",
       "      <td>...</td>\n",
       "      <td>...</td>\n",
       "      <td>...</td>\n",
       "      <td>...</td>\n",
       "      <td>...</td>\n",
       "      <td>...</td>\n",
       "      <td>...</td>\n",
       "    </tr>\n",
       "    <tr>\n",
       "      <th>307848</th>\n",
       "      <td>603986</td>\n",
       "      <td>2024-11-15</td>\n",
       "      <td>[-0.247, 0.242, 0.518, 0.274, -0.104, 0.222, -...</td>\n",
       "      <td>-0.028519</td>\n",
       "      <td>5.5086</td>\n",
       "      <td>157.60</td>\n",
       "      <td>3.1891</td>\n",
       "      <td>-0.0112</td>\n",
       "      <td>65.934994</td>\n",
       "      <td>2.786785</td>\n",
       "      <td>2.0</td>\n",
       "      <td>兆易创新</td>\n",
       "      <td>21.198816</td>\n",
       "    </tr>\n",
       "    <tr>\n",
       "      <th>307849</th>\n",
       "      <td>603986</td>\n",
       "      <td>2024-11-15</td>\n",
       "      <td>[-0.247, 0.242, 0.518, 0.274, -0.104, 0.222, -...</td>\n",
       "      <td>-0.028519</td>\n",
       "      <td>5.5086</td>\n",
       "      <td>157.60</td>\n",
       "      <td>3.1891</td>\n",
       "      <td>-0.0112</td>\n",
       "      <td>48.663329</td>\n",
       "      <td>2.336790</td>\n",
       "      <td>2.0</td>\n",
       "      <td>兆易创新</td>\n",
       "      <td>21.198816</td>\n",
       "    </tr>\n",
       "    <tr>\n",
       "      <th>307850</th>\n",
       "      <td>603986</td>\n",
       "      <td>2024-11-15</td>\n",
       "      <td>[-0.247, 0.242, 0.518, 0.274, -0.104, 0.222, -...</td>\n",
       "      <td>-0.028519</td>\n",
       "      <td>5.5086</td>\n",
       "      <td>157.60</td>\n",
       "      <td>3.1891</td>\n",
       "      <td>-0.0112</td>\n",
       "      <td>31.391665</td>\n",
       "      <td>1.886795</td>\n",
       "      <td>2.0</td>\n",
       "      <td>兆易创新</td>\n",
       "      <td>21.198816</td>\n",
       "    </tr>\n",
       "    <tr>\n",
       "      <th>307851</th>\n",
       "      <td>603986</td>\n",
       "      <td>2024-11-15</td>\n",
       "      <td>[-0.247, 0.242, 0.518, 0.274, -0.104, 0.222, -...</td>\n",
       "      <td>-0.028519</td>\n",
       "      <td>5.5086</td>\n",
       "      <td>157.60</td>\n",
       "      <td>3.1891</td>\n",
       "      <td>-0.0112</td>\n",
       "      <td>14.120000</td>\n",
       "      <td>1.436800</td>\n",
       "      <td>2.0</td>\n",
       "      <td>兆易创新</td>\n",
       "      <td>21.198816</td>\n",
       "    </tr>\n",
       "    <tr>\n",
       "      <th>307852</th>\n",
       "      <td>603986</td>\n",
       "      <td>2024-11-15</td>\n",
       "      <td>[-0.247, 0.242, 0.518, 0.274, -0.104, 0.222, -...</td>\n",
       "      <td>-0.028519</td>\n",
       "      <td>5.5086</td>\n",
       "      <td>157.60</td>\n",
       "      <td>3.1891</td>\n",
       "      <td>-0.0112</td>\n",
       "      <td>20.714063</td>\n",
       "      <td>3.481729</td>\n",
       "      <td>2.0</td>\n",
       "      <td>兆易创新</td>\n",
       "      <td>21.198816</td>\n",
       "    </tr>\n",
       "  </tbody>\n",
       "</table>\n",
       "<p>307853 rows × 13 columns</p>\n",
       "</div>"
      ],
      "text/plain": [
       "          股票编号         日期                                             高维情绪变量  \\\n",
       "0       000002 2021-06-01  [-0.178, -0.141, 0.283, 0.184, -0.002, 0.299, ...   \n",
       "1       000002 2021-06-01  [-0.178, -0.141, 0.283, 0.184, -0.002, 0.299, ...   \n",
       "2       000002 2021-06-01  [-0.178, -0.141, 0.283, 0.184, -0.002, 0.299, ...   \n",
       "3       000002 2021-06-01  [-0.178, -0.141, 0.283, 0.184, -0.002, 0.299, ...   \n",
       "4       000002 2021-06-01  [-0.178, -0.141, 0.283, 0.184, -0.002, 0.299, ...   \n",
       "...        ...        ...                                                ...   \n",
       "307848  603986 2024-11-15  [-0.247, 0.242, 0.518, 0.274, -0.104, 0.222, -...   \n",
       "307849  603986 2024-11-15  [-0.247, 0.242, 0.518, 0.274, -0.104, 0.222, -...   \n",
       "307850  603986 2024-11-15  [-0.247, 0.242, 0.518, 0.274, -0.104, 0.222, -...   \n",
       "307851  603986 2024-11-15  [-0.247, 0.242, 0.518, 0.274, -0.104, 0.222, -...   \n",
       "307852  603986 2024-11-15  [-0.247, 0.242, 0.518, 0.274, -0.104, 0.222, -...   \n",
       "\n",
       "           收益率变化  日振幅(%)_Dampltd  市盈率_PE  流通股日换手率(%)_DTrdTurnR  \\\n",
       "0      -0.003745          1.8727    7.44                0.6272   \n",
       "1      -0.003745          1.8727    7.44                0.6272   \n",
       "2      -0.003745          1.8727    7.44                0.6272   \n",
       "3      -0.003745          1.8727    7.44                0.6272   \n",
       "4      -0.003745          1.8727    7.44                0.6272   \n",
       "...          ...             ...     ...                   ...   \n",
       "307848 -0.028519          5.5086  157.60                3.1891   \n",
       "307849 -0.028519          5.5086  157.60                3.1891   \n",
       "307850 -0.028519          5.5086  157.60                3.1891   \n",
       "307851 -0.028519          5.5086  157.60                3.1891   \n",
       "307852 -0.028519          5.5086  157.60                3.1891   \n",
       "\n",
       "        总市值加权平均日资本收益_Daretmc    市场平均市盈率  市场换手率(总股本)  聚类标签  公司名称  \\\n",
       "0                     0.0039  24.523860    1.030223   2.0   万科A   \n",
       "1                     0.0039  31.761720    1.132746   2.0   万科A   \n",
       "2                     0.0039  38.999580    1.235269   2.0   万科A   \n",
       "3                     0.0039  46.237440    1.337792   2.0   万科A   \n",
       "4                     0.0039  53.475301    1.440316   2.0   万科A   \n",
       "...                      ...        ...         ...   ...   ...   \n",
       "307848               -0.0112  65.934994    2.786785   2.0  兆易创新   \n",
       "307849               -0.0112  48.663329    2.336790   2.0  兆易创新   \n",
       "307850               -0.0112  31.391665    1.886795   2.0  兆易创新   \n",
       "307851               -0.0112  14.120000    1.436800   2.0  兆易创新   \n",
       "307852               -0.0112  20.714063    3.481729   2.0  兆易创新   \n",
       "\n",
       "        成交量(百万)_Trdvol  \n",
       "0            60.990961  \n",
       "1            60.990961  \n",
       "2            60.990961  \n",
       "3            60.990961  \n",
       "4            60.990961  \n",
       "...                ...  \n",
       "307848       21.198816  \n",
       "307849       21.198816  \n",
       "307850       21.198816  \n",
       "307851       21.198816  \n",
       "307852       21.198816  \n",
       "\n",
       "[307853 rows x 13 columns]"
      ]
     },
     "execution_count": 20,
     "metadata": {},
     "output_type": "execute_result"
    }
   ],
   "source": [
    "# 将日期列转换为 datetime 格式\n",
    "final_data['日期'] = pd.to_datetime(final_data['日期'])\n",
    "microfinancial_data['日期_Date'] = pd.to_datetime(microfinancial_data['日期_Date'], errors='coerce')\n",
    "\n",
    "# 使用 merge 进行内连接\n",
    "result = pd.merge(\n",
    "    final_data, \n",
    "    microfinancial_data, \n",
    "    left_on=['日期', '股票编号'],  # 左表的 key\n",
    "    right_on=['日期_Date', '股票代码_Stkcd'], # 右表的 key\n",
    "    how='inner'                   # 内连接\n",
    ")\n",
    "\n",
    "result = pd.merge(\n",
    "    result, \n",
    "    turnover_PE_rate, \n",
    "    left_on=['日期'],  # 左表的 key\n",
    "    right_on=['统计日期'], # 右表的 key\n",
    "    how='inner'                   # 内连接\n",
    ")\n",
    "\n",
    "# 删除重复的列\n",
    "result = result.drop(columns=['日期_Date', '股票代码_Stkcd', '交易量', '日收益率_Dret', '统计日期'])\n",
    "\n",
    "# 修改列的位置，更加美观可视\n",
    "columns_to_move = ['聚类标签', '公司名称']\n",
    "result = pd.concat([result.drop(columns=columns_to_move), result[columns_to_move]], axis=1)\n",
    "\n",
    "# 将成交量除以10000，并以万计数\n",
    "result['成交量(百万)_Trdvol'] = result['成交量_Trdvol'] / 1_000_000\n",
    "result = result.drop(columns=['成交量_Trdvol'])\n",
    "\n",
    "cols_to_check = ['收益率变化', '日振幅(%)_Dampltd', '市盈率_PE', \n",
    "                 '成交量(百万)_Trdvol', '流通股日换手率(%)_DTrdTurnR']\n",
    "\n",
    "# 删除含有空值的行\n",
    "result = result.dropna(subset=cols_to_check)\n",
    "result"
   ]
  },
  {
   "cell_type": "code",
   "execution_count": 21,
   "id": "526e4b9e-2a1e-48b2-b6a3-4ecb28362b9f",
   "metadata": {
    "execution": {
     "iopub.execute_input": "2025-06-08T16:21:48.878644Z",
     "iopub.status.busy": "2025-06-08T16:21:48.878441Z",
     "iopub.status.idle": "2025-06-08T16:21:48.891986Z",
     "shell.execute_reply": "2025-06-08T16:21:48.891346Z"
    },
    "papermill": {
     "duration": 0.126095,
     "end_time": "2025-06-08T16:21:48.892710",
     "exception": false,
     "start_time": "2025-06-08T16:21:48.766615",
     "status": "completed"
    },
    "tags": []
   },
   "outputs": [
    {
     "name": "stdout",
     "output_type": "stream",
     "text": [
      "49\n"
     ]
    }
   ],
   "source": [
    "# 查看匹配的公司数\n",
    "unique_stock_count = result['股票编号'].nunique()\n",
    "print(unique_stock_count)"
   ]
  },
  {
   "cell_type": "markdown",
   "id": "adb256c6-35b8-4f86-9527-36f26588ee4f",
   "metadata": {
    "papermill": {
     "duration": 0.077193,
     "end_time": "2025-06-08T16:21:49.041609",
     "exception": false,
     "start_time": "2025-06-08T16:21:48.964416",
     "status": "completed"
    },
    "tags": []
   },
   "source": [
    "#### 回归检验"
   ]
  },
  {
   "cell_type": "code",
   "execution_count": 22,
   "id": "7487061f-6f64-4a68-a815-78ca9e4a1251",
   "metadata": {
    "execution": {
     "iopub.execute_input": "2025-06-08T16:21:49.207368Z",
     "iopub.status.busy": "2025-06-08T16:21:49.206900Z",
     "iopub.status.idle": "2025-06-08T16:21:50.028507Z",
     "shell.execute_reply": "2025-06-08T16:21:50.028087Z"
    },
    "papermill": {
     "duration": 0.902443,
     "end_time": "2025-06-08T16:21:50.029277",
     "exception": false,
     "start_time": "2025-06-08T16:21:49.126834",
     "status": "completed"
    },
    "tags": []
   },
   "outputs": [
    {
     "data": {
      "text/html": [
       "<div>\n",
       "<style scoped>\n",
       "    .dataframe tbody tr th:only-of-type {\n",
       "        vertical-align: middle;\n",
       "    }\n",
       "\n",
       "    .dataframe tbody tr th {\n",
       "        vertical-align: top;\n",
       "    }\n",
       "\n",
       "    .dataframe thead th {\n",
       "        text-align: right;\n",
       "    }\n",
       "</style>\n",
       "<table border=\"1\" class=\"dataframe\">\n",
       "  <thead>\n",
       "    <tr style=\"text-align: right;\">\n",
       "      <th></th>\n",
       "      <th>Variable</th>\n",
       "      <th>S</th>\n",
       "      <th>Econ</th>\n",
       "      <th>Constant</th>\n",
       "      <th>R_squared</th>\n",
       "      <th>Econ_t_value</th>\n",
       "      <th>Constant_t_value</th>\n",
       "    </tr>\n",
       "  </thead>\n",
       "  <tbody>\n",
       "    <tr>\n",
       "      <th>0</th>\n",
       "      <td>收益率变化</td>\n",
       "      <td>0.004</td>\n",
       "      <td>1.054</td>\n",
       "      <td>0.001</td>\n",
       "      <td>20.115</td>\n",
       "      <td>278.415</td>\n",
       "      <td>13.364</td>\n",
       "    </tr>\n",
       "    <tr>\n",
       "      <th>1</th>\n",
       "      <td>日振幅(%)_Dampltd</td>\n",
       "      <td>0.349</td>\n",
       "      <td>12.056</td>\n",
       "      <td>3.396</td>\n",
       "      <td>0.387</td>\n",
       "      <td>34.592</td>\n",
       "      <td>824.155</td>\n",
       "    </tr>\n",
       "    <tr>\n",
       "      <th>2</th>\n",
       "      <td>市盈率_PE</td>\n",
       "      <td>18.983</td>\n",
       "      <td>35.503</td>\n",
       "      <td>29.491</td>\n",
       "      <td>0.001</td>\n",
       "      <td>1.870</td>\n",
       "      <td>131.392</td>\n",
       "    </tr>\n",
       "    <tr>\n",
       "      <th>3</th>\n",
       "      <td>成交量(百万)_Trdvol</td>\n",
       "      <td>18.869</td>\n",
       "      <td>386.030</td>\n",
       "      <td>80.903</td>\n",
       "      <td>0.136</td>\n",
       "      <td>20.458</td>\n",
       "      <td>362.627</td>\n",
       "    </tr>\n",
       "    <tr>\n",
       "      <th>4</th>\n",
       "      <td>流通股日换手率(%)_DTrdTurnR</td>\n",
       "      <td>0.299</td>\n",
       "      <td>6.615</td>\n",
       "      <td>1.406</td>\n",
       "      <td>0.158</td>\n",
       "      <td>22.100</td>\n",
       "      <td>397.416</td>\n",
       "    </tr>\n",
       "  </tbody>\n",
       "</table>\n",
       "</div>"
      ],
      "text/plain": [
       "               Variable       S     Econ  Constant  R_squared  Econ_t_value  \\\n",
       "0                 收益率变化   0.004    1.054     0.001     20.115       278.415   \n",
       "1        日振幅(%)_Dampltd   0.349   12.056     3.396      0.387        34.592   \n",
       "2                市盈率_PE  18.983   35.503    29.491      0.001         1.870   \n",
       "3        成交量(百万)_Trdvol  18.869  386.030    80.903      0.136        20.458   \n",
       "4  流通股日换手率(%)_DTrdTurnR   0.299    6.615     1.406      0.158        22.100   \n",
       "\n",
       "   Constant_t_value  \n",
       "0            13.364  \n",
       "1           824.155  \n",
       "2           131.392  \n",
       "3           362.627  \n",
       "4           397.416  "
      ]
     },
     "execution_count": 22,
     "metadata": {},
     "output_type": "execute_result"
    }
   ],
   "source": [
    "## 单因子：总市值加权平均日资本收益回归检验\n",
    "df = result.copy()\n",
    "\n",
    "# 自变量是总市值加权平均日资本收益\n",
    "X = df[['总市值加权平均日资本收益_Daretmc']]\n",
    "\n",
    "# 要拟合的因变量列表\n",
    "y_vars = [\n",
    "    '收益率变化', '日振幅(%)_Dampltd', '市盈率_PE', \n",
    "    '成交量(百万)_Trdvol','流通股日换手率(%)_DTrdTurnR'\n",
    "]\n",
    "\n",
    "\n",
    "# 添加常数项（截距项）\n",
    "X_with_const = sm.add_constant(X)\n",
    "\n",
    "# 创建一个空的列表存储回归结果\n",
    "regression_results = []\n",
    "\n",
    "# 对每个因变量进行回归分析\n",
    "for y_var in y_vars:\n",
    "    y = df[y_var]  # 当前的因变量\n",
    "\n",
    "    # 对股票编号分组进行回归\n",
    "    grouped = df.groupby('股票编号')\n",
    "    \n",
    "    r_squared_list = []\n",
    "    \n",
    "    for stock_code, group in grouped:\n",
    "        X_group = group[['总市值加权平均日资本收益_Daretmc']]\n",
    "        X_with_const_group = sm.add_constant(X_group)\n",
    "        y_group = group[y_var]\n",
    "        \n",
    "        try:\n",
    "            # 拟合回归模型\n",
    "            model = sm.OLS(y_group, X_with_const_group)\n",
    "            results = model.fit()\n",
    "\n",
    "            # 提取回归R方\n",
    "            r_squared_list.append(results.rsquared)\n",
    "        except Exception as e:\n",
    "            # 如果回归失败（如R方计算为-inf），跳过\n",
    "            print(f\"回归失败：股票编号 {stock_code}, 错误信息: {e}\")\n",
    "            r_squared_list.append(float('nan'))  # 将其R方设为NaN\n",
    "    \n",
    "    # 计算R方的平均值，忽略NaN值\n",
    "    avg_r_squared = pd.Series(r_squared_list).mean()\n",
    "    \n",
    "    # 对于每个因变量，存储回归系数等信息\n",
    "    model = sm.OLS(y, X_with_const)\n",
    "    results = model.fit()\n",
    "\n",
    "    regression_results.append({\n",
    "        'Variable': y_var,\n",
    "        'S': round(results.bse['总市值加权平均日资本收益_Daretmc'], 3),  # 标准误差\n",
    "        'Econ': round(results.params['总市值加权平均日资本收益_Daretmc'], 3),  # 回归系数\n",
    "        'Constant': round(results.params['const'], 3),  # 截距项，保留三位小数\n",
    "        'R_squared': round(results.rsquared * 100, 3), # 总体的回归R方，保留三位小数\n",
    "        'Econ_t_value': round(results.tvalues['总市值加权平均日资本收益_Daretmc'], 3),  # Econ的t统计量，保留三位小数\n",
    "        'Constant_t_value': round(results.tvalues['const'], 3)  # Constant的t统计量，保留三位小数\n",
    "    })\n",
    "\n",
    "# 转换为 DataFrame\n",
    "regression_df = pd.DataFrame(regression_results)\n",
    "# regression_df.to_csv(f'个股分析/{market_address}/双因子回归结果/单因子：总市值加权平均日资本收益.csv')\n",
    "regression_df\n"
   ]
  },
  {
   "cell_type": "code",
   "execution_count": 23,
   "id": "0d49a8de-517a-465d-8b82-38483c5ffa72",
   "metadata": {
    "execution": {
     "iopub.execute_input": "2025-06-08T16:21:50.230897Z",
     "iopub.status.busy": "2025-06-08T16:21:50.230716Z",
     "iopub.status.idle": "2025-06-08T16:23:33.718571Z",
     "shell.execute_reply": "2025-06-08T16:23:33.717964Z"
    },
    "papermill": {
     "duration": 103.755228,
     "end_time": "2025-06-08T16:23:33.888652",
     "exception": false,
     "start_time": "2025-06-08T16:21:50.133424",
     "status": "completed"
    },
    "tags": []
   },
   "outputs": [
    {
     "data": {
      "text/html": [
       "<div>\n",
       "<style scoped>\n",
       "    .dataframe tbody tr th:only-of-type {\n",
       "        vertical-align: middle;\n",
       "    }\n",
       "\n",
       "    .dataframe tbody tr th {\n",
       "        vertical-align: top;\n",
       "    }\n",
       "\n",
       "    .dataframe thead th {\n",
       "        text-align: right;\n",
       "    }\n",
       "</style>\n",
       "<table border=\"1\" class=\"dataframe\">\n",
       "  <thead>\n",
       "    <tr style=\"text-align: right;\">\n",
       "      <th></th>\n",
       "      <th>Variable</th>\n",
       "      <th>S</th>\n",
       "      <th>Econ</th>\n",
       "      <th>Constant</th>\n",
       "      <th>R_squared_global</th>\n",
       "      <th>Econ_t_value</th>\n",
       "      <th>Constant_t_value</th>\n",
       "    </tr>\n",
       "  </thead>\n",
       "  <tbody>\n",
       "    <tr>\n",
       "      <th>0</th>\n",
       "      <td>收益率变化</td>\n",
       "      <td>0.006</td>\n",
       "      <td>-0.044</td>\n",
       "      <td>0.139</td>\n",
       "      <td>11.128</td>\n",
       "      <td>-7.434</td>\n",
       "      <td>5.997</td>\n",
       "    </tr>\n",
       "    <tr>\n",
       "      <th>1</th>\n",
       "      <td>日振幅(%)_Dampltd</td>\n",
       "      <td>0.473</td>\n",
       "      <td>0.956</td>\n",
       "      <td>4.385</td>\n",
       "      <td>17.230</td>\n",
       "      <td>2.023</td>\n",
       "      <td>2.379</td>\n",
       "    </tr>\n",
       "    <tr>\n",
       "      <th>2</th>\n",
       "      <td>市盈率_PE</td>\n",
       "      <td>26.968</td>\n",
       "      <td>-81.670</td>\n",
       "      <td>-523.150</td>\n",
       "      <td>8.803</td>\n",
       "      <td>-3.028</td>\n",
       "      <td>-4.973</td>\n",
       "    </tr>\n",
       "    <tr>\n",
       "      <th>3</th>\n",
       "      <td>成交量(百万)_Trdvol</td>\n",
       "      <td>24.591</td>\n",
       "      <td>70.591</td>\n",
       "      <td>1388.481</td>\n",
       "      <td>23.354</td>\n",
       "      <td>2.871</td>\n",
       "      <td>14.475</td>\n",
       "    </tr>\n",
       "    <tr>\n",
       "      <th>4</th>\n",
       "      <td>流通股日换手率(%)_DTrdTurnR</td>\n",
       "      <td>0.405</td>\n",
       "      <td>-0.493</td>\n",
       "      <td>-3.974</td>\n",
       "      <td>17.300</td>\n",
       "      <td>-1.217</td>\n",
       "      <td>-2.514</td>\n",
       "    </tr>\n",
       "  </tbody>\n",
       "</table>\n",
       "</div>"
      ],
      "text/plain": [
       "               Variable       S    Econ  Constant  R_squared_global  \\\n",
       "0                 收益率变化   0.006  -0.044     0.139            11.128   \n",
       "1        日振幅(%)_Dampltd   0.473   0.956     4.385            17.230   \n",
       "2                市盈率_PE  26.968 -81.670  -523.150             8.803   \n",
       "3        成交量(百万)_Trdvol  24.591  70.591  1388.481            23.354   \n",
       "4  流通股日换手率(%)_DTrdTurnR   0.405  -0.493    -3.974            17.300   \n",
       "\n",
       "   Econ_t_value  Constant_t_value  \n",
       "0        -7.434             5.997  \n",
       "1         2.023             2.379  \n",
       "2        -3.028            -4.973  \n",
       "3         2.871            14.475  \n",
       "4        -1.217            -2.514  "
      ]
     },
     "execution_count": 23,
     "metadata": {},
     "output_type": "execute_result"
    }
   ],
   "source": [
    "## 单因子：情绪回归检验\n",
    "if MODEL != 'Deep-learning/Ours':\n",
    "    df = result.copy()\n",
    "    \n",
    "    # 自变量是情绪值\n",
    "    X = df[[EMO_NAME]]\n",
    "    \n",
    "    # 要拟合的因变量列表\n",
    "    y_vars = [\n",
    "        '收益率变化', '日振幅(%)_Dampltd', '市盈率_PE', \n",
    "        '成交量(百万)_Trdvol','流通股日换手率(%)_DTrdTurnR'\n",
    "    ]\n",
    "    \n",
    "    # 添加常数项（截距项）\n",
    "    X_with_const = sm.add_constant(X)\n",
    "    \n",
    "    # 创建一个空的列表存储回归结果\n",
    "    regression_results = []\n",
    "    \n",
    "    # 对每个因变量进行回归分析\n",
    "    for y_var in y_vars:\n",
    "        y = df[y_var]  # 当前的因变量\n",
    "    \n",
    "        # 对股票编号分组进行回归\n",
    "        grouped = df.groupby('股票编号')\n",
    "        \n",
    "        for stock_code, group in grouped:\n",
    "            X_group = group[[EMO_NAME]]\n",
    "            X_with_const_group = sm.add_constant(X_group)\n",
    "            y_group = group[y_var]\n",
    "            \n",
    "            # 拟合回归模型\n",
    "            model = sm.OLS(y_group, X_with_const_group)\n",
    "            results = model.fit()\n",
    "    \n",
    "            # 提取回归R方\n",
    "            r_squared_list.append(results.rsquared)\n",
    "        \n",
    "        # 计算R方的平均值\n",
    "        avg_r_squared = sum(r_squared_list) / len(r_squared_list)\n",
    "        \n",
    "        # 对于每个因变量，存储回归系数等信息\n",
    "        model = sm.OLS(y, X_with_const)\n",
    "        results = model.fit()\n",
    "    \n",
    "        regression_results.append({\n",
    "            'Variable': y_var,\n",
    "            'S': round(results.bse[EMO_NAME], 3),  # 标准误差，保留三位小数\n",
    "            'Econ': round(results.params[EMO_NAME], 3),  # 回归系数，保留三位小数\n",
    "            'Constant': round(results.params['const'], 3),  # 截距项，保留三位小数\n",
    "            'R_squared': round(results.rsquared * 100, 3), # 总体的回归R方，保留三位小数\n",
    "            'Econ_t_value': round(results.tvalues[EMO_NAME], 3),  # Econ的t统计量，保留三位小数\n",
    "            'Constant_t_value': round(results.tvalues['const'], 3)  # Constant的t统计量，保留三位小数\n",
    "        })\n",
    "else:\n",
    "    df = result.copy()\n",
    "    \n",
    "    # 拆分高维情绪变量为多个列（多变量）\n",
    "    emo_array = np.array(df['高维情绪变量'].tolist())  # shape: (样本数, 维度)\n",
    "    emo_df = pd.DataFrame(emo_array, columns=[f'emotion_{i}' for i in range(emo_array.shape[1])])\n",
    "    \n",
    "    # 合并回df\n",
    "    df = pd.concat([df.reset_index(drop=True), emo_df], axis=1)\n",
    "    \n",
    "    # 构造多维自变量X\n",
    "    EMO_COLUMNS = [f'emotion_{i}' for i in range(emo_array.shape[1])]\n",
    "    X = df[EMO_COLUMNS]\n",
    "    \n",
    "    # 要拟合的因变量列表\n",
    "    y_vars = [\n",
    "        '收益率变化', '日振幅(%)_Dampltd', '市盈率_PE', \n",
    "        '成交量(百万)_Trdvol','流通股日换手率(%)_DTrdTurnR'\n",
    "    ]\n",
    "    \n",
    "    # 添加常数项（截距项）\n",
    "    X_with_const = sm.add_constant(X)\n",
    "    \n",
    "    regression_results = []\n",
    "\n",
    "    for y_var in y_vars:\n",
    "        y = df[y_var]\n",
    "        \n",
    "        # 每个股票编号做回归，统计 R²\n",
    "        grouped = df.groupby('股票编号')\n",
    "        \n",
    "        # 全部数据回归\n",
    "        model = sm.OLS(y, X_with_const)\n",
    "        results = model.fit()\n",
    "\n",
    "        # 提取部分指标（示例提取第一个变量的参数）\n",
    "        econ_param = results.params[EMO_COLUMNS[0]]\n",
    "        econ_bse = results.bse[EMO_COLUMNS[0]]\n",
    "        econ_t = results.tvalues[EMO_COLUMNS[0]]\n",
    "        \n",
    "        regression_results.append({\n",
    "            'Variable': y_var,\n",
    "            'S': round(econ_bse, 3),\n",
    "            'Econ': round(econ_param, 3),\n",
    "            'Constant': round(results.params['const'], 3),\n",
    "            'R_squared_global': round(results.rsquared * 100, 3),\n",
    "            'Econ_t_value': round(econ_t, 3),\n",
    "            'Constant_t_value': round(results.tvalues['const'], 3)\n",
    "        })\n",
    "    \n",
    "\n",
    "\n",
    "# 转换为 DataFrame\n",
    "regression_df = pd.DataFrame(regression_results)\n",
    "# regression_df.to_csv(f'个股分析/{market_address}/双因子回归结果/单因子：{EMO_NAME}.csv')\n",
    "regression_df\n"
   ]
  },
  {
   "cell_type": "code",
   "execution_count": 24,
   "id": "776def31-2b12-4010-beb4-9a751f8880d3",
   "metadata": {
    "execution": {
     "iopub.execute_input": "2025-06-08T16:23:34.074623Z",
     "iopub.status.busy": "2025-06-08T16:23:34.074396Z",
     "iopub.status.idle": "2025-06-08T16:25:54.836838Z",
     "shell.execute_reply": "2025-06-08T16:25:54.836041Z"
    },
    "papermill": {
     "duration": 141.00282,
     "end_time": "2025-06-08T16:25:55.012391",
     "exception": false,
     "start_time": "2025-06-08T16:23:34.009571",
     "status": "completed"
    },
    "tags": []
   },
   "outputs": [
    {
     "data": {
      "text/html": [
       "<div>\n",
       "<style scoped>\n",
       "    .dataframe tbody tr th:only-of-type {\n",
       "        vertical-align: middle;\n",
       "    }\n",
       "\n",
       "    .dataframe tbody tr th {\n",
       "        vertical-align: top;\n",
       "    }\n",
       "\n",
       "    .dataframe thead th {\n",
       "        text-align: right;\n",
       "    }\n",
       "</style>\n",
       "<table border=\"1\" class=\"dataframe\">\n",
       "  <thead>\n",
       "    <tr style=\"text-align: right;\">\n",
       "      <th></th>\n",
       "      <th>Variable</th>\n",
       "      <th>S</th>\n",
       "      <th>Econ</th>\n",
       "      <th>Constant</th>\n",
       "      <th>R_squared</th>\n",
       "      <th>Econ_t_value</th>\n",
       "      <th>Constant_t_value</th>\n",
       "    </tr>\n",
       "  </thead>\n",
       "  <tbody>\n",
       "    <tr>\n",
       "      <th>0</th>\n",
       "      <td>收益率变化</td>\n",
       "      <td>0.005</td>\n",
       "      <td>-0.041</td>\n",
       "      <td>0.093</td>\n",
       "      <td>27.155</td>\n",
       "      <td>-7.664</td>\n",
       "      <td>4.450</td>\n",
       "    </tr>\n",
       "    <tr>\n",
       "      <th>1</th>\n",
       "      <td>日振幅(%)_Dampltd</td>\n",
       "      <td>0.472</td>\n",
       "      <td>0.985</td>\n",
       "      <td>3.934</td>\n",
       "      <td>17.460</td>\n",
       "      <td>2.088</td>\n",
       "      <td>2.137</td>\n",
       "    </tr>\n",
       "    <tr>\n",
       "      <th>2</th>\n",
       "      <td>市盈率_PE</td>\n",
       "      <td>26.968</td>\n",
       "      <td>-81.599</td>\n",
       "      <td>-524.242</td>\n",
       "      <td>8.803</td>\n",
       "      <td>-3.026</td>\n",
       "      <td>-4.983</td>\n",
       "    </tr>\n",
       "    <tr>\n",
       "      <th>3</th>\n",
       "      <td>成交量(百万)_Trdvol</td>\n",
       "      <td>24.581</td>\n",
       "      <td>71.412</td>\n",
       "      <td>1375.777</td>\n",
       "      <td>23.417</td>\n",
       "      <td>2.905</td>\n",
       "      <td>14.348</td>\n",
       "    </tr>\n",
       "    <tr>\n",
       "      <th>4</th>\n",
       "      <td>流通股日换手率(%)_DTrdTurnR</td>\n",
       "      <td>0.405</td>\n",
       "      <td>-0.475</td>\n",
       "      <td>-4.245</td>\n",
       "      <td>17.413</td>\n",
       "      <td>-1.174</td>\n",
       "      <td>-2.687</td>\n",
       "    </tr>\n",
       "  </tbody>\n",
       "</table>\n",
       "</div>"
      ],
      "text/plain": [
       "               Variable       S    Econ  Constant  R_squared  Econ_t_value  \\\n",
       "0                 收益率变化   0.005  -0.041     0.093     27.155        -7.664   \n",
       "1        日振幅(%)_Dampltd   0.472   0.985     3.934     17.460         2.088   \n",
       "2                市盈率_PE  26.968 -81.599  -524.242      8.803        -3.026   \n",
       "3        成交量(百万)_Trdvol  24.581  71.412  1375.777     23.417         2.905   \n",
       "4  流通股日换手率(%)_DTrdTurnR   0.405  -0.475    -4.245     17.413        -1.174   \n",
       "\n",
       "   Constant_t_value  \n",
       "0             4.450  \n",
       "1             2.137  \n",
       "2            -4.983  \n",
       "3            14.348  \n",
       "4            -2.687  "
      ]
     },
     "execution_count": 24,
     "metadata": {},
     "output_type": "execute_result"
    }
   ],
   "source": [
    "## 总体双因子回归检验\n",
    "if MODEL != 'Deep-learning/Ours':\n",
    "    df = result.copy()\n",
    "    \n",
    "    # 自变量是情绪值和总市值加权平均日资本收益\n",
    "    X = df[[EMO_NAME, '总市值加权平均日资本收益_Daretmc']]\n",
    "    \n",
    "    # 要拟合的因变量列表\n",
    "    y_vars = [\n",
    "        '收益率变化', '日振幅(%)_Dampltd', '市盈率_PE', \n",
    "        '成交量(百万)_Trdvol','流通股日换手率(%)_DTrdTurnR'\n",
    "    ]\n",
    "    \n",
    "    # 添加常数项（截距项）\n",
    "    X_with_const = sm.add_constant(X)\n",
    "    \n",
    "    # 创建一个空的列表存储回归结果\n",
    "    regression_results = []\n",
    "    \n",
    "    # 对每个因变量进行回归分析\n",
    "    for y_var in y_vars:\n",
    "        y = df[y_var]  # 当前的因变量\n",
    "    \n",
    "        # 对股票编号分组进行回归\n",
    "        grouped = df.groupby('股票编号')\n",
    "   \n",
    "        # 对于每个因变量，存储回归系数等信息\n",
    "        model = sm.OLS(y, X_with_const)\n",
    "        results = model.fit()\n",
    "    \n",
    "        regression_results.append({\n",
    "            'Variable': y_var,\n",
    "            'S': round(results.bse[EMO_NAME], 3),  # 标准误差，保留三位小数\n",
    "            'Econ': round(results.params[EMO_NAME], 3),  # 回归系数，保留三位小数\n",
    "            'Constant': round(results.params['const'], 3),  # 截距项，保留三位小数\n",
    "            'R_squared': round(results.rsquared * 100, 3), # 总体的回归R方，保留三位小数\n",
    "            'Econ_t_value': round(results.tvalues[EMO_NAME], 3),  # Econ的t统计量，保留三位小数\n",
    "            'Constant_t_value': round(results.tvalues['const'], 3)  # Constant的t统计量，保留三位小数\n",
    "        })\n",
    "\n",
    "else:\n",
    "    df = result.copy()\n",
    "    \n",
    "    # 拆分高维情绪变量为多个列（多变量）\n",
    "    emo_array = np.array(df['高维情绪变量'].tolist())  # shape: (样本数, 维度)\n",
    "    emo_df = pd.DataFrame(emo_array, columns=[f'emotion_{i}' for i in range(emo_array.shape[1])])\n",
    "    \n",
    "    # 合并回df\n",
    "    df = pd.concat([df.reset_index(drop=True), emo_df], axis=1)\n",
    "    \n",
    "    # 构造多维自变量X\n",
    "    EMO_COLUMNS = [f'emotion_{i}' for i in range(emo_array.shape[1])]\n",
    "    X = df[['总市值加权平均日资本收益_Daretmc'] + EMO_COLUMNS]\n",
    "    \n",
    "    # 要拟合的因变量列表\n",
    "    y_vars = [\n",
    "        '收益率变化', '日振幅(%)_Dampltd', '市盈率_PE', \n",
    "        '成交量(百万)_Trdvol','流通股日换手率(%)_DTrdTurnR'\n",
    "    ]\n",
    "    \n",
    "    # 添加常数项（截距项）\n",
    "    X_with_const = sm.add_constant(X)\n",
    "    \n",
    "    regression_results = []\n",
    "\n",
    "    for y_var in y_vars:\n",
    "        y = df[y_var]\n",
    "        \n",
    "        # 每个股票编号做回归，统计 R²\n",
    "        grouped = df.groupby('股票编号')\n",
    "\n",
    "        # 全部数据回归\n",
    "        model = sm.OLS(y, X_with_const)\n",
    "        results = model.fit()\n",
    "\n",
    "        # 提取部分指标（示例提取第一个变量的参数）\n",
    "        econ_param = results.params[EMO_COLUMNS[0]]\n",
    "        econ_bse = results.bse[EMO_COLUMNS[0]]\n",
    "        econ_t = results.tvalues[EMO_COLUMNS[0]]\n",
    "        \n",
    "        regression_results.append({\n",
    "            'Variable': y_var,\n",
    "            'S': round(econ_bse, 3),\n",
    "            'Econ': round(econ_param, 3),\n",
    "            'Constant': round(results.params['const'], 3),\n",
    "            'R_squared': round(results.rsquared * 100, 3),\n",
    "            'Econ_t_value': round(econ_t, 3),\n",
    "            'Constant_t_value': round(results.tvalues['const'], 3)\n",
    "        })\n",
    "    \n",
    "\n",
    "# 转换为 DataFrame\n",
    "regression_df = pd.DataFrame(regression_results)\n",
    "# regression_df.to_csv(f'个股分析/{market_address}/双因子回归结果/双因子：总体分析.csv')\n",
    "regression_df\n"
   ]
  },
  {
   "cell_type": "code",
   "execution_count": 25,
   "id": "8340fa00-1367-4252-992d-dd42f1e0bb17",
   "metadata": {
    "execution": {
     "iopub.execute_input": "2025-06-08T16:25:55.155219Z",
     "iopub.status.busy": "2025-06-08T16:25:55.155023Z",
     "iopub.status.idle": "2025-06-08T16:26:49.691366Z",
     "shell.execute_reply": "2025-06-08T16:26:49.690797Z"
    },
    "papermill": {
     "duration": 54.738702,
     "end_time": "2025-06-08T16:26:49.830106",
     "exception": false,
     "start_time": "2025-06-08T16:25:55.091404",
     "status": "completed"
    },
    "tags": []
   },
   "outputs": [
    {
     "data": {
      "text/html": [
       "<div>\n",
       "<style scoped>\n",
       "    .dataframe tbody tr th:only-of-type {\n",
       "        vertical-align: middle;\n",
       "    }\n",
       "\n",
       "    .dataframe tbody tr th {\n",
       "        vertical-align: top;\n",
       "    }\n",
       "\n",
       "    .dataframe thead th {\n",
       "        text-align: right;\n",
       "    }\n",
       "</style>\n",
       "<table border=\"1\" class=\"dataframe\">\n",
       "  <thead>\n",
       "    <tr style=\"text-align: right;\">\n",
       "      <th></th>\n",
       "      <th>Variable</th>\n",
       "      <th>S</th>\n",
       "      <th>Econ</th>\n",
       "      <th>Constant</th>\n",
       "      <th>R_squared</th>\n",
       "      <th>Econ_t_value</th>\n",
       "      <th>Constant_t_value</th>\n",
       "    </tr>\n",
       "  </thead>\n",
       "  <tbody>\n",
       "    <tr>\n",
       "      <th>0</th>\n",
       "      <td>收益率变化</td>\n",
       "      <td>0.009</td>\n",
       "      <td>-0.037</td>\n",
       "      <td>0.234</td>\n",
       "      <td>31.690</td>\n",
       "      <td>-4.030</td>\n",
       "      <td>5.865</td>\n",
       "    </tr>\n",
       "    <tr>\n",
       "      <th>1</th>\n",
       "      <td>日振幅(%)_Dampltd</td>\n",
       "      <td>0.808</td>\n",
       "      <td>-0.566</td>\n",
       "      <td>9.199</td>\n",
       "      <td>23.987</td>\n",
       "      <td>-0.700</td>\n",
       "      <td>2.658</td>\n",
       "    </tr>\n",
       "    <tr>\n",
       "      <th>2</th>\n",
       "      <td>市盈率_PE</td>\n",
       "      <td>53.724</td>\n",
       "      <td>235.739</td>\n",
       "      <td>-593.835</td>\n",
       "      <td>15.369</td>\n",
       "      <td>4.388</td>\n",
       "      <td>-2.581</td>\n",
       "    </tr>\n",
       "    <tr>\n",
       "      <th>3</th>\n",
       "      <td>成交量(百万)_Trdvol</td>\n",
       "      <td>24.540</td>\n",
       "      <td>-60.144</td>\n",
       "      <td>355.571</td>\n",
       "      <td>37.200</td>\n",
       "      <td>-2.451</td>\n",
       "      <td>3.383</td>\n",
       "    </tr>\n",
       "    <tr>\n",
       "      <th>4</th>\n",
       "      <td>流通股日换手率(%)_DTrdTurnR</td>\n",
       "      <td>0.685</td>\n",
       "      <td>-0.264</td>\n",
       "      <td>6.934</td>\n",
       "      <td>24.662</td>\n",
       "      <td>-0.385</td>\n",
       "      <td>2.363</td>\n",
       "    </tr>\n",
       "  </tbody>\n",
       "</table>\n",
       "</div>"
      ],
      "text/plain": [
       "               Variable       S     Econ  Constant  R_squared  Econ_t_value  \\\n",
       "0                 收益率变化   0.009   -0.037     0.234     31.690        -4.030   \n",
       "1        日振幅(%)_Dampltd   0.808   -0.566     9.199     23.987        -0.700   \n",
       "2                市盈率_PE  53.724  235.739  -593.835     15.369         4.388   \n",
       "3        成交量(百万)_Trdvol  24.540  -60.144   355.571     37.200        -2.451   \n",
       "4  流通股日换手率(%)_DTrdTurnR   0.685   -0.264     6.934     24.662        -0.385   \n",
       "\n",
       "   Constant_t_value  \n",
       "0             5.865  \n",
       "1             2.658  \n",
       "2            -2.581  \n",
       "3             3.383  \n",
       "4             2.363  "
      ]
     },
     "execution_count": 25,
     "metadata": {},
     "output_type": "execute_result"
    }
   ],
   "source": [
    "## 聚类0的回归检验\n",
    "if MODEL != 'Deep-learning/Ours':\n",
    "    df = result[result['聚类标签'] == 0].copy()\n",
    "    \n",
    "    # 自变量是情绪值和总市值加权平均日资本收益\n",
    "    X = df[[EMO_NAME, '总市值加权平均日资本收益_Daretmc']]\n",
    "    \n",
    "    # 要拟合的因变量列表\n",
    "    y_vars = [\n",
    "        '收益率变化', '日振幅(%)_Dampltd', '市盈率_PE', \n",
    "        '成交量(百万)_Trdvol','流通股日换手率(%)_DTrdTurnR'\n",
    "    ]\n",
    "    \n",
    "    \n",
    "    # 添加常数项（截距项）\n",
    "    X_with_const = sm.add_constant(X)\n",
    "    \n",
    "    # 创建一个空的列表存储回归结果\n",
    "    regression_results = []\n",
    "    \n",
    "    # 对每个因变量进行回归分析\n",
    "    for y_var in y_vars:\n",
    "        y = df[y_var]  # 当前的因变量\n",
    "    \n",
    "        # 对股票编号分组进行回归\n",
    "        grouped = df.groupby('股票编号')\n",
    "        \n",
    "        # 对于每个因变量，存储回归系数等信息\n",
    "        model = sm.OLS(y, X_with_const)\n",
    "        results = model.fit()\n",
    "    \n",
    "        regression_results.append({\n",
    "            'Variable': y_var,\n",
    "            'S': round(results.bse[EMO_NAME], 3),  # 标准误差，保留三位小数\n",
    "            'Econ': round(results.params[EMO_NAME], 3),  # 回归系数，保留三位小数\n",
    "            'Constant': round(results.params['const'], 3),  # 截距项，保留三位小数\n",
    "            'R_squared': round(results.rsquared * 100, 3), # 总体的回归R方，保留三位小数\n",
    "            'Econ_t_value': round(results.tvalues[EMO_NAME], 3),  # Econ的t统计量，保留三位小数\n",
    "            'Constant_t_value': round(results.tvalues['const'], 3)  # Constant的t统计量，保留三位小数\n",
    "        })\n",
    "\n",
    "else:\n",
    "    df = result[result['聚类标签'] == 0].copy()\n",
    "\n",
    "    # 拆分高维情绪变量为多个列（多变量）\n",
    "    emo_array = np.array(df['高维情绪变量'].tolist())  # shape: (样本数, 维度)\n",
    "    emo_df = pd.DataFrame(emo_array, columns=[f'emotion_{i}' for i in range(emo_array.shape[1])])\n",
    "    \n",
    "    # 合并回df\n",
    "    df = pd.concat([df.reset_index(drop=True), emo_df], axis=1)\n",
    "    \n",
    "    # 构造多维自变量X\n",
    "    EMO_COLUMNS = [f'emotion_{i}' for i in range(emo_array.shape[1])]\n",
    "    X = df[['总市值加权平均日资本收益_Daretmc'] + EMO_COLUMNS]\n",
    "    \n",
    "    # 要拟合的因变量列表\n",
    "    y_vars = [\n",
    "        '收益率变化', '日振幅(%)_Dampltd', '市盈率_PE', \n",
    "        '成交量(百万)_Trdvol','流通股日换手率(%)_DTrdTurnR'\n",
    "    ]\n",
    "    \n",
    "    # 添加常数项（截距项）\n",
    "    X_with_const = sm.add_constant(X)\n",
    "    \n",
    "    regression_results = []\n",
    "\n",
    "    for y_var in y_vars:\n",
    "        y = df[y_var]\n",
    "        \n",
    "        # 每个股票编号做回归，统计 R²\n",
    "        grouped = df.groupby('股票编号')\n",
    "        \n",
    "        # 全部数据回归\n",
    "        model = sm.OLS(y, X_with_const)\n",
    "        results = model.fit()\n",
    "\n",
    "        # 提取部分指标（示例提取第一个变量的参数）\n",
    "        econ_param = results.params[EMO_COLUMNS[0]]\n",
    "        econ_bse = results.bse[EMO_COLUMNS[0]]\n",
    "        econ_t = results.tvalues[EMO_COLUMNS[0]]\n",
    "        \n",
    "        regression_results.append({\n",
    "            'Variable': y_var,\n",
    "            'S': round(econ_bse, 3),\n",
    "            'Econ': round(econ_param, 3),\n",
    "            'Constant': round(results.params['const'], 3),\n",
    "            'R_squared': round(results.rsquared * 100, 3),\n",
    "            'Econ_t_value': round(econ_t, 3),\n",
    "            'Constant_t_value': round(results.tvalues['const'], 3)\n",
    "        })\n",
    "    \n",
    "# 转换为 DataFrame\n",
    "regression_df = pd.DataFrame(regression_results)\n",
    "# regression_df.to_csv(f'个股分析/{market_address}/双因子回归结果/双因子：聚类0检验.csv')\n",
    "regression_df\n"
   ]
  },
  {
   "cell_type": "code",
   "execution_count": 26,
   "id": "9f3303b1-d89c-44c4-8d0e-09ae0083f8fa",
   "metadata": {
    "execution": {
     "iopub.execute_input": "2025-06-08T16:26:49.992093Z",
     "iopub.status.busy": "2025-06-08T16:26:49.991750Z",
     "iopub.status.idle": "2025-06-08T16:27:22.043143Z",
     "shell.execute_reply": "2025-06-08T16:27:22.042554Z"
    },
    "papermill": {
     "duration": 32.265553,
     "end_time": "2025-06-08T16:27:22.186882",
     "exception": false,
     "start_time": "2025-06-08T16:26:49.921329",
     "status": "completed"
    },
    "tags": []
   },
   "outputs": [
    {
     "name": "stdout",
     "output_type": "stream",
     "text": [
      "(样本数, 维度): (55575, 768)\n"
     ]
    },
    {
     "data": {
      "text/html": [
       "<div>\n",
       "<style scoped>\n",
       "    .dataframe tbody tr th:only-of-type {\n",
       "        vertical-align: middle;\n",
       "    }\n",
       "\n",
       "    .dataframe tbody tr th {\n",
       "        vertical-align: top;\n",
       "    }\n",
       "\n",
       "    .dataframe thead th {\n",
       "        text-align: right;\n",
       "    }\n",
       "</style>\n",
       "<table border=\"1\" class=\"dataframe\">\n",
       "  <thead>\n",
       "    <tr style=\"text-align: right;\">\n",
       "      <th></th>\n",
       "      <th>Variable</th>\n",
       "      <th>S</th>\n",
       "      <th>Econ</th>\n",
       "      <th>Constant</th>\n",
       "      <th>R_squared</th>\n",
       "      <th>Econ_t_value</th>\n",
       "      <th>Constant_t_value</th>\n",
       "    </tr>\n",
       "  </thead>\n",
       "  <tbody>\n",
       "    <tr>\n",
       "      <th>0</th>\n",
       "      <td>收益率变化</td>\n",
       "      <td>0.014</td>\n",
       "      <td>-0.059</td>\n",
       "      <td>0.006</td>\n",
       "      <td>34.180</td>\n",
       "      <td>-4.264</td>\n",
       "      <td>0.103</td>\n",
       "    </tr>\n",
       "    <tr>\n",
       "      <th>1</th>\n",
       "      <td>日振幅(%)_Dampltd</td>\n",
       "      <td>1.186</td>\n",
       "      <td>0.180</td>\n",
       "      <td>8.886</td>\n",
       "      <td>30.585</td>\n",
       "      <td>0.151</td>\n",
       "      <td>1.675</td>\n",
       "    </tr>\n",
       "    <tr>\n",
       "      <th>2</th>\n",
       "      <td>市盈率_PE</td>\n",
       "      <td>58.362</td>\n",
       "      <td>-419.499</td>\n",
       "      <td>-26.402</td>\n",
       "      <td>40.769</td>\n",
       "      <td>-7.188</td>\n",
       "      <td>-0.101</td>\n",
       "    </tr>\n",
       "    <tr>\n",
       "      <th>3</th>\n",
       "      <td>成交量(百万)_Trdvol</td>\n",
       "      <td>21.970</td>\n",
       "      <td>-5.840</td>\n",
       "      <td>-461.116</td>\n",
       "      <td>41.978</td>\n",
       "      <td>-0.266</td>\n",
       "      <td>-4.690</td>\n",
       "    </tr>\n",
       "    <tr>\n",
       "      <th>4</th>\n",
       "      <td>流通股日换手率(%)_DTrdTurnR</td>\n",
       "      <td>0.691</td>\n",
       "      <td>0.584</td>\n",
       "      <td>11.739</td>\n",
       "      <td>36.678</td>\n",
       "      <td>0.846</td>\n",
       "      <td>3.798</td>\n",
       "    </tr>\n",
       "  </tbody>\n",
       "</table>\n",
       "</div>"
      ],
      "text/plain": [
       "               Variable       S     Econ  Constant  R_squared  Econ_t_value  \\\n",
       "0                 收益率变化   0.014   -0.059     0.006     34.180        -4.264   \n",
       "1        日振幅(%)_Dampltd   1.186    0.180     8.886     30.585         0.151   \n",
       "2                市盈率_PE  58.362 -419.499   -26.402     40.769        -7.188   \n",
       "3        成交量(百万)_Trdvol  21.970   -5.840  -461.116     41.978        -0.266   \n",
       "4  流通股日换手率(%)_DTrdTurnR   0.691    0.584    11.739     36.678         0.846   \n",
       "\n",
       "   Constant_t_value  \n",
       "0             0.103  \n",
       "1             1.675  \n",
       "2            -0.101  \n",
       "3            -4.690  \n",
       "4             3.798  "
      ]
     },
     "execution_count": 26,
     "metadata": {},
     "output_type": "execute_result"
    }
   ],
   "source": [
    "## 聚类1的回归检验\n",
    "if MODEL != 'Deep-learning/Ours':\n",
    "    df = result[result['聚类标签'] == 1].copy()\n",
    "    \n",
    "    # 自变量是情绪值和总市值加权平均日资本收益\n",
    "    X = df[[EMO_NAME, '总市值加权平均日资本收益_Daretmc']]\n",
    "    \n",
    "    # 要拟合的因变量列表\n",
    "    y_vars = [\n",
    "        '收益率变化', '日振幅(%)_Dampltd', '市盈率_PE', \n",
    "        '成交量(百万)_Trdvol','流通股日换手率(%)_DTrdTurnR'\n",
    "    ]\n",
    "    \n",
    "    \n",
    "    # 添加常数项（截距项）\n",
    "    X_with_const = sm.add_constant(X)\n",
    "    \n",
    "    # 创建一个空的列表存储回归结果\n",
    "    regression_results = []\n",
    "    \n",
    "    # 对每个因变量进行回归分析\n",
    "    for y_var in y_vars:\n",
    "        y = df[y_var]  # 当前的因变量\n",
    "    \n",
    "        # 对股票编号分组进行回归\n",
    "        grouped = df.groupby('股票编号')\n",
    "\n",
    "        # 对于每个因变量，存储回归系数等信息\n",
    "        model = sm.OLS(y, X_with_const)\n",
    "        results = model.fit()\n",
    "    \n",
    "        regression_results.append({\n",
    "            'Variable': y_var,\n",
    "            'S': round(results.bse[EMO_NAME], 3),  # 标准误差，保留三位小数\n",
    "            'Econ': round(results.params[EMO_NAME], 3),  # 回归系数，保留三位小数\n",
    "            'Constant': round(results.params['const'], 3),  # 截距项，保留三位小数\n",
    "            'R_squared': round(results.rsquared * 100, 3), # 总体的回归R方，保留三位小数\n",
    "            'Econ_t_value': round(results.tvalues[EMO_NAME], 3),  # Econ的t统计量，保留三位小数\n",
    "            'Constant_t_value': round(results.tvalues['const'], 3)  # Constant的t统计量，保留三位小数\n",
    "        })\n",
    "else:\n",
    "    df = result[result['聚类标签'] == 1].copy()\n",
    "    \n",
    "    # 拆分高维情绪变量为多个列（多变量）\n",
    "    emo_array = np.array(df['高维情绪变量'].tolist())  # shape: (样本数, 维度)\n",
    "    print('(样本数, 维度):', emo_array.shape)\n",
    "    emo_df = pd.DataFrame(emo_array, columns=[f'emotion_{i}' for i in range(emo_array.shape[1])])\n",
    "    \n",
    "    # 合并回df\n",
    "    df = pd.concat([df.reset_index(drop=True), emo_df], axis=1)\n",
    "    \n",
    "    # 构造多维自变量X\n",
    "    EMO_COLUMNS = [f'emotion_{i}' for i in range(emo_array.shape[1])]\n",
    "    X = df[['总市值加权平均日资本收益_Daretmc'] + EMO_COLUMNS]\n",
    "    \n",
    "    # 要拟合的因变量列表\n",
    "    y_vars = [\n",
    "        '收益率变化', '日振幅(%)_Dampltd', '市盈率_PE', \n",
    "        '成交量(百万)_Trdvol','流通股日换手率(%)_DTrdTurnR'\n",
    "    ]\n",
    "    \n",
    "    # 添加常数项（截距项）\n",
    "    X_with_const = sm.add_constant(X)\n",
    "    \n",
    "    regression_results = []\n",
    "\n",
    "    for y_var in y_vars:\n",
    "        y = df[y_var]\n",
    "        \n",
    "        # 每个股票编号做回归，统计 R²\n",
    "        grouped = df.groupby('股票编号')    \n",
    "\n",
    "        # 全部数据回归\n",
    "        model = sm.OLS(y, X_with_const)\n",
    "        results = model.fit()\n",
    "\n",
    "        # 提取部分指标（示例提取第一个变量的参数）\n",
    "        econ_param = results.params[EMO_COLUMNS[0]]\n",
    "        econ_bse = results.bse[EMO_COLUMNS[0]]\n",
    "        econ_t = results.tvalues[EMO_COLUMNS[0]]\n",
    "        \n",
    "        regression_results.append({\n",
    "            'Variable': y_var,\n",
    "            'S': round(econ_bse, 3),\n",
    "            'Econ': round(econ_param, 3),\n",
    "            'Constant': round(results.params['const'], 3),\n",
    "            'R_squared': round(results.rsquared * 100, 3),\n",
    "            'Econ_t_value': round(econ_t, 3),\n",
    "            'Constant_t_value': round(results.tvalues['const'], 3)\n",
    "        })\n",
    "\n",
    "# 转换为 DataFrame\n",
    "regression_df = pd.DataFrame(regression_results)\n",
    "# regression_df.to_csv(f'个股分析/{market_address}/双因子回归结果/双因子：聚类1检验.csv')\n",
    "regression_df\n"
   ]
  },
  {
   "cell_type": "code",
   "execution_count": 27,
   "id": "3da16d07-ee11-49aa-89ac-a26f06dec223",
   "metadata": {
    "execution": {
     "iopub.execute_input": "2025-06-08T16:27:22.434482Z",
     "iopub.status.busy": "2025-06-08T16:27:22.434155Z",
     "iopub.status.idle": "2025-06-08T16:28:43.973117Z",
     "shell.execute_reply": "2025-06-08T16:28:43.972483Z"
    },
    "papermill": {
     "duration": 81.82729,
     "end_time": "2025-06-08T16:28:44.138731",
     "exception": false,
     "start_time": "2025-06-08T16:27:22.311441",
     "status": "completed"
    },
    "tags": []
   },
   "outputs": [
    {
     "name": "stdout",
     "output_type": "stream",
     "text": [
      "(样本数, 维度): (135668, 768)\n"
     ]
    },
    {
     "data": {
      "text/html": [
       "<div>\n",
       "<style scoped>\n",
       "    .dataframe tbody tr th:only-of-type {\n",
       "        vertical-align: middle;\n",
       "    }\n",
       "\n",
       "    .dataframe tbody tr th {\n",
       "        vertical-align: top;\n",
       "    }\n",
       "\n",
       "    .dataframe thead th {\n",
       "        text-align: right;\n",
       "    }\n",
       "</style>\n",
       "<table border=\"1\" class=\"dataframe\">\n",
       "  <thead>\n",
       "    <tr style=\"text-align: right;\">\n",
       "      <th></th>\n",
       "      <th>Variable</th>\n",
       "      <th>S</th>\n",
       "      <th>Econ</th>\n",
       "      <th>Constant</th>\n",
       "      <th>R_squared</th>\n",
       "      <th>Econ_t_value</th>\n",
       "      <th>Constant_t_value</th>\n",
       "    </tr>\n",
       "  </thead>\n",
       "  <tbody>\n",
       "    <tr>\n",
       "      <th>0</th>\n",
       "      <td>收益率变化</td>\n",
       "      <td>0.007</td>\n",
       "      <td>-0.048</td>\n",
       "      <td>-0.018</td>\n",
       "      <td>31.944</td>\n",
       "      <td>-6.456</td>\n",
       "      <td>-0.554</td>\n",
       "    </tr>\n",
       "    <tr>\n",
       "      <th>1</th>\n",
       "      <td>日振幅(%)_Dampltd</td>\n",
       "      <td>0.629</td>\n",
       "      <td>1.571</td>\n",
       "      <td>-0.777</td>\n",
       "      <td>26.106</td>\n",
       "      <td>2.498</td>\n",
       "      <td>-0.291</td>\n",
       "    </tr>\n",
       "    <tr>\n",
       "      <th>2</th>\n",
       "      <td>市盈率_PE</td>\n",
       "      <td>29.026</td>\n",
       "      <td>-95.864</td>\n",
       "      <td>-882.382</td>\n",
       "      <td>15.602</td>\n",
       "      <td>-3.303</td>\n",
       "      <td>-7.151</td>\n",
       "    </tr>\n",
       "    <tr>\n",
       "      <th>3</th>\n",
       "      <td>成交量(百万)_Trdvol</td>\n",
       "      <td>47.568</td>\n",
       "      <td>193.410</td>\n",
       "      <td>1787.810</td>\n",
       "      <td>28.121</td>\n",
       "      <td>4.066</td>\n",
       "      <td>8.841</td>\n",
       "    </tr>\n",
       "    <tr>\n",
       "      <th>4</th>\n",
       "      <td>流通股日换手率(%)_DTrdTurnR</td>\n",
       "      <td>0.624</td>\n",
       "      <td>-2.300</td>\n",
       "      <td>-16.118</td>\n",
       "      <td>24.816</td>\n",
       "      <td>-3.686</td>\n",
       "      <td>-6.077</td>\n",
       "    </tr>\n",
       "  </tbody>\n",
       "</table>\n",
       "</div>"
      ],
      "text/plain": [
       "               Variable       S     Econ  Constant  R_squared  Econ_t_value  \\\n",
       "0                 收益率变化   0.007   -0.048    -0.018     31.944        -6.456   \n",
       "1        日振幅(%)_Dampltd   0.629    1.571    -0.777     26.106         2.498   \n",
       "2                市盈率_PE  29.026  -95.864  -882.382     15.602        -3.303   \n",
       "3        成交量(百万)_Trdvol  47.568  193.410  1787.810     28.121         4.066   \n",
       "4  流通股日换手率(%)_DTrdTurnR   0.624   -2.300   -16.118     24.816        -3.686   \n",
       "\n",
       "   Constant_t_value  \n",
       "0            -0.554  \n",
       "1            -0.291  \n",
       "2            -7.151  \n",
       "3             8.841  \n",
       "4            -6.077  "
      ]
     },
     "execution_count": 27,
     "metadata": {},
     "output_type": "execute_result"
    }
   ],
   "source": [
    "## 聚类2的回归检验\n",
    "if MODEL != 'Deep-learning/Ours':\n",
    "    df = result[result['聚类标签'] == 2].copy()\n",
    "    \n",
    "    # 自变量是情绪值和总市值加权平均日资本收益\n",
    "    X = df[[EMO_NAME, '总市值加权平均日资本收益_Daretmc']]\n",
    "    \n",
    "    # 要拟合的因变量列表\n",
    "    y_vars = [\n",
    "        '收益率变化', '日振幅(%)_Dampltd', '市盈率_PE', \n",
    "        '成交量(百万)_Trdvol','流通股日换手率(%)_DTrdTurnR'\n",
    "    ]\n",
    "    \n",
    "    \n",
    "    # 添加常数项（截距项）\n",
    "    X_with_const = sm.add_constant(X)\n",
    "    \n",
    "    # 创建一个空的列表存储回归结果\n",
    "    regression_results = []\n",
    "    \n",
    "    # 对每个因变量进行回归分析\n",
    "    for y_var in y_vars:\n",
    "        y = df[y_var]  # 当前的因变量\n",
    "    \n",
    "        # 对股票编号分组进行回归\n",
    "        grouped = df.groupby('股票编号')\n",
    "    \n",
    "        # 对于每个因变量，存储回归系数等信息\n",
    "        model = sm.OLS(y, X_with_const)\n",
    "        results = model.fit()\n",
    "    \n",
    "        regression_results.append({\n",
    "            'Variable': y_var,\n",
    "            'S': round(results.bse[EMO_NAME], 3),  # 标准误差，保留三位小数\n",
    "            'Econ': round(results.params[EMO_NAME], 3),  # 回归系数，保留三位小数\n",
    "            'Constant': round(results.params['const'], 3),  # 截距项，保留三位小数\n",
    "            'R_squared': round(results.rsquared * 100, 3), # 总体的回归R方，保留三位小数\n",
    "            'Econ_t_value': round(results.tvalues[EMO_NAME], 3),  # Econ的t统计量，保留三位小数\n",
    "            'Constant_t_value': round(results.tvalues['const'], 3)  # Constant的t统计量，保留三位小数\n",
    "        })\n",
    "else:\n",
    "    df = result[result['聚类标签'] == 2].copy()\n",
    "    \n",
    "    # 拆分高维情绪变量为多个列（多变量）\n",
    "    emo_array = np.array(df['高维情绪变量'].tolist())  # shape: (样本数, 维度)\n",
    "    print('(样本数, 维度):', emo_array.shape)\n",
    "    emo_df = pd.DataFrame(emo_array, columns=[f'emotion_{i}' for i in range(emo_array.shape[1])])\n",
    "    \n",
    "    # 合并回df\n",
    "    df = pd.concat([df.reset_index(drop=True), emo_df], axis=1)\n",
    "    \n",
    "    # 构造多维自变量X\n",
    "    EMO_COLUMNS = [f'emotion_{i}' for i in range(emo_array.shape[1])]\n",
    "    X = df[['总市值加权平均日资本收益_Daretmc'] + EMO_COLUMNS]\n",
    "    \n",
    "    # 要拟合的因变量列表\n",
    "    y_vars = [\n",
    "        '收益率变化', '日振幅(%)_Dampltd', '市盈率_PE', \n",
    "        '成交量(百万)_Trdvol','流通股日换手率(%)_DTrdTurnR'\n",
    "    ]\n",
    "    \n",
    "    # 添加常数项（截距项）\n",
    "    X_with_const = sm.add_constant(X)\n",
    "    \n",
    "    regression_results = []\n",
    "\n",
    "    for y_var in y_vars:\n",
    "        y = df[y_var]\n",
    "        \n",
    "        # 每个股票编号做回归，统计 R²\n",
    "        grouped = df.groupby('股票编号')\n",
    "        r_squared_list = []\n",
    "        \n",
    "        # 全部数据回归\n",
    "        model = sm.OLS(y, X_with_const)\n",
    "        results = model.fit()\n",
    "\n",
    "        # 提取部分指标（示例提取第一个变量的参数）\n",
    "        econ_param = results.params[EMO_COLUMNS[0]]\n",
    "        econ_bse = results.bse[EMO_COLUMNS[0]]\n",
    "        econ_t = results.tvalues[EMO_COLUMNS[0]]\n",
    "        \n",
    "        regression_results.append({\n",
    "            'Variable': y_var,\n",
    "            'S': round(econ_bse, 3),\n",
    "            'Econ': round(econ_param, 3),\n",
    "            'Constant': round(results.params['const'], 3),\n",
    "            'R_squared': round(results.rsquared * 100, 3),\n",
    "            'Econ_t_value': round(econ_t, 3),\n",
    "            'Constant_t_value': round(results.tvalues['const'], 3)\n",
    "        })\n",
    "\n",
    "# 转换为 DataFrame\n",
    "regression_df = pd.DataFrame(regression_results)\n",
    "# regression_df.to_csv(f'个股分析/{market_address}/双因子回归结果/双因子：聚类2检验.csv')\n",
    "regression_df\n"
   ]
  },
  {
   "cell_type": "code",
   "execution_count": null,
   "id": "71de2604-abcd-4d7c-967b-e7fa2a6b596f",
   "metadata": {
    "papermill": {
     "duration": 0.077433,
     "end_time": "2025-06-08T16:28:44.322423",
     "exception": false,
     "start_time": "2025-06-08T16:28:44.244990",
     "status": "completed"
    },
    "tags": []
   },
   "outputs": [],
   "source": []
  },
  {
   "cell_type": "code",
   "execution_count": null,
   "id": "f5076d27-9375-4b1f-afe9-0f040df89934",
   "metadata": {
    "papermill": {
     "duration": 0.075901,
     "end_time": "2025-06-08T16:28:44.471332",
     "exception": false,
     "start_time": "2025-06-08T16:28:44.395431",
     "status": "completed"
    },
    "tags": []
   },
   "outputs": [],
   "source": []
  }
 ],
 "metadata": {
  "kernelspec": {
   "display_name": "Python (z_env)",
   "language": "python",
   "name": "z_env"
  },
  "language_info": {
   "codemirror_mode": {
    "name": "ipython",
    "version": 3
   },
   "file_extension": ".py",
   "mimetype": "text/x-python",
   "name": "python",
   "nbconvert_exporter": "python",
   "pygments_lexer": "ipython3",
   "version": "3.12.9"
  },
  "papermill": {
   "default_parameters": {},
   "duration": 753.564838,
   "end_time": "2025-06-08T16:28:48.511218",
   "environment_variables": {},
   "exception": null,
   "input_path": "Model_Comparison.ipynb",
   "output_path": "output/Models/50/Deep-learning/Ours/上证综合情绪值.ipynb",
   "parameters": {
    "EMO_INDEX": 0,
    "MODEL_INDEX": 7,
    "N": 50
   },
   "start_time": "2025-06-08T16:16:14.946380",
   "version": "2.6.0"
  }
 },
 "nbformat": 4,
 "nbformat_minor": 5
}