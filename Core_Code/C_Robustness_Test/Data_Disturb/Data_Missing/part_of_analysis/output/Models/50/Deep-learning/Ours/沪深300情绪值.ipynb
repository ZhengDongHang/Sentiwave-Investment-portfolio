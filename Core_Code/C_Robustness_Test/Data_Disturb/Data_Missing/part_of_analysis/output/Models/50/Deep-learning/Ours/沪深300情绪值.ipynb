{
 "cells": [
  {
   "cell_type": "code",
   "execution_count": 1,
   "id": "9f563032",
   "metadata": {
    "execution": {
     "iopub.execute_input": "2025-06-08T16:16:16.206039Z",
     "iopub.status.busy": "2025-06-08T16:16:16.205813Z",
     "iopub.status.idle": "2025-06-08T16:16:16.210483Z",
     "shell.execute_reply": "2025-06-08T16:16:16.209679Z"
    },
    "papermill": {
     "duration": 0.043761,
     "end_time": "2025-06-08T16:16:16.212898",
     "exception": false,
     "start_time": "2025-06-08T16:16:16.169137",
     "status": "completed"
    },
    "tags": [
     "injected-parameters"
    ]
   },
   "outputs": [],
   "source": [
    "# Parameters\n",
    "EMO_INDEX = 1\n",
    "MODEL_INDEX = 7\n",
    "N = 50\n"
   ]
  },
  {
   "cell_type": "code",
   "execution_count": 2,
   "id": "ac1f5758-102b-44a4-bc4a-6fce77390472",
   "metadata": {
    "execution": {
     "iopub.execute_input": "2025-06-08T16:16:16.267651Z",
     "iopub.status.busy": "2025-06-08T16:16:16.266444Z",
     "iopub.status.idle": "2025-06-08T16:16:17.316699Z",
     "shell.execute_reply": "2025-06-08T16:16:17.315979Z"
    },
    "papermill": {
     "duration": 1.079195,
     "end_time": "2025-06-08T16:16:17.319115",
     "exception": false,
     "start_time": "2025-06-08T16:16:16.239920",
     "status": "completed"
    },
    "tags": []
   },
   "outputs": [],
   "source": [
    "import os\n",
    "import ast\n",
    "import pandas as pd\n",
    "import numpy as np\n",
    "from tqdm import tqdm\n",
    "tqdm.pandas()\n",
    "import matplotlib.pyplot as plt\n",
    "from mpl_toolkits.mplot3d import Axes3D\n",
    "import matplotlib.dates as mdates\n",
    "import statsmodels.api as sm # 用于统计检验\n",
    "%matplotlib inline\n",
    "plt.rcParams[\"font.sans-serif\"]=[\"WenQuanYi Micro Hei\"] #设置字体\n",
    "plt.rcParams[\"axes.unicode_minus\"]=False #该语句解决图像中的“-”负号的乱码问题"
   ]
  },
  {
   "cell_type": "markdown",
   "id": "4aa5b3c5-90dc-41a8-8f8e-51ee0a038af9",
   "metadata": {
    "papermill": {
     "duration": 0.013518,
     "end_time": "2025-06-08T16:16:17.346487",
     "exception": false,
     "start_time": "2025-06-08T16:16:17.332969",
     "status": "completed"
    },
    "tags": []
   },
   "source": [
    "## 参数选择"
   ]
  },
  {
   "cell_type": "code",
   "execution_count": 3,
   "id": "2c099ec3-1f52-4731-912d-f894c40c4ae8",
   "metadata": {
    "execution": {
     "iopub.execute_input": "2025-06-08T16:16:17.375341Z",
     "iopub.status.busy": "2025-06-08T16:16:17.375093Z",
     "iopub.status.idle": "2025-06-08T16:16:17.378972Z",
     "shell.execute_reply": "2025-06-08T16:16:17.378211Z"
    },
    "papermill": {
     "duration": 0.020038,
     "end_time": "2025-06-08T16:16:17.380039",
     "exception": false,
     "start_time": "2025-06-08T16:16:17.360001",
     "status": "completed"
    },
    "tags": []
   },
   "outputs": [],
   "source": [
    "# # Parameters\n",
    "# MODEL_INDEX = 2\n",
    "# EMO_INDEX = 0\n",
    "# N = 20"
   ]
  },
  {
   "cell_type": "code",
   "execution_count": 4,
   "id": "5e92fbf2-a036-4632-83e9-d2f7f792dd5a",
   "metadata": {
    "execution": {
     "iopub.execute_input": "2025-06-08T16:16:17.393589Z",
     "iopub.status.busy": "2025-06-08T16:16:17.393253Z",
     "iopub.status.idle": "2025-06-08T16:16:17.397137Z",
     "shell.execute_reply": "2025-06-08T16:16:17.396637Z"
    },
    "papermill": {
     "duration": 0.011657,
     "end_time": "2025-06-08T16:16:17.397998",
     "exception": false,
     "start_time": "2025-06-08T16:16:17.386341",
     "status": "completed"
    },
    "tags": []
   },
   "outputs": [],
   "source": [
    "ORI_DATA_PATH = '/data/public/fintechlab/zdh/Individual-Stock-Analysis/B_Temporal_Clustering/data'\n",
    "ROOT_PATH = '/data/public/fintechlab/zdh/Individual-Stock-Analysis/B_Result_Analysis'\n",
    "CLUSTER_PATH = f'{ROOT_PATH}/data/Comparison_of_Emotional_models'\n",
    "\n",
    "MODEL = ['Emo-Dict/DLUT', 'Emo-Dict/Bian', 'Emo-Dict/Jiang',\n",
    "         'Machine-learning/LR', 'Machine-learning/RF', 'Machine-learning/SVM', \n",
    "         'Deep-learning/BERT', 'Deep-learning/Ours'][MODEL_INDEX]\n",
    "Emotion_Data_PATH = f'{ORI_DATA_PATH}/Emotion_Data/{MODEL}'   # 情绪数据路径\n",
    "Financial_Data_PATH = f'{ORI_DATA_PATH}/Financial_Data' # 金融数据路径"
   ]
  },
  {
   "cell_type": "code",
   "execution_count": 5,
   "id": "ab28f59a-bcba-4fa6-b8e4-1d9c62f19601",
   "metadata": {
    "execution": {
     "iopub.execute_input": "2025-06-08T16:16:17.426990Z",
     "iopub.status.busy": "2025-06-08T16:16:17.426742Z",
     "iopub.status.idle": "2025-06-08T16:16:17.432064Z",
     "shell.execute_reply": "2025-06-08T16:16:17.431127Z"
    },
    "papermill": {
     "duration": 0.020971,
     "end_time": "2025-06-08T16:16:17.440323",
     "exception": false,
     "start_time": "2025-06-08T16:16:17.419352",
     "status": "completed"
    },
    "tags": []
   },
   "outputs": [],
   "source": [
    "EMO_MARKET = ['Shanghai_Composite_Index', 'CSI_300_Index', 'Chinext_Index'][EMO_INDEX]\n",
    "EMO_INDEX_MAP = {\n",
    "    'Shanghai_Composite_Index': '上证综合情绪值',\n",
    "    'CSI_300_Index': '沪深300情绪值',\n",
    "    'Chinext_Index': '创业板情绪值'\n",
    "}\n",
    "EMO_NAME = EMO_INDEX_MAP[EMO_MARKET]"
   ]
  },
  {
   "cell_type": "markdown",
   "id": "31aeb8aa-a43c-4527-a3ed-8894749f6666",
   "metadata": {
    "papermill": {
     "duration": 0.018973,
     "end_time": "2025-06-08T16:16:17.466030",
     "exception": false,
     "start_time": "2025-06-08T16:16:17.447057",
     "status": "completed"
    },
    "tags": []
   },
   "source": [
    "## 数据预处理"
   ]
  },
  {
   "cell_type": "code",
   "execution_count": 6,
   "id": "7b46a311-bd99-40de-a098-15fa056cc7c9",
   "metadata": {
    "execution": {
     "iopub.execute_input": "2025-06-08T16:16:17.493807Z",
     "iopub.status.busy": "2025-06-08T16:16:17.492513Z",
     "iopub.status.idle": "2025-06-08T16:16:17.525431Z",
     "shell.execute_reply": "2025-06-08T16:16:17.524387Z"
    },
    "papermill": {
     "duration": 0.054448,
     "end_time": "2025-06-08T16:16:17.526850",
     "exception": false,
     "start_time": "2025-06-08T16:16:17.472402",
     "status": "completed"
    },
    "tags": []
   },
   "outputs": [
    {
     "data": {
      "text/html": [
       "<div>\n",
       "<style scoped>\n",
       "    .dataframe tbody tr th:only-of-type {\n",
       "        vertical-align: middle;\n",
       "    }\n",
       "\n",
       "    .dataframe tbody tr th {\n",
       "        vertical-align: top;\n",
       "    }\n",
       "\n",
       "    .dataframe thead th {\n",
       "        text-align: right;\n",
       "    }\n",
       "</style>\n",
       "<table border=\"1\" class=\"dataframe\">\n",
       "  <thead>\n",
       "    <tr style=\"text-align: right;\">\n",
       "      <th></th>\n",
       "      <th>股票编号</th>\n",
       "      <th>聚类标签</th>\n",
       "      <th>公司名称</th>\n",
       "    </tr>\n",
       "  </thead>\n",
       "  <tbody>\n",
       "    <tr>\n",
       "      <th>69</th>\n",
       "      <td>300999</td>\n",
       "      <td>0</td>\n",
       "      <td>金龙鱼</td>\n",
       "    </tr>\n",
       "    <tr>\n",
       "      <th>94</th>\n",
       "      <td>600346</td>\n",
       "      <td>1</td>\n",
       "      <td>恒力石化</td>\n",
       "    </tr>\n",
       "    <tr>\n",
       "      <th>96</th>\n",
       "      <td>600406</td>\n",
       "      <td>1</td>\n",
       "      <td>国电南瑞</td>\n",
       "    </tr>\n",
       "    <tr>\n",
       "      <th>7</th>\n",
       "      <td>000625</td>\n",
       "      <td>2</td>\n",
       "      <td>长安汽车</td>\n",
       "    </tr>\n",
       "    <tr>\n",
       "      <th>92</th>\n",
       "      <td>600276</td>\n",
       "      <td>2</td>\n",
       "      <td>恒瑞医药</td>\n",
       "    </tr>\n",
       "  </tbody>\n",
       "</table>\n",
       "</div>"
      ],
      "text/plain": [
       "      股票编号  聚类标签  公司名称\n",
       "69  300999     0   金龙鱼\n",
       "94  600346     1  恒力石化\n",
       "96  600406     1  国电南瑞\n",
       "7   000625     2  长安汽车\n",
       "92  600276     2  恒瑞医药"
      ]
     },
     "execution_count": 6,
     "metadata": {},
     "output_type": "execute_result"
    }
   ],
   "source": [
    "## 读取聚类结果\n",
    "cluster_data = pd.read_csv(f'{CLUSTER_PATH}/{EMO_MARKET}/{MODEL}.csv', dtype={\"Stkcd\": str})\n",
    "cluster_data.columns = ['股票编号', '聚类标签', '公司名称']\n",
    "\n",
    "# 尝试抽样直到满足每个簇至少出现3次\n",
    "for _ in range(100):\n",
    "    cluster_data = cluster_data.sample(n=N, random_state=np.random.randint(0, 10000))\n",
    "    label_counts = cluster_data['聚类标签'].value_counts()\n",
    "    \n",
    "    if all(label_counts >= 3):\n",
    "        break\n",
    "else:\n",
    "    raise ValueError(f\"在 {RETRY_LIMIT} 次尝试中无法找到满足每个簇至少3个样本的抽样结果，请减少 N 或检查数据分布。\")\n",
    "\n",
    "cluster_data.head()"
   ]
  },
  {
   "cell_type": "code",
   "execution_count": 7,
   "id": "9ea2a594-a7ee-4fb7-a54b-47fd614ed2e5",
   "metadata": {
    "execution": {
     "iopub.execute_input": "2025-06-08T16:16:17.554259Z",
     "iopub.status.busy": "2025-06-08T16:16:17.553081Z",
     "iopub.status.idle": "2025-06-08T16:17:26.152645Z",
     "shell.execute_reply": "2025-06-08T16:17:26.152121Z"
    },
    "papermill": {
     "duration": 68.646347,
     "end_time": "2025-06-08T16:17:26.181137",
     "exception": false,
     "start_time": "2025-06-08T16:16:17.534790",
     "status": "completed"
    },
    "tags": []
   },
   "outputs": [
    {
     "name": "stderr",
     "output_type": "stream",
     "text": [
      "\r",
      "读取文件:   0%|          | 0/183 [00:00<?, ?it/s]"
     ]
    },
    {
     "name": "stderr",
     "output_type": "stream",
     "text": [
      "\r",
      "读取文件:   1%|          | 1/183 [00:00<01:05,  2.76it/s]"
     ]
    },
    {
     "name": "stderr",
     "output_type": "stream",
     "text": [
      "\r",
      "读取文件:   2%|▏         | 3/183 [00:00<00:39,  4.61it/s]"
     ]
    },
    {
     "name": "stderr",
     "output_type": "stream",
     "text": [
      "\r",
      "读取文件:   2%|▏         | 4/183 [00:01<01:20,  2.24it/s]"
     ]
    },
    {
     "name": "stderr",
     "output_type": "stream",
     "text": [
      "\r",
      "读取文件:   3%|▎         | 5/183 [00:01<00:59,  2.97it/s]"
     ]
    },
    {
     "name": "stderr",
     "output_type": "stream",
     "text": [
      "\r",
      "读取文件:   3%|▎         | 6/183 [00:01<00:49,  3.56it/s]"
     ]
    },
    {
     "name": "stderr",
     "output_type": "stream",
     "text": [
      "\r",
      "读取文件:   4%|▍         | 7/183 [00:02<01:24,  2.08it/s]"
     ]
    },
    {
     "name": "stderr",
     "output_type": "stream",
     "text": [
      "\r",
      "读取文件:   4%|▍         | 8/183 [00:02<01:04,  2.72it/s]"
     ]
    },
    {
     "name": "stderr",
     "output_type": "stream",
     "text": [
      "\r",
      "读取文件:   5%|▍         | 9/183 [00:03<01:04,  2.71it/s]"
     ]
    },
    {
     "name": "stderr",
     "output_type": "stream",
     "text": [
      "\r",
      "读取文件:   5%|▌         | 10/183 [00:03<01:08,  2.52it/s]"
     ]
    },
    {
     "name": "stderr",
     "output_type": "stream",
     "text": [
      "\r",
      "读取文件:   6%|▌         | 11/183 [00:03<00:54,  3.15it/s]"
     ]
    },
    {
     "name": "stderr",
     "output_type": "stream",
     "text": [
      "\r",
      "读取文件:   7%|▋         | 12/183 [00:04<00:47,  3.62it/s]"
     ]
    },
    {
     "name": "stderr",
     "output_type": "stream",
     "text": [
      "\r",
      "读取文件:   8%|▊         | 14/183 [00:04<00:29,  5.76it/s]"
     ]
    },
    {
     "name": "stderr",
     "output_type": "stream",
     "text": [
      "\r",
      "读取文件:   8%|▊         | 15/183 [00:04<00:37,  4.45it/s]"
     ]
    },
    {
     "name": "stderr",
     "output_type": "stream",
     "text": [
      "\r",
      "读取文件:   9%|▊         | 16/183 [00:07<02:59,  1.08s/it]"
     ]
    },
    {
     "name": "stderr",
     "output_type": "stream",
     "text": [
      "\r",
      "读取文件:   9%|▉         | 17/183 [00:08<02:15,  1.23it/s]"
     ]
    },
    {
     "name": "stderr",
     "output_type": "stream",
     "text": [
      "\r",
      "读取文件:  10%|▉         | 18/183 [00:09<02:41,  1.02it/s]"
     ]
    },
    {
     "name": "stderr",
     "output_type": "stream",
     "text": [
      "\r",
      "读取文件:  11%|█         | 20/183 [00:09<01:32,  1.75it/s]"
     ]
    },
    {
     "name": "stderr",
     "output_type": "stream",
     "text": [
      "\r",
      "读取文件:  11%|█▏        | 21/183 [00:09<01:15,  2.14it/s]"
     ]
    },
    {
     "name": "stderr",
     "output_type": "stream",
     "text": [
      "\r",
      "读取文件:  12%|█▏        | 22/183 [00:09<01:01,  2.61it/s]"
     ]
    },
    {
     "name": "stderr",
     "output_type": "stream",
     "text": [
      "\r",
      "读取文件:  13%|█▎        | 23/183 [00:10<01:01,  2.61it/s]"
     ]
    },
    {
     "name": "stderr",
     "output_type": "stream",
     "text": [
      "\r",
      "读取文件:  13%|█▎        | 24/183 [00:10<00:53,  2.95it/s]"
     ]
    },
    {
     "name": "stderr",
     "output_type": "stream",
     "text": [
      "\r",
      "读取文件:  14%|█▎        | 25/183 [00:10<00:53,  2.96it/s]"
     ]
    },
    {
     "name": "stderr",
     "output_type": "stream",
     "text": [
      "\r",
      "读取文件:  14%|█▍        | 26/183 [00:11<00:45,  3.45it/s]"
     ]
    },
    {
     "name": "stderr",
     "output_type": "stream",
     "text": [
      "\r",
      "读取文件:  15%|█▍        | 27/183 [00:11<00:53,  2.90it/s]"
     ]
    },
    {
     "name": "stderr",
     "output_type": "stream",
     "text": [
      "\r",
      "读取文件:  15%|█▌        | 28/183 [00:11<00:54,  2.87it/s]"
     ]
    },
    {
     "name": "stderr",
     "output_type": "stream",
     "text": [
      "\r",
      "读取文件:  16%|█▌        | 29/183 [00:12<00:50,  3.03it/s]"
     ]
    },
    {
     "name": "stderr",
     "output_type": "stream",
     "text": [
      "\r",
      "读取文件:  16%|█▋        | 30/183 [00:12<00:40,  3.77it/s]"
     ]
    },
    {
     "name": "stderr",
     "output_type": "stream",
     "text": [
      "\r",
      "读取文件:  17%|█▋        | 31/183 [00:13<01:25,  1.79it/s]"
     ]
    },
    {
     "name": "stderr",
     "output_type": "stream",
     "text": [
      "\r",
      "读取文件:  17%|█▋        | 32/183 [00:14<01:26,  1.75it/s]"
     ]
    },
    {
     "name": "stderr",
     "output_type": "stream",
     "text": [
      "\r",
      "读取文件:  19%|█▊        | 34/183 [00:14<00:53,  2.77it/s]"
     ]
    },
    {
     "name": "stderr",
     "output_type": "stream",
     "text": [
      "\r",
      "读取文件:  19%|█▉        | 35/183 [00:15<01:07,  2.19it/s]"
     ]
    },
    {
     "name": "stderr",
     "output_type": "stream",
     "text": [
      "\r",
      "读取文件:  20%|██        | 37/183 [00:15<00:43,  3.35it/s]"
     ]
    },
    {
     "name": "stderr",
     "output_type": "stream",
     "text": [
      "\r",
      "读取文件:  21%|██▏       | 39/183 [00:15<00:30,  4.74it/s]"
     ]
    },
    {
     "name": "stderr",
     "output_type": "stream",
     "text": [
      "\r",
      "读取文件:  22%|██▏       | 41/183 [00:15<00:22,  6.38it/s]"
     ]
    },
    {
     "name": "stderr",
     "output_type": "stream",
     "text": [
      "\r",
      "读取文件:  23%|██▎       | 43/183 [00:15<00:20,  6.76it/s]"
     ]
    },
    {
     "name": "stderr",
     "output_type": "stream",
     "text": [
      "\r",
      "读取文件:  25%|██▍       | 45/183 [00:16<00:24,  5.56it/s]"
     ]
    },
    {
     "name": "stderr",
     "output_type": "stream",
     "text": [
      "\r",
      "读取文件:  25%|██▌       | 46/183 [00:16<00:32,  4.17it/s]"
     ]
    },
    {
     "name": "stderr",
     "output_type": "stream",
     "text": [
      "\r",
      "读取文件:  26%|██▌       | 47/183 [00:17<00:40,  3.36it/s]"
     ]
    },
    {
     "name": "stderr",
     "output_type": "stream",
     "text": [
      "\r",
      "读取文件:  26%|██▌       | 48/183 [00:17<00:39,  3.46it/s]"
     ]
    },
    {
     "name": "stderr",
     "output_type": "stream",
     "text": [
      "\r",
      "读取文件:  27%|██▋       | 49/183 [00:17<00:40,  3.27it/s]"
     ]
    },
    {
     "name": "stderr",
     "output_type": "stream",
     "text": [
      "\r",
      "读取文件:  28%|██▊       | 51/183 [00:18<00:40,  3.29it/s]"
     ]
    },
    {
     "name": "stderr",
     "output_type": "stream",
     "text": [
      "\r",
      "读取文件:  29%|██▉       | 53/183 [00:18<00:32,  3.97it/s]"
     ]
    },
    {
     "name": "stderr",
     "output_type": "stream",
     "text": [
      "\r",
      "读取文件:  30%|██▉       | 54/183 [00:19<00:33,  3.84it/s]"
     ]
    },
    {
     "name": "stderr",
     "output_type": "stream",
     "text": [
      "\r",
      "读取文件:  31%|███       | 56/183 [00:19<00:29,  4.25it/s]"
     ]
    },
    {
     "name": "stderr",
     "output_type": "stream",
     "text": [
      "\r",
      "读取文件:  31%|███       | 57/183 [00:20<00:56,  2.23it/s]"
     ]
    },
    {
     "name": "stderr",
     "output_type": "stream",
     "text": [
      "\r",
      "读取文件:  32%|███▏      | 58/183 [00:21<00:53,  2.35it/s]"
     ]
    },
    {
     "name": "stderr",
     "output_type": "stream",
     "text": [
      "\r",
      "读取文件:  33%|███▎      | 60/183 [00:21<00:35,  3.46it/s]"
     ]
    },
    {
     "name": "stderr",
     "output_type": "stream",
     "text": [
      "\r",
      "读取文件:  33%|███▎      | 61/183 [00:21<00:43,  2.83it/s]"
     ]
    },
    {
     "name": "stderr",
     "output_type": "stream",
     "text": [
      "\r",
      "读取文件:  34%|███▍      | 62/183 [00:22<00:39,  3.07it/s]"
     ]
    },
    {
     "name": "stderr",
     "output_type": "stream",
     "text": [
      "\r",
      "读取文件:  35%|███▍      | 64/183 [00:22<00:30,  3.87it/s]"
     ]
    },
    {
     "name": "stderr",
     "output_type": "stream",
     "text": [
      "\r",
      "读取文件:  36%|███▌      | 65/183 [00:22<00:30,  3.83it/s]"
     ]
    },
    {
     "name": "stderr",
     "output_type": "stream",
     "text": [
      "\r",
      "读取文件:  36%|███▌      | 66/183 [00:23<00:40,  2.92it/s]"
     ]
    },
    {
     "name": "stderr",
     "output_type": "stream",
     "text": [
      "\r",
      "读取文件:  37%|███▋      | 67/183 [00:24<00:59,  1.95it/s]"
     ]
    },
    {
     "name": "stderr",
     "output_type": "stream",
     "text": [
      "\r",
      "读取文件:  37%|███▋      | 68/183 [00:25<01:09,  1.66it/s]"
     ]
    },
    {
     "name": "stderr",
     "output_type": "stream",
     "text": [
      "\r",
      "读取文件:  38%|███▊      | 69/183 [00:25<00:59,  1.92it/s]"
     ]
    },
    {
     "name": "stderr",
     "output_type": "stream",
     "text": [
      "\r",
      "读取文件:  38%|███▊      | 70/183 [00:25<00:51,  2.17it/s]"
     ]
    },
    {
     "name": "stderr",
     "output_type": "stream",
     "text": [
      "\r",
      "读取文件:  39%|███▉      | 71/183 [00:25<00:42,  2.66it/s]"
     ]
    },
    {
     "name": "stderr",
     "output_type": "stream",
     "text": [
      "\r",
      "读取文件:  39%|███▉      | 72/183 [00:26<00:40,  2.74it/s]"
     ]
    },
    {
     "name": "stderr",
     "output_type": "stream",
     "text": [
      "\r",
      "读取文件:  40%|███▉      | 73/183 [00:27<01:12,  1.51it/s]"
     ]
    },
    {
     "name": "stderr",
     "output_type": "stream",
     "text": [
      "\r",
      "读取文件:  40%|████      | 74/183 [00:32<03:15,  1.80s/it]"
     ]
    },
    {
     "name": "stderr",
     "output_type": "stream",
     "text": [
      "\r",
      "读取文件:  41%|████      | 75/183 [00:32<02:21,  1.31s/it]"
     ]
    },
    {
     "name": "stderr",
     "output_type": "stream",
     "text": [
      "\r",
      "读取文件:  42%|████▏     | 76/183 [00:32<01:43,  1.03it/s]"
     ]
    },
    {
     "name": "stderr",
     "output_type": "stream",
     "text": [
      "\r",
      "读取文件:  43%|████▎     | 78/183 [00:32<01:02,  1.67it/s]"
     ]
    },
    {
     "name": "stderr",
     "output_type": "stream",
     "text": [
      "\r",
      "读取文件:  43%|████▎     | 79/183 [00:32<00:52,  1.96it/s]"
     ]
    },
    {
     "name": "stderr",
     "output_type": "stream",
     "text": [
      "\r",
      "读取文件:  44%|████▎     | 80/183 [00:33<00:52,  1.95it/s]"
     ]
    },
    {
     "name": "stderr",
     "output_type": "stream",
     "text": [
      "\r",
      "读取文件:  44%|████▍     | 81/183 [00:34<01:06,  1.54it/s]"
     ]
    },
    {
     "name": "stderr",
     "output_type": "stream",
     "text": [
      "\r",
      "读取文件:  45%|████▌     | 83/183 [00:35<00:51,  1.94it/s]"
     ]
    },
    {
     "name": "stderr",
     "output_type": "stream",
     "text": [
      "\r",
      "读取文件:  46%|████▌     | 84/183 [00:35<00:42,  2.33it/s]"
     ]
    },
    {
     "name": "stderr",
     "output_type": "stream",
     "text": [
      "\r",
      "读取文件:  46%|████▋     | 85/183 [00:35<00:37,  2.62it/s]"
     ]
    },
    {
     "name": "stderr",
     "output_type": "stream",
     "text": [
      "\r",
      "读取文件:  47%|████▋     | 86/183 [00:35<00:31,  3.04it/s]"
     ]
    },
    {
     "name": "stderr",
     "output_type": "stream",
     "text": [
      "\r",
      "读取文件:  48%|████▊     | 88/183 [00:36<00:32,  2.96it/s]"
     ]
    },
    {
     "name": "stderr",
     "output_type": "stream",
     "text": [
      "\r",
      "读取文件:  49%|████▊     | 89/183 [00:36<00:30,  3.10it/s]"
     ]
    },
    {
     "name": "stderr",
     "output_type": "stream",
     "text": [
      "\r",
      "读取文件:  49%|████▉     | 90/183 [00:37<00:29,  3.20it/s]"
     ]
    },
    {
     "name": "stderr",
     "output_type": "stream",
     "text": [
      "\r",
      "读取文件:  50%|████▉     | 91/183 [00:37<00:25,  3.61it/s]"
     ]
    },
    {
     "name": "stderr",
     "output_type": "stream",
     "text": [
      "\r",
      "读取文件:  50%|█████     | 92/183 [00:37<00:24,  3.77it/s]"
     ]
    },
    {
     "name": "stderr",
     "output_type": "stream",
     "text": [
      "\r",
      "读取文件:  51%|█████▏    | 94/183 [00:37<00:23,  3.78it/s]"
     ]
    },
    {
     "name": "stderr",
     "output_type": "stream",
     "text": [
      "\r",
      "读取文件:  52%|█████▏    | 95/183 [00:38<00:21,  4.13it/s]"
     ]
    },
    {
     "name": "stderr",
     "output_type": "stream",
     "text": [
      "\r",
      "读取文件:  52%|█████▏    | 96/183 [00:39<00:35,  2.49it/s]"
     ]
    },
    {
     "name": "stderr",
     "output_type": "stream",
     "text": [
      "\r",
      "读取文件:  53%|█████▎    | 97/183 [00:39<00:39,  2.18it/s]"
     ]
    },
    {
     "name": "stderr",
     "output_type": "stream",
     "text": [
      "\r",
      "读取文件:  54%|█████▎    | 98/183 [00:39<00:35,  2.38it/s]"
     ]
    },
    {
     "name": "stderr",
     "output_type": "stream",
     "text": [
      "\r",
      "读取文件:  54%|█████▍    | 99/183 [00:40<00:28,  2.90it/s]"
     ]
    },
    {
     "name": "stderr",
     "output_type": "stream",
     "text": [
      "\r",
      "读取文件:  55%|█████▌    | 101/183 [00:40<00:29,  2.76it/s]"
     ]
    },
    {
     "name": "stderr",
     "output_type": "stream",
     "text": [
      "\r",
      "读取文件:  56%|█████▋    | 103/183 [00:40<00:19,  4.11it/s]"
     ]
    },
    {
     "name": "stderr",
     "output_type": "stream",
     "text": [
      "\r",
      "读取文件:  57%|█████▋    | 104/183 [00:41<00:17,  4.63it/s]"
     ]
    },
    {
     "name": "stderr",
     "output_type": "stream",
     "text": [
      "\r",
      "读取文件:  57%|█████▋    | 105/183 [00:41<00:18,  4.24it/s]"
     ]
    },
    {
     "name": "stderr",
     "output_type": "stream",
     "text": [
      "\r",
      "读取文件:  58%|█████▊    | 107/183 [00:41<00:13,  5.44it/s]"
     ]
    },
    {
     "name": "stderr",
     "output_type": "stream",
     "text": [
      "\r",
      "读取文件:  60%|█████▉    | 109/183 [00:41<00:11,  6.66it/s]"
     ]
    },
    {
     "name": "stderr",
     "output_type": "stream",
     "text": [
      "\r",
      "读取文件:  60%|██████    | 110/183 [00:41<00:11,  6.59it/s]"
     ]
    },
    {
     "name": "stderr",
     "output_type": "stream",
     "text": [
      "\r",
      "读取文件:  61%|██████    | 111/183 [00:42<00:10,  6.79it/s]"
     ]
    },
    {
     "name": "stderr",
     "output_type": "stream",
     "text": [
      "\r",
      "读取文件:  61%|██████    | 112/183 [00:42<00:10,  7.01it/s]"
     ]
    },
    {
     "name": "stderr",
     "output_type": "stream",
     "text": [
      "\r",
      "读取文件:  62%|██████▏   | 113/183 [00:42<00:12,  5.64it/s]"
     ]
    },
    {
     "name": "stderr",
     "output_type": "stream",
     "text": [
      "\r",
      "读取文件:  63%|██████▎   | 115/183 [00:42<00:11,  5.69it/s]"
     ]
    },
    {
     "name": "stderr",
     "output_type": "stream",
     "text": [
      "\r",
      "读取文件:  64%|██████▍   | 117/183 [00:43<00:11,  5.70it/s]"
     ]
    },
    {
     "name": "stderr",
     "output_type": "stream",
     "text": [
      "\r",
      "读取文件:  64%|██████▍   | 118/183 [00:43<00:11,  5.57it/s]"
     ]
    },
    {
     "name": "stderr",
     "output_type": "stream",
     "text": [
      "\r",
      "读取文件:  66%|██████▌   | 120/183 [00:43<00:09,  6.54it/s]"
     ]
    },
    {
     "name": "stderr",
     "output_type": "stream",
     "text": [
      "\r",
      "读取文件:  66%|██████▌   | 121/183 [00:43<00:10,  5.77it/s]"
     ]
    },
    {
     "name": "stderr",
     "output_type": "stream",
     "text": [
      "\r",
      "读取文件:  67%|██████▋   | 122/183 [00:45<00:28,  2.13it/s]"
     ]
    },
    {
     "name": "stderr",
     "output_type": "stream",
     "text": [
      "\r",
      "读取文件:  67%|██████▋   | 123/183 [00:45<00:23,  2.59it/s]"
     ]
    },
    {
     "name": "stderr",
     "output_type": "stream",
     "text": [
      "\r",
      "读取文件:  68%|██████▊   | 124/183 [00:49<01:13,  1.25s/it]"
     ]
    },
    {
     "name": "stderr",
     "output_type": "stream",
     "text": [
      "\r",
      "读取文件:  68%|██████▊   | 125/183 [00:49<00:56,  1.02it/s]"
     ]
    },
    {
     "name": "stderr",
     "output_type": "stream",
     "text": [
      "\r",
      "读取文件:  69%|██████▉   | 127/183 [00:49<00:32,  1.73it/s]"
     ]
    },
    {
     "name": "stderr",
     "output_type": "stream",
     "text": [
      "\r",
      "读取文件:  70%|██████▉   | 128/183 [00:49<00:26,  2.07it/s]"
     ]
    },
    {
     "name": "stderr",
     "output_type": "stream",
     "text": [
      "\r",
      "读取文件:  70%|███████   | 129/183 [00:49<00:22,  2.35it/s]"
     ]
    },
    {
     "name": "stderr",
     "output_type": "stream",
     "text": [
      "\r",
      "读取文件:  72%|███████▏  | 131/183 [00:50<00:21,  2.41it/s]"
     ]
    },
    {
     "name": "stderr",
     "output_type": "stream",
     "text": [
      "\r",
      "读取文件:  72%|███████▏  | 132/183 [00:52<00:31,  1.61it/s]"
     ]
    },
    {
     "name": "stderr",
     "output_type": "stream",
     "text": [
      "\r",
      "读取文件:  73%|███████▎  | 133/183 [00:52<00:24,  2.02it/s]"
     ]
    },
    {
     "name": "stderr",
     "output_type": "stream",
     "text": [
      "\r",
      "读取文件:  74%|███████▍  | 135/183 [00:53<00:27,  1.73it/s]"
     ]
    },
    {
     "name": "stderr",
     "output_type": "stream",
     "text": [
      "\r",
      "读取文件:  74%|███████▍  | 136/183 [00:54<00:26,  1.77it/s]"
     ]
    },
    {
     "name": "stderr",
     "output_type": "stream",
     "text": [
      "\r",
      "读取文件:  75%|███████▍  | 137/183 [00:54<00:30,  1.53it/s]"
     ]
    },
    {
     "name": "stderr",
     "output_type": "stream",
     "text": [
      "\r",
      "读取文件:  76%|███████▌  | 139/183 [00:55<00:19,  2.30it/s]"
     ]
    },
    {
     "name": "stderr",
     "output_type": "stream",
     "text": [
      "\r",
      "读取文件:  77%|███████▋  | 140/183 [00:55<00:21,  2.00it/s]"
     ]
    },
    {
     "name": "stderr",
     "output_type": "stream",
     "text": [
      "\r",
      "读取文件:  77%|███████▋  | 141/183 [00:56<00:17,  2.42it/s]"
     ]
    },
    {
     "name": "stderr",
     "output_type": "stream",
     "text": [
      "\r",
      "读取文件:  78%|███████▊  | 142/183 [00:56<00:17,  2.32it/s]"
     ]
    },
    {
     "name": "stderr",
     "output_type": "stream",
     "text": [
      "\r",
      "读取文件:  78%|███████▊  | 143/183 [00:57<00:18,  2.21it/s]"
     ]
    },
    {
     "name": "stderr",
     "output_type": "stream",
     "text": [
      "\r",
      "读取文件:  79%|███████▊  | 144/183 [00:58<00:22,  1.71it/s]"
     ]
    },
    {
     "name": "stderr",
     "output_type": "stream",
     "text": [
      "\r",
      "读取文件:  80%|███████▉  | 146/183 [00:58<00:13,  2.66it/s]"
     ]
    },
    {
     "name": "stderr",
     "output_type": "stream",
     "text": [
      "\r",
      "读取文件:  80%|████████  | 147/183 [00:58<00:15,  2.28it/s]"
     ]
    },
    {
     "name": "stderr",
     "output_type": "stream",
     "text": [
      "\r",
      "读取文件:  81%|████████  | 148/183 [00:58<00:12,  2.79it/s]"
     ]
    },
    {
     "name": "stderr",
     "output_type": "stream",
     "text": [
      "\r",
      "读取文件:  81%|████████▏ | 149/183 [00:59<00:10,  3.25it/s]"
     ]
    },
    {
     "name": "stderr",
     "output_type": "stream",
     "text": [
      "\r",
      "读取文件:  83%|████████▎ | 151/183 [00:59<00:10,  3.14it/s]"
     ]
    },
    {
     "name": "stderr",
     "output_type": "stream",
     "text": [
      "\r",
      "读取文件:  84%|████████▎ | 153/183 [01:00<00:07,  4.25it/s]"
     ]
    },
    {
     "name": "stderr",
     "output_type": "stream",
     "text": [
      "\r",
      "读取文件:  84%|████████▍ | 154/183 [01:00<00:06,  4.66it/s]"
     ]
    },
    {
     "name": "stderr",
     "output_type": "stream",
     "text": [
      "\r",
      "读取文件:  85%|████████▌ | 156/183 [01:00<00:06,  3.88it/s]"
     ]
    },
    {
     "name": "stderr",
     "output_type": "stream",
     "text": [
      "\r",
      "读取文件:  86%|████████▌ | 157/183 [01:01<00:07,  3.71it/s]"
     ]
    },
    {
     "name": "stderr",
     "output_type": "stream",
     "text": [
      "\r",
      "读取文件:  86%|████████▋ | 158/183 [01:01<00:06,  4.05it/s]"
     ]
    },
    {
     "name": "stderr",
     "output_type": "stream",
     "text": [
      "\r",
      "读取文件:  87%|████████▋ | 159/183 [01:01<00:07,  3.40it/s]"
     ]
    },
    {
     "name": "stderr",
     "output_type": "stream",
     "text": [
      "\r",
      "读取文件:  87%|████████▋ | 160/183 [01:02<00:07,  3.26it/s]"
     ]
    },
    {
     "name": "stderr",
     "output_type": "stream",
     "text": [
      "\r",
      "读取文件:  88%|████████▊ | 161/183 [01:02<00:06,  3.29it/s]"
     ]
    },
    {
     "name": "stderr",
     "output_type": "stream",
     "text": [
      "\r",
      "读取文件:  89%|████████▉ | 163/183 [01:02<00:03,  5.02it/s]"
     ]
    },
    {
     "name": "stderr",
     "output_type": "stream",
     "text": [
      "\r",
      "读取文件:  90%|█████████ | 165/183 [01:02<00:02,  6.66it/s]"
     ]
    },
    {
     "name": "stderr",
     "output_type": "stream",
     "text": [
      "\r",
      "读取文件:  91%|█████████ | 166/183 [01:03<00:03,  4.38it/s]"
     ]
    },
    {
     "name": "stderr",
     "output_type": "stream",
     "text": [
      "\r",
      "读取文件:  91%|█████████▏| 167/183 [01:03<00:04,  3.71it/s]"
     ]
    },
    {
     "name": "stderr",
     "output_type": "stream",
     "text": [
      "\r",
      "读取文件:  92%|█████████▏| 168/183 [01:03<00:03,  4.21it/s]"
     ]
    },
    {
     "name": "stderr",
     "output_type": "stream",
     "text": [
      "\r",
      "读取文件:  93%|█████████▎| 170/183 [01:03<00:02,  5.43it/s]"
     ]
    },
    {
     "name": "stderr",
     "output_type": "stream",
     "text": [
      "\r",
      "读取文件:  94%|█████████▍| 172/183 [01:04<00:01,  7.30it/s]"
     ]
    },
    {
     "name": "stderr",
     "output_type": "stream",
     "text": [
      "\r",
      "读取文件:  95%|█████████▌| 174/183 [01:04<00:01,  5.40it/s]"
     ]
    },
    {
     "name": "stderr",
     "output_type": "stream",
     "text": [
      "\r",
      "读取文件:  96%|█████████▌| 175/183 [01:04<00:01,  5.38it/s]"
     ]
    },
    {
     "name": "stderr",
     "output_type": "stream",
     "text": [
      "\r",
      "读取文件:  97%|█████████▋| 177/183 [01:04<00:00,  6.43it/s]"
     ]
    },
    {
     "name": "stderr",
     "output_type": "stream",
     "text": [
      "\r",
      "读取文件:  98%|█████████▊| 179/183 [01:06<00:01,  3.04it/s]"
     ]
    },
    {
     "name": "stderr",
     "output_type": "stream",
     "text": [
      "\r",
      "读取文件:  98%|█████████▊| 180/183 [01:06<00:00,  3.51it/s]"
     ]
    },
    {
     "name": "stderr",
     "output_type": "stream",
     "text": [
      "\r",
      "读取文件:  99%|█████████▉| 182/183 [01:06<00:00,  4.19it/s]"
     ]
    },
    {
     "name": "stderr",
     "output_type": "stream",
     "text": [
      "\r",
      "读取文件: 100%|██████████| 183/183 [01:08<00:00,  2.10it/s]"
     ]
    },
    {
     "name": "stderr",
     "output_type": "stream",
     "text": [
      "\r",
      "读取文件: 100%|██████████| 183/183 [01:08<00:00,  2.69it/s]"
     ]
    },
    {
     "name": "stderr",
     "output_type": "stream",
     "text": [
      "\n"
     ]
    },
    {
     "data": {
      "text/html": [
       "<div>\n",
       "<style scoped>\n",
       "    .dataframe tbody tr th:only-of-type {\n",
       "        vertical-align: middle;\n",
       "    }\n",
       "\n",
       "    .dataframe tbody tr th {\n",
       "        vertical-align: top;\n",
       "    }\n",
       "\n",
       "    .dataframe thead th {\n",
       "        text-align: right;\n",
       "    }\n",
       "</style>\n",
       "<table border=\"1\" class=\"dataframe\">\n",
       "  <thead>\n",
       "    <tr style=\"text-align: right;\">\n",
       "      <th></th>\n",
       "      <th>日期</th>\n",
       "      <th>高维情绪变量</th>\n",
       "      <th>股票编号</th>\n",
       "    </tr>\n",
       "  </thead>\n",
       "  <tbody>\n",
       "    <tr>\n",
       "      <th>0</th>\n",
       "      <td>2024-12-27</td>\n",
       "      <td>[-0.18730907142162323, -0.22363345324993134, 0...</td>\n",
       "      <td>601933</td>\n",
       "    </tr>\n",
       "    <tr>\n",
       "      <th>1</th>\n",
       "      <td>2024-11-18</td>\n",
       "      <td>[-0.6446929574012756, 0.14099551737308502, 0.4...</td>\n",
       "      <td>601933</td>\n",
       "    </tr>\n",
       "    <tr>\n",
       "      <th>2</th>\n",
       "      <td>2024-11-17</td>\n",
       "      <td>[-0.14928916096687317, -0.10993610322475433, 0...</td>\n",
       "      <td>601933</td>\n",
       "    </tr>\n",
       "    <tr>\n",
       "      <th>3</th>\n",
       "      <td>2024-11-17</td>\n",
       "      <td>[-0.2892271876335144, 0.09153766185045242, 0.2...</td>\n",
       "      <td>601933</td>\n",
       "    </tr>\n",
       "    <tr>\n",
       "      <th>4</th>\n",
       "      <td>2024-11-17</td>\n",
       "      <td>[-0.18511946499347687, 0.3309328258037567, 0.2...</td>\n",
       "      <td>601933</td>\n",
       "    </tr>\n",
       "    <tr>\n",
       "      <th>...</th>\n",
       "      <td>...</td>\n",
       "      <td>...</td>\n",
       "      <td>...</td>\n",
       "    </tr>\n",
       "    <tr>\n",
       "      <th>495326</th>\n",
       "      <td>2021-04-09</td>\n",
       "      <td>[-0.14503593742847443, 0.25753334164619446, 0....</td>\n",
       "      <td>601919</td>\n",
       "    </tr>\n",
       "    <tr>\n",
       "      <th>495327</th>\n",
       "      <td>2021-04-09</td>\n",
       "      <td>[-0.30359137058258057, 0.26559382677078247, 0....</td>\n",
       "      <td>601919</td>\n",
       "    </tr>\n",
       "    <tr>\n",
       "      <th>495328</th>\n",
       "      <td>2021-04-08</td>\n",
       "      <td>[0.15271537005901337, -0.08832913637161255, 0....</td>\n",
       "      <td>601919</td>\n",
       "    </tr>\n",
       "    <tr>\n",
       "      <th>495329</th>\n",
       "      <td>2021-04-08</td>\n",
       "      <td>[-0.004539322108030319, 0.3122449517250061, 0....</td>\n",
       "      <td>601919</td>\n",
       "    </tr>\n",
       "    <tr>\n",
       "      <th>495330</th>\n",
       "      <td>2021-01-01</td>\n",
       "      <td>[-0.2253921627998352, 0.3089153468608856, 0.38...</td>\n",
       "      <td>601919</td>\n",
       "    </tr>\n",
       "  </tbody>\n",
       "</table>\n",
       "<p>495331 rows × 3 columns</p>\n",
       "</div>"
      ],
      "text/plain": [
       "                日期                                             高维情绪变量    股票编号\n",
       "0       2024-12-27  [-0.18730907142162323, -0.22363345324993134, 0...  601933\n",
       "1       2024-11-18  [-0.6446929574012756, 0.14099551737308502, 0.4...  601933\n",
       "2       2024-11-17  [-0.14928916096687317, -0.10993610322475433, 0...  601933\n",
       "3       2024-11-17  [-0.2892271876335144, 0.09153766185045242, 0.2...  601933\n",
       "4       2024-11-17  [-0.18511946499347687, 0.3309328258037567, 0.2...  601933\n",
       "...            ...                                                ...     ...\n",
       "495326  2021-04-09  [-0.14503593742847443, 0.25753334164619446, 0....  601919\n",
       "495327  2021-04-09  [-0.30359137058258057, 0.26559382677078247, 0....  601919\n",
       "495328  2021-04-08  [0.15271537005901337, -0.08832913637161255, 0....  601919\n",
       "495329  2021-04-08  [-0.004539322108030319, 0.3122449517250061, 0....  601919\n",
       "495330  2021-01-01  [-0.2253921627998352, 0.3089153468608856, 0.38...  601919\n",
       "\n",
       "[495331 rows x 3 columns]"
      ]
     },
     "execution_count": 7,
     "metadata": {},
     "output_type": "execute_result"
    }
   ],
   "source": [
    "## 读取股吧个股的数据\n",
    "all_data = []\n",
    "file_list = [f for f in os.listdir(Emotion_Data_PATH) if f.endswith('.csv')]\n",
    "\n",
    "if MODEL != 'Deep-learning/Ours':\n",
    "    for file in file_list:\n",
    "        file_path = os.path.join(Emotion_Data_PATH, file)\n",
    "        df = pd.read_csv(file_path)\n",
    "        stock_code = os.path.splitext(file)[0] # 获取股票编号（文件名去掉扩展名）\n",
    "        \n",
    "        # 提取每一行的日期和情绪值\n",
    "        for _, row in df.iterrows():\n",
    "            new_row = {\n",
    "                '股票编号': stock_code,\n",
    "                '日期': row['日期'],\n",
    "                '上证综合情绪值': row['上证综合情绪值'],\n",
    "                '沪深300情绪值': row['沪深300情绪值'],\n",
    "                '创业板情绪值': row['创业板情绪值']\n",
    "            }\n",
    "            all_data.append(new_row)\n",
    "    guba_data = pd.DataFrame(all_data)\n",
    "else:\n",
    "    for file in tqdm(file_list, desc=\"读取文件\"):\n",
    "        file_path = os.path.join(Emotion_Data_PATH, file)\n",
    "        try:\n",
    "            df = pd.read_csv(file_path, usecols=['日期', '高维情绪变量'])  # 只读需要的列\n",
    "        except Exception as e:\n",
    "            print(f\"读取失败 {file}: {e}\")\n",
    "            continue\n",
    "    \n",
    "        stock_code = os.path.splitext(file)[0]\n",
    "    \n",
    "        df['股票编号'] = stock_code\n",
    "        all_data.append(df)\n",
    "    guba_data = pd.concat(all_data, ignore_index=True)\n",
    "\n",
    "guba_data"
   ]
  },
  {
   "cell_type": "code",
   "execution_count": 8,
   "id": "681a9681-755a-4556-a1fd-3b7817713e08",
   "metadata": {
    "execution": {
     "iopub.execute_input": "2025-06-08T16:17:26.215167Z",
     "iopub.status.busy": "2025-06-08T16:17:26.214830Z",
     "iopub.status.idle": "2025-06-08T16:17:26.354994Z",
     "shell.execute_reply": "2025-06-08T16:17:26.354543Z"
    },
    "papermill": {
     "duration": 0.158213,
     "end_time": "2025-06-08T16:17:26.355770",
     "exception": false,
     "start_time": "2025-06-08T16:17:26.197557",
     "status": "completed"
    },
    "tags": []
   },
   "outputs": [
    {
     "data": {
      "text/html": [
       "<div>\n",
       "<style scoped>\n",
       "    .dataframe tbody tr th:only-of-type {\n",
       "        vertical-align: middle;\n",
       "    }\n",
       "\n",
       "    .dataframe tbody tr th {\n",
       "        vertical-align: top;\n",
       "    }\n",
       "\n",
       "    .dataframe thead th {\n",
       "        text-align: right;\n",
       "    }\n",
       "</style>\n",
       "<table border=\"1\" class=\"dataframe\">\n",
       "  <thead>\n",
       "    <tr style=\"text-align: right;\">\n",
       "      <th></th>\n",
       "      <th>股票编号</th>\n",
       "      <th>日期</th>\n",
       "      <th>交易量</th>\n",
       "      <th>收益率变化</th>\n",
       "    </tr>\n",
       "  </thead>\n",
       "  <tbody>\n",
       "    <tr>\n",
       "      <th>0</th>\n",
       "      <td>000002</td>\n",
       "      <td>2021-06-01</td>\n",
       "      <td>60990961</td>\n",
       "      <td>-0.003745</td>\n",
       "    </tr>\n",
       "    <tr>\n",
       "      <th>1</th>\n",
       "      <td>000002</td>\n",
       "      <td>2021-06-02</td>\n",
       "      <td>85354506</td>\n",
       "      <td>0.006015</td>\n",
       "    </tr>\n",
       "    <tr>\n",
       "      <th>2</th>\n",
       "      <td>000002</td>\n",
       "      <td>2021-06-03</td>\n",
       "      <td>50594187</td>\n",
       "      <td>-0.003363</td>\n",
       "    </tr>\n",
       "    <tr>\n",
       "      <th>3</th>\n",
       "      <td>000002</td>\n",
       "      <td>2021-06-04</td>\n",
       "      <td>71422364</td>\n",
       "      <td>-0.012748</td>\n",
       "    </tr>\n",
       "    <tr>\n",
       "      <th>4</th>\n",
       "      <td>000002</td>\n",
       "      <td>2021-06-07</td>\n",
       "      <td>64745280</td>\n",
       "      <td>-0.014812</td>\n",
       "    </tr>\n",
       "    <tr>\n",
       "      <th>...</th>\n",
       "      <td>...</td>\n",
       "      <td>...</td>\n",
       "      <td>...</td>\n",
       "      <td>...</td>\n",
       "    </tr>\n",
       "    <tr>\n",
       "      <th>154877</th>\n",
       "      <td>688981</td>\n",
       "      <td>2024-11-20</td>\n",
       "      <td>58507495</td>\n",
       "      <td>-0.017071</td>\n",
       "    </tr>\n",
       "    <tr>\n",
       "      <th>154878</th>\n",
       "      <td>688981</td>\n",
       "      <td>2024-11-21</td>\n",
       "      <td>56197106</td>\n",
       "      <td>0.002358</td>\n",
       "    </tr>\n",
       "    <tr>\n",
       "      <th>154879</th>\n",
       "      <td>688981</td>\n",
       "      <td>2024-11-22</td>\n",
       "      <td>79240108</td>\n",
       "      <td>-0.050588</td>\n",
       "    </tr>\n",
       "    <tr>\n",
       "      <th>154880</th>\n",
       "      <td>688981</td>\n",
       "      <td>2024-11-25</td>\n",
       "      <td>76905909</td>\n",
       "      <td>-0.029402</td>\n",
       "    </tr>\n",
       "    <tr>\n",
       "      <th>154881</th>\n",
       "      <td>688981</td>\n",
       "      <td>2024-11-26</td>\n",
       "      <td>35363542</td>\n",
       "      <td>-0.012303</td>\n",
       "    </tr>\n",
       "  </tbody>\n",
       "</table>\n",
       "<p>154882 rows × 4 columns</p>\n",
       "</div>"
      ],
      "text/plain": [
       "          股票编号          日期       交易量     收益率变化\n",
       "0       000002  2021-06-01  60990961 -0.003745\n",
       "1       000002  2021-06-02  85354506  0.006015\n",
       "2       000002  2021-06-03  50594187 -0.003363\n",
       "3       000002  2021-06-04  71422364 -0.012748\n",
       "4       000002  2021-06-07  64745280 -0.014812\n",
       "...        ...         ...       ...       ...\n",
       "154877  688981  2024-11-20  58507495 -0.017071\n",
       "154878  688981  2024-11-21  56197106  0.002358\n",
       "154879  688981  2024-11-22  79240108 -0.050588\n",
       "154880  688981  2024-11-25  76905909 -0.029402\n",
       "154881  688981  2024-11-26  35363542 -0.012303\n",
       "\n",
       "[154882 rows x 4 columns]"
      ]
     },
     "execution_count": 8,
     "metadata": {},
     "output_type": "execute_result"
    }
   ],
   "source": [
    "## 读取股票回报率的数据\n",
    "return_data = pd.read_csv(f'{Financial_Data_PATH}/日个股回报率.csv', dtype={'股票编号': str})\n",
    "return_data"
   ]
  },
  {
   "cell_type": "code",
   "execution_count": 9,
   "id": "df1c7944-bb24-4fbf-acfd-e51c0d6403a6",
   "metadata": {
    "execution": {
     "iopub.execute_input": "2025-06-08T16:17:26.439447Z",
     "iopub.status.busy": "2025-06-08T16:17:26.439241Z",
     "iopub.status.idle": "2025-06-08T16:17:27.146964Z",
     "shell.execute_reply": "2025-06-08T16:17:27.146537Z"
    },
    "papermill": {
     "duration": 0.75312,
     "end_time": "2025-06-08T16:17:27.147727",
     "exception": false,
     "start_time": "2025-06-08T16:17:26.394607",
     "status": "completed"
    },
    "tags": []
   },
   "outputs": [
    {
     "data": {
      "text/html": [
       "<div>\n",
       "<style scoped>\n",
       "    .dataframe tbody tr th:only-of-type {\n",
       "        vertical-align: middle;\n",
       "    }\n",
       "\n",
       "    .dataframe tbody tr th {\n",
       "        vertical-align: top;\n",
       "    }\n",
       "\n",
       "    .dataframe thead th {\n",
       "        text-align: right;\n",
       "    }\n",
       "</style>\n",
       "<table border=\"1\" class=\"dataframe\">\n",
       "  <thead>\n",
       "    <tr style=\"text-align: right;\">\n",
       "      <th></th>\n",
       "      <th>日期</th>\n",
       "      <th>高维情绪变量</th>\n",
       "      <th>股票编号</th>\n",
       "      <th>交易量</th>\n",
       "      <th>收益率变化</th>\n",
       "      <th>聚类标签</th>\n",
       "      <th>公司名称</th>\n",
       "    </tr>\n",
       "  </thead>\n",
       "  <tbody>\n",
       "    <tr>\n",
       "      <th>11990</th>\n",
       "      <td>2024-11-15</td>\n",
       "      <td>[-0.36284807324409485, 0.4037488102912903, 0.3...</td>\n",
       "      <td>600009</td>\n",
       "      <td>14688923.0</td>\n",
       "      <td>0.007776</td>\n",
       "      <td>0.0</td>\n",
       "      <td>上海机场</td>\n",
       "    </tr>\n",
       "    <tr>\n",
       "      <th>11991</th>\n",
       "      <td>2024-11-14</td>\n",
       "      <td>[-0.08182292431592941, -0.1651718020439148, 0....</td>\n",
       "      <td>600009</td>\n",
       "      <td>10958100.0</td>\n",
       "      <td>-0.010986</td>\n",
       "      <td>0.0</td>\n",
       "      <td>上海机场</td>\n",
       "    </tr>\n",
       "    <tr>\n",
       "      <th>11992</th>\n",
       "      <td>2024-11-14</td>\n",
       "      <td>[-0.15655595064163208, -0.22000068426132202, 0...</td>\n",
       "      <td>600009</td>\n",
       "      <td>10958100.0</td>\n",
       "      <td>-0.010986</td>\n",
       "      <td>0.0</td>\n",
       "      <td>上海机场</td>\n",
       "    </tr>\n",
       "    <tr>\n",
       "      <th>11993</th>\n",
       "      <td>2024-11-12</td>\n",
       "      <td>[0.012830191291868687, 0.09914667904376984, 0....</td>\n",
       "      <td>600009</td>\n",
       "      <td>18077877.0</td>\n",
       "      <td>-0.006559</td>\n",
       "      <td>0.0</td>\n",
       "      <td>上海机场</td>\n",
       "    </tr>\n",
       "    <tr>\n",
       "      <th>11994</th>\n",
       "      <td>2024-11-04</td>\n",
       "      <td>[-0.12275073677301407, -0.04326124116778374, 0...</td>\n",
       "      <td>600009</td>\n",
       "      <td>8976988.0</td>\n",
       "      <td>0.005155</td>\n",
       "      <td>0.0</td>\n",
       "      <td>上海机场</td>\n",
       "    </tr>\n",
       "    <tr>\n",
       "      <th>...</th>\n",
       "      <td>...</td>\n",
       "      <td>...</td>\n",
       "      <td>...</td>\n",
       "      <td>...</td>\n",
       "      <td>...</td>\n",
       "      <td>...</td>\n",
       "      <td>...</td>\n",
       "    </tr>\n",
       "    <tr>\n",
       "      <th>465668</th>\n",
       "      <td>2022-03-15</td>\n",
       "      <td>[-0.22032500803470612, 0.18077489733695984, 0....</td>\n",
       "      <td>300012</td>\n",
       "      <td>17626223.0</td>\n",
       "      <td>0.005376</td>\n",
       "      <td>1.0</td>\n",
       "      <td>华测检测</td>\n",
       "    </tr>\n",
       "    <tr>\n",
       "      <th>465669</th>\n",
       "      <td>2022-03-11</td>\n",
       "      <td>[-0.3947567641735077, 0.24100352823734283, 0.1...</td>\n",
       "      <td>300012</td>\n",
       "      <td>7651177.0</td>\n",
       "      <td>-0.004668</td>\n",
       "      <td>1.0</td>\n",
       "      <td>华测检测</td>\n",
       "    </tr>\n",
       "    <tr>\n",
       "      <th>465670</th>\n",
       "      <td>2022-02-25</td>\n",
       "      <td>[-0.276712030172348, -0.020862922072410583, 0....</td>\n",
       "      <td>300012</td>\n",
       "      <td>12862232.0</td>\n",
       "      <td>0.014433</td>\n",
       "      <td>1.0</td>\n",
       "      <td>华测检测</td>\n",
       "    </tr>\n",
       "    <tr>\n",
       "      <th>465671</th>\n",
       "      <td>2022-02-08</td>\n",
       "      <td>[-0.2331700325012207, 0.3837924599647522, 0.29...</td>\n",
       "      <td>300012</td>\n",
       "      <td>8127425.0</td>\n",
       "      <td>0.004762</td>\n",
       "      <td>1.0</td>\n",
       "      <td>华测检测</td>\n",
       "    </tr>\n",
       "    <tr>\n",
       "      <th>465672</th>\n",
       "      <td>2022-01-14</td>\n",
       "      <td>[-0.3482031226158142, 0.05011926218867302, 0.1...</td>\n",
       "      <td>300012</td>\n",
       "      <td>16993018.0</td>\n",
       "      <td>0.009884</td>\n",
       "      <td>1.0</td>\n",
       "      <td>华测检测</td>\n",
       "    </tr>\n",
       "  </tbody>\n",
       "</table>\n",
       "<p>126776 rows × 7 columns</p>\n",
       "</div>"
      ],
      "text/plain": [
       "               日期                                             高维情绪变量    股票编号  \\\n",
       "11990  2024-11-15  [-0.36284807324409485, 0.4037488102912903, 0.3...  600009   \n",
       "11991  2024-11-14  [-0.08182292431592941, -0.1651718020439148, 0....  600009   \n",
       "11992  2024-11-14  [-0.15655595064163208, -0.22000068426132202, 0...  600009   \n",
       "11993  2024-11-12  [0.012830191291868687, 0.09914667904376984, 0....  600009   \n",
       "11994  2024-11-04  [-0.12275073677301407, -0.04326124116778374, 0...  600009   \n",
       "...           ...                                                ...     ...   \n",
       "465668 2022-03-15  [-0.22032500803470612, 0.18077489733695984, 0....  300012   \n",
       "465669 2022-03-11  [-0.3947567641735077, 0.24100352823734283, 0.1...  300012   \n",
       "465670 2022-02-25  [-0.276712030172348, -0.020862922072410583, 0....  300012   \n",
       "465671 2022-02-08  [-0.2331700325012207, 0.3837924599647522, 0.29...  300012   \n",
       "465672 2022-01-14  [-0.3482031226158142, 0.05011926218867302, 0.1...  300012   \n",
       "\n",
       "               交易量     收益率变化  聚类标签  公司名称  \n",
       "11990   14688923.0  0.007776   0.0  上海机场  \n",
       "11991   10958100.0 -0.010986   0.0  上海机场  \n",
       "11992   10958100.0 -0.010986   0.0  上海机场  \n",
       "11993   18077877.0 -0.006559   0.0  上海机场  \n",
       "11994    8976988.0  0.005155   0.0  上海机场  \n",
       "...            ...       ...   ...   ...  \n",
       "465668  17626223.0  0.005376   1.0  华测检测  \n",
       "465669   7651177.0 -0.004668   1.0  华测检测  \n",
       "465670  12862232.0  0.014433   1.0  华测检测  \n",
       "465671   8127425.0  0.004762   1.0  华测检测  \n",
       "465672  16993018.0  0.009884   1.0  华测检测  \n",
       "\n",
       "[126776 rows x 7 columns]"
      ]
     },
     "execution_count": 9,
     "metadata": {},
     "output_type": "execute_result"
    }
   ],
   "source": [
    "## 进行左连接，以 guba_data 为主表\n",
    "merged_data = pd.merge(guba_data, return_data[['股票编号', '日期', '交易量', '收益率变化']], \n",
    "                       on=['股票编号', '日期'], \n",
    "                       how='left')\n",
    "merged_data = pd.merge(merged_data, cluster_data, on='股票编号', how='left')\n",
    "merged_data = merged_data.dropna()\n",
    "\n",
    "merged_data['日期'] = pd.to_datetime(merged_data['日期'])\n",
    "merged_data = merged_data[(merged_data['日期'] > '2021-05-06') & (merged_data['日期'] < '2024-11-18')]\n",
    "merged_data"
   ]
  },
  {
   "cell_type": "code",
   "execution_count": 10,
   "id": "10b42c68-8d2c-46c2-94b0-db61456fdc2b",
   "metadata": {
    "execution": {
     "iopub.execute_input": "2025-06-08T16:17:27.208798Z",
     "iopub.status.busy": "2025-06-08T16:17:27.208556Z",
     "iopub.status.idle": "2025-06-08T16:24:02.338975Z",
     "shell.execute_reply": "2025-06-08T16:24:02.338537Z"
    },
    "papermill": {
     "duration": 395.171161,
     "end_time": "2025-06-08T16:24:02.339937",
     "exception": false,
     "start_time": "2025-06-08T16:17:27.168776",
     "status": "completed"
    },
    "tags": []
   },
   "outputs": [
    {
     "name": "stderr",
     "output_type": "stream",
     "text": [
      "\r",
      "  0%|          | 0/126776 [00:00<?, ?it/s]"
     ]
    },
    {
     "name": "stderr",
     "output_type": "stream",
     "text": [
      "\r",
      "  0%|          | 3/126776 [00:00<1:13:48, 28.62it/s]"
     ]
    },
    {
     "name": "stderr",
     "output_type": "stream",
     "text": [
      "\r",
      "  0%|          | 31/126776 [00:00<12:44, 165.82it/s]"
     ]
    },
    {
     "name": "stderr",
     "output_type": "stream",
     "text": [
      "\r",
      "  0%|          | 56/126776 [00:00<10:30, 200.87it/s]"
     ]
    },
    {
     "name": "stderr",
     "output_type": "stream",
     "text": [
      "\r",
      "  0%|          | 82/126776 [00:00<09:33, 220.95it/s]"
     ]
    },
    {
     "name": "stderr",
     "output_type": "stream",
     "text": [
      "\r",
      "  0%|          | 111/126776 [00:00<08:36, 245.00it/s]"
     ]
    },
    {
     "name": "stderr",
     "output_type": "stream",
     "text": [
      "\r",
      "  0%|          | 140/126776 [00:00<08:07, 259.55it/s]"
     ]
    },
    {
     "name": "stderr",
     "output_type": "stream",
     "text": [
      "\r",
      "  0%|          | 169/126776 [00:00<07:50, 268.95it/s]"
     ]
    },
    {
     "name": "stderr",
     "output_type": "stream",
     "text": [
      "\r",
      "  0%|          | 198/126776 [00:00<07:40, 275.02it/s]"
     ]
    },
    {
     "name": "stderr",
     "output_type": "stream",
     "text": [
      "\r",
      "  0%|          | 227/126776 [00:00<07:33, 279.17it/s]"
     ]
    },
    {
     "name": "stderr",
     "output_type": "stream",
     "text": [
      "\r",
      "  0%|          | 255/126776 [00:01<07:33, 279.08it/s]"
     ]
    },
    {
     "name": "stderr",
     "output_type": "stream",
     "text": [
      "\r",
      "  0%|          | 284/126776 [00:01<07:29, 281.14it/s]"
     ]
    },
    {
     "name": "stderr",
     "output_type": "stream",
     "text": [
      "\r",
      "  0%|          | 313/126776 [00:01<07:26, 283.35it/s]"
     ]
    },
    {
     "name": "stderr",
     "output_type": "stream",
     "text": [
      "\r",
      "  0%|          | 342/126776 [00:01<07:24, 284.58it/s]"
     ]
    },
    {
     "name": "stderr",
     "output_type": "stream",
     "text": [
      "\r",
      "  0%|          | 371/126776 [00:01<07:22, 285.68it/s]"
     ]
    },
    {
     "name": "stderr",
     "output_type": "stream",
     "text": [
      "\r",
      "  0%|          | 401/126776 [00:01<07:17, 288.74it/s]"
     ]
    },
    {
     "name": "stderr",
     "output_type": "stream",
     "text": [
      "\r",
      "  0%|          | 430/126776 [00:01<09:01, 233.42it/s]"
     ]
    },
    {
     "name": "stderr",
     "output_type": "stream",
     "text": [
      "\r",
      "  0%|          | 458/126776 [00:01<08:35, 245.15it/s]"
     ]
    },
    {
     "name": "stderr",
     "output_type": "stream",
     "text": [
      "\r",
      "  0%|          | 485/126776 [00:01<08:59, 233.90it/s]"
     ]
    },
    {
     "name": "stderr",
     "output_type": "stream",
     "text": [
      "\r",
      "  0%|          | 510/126776 [00:02<09:36, 218.96it/s]"
     ]
    },
    {
     "name": "stderr",
     "output_type": "stream",
     "text": [
      "\r",
      "  0%|          | 539/126776 [00:02<08:52, 237.08it/s]"
     ]
    },
    {
     "name": "stderr",
     "output_type": "stream",
     "text": [
      "\r",
      "  0%|          | 569/126776 [00:02<08:24, 250.23it/s]"
     ]
    },
    {
     "name": "stderr",
     "output_type": "stream",
     "text": [
      "\r",
      "  0%|          | 627/126776 [00:02<06:12, 338.82it/s]"
     ]
    },
    {
     "name": "stderr",
     "output_type": "stream",
     "text": [
      "\r",
      "  1%|          | 685/126776 [00:02<05:11, 404.88it/s]"
     ]
    },
    {
     "name": "stderr",
     "output_type": "stream",
     "text": [
      "\r",
      "  1%|          | 740/126776 [00:02<04:43, 444.90it/s]"
     ]
    },
    {
     "name": "stderr",
     "output_type": "stream",
     "text": [
      "\r",
      "  1%|          | 786/126776 [00:02<04:51, 431.92it/s]"
     ]
    },
    {
     "name": "stderr",
     "output_type": "stream",
     "text": [
      "\r",
      "  1%|          | 831/126776 [00:02<07:04, 296.83it/s]"
     ]
    },
    {
     "name": "stderr",
     "output_type": "stream",
     "text": [
      "\r",
      "  1%|          | 867/126776 [00:03<07:09, 293.47it/s]"
     ]
    },
    {
     "name": "stderr",
     "output_type": "stream",
     "text": [
      "\r",
      "  1%|          | 901/126776 [00:03<07:10, 292.51it/s]"
     ]
    },
    {
     "name": "stderr",
     "output_type": "stream",
     "text": [
      "\r",
      "  1%|          | 934/126776 [00:03<07:22, 284.25it/s]"
     ]
    },
    {
     "name": "stderr",
     "output_type": "stream",
     "text": [
      "\r",
      "  1%|          | 967/126776 [00:03<07:06, 295.20it/s]"
     ]
    },
    {
     "name": "stderr",
     "output_type": "stream",
     "text": [
      "\r",
      "  1%|          | 999/126776 [00:03<07:44, 271.02it/s]"
     ]
    },
    {
     "name": "stderr",
     "output_type": "stream",
     "text": [
      "\r",
      "  1%|          | 1028/126776 [00:03<08:06, 258.72it/s]"
     ]
    },
    {
     "name": "stderr",
     "output_type": "stream",
     "text": [
      "\r",
      "  1%|          | 1055/126776 [00:03<09:33, 219.11it/s]"
     ]
    },
    {
     "name": "stderr",
     "output_type": "stream",
     "text": [
      "\r",
      "  1%|          | 1079/126776 [00:04<10:16, 204.04it/s]"
     ]
    },
    {
     "name": "stderr",
     "output_type": "stream",
     "text": [
      "\r",
      "  1%|          | 1111/126776 [00:04<09:05, 230.35it/s]"
     ]
    },
    {
     "name": "stderr",
     "output_type": "stream",
     "text": [
      "\r",
      "  1%|          | 1140/126776 [00:04<08:36, 243.32it/s]"
     ]
    },
    {
     "name": "stderr",
     "output_type": "stream",
     "text": [
      "\r",
      "  1%|          | 1168/126776 [00:04<08:17, 252.59it/s]"
     ]
    },
    {
     "name": "stderr",
     "output_type": "stream",
     "text": [
      "\r",
      "  1%|          | 1197/126776 [00:04<07:59, 261.73it/s]"
     ]
    },
    {
     "name": "stderr",
     "output_type": "stream",
     "text": [
      "\r",
      "  1%|          | 1224/126776 [00:04<08:11, 255.19it/s]"
     ]
    },
    {
     "name": "stderr",
     "output_type": "stream",
     "text": [
      "\r",
      "  1%|          | 1251/126776 [00:04<10:58, 190.60it/s]"
     ]
    },
    {
     "name": "stderr",
     "output_type": "stream",
     "text": [
      "\r",
      "  1%|          | 1279/126776 [00:04<09:55, 210.71it/s]"
     ]
    },
    {
     "name": "stderr",
     "output_type": "stream",
     "text": [
      "\r",
      "  1%|          | 1307/126776 [00:04<09:13, 226.85it/s]"
     ]
    },
    {
     "name": "stderr",
     "output_type": "stream",
     "text": [
      "\r",
      "  1%|          | 1352/126776 [00:05<07:22, 283.63it/s]"
     ]
    },
    {
     "name": "stderr",
     "output_type": "stream",
     "text": [
      "\r",
      "  1%|          | 1404/126776 [00:05<06:02, 346.30it/s]"
     ]
    },
    {
     "name": "stderr",
     "output_type": "stream",
     "text": [
      "\r",
      "  1%|          | 1457/126776 [00:05<05:17, 395.13it/s]"
     ]
    },
    {
     "name": "stderr",
     "output_type": "stream",
     "text": [
      "\r",
      "  1%|          | 1509/126776 [00:05<04:51, 430.29it/s]"
     ]
    },
    {
     "name": "stderr",
     "output_type": "stream",
     "text": [
      "\r",
      "  1%|          | 1554/126776 [00:05<05:18, 393.30it/s]"
     ]
    },
    {
     "name": "stderr",
     "output_type": "stream",
     "text": [
      "\r",
      "  1%|▏         | 1596/126776 [00:05<05:52, 354.88it/s]"
     ]
    },
    {
     "name": "stderr",
     "output_type": "stream",
     "text": [
      "\r",
      "  1%|▏         | 1634/126776 [00:05<05:51, 355.75it/s]"
     ]
    },
    {
     "name": "stderr",
     "output_type": "stream",
     "text": [
      "\r",
      "  1%|▏         | 1671/126776 [00:05<06:09, 338.76it/s]"
     ]
    },
    {
     "name": "stderr",
     "output_type": "stream",
     "text": [
      "\r",
      "  1%|▏         | 1727/126776 [00:05<05:15, 396.10it/s]"
     ]
    },
    {
     "name": "stderr",
     "output_type": "stream",
     "text": [
      "\r",
      "  1%|▏         | 1786/126776 [00:06<04:39, 447.13it/s]"
     ]
    },
    {
     "name": "stderr",
     "output_type": "stream",
     "text": [
      "\r",
      "  1%|▏         | 1844/126776 [00:06<04:18, 483.31it/s]"
     ]
    },
    {
     "name": "stderr",
     "output_type": "stream",
     "text": [
      "\r",
      "  2%|▏         | 1903/126776 [00:06<04:04, 511.53it/s]"
     ]
    },
    {
     "name": "stderr",
     "output_type": "stream",
     "text": [
      "\r",
      "  2%|▏         | 1961/126776 [00:06<03:55, 530.37it/s]"
     ]
    },
    {
     "name": "stderr",
     "output_type": "stream",
     "text": [
      "\r",
      "  2%|▏         | 2019/126776 [00:06<03:49, 544.56it/s]"
     ]
    },
    {
     "name": "stderr",
     "output_type": "stream",
     "text": [
      "\r",
      "  2%|▏         | 2075/126776 [00:06<05:58, 348.09it/s]"
     ]
    },
    {
     "name": "stderr",
     "output_type": "stream",
     "text": [
      "\r",
      "  2%|▏         | 2120/126776 [00:06<06:36, 314.69it/s]"
     ]
    },
    {
     "name": "stderr",
     "output_type": "stream",
     "text": [
      "\r",
      "  2%|▏         | 2176/126776 [00:07<05:41, 364.40it/s]"
     ]
    },
    {
     "name": "stderr",
     "output_type": "stream",
     "text": [
      "\r",
      "  2%|▏         | 2232/126776 [00:07<05:05, 408.00it/s]"
     ]
    },
    {
     "name": "stderr",
     "output_type": "stream",
     "text": [
      "\r",
      "  2%|▏         | 2280/126776 [00:07<05:28, 379.28it/s]"
     ]
    },
    {
     "name": "stderr",
     "output_type": "stream",
     "text": [
      "\r",
      "  2%|▏         | 2323/126776 [00:07<06:02, 343.54it/s]"
     ]
    },
    {
     "name": "stderr",
     "output_type": "stream",
     "text": [
      "\r",
      "  2%|▏         | 2381/126776 [00:07<05:13, 396.80it/s]"
     ]
    },
    {
     "name": "stderr",
     "output_type": "stream",
     "text": [
      "\r",
      "  2%|▏         | 2440/126776 [00:07<04:40, 442.85it/s]"
     ]
    },
    {
     "name": "stderr",
     "output_type": "stream",
     "text": [
      "\r",
      "  2%|▏         | 2489/126776 [00:07<05:22, 384.85it/s]"
     ]
    },
    {
     "name": "stderr",
     "output_type": "stream",
     "text": [
      "\r",
      "  2%|▏         | 2548/126776 [00:07<04:47, 432.31it/s]"
     ]
    },
    {
     "name": "stderr",
     "output_type": "stream",
     "text": [
      "\r",
      "  2%|▏         | 2607/126776 [00:08<04:23, 470.85it/s]"
     ]
    },
    {
     "name": "stderr",
     "output_type": "stream",
     "text": [
      "\r",
      "  2%|▏         | 2666/126776 [00:08<04:07, 501.37it/s]"
     ]
    },
    {
     "name": "stderr",
     "output_type": "stream",
     "text": [
      "\r",
      "  2%|▏         | 2725/126776 [00:08<03:56, 523.49it/s]"
     ]
    },
    {
     "name": "stderr",
     "output_type": "stream",
     "text": [
      "\r",
      "  2%|▏         | 2781/126776 [00:08<03:53, 531.07it/s]"
     ]
    },
    {
     "name": "stderr",
     "output_type": "stream",
     "text": [
      "\r",
      "  2%|▏         | 2836/126776 [00:08<04:17, 482.21it/s]"
     ]
    },
    {
     "name": "stderr",
     "output_type": "stream",
     "text": [
      "\r",
      "  2%|▏         | 2887/126776 [00:08<05:29, 375.77it/s]"
     ]
    },
    {
     "name": "stderr",
     "output_type": "stream",
     "text": [
      "\r",
      "  2%|▏         | 2946/126776 [00:08<04:52, 423.88it/s]"
     ]
    },
    {
     "name": "stderr",
     "output_type": "stream",
     "text": [
      "\r",
      "  2%|▏         | 3004/126776 [00:08<04:28, 461.05it/s]"
     ]
    },
    {
     "name": "stderr",
     "output_type": "stream",
     "text": [
      "\r",
      "  2%|▏         | 3055/126776 [00:09<04:48, 428.60it/s]"
     ]
    },
    {
     "name": "stderr",
     "output_type": "stream",
     "text": [
      "\r",
      "  2%|▏         | 3102/126776 [00:09<04:56, 416.90it/s]"
     ]
    },
    {
     "name": "stderr",
     "output_type": "stream",
     "text": [
      "\r",
      "  2%|▏         | 3152/126776 [00:09<04:42, 437.91it/s]"
     ]
    },
    {
     "name": "stderr",
     "output_type": "stream",
     "text": [
      "\r",
      "  3%|▎         | 3211/126776 [00:09<04:19, 476.91it/s]"
     ]
    },
    {
     "name": "stderr",
     "output_type": "stream",
     "text": [
      "\r",
      "  3%|▎         | 3269/126776 [00:09<04:04, 504.78it/s]"
     ]
    },
    {
     "name": "stderr",
     "output_type": "stream",
     "text": [
      "\r",
      "  3%|▎         | 3321/126776 [00:09<05:22, 383.31it/s]"
     ]
    },
    {
     "name": "stderr",
     "output_type": "stream",
     "text": [
      "\r",
      "  3%|▎         | 3377/126776 [00:09<04:51, 423.65it/s]"
     ]
    },
    {
     "name": "stderr",
     "output_type": "stream",
     "text": [
      "\r",
      "  3%|▎         | 3435/126776 [00:09<04:26, 461.98it/s]"
     ]
    },
    {
     "name": "stderr",
     "output_type": "stream",
     "text": [
      "\r",
      "  3%|▎         | 3494/126776 [00:09<04:09, 494.41it/s]"
     ]
    },
    {
     "name": "stderr",
     "output_type": "stream",
     "text": [
      "\r",
      "  3%|▎         | 3550/126776 [00:10<04:00, 511.84it/s]"
     ]
    },
    {
     "name": "stderr",
     "output_type": "stream",
     "text": [
      "\r",
      "  3%|▎         | 3604/126776 [00:10<04:22, 469.33it/s]"
     ]
    },
    {
     "name": "stderr",
     "output_type": "stream",
     "text": [
      "\r",
      "  3%|▎         | 3662/126776 [00:10<04:07, 498.25it/s]"
     ]
    },
    {
     "name": "stderr",
     "output_type": "stream",
     "text": [
      "\r",
      "  3%|▎         | 3714/126776 [00:10<04:56, 415.16it/s]"
     ]
    },
    {
     "name": "stderr",
     "output_type": "stream",
     "text": [
      "\r",
      "  3%|▎         | 3760/126776 [00:10<05:07, 399.77it/s]"
     ]
    },
    {
     "name": "stderr",
     "output_type": "stream",
     "text": [
      "\r",
      "  3%|▎         | 3812/126776 [00:10<04:47, 427.82it/s]"
     ]
    },
    {
     "name": "stderr",
     "output_type": "stream",
     "text": [
      "\r",
      "  3%|▎         | 3869/126776 [00:10<04:24, 464.29it/s]"
     ]
    },
    {
     "name": "stderr",
     "output_type": "stream",
     "text": [
      "\r",
      "  3%|▎         | 3918/126776 [00:10<04:33, 449.43it/s]"
     ]
    },
    {
     "name": "stderr",
     "output_type": "stream",
     "text": [
      "\r",
      "  3%|▎         | 3965/126776 [00:11<04:55, 415.66it/s]"
     ]
    },
    {
     "name": "stderr",
     "output_type": "stream",
     "text": [
      "\r",
      "  3%|▎         | 4014/126776 [00:11<04:42, 433.94it/s]"
     ]
    },
    {
     "name": "stderr",
     "output_type": "stream",
     "text": [
      "\r",
      "  3%|▎         | 4073/126776 [00:11<04:17, 475.82it/s]"
     ]
    },
    {
     "name": "stderr",
     "output_type": "stream",
     "text": [
      "\r",
      "  3%|▎         | 4122/126776 [00:11<05:38, 362.31it/s]"
     ]
    },
    {
     "name": "stderr",
     "output_type": "stream",
     "text": [
      "\r",
      "  3%|▎         | 4164/126776 [00:11<05:41, 359.52it/s]"
     ]
    },
    {
     "name": "stderr",
     "output_type": "stream",
     "text": [
      "\r",
      "  3%|▎         | 4213/126776 [00:11<05:13, 390.50it/s]"
     ]
    },
    {
     "name": "stderr",
     "output_type": "stream",
     "text": [
      "\r",
      "  3%|▎         | 4273/126776 [00:11<04:36, 442.31it/s]"
     ]
    },
    {
     "name": "stderr",
     "output_type": "stream",
     "text": [
      "\r",
      "  3%|▎         | 4332/126776 [00:11<04:14, 480.22it/s]"
     ]
    },
    {
     "name": "stderr",
     "output_type": "stream",
     "text": [
      "\r",
      "  3%|▎         | 4391/126776 [00:12<04:00, 509.89it/s]"
     ]
    },
    {
     "name": "stderr",
     "output_type": "stream",
     "text": [
      "\r",
      "  4%|▎         | 4450/126776 [00:12<03:50, 530.98it/s]"
     ]
    },
    {
     "name": "stderr",
     "output_type": "stream",
     "text": [
      "\r",
      "  4%|▎         | 4505/126776 [00:12<04:45, 427.96it/s]"
     ]
    },
    {
     "name": "stderr",
     "output_type": "stream",
     "text": [
      "\r",
      "  4%|▎         | 4564/126776 [00:12<04:21, 466.91it/s]"
     ]
    },
    {
     "name": "stderr",
     "output_type": "stream",
     "text": [
      "\r",
      "  4%|▎         | 4623/126776 [00:12<04:05, 497.51it/s]"
     ]
    },
    {
     "name": "stderr",
     "output_type": "stream",
     "text": [
      "\r",
      "  4%|▎         | 4682/126776 [00:12<03:53, 521.78it/s]"
     ]
    },
    {
     "name": "stderr",
     "output_type": "stream",
     "text": [
      "\r",
      "  4%|▎         | 4741/126776 [00:12<03:45, 540.07it/s]"
     ]
    },
    {
     "name": "stderr",
     "output_type": "stream",
     "text": [
      "\r",
      "  4%|▍         | 4800/126776 [00:12<03:40, 553.18it/s]"
     ]
    },
    {
     "name": "stderr",
     "output_type": "stream",
     "text": [
      "\r",
      "  4%|▍         | 4859/126776 [00:12<03:36, 563.63it/s]"
     ]
    },
    {
     "name": "stderr",
     "output_type": "stream",
     "text": [
      "\r",
      "  4%|▍         | 4917/126776 [00:13<04:29, 452.83it/s]"
     ]
    },
    {
     "name": "stderr",
     "output_type": "stream",
     "text": [
      "\r",
      "  4%|▍         | 4976/126776 [00:13<04:10, 485.96it/s]"
     ]
    },
    {
     "name": "stderr",
     "output_type": "stream",
     "text": [
      "\r",
      "  4%|▍         | 5035/126776 [00:13<03:57, 512.79it/s]"
     ]
    },
    {
     "name": "stderr",
     "output_type": "stream",
     "text": [
      "\r",
      "  4%|▍         | 5094/126776 [00:13<03:48, 533.32it/s]"
     ]
    },
    {
     "name": "stderr",
     "output_type": "stream",
     "text": [
      "\r",
      "  4%|▍         | 5153/126776 [00:13<03:41, 548.46it/s]"
     ]
    },
    {
     "name": "stderr",
     "output_type": "stream",
     "text": [
      "\r",
      "  4%|▍         | 5212/126776 [00:13<03:37, 560.08it/s]"
     ]
    },
    {
     "name": "stderr",
     "output_type": "stream",
     "text": [
      "\r",
      "  4%|▍         | 5271/126776 [00:13<03:34, 567.38it/s]"
     ]
    },
    {
     "name": "stderr",
     "output_type": "stream",
     "text": [
      "\r",
      "  4%|▍         | 5330/126776 [00:13<03:31, 573.32it/s]"
     ]
    },
    {
     "name": "stderr",
     "output_type": "stream",
     "text": [
      "\r",
      "  4%|▍         | 5388/126776 [00:14<04:26, 454.87it/s]"
     ]
    },
    {
     "name": "stderr",
     "output_type": "stream",
     "text": [
      "\r",
      "  4%|▍         | 5447/126776 [00:14<04:09, 486.75it/s]"
     ]
    },
    {
     "name": "stderr",
     "output_type": "stream",
     "text": [
      "\r",
      "  4%|▍         | 5506/126776 [00:14<03:56, 513.36it/s]"
     ]
    },
    {
     "name": "stderr",
     "output_type": "stream",
     "text": [
      "\r",
      "  4%|▍         | 5565/126776 [00:14<03:47, 533.66it/s]"
     ]
    },
    {
     "name": "stderr",
     "output_type": "stream",
     "text": [
      "\r",
      "  4%|▍         | 5624/126776 [00:14<03:40, 548.73it/s]"
     ]
    },
    {
     "name": "stderr",
     "output_type": "stream",
     "text": [
      "\r",
      "  4%|▍         | 5683/126776 [00:14<03:36, 559.96it/s]"
     ]
    },
    {
     "name": "stderr",
     "output_type": "stream",
     "text": [
      "\r",
      "  5%|▍         | 5742/126776 [00:14<03:33, 567.59it/s]"
     ]
    },
    {
     "name": "stderr",
     "output_type": "stream",
     "text": [
      "\r",
      "  5%|▍         | 5800/126776 [00:14<04:29, 448.28it/s]"
     ]
    },
    {
     "name": "stderr",
     "output_type": "stream",
     "text": [
      "\r",
      "  5%|▍         | 5859/126776 [00:14<04:10, 482.33it/s]"
     ]
    },
    {
     "name": "stderr",
     "output_type": "stream",
     "text": [
      "\r",
      "  5%|▍         | 5918/126776 [00:15<03:57, 509.17it/s]"
     ]
    },
    {
     "name": "stderr",
     "output_type": "stream",
     "text": [
      "\r",
      "  5%|▍         | 5977/126776 [00:15<03:47, 530.24it/s]"
     ]
    },
    {
     "name": "stderr",
     "output_type": "stream",
     "text": [
      "\r",
      "  5%|▍         | 6036/126776 [00:15<03:41, 545.87it/s]"
     ]
    },
    {
     "name": "stderr",
     "output_type": "stream",
     "text": [
      "\r",
      "  5%|▍         | 6095/126776 [00:15<03:36, 557.18it/s]"
     ]
    },
    {
     "name": "stderr",
     "output_type": "stream",
     "text": [
      "\r",
      "  5%|▍         | 6154/126776 [00:15<03:32, 566.32it/s]"
     ]
    },
    {
     "name": "stderr",
     "output_type": "stream",
     "text": [
      "\r",
      "  5%|▍         | 6212/126776 [00:15<04:30, 445.38it/s]"
     ]
    },
    {
     "name": "stderr",
     "output_type": "stream",
     "text": [
      "\r",
      "  5%|▍         | 6271/126776 [00:15<04:11, 479.94it/s]"
     ]
    },
    {
     "name": "stderr",
     "output_type": "stream",
     "text": [
      "\r",
      "  5%|▍         | 6330/126776 [00:15<03:57, 507.79it/s]"
     ]
    },
    {
     "name": "stderr",
     "output_type": "stream",
     "text": [
      "\r",
      "  5%|▌         | 6389/126776 [00:15<03:47, 529.32it/s]"
     ]
    },
    {
     "name": "stderr",
     "output_type": "stream",
     "text": [
      "\r",
      "  5%|▌         | 6448/126776 [00:16<03:40, 545.51it/s]"
     ]
    },
    {
     "name": "stderr",
     "output_type": "stream",
     "text": [
      "\r",
      "  5%|▌         | 6507/126776 [00:16<03:35, 557.72it/s]"
     ]
    },
    {
     "name": "stderr",
     "output_type": "stream",
     "text": [
      "\r",
      "  5%|▌         | 6566/126776 [00:16<03:32, 566.55it/s]"
     ]
    },
    {
     "name": "stderr",
     "output_type": "stream",
     "text": [
      "\r",
      "  5%|▌         | 6624/126776 [00:16<04:32, 441.71it/s]"
     ]
    },
    {
     "name": "stderr",
     "output_type": "stream",
     "text": [
      "\r",
      "  5%|▌         | 6682/126776 [00:16<04:12, 475.32it/s]"
     ]
    },
    {
     "name": "stderr",
     "output_type": "stream",
     "text": [
      "\r",
      "  5%|▌         | 6741/126776 [00:16<03:58, 503.48it/s]"
     ]
    },
    {
     "name": "stderr",
     "output_type": "stream",
     "text": [
      "\r",
      "  5%|▌         | 6800/126776 [00:16<03:48, 525.89it/s]"
     ]
    },
    {
     "name": "stderr",
     "output_type": "stream",
     "text": [
      "\r",
      "  5%|▌         | 6859/126776 [00:16<03:40, 543.60it/s]"
     ]
    },
    {
     "name": "stderr",
     "output_type": "stream",
     "text": [
      "\r",
      "  5%|▌         | 6918/126776 [00:16<03:35, 556.37it/s]"
     ]
    },
    {
     "name": "stderr",
     "output_type": "stream",
     "text": [
      "\r",
      "  6%|▌         | 6977/126776 [00:17<03:31, 565.71it/s]"
     ]
    },
    {
     "name": "stderr",
     "output_type": "stream",
     "text": [
      "\r",
      "  6%|▌         | 7035/126776 [00:17<04:46, 418.12it/s]"
     ]
    },
    {
     "name": "stderr",
     "output_type": "stream",
     "text": [
      "\r",
      "  6%|▌         | 7094/126776 [00:17<04:21, 457.78it/s]"
     ]
    },
    {
     "name": "stderr",
     "output_type": "stream",
     "text": [
      "\r",
      "  6%|▌         | 7153/126776 [00:17<04:03, 490.72it/s]"
     ]
    },
    {
     "name": "stderr",
     "output_type": "stream",
     "text": [
      "\r",
      "  6%|▌         | 7212/126776 [00:17<03:51, 516.20it/s]"
     ]
    },
    {
     "name": "stderr",
     "output_type": "stream",
     "text": [
      "\r",
      "  6%|▌         | 7271/126776 [00:17<03:42, 536.26it/s]"
     ]
    },
    {
     "name": "stderr",
     "output_type": "stream",
     "text": [
      "\r",
      "  6%|▌         | 7331/126776 [00:17<03:36, 551.88it/s]"
     ]
    },
    {
     "name": "stderr",
     "output_type": "stream",
     "text": [
      "\r",
      "  6%|▌         | 7390/126776 [00:17<03:32, 561.06it/s]"
     ]
    },
    {
     "name": "stderr",
     "output_type": "stream",
     "text": [
      "\r",
      "  6%|▌         | 7448/126776 [00:18<04:34, 435.43it/s]"
     ]
    },
    {
     "name": "stderr",
     "output_type": "stream",
     "text": [
      "\r",
      "  6%|▌         | 7507/126776 [00:18<04:13, 471.17it/s]"
     ]
    },
    {
     "name": "stderr",
     "output_type": "stream",
     "text": [
      "\r",
      "  6%|▌         | 7566/126776 [00:18<03:57, 501.11it/s]"
     ]
    },
    {
     "name": "stderr",
     "output_type": "stream",
     "text": [
      "\r",
      "  6%|▌         | 7625/126776 [00:18<03:47, 524.78it/s]"
     ]
    },
    {
     "name": "stderr",
     "output_type": "stream",
     "text": [
      "\r",
      "  6%|▌         | 7684/126776 [00:18<03:39, 542.50it/s]"
     ]
    },
    {
     "name": "stderr",
     "output_type": "stream",
     "text": [
      "\r",
      "  6%|▌         | 7743/126776 [00:18<03:34, 555.80it/s]"
     ]
    },
    {
     "name": "stderr",
     "output_type": "stream",
     "text": [
      "\r",
      "  6%|▌         | 7803/126776 [00:18<03:30, 566.20it/s]"
     ]
    },
    {
     "name": "stderr",
     "output_type": "stream",
     "text": [
      "\r",
      "  6%|▌         | 7861/126776 [00:18<04:33, 434.83it/s]"
     ]
    },
    {
     "name": "stderr",
     "output_type": "stream",
     "text": [
      "\r",
      "  6%|▌         | 7920/126776 [00:18<04:12, 471.19it/s]"
     ]
    },
    {
     "name": "stderr",
     "output_type": "stream",
     "text": [
      "\r",
      "  6%|▋         | 7979/126776 [00:19<03:57, 501.12it/s]"
     ]
    },
    {
     "name": "stderr",
     "output_type": "stream",
     "text": [
      "\r",
      "  6%|▋         | 8038/126776 [00:19<03:46, 524.50it/s]"
     ]
    },
    {
     "name": "stderr",
     "output_type": "stream",
     "text": [
      "\r",
      "  6%|▋         | 8098/126776 [00:19<03:38, 542.78it/s]"
     ]
    },
    {
     "name": "stderr",
     "output_type": "stream",
     "text": [
      "\r",
      "  6%|▋         | 8157/126776 [00:19<03:33, 555.63it/s]"
     ]
    },
    {
     "name": "stderr",
     "output_type": "stream",
     "text": [
      "\r",
      "  6%|▋         | 8216/126776 [00:19<03:29, 564.86it/s]"
     ]
    },
    {
     "name": "stderr",
     "output_type": "stream",
     "text": [
      "\r",
      "  7%|▋         | 8275/126776 [00:19<03:27, 571.86it/s]"
     ]
    },
    {
     "name": "stderr",
     "output_type": "stream",
     "text": [
      "\r",
      "  7%|▋         | 8334/126776 [00:19<04:32, 435.27it/s]"
     ]
    },
    {
     "name": "stderr",
     "output_type": "stream",
     "text": [
      "\r",
      "  7%|▋         | 8393/126776 [00:19<04:11, 471.09it/s]"
     ]
    },
    {
     "name": "stderr",
     "output_type": "stream",
     "text": [
      "\r",
      "  7%|▋         | 8452/126776 [00:19<03:56, 501.07it/s]"
     ]
    },
    {
     "name": "stderr",
     "output_type": "stream",
     "text": [
      "\r",
      "  7%|▋         | 8511/126776 [00:20<03:45, 524.27it/s]"
     ]
    },
    {
     "name": "stderr",
     "output_type": "stream",
     "text": [
      "\r",
      "  7%|▋         | 8570/126776 [00:20<03:38, 542.14it/s]"
     ]
    },
    {
     "name": "stderr",
     "output_type": "stream",
     "text": [
      "\r",
      "  7%|▋         | 8629/126776 [00:20<03:32, 555.46it/s]"
     ]
    },
    {
     "name": "stderr",
     "output_type": "stream",
     "text": [
      "\r",
      "  7%|▋         | 8688/126776 [00:20<03:28, 565.23it/s]"
     ]
    },
    {
     "name": "stderr",
     "output_type": "stream",
     "text": [
      "\r",
      "  7%|▋         | 8746/126776 [00:20<04:35, 428.83it/s]"
     ]
    },
    {
     "name": "stderr",
     "output_type": "stream",
     "text": [
      "\r",
      "  7%|▋         | 8805/126776 [00:20<04:12, 466.91it/s]"
     ]
    },
    {
     "name": "stderr",
     "output_type": "stream",
     "text": [
      "\r",
      "  7%|▋         | 8864/126776 [00:20<03:56, 497.68it/s]"
     ]
    },
    {
     "name": "stderr",
     "output_type": "stream",
     "text": [
      "\r",
      "  7%|▋         | 8924/126776 [00:20<03:45, 522.69it/s]"
     ]
    },
    {
     "name": "stderr",
     "output_type": "stream",
     "text": [
      "\r",
      "  7%|▋         | 8983/126776 [00:20<03:37, 540.61it/s]"
     ]
    },
    {
     "name": "stderr",
     "output_type": "stream",
     "text": [
      "\r",
      "  7%|▋         | 9042/126776 [00:21<03:32, 553.99it/s]"
     ]
    },
    {
     "name": "stderr",
     "output_type": "stream",
     "text": [
      "\r",
      "  7%|▋         | 9101/126776 [00:21<03:28, 563.66it/s]"
     ]
    },
    {
     "name": "stderr",
     "output_type": "stream",
     "text": [
      "\r",
      "  7%|▋         | 9159/126776 [00:21<04:35, 427.63it/s]"
     ]
    },
    {
     "name": "stderr",
     "output_type": "stream",
     "text": [
      "\r",
      "  7%|▋         | 9218/126776 [00:21<04:12, 465.31it/s]"
     ]
    },
    {
     "name": "stderr",
     "output_type": "stream",
     "text": [
      "\r",
      "  7%|▋         | 9277/126776 [00:21<03:56, 496.37it/s]"
     ]
    },
    {
     "name": "stderr",
     "output_type": "stream",
     "text": [
      "\r",
      "  7%|▋         | 9336/126776 [00:21<03:45, 520.86it/s]"
     ]
    },
    {
     "name": "stderr",
     "output_type": "stream",
     "text": [
      "\r",
      "  7%|▋         | 9395/126776 [00:21<03:37, 539.18it/s]"
     ]
    },
    {
     "name": "stderr",
     "output_type": "stream",
     "text": [
      "\r",
      "  7%|▋         | 9454/126776 [00:21<03:32, 550.96it/s]"
     ]
    },
    {
     "name": "stderr",
     "output_type": "stream",
     "text": [
      "\r",
      "  8%|▊         | 9513/126776 [00:22<03:28, 561.35it/s]"
     ]
    },
    {
     "name": "stderr",
     "output_type": "stream",
     "text": [
      "\r",
      "  8%|▊         | 9571/126776 [00:22<04:37, 422.96it/s]"
     ]
    },
    {
     "name": "stderr",
     "output_type": "stream",
     "text": [
      "\r",
      "  8%|▊         | 9630/126776 [00:22<04:13, 461.41it/s]"
     ]
    },
    {
     "name": "stderr",
     "output_type": "stream",
     "text": [
      "\r",
      "  8%|▊         | 9689/126776 [00:22<03:57, 492.92it/s]"
     ]
    },
    {
     "name": "stderr",
     "output_type": "stream",
     "text": [
      "\r",
      "  8%|▊         | 9748/126776 [00:22<03:46, 517.69it/s]"
     ]
    },
    {
     "name": "stderr",
     "output_type": "stream",
     "text": [
      "\r",
      "  8%|▊         | 9807/126776 [00:22<03:38, 536.08it/s]"
     ]
    },
    {
     "name": "stderr",
     "output_type": "stream",
     "text": [
      "\r",
      "  8%|▊         | 9866/126776 [00:22<03:32, 550.48it/s]"
     ]
    },
    {
     "name": "stderr",
     "output_type": "stream",
     "text": [
      "\r",
      "  8%|▊         | 9924/126776 [00:22<03:29, 557.78it/s]"
     ]
    },
    {
     "name": "stderr",
     "output_type": "stream",
     "text": [
      "\r",
      "  8%|▊         | 9982/126776 [00:23<04:47, 405.70it/s]"
     ]
    },
    {
     "name": "stderr",
     "output_type": "stream",
     "text": [
      "\r",
      "  8%|▊         | 10040/126776 [00:23<04:22, 445.04it/s]"
     ]
    },
    {
     "name": "stderr",
     "output_type": "stream",
     "text": [
      "\r",
      "  8%|▊         | 10099/126776 [00:23<04:03, 479.48it/s]"
     ]
    },
    {
     "name": "stderr",
     "output_type": "stream",
     "text": [
      "\r",
      "  8%|▊         | 10158/126776 [00:23<03:49, 507.36it/s]"
     ]
    },
    {
     "name": "stderr",
     "output_type": "stream",
     "text": [
      "\r",
      "  8%|▊         | 10217/126776 [00:23<03:40, 528.51it/s]"
     ]
    },
    {
     "name": "stderr",
     "output_type": "stream",
     "text": [
      "\r",
      "  8%|▊         | 10276/126776 [00:23<03:33, 544.51it/s]"
     ]
    },
    {
     "name": "stderr",
     "output_type": "stream",
     "text": [
      "\r",
      "  8%|▊         | 10335/126776 [00:23<03:29, 556.77it/s]"
     ]
    },
    {
     "name": "stderr",
     "output_type": "stream",
     "text": [
      "\r",
      "  8%|▊         | 10393/126776 [00:23<04:45, 407.61it/s]"
     ]
    },
    {
     "name": "stderr",
     "output_type": "stream",
     "text": [
      "\r",
      "  8%|▊         | 10452/126776 [00:24<04:19, 448.41it/s]"
     ]
    },
    {
     "name": "stderr",
     "output_type": "stream",
     "text": [
      "\r",
      "  8%|▊         | 10511/126776 [00:24<04:00, 482.59it/s]"
     ]
    },
    {
     "name": "stderr",
     "output_type": "stream",
     "text": [
      "\r",
      "  8%|▊         | 10570/126776 [00:24<03:47, 509.86it/s]"
     ]
    },
    {
     "name": "stderr",
     "output_type": "stream",
     "text": [
      "\r",
      "  8%|▊         | 10629/126776 [00:24<03:38, 530.41it/s]"
     ]
    },
    {
     "name": "stderr",
     "output_type": "stream",
     "text": [
      "\r",
      "  8%|▊         | 10688/126776 [00:24<03:32, 546.31it/s]"
     ]
    },
    {
     "name": "stderr",
     "output_type": "stream",
     "text": [
      "\r",
      "  8%|▊         | 10747/126776 [00:24<03:27, 557.87it/s]"
     ]
    },
    {
     "name": "stderr",
     "output_type": "stream",
     "text": [
      "\r",
      "  9%|▊         | 10805/126776 [00:24<04:39, 414.84it/s]"
     ]
    },
    {
     "name": "stderr",
     "output_type": "stream",
     "text": [
      "\r",
      "  9%|▊         | 10864/126776 [00:24<04:14, 454.81it/s]"
     ]
    },
    {
     "name": "stderr",
     "output_type": "stream",
     "text": [
      "\r",
      "  9%|▊         | 10923/126776 [00:24<03:57, 487.88it/s]"
     ]
    },
    {
     "name": "stderr",
     "output_type": "stream",
     "text": [
      "\r",
      "  9%|▊         | 10982/126776 [00:25<03:45, 514.16it/s]"
     ]
    },
    {
     "name": "stderr",
     "output_type": "stream",
     "text": [
      "\r",
      "  9%|▊         | 11041/126776 [00:25<03:36, 534.16it/s]"
     ]
    },
    {
     "name": "stderr",
     "output_type": "stream",
     "text": [
      "\r",
      "  9%|▉         | 11100/126776 [00:25<03:30, 548.96it/s]"
     ]
    },
    {
     "name": "stderr",
     "output_type": "stream",
     "text": [
      "\r",
      "  9%|▉         | 11159/126776 [00:25<03:26, 559.81it/s]"
     ]
    },
    {
     "name": "stderr",
     "output_type": "stream",
     "text": [
      "\r",
      "  9%|▉         | 11218/126776 [00:25<03:23, 567.98it/s]"
     ]
    },
    {
     "name": "stderr",
     "output_type": "stream",
     "text": [
      "\r",
      "  9%|▉         | 11276/126776 [00:25<04:37, 415.76it/s]"
     ]
    },
    {
     "name": "stderr",
     "output_type": "stream",
     "text": [
      "\r",
      "  9%|▉         | 11335/126776 [00:25<04:13, 455.43it/s]"
     ]
    },
    {
     "name": "stderr",
     "output_type": "stream",
     "text": [
      "\r",
      "  9%|▉         | 11394/126776 [00:25<03:56, 486.95it/s]"
     ]
    },
    {
     "name": "stderr",
     "output_type": "stream",
     "text": [
      "\r",
      "  9%|▉         | 11453/126776 [00:25<03:44, 513.33it/s]"
     ]
    },
    {
     "name": "stderr",
     "output_type": "stream",
     "text": [
      "\r",
      "  9%|▉         | 11512/126776 [00:26<03:35, 533.74it/s]"
     ]
    },
    {
     "name": "stderr",
     "output_type": "stream",
     "text": [
      "\r",
      "  9%|▉         | 11571/126776 [00:26<03:30, 547.60it/s]"
     ]
    },
    {
     "name": "stderr",
     "output_type": "stream",
     "text": [
      "\r",
      "  9%|▉         | 11630/126776 [00:26<03:25, 559.10it/s]"
     ]
    },
    {
     "name": "stderr",
     "output_type": "stream",
     "text": [
      "\r",
      "  9%|▉         | 11688/126776 [00:26<04:40, 409.73it/s]"
     ]
    },
    {
     "name": "stderr",
     "output_type": "stream",
     "text": [
      "\r",
      "  9%|▉         | 11747/126776 [00:26<04:15, 450.63it/s]"
     ]
    },
    {
     "name": "stderr",
     "output_type": "stream",
     "text": [
      "\r",
      "  9%|▉         | 11806/126776 [00:26<03:57, 484.40it/s]"
     ]
    },
    {
     "name": "stderr",
     "output_type": "stream",
     "text": [
      "\r",
      "  9%|▉         | 11865/126776 [00:26<03:44, 511.52it/s]"
     ]
    },
    {
     "name": "stderr",
     "output_type": "stream",
     "text": [
      "\r",
      "  9%|▉         | 11924/126776 [00:26<03:35, 532.18it/s]"
     ]
    },
    {
     "name": "stderr",
     "output_type": "stream",
     "text": [
      "\r",
      "  9%|▉         | 11983/126776 [00:26<03:29, 547.36it/s]"
     ]
    },
    {
     "name": "stderr",
     "output_type": "stream",
     "text": [
      "\r",
      "  9%|▉         | 12042/126776 [00:27<03:25, 558.27it/s]"
     ]
    },
    {
     "name": "stderr",
     "output_type": "stream",
     "text": [
      "\r",
      " 10%|▉         | 12100/126776 [00:27<04:42, 406.15it/s]"
     ]
    },
    {
     "name": "stderr",
     "output_type": "stream",
     "text": [
      "\r",
      " 10%|▉         | 12159/126776 [00:27<04:16, 447.15it/s]"
     ]
    },
    {
     "name": "stderr",
     "output_type": "stream",
     "text": [
      "\r",
      " 10%|▉         | 12218/126776 [00:27<03:58, 481.10it/s]"
     ]
    },
    {
     "name": "stderr",
     "output_type": "stream",
     "text": [
      "\r",
      " 10%|▉         | 12277/126776 [00:27<03:44, 508.95it/s]"
     ]
    },
    {
     "name": "stderr",
     "output_type": "stream",
     "text": [
      "\r",
      " 10%|▉         | 12336/126776 [00:27<03:35, 530.11it/s]"
     ]
    },
    {
     "name": "stderr",
     "output_type": "stream",
     "text": [
      "\r",
      " 10%|▉         | 12395/126776 [00:27<03:29, 545.13it/s]"
     ]
    },
    {
     "name": "stderr",
     "output_type": "stream",
     "text": [
      "\r",
      " 10%|▉         | 12454/126776 [00:27<03:25, 555.49it/s]"
     ]
    },
    {
     "name": "stderr",
     "output_type": "stream",
     "text": [
      "\r",
      " 10%|▉         | 12513/126776 [00:28<04:41, 405.31it/s]"
     ]
    },
    {
     "name": "stderr",
     "output_type": "stream",
     "text": [
      "\r",
      " 10%|▉         | 12572/126776 [00:28<04:15, 446.32it/s]"
     ]
    },
    {
     "name": "stderr",
     "output_type": "stream",
     "text": [
      "\r",
      " 10%|▉         | 12631/126776 [00:28<03:57, 480.67it/s]"
     ]
    },
    {
     "name": "stderr",
     "output_type": "stream",
     "text": [
      "\r",
      " 10%|█         | 12690/126776 [00:28<03:44, 507.80it/s]"
     ]
    },
    {
     "name": "stderr",
     "output_type": "stream",
     "text": [
      "\r",
      " 10%|█         | 12749/126776 [00:28<03:35, 528.80it/s]"
     ]
    },
    {
     "name": "stderr",
     "output_type": "stream",
     "text": [
      "\r",
      " 10%|█         | 12808/126776 [00:28<03:29, 545.05it/s]"
     ]
    },
    {
     "name": "stderr",
     "output_type": "stream",
     "text": [
      "\r",
      " 10%|█         | 12867/126776 [00:28<03:24, 556.25it/s]"
     ]
    },
    {
     "name": "stderr",
     "output_type": "stream",
     "text": [
      "\r",
      " 10%|█         | 12926/126776 [00:28<03:21, 565.02it/s]"
     ]
    },
    {
     "name": "stderr",
     "output_type": "stream",
     "text": [
      "\r",
      " 10%|█         | 12984/126776 [00:29<04:43, 401.41it/s]"
     ]
    },
    {
     "name": "stderr",
     "output_type": "stream",
     "text": [
      "\r",
      " 10%|█         | 13042/126776 [00:29<04:17, 441.70it/s]"
     ]
    },
    {
     "name": "stderr",
     "output_type": "stream",
     "text": [
      "\r",
      " 10%|█         | 13101/126776 [00:29<03:58, 476.85it/s]"
     ]
    },
    {
     "name": "stderr",
     "output_type": "stream",
     "text": [
      "\r",
      " 10%|█         | 13159/126776 [00:29<03:45, 503.16it/s]"
     ]
    },
    {
     "name": "stderr",
     "output_type": "stream",
     "text": [
      "\r",
      " 10%|█         | 13217/126776 [00:29<03:36, 523.64it/s]"
     ]
    },
    {
     "name": "stderr",
     "output_type": "stream",
     "text": [
      "\r",
      " 10%|█         | 13276/126776 [00:29<03:29, 540.59it/s]"
     ]
    },
    {
     "name": "stderr",
     "output_type": "stream",
     "text": [
      "\r",
      " 11%|█         | 13335/126776 [00:29<03:24, 553.37it/s]"
     ]
    },
    {
     "name": "stderr",
     "output_type": "stream",
     "text": [
      "\r",
      " 11%|█         | 13393/126776 [00:29<04:45, 397.43it/s]"
     ]
    },
    {
     "name": "stderr",
     "output_type": "stream",
     "text": [
      "\r",
      " 11%|█         | 13452/126776 [00:30<04:17, 440.38it/s]"
     ]
    },
    {
     "name": "stderr",
     "output_type": "stream",
     "text": [
      "\r",
      " 11%|█         | 13510/126776 [00:30<03:58, 474.22it/s]"
     ]
    },
    {
     "name": "stderr",
     "output_type": "stream",
     "text": [
      "\r",
      " 11%|█         | 13569/126776 [00:30<03:44, 503.16it/s]"
     ]
    },
    {
     "name": "stderr",
     "output_type": "stream",
     "text": [
      "\r",
      " 11%|█         | 13628/126776 [00:30<03:35, 525.75it/s]"
     ]
    },
    {
     "name": "stderr",
     "output_type": "stream",
     "text": [
      "\r",
      " 11%|█         | 13687/126776 [00:30<03:28, 541.45it/s]"
     ]
    },
    {
     "name": "stderr",
     "output_type": "stream",
     "text": [
      "\r",
      " 11%|█         | 13746/126776 [00:30<03:24, 553.57it/s]"
     ]
    },
    {
     "name": "stderr",
     "output_type": "stream",
     "text": [
      "\r",
      " 11%|█         | 13805/126776 [00:30<03:20, 563.55it/s]"
     ]
    },
    {
     "name": "stderr",
     "output_type": "stream",
     "text": [
      "\r",
      " 11%|█         | 13863/126776 [00:30<04:43, 398.23it/s]"
     ]
    },
    {
     "name": "stderr",
     "output_type": "stream",
     "text": [
      "\r",
      " 11%|█         | 13922/126776 [00:31<04:16, 440.59it/s]"
     ]
    },
    {
     "name": "stderr",
     "output_type": "stream",
     "text": [
      "\r",
      " 11%|█         | 13980/126776 [00:31<03:58, 473.49it/s]"
     ]
    },
    {
     "name": "stderr",
     "output_type": "stream",
     "text": [
      "\r",
      " 11%|█         | 14038/126776 [00:31<03:45, 500.83it/s]"
     ]
    },
    {
     "name": "stderr",
     "output_type": "stream",
     "text": [
      "\r",
      " 11%|█         | 14097/126776 [00:31<03:35, 523.93it/s]"
     ]
    },
    {
     "name": "stderr",
     "output_type": "stream",
     "text": [
      "\r",
      " 11%|█         | 14156/126776 [00:31<03:28, 540.23it/s]"
     ]
    },
    {
     "name": "stderr",
     "output_type": "stream",
     "text": [
      "\r",
      " 11%|█         | 14214/126776 [00:31<03:24, 550.74it/s]"
     ]
    },
    {
     "name": "stderr",
     "output_type": "stream",
     "text": [
      "\r",
      " 11%|█▏        | 14271/126776 [00:31<04:59, 375.47it/s]"
     ]
    },
    {
     "name": "stderr",
     "output_type": "stream",
     "text": [
      "\r",
      " 11%|█▏        | 14330/126776 [00:31<04:26, 421.52it/s]"
     ]
    },
    {
     "name": "stderr",
     "output_type": "stream",
     "text": [
      "\r",
      " 11%|█▏        | 14389/126776 [00:31<04:03, 461.13it/s]"
     ]
    },
    {
     "name": "stderr",
     "output_type": "stream",
     "text": [
      "\r",
      " 11%|█▏        | 14448/126776 [00:32<03:47, 493.23it/s]"
     ]
    },
    {
     "name": "stderr",
     "output_type": "stream",
     "text": [
      "\r",
      " 11%|█▏        | 14507/126776 [00:32<03:36, 518.61it/s]"
     ]
    },
    {
     "name": "stderr",
     "output_type": "stream",
     "text": [
      "\r",
      " 11%|█▏        | 14566/126776 [00:32<03:29, 535.97it/s]"
     ]
    },
    {
     "name": "stderr",
     "output_type": "stream",
     "text": [
      "\r",
      " 12%|█▏        | 14625/126776 [00:32<03:23, 550.62it/s]"
     ]
    },
    {
     "name": "stderr",
     "output_type": "stream",
     "text": [
      "\r",
      " 12%|█▏        | 14683/126776 [00:32<04:47, 389.65it/s]"
     ]
    },
    {
     "name": "stderr",
     "output_type": "stream",
     "text": [
      "\r",
      " 12%|█▏        | 14742/126776 [00:32<04:18, 433.70it/s]"
     ]
    },
    {
     "name": "stderr",
     "output_type": "stream",
     "text": [
      "\r",
      " 12%|█▏        | 14801/126776 [00:32<03:57, 470.64it/s]"
     ]
    },
    {
     "name": "stderr",
     "output_type": "stream",
     "text": [
      "\r",
      " 12%|█▏        | 14860/126776 [00:32<03:43, 501.10it/s]"
     ]
    },
    {
     "name": "stderr",
     "output_type": "stream",
     "text": [
      "\r",
      " 12%|█▏        | 14919/126776 [00:33<03:33, 524.01it/s]"
     ]
    },
    {
     "name": "stderr",
     "output_type": "stream",
     "text": [
      "\r",
      " 12%|█▏        | 14978/126776 [00:33<03:26, 540.47it/s]"
     ]
    },
    {
     "name": "stderr",
     "output_type": "stream",
     "text": [
      "\r",
      " 12%|█▏        | 15037/126776 [00:33<03:21, 554.16it/s]"
     ]
    },
    {
     "name": "stderr",
     "output_type": "stream",
     "text": [
      "\r",
      " 12%|█▏        | 15096/126776 [00:33<03:18, 563.24it/s]"
     ]
    },
    {
     "name": "stderr",
     "output_type": "stream",
     "text": [
      "\r",
      " 12%|█▏        | 15154/126776 [00:33<04:45, 390.80it/s]"
     ]
    },
    {
     "name": "stderr",
     "output_type": "stream",
     "text": [
      "\r",
      " 12%|█▏        | 15213/126776 [00:33<04:16, 434.40it/s]"
     ]
    },
    {
     "name": "stderr",
     "output_type": "stream",
     "text": [
      "\r",
      " 12%|█▏        | 15272/126776 [00:33<03:56, 470.56it/s]"
     ]
    },
    {
     "name": "stderr",
     "output_type": "stream",
     "text": [
      "\r",
      " 12%|█▏        | 15331/126776 [00:33<03:43, 499.59it/s]"
     ]
    },
    {
     "name": "stderr",
     "output_type": "stream",
     "text": [
      "\r",
      " 12%|█▏        | 15390/126776 [00:34<03:32, 523.39it/s]"
     ]
    },
    {
     "name": "stderr",
     "output_type": "stream",
     "text": [
      "\r",
      " 12%|█▏        | 15449/126776 [00:34<03:25, 540.67it/s]"
     ]
    },
    {
     "name": "stderr",
     "output_type": "stream",
     "text": [
      "\r",
      " 12%|█▏        | 15508/126776 [00:34<03:20, 554.20it/s]"
     ]
    },
    {
     "name": "stderr",
     "output_type": "stream",
     "text": [
      "\r",
      " 12%|█▏        | 15566/126776 [00:34<04:46, 387.67it/s]"
     ]
    },
    {
     "name": "stderr",
     "output_type": "stream",
     "text": [
      "\r",
      " 12%|█▏        | 15625/126776 [00:34<04:17, 432.09it/s]"
     ]
    },
    {
     "name": "stderr",
     "output_type": "stream",
     "text": [
      "\r",
      " 12%|█▏        | 15684/126776 [00:34<03:56, 468.96it/s]"
     ]
    },
    {
     "name": "stderr",
     "output_type": "stream",
     "text": [
      "\r",
      " 12%|█▏        | 15742/126776 [00:34<03:43, 496.35it/s]"
     ]
    },
    {
     "name": "stderr",
     "output_type": "stream",
     "text": [
      "\r",
      " 12%|█▏        | 15800/126776 [00:34<03:34, 517.11it/s]"
     ]
    },
    {
     "name": "stderr",
     "output_type": "stream",
     "text": [
      "\r",
      " 13%|█▎        | 15859/126776 [00:34<03:26, 535.90it/s]"
     ]
    },
    {
     "name": "stderr",
     "output_type": "stream",
     "text": [
      "\r",
      " 13%|█▎        | 15918/126776 [00:35<03:21, 550.40it/s]"
     ]
    },
    {
     "name": "stderr",
     "output_type": "stream",
     "text": [
      "\r",
      " 13%|█▎        | 15977/126776 [00:35<04:47, 385.57it/s]"
     ]
    },
    {
     "name": "stderr",
     "output_type": "stream",
     "text": [
      "\r",
      " 13%|█▎        | 16036/126776 [00:35<04:18, 429.18it/s]"
     ]
    },
    {
     "name": "stderr",
     "output_type": "stream",
     "text": [
      "\r",
      " 13%|█▎        | 16095/126776 [00:35<03:57, 466.04it/s]"
     ]
    },
    {
     "name": "stderr",
     "output_type": "stream",
     "text": [
      "\r",
      " 13%|█▎        | 16154/126776 [00:35<03:42, 496.15it/s]"
     ]
    },
    {
     "name": "stderr",
     "output_type": "stream",
     "text": [
      "\r",
      " 13%|█▎        | 16213/126776 [00:35<03:32, 519.87it/s]"
     ]
    },
    {
     "name": "stderr",
     "output_type": "stream",
     "text": [
      "\r",
      " 13%|█▎        | 16272/126776 [00:35<03:25, 537.91it/s]"
     ]
    },
    {
     "name": "stderr",
     "output_type": "stream",
     "text": [
      "\r",
      " 13%|█▎        | 16331/126776 [00:35<03:20, 550.74it/s]"
     ]
    },
    {
     "name": "stderr",
     "output_type": "stream",
     "text": [
      "\r",
      " 13%|█▎        | 16390/126776 [00:36<03:16, 560.50it/s]"
     ]
    },
    {
     "name": "stderr",
     "output_type": "stream",
     "text": [
      "\r",
      " 13%|█▎        | 16448/126776 [00:36<04:45, 386.13it/s]"
     ]
    },
    {
     "name": "stderr",
     "output_type": "stream",
     "text": [
      "\r",
      " 13%|█▎        | 16507/126776 [00:36<04:16, 429.64it/s]"
     ]
    },
    {
     "name": "stderr",
     "output_type": "stream",
     "text": [
      "\r",
      " 13%|█▎        | 16566/126776 [00:36<03:55, 467.03it/s]"
     ]
    },
    {
     "name": "stderr",
     "output_type": "stream",
     "text": [
      "\r",
      " 13%|█▎        | 16625/126776 [00:36<03:41, 497.45it/s]"
     ]
    },
    {
     "name": "stderr",
     "output_type": "stream",
     "text": [
      "\r",
      " 13%|█▎        | 16684/126776 [00:36<03:31, 521.17it/s]"
     ]
    },
    {
     "name": "stderr",
     "output_type": "stream",
     "text": [
      "\r",
      " 13%|█▎        | 16743/126776 [00:36<03:24, 539.08it/s]"
     ]
    },
    {
     "name": "stderr",
     "output_type": "stream",
     "text": [
      "\r",
      " 13%|█▎        | 16802/126776 [00:36<03:19, 552.41it/s]"
     ]
    },
    {
     "name": "stderr",
     "output_type": "stream",
     "text": [
      "\r",
      " 13%|█▎        | 16860/126776 [00:37<05:07, 357.03it/s]"
     ]
    },
    {
     "name": "stderr",
     "output_type": "stream",
     "text": [
      "\r",
      " 13%|█▎        | 16919/126776 [00:37<04:31, 404.17it/s]"
     ]
    },
    {
     "name": "stderr",
     "output_type": "stream",
     "text": [
      "\r",
      " 13%|█▎        | 16977/126776 [00:37<04:07, 443.98it/s]"
     ]
    },
    {
     "name": "stderr",
     "output_type": "stream",
     "text": [
      "\r",
      " 13%|█▎        | 17035/126776 [00:37<03:50, 477.08it/s]"
     ]
    },
    {
     "name": "stderr",
     "output_type": "stream",
     "text": [
      "\r",
      " 13%|█▎        | 17094/126776 [00:37<03:37, 504.72it/s]"
     ]
    },
    {
     "name": "stderr",
     "output_type": "stream",
     "text": [
      "\r",
      " 14%|█▎        | 17153/126776 [00:37<03:28, 525.78it/s]"
     ]
    },
    {
     "name": "stderr",
     "output_type": "stream",
     "text": [
      "\r",
      " 14%|█▎        | 17212/126776 [00:37<03:22, 541.90it/s]"
     ]
    },
    {
     "name": "stderr",
     "output_type": "stream",
     "text": [
      "\r",
      " 14%|█▎        | 17270/126776 [00:37<03:18, 551.05it/s]"
     ]
    },
    {
     "name": "stderr",
     "output_type": "stream",
     "text": [
      "\r",
      " 14%|█▎        | 17327/126776 [00:38<05:20, 341.01it/s]"
     ]
    },
    {
     "name": "stderr",
     "output_type": "stream",
     "text": [
      "\r",
      " 14%|█▎        | 17385/126776 [00:38<04:41, 389.03it/s]"
     ]
    },
    {
     "name": "stderr",
     "output_type": "stream",
     "text": [
      "\r",
      " 14%|█▍        | 17444/126776 [00:38<04:12, 432.43it/s]"
     ]
    },
    {
     "name": "stderr",
     "output_type": "stream",
     "text": [
      "\r",
      " 14%|█▍        | 17503/126776 [00:38<03:52, 469.16it/s]"
     ]
    },
    {
     "name": "stderr",
     "output_type": "stream",
     "text": [
      "\r",
      " 14%|█▍        | 17562/126776 [00:38<03:38, 498.92it/s]"
     ]
    },
    {
     "name": "stderr",
     "output_type": "stream",
     "text": [
      "\r",
      " 14%|█▍        | 17620/126776 [00:38<03:30, 519.37it/s]"
     ]
    },
    {
     "name": "stderr",
     "output_type": "stream",
     "text": [
      "\r",
      " 14%|█▍        | 17678/126776 [00:38<03:24, 534.41it/s]"
     ]
    },
    {
     "name": "stderr",
     "output_type": "stream",
     "text": [
      "\r",
      " 14%|█▍        | 17735/126776 [00:39<05:10, 350.94it/s]"
     ]
    },
    {
     "name": "stderr",
     "output_type": "stream",
     "text": [
      "\r",
      " 14%|█▍        | 17790/126776 [00:39<04:38, 391.02it/s]"
     ]
    },
    {
     "name": "stderr",
     "output_type": "stream",
     "text": [
      "\r",
      " 14%|█▍        | 17848/126776 [00:39<04:11, 433.57it/s]"
     ]
    },
    {
     "name": "stderr",
     "output_type": "stream",
     "text": [
      "\r",
      " 14%|█▍        | 17907/126776 [00:39<03:51, 470.59it/s]"
     ]
    },
    {
     "name": "stderr",
     "output_type": "stream",
     "text": [
      "\r",
      " 14%|█▍        | 17966/126776 [00:39<03:37, 499.95it/s]"
     ]
    },
    {
     "name": "stderr",
     "output_type": "stream",
     "text": [
      "\r",
      " 14%|█▍        | 18025/126776 [00:39<03:28, 522.50it/s]"
     ]
    },
    {
     "name": "stderr",
     "output_type": "stream",
     "text": [
      "\r",
      " 14%|█▍        | 18084/126776 [00:39<03:21, 538.72it/s]"
     ]
    },
    {
     "name": "stderr",
     "output_type": "stream",
     "text": [
      "\r",
      " 14%|█▍        | 18142/126776 [00:39<03:17, 550.14it/s]"
     ]
    },
    {
     "name": "stderr",
     "output_type": "stream",
     "text": [
      "\r",
      " 14%|█▍        | 18199/126776 [00:40<04:46, 379.17it/s]"
     ]
    },
    {
     "name": "stderr",
     "output_type": "stream",
     "text": [
      "\r",
      " 14%|█▍        | 18258/126776 [00:40<04:15, 424.21it/s]"
     ]
    },
    {
     "name": "stderr",
     "output_type": "stream",
     "text": [
      "\r",
      " 14%|█▍        | 18316/126776 [00:40<03:55, 460.80it/s]"
     ]
    },
    {
     "name": "stderr",
     "output_type": "stream",
     "text": [
      "\r",
      " 14%|█▍        | 18374/126776 [00:40<03:40, 490.84it/s]"
     ]
    },
    {
     "name": "stderr",
     "output_type": "stream",
     "text": [
      "\r",
      " 15%|█▍        | 18433/126776 [00:40<03:30, 515.18it/s]"
     ]
    },
    {
     "name": "stderr",
     "output_type": "stream",
     "text": [
      "\r",
      " 15%|█▍        | 18492/126776 [00:40<03:22, 534.03it/s]"
     ]
    },
    {
     "name": "stderr",
     "output_type": "stream",
     "text": [
      "\r",
      " 15%|█▍        | 18550/126776 [00:40<03:17, 546.90it/s]"
     ]
    },
    {
     "name": "stderr",
     "output_type": "stream",
     "text": [
      "\r",
      " 15%|█▍        | 18607/126776 [00:40<04:48, 374.56it/s]"
     ]
    },
    {
     "name": "stderr",
     "output_type": "stream",
     "text": [
      "\r",
      " 15%|█▍        | 18665/126776 [00:41<04:17, 419.08it/s]"
     ]
    },
    {
     "name": "stderr",
     "output_type": "stream",
     "text": [
      "\r",
      " 15%|█▍        | 18723/126776 [00:41<03:56, 457.06it/s]"
     ]
    },
    {
     "name": "stderr",
     "output_type": "stream",
     "text": [
      "\r",
      " 15%|█▍        | 18781/126776 [00:41<03:41, 487.03it/s]"
     ]
    },
    {
     "name": "stderr",
     "output_type": "stream",
     "text": [
      "\r",
      " 15%|█▍        | 18839/126776 [00:41<03:30, 511.63it/s]"
     ]
    },
    {
     "name": "stderr",
     "output_type": "stream",
     "text": [
      "\r",
      " 15%|█▍        | 18897/126776 [00:41<03:23, 530.19it/s]"
     ]
    },
    {
     "name": "stderr",
     "output_type": "stream",
     "text": [
      "\r",
      " 15%|█▍        | 18955/126776 [00:41<03:18, 543.65it/s]"
     ]
    },
    {
     "name": "stderr",
     "output_type": "stream",
     "text": [
      "\r",
      " 15%|█▍        | 19014/126776 [00:41<03:14, 554.54it/s]"
     ]
    },
    {
     "name": "stderr",
     "output_type": "stream",
     "text": [
      "\r",
      " 15%|█▌        | 19071/126776 [00:41<04:49, 372.23it/s]"
     ]
    },
    {
     "name": "stderr",
     "output_type": "stream",
     "text": [
      "\r",
      " 15%|█▌        | 19129/126776 [00:42<04:18, 416.07it/s]"
     ]
    },
    {
     "name": "stderr",
     "output_type": "stream",
     "text": [
      "\r",
      " 15%|█▌        | 19187/126776 [00:42<03:57, 453.28it/s]"
     ]
    },
    {
     "name": "stderr",
     "output_type": "stream",
     "text": [
      "\r",
      " 15%|█▌        | 19245/126776 [00:42<03:42, 484.09it/s]"
     ]
    },
    {
     "name": "stderr",
     "output_type": "stream",
     "text": [
      "\r",
      " 15%|█▌        | 19303/126776 [00:42<03:31, 508.24it/s]"
     ]
    },
    {
     "name": "stderr",
     "output_type": "stream",
     "text": [
      "\r",
      " 15%|█▌        | 19361/126776 [00:42<03:23, 527.09it/s]"
     ]
    },
    {
     "name": "stderr",
     "output_type": "stream",
     "text": [
      "\r",
      " 15%|█▌        | 19419/126776 [00:42<03:18, 541.16it/s]"
     ]
    },
    {
     "name": "stderr",
     "output_type": "stream",
     "text": [
      "\r",
      " 15%|█▌        | 19477/126776 [00:42<03:14, 552.03it/s]"
     ]
    },
    {
     "name": "stderr",
     "output_type": "stream",
     "text": [
      "\r",
      " 15%|█▌        | 19534/126776 [00:42<04:48, 371.20it/s]"
     ]
    },
    {
     "name": "stderr",
     "output_type": "stream",
     "text": [
      "\r",
      " 15%|█▌        | 19591/126776 [00:43<04:19, 413.18it/s]"
     ]
    },
    {
     "name": "stderr",
     "output_type": "stream",
     "text": [
      "\r",
      " 15%|█▌        | 19649/126776 [00:43<03:57, 451.32it/s]"
     ]
    },
    {
     "name": "stderr",
     "output_type": "stream",
     "text": [
      "\r",
      " 16%|█▌        | 19707/126776 [00:43<03:41, 482.62it/s]"
     ]
    },
    {
     "name": "stderr",
     "output_type": "stream",
     "text": [
      "\r",
      " 16%|█▌        | 19765/126776 [00:43<03:30, 508.07it/s]"
     ]
    },
    {
     "name": "stderr",
     "output_type": "stream",
     "text": [
      "\r",
      " 16%|█▌        | 19824/126776 [00:43<03:22, 528.70it/s]"
     ]
    },
    {
     "name": "stderr",
     "output_type": "stream",
     "text": [
      "\r",
      " 16%|█▌        | 19880/126776 [00:43<03:26, 518.24it/s]"
     ]
    },
    {
     "name": "stderr",
     "output_type": "stream",
     "text": [
      "\r",
      " 16%|█▌        | 19934/126776 [00:44<06:48, 261.51it/s]"
     ]
    },
    {
     "name": "stderr",
     "output_type": "stream",
     "text": [
      "\r",
      " 16%|█▌        | 19976/126776 [00:44<06:13, 286.28it/s]"
     ]
    },
    {
     "name": "stderr",
     "output_type": "stream",
     "text": [
      "\r",
      " 16%|█▌        | 20029/126776 [00:44<05:21, 331.62it/s]"
     ]
    },
    {
     "name": "stderr",
     "output_type": "stream",
     "text": [
      "\r",
      " 16%|█▌        | 20081/126776 [00:44<04:47, 371.42it/s]"
     ]
    },
    {
     "name": "stderr",
     "output_type": "stream",
     "text": [
      "\r",
      " 16%|█▌        | 20133/126776 [00:44<04:22, 405.51it/s]"
     ]
    },
    {
     "name": "stderr",
     "output_type": "stream",
     "text": [
      "\r",
      " 16%|█▌        | 20186/126776 [00:44<04:05, 435.02it/s]"
     ]
    },
    {
     "name": "stderr",
     "output_type": "stream",
     "text": [
      "\r",
      " 16%|█▌        | 20236/126776 [00:44<04:02, 439.47it/s]"
     ]
    },
    {
     "name": "stderr",
     "output_type": "stream",
     "text": [
      "\r",
      " 16%|█▌        | 20285/126776 [00:44<04:03, 437.23it/s]"
     ]
    },
    {
     "name": "stderr",
     "output_type": "stream",
     "text": [
      "\r",
      " 16%|█▌        | 20337/126776 [00:44<03:52, 458.51it/s]"
     ]
    },
    {
     "name": "stderr",
     "output_type": "stream",
     "text": [
      "\r",
      " 16%|█▌        | 20386/126776 [00:45<05:32, 320.10it/s]"
     ]
    },
    {
     "name": "stderr",
     "output_type": "stream",
     "text": [
      "\r",
      " 16%|█▌        | 20444/126776 [00:45<04:43, 375.10it/s]"
     ]
    },
    {
     "name": "stderr",
     "output_type": "stream",
     "text": [
      "\r",
      " 16%|█▌        | 20502/126776 [00:45<04:11, 422.18it/s]"
     ]
    },
    {
     "name": "stderr",
     "output_type": "stream",
     "text": [
      "\r",
      " 16%|█▌        | 20561/126776 [00:45<03:49, 462.45it/s]"
     ]
    },
    {
     "name": "stderr",
     "output_type": "stream",
     "text": [
      "\r",
      " 16%|█▋        | 20620/126776 [00:45<03:34, 494.11it/s]"
     ]
    },
    {
     "name": "stderr",
     "output_type": "stream",
     "text": [
      "\r",
      " 16%|█▋        | 20679/126776 [00:45<03:24, 517.77it/s]"
     ]
    },
    {
     "name": "stderr",
     "output_type": "stream",
     "text": [
      "\r",
      " 16%|█▋        | 20738/126776 [00:45<03:17, 535.58it/s]"
     ]
    },
    {
     "name": "stderr",
     "output_type": "stream",
     "text": [
      "\r",
      " 16%|█▋        | 20796/126776 [00:45<03:13, 547.99it/s]"
     ]
    },
    {
     "name": "stderr",
     "output_type": "stream",
     "text": [
      "\r",
      " 16%|█▋        | 20853/126776 [00:46<06:58, 253.38it/s]"
     ]
    },
    {
     "name": "stderr",
     "output_type": "stream",
     "text": [
      "\r",
      " 16%|█▋        | 20896/126776 [00:46<07:03, 250.25it/s]"
     ]
    },
    {
     "name": "stderr",
     "output_type": "stream",
     "text": [
      "\r",
      " 17%|█▋        | 20934/126776 [00:46<06:59, 252.43it/s]"
     ]
    },
    {
     "name": "stderr",
     "output_type": "stream",
     "text": [
      "\r",
      " 17%|█▋        | 20968/126776 [00:46<07:34, 232.60it/s]"
     ]
    },
    {
     "name": "stderr",
     "output_type": "stream",
     "text": [
      "\r",
      " 17%|█▋        | 20998/126776 [00:46<07:14, 243.20it/s]"
     ]
    },
    {
     "name": "stderr",
     "output_type": "stream",
     "text": [
      "\r",
      " 17%|█▋        | 21028/126776 [00:47<06:57, 253.06it/s]"
     ]
    },
    {
     "name": "stderr",
     "output_type": "stream",
     "text": [
      "\r",
      " 17%|█▋        | 21058/126776 [00:47<06:46, 259.88it/s]"
     ]
    },
    {
     "name": "stderr",
     "output_type": "stream",
     "text": [
      "\r",
      " 17%|█▋        | 21087/126776 [00:47<06:38, 265.52it/s]"
     ]
    },
    {
     "name": "stderr",
     "output_type": "stream",
     "text": [
      "\r",
      " 17%|█▋        | 21116/126776 [00:47<06:29, 271.30it/s]"
     ]
    },
    {
     "name": "stderr",
     "output_type": "stream",
     "text": [
      "\r",
      " 17%|█▋        | 21145/126776 [00:47<06:38, 264.76it/s]"
     ]
    },
    {
     "name": "stderr",
     "output_type": "stream",
     "text": [
      "\r",
      " 17%|█▋        | 21173/126776 [00:47<06:36, 266.36it/s]"
     ]
    },
    {
     "name": "stderr",
     "output_type": "stream",
     "text": [
      "\r",
      " 17%|█▋        | 21215/126776 [00:47<05:43, 306.97it/s]"
     ]
    },
    {
     "name": "stderr",
     "output_type": "stream",
     "text": [
      "\r",
      " 17%|█▋        | 21247/126776 [00:47<05:50, 300.84it/s]"
     ]
    },
    {
     "name": "stderr",
     "output_type": "stream",
     "text": [
      "\r",
      " 17%|█▋        | 21278/126776 [00:48<10:29, 167.62it/s]"
     ]
    },
    {
     "name": "stderr",
     "output_type": "stream",
     "text": [
      "\r",
      " 17%|█▋        | 21302/126776 [00:48<09:44, 180.58it/s]"
     ]
    },
    {
     "name": "stderr",
     "output_type": "stream",
     "text": [
      "\r",
      " 17%|█▋        | 21331/126776 [00:48<08:40, 202.51it/s]"
     ]
    },
    {
     "name": "stderr",
     "output_type": "stream",
     "text": [
      "\r",
      " 17%|█▋        | 21360/126776 [00:48<07:55, 221.51it/s]"
     ]
    },
    {
     "name": "stderr",
     "output_type": "stream",
     "text": [
      "\r",
      " 17%|█▋        | 21389/126776 [00:48<07:23, 237.55it/s]"
     ]
    },
    {
     "name": "stderr",
     "output_type": "stream",
     "text": [
      "\r",
      " 17%|█▋        | 21418/126776 [00:48<07:00, 250.57it/s]"
     ]
    },
    {
     "name": "stderr",
     "output_type": "stream",
     "text": [
      "\r",
      " 17%|█▋        | 21447/126776 [00:48<06:43, 260.94it/s]"
     ]
    },
    {
     "name": "stderr",
     "output_type": "stream",
     "text": [
      "\r",
      " 17%|█▋        | 21476/126776 [00:48<06:31, 268.66it/s]"
     ]
    },
    {
     "name": "stderr",
     "output_type": "stream",
     "text": [
      "\r",
      " 17%|█▋        | 21520/126776 [00:48<05:32, 316.55it/s]"
     ]
    },
    {
     "name": "stderr",
     "output_type": "stream",
     "text": [
      "\r",
      " 17%|█▋        | 21553/126776 [00:49<05:44, 305.32it/s]"
     ]
    },
    {
     "name": "stderr",
     "output_type": "stream",
     "text": [
      "\r",
      " 17%|█▋        | 21585/126776 [00:49<05:49, 300.56it/s]"
     ]
    },
    {
     "name": "stderr",
     "output_type": "stream",
     "text": [
      "\r",
      " 17%|█▋        | 21616/126776 [00:49<06:08, 285.50it/s]"
     ]
    },
    {
     "name": "stderr",
     "output_type": "stream",
     "text": [
      "\r",
      " 17%|█▋        | 21646/126776 [00:49<06:39, 263.41it/s]"
     ]
    },
    {
     "name": "stderr",
     "output_type": "stream",
     "text": [
      "\r",
      " 17%|█▋        | 21675/126776 [00:49<06:29, 269.93it/s]"
     ]
    },
    {
     "name": "stderr",
     "output_type": "stream",
     "text": [
      "\r",
      " 17%|█▋        | 21703/126776 [00:49<06:45, 258.89it/s]"
     ]
    },
    {
     "name": "stderr",
     "output_type": "stream",
     "text": [
      "\r",
      " 17%|█▋        | 21730/126776 [00:50<11:25, 153.28it/s]"
     ]
    },
    {
     "name": "stderr",
     "output_type": "stream",
     "text": [
      "\r",
      " 17%|█▋        | 21755/126776 [00:50<10:15, 170.56it/s]"
     ]
    },
    {
     "name": "stderr",
     "output_type": "stream",
     "text": [
      "\r",
      " 17%|█▋        | 21777/126776 [00:50<09:50, 177.70it/s]"
     ]
    },
    {
     "name": "stderr",
     "output_type": "stream",
     "text": [
      "\r",
      " 17%|█▋        | 21806/126776 [00:50<08:37, 202.86it/s]"
     ]
    },
    {
     "name": "stderr",
     "output_type": "stream",
     "text": [
      "\r",
      " 17%|█▋        | 21834/126776 [00:50<07:57, 219.88it/s]"
     ]
    },
    {
     "name": "stderr",
     "output_type": "stream",
     "text": [
      "\r",
      " 17%|█▋        | 21859/126776 [00:50<08:16, 211.25it/s]"
     ]
    },
    {
     "name": "stderr",
     "output_type": "stream",
     "text": [
      "\r",
      " 17%|█▋        | 21888/126776 [00:50<07:34, 230.93it/s]"
     ]
    },
    {
     "name": "stderr",
     "output_type": "stream",
     "text": [
      "\r",
      " 17%|█▋        | 21916/126776 [00:50<07:42, 226.97it/s]"
     ]
    },
    {
     "name": "stderr",
     "output_type": "stream",
     "text": [
      "\r",
      " 17%|█▋        | 21940/126776 [00:50<08:38, 202.01it/s]"
     ]
    },
    {
     "name": "stderr",
     "output_type": "stream",
     "text": [
      "\r",
      " 17%|█▋        | 21962/126776 [00:51<08:55, 195.77it/s]"
     ]
    },
    {
     "name": "stderr",
     "output_type": "stream",
     "text": [
      "\r",
      " 17%|█▋        | 21983/126776 [00:51<08:45, 199.29it/s]"
     ]
    },
    {
     "name": "stderr",
     "output_type": "stream",
     "text": [
      "\r",
      " 17%|█▋        | 22011/126776 [00:51<07:56, 219.96it/s]"
     ]
    },
    {
     "name": "stderr",
     "output_type": "stream",
     "text": [
      "\r",
      " 17%|█▋        | 22040/126776 [00:51<07:18, 238.82it/s]"
     ]
    },
    {
     "name": "stderr",
     "output_type": "stream",
     "text": [
      "\r",
      " 17%|█▋        | 22065/126776 [00:51<08:20, 209.34it/s]"
     ]
    },
    {
     "name": "stderr",
     "output_type": "stream",
     "text": [
      "\r",
      " 17%|█▋        | 22093/126776 [00:51<07:40, 227.43it/s]"
     ]
    },
    {
     "name": "stderr",
     "output_type": "stream",
     "text": [
      "\r",
      " 17%|█▋        | 22117/126776 [00:51<07:46, 224.18it/s]"
     ]
    },
    {
     "name": "stderr",
     "output_type": "stream",
     "text": [
      "\r",
      " 17%|█▋        | 22141/126776 [00:51<08:15, 211.20it/s]"
     ]
    },
    {
     "name": "stderr",
     "output_type": "stream",
     "text": [
      "\r",
      " 17%|█▋        | 22163/126776 [00:52<11:48, 147.62it/s]"
     ]
    },
    {
     "name": "stderr",
     "output_type": "stream",
     "text": [
      "\r",
      " 18%|█▊        | 22215/126776 [00:52<07:45, 224.45it/s]"
     ]
    },
    {
     "name": "stderr",
     "output_type": "stream",
     "text": [
      "\r",
      " 18%|█▊        | 22256/126776 [00:52<06:32, 266.34it/s]"
     ]
    },
    {
     "name": "stderr",
     "output_type": "stream",
     "text": [
      "\r",
      " 18%|█▊        | 22288/126776 [00:52<06:25, 271.21it/s]"
     ]
    },
    {
     "name": "stderr",
     "output_type": "stream",
     "text": [
      "\r",
      " 18%|█▊        | 22319/126776 [00:52<06:19, 275.41it/s]"
     ]
    },
    {
     "name": "stderr",
     "output_type": "stream",
     "text": [
      "\r",
      " 18%|█▊        | 22350/126776 [00:52<06:13, 279.34it/s]"
     ]
    },
    {
     "name": "stderr",
     "output_type": "stream",
     "text": [
      "\r",
      " 18%|█▊        | 22409/126776 [00:52<04:47, 362.76it/s]"
     ]
    },
    {
     "name": "stderr",
     "output_type": "stream",
     "text": [
      "\r",
      " 18%|█▊        | 22468/126776 [00:52<04:05, 424.89it/s]"
     ]
    },
    {
     "name": "stderr",
     "output_type": "stream",
     "text": [
      "\r",
      " 18%|█▊        | 22521/126776 [00:52<03:49, 453.30it/s]"
     ]
    },
    {
     "name": "stderr",
     "output_type": "stream",
     "text": [
      "\r",
      " 18%|█▊        | 22568/126776 [00:53<04:08, 419.61it/s]"
     ]
    },
    {
     "name": "stderr",
     "output_type": "stream",
     "text": [
      "\r",
      " 18%|█▊        | 22612/126776 [00:53<06:53, 252.08it/s]"
     ]
    },
    {
     "name": "stderr",
     "output_type": "stream",
     "text": [
      "\r",
      " 18%|█▊        | 22670/126776 [00:53<05:32, 313.39it/s]"
     ]
    },
    {
     "name": "stderr",
     "output_type": "stream",
     "text": [
      "\r",
      " 18%|█▊        | 22729/126776 [00:53<04:40, 371.53it/s]"
     ]
    },
    {
     "name": "stderr",
     "output_type": "stream",
     "text": [
      "\r",
      " 18%|█▊        | 22788/126776 [00:53<04:06, 421.70it/s]"
     ]
    },
    {
     "name": "stderr",
     "output_type": "stream",
     "text": [
      "\r",
      " 18%|█▊        | 22847/126776 [00:53<03:44, 461.97it/s]"
     ]
    },
    {
     "name": "stderr",
     "output_type": "stream",
     "text": [
      "\r",
      " 18%|█▊        | 22906/126776 [00:53<03:30, 494.57it/s]"
     ]
    },
    {
     "name": "stderr",
     "output_type": "stream",
     "text": [
      "\r",
      " 18%|█▊        | 22965/126776 [00:54<03:19, 519.50it/s]"
     ]
    },
    {
     "name": "stderr",
     "output_type": "stream",
     "text": [
      "\r",
      " 18%|█▊        | 23024/126776 [00:54<03:13, 536.89it/s]"
     ]
    },
    {
     "name": "stderr",
     "output_type": "stream",
     "text": [
      "\r",
      " 18%|█▊        | 23081/126776 [00:54<05:14, 329.64it/s]"
     ]
    },
    {
     "name": "stderr",
     "output_type": "stream",
     "text": [
      "\r",
      " 18%|█▊        | 23126/126776 [00:54<05:19, 323.98it/s]"
     ]
    },
    {
     "name": "stderr",
     "output_type": "stream",
     "text": [
      "\r",
      " 18%|█▊        | 23180/126776 [00:54<04:41, 367.65it/s]"
     ]
    },
    {
     "name": "stderr",
     "output_type": "stream",
     "text": [
      "\r",
      " 18%|█▊        | 23239/126776 [00:54<04:07, 417.64it/s]"
     ]
    },
    {
     "name": "stderr",
     "output_type": "stream",
     "text": [
      "\r",
      " 18%|█▊        | 23288/126776 [00:55<04:24, 390.97it/s]"
     ]
    },
    {
     "name": "stderr",
     "output_type": "stream",
     "text": [
      "\r",
      " 18%|█▊        | 23333/126776 [00:55<04:23, 393.04it/s]"
     ]
    },
    {
     "name": "stderr",
     "output_type": "stream",
     "text": [
      "\r",
      " 18%|█▊        | 23386/126776 [00:55<04:02, 426.96it/s]"
     ]
    },
    {
     "name": "stderr",
     "output_type": "stream",
     "text": [
      "\r",
      " 18%|█▊        | 23442/126776 [00:55<03:44, 460.57it/s]"
     ]
    },
    {
     "name": "stderr",
     "output_type": "stream",
     "text": [
      "\r",
      " 19%|█▊        | 23494/126776 [00:55<05:27, 315.67it/s]"
     ]
    },
    {
     "name": "stderr",
     "output_type": "stream",
     "text": [
      "\r",
      " 19%|█▊        | 23553/126776 [00:55<04:38, 370.85it/s]"
     ]
    },
    {
     "name": "stderr",
     "output_type": "stream",
     "text": [
      "\r",
      " 19%|█▊        | 23612/126776 [00:55<04:06, 419.19it/s]"
     ]
    },
    {
     "name": "stderr",
     "output_type": "stream",
     "text": [
      "\r",
      " 19%|█▊        | 23671/126776 [00:55<03:44, 459.95it/s]"
     ]
    },
    {
     "name": "stderr",
     "output_type": "stream",
     "text": [
      "\r",
      " 19%|█▊        | 23730/126776 [00:56<03:29, 492.91it/s]"
     ]
    },
    {
     "name": "stderr",
     "output_type": "stream",
     "text": [
      "\r",
      " 19%|█▉        | 23784/126776 [00:56<03:49, 449.57it/s]"
     ]
    },
    {
     "name": "stderr",
     "output_type": "stream",
     "text": [
      "\r",
      " 19%|█▉        | 23837/126776 [00:56<03:39, 469.31it/s]"
     ]
    },
    {
     "name": "stderr",
     "output_type": "stream",
     "text": [
      "\r",
      " 19%|█▉        | 23893/126776 [00:56<03:28, 492.66it/s]"
     ]
    },
    {
     "name": "stderr",
     "output_type": "stream",
     "text": [
      "\r",
      " 19%|█▉        | 23945/126776 [00:56<05:21, 320.02it/s]"
     ]
    },
    {
     "name": "stderr",
     "output_type": "stream",
     "text": [
      "\r",
      " 19%|█▉        | 23987/126776 [00:56<05:07, 333.81it/s]"
     ]
    },
    {
     "name": "stderr",
     "output_type": "stream",
     "text": [
      "\r",
      " 19%|█▉        | 24045/126776 [00:56<04:24, 387.76it/s]"
     ]
    },
    {
     "name": "stderr",
     "output_type": "stream",
     "text": [
      "\r",
      " 19%|█▉        | 24103/126776 [00:56<03:56, 433.69it/s]"
     ]
    },
    {
     "name": "stderr",
     "output_type": "stream",
     "text": [
      "\r",
      " 19%|█▉        | 24160/126776 [00:57<03:39, 467.64it/s]"
     ]
    },
    {
     "name": "stderr",
     "output_type": "stream",
     "text": [
      "\r",
      " 19%|█▉        | 24216/126776 [00:57<03:28, 492.02it/s]"
     ]
    },
    {
     "name": "stderr",
     "output_type": "stream",
     "text": [
      "\r",
      " 19%|█▉        | 24275/126776 [00:57<03:18, 517.23it/s]"
     ]
    },
    {
     "name": "stderr",
     "output_type": "stream",
     "text": [
      "\r",
      " 19%|█▉        | 24334/126776 [00:57<03:10, 537.49it/s]"
     ]
    },
    {
     "name": "stderr",
     "output_type": "stream",
     "text": [
      "\r",
      " 19%|█▉        | 24392/126776 [00:57<03:06, 549.28it/s]"
     ]
    },
    {
     "name": "stderr",
     "output_type": "stream",
     "text": [
      "\r",
      " 19%|█▉        | 24449/126776 [00:57<05:00, 340.67it/s]"
     ]
    },
    {
     "name": "stderr",
     "output_type": "stream",
     "text": [
      "\r",
      " 19%|█▉        | 24494/126776 [00:57<04:54, 347.22it/s]"
     ]
    },
    {
     "name": "stderr",
     "output_type": "stream",
     "text": [
      "\r",
      " 19%|█▉        | 24548/126776 [00:58<04:23, 388.42it/s]"
     ]
    },
    {
     "name": "stderr",
     "output_type": "stream",
     "text": [
      "\r",
      " 19%|█▉        | 24607/126776 [00:58<03:54, 435.03it/s]"
     ]
    },
    {
     "name": "stderr",
     "output_type": "stream",
     "text": [
      "\r",
      " 19%|█▉        | 24666/126776 [00:58<03:35, 473.53it/s]"
     ]
    },
    {
     "name": "stderr",
     "output_type": "stream",
     "text": [
      "\r",
      " 20%|█▉        | 24725/126776 [00:58<03:22, 503.98it/s]"
     ]
    },
    {
     "name": "stderr",
     "output_type": "stream",
     "text": [
      "\r",
      " 20%|█▉        | 24780/126776 [00:58<03:42, 458.90it/s]"
     ]
    },
    {
     "name": "stderr",
     "output_type": "stream",
     "text": [
      "\r",
      " 20%|█▉        | 24839/126776 [00:58<03:27, 491.95it/s]"
     ]
    },
    {
     "name": "stderr",
     "output_type": "stream",
     "text": [
      "\r",
      " 20%|█▉        | 24892/126776 [00:58<05:12, 326.07it/s]"
     ]
    },
    {
     "name": "stderr",
     "output_type": "stream",
     "text": [
      "\r",
      " 20%|█▉        | 24934/126776 [00:58<04:55, 344.37it/s]"
     ]
    },
    {
     "name": "stderr",
     "output_type": "stream",
     "text": [
      "\r",
      " 20%|█▉        | 24979/126776 [00:59<04:36, 367.54it/s]"
     ]
    },
    {
     "name": "stderr",
     "output_type": "stream",
     "text": [
      "\r",
      " 20%|█▉        | 25037/126776 [00:59<04:03, 417.65it/s]"
     ]
    },
    {
     "name": "stderr",
     "output_type": "stream",
     "text": [
      "\r",
      " 20%|█▉        | 25096/126776 [00:59<03:40, 460.50it/s]"
     ]
    },
    {
     "name": "stderr",
     "output_type": "stream",
     "text": [
      "\r",
      " 20%|█▉        | 25155/126776 [00:59<03:25, 494.35it/s]"
     ]
    },
    {
     "name": "stderr",
     "output_type": "stream",
     "text": [
      "\r",
      " 20%|█▉        | 25214/126776 [00:59<03:15, 519.82it/s]"
     ]
    },
    {
     "name": "stderr",
     "output_type": "stream",
     "text": [
      "\r",
      " 20%|█▉        | 25273/126776 [00:59<03:08, 538.22it/s]"
     ]
    },
    {
     "name": "stderr",
     "output_type": "stream",
     "text": [
      "\r",
      " 20%|█▉        | 25329/126776 [00:59<04:56, 342.56it/s]"
     ]
    },
    {
     "name": "stderr",
     "output_type": "stream",
     "text": [
      "\r",
      " 20%|██        | 25388/126776 [00:59<04:18, 392.21it/s]"
     ]
    },
    {
     "name": "stderr",
     "output_type": "stream",
     "text": [
      "\r",
      " 20%|██        | 25447/126776 [01:00<03:52, 435.58it/s]"
     ]
    },
    {
     "name": "stderr",
     "output_type": "stream",
     "text": [
      "\r",
      " 20%|██        | 25506/126776 [01:00<03:34, 472.23it/s]"
     ]
    },
    {
     "name": "stderr",
     "output_type": "stream",
     "text": [
      "\r",
      " 20%|██        | 25565/126776 [01:00<03:21, 501.59it/s]"
     ]
    },
    {
     "name": "stderr",
     "output_type": "stream",
     "text": [
      "\r",
      " 20%|██        | 25624/126776 [01:00<03:12, 524.37it/s]"
     ]
    },
    {
     "name": "stderr",
     "output_type": "stream",
     "text": [
      "\r",
      " 20%|██        | 25683/126776 [01:00<03:06, 541.33it/s]"
     ]
    },
    {
     "name": "stderr",
     "output_type": "stream",
     "text": [
      "\r",
      " 20%|██        | 25742/126776 [01:00<03:02, 553.85it/s]"
     ]
    },
    {
     "name": "stderr",
     "output_type": "stream",
     "text": [
      "\r",
      " 20%|██        | 25800/126776 [01:00<04:50, 348.17it/s]"
     ]
    },
    {
     "name": "stderr",
     "output_type": "stream",
     "text": [
      "\r",
      " 20%|██        | 25859/126776 [01:01<04:14, 396.36it/s]"
     ]
    },
    {
     "name": "stderr",
     "output_type": "stream",
     "text": [
      "\r",
      " 20%|██        | 25918/126776 [01:01<03:49, 439.07it/s]"
     ]
    },
    {
     "name": "stderr",
     "output_type": "stream",
     "text": [
      "\r",
      " 20%|██        | 25977/126776 [01:01<03:32, 475.08it/s]"
     ]
    },
    {
     "name": "stderr",
     "output_type": "stream",
     "text": [
      "\r",
      " 21%|██        | 26036/126776 [01:01<03:20, 503.57it/s]"
     ]
    },
    {
     "name": "stderr",
     "output_type": "stream",
     "text": [
      "\r",
      " 21%|██        | 26095/126776 [01:01<03:11, 525.62it/s]"
     ]
    },
    {
     "name": "stderr",
     "output_type": "stream",
     "text": [
      "\r",
      " 21%|██        | 26154/126776 [01:01<03:05, 542.12it/s]"
     ]
    },
    {
     "name": "stderr",
     "output_type": "stream",
     "text": [
      "\r",
      " 21%|██        | 26213/126776 [01:01<03:01, 554.15it/s]"
     ]
    },
    {
     "name": "stderr",
     "output_type": "stream",
     "text": [
      "\r",
      " 21%|██        | 26271/126776 [01:01<04:50, 345.91it/s]"
     ]
    },
    {
     "name": "stderr",
     "output_type": "stream",
     "text": [
      "\r",
      " 21%|██        | 26330/126776 [01:02<04:14, 394.53it/s]"
     ]
    },
    {
     "name": "stderr",
     "output_type": "stream",
     "text": [
      "\r",
      " 21%|██        | 26389/126776 [01:02<03:49, 437.01it/s]"
     ]
    },
    {
     "name": "stderr",
     "output_type": "stream",
     "text": [
      "\r",
      " 21%|██        | 26448/126776 [01:02<03:32, 472.74it/s]"
     ]
    },
    {
     "name": "stderr",
     "output_type": "stream",
     "text": [
      "\r",
      " 21%|██        | 26507/126776 [01:02<03:19, 501.75it/s]"
     ]
    },
    {
     "name": "stderr",
     "output_type": "stream",
     "text": [
      "\r",
      " 21%|██        | 26566/126776 [01:02<03:10, 524.68it/s]"
     ]
    },
    {
     "name": "stderr",
     "output_type": "stream",
     "text": [
      "\r",
      " 21%|██        | 26625/126776 [01:02<03:05, 541.33it/s]"
     ]
    },
    {
     "name": "stderr",
     "output_type": "stream",
     "text": [
      "\r",
      " 21%|██        | 26683/126776 [01:02<04:52, 342.01it/s]"
     ]
    },
    {
     "name": "stderr",
     "output_type": "stream",
     "text": [
      "\r",
      " 21%|██        | 26742/126776 [01:02<04:15, 390.79it/s]"
     ]
    },
    {
     "name": "stderr",
     "output_type": "stream",
     "text": [
      "\r",
      " 21%|██        | 26801/126776 [01:03<03:50, 434.09it/s]"
     ]
    },
    {
     "name": "stderr",
     "output_type": "stream",
     "text": [
      "\r",
      " 21%|██        | 26860/126776 [01:03<03:32, 470.61it/s]"
     ]
    },
    {
     "name": "stderr",
     "output_type": "stream",
     "text": [
      "\r",
      " 21%|██        | 26919/126776 [01:03<03:19, 500.21it/s]"
     ]
    },
    {
     "name": "stderr",
     "output_type": "stream",
     "text": [
      "\r",
      " 21%|██▏       | 26978/126776 [01:03<03:10, 523.20it/s]"
     ]
    },
    {
     "name": "stderr",
     "output_type": "stream",
     "text": [
      "\r",
      " 21%|██▏       | 27037/126776 [01:03<03:04, 540.21it/s]"
     ]
    },
    {
     "name": "stderr",
     "output_type": "stream",
     "text": [
      "\r",
      " 21%|██▏       | 27095/126776 [01:03<03:01, 549.51it/s]"
     ]
    },
    {
     "name": "stderr",
     "output_type": "stream",
     "text": [
      "\r",
      " 21%|██▏       | 27153/126776 [01:03<04:59, 332.56it/s]"
     ]
    },
    {
     "name": "stderr",
     "output_type": "stream",
     "text": [
      "\r",
      " 21%|██▏       | 27211/126776 [01:03<04:21, 380.68it/s]"
     ]
    },
    {
     "name": "stderr",
     "output_type": "stream",
     "text": [
      "\r",
      " 22%|██▏       | 27270/126776 [01:04<03:54, 425.21it/s]"
     ]
    },
    {
     "name": "stderr",
     "output_type": "stream",
     "text": [
      "\r",
      " 22%|██▏       | 27329/126776 [01:04<03:34, 463.68it/s]"
     ]
    },
    {
     "name": "stderr",
     "output_type": "stream",
     "text": [
      "\r",
      " 22%|██▏       | 27388/126776 [01:04<03:20, 494.82it/s]"
     ]
    },
    {
     "name": "stderr",
     "output_type": "stream",
     "text": [
      "\r",
      " 22%|██▏       | 27447/126776 [01:04<03:11, 519.60it/s]"
     ]
    },
    {
     "name": "stderr",
     "output_type": "stream",
     "text": [
      "\r",
      " 22%|██▏       | 27506/126776 [01:04<03:04, 537.86it/s]"
     ]
    },
    {
     "name": "stderr",
     "output_type": "stream",
     "text": [
      "\r",
      " 22%|██▏       | 27565/126776 [01:04<02:59, 551.19it/s]"
     ]
    },
    {
     "name": "stderr",
     "output_type": "stream",
     "text": [
      "\r",
      " 22%|██▏       | 27623/126776 [01:04<04:55, 335.82it/s]"
     ]
    },
    {
     "name": "stderr",
     "output_type": "stream",
     "text": [
      "\r",
      " 22%|██▏       | 27682/126776 [01:05<04:17, 385.35it/s]"
     ]
    },
    {
     "name": "stderr",
     "output_type": "stream",
     "text": [
      "\r",
      " 22%|██▏       | 27741/126776 [01:05<03:50, 429.35it/s]"
     ]
    },
    {
     "name": "stderr",
     "output_type": "stream",
     "text": [
      "\r",
      " 22%|██▏       | 27800/126776 [01:05<03:32, 466.77it/s]"
     ]
    },
    {
     "name": "stderr",
     "output_type": "stream",
     "text": [
      "\r",
      " 22%|██▏       | 27859/126776 [01:05<03:18, 497.42it/s]"
     ]
    },
    {
     "name": "stderr",
     "output_type": "stream",
     "text": [
      "\r",
      " 22%|██▏       | 27918/126776 [01:05<03:10, 520.24it/s]"
     ]
    },
    {
     "name": "stderr",
     "output_type": "stream",
     "text": [
      "\r",
      " 22%|██▏       | 27977/126776 [01:05<03:03, 538.75it/s]"
     ]
    },
    {
     "name": "stderr",
     "output_type": "stream",
     "text": [
      "\r",
      " 22%|██▏       | 28036/126776 [01:05<02:58, 552.54it/s]"
     ]
    },
    {
     "name": "stderr",
     "output_type": "stream",
     "text": [
      "\r",
      " 22%|██▏       | 28094/126776 [01:05<04:50, 340.07it/s]"
     ]
    },
    {
     "name": "stderr",
     "output_type": "stream",
     "text": [
      "\r",
      " 22%|██▏       | 28152/126776 [01:06<04:15, 386.63it/s]"
     ]
    },
    {
     "name": "stderr",
     "output_type": "stream",
     "text": [
      "\r",
      " 22%|██▏       | 28209/126776 [01:06<03:51, 426.26it/s]"
     ]
    },
    {
     "name": "stderr",
     "output_type": "stream",
     "text": [
      "\r",
      " 22%|██▏       | 28266/126776 [01:06<03:34, 459.83it/s]"
     ]
    },
    {
     "name": "stderr",
     "output_type": "stream",
     "text": [
      "\r",
      " 22%|██▏       | 28325/126776 [01:06<03:20, 491.24it/s]"
     ]
    },
    {
     "name": "stderr",
     "output_type": "stream",
     "text": [
      "\r",
      " 22%|██▏       | 28383/126776 [01:06<03:11, 514.52it/s]"
     ]
    },
    {
     "name": "stderr",
     "output_type": "stream",
     "text": [
      "\r",
      " 22%|██▏       | 28442/126776 [01:06<03:04, 533.42it/s]"
     ]
    },
    {
     "name": "stderr",
     "output_type": "stream",
     "text": [
      "\r",
      " 22%|██▏       | 28499/126776 [01:06<03:00, 543.53it/s]"
     ]
    },
    {
     "name": "stderr",
     "output_type": "stream",
     "text": [
      "\r",
      " 23%|██▎       | 28556/126776 [01:06<04:56, 331.58it/s]"
     ]
    },
    {
     "name": "stderr",
     "output_type": "stream",
     "text": [
      "\r",
      " 23%|██▎       | 28615/126776 [01:07<04:16, 382.21it/s]"
     ]
    },
    {
     "name": "stderr",
     "output_type": "stream",
     "text": [
      "\r",
      " 23%|██▎       | 28674/126776 [01:07<03:49, 427.47it/s]"
     ]
    },
    {
     "name": "stderr",
     "output_type": "stream",
     "text": [
      "\r",
      " 23%|██▎       | 28733/126776 [01:07<03:30, 465.71it/s]"
     ]
    },
    {
     "name": "stderr",
     "output_type": "stream",
     "text": [
      "\r",
      " 23%|██▎       | 28792/126776 [01:07<03:17, 496.72it/s]"
     ]
    },
    {
     "name": "stderr",
     "output_type": "stream",
     "text": [
      "\r",
      " 23%|██▎       | 28851/126776 [01:07<03:08, 520.68it/s]"
     ]
    },
    {
     "name": "stderr",
     "output_type": "stream",
     "text": [
      "\r",
      " 23%|██▎       | 28910/126776 [01:07<03:01, 539.10it/s]"
     ]
    },
    {
     "name": "stderr",
     "output_type": "stream",
     "text": [
      "\r",
      " 23%|██▎       | 28968/126776 [01:07<04:55, 331.42it/s]"
     ]
    },
    {
     "name": "stderr",
     "output_type": "stream",
     "text": [
      "\r",
      " 23%|██▎       | 29027/126776 [01:08<04:16, 381.32it/s]"
     ]
    },
    {
     "name": "stderr",
     "output_type": "stream",
     "text": [
      "\r",
      " 23%|██▎       | 29086/126776 [01:08<03:49, 426.14it/s]"
     ]
    },
    {
     "name": "stderr",
     "output_type": "stream",
     "text": [
      "\r",
      " 23%|██▎       | 29145/126776 [01:08<03:30, 464.54it/s]"
     ]
    },
    {
     "name": "stderr",
     "output_type": "stream",
     "text": [
      "\r",
      " 23%|██▎       | 29204/126776 [01:08<03:16, 495.80it/s]"
     ]
    },
    {
     "name": "stderr",
     "output_type": "stream",
     "text": [
      "\r",
      " 23%|██▎       | 29263/126776 [01:08<03:07, 519.95it/s]"
     ]
    },
    {
     "name": "stderr",
     "output_type": "stream",
     "text": [
      "\r",
      " 23%|██▎       | 29322/126776 [01:08<03:00, 538.49it/s]"
     ]
    },
    {
     "name": "stderr",
     "output_type": "stream",
     "text": [
      "\r",
      " 23%|██▎       | 29381/126776 [01:08<02:56, 552.24it/s]"
     ]
    },
    {
     "name": "stderr",
     "output_type": "stream",
     "text": [
      "\r",
      " 23%|██▎       | 29439/126776 [01:08<04:51, 334.15it/s]"
     ]
    },
    {
     "name": "stderr",
     "output_type": "stream",
     "text": [
      "\r",
      " 23%|██▎       | 29498/126776 [01:09<04:13, 383.32it/s]"
     ]
    },
    {
     "name": "stderr",
     "output_type": "stream",
     "text": [
      "\r",
      " 23%|██▎       | 29557/126776 [01:09<03:47, 427.91it/s]"
     ]
    },
    {
     "name": "stderr",
     "output_type": "stream",
     "text": [
      "\r",
      " 23%|██▎       | 29616/126776 [01:09<03:28, 466.13it/s]"
     ]
    },
    {
     "name": "stderr",
     "output_type": "stream",
     "text": [
      "\r",
      " 23%|██▎       | 29675/126776 [01:09<03:15, 496.81it/s]"
     ]
    },
    {
     "name": "stderr",
     "output_type": "stream",
     "text": [
      "\r",
      " 23%|██▎       | 29735/126776 [01:09<03:06, 521.57it/s]"
     ]
    },
    {
     "name": "stderr",
     "output_type": "stream",
     "text": [
      "\r",
      " 24%|██▎       | 29794/126776 [01:09<02:59, 539.60it/s]"
     ]
    },
    {
     "name": "stderr",
     "output_type": "stream",
     "text": [
      "\r",
      " 24%|██▎       | 29853/126776 [01:09<02:55, 553.45it/s]"
     ]
    },
    {
     "name": "stderr",
     "output_type": "stream",
     "text": [
      "\r",
      " 24%|██▎       | 29911/126776 [01:10<04:48, 335.20it/s]"
     ]
    },
    {
     "name": "stderr",
     "output_type": "stream",
     "text": [
      "\r",
      " 24%|██▎       | 29970/126776 [01:10<04:11, 384.25it/s]"
     ]
    },
    {
     "name": "stderr",
     "output_type": "stream",
     "text": [
      "\r",
      " 24%|██▎       | 30029/126776 [01:10<03:45, 428.55it/s]"
     ]
    },
    {
     "name": "stderr",
     "output_type": "stream",
     "text": [
      "\r",
      " 24%|██▎       | 30088/126776 [01:10<03:27, 466.55it/s]"
     ]
    },
    {
     "name": "stderr",
     "output_type": "stream",
     "text": [
      "\r",
      " 24%|██▍       | 30147/126776 [01:10<03:14, 496.93it/s]"
     ]
    },
    {
     "name": "stderr",
     "output_type": "stream",
     "text": [
      "\r",
      " 24%|██▍       | 30206/126776 [01:10<03:05, 520.61it/s]"
     ]
    },
    {
     "name": "stderr",
     "output_type": "stream",
     "text": [
      "\r",
      " 24%|██▍       | 30265/126776 [01:10<02:59, 538.80it/s]"
     ]
    },
    {
     "name": "stderr",
     "output_type": "stream",
     "text": [
      "\r",
      " 24%|██▍       | 30324/126776 [01:10<02:54, 552.84it/s]"
     ]
    },
    {
     "name": "stderr",
     "output_type": "stream",
     "text": [
      "\r",
      " 24%|██▍       | 30382/126776 [01:11<04:50, 332.07it/s]"
     ]
    },
    {
     "name": "stderr",
     "output_type": "stream",
     "text": [
      "\r",
      " 24%|██▍       | 30441/126776 [01:11<04:12, 381.88it/s]"
     ]
    },
    {
     "name": "stderr",
     "output_type": "stream",
     "text": [
      "\r",
      " 24%|██▍       | 30500/126776 [01:11<03:45, 426.48it/s]"
     ]
    },
    {
     "name": "stderr",
     "output_type": "stream",
     "text": [
      "\r",
      " 24%|██▍       | 30559/126776 [01:11<03:27, 464.51it/s]"
     ]
    },
    {
     "name": "stderr",
     "output_type": "stream",
     "text": [
      "\r",
      " 24%|██▍       | 30618/126776 [01:11<03:13, 496.01it/s]"
     ]
    },
    {
     "name": "stderr",
     "output_type": "stream",
     "text": [
      "\r",
      " 24%|██▍       | 30677/126776 [01:11<03:04, 520.33it/s]"
     ]
    },
    {
     "name": "stderr",
     "output_type": "stream",
     "text": [
      "\r",
      " 24%|██▍       | 30736/126776 [01:11<02:58, 538.44it/s]"
     ]
    },
    {
     "name": "stderr",
     "output_type": "stream",
     "text": [
      "\r",
      " 24%|██▍       | 30794/126776 [01:12<04:53, 327.30it/s]"
     ]
    },
    {
     "name": "stderr",
     "output_type": "stream",
     "text": [
      "\r",
      " 24%|██▍       | 30853/126776 [01:12<04:14, 377.20it/s]"
     ]
    },
    {
     "name": "stderr",
     "output_type": "stream",
     "text": [
      "\r",
      " 24%|██▍       | 30912/126776 [01:12<03:46, 422.56it/s]"
     ]
    },
    {
     "name": "stderr",
     "output_type": "stream",
     "text": [
      "\r",
      " 24%|██▍       | 30971/126776 [01:12<03:27, 461.22it/s]"
     ]
    },
    {
     "name": "stderr",
     "output_type": "stream",
     "text": [
      "\r",
      " 24%|██▍       | 31030/126776 [01:12<03:14, 493.31it/s]"
     ]
    },
    {
     "name": "stderr",
     "output_type": "stream",
     "text": [
      "\r",
      " 25%|██▍       | 31089/126776 [01:12<03:04, 518.13it/s]"
     ]
    },
    {
     "name": "stderr",
     "output_type": "stream",
     "text": [
      "\r",
      " 25%|██▍       | 31147/126776 [01:12<02:59, 532.84it/s]"
     ]
    },
    {
     "name": "stderr",
     "output_type": "stream",
     "text": [
      "\r",
      " 25%|██▍       | 31206/126776 [01:12<02:54, 547.50it/s]"
     ]
    },
    {
     "name": "stderr",
     "output_type": "stream",
     "text": [
      "\r",
      " 25%|██▍       | 31264/126776 [01:13<05:04, 314.02it/s]"
     ]
    },
    {
     "name": "stderr",
     "output_type": "stream",
     "text": [
      "\r",
      " 25%|██▍       | 31323/126776 [01:13<04:21, 365.10it/s]"
     ]
    },
    {
     "name": "stderr",
     "output_type": "stream",
     "text": [
      "\r",
      " 25%|██▍       | 31382/126776 [01:13<03:51, 411.87it/s]"
     ]
    },
    {
     "name": "stderr",
     "output_type": "stream",
     "text": [
      "\r",
      " 25%|██▍       | 31441/126776 [01:13<03:30, 452.34it/s]"
     ]
    },
    {
     "name": "stderr",
     "output_type": "stream",
     "text": [
      "\r",
      " 25%|██▍       | 31500/126776 [01:13<03:15, 486.23it/s]"
     ]
    },
    {
     "name": "stderr",
     "output_type": "stream",
     "text": [
      "\r",
      " 25%|██▍       | 31559/126776 [01:13<03:05, 512.93it/s]"
     ]
    },
    {
     "name": "stderr",
     "output_type": "stream",
     "text": [
      "\r",
      " 25%|██▍       | 31618/126776 [01:13<02:58, 532.98it/s]"
     ]
    },
    {
     "name": "stderr",
     "output_type": "stream",
     "text": [
      "\r",
      " 25%|██▍       | 31677/126776 [01:13<02:53, 546.80it/s]"
     ]
    },
    {
     "name": "stderr",
     "output_type": "stream",
     "text": [
      "\r",
      " 25%|██▌       | 31735/126776 [01:14<04:53, 323.73it/s]"
     ]
    },
    {
     "name": "stderr",
     "output_type": "stream",
     "text": [
      "\r",
      " 25%|██▌       | 31794/126776 [01:14<04:13, 374.01it/s]"
     ]
    },
    {
     "name": "stderr",
     "output_type": "stream",
     "text": [
      "\r",
      " 25%|██▌       | 31853/126776 [01:14<03:46, 419.70it/s]"
     ]
    },
    {
     "name": "stderr",
     "output_type": "stream",
     "text": [
      "\r",
      " 25%|██▌       | 31912/126776 [01:14<03:27, 458.27it/s]"
     ]
    },
    {
     "name": "stderr",
     "output_type": "stream",
     "text": [
      "\r",
      " 25%|██▌       | 31971/126776 [01:14<03:13, 490.78it/s]"
     ]
    },
    {
     "name": "stderr",
     "output_type": "stream",
     "text": [
      "\r",
      " 25%|██▌       | 32030/126776 [01:14<03:03, 515.28it/s]"
     ]
    },
    {
     "name": "stderr",
     "output_type": "stream",
     "text": [
      "\r",
      " 25%|██▌       | 32089/126776 [01:14<02:56, 535.00it/s]"
     ]
    },
    {
     "name": "stderr",
     "output_type": "stream",
     "text": [
      "\r",
      " 25%|██▌       | 32148/126776 [01:14<02:52, 549.45it/s]"
     ]
    },
    {
     "name": "stderr",
     "output_type": "stream",
     "text": [
      "\r",
      " 25%|██▌       | 32206/126776 [01:15<04:51, 323.98it/s]"
     ]
    },
    {
     "name": "stderr",
     "output_type": "stream",
     "text": [
      "\r",
      " 25%|██▌       | 32265/126776 [01:15<04:12, 373.90it/s]"
     ]
    },
    {
     "name": "stderr",
     "output_type": "stream",
     "text": [
      "\r",
      " 25%|██▌       | 32324/126776 [01:15<03:45, 419.33it/s]"
     ]
    },
    {
     "name": "stderr",
     "output_type": "stream",
     "text": [
      "\r",
      " 26%|██▌       | 32383/126776 [01:15<03:25, 458.45it/s]"
     ]
    },
    {
     "name": "stderr",
     "output_type": "stream",
     "text": [
      "\r",
      " 26%|██▌       | 32442/126776 [01:15<03:12, 490.63it/s]"
     ]
    },
    {
     "name": "stderr",
     "output_type": "stream",
     "text": [
      "\r",
      " 26%|██▌       | 32501/126776 [01:15<03:02, 515.72it/s]"
     ]
    },
    {
     "name": "stderr",
     "output_type": "stream",
     "text": [
      "\r",
      " 26%|██▌       | 32560/126776 [01:15<02:56, 534.46it/s]"
     ]
    },
    {
     "name": "stderr",
     "output_type": "stream",
     "text": [
      "\r",
      " 26%|██▌       | 32619/126776 [01:15<02:51, 549.16it/s]"
     ]
    },
    {
     "name": "stderr",
     "output_type": "stream",
     "text": [
      "\r",
      " 26%|██▌       | 32677/126776 [01:16<04:56, 317.36it/s]"
     ]
    },
    {
     "name": "stderr",
     "output_type": "stream",
     "text": [
      "\r",
      " 26%|██▌       | 32736/126776 [01:16<04:15, 368.09it/s]"
     ]
    },
    {
     "name": "stderr",
     "output_type": "stream",
     "text": [
      "\r",
      " 26%|██▌       | 32795/126776 [01:16<03:46, 414.55it/s]"
     ]
    },
    {
     "name": "stderr",
     "output_type": "stream",
     "text": [
      "\r",
      " 26%|██▌       | 32854/126776 [01:16<03:26, 454.18it/s]"
     ]
    },
    {
     "name": "stderr",
     "output_type": "stream",
     "text": [
      "\r",
      " 26%|██▌       | 32913/126776 [01:16<03:12, 487.57it/s]"
     ]
    },
    {
     "name": "stderr",
     "output_type": "stream",
     "text": [
      "\r",
      " 26%|██▌       | 32972/126776 [01:16<03:02, 513.46it/s]"
     ]
    },
    {
     "name": "stderr",
     "output_type": "stream",
     "text": [
      "\r",
      " 26%|██▌       | 33031/126776 [01:16<02:55, 533.67it/s]"
     ]
    },
    {
     "name": "stderr",
     "output_type": "stream",
     "text": [
      "\r",
      " 26%|██▌       | 33090/126776 [01:16<02:50, 548.89it/s]"
     ]
    },
    {
     "name": "stderr",
     "output_type": "stream",
     "text": [
      "\r",
      " 26%|██▌       | 33148/126776 [01:17<04:53, 318.54it/s]"
     ]
    },
    {
     "name": "stderr",
     "output_type": "stream",
     "text": [
      "\r",
      " 26%|██▌       | 33207/126776 [01:17<04:13, 369.28it/s]"
     ]
    },
    {
     "name": "stderr",
     "output_type": "stream",
     "text": [
      "\r",
      " 26%|██▌       | 33266/126776 [01:17<03:45, 415.33it/s]"
     ]
    },
    {
     "name": "stderr",
     "output_type": "stream",
     "text": [
      "\r",
      " 26%|██▋       | 33325/126776 [01:17<03:25, 455.12it/s]"
     ]
    },
    {
     "name": "stderr",
     "output_type": "stream",
     "text": [
      "\r",
      " 26%|██▋       | 33384/126776 [01:17<03:11, 488.18it/s]"
     ]
    },
    {
     "name": "stderr",
     "output_type": "stream",
     "text": [
      "\r",
      " 26%|██▋       | 33443/126776 [01:17<03:01, 512.92it/s]"
     ]
    },
    {
     "name": "stderr",
     "output_type": "stream",
     "text": [
      "\r",
      " 26%|██▋       | 33502/126776 [01:17<02:54, 533.49it/s]"
     ]
    },
    {
     "name": "stderr",
     "output_type": "stream",
     "text": [
      "\r",
      " 26%|██▋       | 33561/126776 [01:18<02:49, 548.43it/s]"
     ]
    },
    {
     "name": "stderr",
     "output_type": "stream",
     "text": [
      "\r",
      " 27%|██▋       | 33619/126776 [01:18<04:57, 312.89it/s]"
     ]
    },
    {
     "name": "stderr",
     "output_type": "stream",
     "text": [
      "\r",
      " 27%|██▋       | 33678/126776 [01:18<04:15, 363.78it/s]"
     ]
    },
    {
     "name": "stderr",
     "output_type": "stream",
     "text": [
      "\r",
      " 27%|██▋       | 33737/126776 [01:18<03:46, 410.52it/s]"
     ]
    },
    {
     "name": "stderr",
     "output_type": "stream",
     "text": [
      "\r",
      " 27%|██▋       | 33796/126776 [01:18<03:26, 451.36it/s]"
     ]
    },
    {
     "name": "stderr",
     "output_type": "stream",
     "text": [
      "\r",
      " 27%|██▋       | 33855/126776 [01:18<03:11, 485.07it/s]"
     ]
    },
    {
     "name": "stderr",
     "output_type": "stream",
     "text": [
      "\r",
      " 27%|██▋       | 33914/126776 [01:18<03:01, 511.83it/s]"
     ]
    },
    {
     "name": "stderr",
     "output_type": "stream",
     "text": [
      "\r",
      " 27%|██▋       | 33973/126776 [01:19<02:54, 532.33it/s]"
     ]
    },
    {
     "name": "stderr",
     "output_type": "stream",
     "text": [
      "\r",
      " 27%|██▋       | 34032/126776 [01:19<02:49, 547.49it/s]"
     ]
    },
    {
     "name": "stderr",
     "output_type": "stream",
     "text": [
      "\r",
      " 27%|██▋       | 34090/126776 [01:19<04:52, 316.78it/s]"
     ]
    },
    {
     "name": "stderr",
     "output_type": "stream",
     "text": [
      "\r",
      " 27%|██▋       | 34149/126776 [01:19<04:12, 367.39it/s]"
     ]
    },
    {
     "name": "stderr",
     "output_type": "stream",
     "text": [
      "\r",
      " 27%|██▋       | 34208/126776 [01:19<03:43, 413.56it/s]"
     ]
    },
    {
     "name": "stderr",
     "output_type": "stream",
     "text": [
      "\r",
      " 27%|██▋       | 34267/126776 [01:19<03:23, 453.76it/s]"
     ]
    },
    {
     "name": "stderr",
     "output_type": "stream",
     "text": [
      "\r",
      " 27%|██▋       | 34325/126776 [01:19<03:10, 484.99it/s]"
     ]
    },
    {
     "name": "stderr",
     "output_type": "stream",
     "text": [
      "\r",
      " 27%|██▋       | 34384/126776 [01:19<03:00, 511.89it/s]"
     ]
    },
    {
     "name": "stderr",
     "output_type": "stream",
     "text": [
      "\r",
      " 27%|██▋       | 34443/126776 [01:20<02:53, 532.32it/s]"
     ]
    },
    {
     "name": "stderr",
     "output_type": "stream",
     "text": [
      "\r",
      " 27%|██▋       | 34502/126776 [01:20<02:48, 548.34it/s]"
     ]
    },
    {
     "name": "stderr",
     "output_type": "stream",
     "text": [
      "\r",
      " 27%|██▋       | 34560/126776 [01:20<04:51, 315.95it/s]"
     ]
    },
    {
     "name": "stderr",
     "output_type": "stream",
     "text": [
      "\r",
      " 27%|██▋       | 34619/126776 [01:20<04:11, 366.60it/s]"
     ]
    },
    {
     "name": "stderr",
     "output_type": "stream",
     "text": [
      "\r",
      " 27%|██▋       | 34678/126776 [01:20<03:42, 413.24it/s]"
     ]
    },
    {
     "name": "stderr",
     "output_type": "stream",
     "text": [
      "\r",
      " 27%|██▋       | 34737/126776 [01:20<03:23, 453.31it/s]"
     ]
    },
    {
     "name": "stderr",
     "output_type": "stream",
     "text": [
      "\r",
      " 27%|██▋       | 34796/126776 [01:20<03:09, 486.20it/s]"
     ]
    },
    {
     "name": "stderr",
     "output_type": "stream",
     "text": [
      "\r",
      " 27%|██▋       | 34855/126776 [01:21<02:59, 511.63it/s]"
     ]
    },
    {
     "name": "stderr",
     "output_type": "stream",
     "text": [
      "\r",
      " 28%|██▊       | 34912/126776 [01:21<02:54, 526.87it/s]"
     ]
    },
    {
     "name": "stderr",
     "output_type": "stream",
     "text": [
      "\r",
      " 28%|██▊       | 34969/126776 [01:21<02:50, 537.54it/s]"
     ]
    },
    {
     "name": "stderr",
     "output_type": "stream",
     "text": [
      "\r",
      " 28%|██▊       | 35026/126776 [01:21<04:49, 317.11it/s]"
     ]
    },
    {
     "name": "stderr",
     "output_type": "stream",
     "text": [
      "\r",
      " 28%|██▊       | 35085/126776 [01:21<04:08, 368.73it/s]"
     ]
    },
    {
     "name": "stderr",
     "output_type": "stream",
     "text": [
      "\r",
      " 28%|██▊       | 35144/126776 [01:21<03:40, 414.76it/s]"
     ]
    },
    {
     "name": "stderr",
     "output_type": "stream",
     "text": [
      "\r",
      " 28%|██▊       | 35203/126776 [01:21<03:21, 454.04it/s]"
     ]
    },
    {
     "name": "stderr",
     "output_type": "stream",
     "text": [
      "\r",
      " 28%|██▊       | 35262/126776 [01:22<03:07, 487.68it/s]"
     ]
    },
    {
     "name": "stderr",
     "output_type": "stream",
     "text": [
      "\r",
      " 28%|██▊       | 35321/126776 [01:22<02:58, 512.97it/s]"
     ]
    },
    {
     "name": "stderr",
     "output_type": "stream",
     "text": [
      "\r",
      " 28%|██▊       | 35380/126776 [01:22<02:51, 532.97it/s]"
     ]
    },
    {
     "name": "stderr",
     "output_type": "stream",
     "text": [
      "\r",
      " 28%|██▊       | 35439/126776 [01:22<02:46, 547.21it/s]"
     ]
    },
    {
     "name": "stderr",
     "output_type": "stream",
     "text": [
      "\r",
      " 28%|██▊       | 35497/126776 [01:22<04:44, 321.30it/s]"
     ]
    },
    {
     "name": "stderr",
     "output_type": "stream",
     "text": [
      "\r",
      " 28%|██▊       | 35556/126776 [01:22<04:05, 372.04it/s]"
     ]
    },
    {
     "name": "stderr",
     "output_type": "stream",
     "text": [
      "\r",
      " 28%|██▊       | 35615/126776 [01:22<03:37, 418.19it/s]"
     ]
    },
    {
     "name": "stderr",
     "output_type": "stream",
     "text": [
      "\r",
      " 28%|██▊       | 35674/126776 [01:22<03:18, 457.89it/s]"
     ]
    },
    {
     "name": "stderr",
     "output_type": "stream",
     "text": [
      "\r",
      " 28%|██▊       | 35733/126776 [01:23<03:05, 490.17it/s]"
     ]
    },
    {
     "name": "stderr",
     "output_type": "stream",
     "text": [
      "\r",
      " 28%|██▊       | 35792/126776 [01:23<02:56, 515.07it/s]"
     ]
    },
    {
     "name": "stderr",
     "output_type": "stream",
     "text": [
      "\r",
      " 28%|██▊       | 35851/126776 [01:23<02:50, 533.38it/s]"
     ]
    },
    {
     "name": "stderr",
     "output_type": "stream",
     "text": [
      "\r",
      " 28%|██▊       | 35910/126776 [01:23<02:45, 548.53it/s]"
     ]
    },
    {
     "name": "stderr",
     "output_type": "stream",
     "text": [
      "\r",
      " 28%|██▊       | 35968/126776 [01:23<04:50, 313.08it/s]"
     ]
    },
    {
     "name": "stderr",
     "output_type": "stream",
     "text": [
      "\r",
      " 28%|██▊       | 36027/126776 [01:23<04:09, 363.81it/s]"
     ]
    },
    {
     "name": "stderr",
     "output_type": "stream",
     "text": [
      "\r",
      " 28%|██▊       | 36086/126776 [01:23<03:40, 410.80it/s]"
     ]
    },
    {
     "name": "stderr",
     "output_type": "stream",
     "text": [
      "\r",
      " 29%|██▊       | 36145/126776 [01:24<03:21, 450.51it/s]"
     ]
    },
    {
     "name": "stderr",
     "output_type": "stream",
     "text": [
      "\r",
      " 29%|██▊       | 36204/126776 [01:24<03:07, 483.09it/s]"
     ]
    },
    {
     "name": "stderr",
     "output_type": "stream",
     "text": [
      "\r",
      " 29%|██▊       | 36263/126776 [01:24<02:57, 508.93it/s]"
     ]
    },
    {
     "name": "stderr",
     "output_type": "stream",
     "text": [
      "\r",
      " 29%|██▊       | 36322/126776 [01:24<02:50, 529.24it/s]"
     ]
    },
    {
     "name": "stderr",
     "output_type": "stream",
     "text": [
      "\r",
      " 29%|██▊       | 36381/126776 [01:24<02:45, 544.99it/s]"
     ]
    },
    {
     "name": "stderr",
     "output_type": "stream",
     "text": [
      "\r",
      " 29%|██▊       | 36439/126776 [01:24<04:55, 306.15it/s]"
     ]
    },
    {
     "name": "stderr",
     "output_type": "stream",
     "text": [
      "\r",
      " 29%|██▉       | 36498/126776 [01:24<04:12, 357.48it/s]"
     ]
    },
    {
     "name": "stderr",
     "output_type": "stream",
     "text": [
      "\r",
      " 29%|██▉       | 36557/126776 [01:25<03:42, 404.80it/s]"
     ]
    },
    {
     "name": "stderr",
     "output_type": "stream",
     "text": [
      "\r",
      " 29%|██▉       | 36616/126776 [01:25<03:21, 446.36it/s]"
     ]
    },
    {
     "name": "stderr",
     "output_type": "stream",
     "text": [
      "\r",
      " 29%|██▉       | 36675/126776 [01:25<03:07, 480.60it/s]"
     ]
    },
    {
     "name": "stderr",
     "output_type": "stream",
     "text": [
      "\r",
      " 29%|██▉       | 36734/126776 [01:25<02:57, 508.04it/s]"
     ]
    },
    {
     "name": "stderr",
     "output_type": "stream",
     "text": [
      "\r",
      " 29%|██▉       | 36793/126776 [01:25<02:50, 529.19it/s]"
     ]
    },
    {
     "name": "stderr",
     "output_type": "stream",
     "text": [
      "\r",
      " 29%|██▉       | 36852/126776 [01:25<02:45, 543.60it/s]"
     ]
    },
    {
     "name": "stderr",
     "output_type": "stream",
     "text": [
      "\r",
      " 29%|██▉       | 36910/126776 [01:25<04:44, 316.20it/s]"
     ]
    },
    {
     "name": "stderr",
     "output_type": "stream",
     "text": [
      "\r",
      " 29%|██▉       | 36969/126776 [01:26<04:04, 366.94it/s]"
     ]
    },
    {
     "name": "stderr",
     "output_type": "stream",
     "text": [
      "\r",
      " 29%|██▉       | 37028/126776 [01:26<03:37, 412.94it/s]"
     ]
    },
    {
     "name": "stderr",
     "output_type": "stream",
     "text": [
      "\r",
      " 29%|██▉       | 37087/126776 [01:26<03:17, 453.31it/s]"
     ]
    },
    {
     "name": "stderr",
     "output_type": "stream",
     "text": [
      "\r",
      " 29%|██▉       | 37146/126776 [01:26<03:04, 486.60it/s]"
     ]
    },
    {
     "name": "stderr",
     "output_type": "stream",
     "text": [
      "\r",
      " 29%|██▉       | 37204/126776 [01:26<02:55, 510.66it/s]"
     ]
    },
    {
     "name": "stderr",
     "output_type": "stream",
     "text": [
      "\r",
      " 29%|██▉       | 37263/126776 [01:26<02:48, 530.76it/s]"
     ]
    },
    {
     "name": "stderr",
     "output_type": "stream",
     "text": [
      "\r",
      " 29%|██▉       | 37322/126776 [01:26<02:43, 545.77it/s]"
     ]
    },
    {
     "name": "stderr",
     "output_type": "stream",
     "text": [
      "\r",
      " 29%|██▉       | 37380/126776 [01:26<04:43, 315.26it/s]"
     ]
    },
    {
     "name": "stderr",
     "output_type": "stream",
     "text": [
      "\r",
      " 30%|██▉       | 37439/126776 [01:27<04:04, 365.90it/s]"
     ]
    },
    {
     "name": "stderr",
     "output_type": "stream",
     "text": [
      "\r",
      " 30%|██▉       | 37498/126776 [01:27<03:36, 412.35it/s]"
     ]
    },
    {
     "name": "stderr",
     "output_type": "stream",
     "text": [
      "\r",
      " 30%|██▉       | 37557/126776 [01:27<03:17, 452.48it/s]"
     ]
    },
    {
     "name": "stderr",
     "output_type": "stream",
     "text": [
      "\r",
      " 30%|██▉       | 37616/126776 [01:27<03:03, 485.14it/s]"
     ]
    },
    {
     "name": "stderr",
     "output_type": "stream",
     "text": [
      "\r",
      " 30%|██▉       | 37675/126776 [01:27<02:54, 511.01it/s]"
     ]
    },
    {
     "name": "stderr",
     "output_type": "stream",
     "text": [
      "\r",
      " 30%|██▉       | 37734/126776 [01:27<02:47, 530.60it/s]"
     ]
    },
    {
     "name": "stderr",
     "output_type": "stream",
     "text": [
      "\r",
      " 30%|██▉       | 37793/126776 [01:27<02:43, 545.39it/s]"
     ]
    },
    {
     "name": "stderr",
     "output_type": "stream",
     "text": [
      "\r",
      " 30%|██▉       | 37851/126776 [01:28<05:25, 273.18it/s]"
     ]
    },
    {
     "name": "stderr",
     "output_type": "stream",
     "text": [
      "\r",
      " 30%|██▉       | 37895/126776 [01:28<05:20, 276.90it/s]"
     ]
    },
    {
     "name": "stderr",
     "output_type": "stream",
     "text": [
      "\r",
      " 30%|██▉       | 37935/126776 [01:28<05:17, 279.84it/s]"
     ]
    },
    {
     "name": "stderr",
     "output_type": "stream",
     "text": [
      "\r",
      " 30%|██▉       | 37972/126776 [01:28<05:14, 282.14it/s]"
     ]
    },
    {
     "name": "stderr",
     "output_type": "stream",
     "text": [
      "\r",
      " 30%|██▉       | 38007/126776 [01:28<05:12, 283.90it/s]"
     ]
    },
    {
     "name": "stderr",
     "output_type": "stream",
     "text": [
      "\r",
      " 30%|███       | 38040/126776 [01:28<05:11, 285.18it/s]"
     ]
    },
    {
     "name": "stderr",
     "output_type": "stream",
     "text": [
      "\r",
      " 30%|███       | 38072/126776 [01:28<05:09, 286.17it/s]"
     ]
    },
    {
     "name": "stderr",
     "output_type": "stream",
     "text": [
      "\r",
      " 30%|███       | 38103/126776 [01:29<05:08, 287.05it/s]"
     ]
    },
    {
     "name": "stderr",
     "output_type": "stream",
     "text": [
      "\r",
      " 30%|███       | 38134/126776 [01:29<05:08, 287.78it/s]"
     ]
    },
    {
     "name": "stderr",
     "output_type": "stream",
     "text": [
      "\r",
      " 30%|███       | 38170/126776 [01:29<04:49, 306.42it/s]"
     ]
    },
    {
     "name": "stderr",
     "output_type": "stream",
     "text": [
      "\r",
      " 30%|███       | 38229/126776 [01:29<03:50, 384.07it/s]"
     ]
    },
    {
     "name": "stderr",
     "output_type": "stream",
     "text": [
      "\r",
      " 30%|███       | 38289/126776 [01:29<03:19, 443.33it/s]"
     ]
    },
    {
     "name": "stderr",
     "output_type": "stream",
     "text": [
      "\r",
      " 30%|███       | 38335/126776 [01:29<05:40, 259.62it/s]"
     ]
    },
    {
     "name": "stderr",
     "output_type": "stream",
     "text": [
      "\r",
      " 30%|███       | 38394/126776 [01:29<04:34, 321.89it/s]"
     ]
    },
    {
     "name": "stderr",
     "output_type": "stream",
     "text": [
      "\r",
      " 30%|███       | 38453/126776 [01:30<03:53, 378.67it/s]"
     ]
    },
    {
     "name": "stderr",
     "output_type": "stream",
     "text": [
      "\r",
      " 30%|███       | 38512/126776 [01:30<03:26, 426.45it/s]"
     ]
    },
    {
     "name": "stderr",
     "output_type": "stream",
     "text": [
      "\r",
      " 30%|███       | 38571/126776 [01:30<03:09, 466.60it/s]"
     ]
    },
    {
     "name": "stderr",
     "output_type": "stream",
     "text": [
      "\r",
      " 30%|███       | 38630/126776 [01:30<02:56, 498.67it/s]"
     ]
    },
    {
     "name": "stderr",
     "output_type": "stream",
     "text": [
      "\r",
      " 31%|███       | 38685/126776 [01:30<03:28, 422.92it/s]"
     ]
    },
    {
     "name": "stderr",
     "output_type": "stream",
     "text": [
      "\r",
      " 31%|███       | 38733/126776 [01:30<03:53, 376.64it/s]"
     ]
    },
    {
     "name": "stderr",
     "output_type": "stream",
     "text": [
      "\r",
      " 31%|███       | 38776/126776 [01:30<04:11, 350.13it/s]"
     ]
    },
    {
     "name": "stderr",
     "output_type": "stream",
     "text": [
      "\r",
      " 31%|███       | 38815/126776 [01:31<06:56, 211.36it/s]"
     ]
    },
    {
     "name": "stderr",
     "output_type": "stream",
     "text": [
      "\r",
      " 31%|███       | 38859/126776 [01:31<05:54, 247.98it/s]"
     ]
    },
    {
     "name": "stderr",
     "output_type": "stream",
     "text": [
      "\r",
      " 31%|███       | 38903/126776 [01:31<05:10, 283.46it/s]"
     ]
    },
    {
     "name": "stderr",
     "output_type": "stream",
     "text": [
      "\r",
      " 31%|███       | 38947/126776 [01:31<04:38, 315.67it/s]"
     ]
    },
    {
     "name": "stderr",
     "output_type": "stream",
     "text": [
      "\r",
      " 31%|███       | 38986/126776 [01:31<04:27, 328.08it/s]"
     ]
    },
    {
     "name": "stderr",
     "output_type": "stream",
     "text": [
      "\r",
      " 31%|███       | 39025/126776 [01:31<05:10, 282.52it/s]"
     ]
    },
    {
     "name": "stderr",
     "output_type": "stream",
     "text": [
      "\r",
      " 31%|███       | 39058/126776 [01:31<05:23, 271.08it/s]"
     ]
    },
    {
     "name": "stderr",
     "output_type": "stream",
     "text": [
      "\r",
      " 31%|███       | 39089/126776 [01:32<05:32, 263.35it/s]"
     ]
    },
    {
     "name": "stderr",
     "output_type": "stream",
     "text": [
      "\r",
      " 31%|███       | 39118/126776 [01:32<05:39, 257.89it/s]"
     ]
    },
    {
     "name": "stderr",
     "output_type": "stream",
     "text": [
      "\r",
      " 31%|███       | 39146/126776 [01:32<07:01, 208.13it/s]"
     ]
    },
    {
     "name": "stderr",
     "output_type": "stream",
     "text": [
      "\r",
      " 31%|███       | 39174/126776 [01:32<06:33, 222.69it/s]"
     ]
    },
    {
     "name": "stderr",
     "output_type": "stream",
     "text": [
      "\r",
      " 31%|███       | 39199/126776 [01:32<07:23, 197.26it/s]"
     ]
    },
    {
     "name": "stderr",
     "output_type": "stream",
     "text": [
      "\r",
      " 31%|███       | 39221/126776 [01:32<07:23, 197.56it/s]"
     ]
    },
    {
     "name": "stderr",
     "output_type": "stream",
     "text": [
      "\r",
      " 31%|███       | 39245/126776 [01:32<07:03, 206.84it/s]"
     ]
    },
    {
     "name": "stderr",
     "output_type": "stream",
     "text": [
      "\r",
      " 31%|███       | 39267/126776 [01:33<14:16, 102.23it/s]"
     ]
    },
    {
     "name": "stderr",
     "output_type": "stream",
     "text": [
      "\r",
      " 31%|███       | 39284/126776 [01:33<13:12, 110.42it/s]"
     ]
    },
    {
     "name": "stderr",
     "output_type": "stream",
     "text": [
      "\r",
      " 31%|███       | 39307/126776 [01:33<11:20, 128.50it/s]"
     ]
    },
    {
     "name": "stderr",
     "output_type": "stream",
     "text": [
      "\r",
      " 31%|███       | 39328/126776 [01:33<10:06, 144.24it/s]"
     ]
    },
    {
     "name": "stderr",
     "output_type": "stream",
     "text": [
      "\r",
      " 31%|███       | 39349/126776 [01:33<09:44, 149.63it/s]"
     ]
    },
    {
     "name": "stderr",
     "output_type": "stream",
     "text": [
      "\r",
      " 31%|███       | 39370/126776 [01:33<08:59, 162.06it/s]"
     ]
    },
    {
     "name": "stderr",
     "output_type": "stream",
     "text": [
      "\r",
      " 31%|███       | 39391/126776 [01:34<08:25, 172.82it/s]"
     ]
    },
    {
     "name": "stderr",
     "output_type": "stream",
     "text": [
      "\r",
      " 31%|███       | 39433/126776 [01:34<06:10, 235.71it/s]"
     ]
    },
    {
     "name": "stderr",
     "output_type": "stream",
     "text": [
      "\r",
      " 31%|███       | 39485/126776 [01:34<04:40, 311.52it/s]"
     ]
    },
    {
     "name": "stderr",
     "output_type": "stream",
     "text": [
      "\r",
      " 31%|███       | 39537/126776 [01:34<03:57, 367.93it/s]"
     ]
    },
    {
     "name": "stderr",
     "output_type": "stream",
     "text": [
      "\r",
      " 31%|███       | 39576/126776 [01:34<05:14, 277.51it/s]"
     ]
    },
    {
     "name": "stderr",
     "output_type": "stream",
     "text": [
      "\r",
      " 31%|███       | 39609/126776 [01:34<06:27, 225.20it/s]"
     ]
    },
    {
     "name": "stderr",
     "output_type": "stream",
     "text": [
      "\r",
      " 31%|███▏      | 39637/126776 [01:34<07:01, 206.61it/s]"
     ]
    },
    {
     "name": "stderr",
     "output_type": "stream",
     "text": [
      "\r",
      " 31%|███▏      | 39666/126776 [01:35<06:30, 222.85it/s]"
     ]
    },
    {
     "name": "stderr",
     "output_type": "stream",
     "text": [
      "\r",
      " 31%|███▏      | 39698/126776 [01:35<05:57, 243.64it/s]"
     ]
    },
    {
     "name": "stderr",
     "output_type": "stream",
     "text": [
      "\r",
      " 31%|███▏      | 39741/126776 [01:35<08:56, 162.31it/s]"
     ]
    },
    {
     "name": "stderr",
     "output_type": "stream",
     "text": [
      "\r",
      " 31%|███▏      | 39764/126776 [01:35<08:32, 169.92it/s]"
     ]
    },
    {
     "name": "stderr",
     "output_type": "stream",
     "text": [
      "\r",
      " 31%|███▏      | 39793/126776 [01:35<07:33, 191.92it/s]"
     ]
    },
    {
     "name": "stderr",
     "output_type": "stream",
     "text": [
      "\r",
      " 31%|███▏      | 39822/126776 [01:35<06:49, 212.27it/s]"
     ]
    },
    {
     "name": "stderr",
     "output_type": "stream",
     "text": [
      "\r",
      " 31%|███▏      | 39851/126776 [01:36<06:17, 230.01it/s]"
     ]
    },
    {
     "name": "stderr",
     "output_type": "stream",
     "text": [
      "\r",
      " 31%|███▏      | 39880/126776 [01:36<05:55, 244.65it/s]"
     ]
    },
    {
     "name": "stderr",
     "output_type": "stream",
     "text": [
      "\r",
      " 31%|███▏      | 39909/126776 [01:36<05:39, 255.85it/s]"
     ]
    },
    {
     "name": "stderr",
     "output_type": "stream",
     "text": [
      "\r",
      " 32%|███▏      | 39938/126776 [01:36<05:28, 264.52it/s]"
     ]
    },
    {
     "name": "stderr",
     "output_type": "stream",
     "text": [
      "\r",
      " 32%|███▏      | 39967/126776 [01:36<05:19, 271.36it/s]"
     ]
    },
    {
     "name": "stderr",
     "output_type": "stream",
     "text": [
      "\r",
      " 32%|███▏      | 39999/126776 [01:36<05:04, 285.19it/s]"
     ]
    },
    {
     "name": "stderr",
     "output_type": "stream",
     "text": [
      "\r",
      " 32%|███▏      | 40029/126776 [01:36<05:02, 286.35it/s]"
     ]
    },
    {
     "name": "stderr",
     "output_type": "stream",
     "text": [
      "\r",
      " 32%|███▏      | 40081/126776 [01:36<04:06, 351.90it/s]"
     ]
    },
    {
     "name": "stderr",
     "output_type": "stream",
     "text": [
      "\r",
      " 32%|███▏      | 40133/126776 [01:36<03:36, 399.56it/s]"
     ]
    },
    {
     "name": "stderr",
     "output_type": "stream",
     "text": [
      "\r",
      " 32%|███▏      | 40185/126776 [01:36<03:19, 433.02it/s]"
     ]
    },
    {
     "name": "stderr",
     "output_type": "stream",
     "text": [
      "\r",
      " 32%|███▏      | 40229/126776 [01:37<07:38, 188.70it/s]"
     ]
    },
    {
     "name": "stderr",
     "output_type": "stream",
     "text": [
      "\r",
      " 32%|███▏      | 40283/126776 [01:37<05:56, 242.87it/s]"
     ]
    },
    {
     "name": "stderr",
     "output_type": "stream",
     "text": [
      "\r",
      " 32%|███▏      | 40334/126776 [01:37<04:57, 290.84it/s]"
     ]
    },
    {
     "name": "stderr",
     "output_type": "stream",
     "text": [
      "\r",
      " 32%|███▏      | 40377/126776 [01:37<04:59, 288.94it/s]"
     ]
    },
    {
     "name": "stderr",
     "output_type": "stream",
     "text": [
      "\r",
      " 32%|███▏      | 40416/126776 [01:37<04:59, 288.70it/s]"
     ]
    },
    {
     "name": "stderr",
     "output_type": "stream",
     "text": [
      "\r",
      " 32%|███▏      | 40466/126776 [01:38<04:18, 334.21it/s]"
     ]
    },
    {
     "name": "stderr",
     "output_type": "stream",
     "text": [
      "\r",
      " 32%|███▏      | 40524/126776 [01:38<03:40, 391.76it/s]"
     ]
    },
    {
     "name": "stderr",
     "output_type": "stream",
     "text": [
      "\r",
      " 32%|███▏      | 40583/126776 [01:38<03:15, 441.13it/s]"
     ]
    },
    {
     "name": "stderr",
     "output_type": "stream",
     "text": [
      "\r",
      " 32%|███▏      | 40642/126776 [01:38<02:59, 479.34it/s]"
     ]
    },
    {
     "name": "stderr",
     "output_type": "stream",
     "text": [
      "\r",
      " 32%|███▏      | 40694/126776 [01:38<03:23, 422.58it/s]"
     ]
    },
    {
     "name": "stderr",
     "output_type": "stream",
     "text": [
      "\r",
      " 32%|███▏      | 40741/126776 [01:38<06:14, 229.82it/s]"
     ]
    },
    {
     "name": "stderr",
     "output_type": "stream",
     "text": [
      "\r",
      " 32%|███▏      | 40799/126776 [01:39<05:01, 285.45it/s]"
     ]
    },
    {
     "name": "stderr",
     "output_type": "stream",
     "text": [
      "\r",
      " 32%|███▏      | 40842/126776 [01:39<04:57, 288.58it/s]"
     ]
    },
    {
     "name": "stderr",
     "output_type": "stream",
     "text": [
      "\r",
      " 32%|███▏      | 40881/126776 [01:39<05:00, 285.64it/s]"
     ]
    },
    {
     "name": "stderr",
     "output_type": "stream",
     "text": [
      "\r",
      " 32%|███▏      | 40917/126776 [01:39<04:59, 286.21it/s]"
     ]
    },
    {
     "name": "stderr",
     "output_type": "stream",
     "text": [
      "\r",
      " 32%|███▏      | 40971/126776 [01:39<04:11, 341.24it/s]"
     ]
    },
    {
     "name": "stderr",
     "output_type": "stream",
     "text": [
      "\r",
      " 32%|███▏      | 41030/126776 [01:39<03:34, 399.69it/s]"
     ]
    },
    {
     "name": "stderr",
     "output_type": "stream",
     "text": [
      "\r",
      " 32%|███▏      | 41089/126776 [01:39<03:11, 446.84it/s]"
     ]
    },
    {
     "name": "stderr",
     "output_type": "stream",
     "text": [
      "\r",
      " 32%|███▏      | 41148/126776 [01:39<02:56, 484.05it/s]"
     ]
    },
    {
     "name": "stderr",
     "output_type": "stream",
     "text": [
      "\r",
      " 32%|███▏      | 41200/126776 [01:40<05:07, 278.67it/s]"
     ]
    },
    {
     "name": "stderr",
     "output_type": "stream",
     "text": [
      "\r",
      " 33%|███▎      | 41259/126776 [01:40<04:15, 334.53it/s]"
     ]
    },
    {
     "name": "stderr",
     "output_type": "stream",
     "text": [
      "\r",
      " 33%|███▎      | 41318/126776 [01:40<03:41, 386.37it/s]"
     ]
    },
    {
     "name": "stderr",
     "output_type": "stream",
     "text": [
      "\r",
      " 33%|███▎      | 41376/126776 [01:40<03:18, 429.53it/s]"
     ]
    },
    {
     "name": "stderr",
     "output_type": "stream",
     "text": [
      "\r",
      " 33%|███▎      | 41434/126776 [01:40<03:03, 465.89it/s]"
     ]
    },
    {
     "name": "stderr",
     "output_type": "stream",
     "text": [
      "\r",
      " 33%|███▎      | 41493/126776 [01:40<02:51, 496.46it/s]"
     ]
    },
    {
     "name": "stderr",
     "output_type": "stream",
     "text": [
      "\r",
      " 33%|███▎      | 41552/126776 [01:40<02:43, 519.71it/s]"
     ]
    },
    {
     "name": "stderr",
     "output_type": "stream",
     "text": [
      "\r",
      " 33%|███▎      | 41610/126776 [01:40<02:38, 536.10it/s]"
     ]
    },
    {
     "name": "stderr",
     "output_type": "stream",
     "text": [
      "\r",
      " 33%|███▎      | 41667/126776 [01:41<05:05, 278.54it/s]"
     ]
    },
    {
     "name": "stderr",
     "output_type": "stream",
     "text": [
      "\r",
      " 33%|███▎      | 41723/126776 [01:41<04:20, 326.42it/s]"
     ]
    },
    {
     "name": "stderr",
     "output_type": "stream",
     "text": [
      "\r",
      " 33%|███▎      | 41779/126776 [01:41<03:48, 371.68it/s]"
     ]
    },
    {
     "name": "stderr",
     "output_type": "stream",
     "text": [
      "\r",
      " 33%|███▎      | 41838/126776 [01:41<03:22, 418.60it/s]"
     ]
    },
    {
     "name": "stderr",
     "output_type": "stream",
     "text": [
      "\r",
      " 33%|███▎      | 41897/126776 [01:41<03:05, 457.97it/s]"
     ]
    },
    {
     "name": "stderr",
     "output_type": "stream",
     "text": [
      "\r",
      " 33%|███▎      | 41956/126776 [01:41<02:53, 489.69it/s]"
     ]
    },
    {
     "name": "stderr",
     "output_type": "stream",
     "text": [
      "\r",
      " 33%|███▎      | 42015/126776 [01:42<02:44, 515.53it/s]"
     ]
    },
    {
     "name": "stderr",
     "output_type": "stream",
     "text": [
      "\r",
      " 33%|███▎      | 42073/126776 [01:42<02:39, 531.38it/s]"
     ]
    },
    {
     "name": "stderr",
     "output_type": "stream",
     "text": [
      "\r",
      " 33%|███▎      | 42132/126776 [01:42<02:34, 546.64it/s]"
     ]
    },
    {
     "name": "stderr",
     "output_type": "stream",
     "text": [
      "\r",
      " 33%|███▎      | 42190/126776 [01:42<04:42, 299.29it/s]"
     ]
    },
    {
     "name": "stderr",
     "output_type": "stream",
     "text": [
      "\r",
      " 33%|███▎      | 42249/126776 [01:42<04:00, 350.98it/s]"
     ]
    },
    {
     "name": "stderr",
     "output_type": "stream",
     "text": [
      "\r",
      " 33%|███▎      | 42308/126776 [01:42<03:31, 398.59it/s]"
     ]
    },
    {
     "name": "stderr",
     "output_type": "stream",
     "text": [
      "\r",
      " 33%|███▎      | 42360/126776 [01:42<03:37, 388.84it/s]"
     ]
    },
    {
     "name": "stderr",
     "output_type": "stream",
     "text": [
      "\r",
      " 33%|███▎      | 42419/126776 [01:43<03:14, 434.14it/s]"
     ]
    },
    {
     "name": "stderr",
     "output_type": "stream",
     "text": [
      "\r",
      " 34%|███▎      | 42478/126776 [01:43<02:58, 471.43it/s]"
     ]
    },
    {
     "name": "stderr",
     "output_type": "stream",
     "text": [
      "\r",
      " 34%|███▎      | 42537/126776 [01:43<02:48, 501.21it/s]"
     ]
    },
    {
     "name": "stderr",
     "output_type": "stream",
     "text": [
      "\r",
      " 34%|███▎      | 42593/126776 [01:43<02:43, 515.40it/s]"
     ]
    },
    {
     "name": "stderr",
     "output_type": "stream",
     "text": [
      "\r",
      " 34%|███▎      | 42648/126776 [01:43<05:15, 266.92it/s]"
     ]
    },
    {
     "name": "stderr",
     "output_type": "stream",
     "text": [
      "\r",
      " 34%|███▎      | 42706/126776 [01:43<04:23, 319.37it/s]"
     ]
    },
    {
     "name": "stderr",
     "output_type": "stream",
     "text": [
      "\r",
      " 34%|███▎      | 42765/126776 [01:44<03:46, 370.55it/s]"
     ]
    },
    {
     "name": "stderr",
     "output_type": "stream",
     "text": [
      "\r",
      " 34%|███▍      | 42824/126776 [01:44<03:21, 416.91it/s]"
     ]
    },
    {
     "name": "stderr",
     "output_type": "stream",
     "text": [
      "\r",
      " 34%|███▍      | 42883/126776 [01:44<03:03, 456.41it/s]"
     ]
    },
    {
     "name": "stderr",
     "output_type": "stream",
     "text": [
      "\r",
      " 34%|███▍      | 42942/126776 [01:44<02:51, 488.64it/s]"
     ]
    },
    {
     "name": "stderr",
     "output_type": "stream",
     "text": [
      "\r",
      " 34%|███▍      | 43001/126776 [01:44<02:42, 514.34it/s]"
     ]
    },
    {
     "name": "stderr",
     "output_type": "stream",
     "text": [
      "\r",
      " 34%|███▍      | 43058/126776 [01:44<02:38, 528.95it/s]"
     ]
    },
    {
     "name": "stderr",
     "output_type": "stream",
     "text": [
      "\r",
      " 34%|███▍      | 43115/126776 [01:44<04:55, 282.69it/s]"
     ]
    },
    {
     "name": "stderr",
     "output_type": "stream",
     "text": [
      "\r",
      " 34%|███▍      | 43174/126776 [01:45<04:09, 335.04it/s]"
     ]
    },
    {
     "name": "stderr",
     "output_type": "stream",
     "text": [
      "\r",
      " 34%|███▍      | 43233/126776 [01:45<03:37, 384.61it/s]"
     ]
    },
    {
     "name": "stderr",
     "output_type": "stream",
     "text": [
      "\r",
      " 34%|███▍      | 43292/126776 [01:45<03:14, 428.99it/s]"
     ]
    },
    {
     "name": "stderr",
     "output_type": "stream",
     "text": [
      "\r",
      " 34%|███▍      | 43351/126776 [01:45<02:58, 467.02it/s]"
     ]
    },
    {
     "name": "stderr",
     "output_type": "stream",
     "text": [
      "\r",
      " 34%|███▍      | 43410/126776 [01:45<02:47, 497.67it/s]"
     ]
    },
    {
     "name": "stderr",
     "output_type": "stream",
     "text": [
      "\r",
      " 34%|███▍      | 43469/126776 [01:45<02:39, 521.22it/s]"
     ]
    },
    {
     "name": "stderr",
     "output_type": "stream",
     "text": [
      "\r",
      " 34%|███▍      | 43528/126776 [01:45<02:34, 539.19it/s]"
     ]
    },
    {
     "name": "stderr",
     "output_type": "stream",
     "text": [
      "\r",
      " 34%|███▍      | 43587/126776 [01:45<02:30, 552.33it/s]"
     ]
    },
    {
     "name": "stderr",
     "output_type": "stream",
     "text": [
      "\r",
      " 34%|███▍      | 43645/126776 [01:46<04:38, 298.87it/s]"
     ]
    },
    {
     "name": "stderr",
     "output_type": "stream",
     "text": [
      "\r",
      " 34%|███▍      | 43704/126776 [01:46<03:57, 350.15it/s]"
     ]
    },
    {
     "name": "stderr",
     "output_type": "stream",
     "text": [
      "\r",
      " 35%|███▍      | 43763/126776 [01:46<03:28, 397.83it/s]"
     ]
    },
    {
     "name": "stderr",
     "output_type": "stream",
     "text": [
      "\r",
      " 35%|███▍      | 43822/126776 [01:46<03:08, 439.94it/s]"
     ]
    },
    {
     "name": "stderr",
     "output_type": "stream",
     "text": [
      "\r",
      " 35%|███▍      | 43881/126776 [01:46<02:54, 474.84it/s]"
     ]
    },
    {
     "name": "stderr",
     "output_type": "stream",
     "text": [
      "\r",
      " 35%|███▍      | 43940/126776 [01:46<02:44, 502.86it/s]"
     ]
    },
    {
     "name": "stderr",
     "output_type": "stream",
     "text": [
      "\r",
      " 35%|███▍      | 43999/126776 [01:46<02:37, 524.61it/s]"
     ]
    },
    {
     "name": "stderr",
     "output_type": "stream",
     "text": [
      "\r",
      " 35%|███▍      | 44058/126776 [01:46<02:32, 541.73it/s]"
     ]
    },
    {
     "name": "stderr",
     "output_type": "stream",
     "text": [
      "\r",
      " 35%|███▍      | 44116/126776 [01:47<04:39, 295.29it/s]"
     ]
    },
    {
     "name": "stderr",
     "output_type": "stream",
     "text": [
      "\r",
      " 35%|███▍      | 44175/126776 [01:47<03:58, 346.68it/s]"
     ]
    },
    {
     "name": "stderr",
     "output_type": "stream",
     "text": [
      "\r",
      " 35%|███▍      | 44234/126776 [01:47<03:29, 394.69it/s]"
     ]
    },
    {
     "name": "stderr",
     "output_type": "stream",
     "text": [
      "\r",
      " 35%|███▍      | 44293/126776 [01:47<03:08, 437.10it/s]"
     ]
    },
    {
     "name": "stderr",
     "output_type": "stream",
     "text": [
      "\r",
      " 35%|███▍      | 44352/126776 [01:47<02:54, 472.61it/s]"
     ]
    },
    {
     "name": "stderr",
     "output_type": "stream",
     "text": [
      "\r",
      " 35%|███▌      | 44411/126776 [01:47<02:44, 501.52it/s]"
     ]
    },
    {
     "name": "stderr",
     "output_type": "stream",
     "text": [
      "\r",
      " 35%|███▌      | 44470/126776 [01:47<02:37, 523.81it/s]"
     ]
    },
    {
     "name": "stderr",
     "output_type": "stream",
     "text": [
      "\r",
      " 35%|███▌      | 44529/126776 [01:47<02:32, 540.92it/s]"
     ]
    },
    {
     "name": "stderr",
     "output_type": "stream",
     "text": [
      "\r",
      " 35%|███▌      | 44587/126776 [01:48<04:40, 293.47it/s]"
     ]
    },
    {
     "name": "stderr",
     "output_type": "stream",
     "text": [
      "\r",
      " 35%|███▌      | 44646/126776 [01:48<03:57, 345.47it/s]"
     ]
    },
    {
     "name": "stderr",
     "output_type": "stream",
     "text": [
      "\r",
      " 35%|███▌      | 44705/126776 [01:48<03:28, 393.49it/s]"
     ]
    },
    {
     "name": "stderr",
     "output_type": "stream",
     "text": [
      "\r",
      " 35%|███▌      | 44764/126776 [01:48<03:07, 436.25it/s]"
     ]
    },
    {
     "name": "stderr",
     "output_type": "stream",
     "text": [
      "\r",
      " 35%|███▌      | 44823/126776 [01:48<02:53, 472.29it/s]"
     ]
    },
    {
     "name": "stderr",
     "output_type": "stream",
     "text": [
      "\r",
      " 35%|███▌      | 44882/126776 [01:48<02:43, 501.12it/s]"
     ]
    },
    {
     "name": "stderr",
     "output_type": "stream",
     "text": [
      "\r",
      " 35%|███▌      | 44941/126776 [01:48<02:36, 524.12it/s]"
     ]
    },
    {
     "name": "stderr",
     "output_type": "stream",
     "text": [
      "\r",
      " 35%|███▌      | 45000/126776 [01:49<02:31, 541.22it/s]"
     ]
    },
    {
     "name": "stderr",
     "output_type": "stream",
     "text": [
      "\r",
      " 36%|███▌      | 45058/126776 [01:49<04:39, 292.80it/s]"
     ]
    },
    {
     "name": "stderr",
     "output_type": "stream",
     "text": [
      "\r",
      " 36%|███▌      | 45117/126776 [01:49<03:57, 344.48it/s]"
     ]
    },
    {
     "name": "stderr",
     "output_type": "stream",
     "text": [
      "\r",
      " 36%|███▌      | 45176/126776 [01:49<03:27, 392.54it/s]"
     ]
    },
    {
     "name": "stderr",
     "output_type": "stream",
     "text": [
      "\r",
      " 36%|███▌      | 45234/126776 [01:49<03:08, 432.79it/s]"
     ]
    },
    {
     "name": "stderr",
     "output_type": "stream",
     "text": [
      "\r",
      " 36%|███▌      | 45292/126776 [01:49<02:54, 466.34it/s]"
     ]
    },
    {
     "name": "stderr",
     "output_type": "stream",
     "text": [
      "\r",
      " 36%|███▌      | 45350/126776 [01:50<02:44, 494.72it/s]"
     ]
    },
    {
     "name": "stderr",
     "output_type": "stream",
     "text": [
      "\r",
      " 36%|███▌      | 45408/126776 [01:50<02:37, 516.76it/s]"
     ]
    },
    {
     "name": "stderr",
     "output_type": "stream",
     "text": [
      "\r",
      " 36%|███▌      | 45467/126776 [01:50<02:31, 535.50it/s]"
     ]
    },
    {
     "name": "stderr",
     "output_type": "stream",
     "text": [
      "\r",
      " 36%|███▌      | 45526/126776 [01:50<02:28, 548.91it/s]"
     ]
    },
    {
     "name": "stderr",
     "output_type": "stream",
     "text": [
      "\r",
      " 36%|███▌      | 45584/126776 [01:50<04:46, 282.95it/s]"
     ]
    },
    {
     "name": "stderr",
     "output_type": "stream",
     "text": [
      "\r",
      " 36%|███▌      | 45643/126776 [01:50<04:02, 334.98it/s]"
     ]
    },
    {
     "name": "stderr",
     "output_type": "stream",
     "text": [
      "\r",
      " 36%|███▌      | 45701/126776 [01:50<03:31, 383.12it/s]"
     ]
    },
    {
     "name": "stderr",
     "output_type": "stream",
     "text": [
      "\r",
      " 36%|███▌      | 45760/126776 [01:51<03:09, 427.49it/s]"
     ]
    },
    {
     "name": "stderr",
     "output_type": "stream",
     "text": [
      "\r",
      " 36%|███▌      | 45816/126776 [01:51<02:56, 458.82it/s]"
     ]
    },
    {
     "name": "stderr",
     "output_type": "stream",
     "text": [
      "\r",
      " 36%|███▌      | 45873/126776 [01:51<02:46, 486.59it/s]"
     ]
    },
    {
     "name": "stderr",
     "output_type": "stream",
     "text": [
      "\r",
      " 36%|███▌      | 45931/126776 [01:51<02:38, 510.07it/s]"
     ]
    },
    {
     "name": "stderr",
     "output_type": "stream",
     "text": [
      "\r",
      " 36%|███▋      | 45988/126776 [01:51<02:33, 526.34it/s]"
     ]
    },
    {
     "name": "stderr",
     "output_type": "stream",
     "text": [
      "\r",
      " 36%|███▋      | 46045/126776 [01:51<04:45, 283.16it/s]"
     ]
    },
    {
     "name": "stderr",
     "output_type": "stream",
     "text": [
      "\r",
      " 36%|███▋      | 46104/126776 [01:51<04:00, 336.08it/s]"
     ]
    },
    {
     "name": "stderr",
     "output_type": "stream",
     "text": [
      "\r",
      " 36%|███▋      | 46163/126776 [01:52<03:29, 385.69it/s]"
     ]
    },
    {
     "name": "stderr",
     "output_type": "stream",
     "text": [
      "\r",
      " 36%|███▋      | 46222/126776 [01:52<03:07, 429.67it/s]"
     ]
    },
    {
     "name": "stderr",
     "output_type": "stream",
     "text": [
      "\r",
      " 37%|███▋      | 46281/126776 [01:52<02:52, 466.89it/s]"
     ]
    },
    {
     "name": "stderr",
     "output_type": "stream",
     "text": [
      "\r",
      " 37%|███▋      | 46340/126776 [01:52<02:41, 496.72it/s]"
     ]
    },
    {
     "name": "stderr",
     "output_type": "stream",
     "text": [
      "\r",
      " 37%|███▋      | 46399/126776 [01:52<02:34, 520.04it/s]"
     ]
    },
    {
     "name": "stderr",
     "output_type": "stream",
     "text": [
      "\r",
      " 37%|███▋      | 46458/126776 [01:52<02:29, 537.52it/s]"
     ]
    },
    {
     "name": "stderr",
     "output_type": "stream",
     "text": [
      "\r",
      " 37%|███▋      | 46517/126776 [01:52<02:25, 550.74it/s]"
     ]
    },
    {
     "name": "stderr",
     "output_type": "stream",
     "text": [
      "\r",
      " 37%|███▋      | 46575/126776 [01:53<04:36, 289.88it/s]"
     ]
    },
    {
     "name": "stderr",
     "output_type": "stream",
     "text": [
      "\r",
      " 37%|███▋      | 46634/126776 [01:53<03:54, 341.60it/s]"
     ]
    },
    {
     "name": "stderr",
     "output_type": "stream",
     "text": [
      "\r",
      " 37%|███▋      | 46693/126776 [01:53<03:25, 389.92it/s]"
     ]
    },
    {
     "name": "stderr",
     "output_type": "stream",
     "text": [
      "\r",
      " 37%|███▋      | 46752/126776 [01:53<03:04, 433.07it/s]"
     ]
    },
    {
     "name": "stderr",
     "output_type": "stream",
     "text": [
      "\r",
      " 37%|███▋      | 46811/126776 [01:53<02:50, 469.15it/s]"
     ]
    },
    {
     "name": "stderr",
     "output_type": "stream",
     "text": [
      "\r",
      " 37%|███▋      | 46870/126776 [01:53<02:40, 498.62it/s]"
     ]
    },
    {
     "name": "stderr",
     "output_type": "stream",
     "text": [
      "\r",
      " 37%|███▋      | 46929/126776 [01:53<02:33, 521.49it/s]"
     ]
    },
    {
     "name": "stderr",
     "output_type": "stream",
     "text": [
      "\r",
      " 37%|███▋      | 46988/126776 [01:53<02:28, 538.02it/s]"
     ]
    },
    {
     "name": "stderr",
     "output_type": "stream",
     "text": [
      "\r",
      " 37%|███▋      | 47046/126776 [01:54<04:37, 287.08it/s]"
     ]
    },
    {
     "name": "stderr",
     "output_type": "stream",
     "text": [
      "\r",
      " 37%|███▋      | 47105/126776 [01:54<03:55, 338.71it/s]"
     ]
    },
    {
     "name": "stderr",
     "output_type": "stream",
     "text": [
      "\r",
      " 37%|███▋      | 47164/126776 [01:54<03:25, 387.46it/s]"
     ]
    },
    {
     "name": "stderr",
     "output_type": "stream",
     "text": [
      "\r",
      " 37%|███▋      | 47223/126776 [01:54<03:04, 430.69it/s]"
     ]
    },
    {
     "name": "stderr",
     "output_type": "stream",
     "text": [
      "\r",
      " 37%|███▋      | 47282/126776 [01:54<02:50, 467.08it/s]"
     ]
    },
    {
     "name": "stderr",
     "output_type": "stream",
     "text": [
      "\r",
      " 37%|███▋      | 47341/126776 [01:54<02:39, 496.60it/s]"
     ]
    },
    {
     "name": "stderr",
     "output_type": "stream",
     "text": [
      "\r",
      " 37%|███▋      | 47400/126776 [01:54<02:32, 519.87it/s]"
     ]
    },
    {
     "name": "stderr",
     "output_type": "stream",
     "text": [
      "\r",
      " 37%|███▋      | 47459/126776 [01:54<02:27, 538.02it/s]"
     ]
    },
    {
     "name": "stderr",
     "output_type": "stream",
     "text": [
      "\r",
      " 37%|███▋      | 47518/126776 [01:55<02:23, 551.68it/s]"
     ]
    },
    {
     "name": "stderr",
     "output_type": "stream",
     "text": [
      "\r",
      " 38%|███▊      | 47576/126776 [01:55<04:35, 287.57it/s]"
     ]
    },
    {
     "name": "stderr",
     "output_type": "stream",
     "text": [
      "\r",
      " 38%|███▊      | 47634/126776 [01:55<03:53, 338.27it/s]"
     ]
    },
    {
     "name": "stderr",
     "output_type": "stream",
     "text": [
      "\r",
      " 38%|███▊      | 47693/126776 [01:55<03:24, 387.36it/s]"
     ]
    },
    {
     "name": "stderr",
     "output_type": "stream",
     "text": [
      "\r",
      " 38%|███▊      | 47752/126776 [01:55<03:03, 431.05it/s]"
     ]
    },
    {
     "name": "stderr",
     "output_type": "stream",
     "text": [
      "\r",
      " 38%|███▊      | 47811/126776 [01:55<02:48, 468.06it/s]"
     ]
    },
    {
     "name": "stderr",
     "output_type": "stream",
     "text": [
      "\r",
      " 38%|███▊      | 47870/126776 [01:55<02:38, 498.05it/s]"
     ]
    },
    {
     "name": "stderr",
     "output_type": "stream",
     "text": [
      "\r",
      " 38%|███▊      | 47929/126776 [01:56<02:31, 521.26it/s]"
     ]
    },
    {
     "name": "stderr",
     "output_type": "stream",
     "text": [
      "\r",
      " 38%|███▊      | 47988/126776 [01:56<02:26, 539.22it/s]"
     ]
    },
    {
     "name": "stderr",
     "output_type": "stream",
     "text": [
      "\r",
      " 38%|███▊      | 48046/126776 [01:56<04:45, 276.20it/s]"
     ]
    },
    {
     "name": "stderr",
     "output_type": "stream",
     "text": [
      "\r",
      " 38%|███▊      | 48105/126776 [01:56<03:59, 328.24it/s]"
     ]
    },
    {
     "name": "stderr",
     "output_type": "stream",
     "text": [
      "\r",
      " 38%|███▊      | 48164/126776 [01:56<03:28, 377.62it/s]"
     ]
    },
    {
     "name": "stderr",
     "output_type": "stream",
     "text": [
      "\r",
      " 38%|███▊      | 48223/126776 [01:56<03:06, 422.20it/s]"
     ]
    },
    {
     "name": "stderr",
     "output_type": "stream",
     "text": [
      "\r",
      " 38%|███▊      | 48282/126776 [01:57<02:50, 460.52it/s]"
     ]
    },
    {
     "name": "stderr",
     "output_type": "stream",
     "text": [
      "\r",
      " 38%|███▊      | 48341/126776 [01:57<02:39, 491.54it/s]"
     ]
    },
    {
     "name": "stderr",
     "output_type": "stream",
     "text": [
      "\r",
      " 38%|███▊      | 48400/126776 [01:57<02:31, 516.60it/s]"
     ]
    },
    {
     "name": "stderr",
     "output_type": "stream",
     "text": [
      "\r",
      " 38%|███▊      | 48459/126776 [01:57<02:26, 535.47it/s]"
     ]
    },
    {
     "name": "stderr",
     "output_type": "stream",
     "text": [
      "\r",
      " 38%|███▊      | 48517/126776 [01:57<04:38, 280.86it/s]"
     ]
    },
    {
     "name": "stderr",
     "output_type": "stream",
     "text": [
      "\r",
      " 38%|███▊      | 48575/126776 [01:57<03:55, 331.71it/s]"
     ]
    },
    {
     "name": "stderr",
     "output_type": "stream",
     "text": [
      "\r",
      " 38%|███▊      | 48634/126776 [01:58<03:24, 381.52it/s]"
     ]
    },
    {
     "name": "stderr",
     "output_type": "stream",
     "text": [
      "\r",
      " 38%|███▊      | 48692/126776 [01:58<03:04, 424.36it/s]"
     ]
    },
    {
     "name": "stderr",
     "output_type": "stream",
     "text": [
      "\r",
      " 38%|███▊      | 48751/126776 [01:58<02:48, 462.03it/s]"
     ]
    },
    {
     "name": "stderr",
     "output_type": "stream",
     "text": [
      "\r",
      " 39%|███▊      | 48809/126776 [01:58<02:38, 491.80it/s]"
     ]
    },
    {
     "name": "stderr",
     "output_type": "stream",
     "text": [
      "\r",
      " 39%|███▊      | 48868/126776 [01:58<02:30, 517.03it/s]"
     ]
    },
    {
     "name": "stderr",
     "output_type": "stream",
     "text": [
      "\r",
      " 39%|███▊      | 48927/126776 [01:58<02:25, 536.00it/s]"
     ]
    },
    {
     "name": "stderr",
     "output_type": "stream",
     "text": [
      "\r",
      " 39%|███▊      | 48986/126776 [01:58<02:21, 550.11it/s]"
     ]
    },
    {
     "name": "stderr",
     "output_type": "stream",
     "text": [
      "\r",
      " 39%|███▊      | 49044/126776 [01:59<04:34, 283.66it/s]"
     ]
    },
    {
     "name": "stderr",
     "output_type": "stream",
     "text": [
      "\r",
      " 39%|███▊      | 49103/126776 [01:59<03:51, 335.83it/s]"
     ]
    },
    {
     "name": "stderr",
     "output_type": "stream",
     "text": [
      "\r",
      " 39%|███▉      | 49161/126776 [01:59<03:22, 383.80it/s]"
     ]
    },
    {
     "name": "stderr",
     "output_type": "stream",
     "text": [
      "\r",
      " 39%|███▉      | 49220/126776 [01:59<03:01, 427.88it/s]"
     ]
    },
    {
     "name": "stderr",
     "output_type": "stream",
     "text": [
      "\r",
      " 39%|███▉      | 49279/126776 [01:59<02:46, 465.28it/s]"
     ]
    },
    {
     "name": "stderr",
     "output_type": "stream",
     "text": [
      "\r",
      " 39%|███▉      | 49338/126776 [01:59<02:36, 495.75it/s]"
     ]
    },
    {
     "name": "stderr",
     "output_type": "stream",
     "text": [
      "\r",
      " 39%|███▉      | 49397/126776 [01:59<02:28, 519.68it/s]"
     ]
    },
    {
     "name": "stderr",
     "output_type": "stream",
     "text": [
      "\r",
      " 39%|███▉      | 49456/126776 [01:59<02:23, 538.01it/s]"
     ]
    },
    {
     "name": "stderr",
     "output_type": "stream",
     "text": [
      "\r",
      " 39%|███▉      | 49514/126776 [02:00<04:34, 281.06it/s]"
     ]
    },
    {
     "name": "stderr",
     "output_type": "stream",
     "text": [
      "\r",
      " 39%|███▉      | 49573/126776 [02:00<03:51, 333.25it/s]"
     ]
    },
    {
     "name": "stderr",
     "output_type": "stream",
     "text": [
      "\r",
      " 39%|███▉      | 49632/126776 [02:00<03:21, 382.57it/s]"
     ]
    },
    {
     "name": "stderr",
     "output_type": "stream",
     "text": [
      "\r",
      " 39%|███▉      | 49691/126776 [02:00<03:00, 426.53it/s]"
     ]
    },
    {
     "name": "stderr",
     "output_type": "stream",
     "text": [
      "\r",
      " 39%|███▉      | 49750/126776 [02:00<02:45, 464.48it/s]"
     ]
    },
    {
     "name": "stderr",
     "output_type": "stream",
     "text": [
      "\r",
      " 39%|███▉      | 49809/126776 [02:00<02:35, 494.70it/s]"
     ]
    },
    {
     "name": "stderr",
     "output_type": "stream",
     "text": [
      "\r",
      " 39%|███▉      | 49868/126776 [02:00<02:28, 518.80it/s]"
     ]
    },
    {
     "name": "stderr",
     "output_type": "stream",
     "text": [
      "\r",
      " 39%|███▉      | 49927/126776 [02:00<02:23, 536.76it/s]"
     ]
    },
    {
     "name": "stderr",
     "output_type": "stream",
     "text": [
      "\r",
      " 39%|███▉      | 49986/126776 [02:01<04:38, 275.95it/s]"
     ]
    },
    {
     "name": "stderr",
     "output_type": "stream",
     "text": [
      "\r",
      " 39%|███▉      | 50045/126776 [02:01<03:54, 327.77it/s]"
     ]
    },
    {
     "name": "stderr",
     "output_type": "stream",
     "text": [
      "\r",
      " 40%|███▉      | 50103/126776 [02:01<03:23, 376.21it/s]"
     ]
    },
    {
     "name": "stderr",
     "output_type": "stream",
     "text": [
      "\r",
      " 40%|███▉      | 50161/126776 [02:01<03:02, 419.51it/s]"
     ]
    },
    {
     "name": "stderr",
     "output_type": "stream",
     "text": [
      "\r",
      " 40%|███▉      | 50220/126776 [02:01<02:47, 458.35it/s]"
     ]
    },
    {
     "name": "stderr",
     "output_type": "stream",
     "text": [
      "\r",
      " 40%|███▉      | 50278/126776 [02:01<02:36, 488.41it/s]"
     ]
    },
    {
     "name": "stderr",
     "output_type": "stream",
     "text": [
      "\r",
      " 40%|███▉      | 50337/126776 [02:01<02:28, 513.86it/s]"
     ]
    },
    {
     "name": "stderr",
     "output_type": "stream",
     "text": [
      "\r",
      " 40%|███▉      | 50396/126776 [02:02<02:23, 532.88it/s]"
     ]
    },
    {
     "name": "stderr",
     "output_type": "stream",
     "text": [
      "\r",
      " 40%|███▉      | 50454/126776 [02:02<02:19, 545.97it/s]"
     ]
    },
    {
     "name": "stderr",
     "output_type": "stream",
     "text": [
      "\r",
      " 40%|███▉      | 50512/126776 [02:02<04:34, 277.66it/s]"
     ]
    },
    {
     "name": "stderr",
     "output_type": "stream",
     "text": [
      "\r",
      " 40%|███▉      | 50571/126776 [02:02<03:51, 329.66it/s]"
     ]
    },
    {
     "name": "stderr",
     "output_type": "stream",
     "text": [
      "\r",
      " 40%|███▉      | 50630/126776 [02:02<03:20, 379.45it/s]"
     ]
    },
    {
     "name": "stderr",
     "output_type": "stream",
     "text": [
      "\r",
      " 40%|███▉      | 50689/126776 [02:02<02:59, 423.65it/s]"
     ]
    },
    {
     "name": "stderr",
     "output_type": "stream",
     "text": [
      "\r",
      " 40%|████      | 50747/126776 [02:03<02:45, 460.41it/s]"
     ]
    },
    {
     "name": "stderr",
     "output_type": "stream",
     "text": [
      "\r",
      " 40%|████      | 50806/126776 [02:03<02:34, 491.15it/s]"
     ]
    },
    {
     "name": "stderr",
     "output_type": "stream",
     "text": [
      "\r",
      " 40%|████      | 50865/126776 [02:03<02:27, 515.21it/s]"
     ]
    },
    {
     "name": "stderr",
     "output_type": "stream",
     "text": [
      "\r",
      " 40%|████      | 50924/126776 [02:03<02:21, 534.36it/s]"
     ]
    },
    {
     "name": "stderr",
     "output_type": "stream",
     "text": [
      "\r",
      " 40%|████      | 50982/126776 [02:03<04:35, 274.78it/s]"
     ]
    },
    {
     "name": "stderr",
     "output_type": "stream",
     "text": [
      "\r",
      " 40%|████      | 51041/126776 [02:03<03:51, 327.08it/s]"
     ]
    },
    {
     "name": "stderr",
     "output_type": "stream",
     "text": [
      "\r",
      " 40%|████      | 51100/126776 [02:03<03:20, 377.01it/s]"
     ]
    },
    {
     "name": "stderr",
     "output_type": "stream",
     "text": [
      "\r",
      " 40%|████      | 51159/126776 [02:04<02:59, 421.81it/s]"
     ]
    },
    {
     "name": "stderr",
     "output_type": "stream",
     "text": [
      "\r",
      " 40%|████      | 51218/126776 [02:04<02:44, 459.86it/s]"
     ]
    },
    {
     "name": "stderr",
     "output_type": "stream",
     "text": [
      "\r",
      " 40%|████      | 51277/126776 [02:04<02:33, 490.50it/s]"
     ]
    },
    {
     "name": "stderr",
     "output_type": "stream",
     "text": [
      "\r",
      " 40%|████      | 51336/126776 [02:04<02:26, 514.92it/s]"
     ]
    },
    {
     "name": "stderr",
     "output_type": "stream",
     "text": [
      "\r",
      " 41%|████      | 51395/126776 [02:04<02:21, 534.38it/s]"
     ]
    },
    {
     "name": "stderr",
     "output_type": "stream",
     "text": [
      "\r",
      " 41%|████      | 51453/126776 [02:04<02:18, 545.10it/s]"
     ]
    },
    {
     "name": "stderr",
     "output_type": "stream",
     "text": [
      "\r",
      " 41%|████      | 51511/126776 [02:05<04:47, 262.23it/s]"
     ]
    },
    {
     "name": "stderr",
     "output_type": "stream",
     "text": [
      "\r",
      " 41%|████      | 51570/126776 [02:05<03:59, 314.56it/s]"
     ]
    },
    {
     "name": "stderr",
     "output_type": "stream",
     "text": [
      "\r",
      " 41%|████      | 51629/126776 [02:05<03:25, 365.40it/s]"
     ]
    },
    {
     "name": "stderr",
     "output_type": "stream",
     "text": [
      "\r",
      " 41%|████      | 51688/126776 [02:05<03:02, 411.68it/s]"
     ]
    },
    {
     "name": "stderr",
     "output_type": "stream",
     "text": [
      "\r",
      " 41%|████      | 51747/126776 [02:05<02:46, 451.80it/s]"
     ]
    },
    {
     "name": "stderr",
     "output_type": "stream",
     "text": [
      "\r",
      " 41%|████      | 51806/126776 [02:05<02:34, 484.13it/s]"
     ]
    },
    {
     "name": "stderr",
     "output_type": "stream",
     "text": [
      "\r",
      " 41%|████      | 51864/126776 [02:05<02:27, 508.84it/s]"
     ]
    },
    {
     "name": "stderr",
     "output_type": "stream",
     "text": [
      "\r",
      " 41%|████      | 51923/126776 [02:05<02:21, 529.43it/s]"
     ]
    },
    {
     "name": "stderr",
     "output_type": "stream",
     "text": [
      "\r",
      " 41%|████      | 51982/126776 [02:06<04:37, 269.12it/s]"
     ]
    },
    {
     "name": "stderr",
     "output_type": "stream",
     "text": [
      "\r",
      " 41%|████      | 52039/126776 [02:06<03:55, 317.88it/s]"
     ]
    },
    {
     "name": "stderr",
     "output_type": "stream",
     "text": [
      "\r",
      " 41%|████      | 52098/126776 [02:06<03:22, 368.87it/s]"
     ]
    },
    {
     "name": "stderr",
     "output_type": "stream",
     "text": [
      "\r",
      " 41%|████      | 52157/126776 [02:06<02:59, 415.41it/s]"
     ]
    },
    {
     "name": "stderr",
     "output_type": "stream",
     "text": [
      "\r",
      " 41%|████      | 52216/126776 [02:06<02:43, 454.80it/s]"
     ]
    },
    {
     "name": "stderr",
     "output_type": "stream",
     "text": [
      "\r",
      " 41%|████      | 52274/126776 [02:06<02:33, 485.93it/s]"
     ]
    },
    {
     "name": "stderr",
     "output_type": "stream",
     "text": [
      "\r",
      " 41%|████▏     | 52333/126776 [02:06<02:25, 511.44it/s]"
     ]
    },
    {
     "name": "stderr",
     "output_type": "stream",
     "text": [
      "\r",
      " 41%|████▏     | 52392/126776 [02:06<02:20, 530.79it/s]"
     ]
    },
    {
     "name": "stderr",
     "output_type": "stream",
     "text": [
      "\r",
      " 41%|████▏     | 52451/126776 [02:07<02:16, 545.83it/s]"
     ]
    },
    {
     "name": "stderr",
     "output_type": "stream",
     "text": [
      "\r",
      " 41%|████▏     | 52509/126776 [02:07<04:29, 275.56it/s]"
     ]
    },
    {
     "name": "stderr",
     "output_type": "stream",
     "text": [
      "\r",
      " 41%|████▏     | 52568/126776 [02:07<03:46, 327.70it/s]"
     ]
    },
    {
     "name": "stderr",
     "output_type": "stream",
     "text": [
      "\r",
      " 42%|████▏     | 52627/126776 [02:07<03:16, 377.29it/s]"
     ]
    },
    {
     "name": "stderr",
     "output_type": "stream",
     "text": [
      "\r",
      " 42%|████▏     | 52686/126776 [02:07<02:55, 422.19it/s]"
     ]
    },
    {
     "name": "stderr",
     "output_type": "stream",
     "text": [
      "\r",
      " 42%|████▏     | 52745/126776 [02:07<02:40, 460.33it/s]"
     ]
    },
    {
     "name": "stderr",
     "output_type": "stream",
     "text": [
      "\r",
      " 42%|████▏     | 52804/126776 [02:08<02:30, 491.22it/s]"
     ]
    },
    {
     "name": "stderr",
     "output_type": "stream",
     "text": [
      "\r",
      " 42%|████▏     | 52862/126776 [02:08<02:23, 514.39it/s]"
     ]
    },
    {
     "name": "stderr",
     "output_type": "stream",
     "text": [
      "\r",
      " 42%|████▏     | 52921/126776 [02:08<02:18, 533.18it/s]"
     ]
    },
    {
     "name": "stderr",
     "output_type": "stream",
     "text": [
      "\r",
      " 42%|████▏     | 52979/126776 [02:08<02:17, 536.52it/s]"
     ]
    },
    {
     "name": "stderr",
     "output_type": "stream",
     "text": [
      "\r",
      " 42%|████▏     | 53036/126776 [02:08<04:42, 260.85it/s]"
     ]
    },
    {
     "name": "stderr",
     "output_type": "stream",
     "text": [
      "\r",
      " 42%|████▏     | 53089/126776 [02:08<04:02, 304.18it/s]"
     ]
    },
    {
     "name": "stderr",
     "output_type": "stream",
     "text": [
      "\r",
      " 42%|████▏     | 53142/126776 [02:09<03:32, 345.75it/s]"
     ]
    },
    {
     "name": "stderr",
     "output_type": "stream",
     "text": [
      "\r",
      " 42%|████▏     | 53195/126776 [02:09<03:11, 383.72it/s]"
     ]
    },
    {
     "name": "stderr",
     "output_type": "stream",
     "text": [
      "\r",
      " 42%|████▏     | 53248/126776 [02:09<02:56, 416.35it/s]"
     ]
    },
    {
     "name": "stderr",
     "output_type": "stream",
     "text": [
      "\r",
      " 42%|████▏     | 53301/126776 [02:09<02:45, 443.39it/s]"
     ]
    },
    {
     "name": "stderr",
     "output_type": "stream",
     "text": [
      "\r",
      " 42%|████▏     | 53354/126776 [02:09<02:38, 464.24it/s]"
     ]
    },
    {
     "name": "stderr",
     "output_type": "stream",
     "text": [
      "\r",
      " 42%|████▏     | 53412/126776 [02:09<02:28, 493.81it/s]"
     ]
    },
    {
     "name": "stderr",
     "output_type": "stream",
     "text": [
      "\r",
      " 42%|████▏     | 53471/126776 [02:09<02:21, 519.04it/s]"
     ]
    },
    {
     "name": "stderr",
     "output_type": "stream",
     "text": [
      "\r",
      " 42%|████▏     | 53526/126776 [02:10<04:48, 254.05it/s]"
     ]
    },
    {
     "name": "stderr",
     "output_type": "stream",
     "text": [
      "\r",
      " 42%|████▏     | 53579/126776 [02:10<04:05, 298.47it/s]"
     ]
    },
    {
     "name": "stderr",
     "output_type": "stream",
     "text": [
      "\r",
      " 42%|████▏     | 53632/126776 [02:10<03:34, 341.41it/s]"
     ]
    },
    {
     "name": "stderr",
     "output_type": "stream",
     "text": [
      "\r",
      " 42%|████▏     | 53685/126776 [02:10<03:12, 380.51it/s]"
     ]
    },
    {
     "name": "stderr",
     "output_type": "stream",
     "text": [
      "\r",
      " 42%|████▏     | 53738/126776 [02:10<02:56, 414.05it/s]"
     ]
    },
    {
     "name": "stderr",
     "output_type": "stream",
     "text": [
      "\r",
      " 42%|████▏     | 53791/126776 [02:10<02:45, 442.05it/s]"
     ]
    },
    {
     "name": "stderr",
     "output_type": "stream",
     "text": [
      "\r",
      " 42%|████▏     | 53844/126776 [02:10<02:37, 463.89it/s]"
     ]
    },
    {
     "name": "stderr",
     "output_type": "stream",
     "text": [
      "\r",
      " 43%|████▎     | 53897/126776 [02:10<02:31, 480.46it/s]"
     ]
    },
    {
     "name": "stderr",
     "output_type": "stream",
     "text": [
      "\r",
      " 43%|████▎     | 53950/126776 [02:10<02:27, 493.39it/s]"
     ]
    },
    {
     "name": "stderr",
     "output_type": "stream",
     "text": [
      "\r",
      " 43%|████▎     | 54002/126776 [02:11<04:52, 248.74it/s]"
     ]
    },
    {
     "name": "stderr",
     "output_type": "stream",
     "text": [
      "\r",
      " 43%|████▎     | 54061/126776 [02:11<03:58, 305.41it/s]"
     ]
    },
    {
     "name": "stderr",
     "output_type": "stream",
     "text": [
      "\r",
      " 43%|████▎     | 54120/126776 [02:11<03:22, 359.67it/s]"
     ]
    },
    {
     "name": "stderr",
     "output_type": "stream",
     "text": [
      "\r",
      " 43%|████▎     | 54179/126776 [02:11<02:57, 408.07it/s]"
     ]
    },
    {
     "name": "stderr",
     "output_type": "stream",
     "text": [
      "\r",
      " 43%|████▎     | 54238/126776 [02:11<02:41, 449.83it/s]"
     ]
    },
    {
     "name": "stderr",
     "output_type": "stream",
     "text": [
      "\r",
      " 43%|████▎     | 54297/126776 [02:11<02:29, 483.76it/s]"
     ]
    },
    {
     "name": "stderr",
     "output_type": "stream",
     "text": [
      "\r",
      " 43%|████▎     | 54356/126776 [02:11<02:22, 509.66it/s]"
     ]
    },
    {
     "name": "stderr",
     "output_type": "stream",
     "text": [
      "\r",
      " 43%|████▎     | 54413/126776 [02:12<02:19, 518.12it/s]"
     ]
    },
    {
     "name": "stderr",
     "output_type": "stream",
     "text": [
      "\r",
      " 43%|████▎     | 54469/126776 [02:12<02:19, 518.82it/s]"
     ]
    },
    {
     "name": "stderr",
     "output_type": "stream",
     "text": [
      "\r",
      " 43%|████▎     | 54524/126776 [02:12<04:41, 256.74it/s]"
     ]
    },
    {
     "name": "stderr",
     "output_type": "stream",
     "text": [
      "\r",
      " 43%|████▎     | 54583/126776 [02:12<03:52, 310.72it/s]"
     ]
    },
    {
     "name": "stderr",
     "output_type": "stream",
     "text": [
      "\r",
      " 43%|████▎     | 54642/126776 [02:12<03:18, 362.95it/s]"
     ]
    },
    {
     "name": "stderr",
     "output_type": "stream",
     "text": [
      "\r",
      " 43%|████▎     | 54701/126776 [02:12<02:55, 410.63it/s]"
     ]
    },
    {
     "name": "stderr",
     "output_type": "stream",
     "text": [
      "\r",
      " 43%|████▎     | 54760/126776 [02:13<02:39, 451.42it/s]"
     ]
    },
    {
     "name": "stderr",
     "output_type": "stream",
     "text": [
      "\r",
      " 43%|████▎     | 54819/126776 [02:13<02:28, 485.10it/s]"
     ]
    },
    {
     "name": "stderr",
     "output_type": "stream",
     "text": [
      "\r",
      " 43%|████▎     | 54878/126776 [02:13<02:20, 511.23it/s]"
     ]
    },
    {
     "name": "stderr",
     "output_type": "stream",
     "text": [
      "\r",
      " 43%|████▎     | 54935/126776 [02:13<02:17, 520.78it/s]"
     ]
    },
    {
     "name": "stderr",
     "output_type": "stream",
     "text": [
      "\r",
      " 43%|████▎     | 54991/126776 [02:13<02:17, 520.49it/s]"
     ]
    },
    {
     "name": "stderr",
     "output_type": "stream",
     "text": [
      "\r",
      " 43%|████▎     | 55046/126776 [02:14<04:56, 241.71it/s]"
     ]
    },
    {
     "name": "stderr",
     "output_type": "stream",
     "text": [
      "\r",
      " 43%|████▎     | 55100/126776 [02:14<04:09, 287.58it/s]"
     ]
    },
    {
     "name": "stderr",
     "output_type": "stream",
     "text": [
      "\r",
      " 44%|████▎     | 55159/126776 [02:14<03:29, 341.83it/s]"
     ]
    },
    {
     "name": "stderr",
     "output_type": "stream",
     "text": [
      "\r",
      " 44%|████▎     | 55218/126776 [02:14<03:02, 392.28it/s]"
     ]
    },
    {
     "name": "stderr",
     "output_type": "stream",
     "text": [
      "\r",
      " 44%|████▎     | 55277/126776 [02:14<02:43, 436.16it/s]"
     ]
    },
    {
     "name": "stderr",
     "output_type": "stream",
     "text": [
      "\r",
      " 44%|████▎     | 55335/126776 [02:14<02:31, 470.07it/s]"
     ]
    },
    {
     "name": "stderr",
     "output_type": "stream",
     "text": [
      "\r",
      " 44%|████▎     | 55393/126776 [02:14<02:23, 498.08it/s]"
     ]
    },
    {
     "name": "stderr",
     "output_type": "stream",
     "text": [
      "\r",
      " 44%|████▎     | 55452/126776 [02:14<02:16, 522.27it/s]"
     ]
    },
    {
     "name": "stderr",
     "output_type": "stream",
     "text": [
      "\r",
      " 44%|████▍     | 55511/126776 [02:14<02:12, 539.34it/s]"
     ]
    },
    {
     "name": "stderr",
     "output_type": "stream",
     "text": [
      "\r",
      " 44%|████▍     | 55569/126776 [02:15<04:34, 259.53it/s]"
     ]
    },
    {
     "name": "stderr",
     "output_type": "stream",
     "text": [
      "\r",
      " 44%|████▍     | 55628/126776 [02:15<03:47, 312.29it/s]"
     ]
    },
    {
     "name": "stderr",
     "output_type": "stream",
     "text": [
      "\r",
      " 44%|████▍     | 55688/126776 [02:15<03:14, 364.70it/s]"
     ]
    },
    {
     "name": "stderr",
     "output_type": "stream",
     "text": [
      "\r",
      " 44%|████▍     | 55747/126776 [02:15<02:52, 410.77it/s]"
     ]
    },
    {
     "name": "stderr",
     "output_type": "stream",
     "text": [
      "\r",
      " 44%|████▍     | 55806/126776 [02:15<02:37, 451.32it/s]"
     ]
    },
    {
     "name": "stderr",
     "output_type": "stream",
     "text": [
      "\r",
      " 44%|████▍     | 55865/126776 [02:15<02:26, 484.34it/s]"
     ]
    },
    {
     "name": "stderr",
     "output_type": "stream",
     "text": [
      "\r",
      " 44%|████▍     | 55924/126776 [02:15<02:18, 511.04it/s]"
     ]
    },
    {
     "name": "stderr",
     "output_type": "stream",
     "text": [
      "\r",
      " 44%|████▍     | 55983/126776 [02:16<02:13, 531.08it/s]"
     ]
    },
    {
     "name": "stderr",
     "output_type": "stream",
     "text": [
      "\r",
      " 44%|████▍     | 56041/126776 [02:16<04:33, 258.94it/s]"
     ]
    },
    {
     "name": "stderr",
     "output_type": "stream",
     "text": [
      "\r",
      " 44%|████▍     | 56085/126776 [02:16<04:17, 274.72it/s]"
     ]
    },
    {
     "name": "stderr",
     "output_type": "stream",
     "text": [
      "\r",
      " 44%|████▍     | 56126/126776 [02:16<04:40, 252.19it/s]"
     ]
    },
    {
     "name": "stderr",
     "output_type": "stream",
     "text": [
      "\r",
      " 44%|████▍     | 56161/126776 [02:16<04:33, 258.34it/s]"
     ]
    },
    {
     "name": "stderr",
     "output_type": "stream",
     "text": [
      "\r",
      " 44%|████▍     | 56194/126776 [02:17<04:50, 243.12it/s]"
     ]
    },
    {
     "name": "stderr",
     "output_type": "stream",
     "text": [
      "\r",
      " 44%|████▍     | 56223/126776 [02:17<04:39, 252.10it/s]"
     ]
    },
    {
     "name": "stderr",
     "output_type": "stream",
     "text": [
      "\r",
      " 44%|████▍     | 56252/126776 [02:17<04:30, 260.26it/s]"
     ]
    },
    {
     "name": "stderr",
     "output_type": "stream",
     "text": [
      "\r",
      " 44%|████▍     | 56283/126776 [02:17<04:20, 270.28it/s]"
     ]
    },
    {
     "name": "stderr",
     "output_type": "stream",
     "text": [
      "\r",
      " 44%|████▍     | 56313/126776 [02:17<04:16, 274.92it/s]"
     ]
    },
    {
     "name": "stderr",
     "output_type": "stream",
     "text": [
      "\r",
      " 44%|████▍     | 56343/126776 [02:17<04:12, 278.62it/s]"
     ]
    },
    {
     "name": "stderr",
     "output_type": "stream",
     "text": [
      "\r",
      " 44%|████▍     | 56373/126776 [02:17<04:10, 281.44it/s]"
     ]
    },
    {
     "name": "stderr",
     "output_type": "stream",
     "text": [
      "\r",
      " 44%|████▍     | 56405/126776 [02:17<04:01, 290.86it/s]"
     ]
    },
    {
     "name": "stderr",
     "output_type": "stream",
     "text": [
      "\r",
      " 45%|████▍     | 56435/126776 [02:17<04:02, 289.89it/s]"
     ]
    },
    {
     "name": "stderr",
     "output_type": "stream",
     "text": [
      "\r",
      " 45%|████▍     | 56465/126776 [02:18<04:03, 289.14it/s]"
     ]
    },
    {
     "name": "stderr",
     "output_type": "stream",
     "text": [
      "\r",
      " 45%|████▍     | 56495/126776 [02:18<04:03, 288.83it/s]"
     ]
    },
    {
     "name": "stderr",
     "output_type": "stream",
     "text": [
      "\r",
      " 45%|████▍     | 56527/126776 [02:18<09:03, 129.34it/s]"
     ]
    },
    {
     "name": "stderr",
     "output_type": "stream",
     "text": [
      "\r",
      " 45%|████▍     | 56576/126776 [02:18<06:23, 183.21it/s]"
     ]
    },
    {
     "name": "stderr",
     "output_type": "stream",
     "text": [
      "\r",
      " 45%|████▍     | 56606/126776 [02:18<05:49, 200.97it/s]"
     ]
    },
    {
     "name": "stderr",
     "output_type": "stream",
     "text": [
      "\r",
      " 45%|████▍     | 56639/126776 [02:19<05:17, 220.74it/s]"
     ]
    },
    {
     "name": "stderr",
     "output_type": "stream",
     "text": [
      "\r",
      " 45%|████▍     | 56669/126776 [02:19<05:50, 200.27it/s]"
     ]
    },
    {
     "name": "stderr",
     "output_type": "stream",
     "text": [
      "\r",
      " 45%|████▍     | 56695/126776 [02:19<06:19, 184.52it/s]"
     ]
    },
    {
     "name": "stderr",
     "output_type": "stream",
     "text": [
      "\r",
      " 45%|████▍     | 56718/126776 [02:19<06:20, 184.33it/s]"
     ]
    },
    {
     "name": "stderr",
     "output_type": "stream",
     "text": [
      "\r",
      " 45%|████▍     | 56741/126776 [02:19<06:01, 193.66it/s]"
     ]
    },
    {
     "name": "stderr",
     "output_type": "stream",
     "text": [
      "\r",
      " 45%|████▍     | 56766/126776 [02:19<05:40, 205.60it/s]"
     ]
    },
    {
     "name": "stderr",
     "output_type": "stream",
     "text": [
      "\r",
      " 45%|████▍     | 56795/126776 [02:19<05:09, 226.47it/s]"
     ]
    },
    {
     "name": "stderr",
     "output_type": "stream",
     "text": [
      "\r",
      " 45%|████▍     | 56831/126776 [02:19<04:27, 261.57it/s]"
     ]
    },
    {
     "name": "stderr",
     "output_type": "stream",
     "text": [
      "\r",
      " 45%|████▍     | 56866/126776 [02:20<04:06, 283.26it/s]"
     ]
    },
    {
     "name": "stderr",
     "output_type": "stream",
     "text": [
      "\r",
      " 45%|████▍     | 56896/126776 [02:20<05:03, 230.27it/s]"
     ]
    },
    {
     "name": "stderr",
     "output_type": "stream",
     "text": [
      "\r",
      " 45%|████▍     | 56925/126776 [02:20<04:46, 244.20it/s]"
     ]
    },
    {
     "name": "stderr",
     "output_type": "stream",
     "text": [
      "\r",
      " 45%|████▍     | 56954/126776 [02:20<04:33, 255.71it/s]"
     ]
    },
    {
     "name": "stderr",
     "output_type": "stream",
     "text": [
      "\r",
      " 45%|████▍     | 56983/126776 [02:20<04:24, 263.62it/s]"
     ]
    },
    {
     "name": "stderr",
     "output_type": "stream",
     "text": [
      "\r",
      " 45%|████▍     | 57012/126776 [02:20<04:17, 270.46it/s]"
     ]
    },
    {
     "name": "stderr",
     "output_type": "stream",
     "text": [
      "\r",
      " 45%|████▍     | 57040/126776 [02:21<10:05, 115.16it/s]"
     ]
    },
    {
     "name": "stderr",
     "output_type": "stream",
     "text": [
      "\r",
      " 45%|████▌     | 57069/126776 [02:21<08:16, 140.29it/s]"
     ]
    },
    {
     "name": "stderr",
     "output_type": "stream",
     "text": [
      "\r",
      " 45%|████▌     | 57098/126776 [02:21<07:00, 165.56it/s]"
     ]
    },
    {
     "name": "stderr",
     "output_type": "stream",
     "text": [
      "\r",
      " 45%|████▌     | 57127/126776 [02:21<06:07, 189.72it/s]"
     ]
    },
    {
     "name": "stderr",
     "output_type": "stream",
     "text": [
      "\r",
      " 45%|████▌     | 57168/126776 [02:21<04:53, 237.29it/s]"
     ]
    },
    {
     "name": "stderr",
     "output_type": "stream",
     "text": [
      "\r",
      " 45%|████▌     | 57222/126776 [02:21<03:45, 308.65it/s]"
     ]
    },
    {
     "name": "stderr",
     "output_type": "stream",
     "text": [
      "\r",
      " 45%|████▌     | 57280/126776 [02:21<03:04, 377.08it/s]"
     ]
    },
    {
     "name": "stderr",
     "output_type": "stream",
     "text": [
      "\r",
      " 45%|████▌     | 57324/126776 [02:21<03:26, 336.31it/s]"
     ]
    },
    {
     "name": "stderr",
     "output_type": "stream",
     "text": [
      "\r",
      " 45%|████▌     | 57363/126776 [02:22<03:34, 323.68it/s]"
     ]
    },
    {
     "name": "stderr",
     "output_type": "stream",
     "text": [
      "\r",
      " 45%|████▌     | 57421/126776 [02:22<02:59, 385.41it/s]"
     ]
    },
    {
     "name": "stderr",
     "output_type": "stream",
     "text": [
      "\r",
      " 45%|████▌     | 57464/126776 [02:22<03:33, 324.57it/s]"
     ]
    },
    {
     "name": "stderr",
     "output_type": "stream",
     "text": [
      "\r",
      " 45%|████▌     | 57505/126776 [02:22<03:21, 343.23it/s]"
     ]
    },
    {
     "name": "stderr",
     "output_type": "stream",
     "text": [
      "\r",
      " 45%|████▌     | 57549/126776 [02:23<06:15, 184.55it/s]"
     ]
    },
    {
     "name": "stderr",
     "output_type": "stream",
     "text": [
      "\r",
      " 45%|████▌     | 57608/126776 [02:23<04:41, 245.38it/s]"
     ]
    },
    {
     "name": "stderr",
     "output_type": "stream",
     "text": [
      "\r",
      " 45%|████▌     | 57666/126776 [02:23<03:46, 304.49it/s]"
     ]
    },
    {
     "name": "stderr",
     "output_type": "stream",
     "text": [
      "\r",
      " 46%|████▌     | 57725/126776 [02:23<03:11, 361.17it/s]"
     ]
    },
    {
     "name": "stderr",
     "output_type": "stream",
     "text": [
      "\r",
      " 46%|████▌     | 57784/126776 [02:23<02:47, 411.04it/s]"
     ]
    },
    {
     "name": "stderr",
     "output_type": "stream",
     "text": [
      "\r",
      " 46%|████▌     | 57838/126776 [02:23<02:36, 441.50it/s]"
     ]
    },
    {
     "name": "stderr",
     "output_type": "stream",
     "text": [
      "\r",
      " 46%|████▌     | 57896/126776 [02:23<02:24, 475.71it/s]"
     ]
    },
    {
     "name": "stderr",
     "output_type": "stream",
     "text": [
      "\r",
      " 46%|████▌     | 57950/126776 [02:23<02:19, 492.75it/s]"
     ]
    },
    {
     "name": "stderr",
     "output_type": "stream",
     "text": [
      "\r",
      " 46%|████▌     | 58006/126776 [02:23<02:14, 510.85it/s]"
     ]
    },
    {
     "name": "stderr",
     "output_type": "stream",
     "text": [
      "\r",
      " 46%|████▌     | 58065/126776 [02:23<02:09, 530.72it/s]"
     ]
    },
    {
     "name": "stderr",
     "output_type": "stream",
     "text": [
      "\r",
      " 46%|████▌     | 58121/126776 [02:24<04:38, 246.63it/s]"
     ]
    },
    {
     "name": "stderr",
     "output_type": "stream",
     "text": [
      "\r",
      " 46%|████▌     | 58179/126776 [02:24<03:49, 298.66it/s]"
     ]
    },
    {
     "name": "stderr",
     "output_type": "stream",
     "text": [
      "\r",
      " 46%|████▌     | 58238/126776 [02:24<03:15, 351.18it/s]"
     ]
    },
    {
     "name": "stderr",
     "output_type": "stream",
     "text": [
      "\r",
      " 46%|████▌     | 58297/126776 [02:24<02:51, 399.45it/s]"
     ]
    },
    {
     "name": "stderr",
     "output_type": "stream",
     "text": [
      "\r",
      " 46%|████▌     | 58350/126776 [02:24<02:59, 381.96it/s]"
     ]
    },
    {
     "name": "stderr",
     "output_type": "stream",
     "text": [
      "\r",
      " 46%|████▌     | 58398/126776 [02:25<02:58, 383.56it/s]"
     ]
    },
    {
     "name": "stderr",
     "output_type": "stream",
     "text": [
      "\r",
      " 46%|████▌     | 58457/126776 [02:25<02:38, 430.16it/s]"
     ]
    },
    {
     "name": "stderr",
     "output_type": "stream",
     "text": [
      "\r",
      " 46%|████▌     | 58516/126776 [02:25<02:25, 468.18it/s]"
     ]
    },
    {
     "name": "stderr",
     "output_type": "stream",
     "text": [
      "\r",
      " 46%|████▌     | 58568/126776 [02:25<02:23, 475.80it/s]"
     ]
    },
    {
     "name": "stderr",
     "output_type": "stream",
     "text": [
      "\r",
      " 46%|████▌     | 58619/126776 [02:25<05:05, 223.33it/s]"
     ]
    },
    {
     "name": "stderr",
     "output_type": "stream",
     "text": [
      "\r",
      " 46%|████▋     | 58678/126776 [02:25<04:04, 277.96it/s]"
     ]
    },
    {
     "name": "stderr",
     "output_type": "stream",
     "text": [
      "\r",
      " 46%|████▋     | 58737/126776 [02:26<03:24, 332.53it/s]"
     ]
    },
    {
     "name": "stderr",
     "output_type": "stream",
     "text": [
      "\r",
      " 46%|████▋     | 58795/126776 [02:26<02:58, 381.34it/s]"
     ]
    },
    {
     "name": "stderr",
     "output_type": "stream",
     "text": [
      "\r",
      " 46%|████▋     | 58853/126776 [02:26<02:39, 424.95it/s]"
     ]
    },
    {
     "name": "stderr",
     "output_type": "stream",
     "text": [
      "\r",
      " 46%|████▋     | 58911/126776 [02:26<02:26, 462.29it/s]"
     ]
    },
    {
     "name": "stderr",
     "output_type": "stream",
     "text": [
      "\r",
      " 47%|████▋     | 58969/126776 [02:26<02:17, 492.32it/s]"
     ]
    },
    {
     "name": "stderr",
     "output_type": "stream",
     "text": [
      "\r",
      " 47%|████▋     | 59027/126776 [02:26<02:11, 515.12it/s]"
     ]
    },
    {
     "name": "stderr",
     "output_type": "stream",
     "text": [
      "\r",
      " 47%|████▋     | 59085/126776 [02:26<02:07, 532.95it/s]"
     ]
    },
    {
     "name": "stderr",
     "output_type": "stream",
     "text": [
      "\r",
      " 47%|████▋     | 59142/126776 [02:27<04:32, 248.26it/s]"
     ]
    },
    {
     "name": "stderr",
     "output_type": "stream",
     "text": [
      "\r",
      " 47%|████▋     | 59200/126776 [02:27<03:45, 299.97it/s]"
     ]
    },
    {
     "name": "stderr",
     "output_type": "stream",
     "text": [
      "\r",
      " 47%|████▋     | 59259/126776 [02:27<03:11, 351.96it/s]"
     ]
    },
    {
     "name": "stderr",
     "output_type": "stream",
     "text": [
      "\r",
      " 47%|████▋     | 59318/126776 [02:27<02:48, 400.10it/s]"
     ]
    },
    {
     "name": "stderr",
     "output_type": "stream",
     "text": [
      "\r",
      " 47%|████▋     | 59376/126776 [02:27<02:32, 440.57it/s]"
     ]
    },
    {
     "name": "stderr",
     "output_type": "stream",
     "text": [
      "\r",
      " 47%|████▋     | 59434/126776 [02:27<02:21, 474.52it/s]"
     ]
    },
    {
     "name": "stderr",
     "output_type": "stream",
     "text": [
      "\r",
      " 47%|████▋     | 59493/126776 [02:27<02:13, 502.26it/s]"
     ]
    },
    {
     "name": "stderr",
     "output_type": "stream",
     "text": [
      "\r",
      " 47%|████▋     | 59552/126776 [02:27<02:08, 523.82it/s]"
     ]
    },
    {
     "name": "stderr",
     "output_type": "stream",
     "text": [
      "\r",
      " 47%|████▋     | 59611/126776 [02:27<02:04, 540.27it/s]"
     ]
    },
    {
     "name": "stderr",
     "output_type": "stream",
     "text": [
      "\r",
      " 47%|████▋     | 59669/126776 [02:28<04:28, 250.08it/s]"
     ]
    },
    {
     "name": "stderr",
     "output_type": "stream",
     "text": [
      "\r",
      " 47%|████▋     | 59728/126776 [02:28<03:41, 302.09it/s]"
     ]
    },
    {
     "name": "stderr",
     "output_type": "stream",
     "text": [
      "\r",
      " 47%|████▋     | 59787/126776 [02:28<03:09, 353.40it/s]"
     ]
    },
    {
     "name": "stderr",
     "output_type": "stream",
     "text": [
      "\r",
      " 47%|████▋     | 59846/126776 [02:28<02:46, 400.93it/s]"
     ]
    },
    {
     "name": "stderr",
     "output_type": "stream",
     "text": [
      "\r",
      " 47%|████▋     | 59905/126776 [02:28<02:31, 442.58it/s]"
     ]
    },
    {
     "name": "stderr",
     "output_type": "stream",
     "text": [
      "\r",
      " 47%|████▋     | 59964/126776 [02:29<02:20, 477.06it/s]"
     ]
    },
    {
     "name": "stderr",
     "output_type": "stream",
     "text": [
      "\r",
      " 47%|████▋     | 60022/126776 [02:29<02:12, 503.38it/s]"
     ]
    },
    {
     "name": "stderr",
     "output_type": "stream",
     "text": [
      "\r",
      " 47%|████▋     | 60081/126776 [02:29<02:07, 524.33it/s]"
     ]
    },
    {
     "name": "stderr",
     "output_type": "stream",
     "text": [
      "\r",
      " 47%|████▋     | 60138/126776 [02:29<04:26, 250.41it/s]"
     ]
    },
    {
     "name": "stderr",
     "output_type": "stream",
     "text": [
      "\r",
      " 47%|████▋     | 60196/126776 [02:29<03:40, 301.41it/s]"
     ]
    },
    {
     "name": "stderr",
     "output_type": "stream",
     "text": [
      "\r",
      " 48%|████▊     | 60255/126776 [02:29<03:08, 353.02it/s]"
     ]
    },
    {
     "name": "stderr",
     "output_type": "stream",
     "text": [
      "\r",
      " 48%|████▊     | 60314/126776 [02:30<02:45, 400.93it/s]"
     ]
    },
    {
     "name": "stderr",
     "output_type": "stream",
     "text": [
      "\r",
      " 48%|████▊     | 60372/126776 [02:30<02:30, 440.71it/s]"
     ]
    },
    {
     "name": "stderr",
     "output_type": "stream",
     "text": [
      "\r",
      " 48%|████▊     | 60431/126776 [02:30<02:19, 476.11it/s]"
     ]
    },
    {
     "name": "stderr",
     "output_type": "stream",
     "text": [
      "\r",
      " 48%|████▊     | 60490/126776 [02:30<02:11, 503.41it/s]"
     ]
    },
    {
     "name": "stderr",
     "output_type": "stream",
     "text": [
      "\r",
      " 48%|████▊     | 60549/126776 [02:30<02:06, 524.76it/s]"
     ]
    },
    {
     "name": "stderr",
     "output_type": "stream",
     "text": [
      "\r",
      " 48%|████▊     | 60608/126776 [02:30<02:02, 541.07it/s]"
     ]
    },
    {
     "name": "stderr",
     "output_type": "stream",
     "text": [
      "\r",
      " 48%|████▊     | 60666/126776 [02:31<04:22, 251.78it/s]"
     ]
    },
    {
     "name": "stderr",
     "output_type": "stream",
     "text": [
      "\r",
      " 48%|████▊     | 60725/126776 [02:31<03:37, 303.71it/s]"
     ]
    },
    {
     "name": "stderr",
     "output_type": "stream",
     "text": [
      "\r",
      " 48%|████▊     | 60783/126776 [02:31<03:06, 353.73it/s]"
     ]
    },
    {
     "name": "stderr",
     "output_type": "stream",
     "text": [
      "\r",
      " 48%|████▊     | 60842/126776 [02:31<02:44, 401.14it/s]"
     ]
    },
    {
     "name": "stderr",
     "output_type": "stream",
     "text": [
      "\r",
      " 48%|████▊     | 60901/126776 [02:31<02:28, 442.44it/s]"
     ]
    },
    {
     "name": "stderr",
     "output_type": "stream",
     "text": [
      "\r",
      " 48%|████▊     | 60960/126776 [02:31<02:17, 476.95it/s]"
     ]
    },
    {
     "name": "stderr",
     "output_type": "stream",
     "text": [
      "\r",
      " 48%|████▊     | 61019/126776 [02:31<02:10, 504.65it/s]"
     ]
    },
    {
     "name": "stderr",
     "output_type": "stream",
     "text": [
      "\r",
      " 48%|████▊     | 61078/126776 [02:31<02:04, 525.68it/s]"
     ]
    },
    {
     "name": "stderr",
     "output_type": "stream",
     "text": [
      "\r",
      " 48%|████▊     | 61137/126776 [02:31<02:01, 541.85it/s]"
     ]
    },
    {
     "name": "stderr",
     "output_type": "stream",
     "text": [
      "\r",
      " 48%|████▊     | 61195/126776 [02:32<04:20, 251.51it/s]"
     ]
    },
    {
     "name": "stderr",
     "output_type": "stream",
     "text": [
      "\r",
      " 48%|████▊     | 61254/126776 [02:32<03:35, 303.58it/s]"
     ]
    },
    {
     "name": "stderr",
     "output_type": "stream",
     "text": [
      "\r",
      " 48%|████▊     | 61313/126776 [02:32<03:04, 355.02it/s]"
     ]
    },
    {
     "name": "stderr",
     "output_type": "stream",
     "text": [
      "\r",
      " 48%|████▊     | 61372/126776 [02:32<02:42, 402.55it/s]"
     ]
    },
    {
     "name": "stderr",
     "output_type": "stream",
     "text": [
      "\r",
      " 48%|████▊     | 61431/126776 [02:32<02:26, 444.56it/s]"
     ]
    },
    {
     "name": "stderr",
     "output_type": "stream",
     "text": [
      "\r",
      " 49%|████▊     | 61490/126776 [02:32<02:16, 479.18it/s]"
     ]
    },
    {
     "name": "stderr",
     "output_type": "stream",
     "text": [
      "\r",
      " 49%|████▊     | 61549/126776 [02:32<02:08, 506.61it/s]"
     ]
    },
    {
     "name": "stderr",
     "output_type": "stream",
     "text": [
      "\r",
      " 49%|████▊     | 61608/126776 [02:33<02:03, 527.00it/s]"
     ]
    },
    {
     "name": "stderr",
     "output_type": "stream",
     "text": [
      "\r",
      " 49%|████▊     | 61667/126776 [02:33<02:00, 542.55it/s]"
     ]
    },
    {
     "name": "stderr",
     "output_type": "stream",
     "text": [
      "\r",
      " 49%|████▊     | 61725/126776 [02:33<04:19, 250.57it/s]"
     ]
    },
    {
     "name": "stderr",
     "output_type": "stream",
     "text": [
      "\r",
      " 49%|████▊     | 61783/126776 [02:33<03:35, 301.34it/s]"
     ]
    },
    {
     "name": "stderr",
     "output_type": "stream",
     "text": [
      "\r",
      " 49%|████▉     | 61842/126776 [02:33<03:04, 352.66it/s]"
     ]
    },
    {
     "name": "stderr",
     "output_type": "stream",
     "text": [
      "\r",
      " 49%|████▉     | 61901/126776 [02:34<02:42, 400.43it/s]"
     ]
    },
    {
     "name": "stderr",
     "output_type": "stream",
     "text": [
      "\r",
      " 49%|████▉     | 61959/126776 [02:34<02:27, 440.60it/s]"
     ]
    },
    {
     "name": "stderr",
     "output_type": "stream",
     "text": [
      "\r",
      " 49%|████▉     | 62018/126776 [02:34<02:16, 475.63it/s]"
     ]
    },
    {
     "name": "stderr",
     "output_type": "stream",
     "text": [
      "\r",
      " 49%|████▉     | 62077/126776 [02:34<02:08, 504.05it/s]"
     ]
    },
    {
     "name": "stderr",
     "output_type": "stream",
     "text": [
      "\r",
      " 49%|████▉     | 62136/126776 [02:34<02:03, 525.10it/s]"
     ]
    },
    {
     "name": "stderr",
     "output_type": "stream",
     "text": [
      "\r",
      " 49%|████▉     | 62195/126776 [02:34<01:59, 541.07it/s]"
     ]
    },
    {
     "name": "stderr",
     "output_type": "stream",
     "text": [
      "\r",
      " 49%|████▉     | 62253/126776 [02:35<04:19, 248.24it/s]"
     ]
    },
    {
     "name": "stderr",
     "output_type": "stream",
     "text": [
      "\r",
      " 49%|████▉     | 62312/126776 [02:35<03:34, 300.26it/s]"
     ]
    },
    {
     "name": "stderr",
     "output_type": "stream",
     "text": [
      "\r",
      " 49%|████▉     | 62371/126776 [02:35<03:03, 351.68it/s]"
     ]
    },
    {
     "name": "stderr",
     "output_type": "stream",
     "text": [
      "\r",
      " 49%|████▉     | 62430/126776 [02:35<02:41, 399.58it/s]"
     ]
    },
    {
     "name": "stderr",
     "output_type": "stream",
     "text": [
      "\r",
      " 49%|████▉     | 62489/126776 [02:35<02:25, 441.38it/s]"
     ]
    },
    {
     "name": "stderr",
     "output_type": "stream",
     "text": [
      "\r",
      " 49%|████▉     | 62548/126776 [02:35<02:14, 476.63it/s]"
     ]
    },
    {
     "name": "stderr",
     "output_type": "stream",
     "text": [
      "\r",
      " 49%|████▉     | 62607/126776 [02:35<02:07, 504.01it/s]"
     ]
    },
    {
     "name": "stderr",
     "output_type": "stream",
     "text": [
      "\r",
      " 49%|████▉     | 62666/126776 [02:35<02:02, 525.28it/s]"
     ]
    },
    {
     "name": "stderr",
     "output_type": "stream",
     "text": [
      "\r",
      " 49%|████▉     | 62724/126776 [02:36<04:24, 242.60it/s]"
     ]
    },
    {
     "name": "stderr",
     "output_type": "stream",
     "text": [
      "\r",
      " 50%|████▉     | 62779/126776 [02:36<03:41, 288.48it/s]"
     ]
    },
    {
     "name": "stderr",
     "output_type": "stream",
     "text": [
      "\r",
      " 50%|████▉     | 62837/126776 [02:36<03:08, 339.61it/s]"
     ]
    },
    {
     "name": "stderr",
     "output_type": "stream",
     "text": [
      "\r",
      " 50%|████▉     | 62894/126776 [02:36<02:45, 385.75it/s]"
     ]
    },
    {
     "name": "stderr",
     "output_type": "stream",
     "text": [
      "\r",
      " 50%|████▉     | 62950/126776 [02:36<02:30, 424.11it/s]"
     ]
    },
    {
     "name": "stderr",
     "output_type": "stream",
     "text": [
      "\r",
      " 50%|████▉     | 63009/126776 [02:36<02:17, 463.07it/s]"
     ]
    },
    {
     "name": "stderr",
     "output_type": "stream",
     "text": [
      "\r",
      " 50%|████▉     | 63068/126776 [02:36<02:08, 494.36it/s]"
     ]
    },
    {
     "name": "stderr",
     "output_type": "stream",
     "text": [
      "\r",
      " 50%|████▉     | 63126/126776 [02:37<02:03, 517.16it/s]"
     ]
    },
    {
     "name": "stderr",
     "output_type": "stream",
     "text": [
      "\r",
      " 50%|████▉     | 63185/126776 [02:37<01:58, 535.04it/s]"
     ]
    },
    {
     "name": "stderr",
     "output_type": "stream",
     "text": [
      "\r",
      " 50%|████▉     | 63242/126776 [02:37<04:20, 243.80it/s]"
     ]
    },
    {
     "name": "stderr",
     "output_type": "stream",
     "text": [
      "\r",
      " 50%|████▉     | 63301/126776 [02:37<03:34, 296.12it/s]"
     ]
    },
    {
     "name": "stderr",
     "output_type": "stream",
     "text": [
      "\r",
      " 50%|████▉     | 63359/126776 [02:37<03:02, 346.82it/s]"
     ]
    },
    {
     "name": "stderr",
     "output_type": "stream",
     "text": [
      "\r",
      " 50%|█████     | 63418/126776 [02:37<02:40, 395.59it/s]"
     ]
    },
    {
     "name": "stderr",
     "output_type": "stream",
     "text": [
      "\r",
      " 50%|█████     | 63477/126776 [02:38<02:24, 438.49it/s]"
     ]
    },
    {
     "name": "stderr",
     "output_type": "stream",
     "text": [
      "\r",
      " 50%|█████     | 63535/126776 [02:38<02:14, 471.70it/s]"
     ]
    },
    {
     "name": "stderr",
     "output_type": "stream",
     "text": [
      "\r",
      " 50%|█████     | 63594/126776 [02:38<02:06, 500.58it/s]"
     ]
    },
    {
     "name": "stderr",
     "output_type": "stream",
     "text": [
      "\r",
      " 50%|█████     | 63653/126776 [02:38<02:00, 523.19it/s]"
     ]
    },
    {
     "name": "stderr",
     "output_type": "stream",
     "text": [
      "\r",
      " 50%|█████     | 63711/126776 [02:38<01:57, 538.70it/s]"
     ]
    },
    {
     "name": "stderr",
     "output_type": "stream",
     "text": [
      "\r",
      " 50%|█████     | 63769/126776 [02:39<04:19, 243.05it/s]"
     ]
    },
    {
     "name": "stderr",
     "output_type": "stream",
     "text": [
      "\r",
      " 50%|█████     | 63828/126776 [02:39<03:33, 295.02it/s]"
     ]
    },
    {
     "name": "stderr",
     "output_type": "stream",
     "text": [
      "\r",
      " 50%|█████     | 63887/126776 [02:39<03:01, 346.65it/s]"
     ]
    },
    {
     "name": "stderr",
     "output_type": "stream",
     "text": [
      "\r",
      " 50%|█████     | 63946/126776 [02:39<02:38, 395.32it/s]"
     ]
    },
    {
     "name": "stderr",
     "output_type": "stream",
     "text": [
      "\r",
      " 50%|█████     | 64005/126776 [02:39<02:23, 437.84it/s]"
     ]
    },
    {
     "name": "stderr",
     "output_type": "stream",
     "text": [
      "\r",
      " 51%|█████     | 64064/126776 [02:39<02:12, 473.10it/s]"
     ]
    },
    {
     "name": "stderr",
     "output_type": "stream",
     "text": [
      "\r",
      " 51%|█████     | 64123/126776 [02:39<02:04, 501.89it/s]"
     ]
    },
    {
     "name": "stderr",
     "output_type": "stream",
     "text": [
      "\r",
      " 51%|█████     | 64182/126776 [02:39<01:59, 523.60it/s]"
     ]
    },
    {
     "name": "stderr",
     "output_type": "stream",
     "text": [
      "\r",
      " 51%|█████     | 64240/126776 [02:39<01:56, 538.14it/s]"
     ]
    },
    {
     "name": "stderr",
     "output_type": "stream",
     "text": [
      "\r",
      " 51%|█████     | 64298/126776 [02:40<04:17, 242.58it/s]"
     ]
    },
    {
     "name": "stderr",
     "output_type": "stream",
     "text": [
      "\r",
      " 51%|█████     | 64357/126776 [02:40<03:31, 294.57it/s]"
     ]
    },
    {
     "name": "stderr",
     "output_type": "stream",
     "text": [
      "\r",
      " 51%|█████     | 64416/126776 [02:40<03:00, 346.17it/s]"
     ]
    },
    {
     "name": "stderr",
     "output_type": "stream",
     "text": [
      "\r",
      " 51%|█████     | 64475/126776 [02:40<02:38, 394.23it/s]"
     ]
    },
    {
     "name": "stderr",
     "output_type": "stream",
     "text": [
      "\r",
      " 51%|█████     | 64534/126776 [02:40<02:22, 436.44it/s]"
     ]
    },
    {
     "name": "stderr",
     "output_type": "stream",
     "text": [
      "\r",
      " 51%|█████     | 64592/126776 [02:40<02:12, 470.84it/s]"
     ]
    },
    {
     "name": "stderr",
     "output_type": "stream",
     "text": [
      "\r",
      " 51%|█████     | 64651/126776 [02:40<02:04, 499.81it/s]"
     ]
    },
    {
     "name": "stderr",
     "output_type": "stream",
     "text": [
      "\r",
      " 51%|█████     | 64710/126776 [02:41<01:58, 522.41it/s]"
     ]
    },
    {
     "name": "stderr",
     "output_type": "stream",
     "text": [
      "\r",
      " 51%|█████     | 64769/126776 [02:41<01:55, 539.16it/s]"
     ]
    },
    {
     "name": "stderr",
     "output_type": "stream",
     "text": [
      "\r",
      " 51%|█████     | 64827/126776 [02:41<04:19, 238.91it/s]"
     ]
    },
    {
     "name": "stderr",
     "output_type": "stream",
     "text": [
      "\r",
      " 51%|█████     | 64885/126776 [02:41<03:34, 289.17it/s]"
     ]
    },
    {
     "name": "stderr",
     "output_type": "stream",
     "text": [
      "\r",
      " 51%|█████     | 64944/126776 [02:41<03:01, 340.84it/s]"
     ]
    },
    {
     "name": "stderr",
     "output_type": "stream",
     "text": [
      "\r",
      " 51%|█████▏    | 65003/126776 [02:42<02:38, 389.75it/s]"
     ]
    },
    {
     "name": "stderr",
     "output_type": "stream",
     "text": [
      "\r",
      " 51%|█████▏    | 65061/126776 [02:42<02:23, 431.34it/s]"
     ]
    },
    {
     "name": "stderr",
     "output_type": "stream",
     "text": [
      "\r",
      " 51%|█████▏    | 65120/126776 [02:42<02:11, 468.09it/s]"
     ]
    },
    {
     "name": "stderr",
     "output_type": "stream",
     "text": [
      "\r",
      " 51%|█████▏    | 65179/126776 [02:42<02:03, 497.71it/s]"
     ]
    },
    {
     "name": "stderr",
     "output_type": "stream",
     "text": [
      "\r",
      " 51%|█████▏    | 65237/126776 [02:42<01:58, 517.95it/s]"
     ]
    },
    {
     "name": "stderr",
     "output_type": "stream",
     "text": [
      "\r",
      " 52%|█████▏    | 65295/126776 [02:42<01:55, 533.42it/s]"
     ]
    },
    {
     "name": "stderr",
     "output_type": "stream",
     "text": [
      "\r",
      " 52%|█████▏    | 65352/126776 [02:43<04:32, 225.18it/s]"
     ]
    },
    {
     "name": "stderr",
     "output_type": "stream",
     "text": [
      "\r",
      " 52%|█████▏    | 65410/126776 [02:43<03:42, 275.27it/s]"
     ]
    },
    {
     "name": "stderr",
     "output_type": "stream",
     "text": [
      "\r",
      " 52%|█████▏    | 65468/126776 [02:43<03:07, 326.78it/s]"
     ]
    },
    {
     "name": "stderr",
     "output_type": "stream",
     "text": [
      "\r",
      " 52%|█████▏    | 65527/126776 [02:43<02:42, 377.04it/s]"
     ]
    },
    {
     "name": "stderr",
     "output_type": "stream",
     "text": [
      "\r",
      " 52%|█████▏    | 65585/126776 [02:43<02:25, 421.06it/s]"
     ]
    },
    {
     "name": "stderr",
     "output_type": "stream",
     "text": [
      "\r",
      " 52%|█████▏    | 65643/126776 [02:43<02:13, 458.49it/s]"
     ]
    },
    {
     "name": "stderr",
     "output_type": "stream",
     "text": [
      "\r",
      " 52%|█████▏    | 65702/126776 [02:43<02:04, 489.90it/s]"
     ]
    },
    {
     "name": "stderr",
     "output_type": "stream",
     "text": [
      "\r",
      " 52%|█████▏    | 65761/126776 [02:43<01:58, 514.67it/s]"
     ]
    },
    {
     "name": "stderr",
     "output_type": "stream",
     "text": [
      "\r",
      " 52%|█████▏    | 65819/126776 [02:43<01:54, 531.96it/s]"
     ]
    },
    {
     "name": "stderr",
     "output_type": "stream",
     "text": [
      "\r",
      " 52%|█████▏    | 65877/126776 [02:44<01:51, 545.13it/s]"
     ]
    },
    {
     "name": "stderr",
     "output_type": "stream",
     "text": [
      "\r",
      " 52%|█████▏    | 65935/126776 [02:44<04:17, 236.22it/s]"
     ]
    },
    {
     "name": "stderr",
     "output_type": "stream",
     "text": [
      "\r",
      " 52%|█████▏    | 65979/126776 [02:44<04:02, 250.34it/s]"
     ]
    },
    {
     "name": "stderr",
     "output_type": "stream",
     "text": [
      "\r",
      " 52%|█████▏    | 66019/126776 [02:44<03:54, 258.85it/s]"
     ]
    },
    {
     "name": "stderr",
     "output_type": "stream",
     "text": [
      "\r",
      " 52%|█████▏    | 66056/126776 [02:45<03:48, 265.56it/s]"
     ]
    },
    {
     "name": "stderr",
     "output_type": "stream",
     "text": [
      "\r",
      " 52%|█████▏    | 66091/126776 [02:45<03:44, 270.72it/s]"
     ]
    },
    {
     "name": "stderr",
     "output_type": "stream",
     "text": [
      "\r",
      " 52%|█████▏    | 66124/126776 [02:45<03:40, 274.94it/s]"
     ]
    },
    {
     "name": "stderr",
     "output_type": "stream",
     "text": [
      "\r",
      " 52%|█████▏    | 66156/126776 [02:45<03:37, 278.38it/s]"
     ]
    },
    {
     "name": "stderr",
     "output_type": "stream",
     "text": [
      "\r",
      " 52%|█████▏    | 66187/126776 [02:45<03:35, 280.95it/s]"
     ]
    },
    {
     "name": "stderr",
     "output_type": "stream",
     "text": [
      "\r",
      " 52%|█████▏    | 66218/126776 [02:45<03:34, 282.89it/s]"
     ]
    },
    {
     "name": "stderr",
     "output_type": "stream",
     "text": [
      "\r",
      " 52%|█████▏    | 66248/126776 [02:45<03:32, 284.81it/s]"
     ]
    },
    {
     "name": "stderr",
     "output_type": "stream",
     "text": [
      "\r",
      " 52%|█████▏    | 66278/126776 [02:45<03:31, 285.75it/s]"
     ]
    },
    {
     "name": "stderr",
     "output_type": "stream",
     "text": [
      "\r",
      " 52%|█████▏    | 66316/126776 [02:45<03:14, 311.56it/s]"
     ]
    },
    {
     "name": "stderr",
     "output_type": "stream",
     "text": [
      "\r",
      " 52%|█████▏    | 66375/126776 [02:46<02:35, 389.16it/s]"
     ]
    },
    {
     "name": "stderr",
     "output_type": "stream",
     "text": [
      "\r",
      " 52%|█████▏    | 66415/126776 [02:46<06:46, 148.66it/s]"
     ]
    },
    {
     "name": "stderr",
     "output_type": "stream",
     "text": [
      "\r",
      " 52%|█████▏    | 66445/126776 [02:46<05:59, 168.00it/s]"
     ]
    },
    {
     "name": "stderr",
     "output_type": "stream",
     "text": [
      "\r",
      " 52%|█████▏    | 66475/126776 [02:46<05:20, 187.99it/s]"
     ]
    },
    {
     "name": "stderr",
     "output_type": "stream",
     "text": [
      "\r",
      " 52%|█████▏    | 66505/126776 [02:46<04:50, 207.16it/s]"
     ]
    },
    {
     "name": "stderr",
     "output_type": "stream",
     "text": [
      "\r",
      " 52%|█████▏    | 66535/126776 [02:47<04:28, 224.55it/s]"
     ]
    },
    {
     "name": "stderr",
     "output_type": "stream",
     "text": [
      "\r",
      " 53%|█████▎    | 66565/126776 [02:47<04:11, 239.76it/s]"
     ]
    },
    {
     "name": "stderr",
     "output_type": "stream",
     "text": [
      "\r",
      " 53%|█████▎    | 66594/126776 [02:47<03:59, 251.59it/s]"
     ]
    },
    {
     "name": "stderr",
     "output_type": "stream",
     "text": [
      "\r",
      " 53%|█████▎    | 66644/126776 [02:47<03:11, 314.51it/s]"
     ]
    },
    {
     "name": "stderr",
     "output_type": "stream",
     "text": [
      "\r",
      " 53%|█████▎    | 66700/126776 [02:47<02:38, 380.22it/s]"
     ]
    },
    {
     "name": "stderr",
     "output_type": "stream",
     "text": [
      "\r",
      " 53%|█████▎    | 66742/126776 [02:47<02:53, 345.84it/s]"
     ]
    },
    {
     "name": "stderr",
     "output_type": "stream",
     "text": [
      "\r",
      " 53%|█████▎    | 66780/126776 [02:47<03:02, 328.56it/s]"
     ]
    },
    {
     "name": "stderr",
     "output_type": "stream",
     "text": [
      "\r",
      " 53%|█████▎    | 66839/126776 [02:47<02:31, 394.35it/s]"
     ]
    },
    {
     "name": "stderr",
     "output_type": "stream",
     "text": [
      "\r",
      " 53%|█████▎    | 66881/126776 [02:48<02:34, 386.49it/s]"
     ]
    },
    {
     "name": "stderr",
     "output_type": "stream",
     "text": [
      "\r",
      " 53%|█████▎    | 66922/126776 [02:48<02:39, 374.52it/s]"
     ]
    },
    {
     "name": "stderr",
     "output_type": "stream",
     "text": [
      "\r",
      " 53%|█████▎    | 66961/126776 [02:48<06:19, 157.63it/s]"
     ]
    },
    {
     "name": "stderr",
     "output_type": "stream",
     "text": [
      "\r",
      " 53%|█████▎    | 67020/126776 [02:48<04:35, 216.70it/s]"
     ]
    },
    {
     "name": "stderr",
     "output_type": "stream",
     "text": [
      "\r",
      " 53%|█████▎    | 67079/126776 [02:48<03:35, 277.49it/s]"
     ]
    },
    {
     "name": "stderr",
     "output_type": "stream",
     "text": [
      "\r",
      " 53%|█████▎    | 67138/126776 [02:49<02:57, 335.86it/s]"
     ]
    },
    {
     "name": "stderr",
     "output_type": "stream",
     "text": [
      "\r",
      " 53%|█████▎    | 67197/126776 [02:49<02:33, 388.61it/s]"
     ]
    },
    {
     "name": "stderr",
     "output_type": "stream",
     "text": [
      "\r",
      " 53%|█████▎    | 67255/126776 [02:49<02:17, 432.97it/s]"
     ]
    },
    {
     "name": "stderr",
     "output_type": "stream",
     "text": [
      "\r",
      " 53%|█████▎    | 67313/126776 [02:49<02:06, 469.23it/s]"
     ]
    },
    {
     "name": "stderr",
     "output_type": "stream",
     "text": [
      "\r",
      " 53%|█████▎    | 67372/126776 [02:49<01:59, 499.00it/s]"
     ]
    },
    {
     "name": "stderr",
     "output_type": "stream",
     "text": [
      "\r",
      " 53%|█████▎    | 67431/126776 [02:49<01:53, 521.57it/s]"
     ]
    },
    {
     "name": "stderr",
     "output_type": "stream",
     "text": [
      "\r",
      " 53%|█████▎    | 67488/126776 [02:50<04:23, 224.97it/s]"
     ]
    },
    {
     "name": "stderr",
     "output_type": "stream",
     "text": [
      "\r",
      " 53%|█████▎    | 67546/126776 [02:50<03:34, 275.55it/s]"
     ]
    },
    {
     "name": "stderr",
     "output_type": "stream",
     "text": [
      "\r",
      " 53%|█████▎    | 67605/126776 [02:50<03:00, 328.21it/s]"
     ]
    },
    {
     "name": "stderr",
     "output_type": "stream",
     "text": [
      "\r",
      " 53%|█████▎    | 67661/126776 [02:50<02:38, 372.12it/s]"
     ]
    },
    {
     "name": "stderr",
     "output_type": "stream",
     "text": [
      "\r",
      " 53%|█████▎    | 67718/126776 [02:50<02:22, 413.83it/s]"
     ]
    },
    {
     "name": "stderr",
     "output_type": "stream",
     "text": [
      "\r",
      " 53%|█████▎    | 67777/126776 [02:50<02:10, 453.79it/s]"
     ]
    },
    {
     "name": "stderr",
     "output_type": "stream",
     "text": [
      "\r",
      " 54%|█████▎    | 67836/126776 [02:50<02:01, 486.18it/s]"
     ]
    },
    {
     "name": "stderr",
     "output_type": "stream",
     "text": [
      "\r",
      " 54%|█████▎    | 67894/126776 [02:50<01:55, 510.09it/s]"
     ]
    },
    {
     "name": "stderr",
     "output_type": "stream",
     "text": [
      "\r",
      " 54%|█████▎    | 67952/126776 [02:50<01:51, 527.31it/s]"
     ]
    },
    {
     "name": "stderr",
     "output_type": "stream",
     "text": [
      "\r",
      " 54%|█████▎    | 68009/126776 [02:51<04:19, 226.39it/s]"
     ]
    },
    {
     "name": "stderr",
     "output_type": "stream",
     "text": [
      "\r",
      " 54%|█████▎    | 68068/126776 [02:51<03:31, 278.07it/s]"
     ]
    },
    {
     "name": "stderr",
     "output_type": "stream",
     "text": [
      "\r",
      " 54%|█████▎    | 68126/126776 [02:51<02:58, 328.79it/s]"
     ]
    },
    {
     "name": "stderr",
     "output_type": "stream",
     "text": [
      "\r",
      " 54%|█████▍    | 68182/126776 [02:51<02:37, 373.20it/s]"
     ]
    },
    {
     "name": "stderr",
     "output_type": "stream",
     "text": [
      "\r",
      " 54%|█████▍    | 68238/126776 [02:51<02:21, 413.28it/s]"
     ]
    },
    {
     "name": "stderr",
     "output_type": "stream",
     "text": [
      "\r",
      " 54%|█████▍    | 68297/126776 [02:52<02:08, 453.44it/s]"
     ]
    },
    {
     "name": "stderr",
     "output_type": "stream",
     "text": [
      "\r",
      " 54%|█████▍    | 68356/126776 [02:52<02:00, 486.29it/s]"
     ]
    },
    {
     "name": "stderr",
     "output_type": "stream",
     "text": [
      "\r",
      " 54%|█████▍    | 68414/126776 [02:52<01:54, 510.48it/s]"
     ]
    },
    {
     "name": "stderr",
     "output_type": "stream",
     "text": [
      "\r",
      " 54%|█████▍    | 68472/126776 [02:52<01:50, 528.70it/s]"
     ]
    },
    {
     "name": "stderr",
     "output_type": "stream",
     "text": [
      "\r",
      " 54%|█████▍    | 68529/126776 [02:52<04:16, 227.39it/s]"
     ]
    },
    {
     "name": "stderr",
     "output_type": "stream",
     "text": [
      "\r",
      " 54%|█████▍    | 68587/126776 [02:53<03:29, 278.01it/s]"
     ]
    },
    {
     "name": "stderr",
     "output_type": "stream",
     "text": [
      "\r",
      " 54%|█████▍    | 68637/126776 [02:53<03:04, 314.91it/s]"
     ]
    },
    {
     "name": "stderr",
     "output_type": "stream",
     "text": [
      "\r",
      " 54%|█████▍    | 68685/126776 [02:53<02:53, 334.88it/s]"
     ]
    },
    {
     "name": "stderr",
     "output_type": "stream",
     "text": [
      "\r",
      " 54%|█████▍    | 68744/126776 [02:53<02:29, 387.74it/s]"
     ]
    },
    {
     "name": "stderr",
     "output_type": "stream",
     "text": [
      "\r",
      " 54%|█████▍    | 68803/126776 [02:53<02:13, 433.62it/s]"
     ]
    },
    {
     "name": "stderr",
     "output_type": "stream",
     "text": [
      "\r",
      " 54%|█████▍    | 68861/126776 [02:53<02:03, 469.97it/s]"
     ]
    },
    {
     "name": "stderr",
     "output_type": "stream",
     "text": [
      "\r",
      " 54%|█████▍    | 68915/126776 [02:53<02:06, 459.04it/s]"
     ]
    },
    {
     "name": "stderr",
     "output_type": "stream",
     "text": [
      "\r",
      " 54%|█████▍    | 68966/126776 [02:53<02:04, 463.02it/s]"
     ]
    },
    {
     "name": "stderr",
     "output_type": "stream",
     "text": [
      "\r",
      " 54%|█████▍    | 69024/126776 [02:53<01:57, 493.39it/s]"
     ]
    },
    {
     "name": "stderr",
     "output_type": "stream",
     "text": [
      "\r",
      " 54%|█████▍    | 69077/126776 [02:54<04:34, 210.17it/s]"
     ]
    },
    {
     "name": "stderr",
     "output_type": "stream",
     "text": [
      "\r",
      " 55%|█████▍    | 69136/126776 [02:54<03:38, 263.23it/s]"
     ]
    },
    {
     "name": "stderr",
     "output_type": "stream",
     "text": [
      "\r",
      " 55%|█████▍    | 69195/126776 [02:54<03:01, 317.38it/s]"
     ]
    },
    {
     "name": "stderr",
     "output_type": "stream",
     "text": [
      "\r",
      " 55%|█████▍    | 69254/126776 [02:54<02:35, 369.20it/s]"
     ]
    },
    {
     "name": "stderr",
     "output_type": "stream",
     "text": [
      "\r",
      " 55%|█████▍    | 69313/126776 [02:54<02:18, 415.70it/s]"
     ]
    },
    {
     "name": "stderr",
     "output_type": "stream",
     "text": [
      "\r",
      " 55%|█████▍    | 69372/126776 [02:55<02:06, 455.31it/s]"
     ]
    },
    {
     "name": "stderr",
     "output_type": "stream",
     "text": [
      "\r",
      " 55%|█████▍    | 69431/126776 [02:55<01:57, 487.71it/s]"
     ]
    },
    {
     "name": "stderr",
     "output_type": "stream",
     "text": [
      "\r",
      " 55%|█████▍    | 69490/126776 [02:55<01:51, 513.35it/s]"
     ]
    },
    {
     "name": "stderr",
     "output_type": "stream",
     "text": [
      "\r",
      " 55%|█████▍    | 69549/126776 [02:55<01:47, 533.31it/s]"
     ]
    },
    {
     "name": "stderr",
     "output_type": "stream",
     "text": [
      "\r",
      " 55%|█████▍    | 69607/126776 [02:56<05:16, 180.41it/s]"
     ]
    },
    {
     "name": "stderr",
     "output_type": "stream",
     "text": [
      "\r",
      " 55%|█████▍    | 69650/126776 [02:56<04:52, 195.47it/s]"
     ]
    },
    {
     "name": "stderr",
     "output_type": "stream",
     "text": [
      "\r",
      " 55%|█████▍    | 69688/126776 [02:56<05:02, 188.48it/s]"
     ]
    },
    {
     "name": "stderr",
     "output_type": "stream",
     "text": [
      "\r",
      " 55%|█████▍    | 69720/126776 [02:56<04:43, 201.25it/s]"
     ]
    },
    {
     "name": "stderr",
     "output_type": "stream",
     "text": [
      "\r",
      " 55%|█████▌    | 69750/126776 [02:56<04:54, 193.32it/s]"
     ]
    },
    {
     "name": "stderr",
     "output_type": "stream",
     "text": [
      "\r",
      " 55%|█████▌    | 69777/126776 [02:56<04:37, 205.32it/s]"
     ]
    },
    {
     "name": "stderr",
     "output_type": "stream",
     "text": [
      "\r",
      " 55%|█████▌    | 69804/126776 [02:57<05:05, 186.30it/s]"
     ]
    },
    {
     "name": "stderr",
     "output_type": "stream",
     "text": [
      "\r",
      " 55%|█████▌    | 69827/126776 [02:57<05:28, 173.39it/s]"
     ]
    },
    {
     "name": "stderr",
     "output_type": "stream",
     "text": [
      "\r",
      " 55%|█████▌    | 69848/126776 [02:57<05:15, 180.24it/s]"
     ]
    },
    {
     "name": "stderr",
     "output_type": "stream",
     "text": [
      "\r",
      " 55%|█████▌    | 69869/126776 [02:57<05:43, 165.62it/s]"
     ]
    },
    {
     "name": "stderr",
     "output_type": "stream",
     "text": [
      "\r",
      " 55%|█████▌    | 69898/126776 [02:57<04:55, 192.40it/s]"
     ]
    },
    {
     "name": "stderr",
     "output_type": "stream",
     "text": [
      "\r",
      " 55%|█████▌    | 69930/126776 [02:57<04:16, 221.85it/s]"
     ]
    },
    {
     "name": "stderr",
     "output_type": "stream",
     "text": [
      "\r",
      " 55%|█████▌    | 69981/126776 [02:57<03:13, 294.10it/s]"
     ]
    },
    {
     "name": "stderr",
     "output_type": "stream",
     "text": [
      "\r",
      " 55%|█████▌    | 70040/126776 [02:57<02:32, 371.28it/s]"
     ]
    },
    {
     "name": "stderr",
     "output_type": "stream",
     "text": [
      "\r",
      " 55%|█████▌    | 70081/126776 [02:58<03:03, 309.65it/s]"
     ]
    },
    {
     "name": "stderr",
     "output_type": "stream",
     "text": [
      "\r",
      " 55%|█████▌    | 70116/126776 [02:58<08:22, 112.69it/s]"
     ]
    },
    {
     "name": "stderr",
     "output_type": "stream",
     "text": [
      "\r",
      " 55%|█████▌    | 70142/126776 [02:59<07:31, 125.41it/s]"
     ]
    },
    {
     "name": "stderr",
     "output_type": "stream",
     "text": [
      "\r",
      " 55%|█████▌    | 70167/126776 [02:59<06:50, 137.91it/s]"
     ]
    },
    {
     "name": "stderr",
     "output_type": "stream",
     "text": [
      "\r",
      " 55%|█████▌    | 70196/126776 [02:59<05:51, 161.17it/s]"
     ]
    },
    {
     "name": "stderr",
     "output_type": "stream",
     "text": [
      "\r",
      " 55%|█████▌    | 70225/126776 [02:59<05:06, 184.23it/s]"
     ]
    },
    {
     "name": "stderr",
     "output_type": "stream",
     "text": [
      "\r",
      " 55%|█████▌    | 70254/126776 [02:59<04:34, 205.60it/s]"
     ]
    },
    {
     "name": "stderr",
     "output_type": "stream",
     "text": [
      "\r",
      " 55%|█████▌    | 70284/126776 [02:59<04:09, 226.67it/s]"
     ]
    },
    {
     "name": "stderr",
     "output_type": "stream",
     "text": [
      "\r",
      " 55%|█████▌    | 70315/126776 [02:59<03:49, 245.74it/s]"
     ]
    },
    {
     "name": "stderr",
     "output_type": "stream",
     "text": [
      "\r",
      " 55%|█████▌    | 70344/126776 [02:59<03:39, 256.69it/s]"
     ]
    },
    {
     "name": "stderr",
     "output_type": "stream",
     "text": [
      "\r",
      " 56%|█████▌    | 70373/126776 [02:59<03:32, 265.44it/s]"
     ]
    },
    {
     "name": "stderr",
     "output_type": "stream",
     "text": [
      "\r",
      " 56%|█████▌    | 70402/126776 [03:00<03:27, 271.69it/s]"
     ]
    },
    {
     "name": "stderr",
     "output_type": "stream",
     "text": [
      "\r",
      " 56%|█████▌    | 70452/126776 [03:00<02:48, 334.77it/s]"
     ]
    },
    {
     "name": "stderr",
     "output_type": "stream",
     "text": [
      "\r",
      " 56%|█████▌    | 70511/126776 [03:00<02:18, 406.93it/s]"
     ]
    },
    {
     "name": "stderr",
     "output_type": "stream",
     "text": [
      "\r",
      " 56%|█████▌    | 70570/126776 [03:00<02:02, 459.04it/s]"
     ]
    },
    {
     "name": "stderr",
     "output_type": "stream",
     "text": [
      "\r",
      " 56%|█████▌    | 70617/126776 [03:00<02:12, 425.34it/s]"
     ]
    },
    {
     "name": "stderr",
     "output_type": "stream",
     "text": [
      "\r",
      " 56%|█████▌    | 70661/126776 [03:01<06:41, 139.86it/s]"
     ]
    },
    {
     "name": "stderr",
     "output_type": "stream",
     "text": [
      "\r",
      " 56%|█████▌    | 70694/126776 [03:01<05:54, 158.15it/s]"
     ]
    },
    {
     "name": "stderr",
     "output_type": "stream",
     "text": [
      "\r",
      " 56%|█████▌    | 70730/126776 [03:01<05:01, 185.85it/s]"
     ]
    },
    {
     "name": "stderr",
     "output_type": "stream",
     "text": [
      "\r",
      " 56%|█████▌    | 70783/126776 [03:01<03:51, 241.87it/s]"
     ]
    },
    {
     "name": "stderr",
     "output_type": "stream",
     "text": [
      "\r",
      " 56%|█████▌    | 70840/126776 [03:01<03:04, 303.88it/s]"
     ]
    },
    {
     "name": "stderr",
     "output_type": "stream",
     "text": [
      "\r",
      " 56%|█████▌    | 70899/126776 [03:01<02:33, 364.35it/s]"
     ]
    },
    {
     "name": "stderr",
     "output_type": "stream",
     "text": [
      "\r",
      " 56%|█████▌    | 70957/126776 [03:01<02:14, 413.85it/s]"
     ]
    },
    {
     "name": "stderr",
     "output_type": "stream",
     "text": [
      "\r",
      " 56%|█████▌    | 71009/126776 [03:02<02:15, 410.91it/s]"
     ]
    },
    {
     "name": "stderr",
     "output_type": "stream",
     "text": [
      "\r",
      " 56%|█████▌    | 71057/126776 [03:02<02:19, 399.85it/s]"
     ]
    },
    {
     "name": "stderr",
     "output_type": "stream",
     "text": [
      "\r",
      " 56%|█████▌    | 71116/126776 [03:02<02:04, 446.77it/s]"
     ]
    },
    {
     "name": "stderr",
     "output_type": "stream",
     "text": [
      "\r",
      " 56%|█████▌    | 71173/126776 [03:02<01:56, 475.74it/s]"
     ]
    },
    {
     "name": "stderr",
     "output_type": "stream",
     "text": [
      "\r",
      " 56%|█████▌    | 71224/126776 [03:03<04:47, 193.17it/s]"
     ]
    },
    {
     "name": "stderr",
     "output_type": "stream",
     "text": [
      "\r",
      " 56%|█████▌    | 71282/126776 [03:03<03:46, 244.86it/s]"
     ]
    },
    {
     "name": "stderr",
     "output_type": "stream",
     "text": [
      "\r",
      " 56%|█████▋    | 71341/126776 [03:03<03:04, 299.70it/s]"
     ]
    },
    {
     "name": "stderr",
     "output_type": "stream",
     "text": [
      "\r",
      " 56%|█████▋    | 71395/126776 [03:03<02:41, 343.85it/s]"
     ]
    },
    {
     "name": "stderr",
     "output_type": "stream",
     "text": [
      "\r",
      " 56%|█████▋    | 71449/126776 [03:03<02:24, 383.81it/s]"
     ]
    },
    {
     "name": "stderr",
     "output_type": "stream",
     "text": [
      "\r",
      " 56%|█████▋    | 71507/126776 [03:03<02:08, 428.88it/s]"
     ]
    },
    {
     "name": "stderr",
     "output_type": "stream",
     "text": [
      "\r",
      " 56%|█████▋    | 71566/126776 [03:03<01:58, 467.83it/s]"
     ]
    },
    {
     "name": "stderr",
     "output_type": "stream",
     "text": [
      "\r",
      " 56%|█████▋    | 71625/126776 [03:03<01:50, 498.73it/s]"
     ]
    },
    {
     "name": "stderr",
     "output_type": "stream",
     "text": [
      "\r",
      " 57%|█████▋    | 71684/126776 [03:03<01:45, 522.53it/s]"
     ]
    },
    {
     "name": "stderr",
     "output_type": "stream",
     "text": [
      "\r",
      " 57%|█████▋    | 71741/126776 [03:04<04:00, 229.16it/s]"
     ]
    },
    {
     "name": "stderr",
     "output_type": "stream",
     "text": [
      "\r",
      " 57%|█████▋    | 71800/126776 [03:04<03:15, 281.36it/s]"
     ]
    },
    {
     "name": "stderr",
     "output_type": "stream",
     "text": [
      "\r",
      " 57%|█████▋    | 71859/126776 [03:04<02:44, 334.13it/s]"
     ]
    },
    {
     "name": "stderr",
     "output_type": "stream",
     "text": [
      "\r",
      " 57%|█████▋    | 71918/126776 [03:04<02:22, 384.14it/s]"
     ]
    },
    {
     "name": "stderr",
     "output_type": "stream",
     "text": [
      "\r",
      " 57%|█████▋    | 71977/126776 [03:04<02:07, 429.06it/s]"
     ]
    },
    {
     "name": "stderr",
     "output_type": "stream",
     "text": [
      "\r",
      " 57%|█████▋    | 72032/126776 [03:04<02:13, 411.43it/s]"
     ]
    },
    {
     "name": "stderr",
     "output_type": "stream",
     "text": [
      "\r",
      " 57%|█████▋    | 72091/126776 [03:05<02:00, 452.85it/s]"
     ]
    },
    {
     "name": "stderr",
     "output_type": "stream",
     "text": [
      "\r",
      " 57%|█████▋    | 72150/126776 [03:05<01:52, 485.23it/s]"
     ]
    },
    {
     "name": "stderr",
     "output_type": "stream",
     "text": [
      "\r",
      " 57%|█████▋    | 72209/126776 [03:05<01:46, 512.19it/s]"
     ]
    },
    {
     "name": "stderr",
     "output_type": "stream",
     "text": [
      "\r",
      " 57%|█████▋    | 72265/126776 [03:05<01:48, 503.82it/s]"
     ]
    },
    {
     "name": "stderr",
     "output_type": "stream",
     "text": [
      "\r",
      " 57%|█████▋    | 72319/126776 [03:06<04:19, 209.54it/s]"
     ]
    },
    {
     "name": "stderr",
     "output_type": "stream",
     "text": [
      "\r",
      " 57%|█████▋    | 72377/126776 [03:06<03:29, 260.23it/s]"
     ]
    },
    {
     "name": "stderr",
     "output_type": "stream",
     "text": [
      "\r",
      " 57%|█████▋    | 72435/126776 [03:06<02:53, 312.47it/s]"
     ]
    },
    {
     "name": "stderr",
     "output_type": "stream",
     "text": [
      "\r",
      " 57%|█████▋    | 72492/126776 [03:06<02:30, 360.45it/s]"
     ]
    },
    {
     "name": "stderr",
     "output_type": "stream",
     "text": [
      "\r",
      " 57%|█████▋    | 72548/126776 [03:06<02:15, 401.66it/s]"
     ]
    },
    {
     "name": "stderr",
     "output_type": "stream",
     "text": [
      "\r",
      " 57%|█████▋    | 72607/126776 [03:06<02:01, 444.49it/s]"
     ]
    },
    {
     "name": "stderr",
     "output_type": "stream",
     "text": [
      "\r",
      " 57%|█████▋    | 72665/126776 [03:06<01:53, 477.86it/s]"
     ]
    },
    {
     "name": "stderr",
     "output_type": "stream",
     "text": [
      "\r",
      " 57%|█████▋    | 72721/126776 [03:06<01:48, 498.81it/s]"
     ]
    },
    {
     "name": "stderr",
     "output_type": "stream",
     "text": [
      "\r",
      " 57%|█████▋    | 72780/126776 [03:06<01:43, 522.04it/s]"
     ]
    },
    {
     "name": "stderr",
     "output_type": "stream",
     "text": [
      "\r",
      " 57%|█████▋    | 72837/126776 [03:07<03:55, 228.56it/s]"
     ]
    },
    {
     "name": "stderr",
     "output_type": "stream",
     "text": [
      "\r",
      " 58%|█████▊    | 72897/126776 [03:07<03:11, 281.98it/s]"
     ]
    },
    {
     "name": "stderr",
     "output_type": "stream",
     "text": [
      "\r",
      " 58%|█████▊    | 72957/126776 [03:07<02:40, 335.67it/s]"
     ]
    },
    {
     "name": "stderr",
     "output_type": "stream",
     "text": [
      "\r",
      " 58%|█████▊    | 73017/126776 [03:07<02:19, 386.54it/s]"
     ]
    },
    {
     "name": "stderr",
     "output_type": "stream",
     "text": [
      "\r",
      " 58%|█████▊    | 73076/126776 [03:07<02:04, 430.90it/s]"
     ]
    },
    {
     "name": "stderr",
     "output_type": "stream",
     "text": [
      "\r",
      " 58%|█████▊    | 73136/126776 [03:07<01:54, 469.75it/s]"
     ]
    },
    {
     "name": "stderr",
     "output_type": "stream",
     "text": [
      "\r",
      " 58%|█████▊    | 73196/126776 [03:08<01:47, 500.72it/s]"
     ]
    },
    {
     "name": "stderr",
     "output_type": "stream",
     "text": [
      "\r",
      " 58%|█████▊    | 73255/126776 [03:08<01:42, 524.23it/s]"
     ]
    },
    {
     "name": "stderr",
     "output_type": "stream",
     "text": [
      "\r",
      " 58%|█████▊    | 73314/126776 [03:08<01:38, 542.26it/s]"
     ]
    },
    {
     "name": "stderr",
     "output_type": "stream",
     "text": [
      "\r",
      " 58%|█████▊    | 73373/126776 [03:08<03:48, 233.59it/s]"
     ]
    },
    {
     "name": "stderr",
     "output_type": "stream",
     "text": [
      "\r",
      " 58%|█████▊    | 73432/126776 [03:08<03:07, 285.11it/s]"
     ]
    },
    {
     "name": "stderr",
     "output_type": "stream",
     "text": [
      "\r",
      " 58%|█████▊    | 73491/126776 [03:09<02:37, 337.32it/s]"
     ]
    },
    {
     "name": "stderr",
     "output_type": "stream",
     "text": [
      "\r",
      " 58%|█████▊    | 73550/126776 [03:09<02:17, 386.95it/s]"
     ]
    },
    {
     "name": "stderr",
     "output_type": "stream",
     "text": [
      "\r",
      " 58%|█████▊    | 73610/126776 [03:09<02:03, 432.18it/s]"
     ]
    },
    {
     "name": "stderr",
     "output_type": "stream",
     "text": [
      "\r",
      " 58%|█████▊    | 73670/126776 [03:09<01:52, 470.53it/s]"
     ]
    },
    {
     "name": "stderr",
     "output_type": "stream",
     "text": [
      "\r",
      " 58%|█████▊    | 73729/126776 [03:09<01:45, 500.64it/s]"
     ]
    },
    {
     "name": "stderr",
     "output_type": "stream",
     "text": [
      "\r",
      " 58%|█████▊    | 73788/126776 [03:09<01:41, 523.69it/s]"
     ]
    },
    {
     "name": "stderr",
     "output_type": "stream",
     "text": [
      "\r",
      " 58%|█████▊    | 73847/126776 [03:09<01:37, 541.40it/s]"
     ]
    },
    {
     "name": "stderr",
     "output_type": "stream",
     "text": [
      "\r",
      " 58%|█████▊    | 73906/126776 [03:10<03:53, 226.07it/s]"
     ]
    },
    {
     "name": "stderr",
     "output_type": "stream",
     "text": [
      "\r",
      " 58%|█████▊    | 73966/126776 [03:10<03:09, 278.12it/s]"
     ]
    },
    {
     "name": "stderr",
     "output_type": "stream",
     "text": [
      "\r",
      " 58%|█████▊    | 74026/126776 [03:10<02:39, 331.09it/s]"
     ]
    },
    {
     "name": "stderr",
     "output_type": "stream",
     "text": [
      "\r",
      " 58%|█████▊    | 74085/126776 [03:10<02:18, 380.82it/s]"
     ]
    },
    {
     "name": "stderr",
     "output_type": "stream",
     "text": [
      "\r",
      " 58%|█████▊    | 74145/126776 [03:10<02:03, 427.05it/s]"
     ]
    },
    {
     "name": "stderr",
     "output_type": "stream",
     "text": [
      "\r",
      " 59%|█████▊    | 74205/126776 [03:10<01:52, 466.25it/s]"
     ]
    },
    {
     "name": "stderr",
     "output_type": "stream",
     "text": [
      "\r",
      " 59%|█████▊    | 74265/126776 [03:10<01:45, 498.41it/s]"
     ]
    },
    {
     "name": "stderr",
     "output_type": "stream",
     "text": [
      "\r",
      " 59%|█████▊    | 74325/126776 [03:10<01:40, 523.14it/s]"
     ]
    },
    {
     "name": "stderr",
     "output_type": "stream",
     "text": [
      "\r",
      " 59%|█████▊    | 74385/126776 [03:11<01:36, 542.24it/s]"
     ]
    },
    {
     "name": "stderr",
     "output_type": "stream",
     "text": [
      "\r",
      " 59%|█████▊    | 74444/126776 [03:11<03:45, 231.68it/s]"
     ]
    },
    {
     "name": "stderr",
     "output_type": "stream",
     "text": [
      "\r",
      " 59%|█████▉    | 74504/126776 [03:11<03:04, 283.61it/s]"
     ]
    },
    {
     "name": "stderr",
     "output_type": "stream",
     "text": [
      "\r",
      " 59%|█████▉    | 74564/126776 [03:11<02:35, 336.23it/s]"
     ]
    },
    {
     "name": "stderr",
     "output_type": "stream",
     "text": [
      "\r",
      " 59%|█████▉    | 74624/126776 [03:11<02:14, 386.35it/s]"
     ]
    },
    {
     "name": "stderr",
     "output_type": "stream",
     "text": [
      "\r",
      " 59%|█████▉    | 74684/126776 [03:12<02:00, 431.32it/s]"
     ]
    },
    {
     "name": "stderr",
     "output_type": "stream",
     "text": [
      "\r",
      " 59%|█████▉    | 74744/126776 [03:12<01:50, 469.88it/s]"
     ]
    },
    {
     "name": "stderr",
     "output_type": "stream",
     "text": [
      "\r",
      " 59%|█████▉    | 74804/126776 [03:12<01:43, 500.92it/s]"
     ]
    },
    {
     "name": "stderr",
     "output_type": "stream",
     "text": [
      "\r",
      " 59%|█████▉    | 74864/126776 [03:12<01:38, 525.36it/s]"
     ]
    },
    {
     "name": "stderr",
     "output_type": "stream",
     "text": [
      "\r",
      " 59%|█████▉    | 74924/126776 [03:12<01:35, 543.56it/s]"
     ]
    },
    {
     "name": "stderr",
     "output_type": "stream",
     "text": [
      "\r",
      " 59%|█████▉    | 74983/126776 [03:13<03:45, 229.95it/s]"
     ]
    },
    {
     "name": "stderr",
     "output_type": "stream",
     "text": [
      "\r",
      " 59%|█████▉    | 75042/126776 [03:13<03:04, 280.77it/s]"
     ]
    },
    {
     "name": "stderr",
     "output_type": "stream",
     "text": [
      "\r",
      " 59%|█████▉    | 75102/126776 [03:13<02:34, 333.70it/s]"
     ]
    },
    {
     "name": "stderr",
     "output_type": "stream",
     "text": [
      "\r",
      " 59%|█████▉    | 75162/126776 [03:13<02:14, 384.15it/s]"
     ]
    },
    {
     "name": "stderr",
     "output_type": "stream",
     "text": [
      "\r",
      " 59%|█████▉    | 75222/126776 [03:13<02:00, 429.52it/s]"
     ]
    },
    {
     "name": "stderr",
     "output_type": "stream",
     "text": [
      "\r",
      " 59%|█████▉    | 75282/126776 [03:13<01:49, 468.37it/s]"
     ]
    },
    {
     "name": "stderr",
     "output_type": "stream",
     "text": [
      "\r",
      " 59%|█████▉    | 75342/126776 [03:13<01:42, 499.84it/s]"
     ]
    },
    {
     "name": "stderr",
     "output_type": "stream",
     "text": [
      "\r",
      " 59%|█████▉    | 75402/126776 [03:13<01:37, 524.82it/s]"
     ]
    },
    {
     "name": "stderr",
     "output_type": "stream",
     "text": [
      "\r",
      " 60%|█████▉    | 75461/126776 [03:13<01:34, 541.60it/s]"
     ]
    },
    {
     "name": "stderr",
     "output_type": "stream",
     "text": [
      "\r",
      " 60%|█████▉    | 75521/126776 [03:13<01:32, 556.18it/s]"
     ]
    },
    {
     "name": "stderr",
     "output_type": "stream",
     "text": [
      "\r",
      " 60%|█████▉    | 75580/126776 [03:14<03:44, 228.08it/s]"
     ]
    },
    {
     "name": "stderr",
     "output_type": "stream",
     "text": [
      "\r",
      " 60%|█████▉    | 75640/126776 [03:14<03:02, 280.00it/s]"
     ]
    },
    {
     "name": "stderr",
     "output_type": "stream",
     "text": [
      "\r",
      " 60%|█████▉    | 75700/126776 [03:14<02:33, 332.84it/s]"
     ]
    },
    {
     "name": "stderr",
     "output_type": "stream",
     "text": [
      "\r",
      " 60%|█████▉    | 75760/126776 [03:14<02:13, 383.43it/s]"
     ]
    },
    {
     "name": "stderr",
     "output_type": "stream",
     "text": [
      "\r",
      " 60%|█████▉    | 75819/126776 [03:15<01:59, 426.44it/s]"
     ]
    },
    {
     "name": "stderr",
     "output_type": "stream",
     "text": [
      "\r",
      " 60%|█████▉    | 75878/126776 [03:15<01:49, 464.66it/s]"
     ]
    },
    {
     "name": "stderr",
     "output_type": "stream",
     "text": [
      "\r",
      " 60%|█████▉    | 75937/126776 [03:15<01:42, 495.69it/s]"
     ]
    },
    {
     "name": "stderr",
     "output_type": "stream",
     "text": [
      "\r",
      " 60%|█████▉    | 75997/126776 [03:15<01:37, 521.51it/s]"
     ]
    },
    {
     "name": "stderr",
     "output_type": "stream",
     "text": [
      "\r",
      " 60%|█████▉    | 76056/126776 [03:15<01:33, 540.12it/s]"
     ]
    },
    {
     "name": "stderr",
     "output_type": "stream",
     "text": [
      "\r",
      " 60%|██████    | 76115/126776 [03:16<03:50, 220.20it/s]"
     ]
    },
    {
     "name": "stderr",
     "output_type": "stream",
     "text": [
      "\r",
      " 60%|██████    | 76175/126776 [03:16<03:06, 271.81it/s]"
     ]
    },
    {
     "name": "stderr",
     "output_type": "stream",
     "text": [
      "\r",
      " 60%|██████    | 76235/126776 [03:16<02:35, 324.70it/s]"
     ]
    },
    {
     "name": "stderr",
     "output_type": "stream",
     "text": [
      "\r",
      " 60%|██████    | 76295/126776 [03:16<02:14, 375.76it/s]"
     ]
    },
    {
     "name": "stderr",
     "output_type": "stream",
     "text": [
      "\r",
      " 60%|██████    | 76355/126776 [03:16<01:59, 422.03it/s]"
     ]
    },
    {
     "name": "stderr",
     "output_type": "stream",
     "text": [
      "\r",
      " 60%|██████    | 76415/126776 [03:16<01:49, 461.86it/s]"
     ]
    },
    {
     "name": "stderr",
     "output_type": "stream",
     "text": [
      "\r",
      " 60%|██████    | 76474/126776 [03:16<01:41, 493.53it/s]"
     ]
    },
    {
     "name": "stderr",
     "output_type": "stream",
     "text": [
      "\r",
      " 60%|██████    | 76534/126776 [03:16<01:36, 519.55it/s]"
     ]
    },
    {
     "name": "stderr",
     "output_type": "stream",
     "text": [
      "\r",
      " 60%|██████    | 76594/126776 [03:16<01:33, 539.57it/s]"
     ]
    },
    {
     "name": "stderr",
     "output_type": "stream",
     "text": [
      "\r",
      " 60%|██████    | 76653/126776 [03:17<03:42, 225.56it/s]"
     ]
    },
    {
     "name": "stderr",
     "output_type": "stream",
     "text": [
      "\r",
      " 61%|██████    | 76712/126776 [03:17<03:01, 276.32it/s]"
     ]
    },
    {
     "name": "stderr",
     "output_type": "stream",
     "text": [
      "\r",
      " 61%|██████    | 76772/126776 [03:17<02:31, 329.44it/s]"
     ]
    },
    {
     "name": "stderr",
     "output_type": "stream",
     "text": [
      "\r",
      " 61%|██████    | 76832/126776 [03:17<02:11, 380.14it/s]"
     ]
    },
    {
     "name": "stderr",
     "output_type": "stream",
     "text": [
      "\r",
      " 61%|██████    | 76891/126776 [03:17<01:57, 424.69it/s]"
     ]
    },
    {
     "name": "stderr",
     "output_type": "stream",
     "text": [
      "\r",
      " 61%|██████    | 76951/126776 [03:17<01:47, 464.05it/s]"
     ]
    },
    {
     "name": "stderr",
     "output_type": "stream",
     "text": [
      "\r",
      " 61%|██████    | 77011/126776 [03:18<01:40, 496.29it/s]"
     ]
    },
    {
     "name": "stderr",
     "output_type": "stream",
     "text": [
      "\r",
      " 61%|██████    | 77070/126776 [03:18<01:35, 520.63it/s]"
     ]
    },
    {
     "name": "stderr",
     "output_type": "stream",
     "text": [
      "\r",
      " 61%|██████    | 77130/126776 [03:18<01:31, 540.06it/s]"
     ]
    },
    {
     "name": "stderr",
     "output_type": "stream",
     "text": [
      "\r",
      " 61%|██████    | 77189/126776 [03:18<03:41, 223.69it/s]"
     ]
    },
    {
     "name": "stderr",
     "output_type": "stream",
     "text": [
      "\r",
      " 61%|██████    | 77248/126776 [03:19<03:00, 274.50it/s]"
     ]
    },
    {
     "name": "stderr",
     "output_type": "stream",
     "text": [
      "\r",
      " 61%|██████    | 77307/126776 [03:19<02:31, 326.68it/s]"
     ]
    },
    {
     "name": "stderr",
     "output_type": "stream",
     "text": [
      "\r",
      " 61%|██████    | 77366/126776 [03:19<02:11, 376.96it/s]"
     ]
    },
    {
     "name": "stderr",
     "output_type": "stream",
     "text": [
      "\r",
      " 61%|██████    | 77425/126776 [03:19<01:56, 422.32it/s]"
     ]
    },
    {
     "name": "stderr",
     "output_type": "stream",
     "text": [
      "\r",
      " 61%|██████    | 77484/126776 [03:19<01:46, 461.33it/s]"
     ]
    },
    {
     "name": "stderr",
     "output_type": "stream",
     "text": [
      "\r",
      " 61%|██████    | 77543/126776 [03:19<01:39, 493.47it/s]"
     ]
    },
    {
     "name": "stderr",
     "output_type": "stream",
     "text": [
      "\r",
      " 61%|██████    | 77603/126776 [03:19<01:34, 519.40it/s]"
     ]
    },
    {
     "name": "stderr",
     "output_type": "stream",
     "text": [
      "\r",
      " 61%|██████▏   | 77663/126776 [03:19<01:31, 539.32it/s]"
     ]
    },
    {
     "name": "stderr",
     "output_type": "stream",
     "text": [
      "\r",
      " 61%|██████▏   | 77723/126776 [03:19<01:28, 553.82it/s]"
     ]
    },
    {
     "name": "stderr",
     "output_type": "stream",
     "text": [
      "\r",
      " 61%|██████▏   | 77782/126776 [03:20<03:39, 223.47it/s]"
     ]
    },
    {
     "name": "stderr",
     "output_type": "stream",
     "text": [
      "\r",
      " 61%|██████▏   | 77841/126776 [03:20<02:58, 274.24it/s]"
     ]
    },
    {
     "name": "stderr",
     "output_type": "stream",
     "text": [
      "\r",
      " 61%|██████▏   | 77900/126776 [03:20<02:29, 326.42it/s]"
     ]
    },
    {
     "name": "stderr",
     "output_type": "stream",
     "text": [
      "\r",
      " 61%|██████▏   | 77960/126776 [03:20<02:09, 377.66it/s]"
     ]
    },
    {
     "name": "stderr",
     "output_type": "stream",
     "text": [
      "\r",
      " 62%|██████▏   | 78020/126776 [03:20<01:55, 423.75it/s]"
     ]
    },
    {
     "name": "stderr",
     "output_type": "stream",
     "text": [
      "\r",
      " 62%|██████▏   | 78079/126776 [03:20<01:45, 461.94it/s]"
     ]
    },
    {
     "name": "stderr",
     "output_type": "stream",
     "text": [
      "\r",
      " 62%|██████▏   | 78138/126776 [03:21<01:38, 492.73it/s]"
     ]
    },
    {
     "name": "stderr",
     "output_type": "stream",
     "text": [
      "\r",
      " 62%|██████▏   | 78197/126776 [03:21<01:33, 517.74it/s]"
     ]
    },
    {
     "name": "stderr",
     "output_type": "stream",
     "text": [
      "\r",
      " 62%|██████▏   | 78255/126776 [03:21<01:30, 533.91it/s]"
     ]
    },
    {
     "name": "stderr",
     "output_type": "stream",
     "text": [
      "\r",
      " 62%|██████▏   | 78313/126776 [03:21<03:49, 211.46it/s]"
     ]
    },
    {
     "name": "stderr",
     "output_type": "stream",
     "text": [
      "\r",
      " 62%|██████▏   | 78372/126776 [03:22<03:04, 261.84it/s]"
     ]
    },
    {
     "name": "stderr",
     "output_type": "stream",
     "text": [
      "\r",
      " 62%|██████▏   | 78420/126776 [03:22<02:44, 293.26it/s]"
     ]
    },
    {
     "name": "stderr",
     "output_type": "stream",
     "text": [
      "\r",
      " 62%|██████▏   | 78467/126776 [03:22<02:45, 292.32it/s]"
     ]
    },
    {
     "name": "stderr",
     "output_type": "stream",
     "text": [
      "\r",
      " 62%|██████▏   | 78509/126776 [03:22<02:45, 291.92it/s]"
     ]
    },
    {
     "name": "stderr",
     "output_type": "stream",
     "text": [
      "\r",
      " 62%|██████▏   | 78547/126776 [03:22<02:45, 291.45it/s]"
     ]
    },
    {
     "name": "stderr",
     "output_type": "stream",
     "text": [
      "\r",
      " 62%|██████▏   | 78583/126776 [03:22<02:45, 291.39it/s]"
     ]
    },
    {
     "name": "stderr",
     "output_type": "stream",
     "text": [
      "\r",
      " 62%|██████▏   | 78617/126776 [03:22<02:45, 290.81it/s]"
     ]
    },
    {
     "name": "stderr",
     "output_type": "stream",
     "text": [
      "\r",
      " 62%|██████▏   | 78649/126776 [03:22<02:45, 290.60it/s]"
     ]
    },
    {
     "name": "stderr",
     "output_type": "stream",
     "text": [
      "\r",
      " 62%|██████▏   | 78681/126776 [03:23<02:45, 290.54it/s]"
     ]
    },
    {
     "name": "stderr",
     "output_type": "stream",
     "text": [
      "\r",
      " 62%|██████▏   | 78712/126776 [03:23<02:45, 290.43it/s]"
     ]
    },
    {
     "name": "stderr",
     "output_type": "stream",
     "text": [
      "\r",
      " 62%|██████▏   | 78743/126776 [03:23<02:45, 290.18it/s]"
     ]
    },
    {
     "name": "stderr",
     "output_type": "stream",
     "text": [
      "\r",
      " 62%|██████▏   | 78787/126776 [03:23<02:25, 329.96it/s]"
     ]
    },
    {
     "name": "stderr",
     "output_type": "stream",
     "text": [
      "\r",
      " 62%|██████▏   | 78841/126776 [03:24<05:57, 134.22it/s]"
     ]
    },
    {
     "name": "stderr",
     "output_type": "stream",
     "text": [
      "\r",
      " 62%|██████▏   | 78870/126776 [03:24<05:13, 153.02it/s]"
     ]
    },
    {
     "name": "stderr",
     "output_type": "stream",
     "text": [
      "\r",
      " 62%|██████▏   | 78899/126776 [03:24<04:36, 173.16it/s]"
     ]
    },
    {
     "name": "stderr",
     "output_type": "stream",
     "text": [
      "\r",
      " 62%|██████▏   | 78928/126776 [03:24<04:07, 193.21it/s]"
     ]
    },
    {
     "name": "stderr",
     "output_type": "stream",
     "text": [
      "\r",
      " 62%|██████▏   | 78958/126776 [03:24<03:44, 213.07it/s]"
     ]
    },
    {
     "name": "stderr",
     "output_type": "stream",
     "text": [
      "\r",
      " 62%|██████▏   | 78988/126776 [03:24<03:27, 230.46it/s]"
     ]
    },
    {
     "name": "stderr",
     "output_type": "stream",
     "text": [
      "\r",
      " 62%|██████▏   | 79044/126776 [03:24<02:34, 308.68it/s]"
     ]
    },
    {
     "name": "stderr",
     "output_type": "stream",
     "text": [
      "\r",
      " 62%|██████▏   | 79096/126776 [03:24<02:12, 360.74it/s]"
     ]
    },
    {
     "name": "stderr",
     "output_type": "stream",
     "text": [
      "\r",
      " 62%|██████▏   | 79138/126776 [03:24<02:21, 336.35it/s]"
     ]
    },
    {
     "name": "stderr",
     "output_type": "stream",
     "text": [
      "\r",
      " 62%|██████▏   | 79176/126776 [03:25<02:24, 329.32it/s]"
     ]
    },
    {
     "name": "stderr",
     "output_type": "stream",
     "text": [
      "\r",
      " 63%|██████▎   | 79236/126776 [03:25<01:59, 396.87it/s]"
     ]
    },
    {
     "name": "stderr",
     "output_type": "stream",
     "text": [
      "\r",
      " 63%|██████▎   | 79279/126776 [03:25<02:05, 377.56it/s]"
     ]
    },
    {
     "name": "stderr",
     "output_type": "stream",
     "text": [
      "\r",
      " 63%|██████▎   | 79319/126776 [03:25<02:05, 379.23it/s]"
     ]
    },
    {
     "name": "stderr",
     "output_type": "stream",
     "text": [
      "\r",
      " 63%|██████▎   | 79370/126776 [03:25<01:54, 413.66it/s]"
     ]
    },
    {
     "name": "stderr",
     "output_type": "stream",
     "text": [
      "\r",
      " 63%|██████▎   | 79413/126776 [03:26<05:06, 154.72it/s]"
     ]
    },
    {
     "name": "stderr",
     "output_type": "stream",
     "text": [
      "\r",
      " 63%|██████▎   | 79472/126776 [03:26<03:45, 210.20it/s]"
     ]
    },
    {
     "name": "stderr",
     "output_type": "stream",
     "text": [
      "\r",
      " 63%|██████▎   | 79531/126776 [03:26<02:55, 268.62it/s]"
     ]
    },
    {
     "name": "stderr",
     "output_type": "stream",
     "text": [
      "\r",
      " 63%|██████▎   | 79590/126776 [03:26<02:24, 326.31it/s]"
     ]
    },
    {
     "name": "stderr",
     "output_type": "stream",
     "text": [
      "\r",
      " 63%|██████▎   | 79649/126776 [03:26<02:04, 379.74it/s]"
     ]
    },
    {
     "name": "stderr",
     "output_type": "stream",
     "text": [
      "\r",
      " 63%|██████▎   | 79708/126776 [03:26<01:50, 426.82it/s]"
     ]
    },
    {
     "name": "stderr",
     "output_type": "stream",
     "text": [
      "\r",
      " 63%|██████▎   | 79763/126776 [03:26<01:43, 456.21it/s]"
     ]
    },
    {
     "name": "stderr",
     "output_type": "stream",
     "text": [
      "\r",
      " 63%|██████▎   | 79821/126776 [03:26<01:36, 486.13it/s]"
     ]
    },
    {
     "name": "stderr",
     "output_type": "stream",
     "text": [
      "\r",
      " 63%|██████▎   | 79880/126776 [03:27<01:31, 513.11it/s]"
     ]
    },
    {
     "name": "stderr",
     "output_type": "stream",
     "text": [
      "\r",
      " 63%|██████▎   | 79939/126776 [03:27<01:27, 533.78it/s]"
     ]
    },
    {
     "name": "stderr",
     "output_type": "stream",
     "text": [
      "\r",
      " 63%|██████▎   | 79996/126776 [03:27<03:41, 210.87it/s]"
     ]
    },
    {
     "name": "stderr",
     "output_type": "stream",
     "text": [
      "\r",
      " 63%|██████▎   | 80055/126776 [03:27<02:58, 261.81it/s]"
     ]
    },
    {
     "name": "stderr",
     "output_type": "stream",
     "text": [
      "\r",
      " 63%|██████▎   | 80103/126776 [03:28<02:45, 281.63it/s]"
     ]
    },
    {
     "name": "stderr",
     "output_type": "stream",
     "text": [
      "\r",
      " 63%|██████▎   | 80162/126776 [03:28<02:18, 336.72it/s]"
     ]
    },
    {
     "name": "stderr",
     "output_type": "stream",
     "text": [
      "\r",
      " 63%|██████▎   | 80221/126776 [03:28<02:00, 387.56it/s]"
     ]
    },
    {
     "name": "stderr",
     "output_type": "stream",
     "text": [
      "\r",
      " 63%|██████▎   | 80280/126776 [03:28<01:47, 431.83it/s]"
     ]
    },
    {
     "name": "stderr",
     "output_type": "stream",
     "text": [
      "\r",
      " 63%|██████▎   | 80339/126776 [03:28<01:39, 468.76it/s]"
     ]
    },
    {
     "name": "stderr",
     "output_type": "stream",
     "text": [
      "\r",
      " 63%|██████▎   | 80394/126776 [03:28<01:46, 435.33it/s]"
     ]
    },
    {
     "name": "stderr",
     "output_type": "stream",
     "text": [
      "\r",
      " 63%|██████▎   | 80453/126776 [03:28<01:38, 471.75it/s]"
     ]
    },
    {
     "name": "stderr",
     "output_type": "stream",
     "text": [
      "\r",
      " 64%|██████▎   | 80506/126776 [03:29<03:59, 193.28it/s]"
     ]
    },
    {
     "name": "stderr",
     "output_type": "stream",
     "text": [
      "\r",
      " 64%|██████▎   | 80565/126776 [03:29<03:09, 243.76it/s]"
     ]
    },
    {
     "name": "stderr",
     "output_type": "stream",
     "text": [
      "\r",
      " 64%|██████▎   | 80624/126776 [03:29<02:35, 296.88it/s]"
     ]
    },
    {
     "name": "stderr",
     "output_type": "stream",
     "text": [
      "\r",
      " 64%|██████▎   | 80683/126776 [03:29<02:12, 349.14it/s]"
     ]
    },
    {
     "name": "stderr",
     "output_type": "stream",
     "text": [
      "\r",
      " 64%|██████▎   | 80742/126776 [03:29<01:55, 398.23it/s]"
     ]
    },
    {
     "name": "stderr",
     "output_type": "stream",
     "text": [
      "\r",
      " 64%|██████▎   | 80800/126776 [03:29<01:44, 439.20it/s]"
     ]
    },
    {
     "name": "stderr",
     "output_type": "stream",
     "text": [
      "\r",
      " 64%|██████▍   | 80860/126776 [03:30<01:36, 476.62it/s]"
     ]
    },
    {
     "name": "stderr",
     "output_type": "stream",
     "text": [
      "\r",
      " 64%|██████▍   | 80919/126776 [03:30<01:31, 503.77it/s]"
     ]
    },
    {
     "name": "stderr",
     "output_type": "stream",
     "text": [
      "\r",
      " 64%|██████▍   | 80978/126776 [03:30<01:27, 525.46it/s]"
     ]
    },
    {
     "name": "stderr",
     "output_type": "stream",
     "text": [
      "\r",
      " 64%|██████▍   | 81037/126776 [03:30<01:24, 542.28it/s]"
     ]
    },
    {
     "name": "stderr",
     "output_type": "stream",
     "text": [
      "\r",
      " 64%|██████▍   | 81095/126776 [03:31<03:43, 204.56it/s]"
     ]
    },
    {
     "name": "stderr",
     "output_type": "stream",
     "text": [
      "\r",
      " 64%|██████▍   | 81154/126776 [03:31<02:59, 254.31it/s]"
     ]
    },
    {
     "name": "stderr",
     "output_type": "stream",
     "text": [
      "\r",
      " 64%|██████▍   | 81213/126776 [03:31<02:28, 306.44it/s]"
     ]
    },
    {
     "name": "stderr",
     "output_type": "stream",
     "text": [
      "\r",
      " 64%|██████▍   | 81272/126776 [03:31<02:07, 357.65it/s]"
     ]
    },
    {
     "name": "stderr",
     "output_type": "stream",
     "text": [
      "\r",
      " 64%|██████▍   | 81331/126776 [03:31<01:52, 404.26it/s]"
     ]
    },
    {
     "name": "stderr",
     "output_type": "stream",
     "text": [
      "\r",
      " 64%|██████▍   | 81390/126776 [03:31<01:41, 445.19it/s]"
     ]
    },
    {
     "name": "stderr",
     "output_type": "stream",
     "text": [
      "\r",
      " 64%|██████▍   | 81449/126776 [03:31<01:34, 479.78it/s]"
     ]
    },
    {
     "name": "stderr",
     "output_type": "stream",
     "text": [
      "\r",
      " 64%|██████▍   | 81508/126776 [03:31<01:29, 506.84it/s]"
     ]
    },
    {
     "name": "stderr",
     "output_type": "stream",
     "text": [
      "\r",
      " 64%|██████▍   | 81567/126776 [03:31<01:25, 528.16it/s]"
     ]
    },
    {
     "name": "stderr",
     "output_type": "stream",
     "text": [
      "\r",
      " 64%|██████▍   | 81625/126776 [03:32<03:52, 194.13it/s]"
     ]
    },
    {
     "name": "stderr",
     "output_type": "stream",
     "text": [
      "\r",
      " 64%|██████▍   | 81668/126776 [03:32<03:32, 211.98it/s]"
     ]
    },
    {
     "name": "stderr",
     "output_type": "stream",
     "text": [
      "\r",
      " 64%|██████▍   | 81707/126776 [03:32<03:19, 226.18it/s]"
     ]
    },
    {
     "name": "stderr",
     "output_type": "stream",
     "text": [
      "\r",
      " 64%|██████▍   | 81743/126776 [03:32<03:07, 240.70it/s]"
     ]
    },
    {
     "name": "stderr",
     "output_type": "stream",
     "text": [
      "\r",
      " 65%|██████▍   | 81778/126776 [03:33<02:59, 251.06it/s]"
     ]
    },
    {
     "name": "stderr",
     "output_type": "stream",
     "text": [
      "\r",
      " 65%|██████▍   | 81811/126776 [03:33<02:53, 259.65it/s]"
     ]
    },
    {
     "name": "stderr",
     "output_type": "stream",
     "text": [
      "\r",
      " 65%|██████▍   | 81843/126776 [03:33<02:46, 269.19it/s]"
     ]
    },
    {
     "name": "stderr",
     "output_type": "stream",
     "text": [
      "\r",
      " 65%|██████▍   | 81875/126776 [03:33<02:43, 274.26it/s]"
     ]
    },
    {
     "name": "stderr",
     "output_type": "stream",
     "text": [
      "\r",
      " 65%|██████▍   | 81906/126776 [03:33<02:41, 278.06it/s]"
     ]
    },
    {
     "name": "stderr",
     "output_type": "stream",
     "text": [
      "\r",
      " 65%|██████▍   | 81938/126776 [03:33<02:35, 287.57it/s]"
     ]
    },
    {
     "name": "stderr",
     "output_type": "stream",
     "text": [
      "\r",
      " 65%|██████▍   | 81969/126776 [03:33<02:35, 287.90it/s]"
     ]
    },
    {
     "name": "stderr",
     "output_type": "stream",
     "text": [
      "\r",
      " 65%|██████▍   | 81999/126776 [03:33<03:08, 238.10it/s]"
     ]
    },
    {
     "name": "stderr",
     "output_type": "stream",
     "text": [
      "\r",
      " 65%|██████▍   | 82028/126776 [03:34<02:59, 249.31it/s]"
     ]
    },
    {
     "name": "stderr",
     "output_type": "stream",
     "text": [
      "\r",
      " 65%|██████▍   | 82057/126776 [03:34<02:52, 259.35it/s]"
     ]
    },
    {
     "name": "stderr",
     "output_type": "stream",
     "text": [
      "\r",
      " 65%|██████▍   | 82086/126776 [03:34<02:47, 267.11it/s]"
     ]
    },
    {
     "name": "stderr",
     "output_type": "stream",
     "text": [
      "\r",
      " 65%|██████▍   | 82119/126776 [03:34<02:38, 282.19it/s]"
     ]
    },
    {
     "name": "stderr",
     "output_type": "stream",
     "text": [
      "\r",
      " 65%|██████▍   | 82149/126776 [03:34<02:37, 284.05it/s]"
     ]
    },
    {
     "name": "stderr",
     "output_type": "stream",
     "text": [
      "\r",
      " 65%|██████▍   | 82178/126776 [03:35<09:47, 75.88it/s] "
     ]
    },
    {
     "name": "stderr",
     "output_type": "stream",
     "text": [
      "\r",
      " 65%|██████▍   | 82207/126776 [03:35<07:41, 96.65it/s]"
     ]
    },
    {
     "name": "stderr",
     "output_type": "stream",
     "text": [
      "\r",
      " 65%|██████▍   | 82236/126776 [03:35<06:10, 120.14it/s]"
     ]
    },
    {
     "name": "stderr",
     "output_type": "stream",
     "text": [
      "\r",
      " 65%|██████▍   | 82265/126776 [03:35<05:06, 145.13it/s]"
     ]
    },
    {
     "name": "stderr",
     "output_type": "stream",
     "text": [
      "\r",
      " 65%|██████▍   | 82296/126776 [03:35<04:17, 172.90it/s]"
     ]
    },
    {
     "name": "stderr",
     "output_type": "stream",
     "text": [
      "\r",
      " 65%|██████▍   | 82325/126776 [03:36<03:46, 196.08it/s]"
     ]
    },
    {
     "name": "stderr",
     "output_type": "stream",
     "text": [
      "\r",
      " 65%|██████▍   | 82353/126776 [03:36<03:31, 210.01it/s]"
     ]
    },
    {
     "name": "stderr",
     "output_type": "stream",
     "text": [
      "\r",
      " 65%|██████▍   | 82398/126776 [03:36<02:46, 266.54it/s]"
     ]
    },
    {
     "name": "stderr",
     "output_type": "stream",
     "text": [
      "\r",
      " 65%|██████▌   | 82450/126776 [03:36<02:14, 328.97it/s]"
     ]
    },
    {
     "name": "stderr",
     "output_type": "stream",
     "text": [
      "\r",
      " 65%|██████▌   | 82489/126776 [03:36<02:20, 315.10it/s]"
     ]
    },
    {
     "name": "stderr",
     "output_type": "stream",
     "text": [
      "\r",
      " 65%|██████▌   | 82525/126776 [03:36<02:24, 306.55it/s]"
     ]
    },
    {
     "name": "stderr",
     "output_type": "stream",
     "text": [
      "\r",
      " 65%|██████▌   | 82559/126776 [03:36<02:26, 301.13it/s]"
     ]
    },
    {
     "name": "stderr",
     "output_type": "stream",
     "text": [
      "\r",
      " 65%|██████▌   | 82591/126776 [03:36<02:28, 296.78it/s]"
     ]
    },
    {
     "name": "stderr",
     "output_type": "stream",
     "text": [
      "\r",
      " 65%|██████▌   | 82622/126776 [03:36<02:29, 294.88it/s]"
     ]
    },
    {
     "name": "stderr",
     "output_type": "stream",
     "text": [
      "\r",
      " 65%|██████▌   | 82653/126776 [03:37<02:30, 292.89it/s]"
     ]
    },
    {
     "name": "stderr",
     "output_type": "stream",
     "text": [
      "\r",
      " 65%|██████▌   | 82683/126776 [03:37<02:31, 291.19it/s]"
     ]
    },
    {
     "name": "stderr",
     "output_type": "stream",
     "text": [
      "\r",
      " 65%|██████▌   | 82713/126776 [03:38<08:10, 89.85it/s] "
     ]
    },
    {
     "name": "stderr",
     "output_type": "stream",
     "text": [
      "\r",
      " 65%|██████▌   | 82738/126776 [03:38<06:51, 107.05it/s]"
     ]
    },
    {
     "name": "stderr",
     "output_type": "stream",
     "text": [
      "\r",
      " 65%|██████▌   | 82767/126776 [03:38<05:35, 131.25it/s]"
     ]
    },
    {
     "name": "stderr",
     "output_type": "stream",
     "text": [
      "\r",
      " 65%|██████▌   | 82799/126776 [03:38<04:32, 161.45it/s]"
     ]
    },
    {
     "name": "stderr",
     "output_type": "stream",
     "text": [
      "\r",
      " 65%|██████▌   | 82851/126776 [03:38<03:12, 228.15it/s]"
     ]
    },
    {
     "name": "stderr",
     "output_type": "stream",
     "text": [
      "\r",
      " 65%|██████▌   | 82907/126776 [03:38<02:27, 297.58it/s]"
     ]
    },
    {
     "name": "stderr",
     "output_type": "stream",
     "text": [
      "\r",
      " 65%|██████▌   | 82966/126776 [03:38<02:00, 364.06it/s]"
     ]
    },
    {
     "name": "stderr",
     "output_type": "stream",
     "text": [
      "\r",
      " 65%|██████▌   | 83024/126776 [03:38<01:45, 416.62it/s]"
     ]
    },
    {
     "name": "stderr",
     "output_type": "stream",
     "text": [
      "\r",
      " 66%|██████▌   | 83083/126776 [03:38<01:34, 461.17it/s]"
     ]
    },
    {
     "name": "stderr",
     "output_type": "stream",
     "text": [
      "\r",
      " 66%|██████▌   | 83137/126776 [03:38<01:30, 480.24it/s]"
     ]
    },
    {
     "name": "stderr",
     "output_type": "stream",
     "text": [
      "\r",
      " 66%|██████▌   | 83190/126776 [03:39<01:28, 492.72it/s]"
     ]
    },
    {
     "name": "stderr",
     "output_type": "stream",
     "text": [
      "\r",
      " 66%|██████▌   | 83249/126776 [03:39<01:23, 519.49it/s]"
     ]
    },
    {
     "name": "stderr",
     "output_type": "stream",
     "text": [
      "\r",
      " 66%|██████▌   | 83304/126776 [03:39<03:46, 192.35it/s]"
     ]
    },
    {
     "name": "stderr",
     "output_type": "stream",
     "text": [
      "\r",
      " 66%|██████▌   | 83363/126776 [03:39<02:58, 243.65it/s]"
     ]
    },
    {
     "name": "stderr",
     "output_type": "stream",
     "text": [
      "\r",
      " 66%|██████▌   | 83422/126776 [03:40<02:25, 297.33it/s]"
     ]
    },
    {
     "name": "stderr",
     "output_type": "stream",
     "text": [
      "\r",
      " 66%|██████▌   | 83480/126776 [03:40<02:04, 348.70it/s]"
     ]
    },
    {
     "name": "stderr",
     "output_type": "stream",
     "text": [
      "\r",
      " 66%|██████▌   | 83532/126776 [03:40<01:54, 376.66it/s]"
     ]
    },
    {
     "name": "stderr",
     "output_type": "stream",
     "text": [
      "\r",
      " 66%|██████▌   | 83583/126776 [03:40<01:51, 386.90it/s]"
     ]
    },
    {
     "name": "stderr",
     "output_type": "stream",
     "text": [
      "\r",
      " 66%|██████▌   | 83642/126776 [03:40<01:39, 433.91it/s]"
     ]
    },
    {
     "name": "stderr",
     "output_type": "stream",
     "text": [
      "\r",
      " 66%|██████▌   | 83701/126776 [03:40<01:31, 471.74it/s]"
     ]
    },
    {
     "name": "stderr",
     "output_type": "stream",
     "text": [
      "\r",
      " 66%|██████▌   | 83760/126776 [03:40<01:25, 501.16it/s]"
     ]
    },
    {
     "name": "stderr",
     "output_type": "stream",
     "text": [
      "\r",
      " 66%|██████▌   | 83815/126776 [03:40<01:34, 456.57it/s]"
     ]
    },
    {
     "name": "stderr",
     "output_type": "stream",
     "text": [
      "\r",
      " 66%|██████▌   | 83865/126776 [03:41<03:41, 193.92it/s]"
     ]
    },
    {
     "name": "stderr",
     "output_type": "stream",
     "text": [
      "\r",
      " 66%|██████▌   | 83922/126776 [03:41<02:56, 243.22it/s]"
     ]
    },
    {
     "name": "stderr",
     "output_type": "stream",
     "text": [
      "\r",
      " 66%|██████▌   | 83965/126776 [03:41<02:42, 263.44it/s]"
     ]
    },
    {
     "name": "stderr",
     "output_type": "stream",
     "text": [
      "\r",
      " 66%|██████▋   | 84024/126776 [03:41<02:12, 321.96it/s]"
     ]
    },
    {
     "name": "stderr",
     "output_type": "stream",
     "text": [
      "\r",
      " 66%|██████▋   | 84083/126776 [03:41<01:53, 375.48it/s]"
     ]
    },
    {
     "name": "stderr",
     "output_type": "stream",
     "text": [
      "\r",
      " 66%|██████▋   | 84142/126776 [03:42<01:40, 423.12it/s]"
     ]
    },
    {
     "name": "stderr",
     "output_type": "stream",
     "text": [
      "\r",
      " 66%|██████▋   | 84195/126776 [03:42<01:38, 433.80it/s]"
     ]
    },
    {
     "name": "stderr",
     "output_type": "stream",
     "text": [
      "\r",
      " 66%|██████▋   | 84246/126776 [03:42<01:34, 448.82it/s]"
     ]
    },
    {
     "name": "stderr",
     "output_type": "stream",
     "text": [
      "\r",
      " 66%|██████▋   | 84305/126776 [03:42<01:27, 484.90it/s]"
     ]
    },
    {
     "name": "stderr",
     "output_type": "stream",
     "text": [
      "\r",
      " 67%|██████▋   | 84364/126776 [03:42<01:22, 512.68it/s]"
     ]
    },
    {
     "name": "stderr",
     "output_type": "stream",
     "text": [
      "\r",
      " 67%|██████▋   | 84419/126776 [03:43<03:30, 200.99it/s]"
     ]
    },
    {
     "name": "stderr",
     "output_type": "stream",
     "text": [
      "\r",
      " 67%|██████▋   | 84475/126776 [03:43<02:50, 248.22it/s]"
     ]
    },
    {
     "name": "stderr",
     "output_type": "stream",
     "text": [
      "\r",
      " 67%|██████▋   | 84534/126776 [03:43<02:19, 302.23it/s]"
     ]
    },
    {
     "name": "stderr",
     "output_type": "stream",
     "text": [
      "\r",
      " 67%|██████▋   | 84593/126776 [03:43<01:58, 355.15it/s]"
     ]
    },
    {
     "name": "stderr",
     "output_type": "stream",
     "text": [
      "\r",
      " 67%|██████▋   | 84652/126776 [03:43<01:44, 403.77it/s]"
     ]
    },
    {
     "name": "stderr",
     "output_type": "stream",
     "text": [
      "\r",
      " 67%|██████▋   | 84711/126776 [03:43<01:34, 445.65it/s]"
     ]
    },
    {
     "name": "stderr",
     "output_type": "stream",
     "text": [
      "\r",
      " 67%|██████▋   | 84768/126776 [03:43<01:28, 474.67it/s]"
     ]
    },
    {
     "name": "stderr",
     "output_type": "stream",
     "text": [
      "\r",
      " 67%|██████▋   | 84827/126776 [03:43<01:23, 503.98it/s]"
     ]
    },
    {
     "name": "stderr",
     "output_type": "stream",
     "text": [
      "\r",
      " 67%|██████▋   | 84886/126776 [03:43<01:19, 526.80it/s]"
     ]
    },
    {
     "name": "stderr",
     "output_type": "stream",
     "text": [
      "\r",
      " 67%|██████▋   | 84945/126776 [03:44<01:16, 543.89it/s]"
     ]
    },
    {
     "name": "stderr",
     "output_type": "stream",
     "text": [
      "\r",
      " 67%|██████▋   | 85003/126776 [03:44<03:21, 207.15it/s]"
     ]
    },
    {
     "name": "stderr",
     "output_type": "stream",
     "text": [
      "\r",
      " 67%|██████▋   | 85062/126776 [03:44<02:42, 257.40it/s]"
     ]
    },
    {
     "name": "stderr",
     "output_type": "stream",
     "text": [
      "\r",
      " 67%|██████▋   | 85121/126776 [03:44<02:14, 309.78it/s]"
     ]
    },
    {
     "name": "stderr",
     "output_type": "stream",
     "text": [
      "\r",
      " 67%|██████▋   | 85180/126776 [03:45<01:55, 360.92it/s]"
     ]
    },
    {
     "name": "stderr",
     "output_type": "stream",
     "text": [
      "\r",
      " 67%|██████▋   | 85239/126776 [03:45<01:41, 408.29it/s]"
     ]
    },
    {
     "name": "stderr",
     "output_type": "stream",
     "text": [
      "\r",
      " 67%|██████▋   | 85295/126776 [03:45<01:33, 442.94it/s]"
     ]
    },
    {
     "name": "stderr",
     "output_type": "stream",
     "text": [
      "\r",
      " 67%|██████▋   | 85354/126776 [03:45<01:26, 478.53it/s]"
     ]
    },
    {
     "name": "stderr",
     "output_type": "stream",
     "text": [
      "\r",
      " 67%|██████▋   | 85413/126776 [03:45<01:21, 506.32it/s]"
     ]
    },
    {
     "name": "stderr",
     "output_type": "stream",
     "text": [
      "\r",
      " 67%|██████▋   | 85472/126776 [03:45<01:18, 528.26it/s]"
     ]
    },
    {
     "name": "stderr",
     "output_type": "stream",
     "text": [
      "\r",
      " 67%|██████▋   | 85531/126776 [03:45<01:15, 544.77it/s]"
     ]
    },
    {
     "name": "stderr",
     "output_type": "stream",
     "text": [
      "\r",
      " 68%|██████▊   | 85589/126776 [03:46<03:17, 208.70it/s]"
     ]
    },
    {
     "name": "stderr",
     "output_type": "stream",
     "text": [
      "\r",
      " 68%|██████▊   | 85648/126776 [03:46<02:38, 258.93it/s]"
     ]
    },
    {
     "name": "stderr",
     "output_type": "stream",
     "text": [
      "\r",
      " 68%|██████▊   | 85707/126776 [03:46<02:11, 311.16it/s]"
     ]
    },
    {
     "name": "stderr",
     "output_type": "stream",
     "text": [
      "\r",
      " 68%|██████▊   | 85766/126776 [03:46<01:53, 362.36it/s]"
     ]
    },
    {
     "name": "stderr",
     "output_type": "stream",
     "text": [
      "\r",
      " 68%|██████▊   | 85825/126776 [03:46<01:40, 409.13it/s]"
     ]
    },
    {
     "name": "stderr",
     "output_type": "stream",
     "text": [
      "\r",
      " 68%|██████▊   | 85884/126776 [03:46<01:30, 450.13it/s]"
     ]
    },
    {
     "name": "stderr",
     "output_type": "stream",
     "text": [
      "\r",
      " 68%|██████▊   | 85943/126776 [03:46<01:24, 484.42it/s]"
     ]
    },
    {
     "name": "stderr",
     "output_type": "stream",
     "text": [
      "\r",
      " 68%|██████▊   | 86002/126776 [03:47<01:19, 511.78it/s]"
     ]
    },
    {
     "name": "stderr",
     "output_type": "stream",
     "text": [
      "\r",
      " 68%|██████▊   | 86062/126776 [03:47<01:16, 533.37it/s]"
     ]
    },
    {
     "name": "stderr",
     "output_type": "stream",
     "text": [
      "\r",
      " 68%|██████▊   | 86120/126776 [03:47<03:14, 208.81it/s]"
     ]
    },
    {
     "name": "stderr",
     "output_type": "stream",
     "text": [
      "\r",
      " 68%|██████▊   | 86179/126776 [03:47<02:36, 258.88it/s]"
     ]
    },
    {
     "name": "stderr",
     "output_type": "stream",
     "text": [
      "\r",
      " 68%|██████▊   | 86239/126776 [03:47<02:09, 312.11it/s]"
     ]
    },
    {
     "name": "stderr",
     "output_type": "stream",
     "text": [
      "\r",
      " 68%|██████▊   | 86297/126776 [03:48<01:52, 361.25it/s]"
     ]
    },
    {
     "name": "stderr",
     "output_type": "stream",
     "text": [
      "\r",
      " 68%|██████▊   | 86356/126776 [03:48<01:39, 407.66it/s]"
     ]
    },
    {
     "name": "stderr",
     "output_type": "stream",
     "text": [
      "\r",
      " 68%|██████▊   | 86415/126776 [03:48<01:30, 448.35it/s]"
     ]
    },
    {
     "name": "stderr",
     "output_type": "stream",
     "text": [
      "\r",
      " 68%|██████▊   | 86474/126776 [03:48<01:23, 482.31it/s]"
     ]
    },
    {
     "name": "stderr",
     "output_type": "stream",
     "text": [
      "\r",
      " 68%|██████▊   | 86533/126776 [03:48<01:18, 510.00it/s]"
     ]
    },
    {
     "name": "stderr",
     "output_type": "stream",
     "text": [
      "\r",
      " 68%|██████▊   | 86592/126776 [03:48<01:15, 531.50it/s]"
     ]
    },
    {
     "name": "stderr",
     "output_type": "stream",
     "text": [
      "\r",
      " 68%|██████▊   | 86651/126776 [03:48<01:13, 547.71it/s]"
     ]
    },
    {
     "name": "stderr",
     "output_type": "stream",
     "text": [
      "\r",
      " 68%|██████▊   | 86710/126776 [03:49<03:15, 204.97it/s]"
     ]
    },
    {
     "name": "stderr",
     "output_type": "stream",
     "text": [
      "\r",
      " 68%|██████▊   | 86769/126776 [03:49<02:37, 254.58it/s]"
     ]
    },
    {
     "name": "stderr",
     "output_type": "stream",
     "text": [
      "\r",
      " 68%|██████▊   | 86828/126776 [03:49<02:10, 306.78it/s]"
     ]
    },
    {
     "name": "stderr",
     "output_type": "stream",
     "text": [
      "\r",
      " 69%|██████▊   | 86888/126776 [03:49<01:51, 359.18it/s]"
     ]
    },
    {
     "name": "stderr",
     "output_type": "stream",
     "text": [
      "\r",
      " 69%|██████▊   | 86947/126776 [03:49<01:37, 406.52it/s]"
     ]
    },
    {
     "name": "stderr",
     "output_type": "stream",
     "text": [
      "\r",
      " 69%|██████▊   | 87005/126776 [03:49<01:29, 445.93it/s]"
     ]
    },
    {
     "name": "stderr",
     "output_type": "stream",
     "text": [
      "\r",
      " 69%|██████▊   | 87064/126776 [03:50<01:22, 480.55it/s]"
     ]
    },
    {
     "name": "stderr",
     "output_type": "stream",
     "text": [
      "\r",
      " 69%|██████▊   | 87123/126776 [03:50<01:18, 507.51it/s]"
     ]
    },
    {
     "name": "stderr",
     "output_type": "stream",
     "text": [
      "\r",
      " 69%|██████▉   | 87182/126776 [03:50<01:14, 529.16it/s]"
     ]
    },
    {
     "name": "stderr",
     "output_type": "stream",
     "text": [
      "\r",
      " 69%|██████▉   | 87240/126776 [03:50<03:11, 206.46it/s]"
     ]
    },
    {
     "name": "stderr",
     "output_type": "stream",
     "text": [
      "\r",
      " 69%|██████▉   | 87299/126776 [03:50<02:33, 256.37it/s]"
     ]
    },
    {
     "name": "stderr",
     "output_type": "stream",
     "text": [
      "\r",
      " 69%|██████▉   | 87358/126776 [03:51<02:07, 308.66it/s]"
     ]
    },
    {
     "name": "stderr",
     "output_type": "stream",
     "text": [
      "\r",
      " 69%|██████▉   | 87417/126776 [03:51<01:49, 360.06it/s]"
     ]
    },
    {
     "name": "stderr",
     "output_type": "stream",
     "text": [
      "\r",
      " 69%|██████▉   | 87476/126776 [03:51<01:36, 407.22it/s]"
     ]
    },
    {
     "name": "stderr",
     "output_type": "stream",
     "text": [
      "\r",
      " 69%|██████▉   | 87532/126776 [03:51<01:28, 441.35it/s]"
     ]
    },
    {
     "name": "stderr",
     "output_type": "stream",
     "text": [
      "\r",
      " 69%|██████▉   | 87588/126776 [03:51<01:23, 467.93it/s]"
     ]
    },
    {
     "name": "stderr",
     "output_type": "stream",
     "text": [
      "\r",
      " 69%|██████▉   | 87644/126776 [03:51<01:19, 491.31it/s]"
     ]
    },
    {
     "name": "stderr",
     "output_type": "stream",
     "text": [
      "\r",
      " 69%|██████▉   | 87702/126776 [03:51<01:15, 514.75it/s]"
     ]
    },
    {
     "name": "stderr",
     "output_type": "stream",
     "text": [
      "\r",
      " 69%|██████▉   | 87758/126776 [03:51<01:14, 527.15it/s]"
     ]
    },
    {
     "name": "stderr",
     "output_type": "stream",
     "text": [
      "\r",
      " 69%|██████▉   | 87814/126776 [03:52<03:14, 200.33it/s]"
     ]
    },
    {
     "name": "stderr",
     "output_type": "stream",
     "text": [
      "\r",
      " 69%|██████▉   | 87873/126776 [03:52<02:34, 251.57it/s]"
     ]
    },
    {
     "name": "stderr",
     "output_type": "stream",
     "text": [
      "\r",
      " 69%|██████▉   | 87933/126776 [03:52<02:06, 305.98it/s]"
     ]
    },
    {
     "name": "stderr",
     "output_type": "stream",
     "text": [
      "\r",
      " 69%|██████▉   | 87993/126776 [03:52<01:47, 359.22it/s]"
     ]
    },
    {
     "name": "stderr",
     "output_type": "stream",
     "text": [
      "\r",
      " 69%|██████▉   | 88053/126776 [03:52<01:34, 408.21it/s]"
     ]
    },
    {
     "name": "stderr",
     "output_type": "stream",
     "text": [
      "\r",
      " 70%|██████▉   | 88113/126776 [03:52<01:25, 450.40it/s]"
     ]
    },
    {
     "name": "stderr",
     "output_type": "stream",
     "text": [
      "\r",
      " 70%|██████▉   | 88173/126776 [03:53<01:19, 485.65it/s]"
     ]
    },
    {
     "name": "stderr",
     "output_type": "stream",
     "text": [
      "\r",
      " 70%|██████▉   | 88233/126776 [03:53<01:15, 513.26it/s]"
     ]
    },
    {
     "name": "stderr",
     "output_type": "stream",
     "text": [
      "\r",
      " 70%|██████▉   | 88293/126776 [03:53<01:11, 534.69it/s]"
     ]
    },
    {
     "name": "stderr",
     "output_type": "stream",
     "text": [
      "\r",
      " 70%|██████▉   | 88352/126776 [03:53<01:09, 549.62it/s]"
     ]
    },
    {
     "name": "stderr",
     "output_type": "stream",
     "text": [
      "\r",
      " 70%|██████▉   | 88411/126776 [03:54<03:06, 206.17it/s]"
     ]
    },
    {
     "name": "stderr",
     "output_type": "stream",
     "text": [
      "\r",
      " 70%|██████▉   | 88470/126776 [03:54<02:29, 255.87it/s]"
     ]
    },
    {
     "name": "stderr",
     "output_type": "stream",
     "text": [
      "\r",
      " 70%|██████▉   | 88529/126776 [03:54<02:04, 307.53it/s]"
     ]
    },
    {
     "name": "stderr",
     "output_type": "stream",
     "text": [
      "\r",
      " 70%|██████▉   | 88589/126776 [03:54<01:46, 359.96it/s]"
     ]
    },
    {
     "name": "stderr",
     "output_type": "stream",
     "text": [
      "\r",
      " 70%|██████▉   | 88649/126776 [03:54<01:33, 408.15it/s]"
     ]
    },
    {
     "name": "stderr",
     "output_type": "stream",
     "text": [
      "\r",
      " 70%|██████▉   | 88709/126776 [03:54<01:24, 450.37it/s]"
     ]
    },
    {
     "name": "stderr",
     "output_type": "stream",
     "text": [
      "\r",
      " 70%|███████   | 88769/126776 [03:54<01:18, 485.49it/s]"
     ]
    },
    {
     "name": "stderr",
     "output_type": "stream",
     "text": [
      "\r",
      " 70%|███████   | 88829/126776 [03:54<01:13, 513.16it/s]"
     ]
    },
    {
     "name": "stderr",
     "output_type": "stream",
     "text": [
      "\r",
      " 70%|███████   | 88889/126776 [03:54<01:10, 534.79it/s]"
     ]
    },
    {
     "name": "stderr",
     "output_type": "stream",
     "text": [
      "\r",
      " 70%|███████   | 88948/126776 [03:55<03:06, 203.10it/s]"
     ]
    },
    {
     "name": "stderr",
     "output_type": "stream",
     "text": [
      "\r",
      " 70%|███████   | 89007/126776 [03:55<02:29, 252.22it/s]"
     ]
    },
    {
     "name": "stderr",
     "output_type": "stream",
     "text": [
      "\r",
      " 70%|███████   | 89067/126776 [03:55<02:03, 304.97it/s]"
     ]
    },
    {
     "name": "stderr",
     "output_type": "stream",
     "text": [
      "\r",
      " 70%|███████   | 89127/126776 [03:55<01:45, 357.29it/s]"
     ]
    },
    {
     "name": "stderr",
     "output_type": "stream",
     "text": [
      "\r",
      " 70%|███████   | 89187/126776 [03:56<01:32, 405.52it/s]"
     ]
    },
    {
     "name": "stderr",
     "output_type": "stream",
     "text": [
      "\r",
      " 70%|███████   | 89247/126776 [03:56<01:23, 447.83it/s]"
     ]
    },
    {
     "name": "stderr",
     "output_type": "stream",
     "text": [
      "\r",
      " 70%|███████   | 89307/126776 [03:56<01:17, 482.94it/s]"
     ]
    },
    {
     "name": "stderr",
     "output_type": "stream",
     "text": [
      "\r",
      " 70%|███████   | 89367/126776 [03:56<01:13, 511.12it/s]"
     ]
    },
    {
     "name": "stderr",
     "output_type": "stream",
     "text": [
      "\r",
      " 71%|███████   | 89427/126776 [03:56<01:10, 533.20it/s]"
     ]
    },
    {
     "name": "stderr",
     "output_type": "stream",
     "text": [
      "\r",
      " 71%|███████   | 89487/126776 [03:56<01:07, 549.12it/s]"
     ]
    },
    {
     "name": "stderr",
     "output_type": "stream",
     "text": [
      "\r",
      " 71%|███████   | 89546/126776 [03:57<03:25, 181.05it/s]"
     ]
    },
    {
     "name": "stderr",
     "output_type": "stream",
     "text": [
      "\r",
      " 71%|███████   | 89590/126776 [03:57<03:06, 199.00it/s]"
     ]
    },
    {
     "name": "stderr",
     "output_type": "stream",
     "text": [
      "\r",
      " 71%|███████   | 89629/126776 [03:57<02:52, 214.76it/s]"
     ]
    },
    {
     "name": "stderr",
     "output_type": "stream",
     "text": [
      "\r",
      " 71%|███████   | 89665/126776 [03:57<02:42, 228.75it/s]"
     ]
    },
    {
     "name": "stderr",
     "output_type": "stream",
     "text": [
      "\r",
      " 71%|███████   | 89699/126776 [03:57<02:33, 241.14it/s]"
     ]
    },
    {
     "name": "stderr",
     "output_type": "stream",
     "text": [
      "\r",
      " 71%|███████   | 89732/126776 [03:58<02:27, 251.69it/s]"
     ]
    },
    {
     "name": "stderr",
     "output_type": "stream",
     "text": [
      "\r",
      " 71%|███████   | 89764/126776 [03:58<02:21, 260.72it/s]"
     ]
    },
    {
     "name": "stderr",
     "output_type": "stream",
     "text": [
      "\r",
      " 71%|███████   | 89804/126776 [03:58<02:06, 292.68it/s]"
     ]
    },
    {
     "name": "stderr",
     "output_type": "stream",
     "text": [
      "\r",
      " 71%|███████   | 89863/126776 [03:58<01:40, 365.85it/s]"
     ]
    },
    {
     "name": "stderr",
     "output_type": "stream",
     "text": [
      "\r",
      " 71%|███████   | 89921/126776 [03:58<01:27, 420.72it/s]"
     ]
    },
    {
     "name": "stderr",
     "output_type": "stream",
     "text": [
      "\r",
      " 71%|███████   | 89967/126776 [03:58<01:39, 371.46it/s]"
     ]
    },
    {
     "name": "stderr",
     "output_type": "stream",
     "text": [
      "\r",
      " 71%|███████   | 90008/126776 [03:58<01:46, 345.24it/s]"
     ]
    },
    {
     "name": "stderr",
     "output_type": "stream",
     "text": [
      "\r",
      " 71%|███████   | 90046/126776 [03:58<01:51, 328.41it/s]"
     ]
    },
    {
     "name": "stderr",
     "output_type": "stream",
     "text": [
      "\r",
      " 71%|███████   | 90081/126776 [03:59<05:16, 115.81it/s]"
     ]
    },
    {
     "name": "stderr",
     "output_type": "stream",
     "text": [
      "\r",
      " 71%|███████   | 90135/126776 [03:59<03:46, 161.49it/s]"
     ]
    },
    {
     "name": "stderr",
     "output_type": "stream",
     "text": [
      "\r",
      " 71%|███████   | 90190/126776 [03:59<02:51, 213.39it/s]"
     ]
    },
    {
     "name": "stderr",
     "output_type": "stream",
     "text": [
      "\r",
      " 71%|███████   | 90231/126776 [04:00<02:39, 229.37it/s]"
     ]
    },
    {
     "name": "stderr",
     "output_type": "stream",
     "text": [
      "\r",
      " 71%|███████   | 90268/126776 [04:00<02:30, 242.32it/s]"
     ]
    },
    {
     "name": "stderr",
     "output_type": "stream",
     "text": [
      "\r",
      " 71%|███████   | 90325/126776 [04:00<01:59, 305.84it/s]"
     ]
    },
    {
     "name": "stderr",
     "output_type": "stream",
     "text": [
      "\r",
      " 71%|███████▏  | 90367/126776 [04:00<01:59, 304.31it/s]"
     ]
    },
    {
     "name": "stderr",
     "output_type": "stream",
     "text": [
      "\r",
      " 71%|███████▏  | 90412/126776 [04:00<01:48, 336.08it/s]"
     ]
    },
    {
     "name": "stderr",
     "output_type": "stream",
     "text": [
      "\r",
      " 71%|███████▏  | 90452/126776 [04:00<01:49, 332.57it/s]"
     ]
    },
    {
     "name": "stderr",
     "output_type": "stream",
     "text": [
      "\r",
      " 71%|███████▏  | 90503/126776 [04:00<01:36, 374.68it/s]"
     ]
    },
    {
     "name": "stderr",
     "output_type": "stream",
     "text": [
      "\r",
      " 71%|███████▏  | 90545/126776 [04:00<01:38, 366.92it/s]"
     ]
    },
    {
     "name": "stderr",
     "output_type": "stream",
     "text": [
      "\r",
      " 71%|███████▏  | 90585/126776 [04:01<01:38, 366.00it/s]"
     ]
    },
    {
     "name": "stderr",
     "output_type": "stream",
     "text": [
      "\r",
      " 71%|███████▏  | 90643/126776 [04:01<01:25, 421.10it/s]"
     ]
    },
    {
     "name": "stderr",
     "output_type": "stream",
     "text": [
      "\r",
      " 72%|███████▏  | 90688/126776 [04:01<03:48, 157.83it/s]"
     ]
    },
    {
     "name": "stderr",
     "output_type": "stream",
     "text": [
      "\r",
      " 72%|███████▏  | 90747/126776 [04:01<02:50, 211.93it/s]"
     ]
    },
    {
     "name": "stderr",
     "output_type": "stream",
     "text": [
      "\r",
      " 72%|███████▏  | 90806/126776 [04:02<02:13, 269.14it/s]"
     ]
    },
    {
     "name": "stderr",
     "output_type": "stream",
     "text": [
      "\r",
      " 72%|███████▏  | 90865/126776 [04:02<01:50, 325.48it/s]"
     ]
    },
    {
     "name": "stderr",
     "output_type": "stream",
     "text": [
      "\r",
      " 72%|███████▏  | 90924/126776 [04:02<01:34, 378.76it/s]"
     ]
    },
    {
     "name": "stderr",
     "output_type": "stream",
     "text": [
      "\r",
      " 72%|███████▏  | 90982/126776 [04:02<01:24, 423.53it/s]"
     ]
    },
    {
     "name": "stderr",
     "output_type": "stream",
     "text": [
      "\r",
      " 72%|███████▏  | 91041/126776 [04:02<01:17, 462.05it/s]"
     ]
    },
    {
     "name": "stderr",
     "output_type": "stream",
     "text": [
      "\r",
      " 72%|███████▏  | 91099/126776 [04:02<01:12, 492.17it/s]"
     ]
    },
    {
     "name": "stderr",
     "output_type": "stream",
     "text": [
      "\r",
      " 72%|███████▏  | 91155/126776 [04:02<01:18, 451.71it/s]"
     ]
    },
    {
     "name": "stderr",
     "output_type": "stream",
     "text": [
      "\r",
      " 72%|███████▏  | 91214/126776 [04:02<01:13, 486.23it/s]"
     ]
    },
    {
     "name": "stderr",
     "output_type": "stream",
     "text": [
      "\r",
      " 72%|███████▏  | 91267/126776 [04:03<03:09, 187.41it/s]"
     ]
    },
    {
     "name": "stderr",
     "output_type": "stream",
     "text": [
      "\r",
      " 72%|███████▏  | 91326/126776 [04:03<02:29, 237.35it/s]"
     ]
    },
    {
     "name": "stderr",
     "output_type": "stream",
     "text": [
      "\r",
      " 72%|███████▏  | 91385/126776 [04:03<02:01, 290.20it/s]"
     ]
    },
    {
     "name": "stderr",
     "output_type": "stream",
     "text": [
      "\r",
      " 72%|███████▏  | 91444/126776 [04:03<01:43, 342.84it/s]"
     ]
    },
    {
     "name": "stderr",
     "output_type": "stream",
     "text": [
      "\r",
      " 72%|███████▏  | 91503/126776 [04:03<01:30, 391.88it/s]"
     ]
    },
    {
     "name": "stderr",
     "output_type": "stream",
     "text": [
      "\r",
      " 72%|███████▏  | 91562/126776 [04:04<01:20, 435.16it/s]"
     ]
    },
    {
     "name": "stderr",
     "output_type": "stream",
     "text": [
      "\r",
      " 72%|███████▏  | 91621/126776 [04:04<01:14, 470.69it/s]"
     ]
    },
    {
     "name": "stderr",
     "output_type": "stream",
     "text": [
      "\r",
      " 72%|███████▏  | 91680/126776 [04:04<01:10, 499.41it/s]"
     ]
    },
    {
     "name": "stderr",
     "output_type": "stream",
     "text": [
      "\r",
      " 72%|███████▏  | 91739/126776 [04:04<01:07, 522.17it/s]"
     ]
    },
    {
     "name": "stderr",
     "output_type": "stream",
     "text": [
      "\r",
      " 72%|███████▏  | 91798/126776 [04:04<01:04, 539.66it/s]"
     ]
    },
    {
     "name": "stderr",
     "output_type": "stream",
     "text": [
      "\r",
      " 72%|███████▏  | 91856/126776 [04:05<02:52, 202.96it/s]"
     ]
    },
    {
     "name": "stderr",
     "output_type": "stream",
     "text": [
      "\r",
      " 73%|███████▎  | 91915/126776 [04:05<02:17, 252.63it/s]"
     ]
    },
    {
     "name": "stderr",
     "output_type": "stream",
     "text": [
      "\r",
      " 73%|███████▎  | 91974/126776 [04:05<01:54, 304.70it/s]"
     ]
    },
    {
     "name": "stderr",
     "output_type": "stream",
     "text": [
      "\r",
      " 73%|███████▎  | 92033/126776 [04:05<01:37, 355.92it/s]"
     ]
    },
    {
     "name": "stderr",
     "output_type": "stream",
     "text": [
      "\r",
      " 73%|███████▎  | 92092/126776 [04:05<01:26, 403.06it/s]"
     ]
    },
    {
     "name": "stderr",
     "output_type": "stream",
     "text": [
      "\r",
      " 73%|███████▎  | 92151/126776 [04:05<01:17, 444.67it/s]"
     ]
    },
    {
     "name": "stderr",
     "output_type": "stream",
     "text": [
      "\r",
      " 73%|███████▎  | 92210/126776 [04:05<01:12, 478.79it/s]"
     ]
    },
    {
     "name": "stderr",
     "output_type": "stream",
     "text": [
      "\r",
      " 73%|███████▎  | 92269/126776 [04:05<01:08, 505.61it/s]"
     ]
    },
    {
     "name": "stderr",
     "output_type": "stream",
     "text": [
      "\r",
      " 73%|███████▎  | 92328/126776 [04:05<01:05, 526.38it/s]"
     ]
    },
    {
     "name": "stderr",
     "output_type": "stream",
     "text": [
      "\r",
      " 73%|███████▎  | 92386/126776 [04:06<02:54, 197.57it/s]"
     ]
    },
    {
     "name": "stderr",
     "output_type": "stream",
     "text": [
      "\r",
      " 73%|███████▎  | 92443/126776 [04:06<02:20, 244.48it/s]"
     ]
    },
    {
     "name": "stderr",
     "output_type": "stream",
     "text": [
      "\r",
      " 73%|███████▎  | 92502/126776 [04:06<01:55, 296.66it/s]"
     ]
    },
    {
     "name": "stderr",
     "output_type": "stream",
     "text": [
      "\r",
      " 73%|███████▎  | 92559/126776 [04:06<01:39, 345.05it/s]"
     ]
    },
    {
     "name": "stderr",
     "output_type": "stream",
     "text": [
      "\r",
      " 73%|███████▎  | 92617/126776 [04:07<01:27, 392.48it/s]"
     ]
    },
    {
     "name": "stderr",
     "output_type": "stream",
     "text": [
      "\r",
      " 73%|███████▎  | 92676/126776 [04:07<01:18, 435.87it/s]"
     ]
    },
    {
     "name": "stderr",
     "output_type": "stream",
     "text": [
      "\r",
      " 73%|███████▎  | 92735/126776 [04:07<01:12, 471.56it/s]"
     ]
    },
    {
     "name": "stderr",
     "output_type": "stream",
     "text": [
      "\r",
      " 73%|███████▎  | 92793/126776 [04:07<01:08, 499.10it/s]"
     ]
    },
    {
     "name": "stderr",
     "output_type": "stream",
     "text": [
      "\r",
      " 73%|███████▎  | 92852/126776 [04:07<01:05, 521.63it/s]"
     ]
    },
    {
     "name": "stderr",
     "output_type": "stream",
     "text": [
      "\r",
      " 73%|███████▎  | 92910/126776 [04:07<01:02, 537.75it/s]"
     ]
    },
    {
     "name": "stderr",
     "output_type": "stream",
     "text": [
      "\r",
      " 73%|███████▎  | 92968/126776 [04:08<02:48, 200.35it/s]"
     ]
    },
    {
     "name": "stderr",
     "output_type": "stream",
     "text": [
      "\r",
      " 73%|███████▎  | 93027/126776 [04:08<02:15, 249.96it/s]"
     ]
    },
    {
     "name": "stderr",
     "output_type": "stream",
     "text": [
      "\r",
      " 73%|███████▎  | 93086/126776 [04:08<01:51, 302.01it/s]"
     ]
    },
    {
     "name": "stderr",
     "output_type": "stream",
     "text": [
      "\r",
      " 73%|███████▎  | 93144/126776 [04:08<01:35, 351.81it/s]"
     ]
    },
    {
     "name": "stderr",
     "output_type": "stream",
     "text": [
      "\r",
      " 74%|███████▎  | 93203/126776 [04:08<01:24, 399.62it/s]"
     ]
    },
    {
     "name": "stderr",
     "output_type": "stream",
     "text": [
      "\r",
      " 74%|███████▎  | 93262/126776 [04:08<01:15, 441.51it/s]"
     ]
    },
    {
     "name": "stderr",
     "output_type": "stream",
     "text": [
      "\r",
      " 74%|███████▎  | 93321/126776 [04:08<01:10, 475.95it/s]"
     ]
    },
    {
     "name": "stderr",
     "output_type": "stream",
     "text": [
      "\r",
      " 74%|███████▎  | 93379/126776 [04:09<01:06, 502.29it/s]"
     ]
    },
    {
     "name": "stderr",
     "output_type": "stream",
     "text": [
      "\r",
      " 74%|███████▎  | 93438/126776 [04:09<01:03, 523.86it/s]"
     ]
    },
    {
     "name": "stderr",
     "output_type": "stream",
     "text": [
      "\r",
      " 74%|███████▎  | 93497/126776 [04:09<01:01, 540.28it/s]"
     ]
    },
    {
     "name": "stderr",
     "output_type": "stream",
     "text": [
      "\r",
      " 74%|███████▍  | 93555/126776 [04:09<02:44, 202.40it/s]"
     ]
    },
    {
     "name": "stderr",
     "output_type": "stream",
     "text": [
      "\r",
      " 74%|███████▍  | 93613/126776 [04:10<02:12, 251.12it/s]"
     ]
    },
    {
     "name": "stderr",
     "output_type": "stream",
     "text": [
      "\r",
      " 74%|███████▍  | 93671/126776 [04:10<01:49, 302.19it/s]"
     ]
    },
    {
     "name": "stderr",
     "output_type": "stream",
     "text": [
      "\r",
      " 74%|███████▍  | 93730/126776 [04:10<01:33, 353.84it/s]"
     ]
    },
    {
     "name": "stderr",
     "output_type": "stream",
     "text": [
      "\r",
      " 74%|███████▍  | 93789/126776 [04:10<01:22, 401.61it/s]"
     ]
    },
    {
     "name": "stderr",
     "output_type": "stream",
     "text": [
      "\r",
      " 74%|███████▍  | 93846/126776 [04:10<01:14, 439.54it/s]"
     ]
    },
    {
     "name": "stderr",
     "output_type": "stream",
     "text": [
      "\r",
      " 74%|███████▍  | 93904/126776 [04:10<01:09, 473.51it/s]"
     ]
    },
    {
     "name": "stderr",
     "output_type": "stream",
     "text": [
      "\r",
      " 74%|███████▍  | 93963/126776 [04:10<01:05, 502.00it/s]"
     ]
    },
    {
     "name": "stderr",
     "output_type": "stream",
     "text": [
      "\r",
      " 74%|███████▍  | 94022/126776 [04:10<01:02, 524.10it/s]"
     ]
    },
    {
     "name": "stderr",
     "output_type": "stream",
     "text": [
      "\r",
      " 74%|███████▍  | 94080/126776 [04:10<01:00, 539.13it/s]"
     ]
    },
    {
     "name": "stderr",
     "output_type": "stream",
     "text": [
      "\r",
      " 74%|███████▍  | 94138/126776 [04:11<02:47, 194.60it/s]"
     ]
    },
    {
     "name": "stderr",
     "output_type": "stream",
     "text": [
      "\r",
      " 74%|███████▍  | 94181/126776 [04:11<02:32, 213.70it/s]"
     ]
    },
    {
     "name": "stderr",
     "output_type": "stream",
     "text": [
      "\r",
      " 74%|███████▍  | 94221/126776 [04:11<02:22, 227.88it/s]"
     ]
    },
    {
     "name": "stderr",
     "output_type": "stream",
     "text": [
      "\r",
      " 74%|███████▍  | 94257/126776 [04:11<02:12, 245.39it/s]"
     ]
    },
    {
     "name": "stderr",
     "output_type": "stream",
     "text": [
      "\r",
      " 74%|███████▍  | 94292/126776 [04:12<02:07, 254.54it/s]"
     ]
    },
    {
     "name": "stderr",
     "output_type": "stream",
     "text": [
      "\r",
      " 74%|███████▍  | 94326/126776 [04:12<02:03, 262.39it/s]"
     ]
    },
    {
     "name": "stderr",
     "output_type": "stream",
     "text": [
      "\r",
      " 74%|███████▍  | 94358/126776 [04:12<02:00, 268.51it/s]"
     ]
    },
    {
     "name": "stderr",
     "output_type": "stream",
     "text": [
      "\r",
      " 74%|███████▍  | 94389/126776 [04:12<01:58, 272.89it/s]"
     ]
    },
    {
     "name": "stderr",
     "output_type": "stream",
     "text": [
      "\r",
      " 74%|███████▍  | 94420/126776 [04:12<01:57, 276.47it/s]"
     ]
    },
    {
     "name": "stderr",
     "output_type": "stream",
     "text": [
      "\r",
      " 75%|███████▍  | 94450/126776 [04:12<01:55, 279.90it/s]"
     ]
    },
    {
     "name": "stderr",
     "output_type": "stream",
     "text": [
      "\r",
      " 75%|███████▍  | 94480/126776 [04:12<01:54, 282.38it/s]"
     ]
    },
    {
     "name": "stderr",
     "output_type": "stream",
     "text": [
      "\r",
      " 75%|███████▍  | 94510/126776 [04:12<01:53, 284.18it/s]"
     ]
    },
    {
     "name": "stderr",
     "output_type": "stream",
     "text": [
      "\r",
      " 75%|███████▍  | 94540/126776 [04:12<01:53, 285.25it/s]"
     ]
    },
    {
     "name": "stderr",
     "output_type": "stream",
     "text": [
      "\r",
      " 75%|███████▍  | 94588/126776 [04:13<01:34, 339.75it/s]"
     ]
    },
    {
     "name": "stderr",
     "output_type": "stream",
     "text": [
      "\r",
      " 75%|███████▍  | 94647/126776 [04:13<01:18, 410.91it/s]"
     ]
    },
    {
     "name": "stderr",
     "output_type": "stream",
     "text": [
      "\r",
      " 75%|███████▍  | 94689/126776 [04:13<03:39, 145.90it/s]"
     ]
    },
    {
     "name": "stderr",
     "output_type": "stream",
     "text": [
      "\r",
      " 75%|███████▍  | 94721/126776 [04:13<03:13, 165.63it/s]"
     ]
    },
    {
     "name": "stderr",
     "output_type": "stream",
     "text": [
      "\r",
      " 75%|███████▍  | 94752/126776 [04:14<02:52, 185.33it/s]"
     ]
    },
    {
     "name": "stderr",
     "output_type": "stream",
     "text": [
      "\r",
      " 75%|███████▍  | 94782/126776 [04:14<02:36, 204.05it/s]"
     ]
    },
    {
     "name": "stderr",
     "output_type": "stream",
     "text": [
      "\r",
      " 75%|███████▍  | 94812/126776 [04:14<02:30, 212.67it/s]"
     ]
    },
    {
     "name": "stderr",
     "output_type": "stream",
     "text": [
      "\r",
      " 75%|███████▍  | 94840/126776 [04:14<02:34, 206.17it/s]"
     ]
    },
    {
     "name": "stderr",
     "output_type": "stream",
     "text": [
      "\r",
      " 75%|███████▍  | 94866/126776 [04:14<02:40, 198.22it/s]"
     ]
    },
    {
     "name": "stderr",
     "output_type": "stream",
     "text": [
      "\r",
      " 75%|███████▍  | 94889/126776 [04:14<02:40, 198.28it/s]"
     ]
    },
    {
     "name": "stderr",
     "output_type": "stream",
     "text": [
      "\r",
      " 75%|███████▍  | 94912/126776 [04:14<02:36, 203.79it/s]"
     ]
    },
    {
     "name": "stderr",
     "output_type": "stream",
     "text": [
      "\r",
      " 75%|███████▍  | 94935/126776 [04:14<02:38, 201.04it/s]"
     ]
    },
    {
     "name": "stderr",
     "output_type": "stream",
     "text": [
      "\r",
      " 75%|███████▍  | 94958/126776 [04:15<02:32, 208.14it/s]"
     ]
    },
    {
     "name": "stderr",
     "output_type": "stream",
     "text": [
      "\r",
      " 75%|███████▍  | 94980/126776 [04:15<02:44, 193.85it/s]"
     ]
    },
    {
     "name": "stderr",
     "output_type": "stream",
     "text": [
      "\r",
      " 75%|███████▍  | 95003/126776 [04:15<02:37, 201.94it/s]"
     ]
    },
    {
     "name": "stderr",
     "output_type": "stream",
     "text": [
      "\r",
      " 75%|███████▍  | 95032/126776 [04:15<02:20, 225.25it/s]"
     ]
    },
    {
     "name": "stderr",
     "output_type": "stream",
     "text": [
      "\r",
      " 75%|███████▍  | 95057/126776 [04:15<02:18, 229.62it/s]"
     ]
    },
    {
     "name": "stderr",
     "output_type": "stream",
     "text": [
      "\r",
      " 75%|███████▌  | 95082/126776 [04:15<02:15, 233.28it/s]"
     ]
    },
    {
     "name": "stderr",
     "output_type": "stream",
     "text": [
      "\r",
      " 75%|███████▌  | 95108/126776 [04:15<02:12, 239.59it/s]"
     ]
    },
    {
     "name": "stderr",
     "output_type": "stream",
     "text": [
      "\r",
      " 75%|███████▌  | 95133/126776 [04:15<02:11, 239.73it/s]"
     ]
    },
    {
     "name": "stderr",
     "output_type": "stream",
     "text": [
      "\r",
      " 75%|███████▌  | 95158/126776 [04:15<02:11, 239.90it/s]"
     ]
    },
    {
     "name": "stderr",
     "output_type": "stream",
     "text": [
      "\r",
      " 75%|███████▌  | 95183/126776 [04:16<02:28, 213.10it/s]"
     ]
    },
    {
     "name": "stderr",
     "output_type": "stream",
     "text": [
      "\r",
      " 75%|███████▌  | 95205/126776 [04:16<02:37, 200.36it/s]"
     ]
    },
    {
     "name": "stderr",
     "output_type": "stream",
     "text": [
      "\r",
      " 75%|███████▌  | 95234/126776 [04:16<02:21, 223.45it/s]"
     ]
    },
    {
     "name": "stderr",
     "output_type": "stream",
     "text": [
      "\r",
      " 75%|███████▌  | 95262/126776 [04:17<06:56, 75.60it/s] "
     ]
    },
    {
     "name": "stderr",
     "output_type": "stream",
     "text": [
      "\r",
      " 75%|███████▌  | 95291/126776 [04:17<05:18, 98.99it/s]"
     ]
    },
    {
     "name": "stderr",
     "output_type": "stream",
     "text": [
      "\r",
      " 75%|███████▌  | 95316/126776 [04:17<04:23, 119.29it/s]"
     ]
    },
    {
     "name": "stderr",
     "output_type": "stream",
     "text": [
      "\r",
      " 75%|███████▌  | 95345/126776 [04:17<03:34, 146.80it/s]"
     ]
    },
    {
     "name": "stderr",
     "output_type": "stream",
     "text": [
      "\r",
      " 75%|███████▌  | 95374/126776 [04:17<03:01, 173.47it/s]"
     ]
    },
    {
     "name": "stderr",
     "output_type": "stream",
     "text": [
      "\r",
      " 75%|███████▌  | 95403/126776 [04:17<02:38, 197.79it/s]"
     ]
    },
    {
     "name": "stderr",
     "output_type": "stream",
     "text": [
      "\r",
      " 75%|███████▌  | 95455/126776 [04:17<01:55, 271.35it/s]"
     ]
    },
    {
     "name": "stderr",
     "output_type": "stream",
     "text": [
      "\r",
      " 75%|███████▌  | 95508/126776 [04:17<01:33, 334.70it/s]"
     ]
    },
    {
     "name": "stderr",
     "output_type": "stream",
     "text": [
      "\r",
      " 75%|███████▌  | 95561/126776 [04:17<01:21, 384.25it/s]"
     ]
    },
    {
     "name": "stderr",
     "output_type": "stream",
     "text": [
      "\r",
      " 75%|███████▌  | 95614/126776 [04:18<01:13, 422.45it/s]"
     ]
    },
    {
     "name": "stderr",
     "output_type": "stream",
     "text": [
      "\r",
      " 75%|███████▌  | 95672/126776 [04:18<01:07, 464.20it/s]"
     ]
    },
    {
     "name": "stderr",
     "output_type": "stream",
     "text": [
      "\r",
      " 76%|███████▌  | 95731/126776 [04:18<01:02, 498.80it/s]"
     ]
    },
    {
     "name": "stderr",
     "output_type": "stream",
     "text": [
      "\r",
      " 76%|███████▌  | 95790/126776 [04:18<00:59, 523.89it/s]"
     ]
    },
    {
     "name": "stderr",
     "output_type": "stream",
     "text": [
      "\r",
      " 76%|███████▌  | 95849/126776 [04:18<00:57, 541.06it/s]"
     ]
    },
    {
     "name": "stderr",
     "output_type": "stream",
     "text": [
      "\r",
      " 76%|███████▌  | 95905/126776 [04:19<02:46, 184.88it/s]"
     ]
    },
    {
     "name": "stderr",
     "output_type": "stream",
     "text": [
      "\r",
      " 76%|███████▌  | 95958/126776 [04:19<02:15, 227.21it/s]"
     ]
    },
    {
     "name": "stderr",
     "output_type": "stream",
     "text": [
      "\r",
      " 76%|███████▌  | 96017/126776 [04:19<01:49, 281.27it/s]"
     ]
    },
    {
     "name": "stderr",
     "output_type": "stream",
     "text": [
      "\r",
      " 76%|███████▌  | 96075/126776 [04:19<01:31, 333.85it/s]"
     ]
    },
    {
     "name": "stderr",
     "output_type": "stream",
     "text": [
      "\r",
      " 76%|███████▌  | 96134/126776 [04:19<01:19, 384.78it/s]"
     ]
    },
    {
     "name": "stderr",
     "output_type": "stream",
     "text": [
      "\r",
      " 76%|███████▌  | 96192/126776 [04:19<01:11, 428.29it/s]"
     ]
    },
    {
     "name": "stderr",
     "output_type": "stream",
     "text": [
      "\r",
      " 76%|███████▌  | 96250/126776 [04:19<01:05, 464.16it/s]"
     ]
    },
    {
     "name": "stderr",
     "output_type": "stream",
     "text": [
      "\r",
      " 76%|███████▌  | 96309/126776 [04:19<01:01, 495.82it/s]"
     ]
    },
    {
     "name": "stderr",
     "output_type": "stream",
     "text": [
      "\r",
      " 76%|███████▌  | 96368/126776 [04:20<00:58, 519.19it/s]"
     ]
    },
    {
     "name": "stderr",
     "output_type": "stream",
     "text": [
      "\r",
      " 76%|███████▌  | 96427/126776 [04:20<00:56, 537.47it/s]"
     ]
    },
    {
     "name": "stderr",
     "output_type": "stream",
     "text": [
      "\r",
      " 76%|███████▌  | 96485/126776 [04:20<02:35, 194.76it/s]"
     ]
    },
    {
     "name": "stderr",
     "output_type": "stream",
     "text": [
      "\r",
      " 76%|███████▌  | 96537/126776 [04:21<02:08, 235.25it/s]"
     ]
    },
    {
     "name": "stderr",
     "output_type": "stream",
     "text": [
      "\r",
      " 76%|███████▌  | 96595/126776 [04:21<01:45, 287.22it/s]"
     ]
    },
    {
     "name": "stderr",
     "output_type": "stream",
     "text": [
      "\r",
      " 76%|███████▌  | 96654/126776 [04:21<01:28, 340.80it/s]"
     ]
    },
    {
     "name": "stderr",
     "output_type": "stream",
     "text": [
      "\r",
      " 76%|███████▋  | 96713/126776 [04:21<01:17, 390.31it/s]"
     ]
    },
    {
     "name": "stderr",
     "output_type": "stream",
     "text": [
      "\r",
      " 76%|███████▋  | 96772/126776 [04:21<01:09, 434.36it/s]"
     ]
    },
    {
     "name": "stderr",
     "output_type": "stream",
     "text": [
      "\r",
      " 76%|███████▋  | 96830/126776 [04:21<01:04, 467.82it/s]"
     ]
    },
    {
     "name": "stderr",
     "output_type": "stream",
     "text": [
      "\r",
      " 76%|███████▋  | 96886/126776 [04:21<01:01, 485.83it/s]"
     ]
    },
    {
     "name": "stderr",
     "output_type": "stream",
     "text": [
      "\r",
      " 76%|███████▋  | 96945/126776 [04:21<00:58, 511.67it/s]"
     ]
    },
    {
     "name": "stderr",
     "output_type": "stream",
     "text": [
      "\r",
      " 77%|███████▋  | 97002/126776 [04:21<00:56, 526.86it/s]"
     ]
    },
    {
     "name": "stderr",
     "output_type": "stream",
     "text": [
      "\r",
      " 77%|███████▋  | 97059/126776 [04:22<03:25, 144.91it/s]"
     ]
    },
    {
     "name": "stderr",
     "output_type": "stream",
     "text": [
      "\r",
      " 77%|███████▋  | 97114/126776 [04:22<02:41, 184.14it/s]"
     ]
    },
    {
     "name": "stderr",
     "output_type": "stream",
     "text": [
      "\r",
      " 77%|███████▋  | 97173/126776 [04:23<02:06, 233.25it/s]"
     ]
    },
    {
     "name": "stderr",
     "output_type": "stream",
     "text": [
      "\r",
      " 77%|███████▋  | 97232/126776 [04:23<01:43, 285.73it/s]"
     ]
    },
    {
     "name": "stderr",
     "output_type": "stream",
     "text": [
      "\r",
      " 77%|███████▋  | 97291/126776 [04:23<01:27, 338.28it/s]"
     ]
    },
    {
     "name": "stderr",
     "output_type": "stream",
     "text": [
      "\r",
      " 77%|███████▋  | 97345/126776 [04:23<01:24, 349.41it/s]"
     ]
    },
    {
     "name": "stderr",
     "output_type": "stream",
     "text": [
      "\r",
      " 77%|███████▋  | 97402/126776 [04:23<01:14, 393.98it/s]"
     ]
    },
    {
     "name": "stderr",
     "output_type": "stream",
     "text": [
      "\r",
      " 77%|███████▋  | 97461/126776 [04:23<01:07, 437.20it/s]"
     ]
    },
    {
     "name": "stderr",
     "output_type": "stream",
     "text": [
      "\r",
      " 77%|███████▋  | 97520/126776 [04:23<01:01, 473.06it/s]"
     ]
    },
    {
     "name": "stderr",
     "output_type": "stream",
     "text": [
      "\r",
      " 77%|███████▋  | 97579/126776 [04:23<00:58, 502.09it/s]"
     ]
    },
    {
     "name": "stderr",
     "output_type": "stream",
     "text": [
      "\r",
      " 77%|███████▋  | 97635/126776 [04:24<02:43, 178.58it/s]"
     ]
    },
    {
     "name": "stderr",
     "output_type": "stream",
     "text": [
      "\r",
      " 77%|███████▋  | 97693/126776 [04:24<02:09, 225.45it/s]"
     ]
    },
    {
     "name": "stderr",
     "output_type": "stream",
     "text": [
      "\r",
      " 77%|███████▋  | 97751/126776 [04:24<01:45, 275.93it/s]"
     ]
    },
    {
     "name": "stderr",
     "output_type": "stream",
     "text": [
      "\r",
      " 77%|███████▋  | 97809/126776 [04:24<01:28, 327.52it/s]"
     ]
    },
    {
     "name": "stderr",
     "output_type": "stream",
     "text": [
      "\r",
      " 77%|███████▋  | 97868/126776 [04:25<01:16, 378.00it/s]"
     ]
    },
    {
     "name": "stderr",
     "output_type": "stream",
     "text": [
      "\r",
      " 77%|███████▋  | 97927/126776 [04:25<01:08, 423.00it/s]"
     ]
    },
    {
     "name": "stderr",
     "output_type": "stream",
     "text": [
      "\r",
      " 77%|███████▋  | 97986/126776 [04:25<01:02, 461.24it/s]"
     ]
    },
    {
     "name": "stderr",
     "output_type": "stream",
     "text": [
      "\r",
      " 77%|███████▋  | 98045/126776 [04:25<00:58, 491.79it/s]"
     ]
    },
    {
     "name": "stderr",
     "output_type": "stream",
     "text": [
      "\r",
      " 77%|███████▋  | 98104/126776 [04:25<00:55, 516.22it/s]"
     ]
    },
    {
     "name": "stderr",
     "output_type": "stream",
     "text": [
      "\r",
      " 77%|███████▋  | 98163/126776 [04:25<00:53, 534.47it/s]"
     ]
    },
    {
     "name": "stderr",
     "output_type": "stream",
     "text": [
      "\r",
      " 77%|███████▋  | 98221/126776 [04:26<02:32, 187.76it/s]"
     ]
    },
    {
     "name": "stderr",
     "output_type": "stream",
     "text": [
      "\r",
      " 78%|███████▊  | 98280/126776 [04:26<02:00, 235.92it/s]"
     ]
    },
    {
     "name": "stderr",
     "output_type": "stream",
     "text": [
      "\r",
      " 78%|███████▊  | 98339/126776 [04:26<01:39, 287.23it/s]"
     ]
    },
    {
     "name": "stderr",
     "output_type": "stream",
     "text": [
      "\r",
      " 78%|███████▊  | 98398/126776 [04:26<01:23, 338.81it/s]"
     ]
    },
    {
     "name": "stderr",
     "output_type": "stream",
     "text": [
      "\r",
      " 78%|███████▊  | 98457/126776 [04:26<01:13, 387.42it/s]"
     ]
    },
    {
     "name": "stderr",
     "output_type": "stream",
     "text": [
      "\r",
      " 78%|███████▊  | 98516/126776 [04:26<01:05, 430.40it/s]"
     ]
    },
    {
     "name": "stderr",
     "output_type": "stream",
     "text": [
      "\r",
      " 78%|███████▊  | 98575/126776 [04:26<01:00, 466.79it/s]"
     ]
    },
    {
     "name": "stderr",
     "output_type": "stream",
     "text": [
      "\r",
      " 78%|███████▊  | 98634/126776 [04:27<00:56, 496.03it/s]"
     ]
    },
    {
     "name": "stderr",
     "output_type": "stream",
     "text": [
      "\r",
      " 78%|███████▊  | 98693/126776 [04:27<00:54, 518.87it/s]"
     ]
    },
    {
     "name": "stderr",
     "output_type": "stream",
     "text": [
      "\r",
      " 78%|███████▊  | 98752/126776 [04:27<00:52, 536.62it/s]"
     ]
    },
    {
     "name": "stderr",
     "output_type": "stream",
     "text": [
      "\r",
      " 78%|███████▊  | 98810/126776 [04:28<02:26, 191.22it/s]"
     ]
    },
    {
     "name": "stderr",
     "output_type": "stream",
     "text": [
      "\r",
      " 78%|███████▊  | 98868/126776 [04:28<01:56, 238.84it/s]"
     ]
    },
    {
     "name": "stderr",
     "output_type": "stream",
     "text": [
      "\r",
      " 78%|███████▊  | 98926/126776 [04:28<01:36, 289.41it/s]"
     ]
    },
    {
     "name": "stderr",
     "output_type": "stream",
     "text": [
      "\r",
      " 78%|███████▊  | 98983/126776 [04:28<01:22, 338.12it/s]"
     ]
    },
    {
     "name": "stderr",
     "output_type": "stream",
     "text": [
      "\r",
      " 78%|███████▊  | 99041/126776 [04:28<01:11, 385.99it/s]"
     ]
    },
    {
     "name": "stderr",
     "output_type": "stream",
     "text": [
      "\r",
      " 78%|███████▊  | 99099/126776 [04:28<01:04, 428.95it/s]"
     ]
    },
    {
     "name": "stderr",
     "output_type": "stream",
     "text": [
      "\r",
      " 78%|███████▊  | 99155/126776 [04:28<01:00, 459.90it/s]"
     ]
    },
    {
     "name": "stderr",
     "output_type": "stream",
     "text": [
      "\r",
      " 78%|███████▊  | 99212/126776 [04:28<00:56, 487.36it/s]"
     ]
    },
    {
     "name": "stderr",
     "output_type": "stream",
     "text": [
      "\r",
      " 78%|███████▊  | 99270/126776 [04:28<00:53, 511.23it/s]"
     ]
    },
    {
     "name": "stderr",
     "output_type": "stream",
     "text": [
      "\r",
      " 78%|███████▊  | 99328/126776 [04:28<00:51, 529.19it/s]"
     ]
    },
    {
     "name": "stderr",
     "output_type": "stream",
     "text": [
      "\r",
      " 78%|███████▊  | 99385/126776 [04:29<02:29, 183.27it/s]"
     ]
    },
    {
     "name": "stderr",
     "output_type": "stream",
     "text": [
      "\r",
      " 78%|███████▊  | 99443/126776 [04:29<01:58, 230.90it/s]"
     ]
    },
    {
     "name": "stderr",
     "output_type": "stream",
     "text": [
      "\r",
      " 78%|███████▊  | 99501/126776 [04:29<01:36, 281.54it/s]"
     ]
    },
    {
     "name": "stderr",
     "output_type": "stream",
     "text": [
      "\r",
      " 79%|███████▊  | 99559/126776 [04:30<01:21, 333.06it/s]"
     ]
    },
    {
     "name": "stderr",
     "output_type": "stream",
     "text": [
      "\r",
      " 79%|███████▊  | 99616/126776 [04:30<01:11, 379.94it/s]"
     ]
    },
    {
     "name": "stderr",
     "output_type": "stream",
     "text": [
      "\r",
      " 79%|███████▊  | 99674/126776 [04:30<01:04, 423.10it/s]"
     ]
    },
    {
     "name": "stderr",
     "output_type": "stream",
     "text": [
      "\r",
      " 79%|███████▊  | 99732/126776 [04:30<00:58, 460.44it/s]"
     ]
    },
    {
     "name": "stderr",
     "output_type": "stream",
     "text": [
      "\r",
      " 79%|███████▊  | 99790/126776 [04:30<00:55, 490.44it/s]"
     ]
    },
    {
     "name": "stderr",
     "output_type": "stream",
     "text": [
      "\r",
      " 79%|███████▉  | 99848/126776 [04:30<00:52, 513.98it/s]"
     ]
    },
    {
     "name": "stderr",
     "output_type": "stream",
     "text": [
      "\r",
      " 79%|███████▉  | 99906/126776 [04:30<00:50, 530.87it/s]"
     ]
    },
    {
     "name": "stderr",
     "output_type": "stream",
     "text": [
      "\r",
      " 79%|███████▉  | 99964/126776 [04:30<00:49, 543.17it/s]"
     ]
    },
    {
     "name": "stderr",
     "output_type": "stream",
     "text": [
      "\r",
      " 79%|███████▉  | 100022/126776 [04:31<02:21, 188.44it/s]"
     ]
    },
    {
     "name": "stderr",
     "output_type": "stream",
     "text": [
      "\r",
      " 79%|███████▉  | 100079/126776 [04:31<01:53, 234.96it/s]"
     ]
    },
    {
     "name": "stderr",
     "output_type": "stream",
     "text": [
      "\r",
      " 79%|███████▉  | 100136/126776 [04:31<01:33, 284.70it/s]"
     ]
    },
    {
     "name": "stderr",
     "output_type": "stream",
     "text": [
      "\r",
      " 79%|███████▉  | 100194/126776 [04:31<01:19, 336.05it/s]"
     ]
    },
    {
     "name": "stderr",
     "output_type": "stream",
     "text": [
      "\r",
      " 79%|███████▉  | 100252/126776 [04:31<01:09, 384.04it/s]"
     ]
    },
    {
     "name": "stderr",
     "output_type": "stream",
     "text": [
      "\r",
      " 79%|███████▉  | 100310/126776 [04:31<01:01, 427.36it/s]"
     ]
    },
    {
     "name": "stderr",
     "output_type": "stream",
     "text": [
      "\r",
      " 79%|███████▉  | 100368/126776 [04:32<00:57, 463.12it/s]"
     ]
    },
    {
     "name": "stderr",
     "output_type": "stream",
     "text": [
      "\r",
      " 79%|███████▉  | 100426/126776 [04:32<00:53, 490.79it/s]"
     ]
    },
    {
     "name": "stderr",
     "output_type": "stream",
     "text": [
      "\r",
      " 79%|███████▉  | 100484/126776 [04:32<00:51, 514.51it/s]"
     ]
    },
    {
     "name": "stderr",
     "output_type": "stream",
     "text": [
      "\r",
      " 79%|███████▉  | 100542/126776 [04:32<00:49, 531.31it/s]"
     ]
    },
    {
     "name": "stderr",
     "output_type": "stream",
     "text": [
      "\r",
      " 79%|███████▉  | 100599/126776 [04:33<02:25, 179.33it/s]"
     ]
    },
    {
     "name": "stderr",
     "output_type": "stream",
     "text": [
      "\r",
      " 79%|███████▉  | 100656/126776 [04:33<01:55, 225.21it/s]"
     ]
    },
    {
     "name": "stderr",
     "output_type": "stream",
     "text": [
      "\r",
      " 79%|███████▉  | 100713/126776 [04:33<01:34, 274.65it/s]"
     ]
    },
    {
     "name": "stderr",
     "output_type": "stream",
     "text": [
      "\r",
      " 79%|███████▉  | 100770/126776 [04:33<01:20, 324.59it/s]"
     ]
    },
    {
     "name": "stderr",
     "output_type": "stream",
     "text": [
      "\r",
      " 80%|███████▉  | 100828/126776 [04:33<01:09, 373.99it/s]"
     ]
    },
    {
     "name": "stderr",
     "output_type": "stream",
     "text": [
      "\r",
      " 80%|███████▉  | 100886/126776 [04:33<01:01, 418.66it/s]"
     ]
    },
    {
     "name": "stderr",
     "output_type": "stream",
     "text": [
      "\r",
      " 80%|███████▉  | 100944/126776 [04:33<00:56, 455.73it/s]"
     ]
    },
    {
     "name": "stderr",
     "output_type": "stream",
     "text": [
      "\r",
      " 80%|███████▉  | 101002/126776 [04:33<00:53, 485.87it/s]"
     ]
    },
    {
     "name": "stderr",
     "output_type": "stream",
     "text": [
      "\r",
      " 80%|███████▉  | 101060/126776 [04:34<00:50, 509.21it/s]"
     ]
    },
    {
     "name": "stderr",
     "output_type": "stream",
     "text": [
      "\r",
      " 80%|███████▉  | 101118/126776 [04:34<00:48, 526.29it/s]"
     ]
    },
    {
     "name": "stderr",
     "output_type": "stream",
     "text": [
      "\r",
      " 80%|███████▉  | 101175/126776 [04:34<02:29, 171.30it/s]"
     ]
    },
    {
     "name": "stderr",
     "output_type": "stream",
     "text": [
      "\r",
      " 80%|███████▉  | 101233/126776 [04:35<01:57, 217.22it/s]"
     ]
    },
    {
     "name": "stderr",
     "output_type": "stream",
     "text": [
      "\r",
      " 80%|███████▉  | 101290/126776 [04:35<01:35, 266.09it/s]"
     ]
    },
    {
     "name": "stderr",
     "output_type": "stream",
     "text": [
      "\r",
      " 80%|███████▉  | 101348/126776 [04:35<01:20, 317.31it/s]"
     ]
    },
    {
     "name": "stderr",
     "output_type": "stream",
     "text": [
      "\r",
      " 80%|███████▉  | 101406/126776 [04:35<01:09, 367.10it/s]"
     ]
    },
    {
     "name": "stderr",
     "output_type": "stream",
     "text": [
      "\r",
      " 80%|████████  | 101464/126776 [04:35<01:01, 412.60it/s]"
     ]
    },
    {
     "name": "stderr",
     "output_type": "stream",
     "text": [
      "\r",
      " 80%|████████  | 101522/126776 [04:35<00:56, 450.62it/s]"
     ]
    },
    {
     "name": "stderr",
     "output_type": "stream",
     "text": [
      "\r",
      " 80%|████████  | 101580/126776 [04:35<00:52, 482.75it/s]"
     ]
    },
    {
     "name": "stderr",
     "output_type": "stream",
     "text": [
      "\r",
      " 80%|████████  | 101638/126776 [04:35<00:49, 506.97it/s]"
     ]
    },
    {
     "name": "stderr",
     "output_type": "stream",
     "text": [
      "\r",
      " 80%|████████  | 101696/126776 [04:35<00:47, 525.99it/s]"
     ]
    },
    {
     "name": "stderr",
     "output_type": "stream",
     "text": [
      "\r",
      " 80%|████████  | 101753/126776 [04:36<02:22, 175.93it/s]"
     ]
    },
    {
     "name": "stderr",
     "output_type": "stream",
     "text": [
      "\r",
      " 80%|████████  | 101811/126776 [04:36<01:52, 222.31it/s]"
     ]
    },
    {
     "name": "stderr",
     "output_type": "stream",
     "text": [
      "\r",
      " 80%|████████  | 101865/126776 [04:36<01:33, 267.13it/s]"
     ]
    },
    {
     "name": "stderr",
     "output_type": "stream",
     "text": [
      "\r",
      " 80%|████████  | 101923/126776 [04:37<01:17, 319.56it/s]"
     ]
    },
    {
     "name": "stderr",
     "output_type": "stream",
     "text": [
      "\r",
      " 80%|████████  | 101982/126776 [04:37<01:06, 370.87it/s]"
     ]
    },
    {
     "name": "stderr",
     "output_type": "stream",
     "text": [
      "\r",
      " 80%|████████  | 102041/126776 [04:37<00:59, 416.79it/s]"
     ]
    },
    {
     "name": "stderr",
     "output_type": "stream",
     "text": [
      "\r",
      " 81%|████████  | 102100/126776 [04:37<00:54, 456.27it/s]"
     ]
    },
    {
     "name": "stderr",
     "output_type": "stream",
     "text": [
      "\r",
      " 81%|████████  | 102159/126776 [04:37<00:50, 488.19it/s]"
     ]
    },
    {
     "name": "stderr",
     "output_type": "stream",
     "text": [
      "\r",
      " 81%|████████  | 102218/126776 [04:37<00:47, 513.27it/s]"
     ]
    },
    {
     "name": "stderr",
     "output_type": "stream",
     "text": [
      "\r",
      " 81%|████████  | 102277/126776 [04:37<00:45, 532.75it/s]"
     ]
    },
    {
     "name": "stderr",
     "output_type": "stream",
     "text": [
      "\r",
      " 81%|████████  | 102335/126776 [04:39<03:58, 102.55it/s]"
     ]
    },
    {
     "name": "stderr",
     "output_type": "stream",
     "text": [
      "\r",
      " 81%|████████  | 102384/126776 [04:39<03:08, 129.42it/s]"
     ]
    },
    {
     "name": "stderr",
     "output_type": "stream",
     "text": [
      "\r",
      " 81%|████████  | 102428/126776 [04:39<02:35, 156.72it/s]"
     ]
    },
    {
     "name": "stderr",
     "output_type": "stream",
     "text": [
      "\r",
      " 81%|████████  | 102474/126776 [04:39<02:07, 190.36it/s]"
     ]
    },
    {
     "name": "stderr",
     "output_type": "stream",
     "text": [
      "\r",
      " 81%|████████  | 102523/126776 [04:39<01:44, 231.80it/s]"
     ]
    },
    {
     "name": "stderr",
     "output_type": "stream",
     "text": [
      "\r",
      " 81%|████████  | 102568/126776 [04:39<01:30, 266.64it/s]"
     ]
    },
    {
     "name": "stderr",
     "output_type": "stream",
     "text": [
      "\r",
      " 81%|████████  | 102618/126776 [04:39<01:17, 311.12it/s]"
     ]
    },
    {
     "name": "stderr",
     "output_type": "stream",
     "text": [
      "\r",
      " 81%|████████  | 102665/126776 [04:40<01:10, 341.16it/s]"
     ]
    },
    {
     "name": "stderr",
     "output_type": "stream",
     "text": [
      "\r",
      " 81%|████████  | 102717/126776 [04:40<01:02, 382.12it/s]"
     ]
    },
    {
     "name": "stderr",
     "output_type": "stream",
     "text": [
      "\r",
      " 81%|████████  | 102765/126776 [04:40<01:00, 398.33it/s]"
     ]
    },
    {
     "name": "stderr",
     "output_type": "stream",
     "text": [
      "\r",
      " 81%|████████  | 102817/126776 [04:40<00:55, 428.47it/s]"
     ]
    },
    {
     "name": "stderr",
     "output_type": "stream",
     "text": [
      "\r",
      " 81%|████████  | 102865/126776 [04:40<00:55, 429.98it/s]"
     ]
    },
    {
     "name": "stderr",
     "output_type": "stream",
     "text": [
      "\r",
      " 81%|████████  | 102912/126776 [04:40<00:54, 436.44it/s]"
     ]
    },
    {
     "name": "stderr",
     "output_type": "stream",
     "text": [
      "\r",
      " 81%|████████  | 102959/126776 [04:41<03:23, 117.11it/s]"
     ]
    },
    {
     "name": "stderr",
     "output_type": "stream",
     "text": [
      "\r",
      " 81%|████████▏ | 103009/126776 [04:41<02:35, 153.06it/s]"
     ]
    },
    {
     "name": "stderr",
     "output_type": "stream",
     "text": [
      "\r",
      " 81%|████████▏ | 103055/126776 [04:41<02:05, 189.26it/s]"
     ]
    },
    {
     "name": "stderr",
     "output_type": "stream",
     "text": [
      "\r",
      " 81%|████████▏ | 103106/126776 [04:41<01:40, 235.28it/s]"
     ]
    },
    {
     "name": "stderr",
     "output_type": "stream",
     "text": [
      "\r",
      " 81%|████████▏ | 103159/126776 [04:42<01:22, 285.69it/s]"
     ]
    },
    {
     "name": "stderr",
     "output_type": "stream",
     "text": [
      "\r",
      " 81%|████████▏ | 103214/126776 [04:42<01:09, 337.00it/s]"
     ]
    },
    {
     "name": "stderr",
     "output_type": "stream",
     "text": [
      "\r",
      " 81%|████████▏ | 103271/126776 [04:42<01:00, 387.70it/s]"
     ]
    },
    {
     "name": "stderr",
     "output_type": "stream",
     "text": [
      "\r",
      " 82%|████████▏ | 103325/126776 [04:42<00:55, 423.16it/s]"
     ]
    },
    {
     "name": "stderr",
     "output_type": "stream",
     "text": [
      "\r",
      " 82%|████████▏ | 103377/126776 [04:42<00:52, 444.69it/s]"
     ]
    },
    {
     "name": "stderr",
     "output_type": "stream",
     "text": [
      "\r",
      " 82%|████████▏ | 103429/126776 [04:42<00:50, 464.50it/s]"
     ]
    },
    {
     "name": "stderr",
     "output_type": "stream",
     "text": [
      "\r",
      " 82%|████████▏ | 103481/126776 [04:42<00:49, 472.01it/s]"
     ]
    },
    {
     "name": "stderr",
     "output_type": "stream",
     "text": [
      "\r",
      " 82%|████████▏ | 103532/126776 [04:44<04:34, 84.62it/s] "
     ]
    },
    {
     "name": "stderr",
     "output_type": "stream",
     "text": [
      "\r",
      " 82%|████████▏ | 103573/126776 [04:44<03:39, 105.80it/s]"
     ]
    },
    {
     "name": "stderr",
     "output_type": "stream",
     "text": [
      "\r",
      " 82%|████████▏ | 103623/126776 [04:44<02:46, 139.33it/s]"
     ]
    },
    {
     "name": "stderr",
     "output_type": "stream",
     "text": [
      "\r",
      " 82%|████████▏ | 103665/126776 [04:44<02:16, 169.20it/s]"
     ]
    },
    {
     "name": "stderr",
     "output_type": "stream",
     "text": [
      "\r",
      " 82%|████████▏ | 103712/126776 [04:44<01:50, 208.45it/s]"
     ]
    },
    {
     "name": "stderr",
     "output_type": "stream",
     "text": [
      "\r",
      " 82%|████████▏ | 103757/126776 [04:44<01:33, 246.93it/s]"
     ]
    },
    {
     "name": "stderr",
     "output_type": "stream",
     "text": [
      "\r",
      " 82%|████████▏ | 103801/126776 [04:45<01:21, 281.13it/s]"
     ]
    },
    {
     "name": "stderr",
     "output_type": "stream",
     "text": [
      "\r",
      " 82%|████████▏ | 103851/126776 [04:45<01:10, 326.20it/s]"
     ]
    },
    {
     "name": "stderr",
     "output_type": "stream",
     "text": [
      "\r",
      " 82%|████████▏ | 103896/126776 [04:45<01:05, 351.99it/s]"
     ]
    },
    {
     "name": "stderr",
     "output_type": "stream",
     "text": [
      "\r",
      " 82%|████████▏ | 103948/126776 [04:45<00:58, 392.05it/s]"
     ]
    },
    {
     "name": "stderr",
     "output_type": "stream",
     "text": [
      "\r",
      " 82%|████████▏ | 103995/126776 [04:45<00:56, 402.10it/s]"
     ]
    },
    {
     "name": "stderr",
     "output_type": "stream",
     "text": [
      "\r",
      " 82%|████████▏ | 104047/126776 [04:45<00:52, 431.26it/s]"
     ]
    },
    {
     "name": "stderr",
     "output_type": "stream",
     "text": [
      "\r",
      " 82%|████████▏ | 104095/126776 [04:45<00:52, 429.20it/s]"
     ]
    },
    {
     "name": "stderr",
     "output_type": "stream",
     "text": [
      "\r",
      " 82%|████████▏ | 104141/126776 [04:46<03:29, 108.27it/s]"
     ]
    },
    {
     "name": "stderr",
     "output_type": "stream",
     "text": [
      "\r",
      " 82%|████████▏ | 104200/126776 [04:47<02:29, 150.63it/s]"
     ]
    },
    {
     "name": "stderr",
     "output_type": "stream",
     "text": [
      "\r",
      " 82%|████████▏ | 104259/126776 [04:47<01:52, 199.52it/s]"
     ]
    },
    {
     "name": "stderr",
     "output_type": "stream",
     "text": [
      "\r",
      " 82%|████████▏ | 104318/126776 [04:47<01:28, 252.75it/s]"
     ]
    },
    {
     "name": "stderr",
     "output_type": "stream",
     "text": [
      "\r",
      " 82%|████████▏ | 104377/126776 [04:47<01:12, 307.64it/s]"
     ]
    },
    {
     "name": "stderr",
     "output_type": "stream",
     "text": [
      "\r",
      " 82%|████████▏ | 104435/126776 [04:47<01:02, 359.28it/s]"
     ]
    },
    {
     "name": "stderr",
     "output_type": "stream",
     "text": [
      "\r",
      " 82%|████████▏ | 104494/126776 [04:47<00:54, 407.18it/s]"
     ]
    },
    {
     "name": "stderr",
     "output_type": "stream",
     "text": [
      "\r",
      " 82%|████████▏ | 104553/126776 [04:47<00:49, 448.32it/s]"
     ]
    },
    {
     "name": "stderr",
     "output_type": "stream",
     "text": [
      "\r",
      " 83%|████████▎ | 104612/126776 [04:47<00:45, 482.33it/s]"
     ]
    },
    {
     "name": "stderr",
     "output_type": "stream",
     "text": [
      "\r",
      " 83%|████████▎ | 104670/126776 [04:47<00:43, 507.50it/s]"
     ]
    },
    {
     "name": "stderr",
     "output_type": "stream",
     "text": [
      "\r",
      " 83%|████████▎ | 104728/126776 [04:48<02:02, 179.61it/s]"
     ]
    },
    {
     "name": "stderr",
     "output_type": "stream",
     "text": [
      "\r",
      " 83%|████████▎ | 104787/126776 [04:48<01:36, 227.17it/s]"
     ]
    },
    {
     "name": "stderr",
     "output_type": "stream",
     "text": [
      "\r",
      " 83%|████████▎ | 104845/126776 [04:48<01:19, 277.13it/s]"
     ]
    },
    {
     "name": "stderr",
     "output_type": "stream",
     "text": [
      "\r",
      " 83%|████████▎ | 104904/126776 [04:48<01:06, 329.17it/s]"
     ]
    },
    {
     "name": "stderr",
     "output_type": "stream",
     "text": [
      "\r",
      " 83%|████████▎ | 104963/126776 [04:49<00:57, 378.66it/s]"
     ]
    },
    {
     "name": "stderr",
     "output_type": "stream",
     "text": [
      "\r",
      " 83%|████████▎ | 105021/126776 [04:49<00:51, 422.25it/s]"
     ]
    },
    {
     "name": "stderr",
     "output_type": "stream",
     "text": [
      "\r",
      " 83%|████████▎ | 105079/126776 [04:49<00:47, 459.30it/s]"
     ]
    },
    {
     "name": "stderr",
     "output_type": "stream",
     "text": [
      "\r",
      " 83%|████████▎ | 105137/126776 [04:49<00:44, 489.23it/s]"
     ]
    },
    {
     "name": "stderr",
     "output_type": "stream",
     "text": [
      "\r",
      " 83%|████████▎ | 105195/126776 [04:49<00:42, 512.22it/s]"
     ]
    },
    {
     "name": "stderr",
     "output_type": "stream",
     "text": [
      "\r",
      " 83%|████████▎ | 105254/126776 [04:49<00:40, 531.43it/s]"
     ]
    },
    {
     "name": "stderr",
     "output_type": "stream",
     "text": [
      "\r",
      " 83%|████████▎ | 105312/126776 [04:49<00:39, 544.08it/s]"
     ]
    },
    {
     "name": "stderr",
     "output_type": "stream",
     "text": [
      "\r",
      " 83%|████████▎ | 105370/126776 [04:50<02:35, 137.23it/s]"
     ]
    },
    {
     "name": "stderr",
     "output_type": "stream",
     "text": [
      "\r",
      " 83%|████████▎ | 105429/126776 [04:50<01:59, 178.74it/s]"
     ]
    },
    {
     "name": "stderr",
     "output_type": "stream",
     "text": [
      "\r",
      " 83%|████████▎ | 105488/126776 [04:50<01:34, 226.13it/s]"
     ]
    },
    {
     "name": "stderr",
     "output_type": "stream",
     "text": [
      "\r",
      " 83%|████████▎ | 105547/126776 [04:51<01:16, 277.38it/s]"
     ]
    },
    {
     "name": "stderr",
     "output_type": "stream",
     "text": [
      "\r",
      " 83%|████████▎ | 105606/126776 [04:51<01:04, 329.27it/s]"
     ]
    },
    {
     "name": "stderr",
     "output_type": "stream",
     "text": [
      "\r",
      " 83%|████████▎ | 105665/126776 [04:51<00:55, 378.94it/s]"
     ]
    },
    {
     "name": "stderr",
     "output_type": "stream",
     "text": [
      "\r",
      " 83%|████████▎ | 105724/126776 [04:51<00:49, 423.76it/s]"
     ]
    },
    {
     "name": "stderr",
     "output_type": "stream",
     "text": [
      "\r",
      " 83%|████████▎ | 105783/126776 [04:51<00:45, 461.84it/s]"
     ]
    },
    {
     "name": "stderr",
     "output_type": "stream",
     "text": [
      "\r",
      " 83%|████████▎ | 105842/126776 [04:51<00:42, 492.51it/s]"
     ]
    },
    {
     "name": "stderr",
     "output_type": "stream",
     "text": [
      "\r",
      " 84%|████████▎ | 105900/126776 [04:51<00:40, 510.77it/s]"
     ]
    },
    {
     "name": "stderr",
     "output_type": "stream",
     "text": [
      "\r",
      " 84%|████████▎ | 105957/126776 [04:52<01:55, 180.81it/s]"
     ]
    },
    {
     "name": "stderr",
     "output_type": "stream",
     "text": [
      "\r",
      " 84%|████████▎ | 106000/126776 [04:52<01:39, 209.68it/s]"
     ]
    },
    {
     "name": "stderr",
     "output_type": "stream",
     "text": [
      "\r",
      " 84%|████████▎ | 106055/126776 [04:52<01:20, 258.14it/s]"
     ]
    },
    {
     "name": "stderr",
     "output_type": "stream",
     "text": [
      "\r",
      " 84%|████████▎ | 106114/126776 [04:52<01:05, 314.08it/s]"
     ]
    },
    {
     "name": "stderr",
     "output_type": "stream",
     "text": [
      "\r",
      " 84%|████████▎ | 106173/126776 [04:52<00:56, 367.13it/s]"
     ]
    },
    {
     "name": "stderr",
     "output_type": "stream",
     "text": [
      "\r",
      " 84%|████████▍ | 106232/126776 [04:53<00:49, 414.68it/s]"
     ]
    },
    {
     "name": "stderr",
     "output_type": "stream",
     "text": [
      "\r",
      " 84%|████████▍ | 106291/126776 [04:53<00:45, 455.14it/s]"
     ]
    },
    {
     "name": "stderr",
     "output_type": "stream",
     "text": [
      "\r",
      " 84%|████████▍ | 106350/126776 [04:53<00:41, 487.77it/s]"
     ]
    },
    {
     "name": "stderr",
     "output_type": "stream",
     "text": [
      "\r",
      " 84%|████████▍ | 106409/126776 [04:53<00:39, 512.77it/s]"
     ]
    },
    {
     "name": "stderr",
     "output_type": "stream",
     "text": [
      "\r",
      " 84%|████████▍ | 106468/126776 [04:53<00:38, 532.02it/s]"
     ]
    },
    {
     "name": "stderr",
     "output_type": "stream",
     "text": [
      "\r",
      " 84%|████████▍ | 106526/126776 [04:54<01:52, 179.29it/s]"
     ]
    },
    {
     "name": "stderr",
     "output_type": "stream",
     "text": [
      "\r",
      " 84%|████████▍ | 106584/126776 [04:54<01:29, 225.82it/s]"
     ]
    },
    {
     "name": "stderr",
     "output_type": "stream",
     "text": [
      "\r",
      " 84%|████████▍ | 106643/126776 [04:54<01:12, 277.19it/s]"
     ]
    },
    {
     "name": "stderr",
     "output_type": "stream",
     "text": [
      "\r",
      " 84%|████████▍ | 106702/126776 [04:54<01:00, 329.23it/s]"
     ]
    },
    {
     "name": "stderr",
     "output_type": "stream",
     "text": [
      "\r",
      " 84%|████████▍ | 106761/126776 [04:54<00:52, 379.13it/s]"
     ]
    },
    {
     "name": "stderr",
     "output_type": "stream",
     "text": [
      "\r",
      " 84%|████████▍ | 106820/126776 [04:54<00:47, 423.56it/s]"
     ]
    },
    {
     "name": "stderr",
     "output_type": "stream",
     "text": [
      "\r",
      " 84%|████████▍ | 106877/126776 [04:54<00:43, 456.40it/s]"
     ]
    },
    {
     "name": "stderr",
     "output_type": "stream",
     "text": [
      "\r",
      " 84%|████████▍ | 106933/126776 [04:54<00:44, 449.42it/s]"
     ]
    },
    {
     "name": "stderr",
     "output_type": "stream",
     "text": [
      "\r",
      " 84%|████████▍ | 106986/126776 [04:55<00:42, 464.77it/s]"
     ]
    },
    {
     "name": "stderr",
     "output_type": "stream",
     "text": [
      "\r",
      " 84%|████████▍ | 107038/126776 [04:55<00:43, 454.60it/s]"
     ]
    },
    {
     "name": "stderr",
     "output_type": "stream",
     "text": [
      "\r",
      " 84%|████████▍ | 107089/126776 [04:55<00:41, 468.89it/s]"
     ]
    },
    {
     "name": "stderr",
     "output_type": "stream",
     "text": [
      "\r",
      " 85%|████████▍ | 107139/126776 [04:56<03:22, 96.94it/s] "
     ]
    },
    {
     "name": "stderr",
     "output_type": "stream",
     "text": [
      "\r",
      " 85%|████████▍ | 107185/126776 [04:56<02:38, 123.44it/s]"
     ]
    },
    {
     "name": "stderr",
     "output_type": "stream",
     "text": [
      "\r",
      " 85%|████████▍ | 107231/126776 [04:57<02:06, 155.08it/s]"
     ]
    },
    {
     "name": "stderr",
     "output_type": "stream",
     "text": [
      "\r",
      " 85%|████████▍ | 107283/126776 [04:57<01:38, 198.23it/s]"
     ]
    },
    {
     "name": "stderr",
     "output_type": "stream",
     "text": [
      "\r",
      " 85%|████████▍ | 107331/126776 [04:57<01:21, 238.52it/s]"
     ]
    },
    {
     "name": "stderr",
     "output_type": "stream",
     "text": [
      "\r",
      " 85%|████████▍ | 107379/126776 [04:57<01:09, 279.60it/s]"
     ]
    },
    {
     "name": "stderr",
     "output_type": "stream",
     "text": [
      "\r",
      " 85%|████████▍ | 107430/126776 [04:57<00:59, 324.49it/s]"
     ]
    },
    {
     "name": "stderr",
     "output_type": "stream",
     "text": [
      "\r",
      " 85%|████████▍ | 107478/126776 [04:57<00:53, 357.39it/s]"
     ]
    },
    {
     "name": "stderr",
     "output_type": "stream",
     "text": [
      "\r",
      " 85%|████████▍ | 107526/126776 [04:57<00:50, 384.09it/s]"
     ]
    },
    {
     "name": "stderr",
     "output_type": "stream",
     "text": [
      "\r",
      " 85%|████████▍ | 107578/126776 [04:57<00:45, 417.78it/s]"
     ]
    },
    {
     "name": "stderr",
     "output_type": "stream",
     "text": [
      "\r",
      " 85%|████████▍ | 107627/126776 [04:57<00:44, 429.87it/s]"
     ]
    },
    {
     "name": "stderr",
     "output_type": "stream",
     "text": [
      "\r",
      " 85%|████████▍ | 107676/126776 [04:57<00:42, 446.12it/s]"
     ]
    },
    {
     "name": "stderr",
     "output_type": "stream",
     "text": [
      "\r",
      " 85%|████████▍ | 107726/126776 [04:58<00:41, 460.62it/s]"
     ]
    },
    {
     "name": "stderr",
     "output_type": "stream",
     "text": [
      "\r",
      " 85%|████████▌ | 107775/126776 [04:59<03:24, 92.79it/s] "
     ]
    },
    {
     "name": "stderr",
     "output_type": "stream",
     "text": [
      "\r",
      " 85%|████████▌ | 107824/126776 [04:59<02:35, 122.25it/s]"
     ]
    },
    {
     "name": "stderr",
     "output_type": "stream",
     "text": [
      "\r",
      " 85%|████████▌ | 107871/126776 [04:59<02:01, 155.60it/s]"
     ]
    },
    {
     "name": "stderr",
     "output_type": "stream",
     "text": [
      "\r",
      " 85%|████████▌ | 107923/126776 [04:59<01:34, 199.38it/s]"
     ]
    },
    {
     "name": "stderr",
     "output_type": "stream",
     "text": [
      "\r",
      " 85%|████████▌ | 107971/126776 [04:59<01:18, 240.23it/s]"
     ]
    },
    {
     "name": "stderr",
     "output_type": "stream",
     "text": [
      "\r",
      " 85%|████████▌ | 108019/126776 [05:00<01:06, 280.85it/s]"
     ]
    },
    {
     "name": "stderr",
     "output_type": "stream",
     "text": [
      "\r",
      " 85%|████████▌ | 108067/126776 [05:00<00:58, 318.57it/s]"
     ]
    },
    {
     "name": "stderr",
     "output_type": "stream",
     "text": [
      "\r",
      " 85%|████████▌ | 108116/126776 [05:00<00:52, 354.86it/s]"
     ]
    },
    {
     "name": "stderr",
     "output_type": "stream",
     "text": [
      "\r",
      " 85%|████████▌ | 108163/126776 [05:00<01:06, 280.71it/s]"
     ]
    },
    {
     "name": "stderr",
     "output_type": "stream",
     "text": [
      "\r",
      " 85%|████████▌ | 108202/126776 [05:00<01:13, 252.34it/s]"
     ]
    },
    {
     "name": "stderr",
     "output_type": "stream",
     "text": [
      "\r",
      " 85%|████████▌ | 108235/126776 [05:00<01:18, 236.08it/s]"
     ]
    },
    {
     "name": "stderr",
     "output_type": "stream",
     "text": [
      "\r",
      " 85%|████████▌ | 108264/126776 [05:01<01:24, 219.84it/s]"
     ]
    },
    {
     "name": "stderr",
     "output_type": "stream",
     "text": [
      "\r",
      " 85%|████████▌ | 108290/126776 [05:01<01:28, 207.75it/s]"
     ]
    },
    {
     "name": "stderr",
     "output_type": "stream",
     "text": [
      "\r",
      " 85%|████████▌ | 108314/126776 [05:01<01:29, 207.13it/s]"
     ]
    },
    {
     "name": "stderr",
     "output_type": "stream",
     "text": [
      "\r",
      " 85%|████████▌ | 108337/126776 [05:03<07:56, 38.69it/s] "
     ]
    },
    {
     "name": "stderr",
     "output_type": "stream",
     "text": [
      "\r",
      " 86%|████████▌ | 108394/126776 [05:03<04:31, 67.64it/s]"
     ]
    },
    {
     "name": "stderr",
     "output_type": "stream",
     "text": [
      "\r",
      " 86%|████████▌ | 108452/126776 [05:03<02:55, 104.53it/s]"
     ]
    },
    {
     "name": "stderr",
     "output_type": "stream",
     "text": [
      "\r",
      " 86%|████████▌ | 108511/126776 [05:03<02:01, 149.72it/s]"
     ]
    },
    {
     "name": "stderr",
     "output_type": "stream",
     "text": [
      "\r",
      " 86%|████████▌ | 108570/126776 [05:03<01:30, 201.18it/s]"
     ]
    },
    {
     "name": "stderr",
     "output_type": "stream",
     "text": [
      "\r",
      " 86%|████████▌ | 108629/126776 [05:03<01:10, 256.46it/s]"
     ]
    },
    {
     "name": "stderr",
     "output_type": "stream",
     "text": [
      "\r",
      " 86%|████████▌ | 108688/126776 [05:04<00:57, 312.27it/s]"
     ]
    },
    {
     "name": "stderr",
     "output_type": "stream",
     "text": [
      "\r",
      " 86%|████████▌ | 108747/126776 [05:04<00:49, 365.48it/s]"
     ]
    },
    {
     "name": "stderr",
     "output_type": "stream",
     "text": [
      "\r",
      " 86%|████████▌ | 108806/126776 [05:04<00:43, 413.01it/s]"
     ]
    },
    {
     "name": "stderr",
     "output_type": "stream",
     "text": [
      "\r",
      " 86%|████████▌ | 108865/126776 [05:04<00:39, 453.69it/s]"
     ]
    },
    {
     "name": "stderr",
     "output_type": "stream",
     "text": [
      "\r",
      " 86%|████████▌ | 108924/126776 [05:04<00:36, 486.43it/s]"
     ]
    },
    {
     "name": "stderr",
     "output_type": "stream",
     "text": [
      "\r",
      " 86%|████████▌ | 108981/126776 [05:05<01:43, 172.40it/s]"
     ]
    },
    {
     "name": "stderr",
     "output_type": "stream",
     "text": [
      "\r",
      " 86%|████████▌ | 109040/126776 [05:05<01:20, 219.36it/s]"
     ]
    },
    {
     "name": "stderr",
     "output_type": "stream",
     "text": [
      "\r",
      " 86%|████████▌ | 109099/126776 [05:05<01:05, 270.48it/s]"
     ]
    },
    {
     "name": "stderr",
     "output_type": "stream",
     "text": [
      "\r",
      " 86%|████████▌ | 109158/126776 [05:05<00:54, 322.70it/s]"
     ]
    },
    {
     "name": "stderr",
     "output_type": "stream",
     "text": [
      "\r",
      " 86%|████████▌ | 109217/126776 [05:05<00:47, 372.75it/s]"
     ]
    },
    {
     "name": "stderr",
     "output_type": "stream",
     "text": [
      "\r",
      " 86%|████████▌ | 109275/126776 [05:05<00:42, 416.43it/s]"
     ]
    },
    {
     "name": "stderr",
     "output_type": "stream",
     "text": [
      "\r",
      " 86%|████████▌ | 109333/126776 [05:05<00:38, 454.39it/s]"
     ]
    },
    {
     "name": "stderr",
     "output_type": "stream",
     "text": [
      "\r",
      " 86%|████████▋ | 109391/126776 [05:06<00:35, 485.40it/s]"
     ]
    },
    {
     "name": "stderr",
     "output_type": "stream",
     "text": [
      "\r",
      " 86%|████████▋ | 109449/126776 [05:06<00:34, 508.65it/s]"
     ]
    },
    {
     "name": "stderr",
     "output_type": "stream",
     "text": [
      "\r",
      " 86%|████████▋ | 109506/126776 [05:06<00:33, 517.42it/s]"
     ]
    },
    {
     "name": "stderr",
     "output_type": "stream",
     "text": [
      "\r",
      " 86%|████████▋ | 109562/126776 [05:07<02:13, 129.43it/s]"
     ]
    },
    {
     "name": "stderr",
     "output_type": "stream",
     "text": [
      "\r",
      " 86%|████████▋ | 109621/126776 [05:07<01:40, 169.91it/s]"
     ]
    },
    {
     "name": "stderr",
     "output_type": "stream",
     "text": [
      "\r",
      " 87%|████████▋ | 109680/126776 [05:07<01:18, 216.63it/s]"
     ]
    },
    {
     "name": "stderr",
     "output_type": "stream",
     "text": [
      "\r",
      " 87%|████████▋ | 109739/126776 [05:07<01:03, 267.76it/s]"
     ]
    },
    {
     "name": "stderr",
     "output_type": "stream",
     "text": [
      "\r",
      " 87%|████████▋ | 109798/126776 [05:07<00:53, 320.11it/s]"
     ]
    },
    {
     "name": "stderr",
     "output_type": "stream",
     "text": [
      "\r",
      " 87%|████████▋ | 109857/126776 [05:07<00:45, 370.82it/s]"
     ]
    },
    {
     "name": "stderr",
     "output_type": "stream",
     "text": [
      "\r",
      " 87%|████████▋ | 109913/126776 [05:08<00:41, 406.01it/s]"
     ]
    },
    {
     "name": "stderr",
     "output_type": "stream",
     "text": [
      "\r",
      " 87%|████████▋ | 109971/126776 [05:08<00:37, 445.79it/s]"
     ]
    },
    {
     "name": "stderr",
     "output_type": "stream",
     "text": [
      "\r",
      " 87%|████████▋ | 110030/126776 [05:08<00:34, 480.34it/s]"
     ]
    },
    {
     "name": "stderr",
     "output_type": "stream",
     "text": [
      "\r",
      " 87%|████████▋ | 110089/126776 [05:08<00:32, 507.98it/s]"
     ]
    },
    {
     "name": "stderr",
     "output_type": "stream",
     "text": [
      "\r",
      " 87%|████████▋ | 110148/126776 [05:08<00:31, 529.38it/s]"
     ]
    },
    {
     "name": "stderr",
     "output_type": "stream",
     "text": [
      "\r",
      " 87%|████████▋ | 110206/126776 [05:09<01:39, 166.17it/s]"
     ]
    },
    {
     "name": "stderr",
     "output_type": "stream",
     "text": [
      "\r",
      " 87%|████████▋ | 110249/126776 [05:09<01:25, 193.59it/s]"
     ]
    },
    {
     "name": "stderr",
     "output_type": "stream",
     "text": [
      "\r",
      " 87%|████████▋ | 110306/126776 [05:09<01:07, 243.70it/s]"
     ]
    },
    {
     "name": "stderr",
     "output_type": "stream",
     "text": [
      "\r",
      " 87%|████████▋ | 110365/126776 [05:09<00:54, 298.77it/s]"
     ]
    },
    {
     "name": "stderr",
     "output_type": "stream",
     "text": [
      "\r",
      " 87%|████████▋ | 110424/126776 [05:09<00:46, 352.43it/s]"
     ]
    },
    {
     "name": "stderr",
     "output_type": "stream",
     "text": [
      "\r",
      " 87%|████████▋ | 110482/126776 [05:09<00:40, 400.13it/s]"
     ]
    },
    {
     "name": "stderr",
     "output_type": "stream",
     "text": [
      "\r",
      " 87%|████████▋ | 110541/126776 [05:09<00:36, 442.73it/s]"
     ]
    },
    {
     "name": "stderr",
     "output_type": "stream",
     "text": [
      "\r",
      " 87%|████████▋ | 110599/126776 [05:10<00:33, 476.50it/s]"
     ]
    },
    {
     "name": "stderr",
     "output_type": "stream",
     "text": [
      "\r",
      " 87%|████████▋ | 110658/126776 [05:10<00:31, 504.58it/s]"
     ]
    },
    {
     "name": "stderr",
     "output_type": "stream",
     "text": [
      "\r",
      " 87%|████████▋ | 110717/126776 [05:10<00:30, 526.76it/s]"
     ]
    },
    {
     "name": "stderr",
     "output_type": "stream",
     "text": [
      "\r",
      " 87%|████████▋ | 110776/126776 [05:10<00:29, 543.63it/s]"
     ]
    },
    {
     "name": "stderr",
     "output_type": "stream",
     "text": [
      "\r",
      " 87%|████████▋ | 110834/126776 [05:11<01:32, 173.03it/s]"
     ]
    },
    {
     "name": "stderr",
     "output_type": "stream",
     "text": [
      "\r",
      " 87%|████████▋ | 110893/126776 [05:11<01:12, 219.86it/s]"
     ]
    },
    {
     "name": "stderr",
     "output_type": "stream",
     "text": [
      "\r",
      " 88%|████████▊ | 110952/126776 [05:11<00:58, 270.91it/s]"
     ]
    },
    {
     "name": "stderr",
     "output_type": "stream",
     "text": [
      "\r",
      " 88%|████████▊ | 111011/126776 [05:11<00:48, 323.51it/s]"
     ]
    },
    {
     "name": "stderr",
     "output_type": "stream",
     "text": [
      "\r",
      " 88%|████████▊ | 111070/126776 [05:11<00:42, 373.53it/s]"
     ]
    },
    {
     "name": "stderr",
     "output_type": "stream",
     "text": [
      "\r",
      " 88%|████████▊ | 111125/126776 [05:11<00:38, 407.63it/s]"
     ]
    },
    {
     "name": "stderr",
     "output_type": "stream",
     "text": [
      "\r",
      " 88%|████████▊ | 111180/126776 [05:11<00:37, 416.68it/s]"
     ]
    },
    {
     "name": "stderr",
     "output_type": "stream",
     "text": [
      "\r",
      " 88%|████████▊ | 111232/126776 [05:12<00:36, 428.46it/s]"
     ]
    },
    {
     "name": "stderr",
     "output_type": "stream",
     "text": [
      "\r",
      " 88%|████████▊ | 111282/126776 [05:12<00:46, 336.16it/s]"
     ]
    },
    {
     "name": "stderr",
     "output_type": "stream",
     "text": [
      "\r",
      " 88%|████████▊ | 111333/126776 [05:12<00:41, 371.80it/s]"
     ]
    },
    {
     "name": "stderr",
     "output_type": "stream",
     "text": [
      "\r",
      " 88%|████████▊ | 111377/126776 [05:12<00:40, 384.59it/s]"
     ]
    },
    {
     "name": "stderr",
     "output_type": "stream",
     "text": [
      "\r",
      " 88%|████████▊ | 111421/126776 [05:14<02:57, 86.50it/s] "
     ]
    },
    {
     "name": "stderr",
     "output_type": "stream",
     "text": [
      "\r",
      " 88%|████████▊ | 111470/126776 [05:14<02:13, 115.04it/s]"
     ]
    },
    {
     "name": "stderr",
     "output_type": "stream",
     "text": [
      "\r",
      " 88%|████████▊ | 111519/126776 [05:14<01:42, 149.50it/s]"
     ]
    },
    {
     "name": "stderr",
     "output_type": "stream",
     "text": [
      "\r",
      " 88%|████████▊ | 111567/126776 [05:14<01:21, 187.58it/s]"
     ]
    },
    {
     "name": "stderr",
     "output_type": "stream",
     "text": [
      "\r",
      " 88%|████████▊ | 111616/126776 [05:14<01:05, 230.17it/s]"
     ]
    },
    {
     "name": "stderr",
     "output_type": "stream",
     "text": [
      "\r",
      " 88%|████████▊ | 111665/126776 [05:14<00:55, 273.77it/s]"
     ]
    },
    {
     "name": "stderr",
     "output_type": "stream",
     "text": [
      "\r",
      " 88%|████████▊ | 111715/126776 [05:14<00:47, 316.99it/s]"
     ]
    },
    {
     "name": "stderr",
     "output_type": "stream",
     "text": [
      "\r",
      " 88%|████████▊ | 111765/126776 [05:14<00:42, 356.39it/s]"
     ]
    },
    {
     "name": "stderr",
     "output_type": "stream",
     "text": [
      "\r",
      " 88%|████████▊ | 111814/126776 [05:14<00:38, 387.42it/s]"
     ]
    },
    {
     "name": "stderr",
     "output_type": "stream",
     "text": [
      "\r",
      " 88%|████████▊ | 111862/126776 [05:14<00:36, 410.75it/s]"
     ]
    },
    {
     "name": "stderr",
     "output_type": "stream",
     "text": [
      "\r",
      " 88%|████████▊ | 111915/126776 [05:15<00:33, 440.37it/s]"
     ]
    },
    {
     "name": "stderr",
     "output_type": "stream",
     "text": [
      "\r",
      " 88%|████████▊ | 111969/126776 [05:15<00:31, 465.54it/s]"
     ]
    },
    {
     "name": "stderr",
     "output_type": "stream",
     "text": [
      "\r",
      " 88%|████████▊ | 112020/126776 [05:16<02:22, 103.30it/s]"
     ]
    },
    {
     "name": "stderr",
     "output_type": "stream",
     "text": [
      "\r",
      " 88%|████████▊ | 112069/126776 [05:16<01:49, 133.91it/s]"
     ]
    },
    {
     "name": "stderr",
     "output_type": "stream",
     "text": [
      "\r",
      " 88%|████████▊ | 112114/126776 [05:16<01:28, 165.96it/s]"
     ]
    },
    {
     "name": "stderr",
     "output_type": "stream",
     "text": [
      "\r",
      " 88%|████████▊ | 112161/126776 [05:16<01:11, 204.20it/s]"
     ]
    },
    {
     "name": "stderr",
     "output_type": "stream",
     "text": [
      "\r",
      " 89%|████████▊ | 112208/126776 [05:16<00:59, 244.00it/s]"
     ]
    },
    {
     "name": "stderr",
     "output_type": "stream",
     "text": [
      "\r",
      " 89%|████████▊ | 112257/126776 [05:17<00:50, 287.73it/s]"
     ]
    },
    {
     "name": "stderr",
     "output_type": "stream",
     "text": [
      "\r",
      " 89%|████████▊ | 112303/126776 [05:17<00:44, 322.41it/s]"
     ]
    },
    {
     "name": "stderr",
     "output_type": "stream",
     "text": [
      "\r",
      " 89%|████████▊ | 112354/126776 [05:17<00:39, 363.46it/s]"
     ]
    },
    {
     "name": "stderr",
     "output_type": "stream",
     "text": [
      "\r",
      " 89%|████████▊ | 112401/126776 [05:17<00:38, 377.95it/s]"
     ]
    },
    {
     "name": "stderr",
     "output_type": "stream",
     "text": [
      "\r",
      " 89%|████████▊ | 112447/126776 [05:17<00:36, 393.48it/s]"
     ]
    },
    {
     "name": "stderr",
     "output_type": "stream",
     "text": [
      "\r",
      " 89%|████████▊ | 112499/126776 [05:17<00:33, 424.52it/s]"
     ]
    },
    {
     "name": "stderr",
     "output_type": "stream",
     "text": [
      "\r",
      " 89%|████████▉ | 112546/126776 [05:17<00:33, 425.96it/s]"
     ]
    },
    {
     "name": "stderr",
     "output_type": "stream",
     "text": [
      "\r",
      " 89%|████████▉ | 112595/126776 [05:17<00:32, 442.32it/s]"
     ]
    },
    {
     "name": "stderr",
     "output_type": "stream",
     "text": [
      "\r",
      " 89%|████████▉ | 112642/126776 [05:19<02:28, 94.88it/s] "
     ]
    },
    {
     "name": "stderr",
     "output_type": "stream",
     "text": [
      "\r",
      " 89%|████████▉ | 112685/126776 [05:19<01:56, 120.96it/s]"
     ]
    },
    {
     "name": "stderr",
     "output_type": "stream",
     "text": [
      "\r",
      " 89%|████████▉ | 112733/126776 [05:19<01:29, 156.71it/s]"
     ]
    },
    {
     "name": "stderr",
     "output_type": "stream",
     "text": [
      "\r",
      " 89%|████████▉ | 112781/126776 [05:19<01:11, 196.87it/s]"
     ]
    },
    {
     "name": "stderr",
     "output_type": "stream",
     "text": [
      "\r",
      " 89%|████████▉ | 112835/126776 [05:19<00:56, 248.46it/s]"
     ]
    },
    {
     "name": "stderr",
     "output_type": "stream",
     "text": [
      "\r",
      " 89%|████████▉ | 112894/126776 [05:19<00:45, 308.46it/s]"
     ]
    },
    {
     "name": "stderr",
     "output_type": "stream",
     "text": [
      "\r",
      " 89%|████████▉ | 112953/126776 [05:19<00:37, 364.56it/s]"
     ]
    },
    {
     "name": "stderr",
     "output_type": "stream",
     "text": [
      "\r",
      " 89%|████████▉ | 113011/126776 [05:19<00:33, 412.69it/s]"
     ]
    },
    {
     "name": "stderr",
     "output_type": "stream",
     "text": [
      "\r",
      " 89%|████████▉ | 113070/126776 [05:19<00:30, 454.13it/s]"
     ]
    },
    {
     "name": "stderr",
     "output_type": "stream",
     "text": [
      "\r",
      " 89%|████████▉ | 113129/126776 [05:20<00:27, 487.53it/s]"
     ]
    },
    {
     "name": "stderr",
     "output_type": "stream",
     "text": [
      "\r",
      " 89%|████████▉ | 113188/126776 [05:20<00:26, 513.01it/s]"
     ]
    },
    {
     "name": "stderr",
     "output_type": "stream",
     "text": [
      "\r",
      " 89%|████████▉ | 113245/126776 [05:21<01:19, 169.75it/s]"
     ]
    },
    {
     "name": "stderr",
     "output_type": "stream",
     "text": [
      "\r",
      " 89%|████████▉ | 113304/126776 [05:21<01:02, 216.58it/s]"
     ]
    },
    {
     "name": "stderr",
     "output_type": "stream",
     "text": [
      "\r",
      " 89%|████████▉ | 113362/126776 [05:21<00:50, 266.24it/s]"
     ]
    },
    {
     "name": "stderr",
     "output_type": "stream",
     "text": [
      "\r",
      " 89%|████████▉ | 113420/126776 [05:21<00:42, 317.44it/s]"
     ]
    },
    {
     "name": "stderr",
     "output_type": "stream",
     "text": [
      "\r",
      " 90%|████████▉ | 113479/126776 [05:21<00:36, 368.79it/s]"
     ]
    },
    {
     "name": "stderr",
     "output_type": "stream",
     "text": [
      "\r",
      " 90%|████████▉ | 113538/126776 [05:21<00:31, 414.68it/s]"
     ]
    },
    {
     "name": "stderr",
     "output_type": "stream",
     "text": [
      "\r",
      " 90%|████████▉ | 113595/126776 [05:21<00:29, 449.06it/s]"
     ]
    },
    {
     "name": "stderr",
     "output_type": "stream",
     "text": [
      "\r",
      " 90%|████████▉ | 113651/126776 [05:21<00:27, 474.70it/s]"
     ]
    },
    {
     "name": "stderr",
     "output_type": "stream",
     "text": [
      "\r",
      " 90%|████████▉ | 113709/126776 [05:21<00:26, 500.73it/s]"
     ]
    },
    {
     "name": "stderr",
     "output_type": "stream",
     "text": [
      "\r",
      " 90%|████████▉ | 113768/126776 [05:21<00:24, 523.63it/s]"
     ]
    },
    {
     "name": "stderr",
     "output_type": "stream",
     "text": [
      "\r",
      " 90%|████████▉ | 113827/126776 [05:22<00:23, 539.92it/s]"
     ]
    },
    {
     "name": "stderr",
     "output_type": "stream",
     "text": [
      "\r",
      " 90%|████████▉ | 113885/126776 [05:23<01:21, 159.07it/s]"
     ]
    },
    {
     "name": "stderr",
     "output_type": "stream",
     "text": [
      "\r",
      " 90%|████████▉ | 113927/126776 [05:23<01:09, 185.40it/s]"
     ]
    },
    {
     "name": "stderr",
     "output_type": "stream",
     "text": [
      "\r",
      " 90%|████████▉ | 113971/126776 [05:23<00:58, 218.22it/s]"
     ]
    },
    {
     "name": "stderr",
     "output_type": "stream",
     "text": [
      "\r",
      " 90%|████████▉ | 114013/126776 [05:23<00:51, 249.06it/s]"
     ]
    },
    {
     "name": "stderr",
     "output_type": "stream",
     "text": [
      "\r",
      " 90%|████████▉ | 114063/126776 [05:23<00:43, 293.99it/s]"
     ]
    },
    {
     "name": "stderr",
     "output_type": "stream",
     "text": [
      "\r",
      " 90%|█████████ | 114120/126776 [05:23<00:36, 349.85it/s]"
     ]
    },
    {
     "name": "stderr",
     "output_type": "stream",
     "text": [
      "\r",
      " 90%|█████████ | 114179/126776 [05:23<00:31, 403.41it/s]"
     ]
    },
    {
     "name": "stderr",
     "output_type": "stream",
     "text": [
      "\r",
      " 90%|█████████ | 114238/126776 [05:23<00:28, 447.39it/s]"
     ]
    },
    {
     "name": "stderr",
     "output_type": "stream",
     "text": [
      "\r",
      " 90%|█████████ | 114297/126776 [05:23<00:25, 482.16it/s]"
     ]
    },
    {
     "name": "stderr",
     "output_type": "stream",
     "text": [
      "\r",
      " 90%|█████████ | 114356/126776 [05:23<00:24, 509.19it/s]"
     ]
    },
    {
     "name": "stderr",
     "output_type": "stream",
     "text": [
      "\r",
      " 90%|█████████ | 114415/126776 [05:24<00:23, 530.65it/s]"
     ]
    },
    {
     "name": "stderr",
     "output_type": "stream",
     "text": [
      "\r",
      " 90%|█████████ | 114472/126776 [05:24<01:09, 178.04it/s]"
     ]
    },
    {
     "name": "stderr",
     "output_type": "stream",
     "text": [
      "\r",
      " 90%|█████████ | 114531/126776 [05:24<00:54, 225.93it/s]"
     ]
    },
    {
     "name": "stderr",
     "output_type": "stream",
     "text": [
      "\r",
      " 90%|█████████ | 114590/126776 [05:25<00:43, 277.61it/s]"
     ]
    },
    {
     "name": "stderr",
     "output_type": "stream",
     "text": [
      "\r",
      " 90%|█████████ | 114649/126776 [05:25<00:36, 329.89it/s]"
     ]
    },
    {
     "name": "stderr",
     "output_type": "stream",
     "text": [
      "\r",
      " 90%|█████████ | 114708/126776 [05:25<00:31, 379.51it/s]"
     ]
    },
    {
     "name": "stderr",
     "output_type": "stream",
     "text": [
      "\r",
      " 91%|█████████ | 114767/126776 [05:25<00:28, 424.23it/s]"
     ]
    },
    {
     "name": "stderr",
     "output_type": "stream",
     "text": [
      "\r",
      " 91%|█████████ | 114826/126776 [05:25<00:25, 462.58it/s]"
     ]
    },
    {
     "name": "stderr",
     "output_type": "stream",
     "text": [
      "\r",
      " 91%|█████████ | 114885/126776 [05:25<00:24, 493.86it/s]"
     ]
    },
    {
     "name": "stderr",
     "output_type": "stream",
     "text": [
      "\r",
      " 91%|█████████ | 114943/126776 [05:25<00:24, 490.07it/s]"
     ]
    },
    {
     "name": "stderr",
     "output_type": "stream",
     "text": [
      "\r",
      " 91%|█████████ | 114998/126776 [05:25<00:24, 479.08it/s]"
     ]
    },
    {
     "name": "stderr",
     "output_type": "stream",
     "text": [
      "\r",
      " 91%|█████████ | 115050/126776 [05:26<00:31, 376.15it/s]"
     ]
    },
    {
     "name": "stderr",
     "output_type": "stream",
     "text": [
      "\r",
      " 91%|█████████ | 115094/126776 [05:27<01:46, 109.28it/s]"
     ]
    },
    {
     "name": "stderr",
     "output_type": "stream",
     "text": [
      "\r",
      " 91%|█████████ | 115146/126776 [05:27<01:21, 142.89it/s]"
     ]
    },
    {
     "name": "stderr",
     "output_type": "stream",
     "text": [
      "\r",
      " 91%|█████████ | 115190/126776 [05:27<01:06, 174.06it/s]"
     ]
    },
    {
     "name": "stderr",
     "output_type": "stream",
     "text": [
      "\r",
      " 91%|█████████ | 115241/126776 [05:27<00:53, 217.41it/s]"
     ]
    },
    {
     "name": "stderr",
     "output_type": "stream",
     "text": [
      "\r",
      " 91%|█████████ | 115288/126776 [05:27<00:44, 256.87it/s]"
     ]
    },
    {
     "name": "stderr",
     "output_type": "stream",
     "text": [
      "\r",
      " 91%|█████████ | 115334/126776 [05:27<00:38, 293.87it/s]"
     ]
    },
    {
     "name": "stderr",
     "output_type": "stream",
     "text": [
      "\r",
      " 91%|█████████ | 115386/126776 [05:27<00:33, 339.79it/s]"
     ]
    },
    {
     "name": "stderr",
     "output_type": "stream",
     "text": [
      "\r",
      " 91%|█████████ | 115433/126776 [05:28<00:30, 367.67it/s]"
     ]
    },
    {
     "name": "stderr",
     "output_type": "stream",
     "text": [
      "\r",
      " 91%|█████████ | 115483/126776 [05:28<00:28, 399.57it/s]"
     ]
    },
    {
     "name": "stderr",
     "output_type": "stream",
     "text": [
      "\r",
      " 91%|█████████ | 115532/126776 [05:28<00:26, 422.34it/s]"
     ]
    },
    {
     "name": "stderr",
     "output_type": "stream",
     "text": [
      "\r",
      " 91%|█████████ | 115580/126776 [05:28<00:25, 435.24it/s]"
     ]
    },
    {
     "name": "stderr",
     "output_type": "stream",
     "text": [
      "\r",
      " 91%|█████████ | 115631/126776 [05:28<00:24, 453.05it/s]"
     ]
    },
    {
     "name": "stderr",
     "output_type": "stream",
     "text": [
      "\r",
      " 91%|█████████ | 115680/126776 [05:28<00:23, 463.32it/s]"
     ]
    },
    {
     "name": "stderr",
     "output_type": "stream",
     "text": [
      "\r",
      " 91%|█████████▏| 115729/126776 [05:30<02:15, 81.80it/s] "
     ]
    },
    {
     "name": "stderr",
     "output_type": "stream",
     "text": [
      "\r",
      " 91%|█████████▏| 115764/126776 [05:30<01:54, 95.76it/s]"
     ]
    },
    {
     "name": "stderr",
     "output_type": "stream",
     "text": [
      "\r",
      " 91%|█████████▏| 115795/126776 [05:30<01:37, 112.23it/s]"
     ]
    },
    {
     "name": "stderr",
     "output_type": "stream",
     "text": [
      "\r",
      " 91%|█████████▏| 115825/126776 [05:30<01:26, 126.96it/s]"
     ]
    },
    {
     "name": "stderr",
     "output_type": "stream",
     "text": [
      "\r",
      " 91%|█████████▏| 115853/126776 [05:30<01:17, 140.32it/s]"
     ]
    },
    {
     "name": "stderr",
     "output_type": "stream",
     "text": [
      "\r",
      " 91%|█████████▏| 115882/126776 [05:30<01:07, 162.12it/s]"
     ]
    },
    {
     "name": "stderr",
     "output_type": "stream",
     "text": [
      "\r",
      " 91%|█████████▏| 115909/126776 [05:31<01:00, 180.71it/s]"
     ]
    },
    {
     "name": "stderr",
     "output_type": "stream",
     "text": [
      "\r",
      " 91%|█████████▏| 115936/126776 [05:31<00:56, 192.28it/s]"
     ]
    },
    {
     "name": "stderr",
     "output_type": "stream",
     "text": [
      "\r",
      " 91%|█████████▏| 115965/126776 [05:31<00:50, 212.72it/s]"
     ]
    },
    {
     "name": "stderr",
     "output_type": "stream",
     "text": [
      "\r",
      " 91%|█████████▏| 115992/126776 [05:31<00:48, 222.96it/s]"
     ]
    },
    {
     "name": "stderr",
     "output_type": "stream",
     "text": [
      "\r",
      " 92%|█████████▏| 116024/126776 [05:31<00:43, 246.19it/s]"
     ]
    },
    {
     "name": "stderr",
     "output_type": "stream",
     "text": [
      "\r",
      " 92%|█████████▏| 116058/126776 [05:31<00:39, 270.20it/s]"
     ]
    },
    {
     "name": "stderr",
     "output_type": "stream",
     "text": [
      "\r",
      " 92%|█████████▏| 116088/126776 [05:31<00:41, 260.27it/s]"
     ]
    },
    {
     "name": "stderr",
     "output_type": "stream",
     "text": [
      "\r",
      " 92%|█████████▏| 116121/126776 [05:31<00:38, 278.41it/s]"
     ]
    },
    {
     "name": "stderr",
     "output_type": "stream",
     "text": [
      "\r",
      " 92%|█████████▏| 116151/126776 [05:31<00:38, 278.81it/s]"
     ]
    },
    {
     "name": "stderr",
     "output_type": "stream",
     "text": [
      "\r",
      " 92%|█████████▏| 116180/126776 [05:32<00:40, 264.62it/s]"
     ]
    },
    {
     "name": "stderr",
     "output_type": "stream",
     "text": [
      "\r",
      " 92%|█████████▏| 116222/126776 [05:32<00:34, 305.65it/s]"
     ]
    },
    {
     "name": "stderr",
     "output_type": "stream",
     "text": [
      "\r",
      " 92%|█████████▏| 116254/126776 [05:32<00:36, 285.42it/s]"
     ]
    },
    {
     "name": "stderr",
     "output_type": "stream",
     "text": [
      "\r",
      " 92%|█████████▏| 116285/126776 [05:32<00:35, 291.69it/s]"
     ]
    },
    {
     "name": "stderr",
     "output_type": "stream",
     "text": [
      "\r",
      " 92%|█████████▏| 116315/126776 [05:34<03:12, 54.25it/s] "
     ]
    },
    {
     "name": "stderr",
     "output_type": "stream",
     "text": [
      "\r",
      " 92%|█████████▏| 116347/126776 [05:34<02:24, 72.29it/s]"
     ]
    },
    {
     "name": "stderr",
     "output_type": "stream",
     "text": [
      "\r",
      " 92%|█████████▏| 116395/126776 [05:34<01:35, 108.38it/s]"
     ]
    },
    {
     "name": "stderr",
     "output_type": "stream",
     "text": [
      "\r",
      " 92%|█████████▏| 116438/126776 [05:34<01:11, 144.41it/s]"
     ]
    },
    {
     "name": "stderr",
     "output_type": "stream",
     "text": [
      "\r",
      " 92%|█████████▏| 116488/126776 [05:34<00:53, 193.23it/s]"
     ]
    },
    {
     "name": "stderr",
     "output_type": "stream",
     "text": [
      "\r",
      " 92%|█████████▏| 116533/126776 [05:34<00:43, 235.02it/s]"
     ]
    },
    {
     "name": "stderr",
     "output_type": "stream",
     "text": [
      "\r",
      " 92%|█████████▏| 116582/126776 [05:34<00:36, 282.84it/s]"
     ]
    },
    {
     "name": "stderr",
     "output_type": "stream",
     "text": [
      "\r",
      " 92%|█████████▏| 116626/126776 [05:34<00:32, 313.97it/s]"
     ]
    },
    {
     "name": "stderr",
     "output_type": "stream",
     "text": [
      "\r",
      " 92%|█████████▏| 116673/126776 [05:34<00:28, 349.56it/s]"
     ]
    },
    {
     "name": "stderr",
     "output_type": "stream",
     "text": [
      "\r",
      " 92%|█████████▏| 116718/126776 [05:35<00:37, 267.56it/s]"
     ]
    },
    {
     "name": "stderr",
     "output_type": "stream",
     "text": [
      "\r",
      " 92%|█████████▏| 116754/126776 [05:35<00:47, 211.48it/s]"
     ]
    },
    {
     "name": "stderr",
     "output_type": "stream",
     "text": [
      "\r",
      " 92%|█████████▏| 116784/126776 [05:35<00:47, 211.25it/s]"
     ]
    },
    {
     "name": "stderr",
     "output_type": "stream",
     "text": [
      "\r",
      " 92%|█████████▏| 116814/126776 [05:35<00:43, 227.80it/s]"
     ]
    },
    {
     "name": "stderr",
     "output_type": "stream",
     "text": [
      "\r",
      " 92%|█████████▏| 116842/126776 [05:35<00:42, 235.71it/s]"
     ]
    },
    {
     "name": "stderr",
     "output_type": "stream",
     "text": [
      "\r",
      " 92%|█████████▏| 116870/126776 [05:35<00:40, 245.22it/s]"
     ]
    },
    {
     "name": "stderr",
     "output_type": "stream",
     "text": [
      "\r",
      " 92%|█████████▏| 116898/126776 [05:35<00:40, 244.87it/s]"
     ]
    },
    {
     "name": "stderr",
     "output_type": "stream",
     "text": [
      "\r",
      " 92%|█████████▏| 116925/126776 [05:36<00:41, 237.10it/s]"
     ]
    },
    {
     "name": "stderr",
     "output_type": "stream",
     "text": [
      "\r",
      " 92%|█████████▏| 116951/126776 [05:37<03:32, 46.34it/s] "
     ]
    },
    {
     "name": "stderr",
     "output_type": "stream",
     "text": [
      "\r",
      " 92%|█████████▏| 116995/126776 [05:37<02:16, 71.87it/s]"
     ]
    },
    {
     "name": "stderr",
     "output_type": "stream",
     "text": [
      "\r",
      " 92%|█████████▏| 117045/126776 [05:38<01:29, 108.23it/s]"
     ]
    },
    {
     "name": "stderr",
     "output_type": "stream",
     "text": [
      "\r",
      " 92%|█████████▏| 117085/126776 [05:38<01:09, 139.65it/s]"
     ]
    },
    {
     "name": "stderr",
     "output_type": "stream",
     "text": [
      "\r",
      " 92%|█████████▏| 117134/126776 [05:38<00:51, 186.18it/s]"
     ]
    },
    {
     "name": "stderr",
     "output_type": "stream",
     "text": [
      "\r",
      " 92%|█████████▏| 117175/126776 [05:38<00:43, 222.01it/s]"
     ]
    },
    {
     "name": "stderr",
     "output_type": "stream",
     "text": [
      "\r",
      " 92%|█████████▏| 117220/126776 [05:38<00:36, 264.16it/s]"
     ]
    },
    {
     "name": "stderr",
     "output_type": "stream",
     "text": [
      "\r",
      " 92%|█████████▏| 117264/126776 [05:38<00:31, 300.90it/s]"
     ]
    },
    {
     "name": "stderr",
     "output_type": "stream",
     "text": [
      "\r",
      " 93%|█████████▎| 117307/126776 [05:38<00:28, 329.14it/s]"
     ]
    },
    {
     "name": "stderr",
     "output_type": "stream",
     "text": [
      "\r",
      " 93%|█████████▎| 117356/126776 [05:38<00:25, 368.18it/s]"
     ]
    },
    {
     "name": "stderr",
     "output_type": "stream",
     "text": [
      "\r",
      " 93%|█████████▎| 117400/126776 [05:38<00:24, 381.97it/s]"
     ]
    },
    {
     "name": "stderr",
     "output_type": "stream",
     "text": [
      "\r",
      " 93%|█████████▎| 117450/126776 [05:38<00:22, 412.88it/s]"
     ]
    },
    {
     "name": "stderr",
     "output_type": "stream",
     "text": [
      "\r",
      " 93%|█████████▎| 117496/126776 [05:39<00:22, 415.33it/s]"
     ]
    },
    {
     "name": "stderr",
     "output_type": "stream",
     "text": [
      "\r",
      " 93%|█████████▎| 117547/126776 [05:39<00:20, 441.53it/s]"
     ]
    },
    {
     "name": "stderr",
     "output_type": "stream",
     "text": [
      "\r",
      " 93%|█████████▎| 117594/126776 [05:40<01:17, 119.03it/s]"
     ]
    },
    {
     "name": "stderr",
     "output_type": "stream",
     "text": [
      "\r",
      " 93%|█████████▎| 117653/126776 [05:40<00:55, 164.54it/s]"
     ]
    },
    {
     "name": "stderr",
     "output_type": "stream",
     "text": [
      "\r",
      " 93%|█████████▎| 117711/126776 [05:40<00:42, 215.06it/s]"
     ]
    },
    {
     "name": "stderr",
     "output_type": "stream",
     "text": [
      "\r",
      " 93%|█████████▎| 117770/126776 [05:40<00:33, 270.00it/s]"
     ]
    },
    {
     "name": "stderr",
     "output_type": "stream",
     "text": [
      "\r",
      " 93%|█████████▎| 117828/126776 [05:40<00:27, 323.98it/s]"
     ]
    },
    {
     "name": "stderr",
     "output_type": "stream",
     "text": [
      "\r",
      " 93%|█████████▎| 117886/126776 [05:40<00:23, 374.73it/s]"
     ]
    },
    {
     "name": "stderr",
     "output_type": "stream",
     "text": [
      "\r",
      " 93%|█████████▎| 117944/126776 [05:40<00:21, 419.88it/s]"
     ]
    },
    {
     "name": "stderr",
     "output_type": "stream",
     "text": [
      "\r",
      " 93%|█████████▎| 118003/126776 [05:40<00:19, 459.62it/s]"
     ]
    },
    {
     "name": "stderr",
     "output_type": "stream",
     "text": [
      "\r",
      " 93%|█████████▎| 118062/126776 [05:41<00:17, 491.26it/s]"
     ]
    },
    {
     "name": "stderr",
     "output_type": "stream",
     "text": [
      "\r",
      " 93%|█████████▎| 118121/126776 [05:41<00:16, 515.26it/s]"
     ]
    },
    {
     "name": "stderr",
     "output_type": "stream",
     "text": [
      "\r",
      " 93%|█████████▎| 118180/126776 [05:41<00:16, 534.11it/s]"
     ]
    },
    {
     "name": "stderr",
     "output_type": "stream",
     "text": [
      "\r",
      " 93%|█████████▎| 118238/126776 [05:42<01:04, 132.75it/s]"
     ]
    },
    {
     "name": "stderr",
     "output_type": "stream",
     "text": [
      "\r",
      " 93%|█████████▎| 118297/126776 [05:42<00:48, 173.18it/s]"
     ]
    },
    {
     "name": "stderr",
     "output_type": "stream",
     "text": [
      "\r",
      " 93%|█████████▎| 118356/126776 [05:42<00:38, 219.75it/s]"
     ]
    },
    {
     "name": "stderr",
     "output_type": "stream",
     "text": [
      "\r",
      " 93%|█████████▎| 118415/126776 [05:42<00:30, 270.46it/s]"
     ]
    },
    {
     "name": "stderr",
     "output_type": "stream",
     "text": [
      "\r",
      " 93%|█████████▎| 118474/126776 [05:42<00:25, 322.49it/s]"
     ]
    },
    {
     "name": "stderr",
     "output_type": "stream",
     "text": [
      "\r",
      " 93%|█████████▎| 118533/126776 [05:42<00:22, 372.50it/s]"
     ]
    },
    {
     "name": "stderr",
     "output_type": "stream",
     "text": [
      "\r",
      " 94%|█████████▎| 118592/126776 [05:43<00:19, 417.50it/s]"
     ]
    },
    {
     "name": "stderr",
     "output_type": "stream",
     "text": [
      "\r",
      " 94%|█████████▎| 118651/126776 [05:43<00:17, 456.39it/s]"
     ]
    },
    {
     "name": "stderr",
     "output_type": "stream",
     "text": [
      "\r",
      " 94%|█████████▎| 118708/126776 [05:43<00:18, 432.11it/s]"
     ]
    },
    {
     "name": "stderr",
     "output_type": "stream",
     "text": [
      "\r",
      " 94%|█████████▎| 118760/126776 [05:43<00:18, 431.82it/s]"
     ]
    },
    {
     "name": "stderr",
     "output_type": "stream",
     "text": [
      "\r",
      " 94%|█████████▎| 118809/126776 [05:44<00:54, 146.42it/s]"
     ]
    },
    {
     "name": "stderr",
     "output_type": "stream",
     "text": [
      "\r",
      " 94%|█████████▍| 118868/126776 [05:44<00:41, 192.18it/s]"
     ]
    },
    {
     "name": "stderr",
     "output_type": "stream",
     "text": [
      "\r",
      " 94%|█████████▍| 118927/126776 [05:44<00:32, 243.18it/s]"
     ]
    },
    {
     "name": "stderr",
     "output_type": "stream",
     "text": [
      "\r",
      " 94%|█████████▍| 118981/126776 [05:44<00:26, 289.27it/s]"
     ]
    },
    {
     "name": "stderr",
     "output_type": "stream",
     "text": [
      "\r",
      " 94%|█████████▍| 119031/126776 [05:44<00:24, 310.16it/s]"
     ]
    },
    {
     "name": "stderr",
     "output_type": "stream",
     "text": [
      "\r",
      " 94%|█████████▍| 119085/126776 [05:44<00:21, 355.26it/s]"
     ]
    },
    {
     "name": "stderr",
     "output_type": "stream",
     "text": [
      "\r",
      " 94%|█████████▍| 119144/126776 [05:44<00:18, 405.90it/s]"
     ]
    },
    {
     "name": "stderr",
     "output_type": "stream",
     "text": [
      "\r",
      " 94%|█████████▍| 119203/126776 [05:45<00:16, 448.71it/s]"
     ]
    },
    {
     "name": "stderr",
     "output_type": "stream",
     "text": [
      "\r",
      " 94%|█████████▍| 119262/126776 [05:45<00:15, 483.55it/s]"
     ]
    },
    {
     "name": "stderr",
     "output_type": "stream",
     "text": [
      "\r",
      " 94%|█████████▍| 119321/126776 [05:45<00:14, 511.12it/s]"
     ]
    },
    {
     "name": "stderr",
     "output_type": "stream",
     "text": [
      "\r",
      " 94%|█████████▍| 119380/126776 [05:45<00:13, 531.47it/s]"
     ]
    },
    {
     "name": "stderr",
     "output_type": "stream",
     "text": [
      "\r",
      " 94%|█████████▍| 119437/126776 [05:46<00:46, 158.13it/s]"
     ]
    },
    {
     "name": "stderr",
     "output_type": "stream",
     "text": [
      "\r",
      " 94%|█████████▍| 119496/126776 [05:46<00:35, 203.13it/s]"
     ]
    },
    {
     "name": "stderr",
     "output_type": "stream",
     "text": [
      "\r",
      " 94%|█████████▍| 119555/126776 [05:46<00:28, 253.15it/s]"
     ]
    },
    {
     "name": "stderr",
     "output_type": "stream",
     "text": [
      "\r",
      " 94%|█████████▍| 119613/126776 [05:46<00:23, 304.23it/s]"
     ]
    },
    {
     "name": "stderr",
     "output_type": "stream",
     "text": [
      "\r",
      " 94%|█████████▍| 119672/126776 [05:46<00:19, 355.71it/s]"
     ]
    },
    {
     "name": "stderr",
     "output_type": "stream",
     "text": [
      "\r",
      " 94%|█████████▍| 119731/126776 [05:46<00:17, 403.08it/s]"
     ]
    },
    {
     "name": "stderr",
     "output_type": "stream",
     "text": [
      "\r",
      " 94%|█████████▍| 119790/126776 [05:46<00:15, 444.37it/s]"
     ]
    },
    {
     "name": "stderr",
     "output_type": "stream",
     "text": [
      "\r",
      " 95%|█████████▍| 119849/126776 [05:47<00:14, 478.85it/s]"
     ]
    },
    {
     "name": "stderr",
     "output_type": "stream",
     "text": [
      "\r",
      " 95%|█████████▍| 119908/126776 [05:47<00:13, 506.28it/s]"
     ]
    },
    {
     "name": "stderr",
     "output_type": "stream",
     "text": [
      "\r",
      " 95%|█████████▍| 119967/126776 [05:47<00:12, 526.42it/s]"
     ]
    },
    {
     "name": "stderr",
     "output_type": "stream",
     "text": [
      "\r",
      " 95%|█████████▍| 120025/126776 [05:47<00:13, 511.50it/s]"
     ]
    },
    {
     "name": "stderr",
     "output_type": "stream",
     "text": [
      "\r",
      " 95%|█████████▍| 120080/126776 [05:48<00:52, 127.92it/s]"
     ]
    },
    {
     "name": "stderr",
     "output_type": "stream",
     "text": [
      "\r",
      " 95%|█████████▍| 120123/126776 [05:48<00:43, 154.19it/s]"
     ]
    },
    {
     "name": "stderr",
     "output_type": "stream",
     "text": [
      "\r",
      " 95%|█████████▍| 120164/126776 [05:48<00:36, 178.80it/s]"
     ]
    },
    {
     "name": "stderr",
     "output_type": "stream",
     "text": [
      "\r",
      " 95%|█████████▍| 120203/126776 [05:48<00:32, 205.01it/s]"
     ]
    },
    {
     "name": "stderr",
     "output_type": "stream",
     "text": [
      "\r",
      " 95%|█████████▍| 120242/126776 [05:49<00:31, 207.47it/s]"
     ]
    },
    {
     "name": "stderr",
     "output_type": "stream",
     "text": [
      "\r",
      " 95%|█████████▍| 120276/126776 [05:49<00:29, 222.75it/s]"
     ]
    },
    {
     "name": "stderr",
     "output_type": "stream",
     "text": [
      "\r",
      " 95%|█████████▍| 120308/126776 [05:49<00:29, 222.22it/s]"
     ]
    },
    {
     "name": "stderr",
     "output_type": "stream",
     "text": [
      "\r",
      " 95%|█████████▍| 120337/126776 [05:49<00:31, 205.72it/s]"
     ]
    },
    {
     "name": "stderr",
     "output_type": "stream",
     "text": [
      "\r",
      " 95%|█████████▍| 120363/126776 [05:49<00:31, 203.06it/s]"
     ]
    },
    {
     "name": "stderr",
     "output_type": "stream",
     "text": [
      "\r",
      " 95%|█████████▍| 120387/126776 [05:49<00:30, 208.43it/s]"
     ]
    },
    {
     "name": "stderr",
     "output_type": "stream",
     "text": [
      "\r",
      " 95%|█████████▍| 120411/126776 [05:49<00:33, 189.10it/s]"
     ]
    },
    {
     "name": "stderr",
     "output_type": "stream",
     "text": [
      "\r",
      " 95%|█████████▌| 120440/126776 [05:50<00:30, 210.06it/s]"
     ]
    },
    {
     "name": "stderr",
     "output_type": "stream",
     "text": [
      "\r",
      " 95%|█████████▌| 120464/126776 [05:50<00:29, 216.49it/s]"
     ]
    },
    {
     "name": "stderr",
     "output_type": "stream",
     "text": [
      "\r",
      " 95%|█████████▌| 120493/126776 [05:50<00:26, 233.33it/s]"
     ]
    },
    {
     "name": "stderr",
     "output_type": "stream",
     "text": [
      "\r",
      " 95%|█████████▌| 120518/126776 [05:50<00:27, 226.61it/s]"
     ]
    },
    {
     "name": "stderr",
     "output_type": "stream",
     "text": [
      "\r",
      " 95%|█████████▌| 120547/126776 [05:50<00:25, 241.28it/s]"
     ]
    },
    {
     "name": "stderr",
     "output_type": "stream",
     "text": [
      "\r",
      " 95%|█████████▌| 120578/126776 [05:50<00:23, 260.00it/s]"
     ]
    },
    {
     "name": "stderr",
     "output_type": "stream",
     "text": [
      "\r",
      " 95%|█████████▌| 120605/126776 [05:50<00:28, 213.43it/s]"
     ]
    },
    {
     "name": "stderr",
     "output_type": "stream",
     "text": [
      "\r",
      " 95%|█████████▌| 120629/126776 [05:50<00:29, 211.72it/s]"
     ]
    },
    {
     "name": "stderr",
     "output_type": "stream",
     "text": [
      "\r",
      " 95%|█████████▌| 120656/126776 [05:50<00:27, 225.72it/s]"
     ]
    },
    {
     "name": "stderr",
     "output_type": "stream",
     "text": [
      "\r",
      " 95%|█████████▌| 120680/126776 [05:51<00:27, 219.85it/s]"
     ]
    },
    {
     "name": "stderr",
     "output_type": "stream",
     "text": [
      "\r",
      " 95%|█████████▌| 120703/126776 [05:52<02:30, 40.44it/s] "
     ]
    },
    {
     "name": "stderr",
     "output_type": "stream",
     "text": [
      "\r",
      " 95%|█████████▌| 120731/126776 [05:53<01:48, 55.88it/s]"
     ]
    },
    {
     "name": "stderr",
     "output_type": "stream",
     "text": [
      "\r",
      " 95%|█████████▌| 120758/126776 [05:53<01:21, 73.78it/s]"
     ]
    },
    {
     "name": "stderr",
     "output_type": "stream",
     "text": [
      "\r",
      " 95%|█████████▌| 120784/126776 [05:53<01:03, 93.67it/s]"
     ]
    },
    {
     "name": "stderr",
     "output_type": "stream",
     "text": [
      "\r",
      " 95%|█████████▌| 120817/126776 [05:53<00:47, 125.03it/s]"
     ]
    },
    {
     "name": "stderr",
     "output_type": "stream",
     "text": [
      "\r",
      " 95%|█████████▌| 120867/126776 [05:53<00:32, 184.52it/s]"
     ]
    },
    {
     "name": "stderr",
     "output_type": "stream",
     "text": [
      "\r",
      " 95%|█████████▌| 120918/126776 [05:53<00:24, 244.05it/s]"
     ]
    },
    {
     "name": "stderr",
     "output_type": "stream",
     "text": [
      "\r",
      " 95%|█████████▌| 120970/126776 [05:53<00:19, 300.91it/s]"
     ]
    },
    {
     "name": "stderr",
     "output_type": "stream",
     "text": [
      "\r",
      " 95%|█████████▌| 121022/126776 [05:53<00:16, 349.80it/s]"
     ]
    },
    {
     "name": "stderr",
     "output_type": "stream",
     "text": [
      "\r",
      " 96%|█████████▌| 121075/126776 [05:53<00:14, 392.90it/s]"
     ]
    },
    {
     "name": "stderr",
     "output_type": "stream",
     "text": [
      "\r",
      " 96%|█████████▌| 121123/126776 [05:53<00:13, 413.88it/s]"
     ]
    },
    {
     "name": "stderr",
     "output_type": "stream",
     "text": [
      "\r",
      " 96%|█████████▌| 121171/126776 [05:54<00:13, 425.83it/s]"
     ]
    },
    {
     "name": "stderr",
     "output_type": "stream",
     "text": [
      "\r",
      " 96%|█████████▌| 121218/126776 [05:54<00:15, 356.29it/s]"
     ]
    },
    {
     "name": "stderr",
     "output_type": "stream",
     "text": [
      "\r",
      " 96%|█████████▌| 121259/126776 [05:54<00:19, 287.87it/s]"
     ]
    },
    {
     "name": "stderr",
     "output_type": "stream",
     "text": [
      "\r",
      " 96%|█████████▌| 121293/126776 [05:54<00:21, 252.06it/s]"
     ]
    },
    {
     "name": "stderr",
     "output_type": "stream",
     "text": [
      "\r",
      " 96%|█████████▌| 121323/126776 [05:56<01:38, 55.51it/s] "
     ]
    },
    {
     "name": "stderr",
     "output_type": "stream",
     "text": [
      "\r",
      " 96%|█████████▌| 121351/126776 [05:56<01:19, 68.44it/s]"
     ]
    },
    {
     "name": "stderr",
     "output_type": "stream",
     "text": [
      "\r",
      " 96%|█████████▌| 121383/126776 [05:56<01:01, 87.69it/s]"
     ]
    },
    {
     "name": "stderr",
     "output_type": "stream",
     "text": [
      "\r",
      " 96%|█████████▌| 121415/126776 [05:56<00:48, 110.41it/s]"
     ]
    },
    {
     "name": "stderr",
     "output_type": "stream",
     "text": [
      "\r",
      " 96%|█████████▌| 121443/126776 [05:57<00:44, 121.08it/s]"
     ]
    },
    {
     "name": "stderr",
     "output_type": "stream",
     "text": [
      "\r",
      " 96%|█████████▌| 121470/126776 [05:57<00:37, 141.85it/s]"
     ]
    },
    {
     "name": "stderr",
     "output_type": "stream",
     "text": [
      "\r",
      " 96%|█████████▌| 121495/126776 [05:57<00:33, 158.65it/s]"
     ]
    },
    {
     "name": "stderr",
     "output_type": "stream",
     "text": [
      "\r",
      " 96%|█████████▌| 121520/126776 [05:57<00:38, 137.82it/s]"
     ]
    },
    {
     "name": "stderr",
     "output_type": "stream",
     "text": [
      "\r",
      " 96%|█████████▌| 121543/126776 [05:57<00:34, 151.51it/s]"
     ]
    },
    {
     "name": "stderr",
     "output_type": "stream",
     "text": [
      "\r",
      " 96%|█████████▌| 121570/126776 [05:57<00:29, 174.33it/s]"
     ]
    },
    {
     "name": "stderr",
     "output_type": "stream",
     "text": [
      "\r",
      " 96%|█████████▌| 121598/126776 [05:57<00:26, 196.54it/s]"
     ]
    },
    {
     "name": "stderr",
     "output_type": "stream",
     "text": [
      "\r",
      " 96%|█████████▌| 121622/126776 [05:57<00:25, 203.31it/s]"
     ]
    },
    {
     "name": "stderr",
     "output_type": "stream",
     "text": [
      "\r",
      " 96%|█████████▌| 121646/126776 [05:57<00:24, 206.95it/s]"
     ]
    },
    {
     "name": "stderr",
     "output_type": "stream",
     "text": [
      "\r",
      " 96%|█████████▌| 121675/126776 [05:58<00:22, 226.67it/s]"
     ]
    },
    {
     "name": "stderr",
     "output_type": "stream",
     "text": [
      "\r",
      " 96%|█████████▌| 121700/126776 [05:58<00:23, 218.51it/s]"
     ]
    },
    {
     "name": "stderr",
     "output_type": "stream",
     "text": [
      "\r",
      " 96%|█████████▌| 121728/126776 [05:58<00:21, 233.02it/s]"
     ]
    },
    {
     "name": "stderr",
     "output_type": "stream",
     "text": [
      "\r",
      " 96%|█████████▌| 121753/126776 [05:58<00:22, 220.90it/s]"
     ]
    },
    {
     "name": "stderr",
     "output_type": "stream",
     "text": [
      "\r",
      " 96%|█████████▌| 121780/126776 [05:58<00:21, 233.40it/s]"
     ]
    },
    {
     "name": "stderr",
     "output_type": "stream",
     "text": [
      "\r",
      " 96%|█████████▌| 121805/126776 [05:58<00:22, 222.11it/s]"
     ]
    },
    {
     "name": "stderr",
     "output_type": "stream",
     "text": [
      "\r",
      " 96%|█████████▌| 121832/126776 [05:58<00:21, 234.84it/s]"
     ]
    },
    {
     "name": "stderr",
     "output_type": "stream",
     "text": [
      "\r",
      " 96%|█████████▌| 121865/126776 [05:58<00:18, 260.12it/s]"
     ]
    },
    {
     "name": "stderr",
     "output_type": "stream",
     "text": [
      "\r",
      " 96%|█████████▌| 121902/126776 [05:58<00:16, 291.06it/s]"
     ]
    },
    {
     "name": "stderr",
     "output_type": "stream",
     "text": [
      "\r",
      " 96%|█████████▌| 121933/126776 [05:59<00:16, 294.48it/s]"
     ]
    },
    {
     "name": "stderr",
     "output_type": "stream",
     "text": [
      "\r",
      " 96%|█████████▌| 121963/126776 [06:00<01:24, 56.86it/s] "
     ]
    },
    {
     "name": "stderr",
     "output_type": "stream",
     "text": [
      "\r",
      " 96%|█████████▌| 122021/126776 [06:00<00:49, 95.31it/s]"
     ]
    },
    {
     "name": "stderr",
     "output_type": "stream",
     "text": [
      "\r",
      " 96%|█████████▋| 122079/126776 [06:00<00:33, 141.31it/s]"
     ]
    },
    {
     "name": "stderr",
     "output_type": "stream",
     "text": [
      "\r",
      " 96%|█████████▋| 122137/126776 [06:00<00:23, 193.51it/s]"
     ]
    },
    {
     "name": "stderr",
     "output_type": "stream",
     "text": [
      "\r",
      " 96%|█████████▋| 122196/126776 [06:01<00:18, 250.89it/s]"
     ]
    },
    {
     "name": "stderr",
     "output_type": "stream",
     "text": [
      "\r",
      " 96%|█████████▋| 122255/126776 [06:01<00:14, 308.61it/s]"
     ]
    },
    {
     "name": "stderr",
     "output_type": "stream",
     "text": [
      "\r",
      " 96%|█████████▋| 122314/126776 [06:01<00:12, 363.19it/s]"
     ]
    },
    {
     "name": "stderr",
     "output_type": "stream",
     "text": [
      "\r",
      " 97%|█████████▋| 122373/126776 [06:01<00:10, 411.77it/s]"
     ]
    },
    {
     "name": "stderr",
     "output_type": "stream",
     "text": [
      "\r",
      " 97%|█████████▋| 122432/126776 [06:01<00:09, 452.80it/s]"
     ]
    },
    {
     "name": "stderr",
     "output_type": "stream",
     "text": [
      "\r",
      " 97%|█████████▋| 122491/126776 [06:01<00:08, 485.60it/s]"
     ]
    },
    {
     "name": "stderr",
     "output_type": "stream",
     "text": [
      "\r",
      " 97%|█████████▋| 122550/126776 [06:01<00:08, 511.05it/s]"
     ]
    },
    {
     "name": "stderr",
     "output_type": "stream",
     "text": [
      "\r",
      " 97%|█████████▋| 122608/126776 [06:02<00:26, 158.00it/s]"
     ]
    },
    {
     "name": "stderr",
     "output_type": "stream",
     "text": [
      "\r",
      " 97%|█████████▋| 122666/126776 [06:02<00:20, 202.01it/s]"
     ]
    },
    {
     "name": "stderr",
     "output_type": "stream",
     "text": [
      "\r",
      " 97%|█████████▋| 122724/126776 [06:02<00:16, 250.84it/s]"
     ]
    },
    {
     "name": "stderr",
     "output_type": "stream",
     "text": [
      "\r",
      " 97%|█████████▋| 122781/126776 [06:02<00:13, 300.09it/s]"
     ]
    },
    {
     "name": "stderr",
     "output_type": "stream",
     "text": [
      "\r",
      " 97%|█████████▋| 122839/126776 [06:03<00:11, 350.42it/s]"
     ]
    },
    {
     "name": "stderr",
     "output_type": "stream",
     "text": [
      "\r",
      " 97%|█████████▋| 122893/126776 [06:03<00:09, 388.50it/s]"
     ]
    },
    {
     "name": "stderr",
     "output_type": "stream",
     "text": [
      "\r",
      " 97%|█████████▋| 122951/126776 [06:03<00:08, 431.29it/s]"
     ]
    },
    {
     "name": "stderr",
     "output_type": "stream",
     "text": [
      "\r",
      " 97%|█████████▋| 123009/126776 [06:03<00:08, 466.42it/s]"
     ]
    },
    {
     "name": "stderr",
     "output_type": "stream",
     "text": [
      "\r",
      " 97%|█████████▋| 123066/126776 [06:03<00:07, 492.28it/s]"
     ]
    },
    {
     "name": "stderr",
     "output_type": "stream",
     "text": [
      "\r",
      " 97%|█████████▋| 123122/126776 [06:03<00:09, 369.36it/s]"
     ]
    },
    {
     "name": "stderr",
     "output_type": "stream",
     "text": [
      "\r",
      " 97%|█████████▋| 123169/126776 [06:03<00:11, 312.97it/s]"
     ]
    },
    {
     "name": "stderr",
     "output_type": "stream",
     "text": [
      "\r",
      " 97%|█████████▋| 123208/126776 [06:04<00:32, 108.97it/s]"
     ]
    },
    {
     "name": "stderr",
     "output_type": "stream",
     "text": [
      "\r",
      " 97%|█████████▋| 123267/126776 [06:05<00:23, 150.32it/s]"
     ]
    },
    {
     "name": "stderr",
     "output_type": "stream",
     "text": [
      "\r",
      " 97%|█████████▋| 123326/126776 [06:05<00:17, 198.21it/s]"
     ]
    },
    {
     "name": "stderr",
     "output_type": "stream",
     "text": [
      "\r",
      " 97%|█████████▋| 123384/126776 [06:05<00:13, 249.77it/s]"
     ]
    },
    {
     "name": "stderr",
     "output_type": "stream",
     "text": [
      "\r",
      " 97%|█████████▋| 123443/126776 [06:05<00:10, 304.06it/s]"
     ]
    },
    {
     "name": "stderr",
     "output_type": "stream",
     "text": [
      "\r",
      " 97%|█████████▋| 123502/126776 [06:05<00:09, 356.77it/s]"
     ]
    },
    {
     "name": "stderr",
     "output_type": "stream",
     "text": [
      "\r",
      " 97%|█████████▋| 123561/126776 [06:05<00:07, 404.62it/s]"
     ]
    },
    {
     "name": "stderr",
     "output_type": "stream",
     "text": [
      "\r",
      " 98%|█████████▊| 123620/126776 [06:05<00:07, 446.13it/s]"
     ]
    },
    {
     "name": "stderr",
     "output_type": "stream",
     "text": [
      "\r",
      " 98%|█████████▊| 123679/126776 [06:05<00:06, 480.34it/s]"
     ]
    },
    {
     "name": "stderr",
     "output_type": "stream",
     "text": [
      "\r",
      " 98%|█████████▊| 123737/126776 [06:05<00:06, 505.88it/s]"
     ]
    },
    {
     "name": "stderr",
     "output_type": "stream",
     "text": [
      "\r",
      " 98%|█████████▊| 123796/126776 [06:05<00:05, 526.78it/s]"
     ]
    },
    {
     "name": "stderr",
     "output_type": "stream",
     "text": [
      "\r",
      " 98%|█████████▊| 123854/126776 [06:06<00:18, 155.54it/s]"
     ]
    },
    {
     "name": "stderr",
     "output_type": "stream",
     "text": [
      "\r",
      " 98%|█████████▊| 123912/126776 [06:07<00:14, 198.84it/s]"
     ]
    },
    {
     "name": "stderr",
     "output_type": "stream",
     "text": [
      "\r",
      " 98%|█████████▊| 123966/126776 [06:07<00:11, 242.29it/s]"
     ]
    },
    {
     "name": "stderr",
     "output_type": "stream",
     "text": [
      "\r",
      " 98%|█████████▊| 124015/126776 [06:07<00:10, 267.18it/s]"
     ]
    },
    {
     "name": "stderr",
     "output_type": "stream",
     "text": [
      "\r",
      " 98%|█████████▊| 124067/126776 [06:07<00:08, 311.00it/s]"
     ]
    },
    {
     "name": "stderr",
     "output_type": "stream",
     "text": [
      "\r",
      " 98%|█████████▊| 124125/126776 [06:07<00:07, 364.05it/s]"
     ]
    },
    {
     "name": "stderr",
     "output_type": "stream",
     "text": [
      "\r",
      " 98%|█████████▊| 124183/126776 [06:07<00:06, 411.55it/s]"
     ]
    },
    {
     "name": "stderr",
     "output_type": "stream",
     "text": [
      "\r",
      " 98%|█████████▊| 124241/126776 [06:07<00:05, 450.77it/s]"
     ]
    },
    {
     "name": "stderr",
     "output_type": "stream",
     "text": [
      "\r",
      " 98%|█████████▊| 124300/126776 [06:07<00:05, 484.23it/s]"
     ]
    },
    {
     "name": "stderr",
     "output_type": "stream",
     "text": [
      "\r",
      " 98%|█████████▊| 124358/126776 [06:07<00:04, 507.80it/s]"
     ]
    },
    {
     "name": "stderr",
     "output_type": "stream",
     "text": [
      "\r",
      " 98%|█████████▊| 124416/126776 [06:08<00:04, 526.58it/s]"
     ]
    },
    {
     "name": "stderr",
     "output_type": "stream",
     "text": [
      "\r",
      " 98%|█████████▊| 124473/126776 [06:08<00:14, 162.65it/s]"
     ]
    },
    {
     "name": "stderr",
     "output_type": "stream",
     "text": [
      "\r",
      " 98%|█████████▊| 124532/126776 [06:09<00:10, 208.61it/s]"
     ]
    },
    {
     "name": "stderr",
     "output_type": "stream",
     "text": [
      "\r",
      " 98%|█████████▊| 124590/126776 [06:09<00:08, 258.17it/s]"
     ]
    },
    {
     "name": "stderr",
     "output_type": "stream",
     "text": [
      "\r",
      " 98%|█████████▊| 124647/126776 [06:09<00:06, 307.99it/s]"
     ]
    },
    {
     "name": "stderr",
     "output_type": "stream",
     "text": [
      "\r",
      " 98%|█████████▊| 124704/126776 [06:09<00:05, 356.58it/s]"
     ]
    },
    {
     "name": "stderr",
     "output_type": "stream",
     "text": [
      "\r",
      " 98%|█████████▊| 124761/126776 [06:09<00:05, 400.67it/s]"
     ]
    },
    {
     "name": "stderr",
     "output_type": "stream",
     "text": [
      "\r",
      " 98%|█████████▊| 124819/126776 [06:09<00:04, 440.81it/s]"
     ]
    },
    {
     "name": "stderr",
     "output_type": "stream",
     "text": [
      "\r",
      " 99%|█████████▊| 124878/126776 [06:09<00:03, 475.87it/s]"
     ]
    },
    {
     "name": "stderr",
     "output_type": "stream",
     "text": [
      "\r",
      " 99%|█████████▊| 124937/126776 [06:09<00:03, 503.80it/s]"
     ]
    },
    {
     "name": "stderr",
     "output_type": "stream",
     "text": [
      "\r",
      " 99%|█████████▊| 124994/126776 [06:09<00:03, 510.22it/s]"
     ]
    },
    {
     "name": "stderr",
     "output_type": "stream",
     "text": [
      "\r",
      " 99%|█████████▊| 125050/126776 [06:10<00:04, 393.74it/s]"
     ]
    },
    {
     "name": "stderr",
     "output_type": "stream",
     "text": [
      "\r",
      " 99%|█████████▊| 125097/126776 [06:10<00:04, 336.69it/s]"
     ]
    },
    {
     "name": "stderr",
     "output_type": "stream",
     "text": [
      "\r",
      " 99%|█████████▊| 125137/126776 [06:11<00:16, 101.18it/s]"
     ]
    },
    {
     "name": "stderr",
     "output_type": "stream",
     "text": [
      "\r",
      " 99%|█████████▊| 125189/126776 [06:11<00:11, 134.45it/s]"
     ]
    },
    {
     "name": "stderr",
     "output_type": "stream",
     "text": [
      "\r",
      " 99%|█████████▉| 125235/126776 [06:11<00:09, 167.50it/s]"
     ]
    },
    {
     "name": "stderr",
     "output_type": "stream",
     "text": [
      "\r",
      " 99%|█████████▉| 125283/126776 [06:11<00:07, 207.00it/s]"
     ]
    },
    {
     "name": "stderr",
     "output_type": "stream",
     "text": [
      "\r",
      " 99%|█████████▉| 125333/126776 [06:11<00:05, 251.91it/s]"
     ]
    },
    {
     "name": "stderr",
     "output_type": "stream",
     "text": [
      "\r",
      " 99%|█████████▉| 125380/126776 [06:12<00:04, 290.22it/s]"
     ]
    },
    {
     "name": "stderr",
     "output_type": "stream",
     "text": [
      "\r",
      " 99%|█████████▉| 125430/126776 [06:12<00:04, 332.02it/s]"
     ]
    },
    {
     "name": "stderr",
     "output_type": "stream",
     "text": [
      "\r",
      " 99%|█████████▉| 125479/126776 [06:12<00:03, 366.09it/s]"
     ]
    },
    {
     "name": "stderr",
     "output_type": "stream",
     "text": [
      "\r",
      " 99%|█████████▉| 125526/126776 [06:12<00:03, 390.82it/s]"
     ]
    },
    {
     "name": "stderr",
     "output_type": "stream",
     "text": [
      "\r",
      " 99%|█████████▉| 125574/126776 [06:12<00:02, 411.97it/s]"
     ]
    },
    {
     "name": "stderr",
     "output_type": "stream",
     "text": [
      "\r",
      " 99%|█████████▉| 125626/126776 [06:12<00:02, 440.22it/s]"
     ]
    },
    {
     "name": "stderr",
     "output_type": "stream",
     "text": [
      "\r",
      " 99%|█████████▉| 125675/126776 [06:12<00:02, 449.78it/s]"
     ]
    },
    {
     "name": "stderr",
     "output_type": "stream",
     "text": [
      "\r",
      " 99%|█████████▉| 125724/126776 [06:12<00:02, 459.21it/s]"
     ]
    },
    {
     "name": "stderr",
     "output_type": "stream",
     "text": [
      "\r",
      " 99%|█████████▉| 125773/126776 [06:13<00:07, 128.73it/s]"
     ]
    },
    {
     "name": "stderr",
     "output_type": "stream",
     "text": [
      "\r",
      " 99%|█████████▉| 125828/126776 [06:13<00:05, 171.01it/s]"
     ]
    },
    {
     "name": "stderr",
     "output_type": "stream",
     "text": [
      "\r",
      " 99%|█████████▉| 125884/126776 [06:13<00:04, 219.86it/s]"
     ]
    },
    {
     "name": "stderr",
     "output_type": "stream",
     "text": [
      "\r",
      " 99%|█████████▉| 125930/126776 [06:14<00:03, 234.35it/s]"
     ]
    },
    {
     "name": "stderr",
     "output_type": "stream",
     "text": [
      "\r",
      " 99%|█████████▉| 125971/126776 [06:14<00:03, 244.06it/s]"
     ]
    },
    {
     "name": "stderr",
     "output_type": "stream",
     "text": [
      "\r",
      " 99%|█████████▉| 126008/126776 [06:14<00:03, 247.98it/s]"
     ]
    },
    {
     "name": "stderr",
     "output_type": "stream",
     "text": [
      "\r",
      " 99%|█████████▉| 126042/126776 [06:14<00:02, 251.44it/s]"
     ]
    },
    {
     "name": "stderr",
     "output_type": "stream",
     "text": [
      "\r",
      " 99%|█████████▉| 126074/126776 [06:14<00:02, 259.60it/s]"
     ]
    },
    {
     "name": "stderr",
     "output_type": "stream",
     "text": [
      "\r",
      " 99%|█████████▉| 126105/126776 [06:14<00:02, 259.01it/s]"
     ]
    },
    {
     "name": "stderr",
     "output_type": "stream",
     "text": [
      "\r",
      " 99%|█████████▉| 126135/126776 [06:14<00:02, 258.04it/s]"
     ]
    },
    {
     "name": "stderr",
     "output_type": "stream",
     "text": [
      "\r",
      "100%|█████████▉| 126164/126776 [06:15<00:02, 256.16it/s]"
     ]
    },
    {
     "name": "stderr",
     "output_type": "stream",
     "text": [
      "\r",
      "100%|█████████▉| 126192/126776 [06:15<00:02, 253.58it/s]"
     ]
    },
    {
     "name": "stderr",
     "output_type": "stream",
     "text": [
      "\r",
      "100%|█████████▉| 126221/126776 [06:15<00:02, 260.26it/s]"
     ]
    },
    {
     "name": "stderr",
     "output_type": "stream",
     "text": [
      "\r",
      "100%|█████████▉| 126248/126776 [06:15<00:02, 257.30it/s]"
     ]
    },
    {
     "name": "stderr",
     "output_type": "stream",
     "text": [
      "\r",
      "100%|█████████▉| 126275/126776 [06:15<00:02, 249.92it/s]"
     ]
    },
    {
     "name": "stderr",
     "output_type": "stream",
     "text": [
      "\r",
      "100%|█████████▉| 126301/126776 [06:15<00:01, 246.89it/s]"
     ]
    },
    {
     "name": "stderr",
     "output_type": "stream",
     "text": [
      "\r",
      "100%|█████████▉| 126330/126776 [06:15<00:01, 256.69it/s]"
     ]
    },
    {
     "name": "stderr",
     "output_type": "stream",
     "text": [
      "\r",
      "100%|█████████▉| 126356/126776 [06:15<00:01, 247.81it/s]"
     ]
    },
    {
     "name": "stderr",
     "output_type": "stream",
     "text": [
      "\r",
      "100%|█████████▉| 126381/126776 [06:17<00:09, 43.61it/s] "
     ]
    },
    {
     "name": "stderr",
     "output_type": "stream",
     "text": [
      "\r",
      "100%|█████████▉| 126410/126776 [06:17<00:06, 59.57it/s]"
     ]
    },
    {
     "name": "stderr",
     "output_type": "stream",
     "text": [
      "\r",
      "100%|█████████▉| 126433/126776 [06:17<00:04, 73.77it/s]"
     ]
    },
    {
     "name": "stderr",
     "output_type": "stream",
     "text": [
      "\r",
      "100%|█████████▉| 126456/126776 [06:17<00:03, 90.43it/s]"
     ]
    },
    {
     "name": "stderr",
     "output_type": "stream",
     "text": [
      "\r",
      "100%|█████████▉| 126478/126776 [06:18<00:02, 106.84it/s]"
     ]
    },
    {
     "name": "stderr",
     "output_type": "stream",
     "text": [
      "\r",
      "100%|█████████▉| 126506/126776 [06:18<00:02, 133.64it/s]"
     ]
    },
    {
     "name": "stderr",
     "output_type": "stream",
     "text": [
      "\r",
      "100%|█████████▉| 126554/126776 [06:18<00:01, 196.99it/s]"
     ]
    },
    {
     "name": "stderr",
     "output_type": "stream",
     "text": [
      "\r",
      "100%|█████████▉| 126613/126776 [06:18<00:00, 277.94it/s]"
     ]
    },
    {
     "name": "stderr",
     "output_type": "stream",
     "text": [
      "\r",
      "100%|█████████▉| 126671/126776 [06:18<00:00, 345.69it/s]"
     ]
    },
    {
     "name": "stderr",
     "output_type": "stream",
     "text": [
      "\r",
      "100%|█████████▉| 126729/126776 [06:18<00:00, 401.96it/s]"
     ]
    },
    {
     "name": "stderr",
     "output_type": "stream",
     "text": [
      "\r",
      "100%|██████████| 126776/126776 [06:18<00:00, 334.86it/s]"
     ]
    },
    {
     "name": "stderr",
     "output_type": "stream",
     "text": [
      "\n"
     ]
    },
    {
     "name": "stderr",
     "output_type": "stream",
     "text": [
      "\r",
      "Processing stocks:   0%|          | 0/50 [00:00<?, ?it/s]"
     ]
    },
    {
     "name": "stderr",
     "output_type": "stream",
     "text": [
      "\r",
      "Processing stocks:   4%|▍         | 2/50 [00:00<00:08,  5.99it/s]"
     ]
    },
    {
     "name": "stderr",
     "output_type": "stream",
     "text": [
      "\r",
      "Processing stocks:   6%|▌         | 3/50 [00:00<00:13,  3.45it/s]"
     ]
    },
    {
     "name": "stderr",
     "output_type": "stream",
     "text": [
      "\r",
      "Processing stocks:   8%|▊         | 4/50 [00:01<00:12,  3.80it/s]"
     ]
    },
    {
     "name": "stderr",
     "output_type": "stream",
     "text": [
      "\r",
      "Processing stocks:  10%|█         | 5/50 [00:01<00:11,  3.95it/s]"
     ]
    },
    {
     "name": "stderr",
     "output_type": "stream",
     "text": [
      "\r",
      "Processing stocks:  14%|█▍        | 7/50 [00:01<00:07,  5.93it/s]"
     ]
    },
    {
     "name": "stderr",
     "output_type": "stream",
     "text": [
      "\r",
      "Processing stocks:  16%|█▌        | 8/50 [00:01<00:07,  5.34it/s]"
     ]
    },
    {
     "name": "stderr",
     "output_type": "stream",
     "text": [
      "\r",
      "Processing stocks:  18%|█▊        | 9/50 [00:01<00:06,  6.11it/s]"
     ]
    },
    {
     "name": "stderr",
     "output_type": "stream",
     "text": [
      "\r",
      "Processing stocks:  20%|██        | 10/50 [00:02<00:08,  4.75it/s]"
     ]
    },
    {
     "name": "stderr",
     "output_type": "stream",
     "text": [
      "\r",
      "Processing stocks:  22%|██▏       | 11/50 [00:02<00:08,  4.84it/s]"
     ]
    },
    {
     "name": "stderr",
     "output_type": "stream",
     "text": [
      "\r",
      "Processing stocks:  24%|██▍       | 12/50 [00:03<00:20,  1.86it/s]"
     ]
    },
    {
     "name": "stderr",
     "output_type": "stream",
     "text": [
      "\r",
      "Processing stocks:  26%|██▌       | 13/50 [00:03<00:16,  2.27it/s]"
     ]
    },
    {
     "name": "stderr",
     "output_type": "stream",
     "text": [
      "\r",
      "Processing stocks:  28%|██▊       | 14/50 [00:04<00:13,  2.60it/s]"
     ]
    },
    {
     "name": "stderr",
     "output_type": "stream",
     "text": [
      "\r",
      "Processing stocks:  32%|███▏      | 16/50 [00:04<00:09,  3.69it/s]"
     ]
    },
    {
     "name": "stderr",
     "output_type": "stream",
     "text": [
      "\r",
      "Processing stocks:  38%|███▊      | 19/50 [00:04<00:05,  6.20it/s]"
     ]
    },
    {
     "name": "stderr",
     "output_type": "stream",
     "text": [
      "\r",
      "Processing stocks:  44%|████▍     | 22/50 [00:05<00:06,  4.57it/s]"
     ]
    },
    {
     "name": "stderr",
     "output_type": "stream",
     "text": [
      "\r",
      "Processing stocks:  46%|████▌     | 23/50 [00:05<00:05,  4.82it/s]"
     ]
    },
    {
     "name": "stderr",
     "output_type": "stream",
     "text": [
      "\r",
      "Processing stocks:  48%|████▊     | 24/50 [00:05<00:04,  5.24it/s]"
     ]
    },
    {
     "name": "stderr",
     "output_type": "stream",
     "text": [
      "\r",
      "Processing stocks:  52%|█████▏    | 26/50 [00:06<00:04,  4.84it/s]"
     ]
    },
    {
     "name": "stderr",
     "output_type": "stream",
     "text": [
      "\r",
      "Processing stocks:  54%|█████▍    | 27/50 [00:06<00:07,  3.27it/s]"
     ]
    },
    {
     "name": "stderr",
     "output_type": "stream",
     "text": [
      "\r",
      "Processing stocks:  56%|█████▌    | 28/50 [00:07<00:08,  2.45it/s]"
     ]
    },
    {
     "name": "stderr",
     "output_type": "stream",
     "text": [
      "\r",
      "Processing stocks:  58%|█████▊    | 29/50 [00:07<00:07,  2.76it/s]"
     ]
    },
    {
     "name": "stderr",
     "output_type": "stream",
     "text": [
      "\r",
      "Processing stocks:  60%|██████    | 30/50 [00:07<00:06,  3.26it/s]"
     ]
    },
    {
     "name": "stderr",
     "output_type": "stream",
     "text": [
      "\r",
      "Processing stocks:  62%|██████▏   | 31/50 [00:09<00:14,  1.34it/s]"
     ]
    },
    {
     "name": "stderr",
     "output_type": "stream",
     "text": [
      "\r",
      "Processing stocks:  64%|██████▍   | 32/50 [00:10<00:11,  1.60it/s]"
     ]
    },
    {
     "name": "stderr",
     "output_type": "stream",
     "text": [
      "\r",
      "Processing stocks:  68%|██████▊   | 34/50 [00:10<00:06,  2.56it/s]"
     ]
    },
    {
     "name": "stderr",
     "output_type": "stream",
     "text": [
      "\r",
      "Processing stocks:  70%|███████   | 35/50 [00:10<00:04,  3.04it/s]"
     ]
    },
    {
     "name": "stderr",
     "output_type": "stream",
     "text": [
      "\r",
      "Processing stocks:  72%|███████▏  | 36/50 [00:10<00:04,  3.50it/s]"
     ]
    },
    {
     "name": "stderr",
     "output_type": "stream",
     "text": [
      "\r",
      "Processing stocks:  74%|███████▍  | 37/50 [00:10<00:03,  3.75it/s]"
     ]
    },
    {
     "name": "stderr",
     "output_type": "stream",
     "text": [
      "\r",
      "Processing stocks:  76%|███████▌  | 38/50 [00:11<00:03,  3.61it/s]"
     ]
    },
    {
     "name": "stderr",
     "output_type": "stream",
     "text": [
      "\r",
      "Processing stocks:  78%|███████▊  | 39/50 [00:11<00:02,  4.30it/s]"
     ]
    },
    {
     "name": "stderr",
     "output_type": "stream",
     "text": [
      "\r",
      "Processing stocks:  80%|████████  | 40/50 [00:11<00:02,  4.34it/s]"
     ]
    },
    {
     "name": "stderr",
     "output_type": "stream",
     "text": [
      "\r",
      "Processing stocks:  84%|████████▍ | 42/50 [00:11<00:01,  5.76it/s]"
     ]
    },
    {
     "name": "stderr",
     "output_type": "stream",
     "text": [
      "\r",
      "Processing stocks:  86%|████████▌ | 43/50 [00:12<00:01,  3.67it/s]"
     ]
    },
    {
     "name": "stderr",
     "output_type": "stream",
     "text": [
      "\r",
      "Processing stocks:  88%|████████▊ | 44/50 [00:12<00:01,  4.14it/s]"
     ]
    },
    {
     "name": "stderr",
     "output_type": "stream",
     "text": [
      "\r",
      "Processing stocks:  90%|█████████ | 45/50 [00:12<00:01,  3.96it/s]"
     ]
    },
    {
     "name": "stderr",
     "output_type": "stream",
     "text": [
      "\r",
      "Processing stocks:  92%|█████████▏| 46/50 [00:13<00:00,  4.14it/s]"
     ]
    },
    {
     "name": "stderr",
     "output_type": "stream",
     "text": [
      "\r",
      "Processing stocks:  94%|█████████▍| 47/50 [00:13<00:00,  3.92it/s]"
     ]
    },
    {
     "name": "stderr",
     "output_type": "stream",
     "text": [
      "\r",
      "Processing stocks:  96%|█████████▌| 48/50 [00:13<00:00,  3.67it/s]"
     ]
    },
    {
     "name": "stderr",
     "output_type": "stream",
     "text": [
      "\r",
      "Processing stocks:  98%|█████████▊| 49/50 [00:13<00:00,  4.46it/s]"
     ]
    },
    {
     "name": "stderr",
     "output_type": "stream",
     "text": [
      "\r",
      "Processing stocks: 100%|██████████| 50/50 [00:16<00:00,  1.05it/s]"
     ]
    },
    {
     "name": "stderr",
     "output_type": "stream",
     "text": [
      "\r",
      "Processing stocks: 100%|██████████| 50/50 [00:16<00:00,  3.05it/s]"
     ]
    },
    {
     "name": "stderr",
     "output_type": "stream",
     "text": [
      "\n"
     ]
    },
    {
     "data": {
      "text/html": [
       "<div>\n",
       "<style scoped>\n",
       "    .dataframe tbody tr th:only-of-type {\n",
       "        vertical-align: middle;\n",
       "    }\n",
       "\n",
       "    .dataframe tbody tr th {\n",
       "        vertical-align: top;\n",
       "    }\n",
       "\n",
       "    .dataframe thead th {\n",
       "        text-align: right;\n",
       "    }\n",
       "</style>\n",
       "<table border=\"1\" class=\"dataframe\">\n",
       "  <thead>\n",
       "    <tr style=\"text-align: right;\">\n",
       "      <th></th>\n",
       "      <th>股票编号</th>\n",
       "      <th>日期</th>\n",
       "      <th>高维情绪变量</th>\n",
       "      <th>交易量</th>\n",
       "      <th>收益率变化</th>\n",
       "      <th>聚类标签</th>\n",
       "      <th>公司名称</th>\n",
       "    </tr>\n",
       "  </thead>\n",
       "  <tbody>\n",
       "    <tr>\n",
       "      <th>0</th>\n",
       "      <td>000069</td>\n",
       "      <td>2021-06-02</td>\n",
       "      <td>[0.302, 0.14, 0.353, 0.079, -0.262, 0.477, -0....</td>\n",
       "      <td>120379289.0</td>\n",
       "      <td>0.047101</td>\n",
       "      <td>1.0</td>\n",
       "      <td>华侨城A</td>\n",
       "    </tr>\n",
       "    <tr>\n",
       "      <th>1</th>\n",
       "      <td>000069</td>\n",
       "      <td>2021-06-08</td>\n",
       "      <td>[-0.197, 0.69, 0.522, -0.127, -0.189, 0.426, -...</td>\n",
       "      <td>56433342.0</td>\n",
       "      <td>0.000000</td>\n",
       "      <td>1.0</td>\n",
       "      <td>华侨城A</td>\n",
       "    </tr>\n",
       "    <tr>\n",
       "      <th>2</th>\n",
       "      <td>000069</td>\n",
       "      <td>2021-06-09</td>\n",
       "      <td>[-0.134, 0.276, 0.309, 0.337, -0.178, 0.194, -...</td>\n",
       "      <td>67223725.0</td>\n",
       "      <td>-0.020214</td>\n",
       "      <td>1.0</td>\n",
       "      <td>华侨城A</td>\n",
       "    </tr>\n",
       "    <tr>\n",
       "      <th>3</th>\n",
       "      <td>000069</td>\n",
       "      <td>2021-06-25</td>\n",
       "      <td>[-0.107, 0.124, 0.349, 0.117, -0.162, 0.2, -0....</td>\n",
       "      <td>39615456.0</td>\n",
       "      <td>0.018519</td>\n",
       "      <td>1.0</td>\n",
       "      <td>华侨城A</td>\n",
       "    </tr>\n",
       "    <tr>\n",
       "      <th>4</th>\n",
       "      <td>000069</td>\n",
       "      <td>2021-06-29</td>\n",
       "      <td>[0.019, 0.244, 0.303, 0.452, -0.139, 0.132, -0...</td>\n",
       "      <td>34949814.0</td>\n",
       "      <td>-0.012970</td>\n",
       "      <td>1.0</td>\n",
       "      <td>华侨城A</td>\n",
       "    </tr>\n",
       "    <tr>\n",
       "      <th>...</th>\n",
       "      <td>...</td>\n",
       "      <td>...</td>\n",
       "      <td>...</td>\n",
       "      <td>...</td>\n",
       "      <td>...</td>\n",
       "      <td>...</td>\n",
       "      <td>...</td>\n",
       "    </tr>\n",
       "    <tr>\n",
       "      <th>22970</th>\n",
       "      <td>688981</td>\n",
       "      <td>2024-11-11</td>\n",
       "      <td>[-0.055, 0.026, 0.277, 0.147, -0.029, 0.276, -...</td>\n",
       "      <td>138069018.0</td>\n",
       "      <td>0.046660</td>\n",
       "      <td>2.0</td>\n",
       "      <td>中芯国际</td>\n",
       "    </tr>\n",
       "    <tr>\n",
       "      <th>22971</th>\n",
       "      <td>688981</td>\n",
       "      <td>2024-11-12</td>\n",
       "      <td>[-0.134, -0.011, 0.308, 0.208, 0.049, 0.263, -...</td>\n",
       "      <td>108866759.0</td>\n",
       "      <td>-0.036864</td>\n",
       "      <td>2.0</td>\n",
       "      <td>中芯国际</td>\n",
       "    </tr>\n",
       "    <tr>\n",
       "      <th>22972</th>\n",
       "      <td>688981</td>\n",
       "      <td>2024-11-13</td>\n",
       "      <td>[-0.228, 0.028, 0.358, 0.294, -0.137, 0.178, -...</td>\n",
       "      <td>80759477.0</td>\n",
       "      <td>-0.019484</td>\n",
       "      <td>2.0</td>\n",
       "      <td>中芯国际</td>\n",
       "    </tr>\n",
       "    <tr>\n",
       "      <th>22973</th>\n",
       "      <td>688981</td>\n",
       "      <td>2024-11-14</td>\n",
       "      <td>[-0.18, 0.054, 0.392, 0.292, -0.048, 0.215, -0...</td>\n",
       "      <td>76194102.0</td>\n",
       "      <td>-0.022897</td>\n",
       "      <td>2.0</td>\n",
       "      <td>中芯国际</td>\n",
       "    </tr>\n",
       "    <tr>\n",
       "      <th>22974</th>\n",
       "      <td>688981</td>\n",
       "      <td>2024-11-15</td>\n",
       "      <td>[-0.159, 0.022, 0.377, 0.319, -0.086, 0.268, -...</td>\n",
       "      <td>71066743.0</td>\n",
       "      <td>-0.020233</td>\n",
       "      <td>2.0</td>\n",
       "      <td>中芯国际</td>\n",
       "    </tr>\n",
       "  </tbody>\n",
       "</table>\n",
       "<p>22975 rows × 7 columns</p>\n",
       "</div>"
      ],
      "text/plain": [
       "         股票编号         日期                                             高维情绪变量  \\\n",
       "0      000069 2021-06-02  [0.302, 0.14, 0.353, 0.079, -0.262, 0.477, -0....   \n",
       "1      000069 2021-06-08  [-0.197, 0.69, 0.522, -0.127, -0.189, 0.426, -...   \n",
       "2      000069 2021-06-09  [-0.134, 0.276, 0.309, 0.337, -0.178, 0.194, -...   \n",
       "3      000069 2021-06-25  [-0.107, 0.124, 0.349, 0.117, -0.162, 0.2, -0....   \n",
       "4      000069 2021-06-29  [0.019, 0.244, 0.303, 0.452, -0.139, 0.132, -0...   \n",
       "...       ...        ...                                                ...   \n",
       "22970  688981 2024-11-11  [-0.055, 0.026, 0.277, 0.147, -0.029, 0.276, -...   \n",
       "22971  688981 2024-11-12  [-0.134, -0.011, 0.308, 0.208, 0.049, 0.263, -...   \n",
       "22972  688981 2024-11-13  [-0.228, 0.028, 0.358, 0.294, -0.137, 0.178, -...   \n",
       "22973  688981 2024-11-14  [-0.18, 0.054, 0.392, 0.292, -0.048, 0.215, -0...   \n",
       "22974  688981 2024-11-15  [-0.159, 0.022, 0.377, 0.319, -0.086, 0.268, -...   \n",
       "\n",
       "               交易量     收益率变化  聚类标签  公司名称  \n",
       "0      120379289.0  0.047101   1.0  华侨城A  \n",
       "1       56433342.0  0.000000   1.0  华侨城A  \n",
       "2       67223725.0 -0.020214   1.0  华侨城A  \n",
       "3       39615456.0  0.018519   1.0  华侨城A  \n",
       "4       34949814.0 -0.012970   1.0  华侨城A  \n",
       "...            ...       ...   ...   ...  \n",
       "22970  138069018.0  0.046660   2.0  中芯国际  \n",
       "22971  108866759.0 -0.036864   2.0  中芯国际  \n",
       "22972   80759477.0 -0.019484   2.0  中芯国际  \n",
       "22973   76194102.0 -0.022897   2.0  中芯国际  \n",
       "22974   71066743.0 -0.020233   2.0  中芯国际  \n",
       "\n",
       "[22975 rows x 7 columns]"
      ]
     },
     "execution_count": 10,
     "metadata": {},
     "output_type": "execute_result"
    }
   ],
   "source": [
    "# 对情绪值列进行 Min-Max 标准化\n",
    "def min_max_normalization(df, cols):\n",
    "    for col in cols:\n",
    "        min_val = df[col].min()\n",
    "        max_val = df[col].max()\n",
    "        df[col] = 2 * (df[col] - min_val) / (max_val - min_val) - 1\n",
    "    return df\n",
    "\n",
    "# 对每个股票编号的数据进行标准化和按日期汇总\n",
    "def process_data(df):\n",
    "    if MODEL != 'Deep-learning/Ours':\n",
    "        df_processed = pd.DataFrame()  # 用于存储结果\n",
    "        for stock_code, stock_data in df.groupby('股票编号'):\n",
    "            # 对每个股票编号内的数据进行标准化\n",
    "            stock_data = min_max_normalization(stock_data, ['上证综合情绪值', '沪深300情绪值', '创业板情绪值'])\n",
    "            \n",
    "            # 按日期汇总数据，同时保留股票编号\n",
    "            stock_summary = stock_data.groupby('日期').agg({\n",
    "                '股票编号': 'first',  # 保留股票编号（在同一日期内它是相同的，使用 'first'）\n",
    "                '上证综合情绪值': 'mean',  # 上证综合情绪值按日期取均值\n",
    "                '沪深300情绪值': 'mean',  # 沪深300情绪值按日期取均值\n",
    "                '创业板情绪值': 'mean',  # 创业板情绪值按日期取均值\n",
    "                '交易量': 'mean',  # 交易量按日期求和\n",
    "                '收益率变化': 'mean',  # 收益率变化按日期取均值\n",
    "                '聚类标签': 'first', # 保留聚类标签（在同一日期内它是相同的，使用 'first'）\n",
    "                '公司名称': 'first', # 保留公司名称（在同一日期内它是相同的，使用 'first'）\n",
    "            }).reset_index(drop=False)\n",
    "            \n",
    "            # 合并每个股票的汇总数据\n",
    "            df_processed = pd.concat([df_processed, stock_summary], ignore_index=True)\n",
    "            df_processed = df_processed.sort_values(by=['股票编号', '日期'], ascending=[True, True])\n",
    "        return df_processed\n",
    "    else:\n",
    "        df_processed = []    \n",
    "        # 确保高维情绪变量是 list 类型（如果还没转过）\n",
    "        if isinstance(df['高维情绪变量'].iloc[0], str):\n",
    "            df['高维情绪变量'] = df['高维情绪变量'].progress_apply(ast.literal_eval)\n",
    "        # 对每个股票编号处理，加 tqdm 进度条\n",
    "        for stock_code, stock_data in tqdm(df.groupby('股票编号'), desc=\"Processing stocks\"):\n",
    "            for date, group in stock_data.groupby('日期'):\n",
    "                emotion_matrix = np.array(group['高维情绪变量'].tolist())  # (样本数, 维度)\n",
    "\n",
    "                avg_emotion = emotion_matrix.mean(axis=0).round(3).tolist()\n",
    "\n",
    "                summary_row = {\n",
    "                    '股票编号': stock_code,\n",
    "                    '日期': date,\n",
    "                    '高维情绪变量': avg_emotion,\n",
    "                    '交易量': group['交易量'].mean(),\n",
    "                    '收益率变化': group['收益率变化'].mean(),\n",
    "                    '聚类标签': group['聚类标签'].iloc[0], # 保留聚类标签\n",
    "                    '公司名称': group['公司名称'].iloc[0], # 保留公司名称\n",
    "                }\n",
    "                df_processed.append(summary_row)\n",
    "\n",
    "\n",
    "    return pd.DataFrame(df_processed)\n",
    "\n",
    "final_data = process_data(merged_data)\n",
    "final_data"
   ]
  },
  {
   "cell_type": "code",
   "execution_count": 11,
   "id": "e024f795-a026-4d66-a585-029ee09bc584",
   "metadata": {
    "execution": {
     "iopub.execute_input": "2025-06-08T16:24:02.872059Z",
     "iopub.status.busy": "2025-06-08T16:24:02.871752Z",
     "iopub.status.idle": "2025-06-08T16:24:02.876680Z",
     "shell.execute_reply": "2025-06-08T16:24:02.876220Z"
    },
    "papermill": {
     "duration": 0.255173,
     "end_time": "2025-06-08T16:24:02.877407",
     "exception": false,
     "start_time": "2025-06-08T16:24:02.622234",
     "status": "completed"
    },
    "tags": []
   },
   "outputs": [],
   "source": [
    "# 统计检验 : 按照聚类标签分组，并计算均值和方差\n",
    "df = final_data.copy()\n",
    "if MODEL != 'Deep-learning/Ours':\n",
    "    statistical_result = df.groupby('聚类标签').agg(\n",
    "        情绪值均值=(EMO_NAME, 'mean'),\n",
    "        情绪值方差=(EMO_NAME, 'var'),\n",
    "        收益率变化均值=('收益率变化', 'mean'),\n",
    "        收益率变化方差=('收益率变化', 'var')\n",
    "    ).reset_index()\n",
    "else:\n",
    "    statistical_result = None\n",
    "# 输出结果\n",
    "statistical_result"
   ]
  },
  {
   "cell_type": "markdown",
   "id": "c6fef2e6-ce92-4739-8124-df5fda3089ab",
   "metadata": {
    "papermill": {
     "duration": 0.216745,
     "end_time": "2025-06-08T16:24:03.311314",
     "exception": false,
     "start_time": "2025-06-08T16:24:03.094569",
     "status": "completed"
    },
    "tags": []
   },
   "source": [
    "## 情绪值与股价二维展示图"
   ]
  },
  {
   "cell_type": "code",
   "execution_count": 12,
   "id": "7c10340e-e2e3-4c0c-b81f-f9254871cdd6",
   "metadata": {
    "execution": {
     "iopub.execute_input": "2025-06-08T16:24:03.794811Z",
     "iopub.status.busy": "2025-06-08T16:24:03.794491Z",
     "iopub.status.idle": "2025-06-08T16:24:03.800345Z",
     "shell.execute_reply": "2025-06-08T16:24:03.799835Z"
    },
    "papermill": {
     "duration": 0.179614,
     "end_time": "2025-06-08T16:24:03.801155",
     "exception": false,
     "start_time": "2025-06-08T16:24:03.621541",
     "status": "completed"
    },
    "tags": []
   },
   "outputs": [],
   "source": [
    "## 绘制不同簇情绪值随时间变化图\n",
    "if MODEL != 'Deep-learning/Ours':\n",
    "    # 按 '聚类标签' 和 '日期' 分组，计算平均情绪值\n",
    "    df_grouped = final_data.groupby(['聚类标签', '日期'])[['上证综合情绪值', '沪深300情绪值', '创业板情绪值']].mean().reset_index()\n",
    "    \n",
    "    # 为每个聚类标签绘制折线\n",
    "    i = 0\n",
    "    plt.figure(figsize=(12, 12))\n",
    "    for cluster in df_grouped['聚类标签'].unique():\n",
    "        if i == 0:\n",
    "            x = 'red'\n",
    "        elif i == 1:\n",
    "            x = 'blue'\n",
    "        elif i == 2:\n",
    "            x = 'green'\n",
    "        df_cluster = df_grouped[df_grouped['聚类标签'] == cluster]\n",
    "        plt.plot(df_cluster['日期'], df_cluster[EMO_NAME], label=f'{EMO_NAME} - 聚类 {cluster}', color=x)\n",
    "        i += 1\n",
    "        \n",
    "    plt.xlabel('日期')\n",
    "    plt.ylabel('平均情绪值')\n",
    "    plt.title('情绪值趋势图')\n",
    "    \n",
    "    \n",
    "    plt.gca().xaxis.set_major_locator(mdates.MonthLocator(bymonthday=15, interval=3))  # 每三个月显示\n",
    "    plt.gca().xaxis.set_major_formatter(mdates.DateFormatter('%Y-%m'))  # 格式化为年-月\n",
    "    \n",
    "    plt.xticks(rotation=45)\n",
    "    plt.legend()\n",
    "    plt.tight_layout()\n",
    "    \n",
    "    # plt.savefig(f'个股分析/{market_address}/图片/情绪值趋势图', dpi=300)\n",
    "    plt.show()\n"
   ]
  },
  {
   "cell_type": "code",
   "execution_count": 13,
   "id": "83095f56-13e5-42c8-93c4-9c403fd4feb0",
   "metadata": {
    "execution": {
     "iopub.execute_input": "2025-06-08T16:24:04.520201Z",
     "iopub.status.busy": "2025-06-08T16:24:04.519304Z",
     "iopub.status.idle": "2025-06-08T16:24:04.537361Z",
     "shell.execute_reply": "2025-06-08T16:24:04.535566Z"
    },
    "papermill": {
     "duration": 0.360272,
     "end_time": "2025-06-08T16:24:04.538690",
     "exception": false,
     "start_time": "2025-06-08T16:24:04.178418",
     "status": "completed"
    },
    "tags": []
   },
   "outputs": [],
   "source": [
    "## 绘制不同簇收益率随时间变化图\n",
    "if MODEL != 'Deep-learning/Ours':\n",
    "    # 按 '聚类标签' 和 '日期' 分组，计算平均收益率\n",
    "    return_grouped = final_data.groupby(['聚类标签', '日期'])['收益率变化'].mean().reset_index()\n",
    "    \n",
    "    # 为每个聚类标签绘制折线\n",
    "    i = 0\n",
    "    plt.figure(figsize=(12, 12))\n",
    "    for cluster in df_grouped['聚类标签'].unique():\n",
    "        if i == 0:\n",
    "            x = 'red'\n",
    "        elif i == 1:\n",
    "            x = 'blue'\n",
    "        elif i == 2:\n",
    "            x = 'green'\n",
    "        df_cluster = return_grouped[return_grouped['聚类标签'] == cluster]\n",
    "        plt.plot(df_cluster['日期'], df_cluster['收益率变化'], label=f'收益率变化 - 聚类 {cluster}', color=x)\n",
    "        i += 1\n",
    "    \n",
    "    plt.xlabel('日期')\n",
    "    plt.ylabel('平均收益率')\n",
    "    plt.title('收益率趋势图')\n",
    "    \n",
    "    plt.gca().xaxis.set_major_locator(mdates.MonthLocator(bymonthday=15, interval=3))  # 每三个月显示\n",
    "    plt.gca().xaxis.set_major_formatter(mdates.DateFormatter('%Y-%m'))  # 格式化为年-月\n",
    "    \n",
    "    plt.xticks(rotation=45)\n",
    "    plt.legend()\n",
    "    plt.tight_layout()\n",
    "    \n",
    "    # 显示图表\n",
    "    # plt.savefig(f'个股分析/{market_address}/图片/收益率趋势图', dpi=300)\n",
    "    plt.show()"
   ]
  },
  {
   "cell_type": "markdown",
   "id": "131ed14a-35c0-4e49-8c57-c89fd472f7bf",
   "metadata": {
    "papermill": {
     "duration": 0.09353,
     "end_time": "2025-06-08T16:24:04.748600",
     "exception": false,
     "start_time": "2025-06-08T16:24:04.655070",
     "status": "completed"
    },
    "tags": []
   },
   "source": [
    "## 三维展示图，分别展示簇是0，1，2的代表图"
   ]
  },
  {
   "cell_type": "code",
   "execution_count": 14,
   "id": "96b7a14d-c32e-4222-b82d-5f43f9928d35",
   "metadata": {
    "execution": {
     "iopub.execute_input": "2025-06-08T16:24:04.963083Z",
     "iopub.status.busy": "2025-06-08T16:24:04.962353Z",
     "iopub.status.idle": "2025-06-08T16:24:04.973075Z",
     "shell.execute_reply": "2025-06-08T16:24:04.972546Z"
    },
    "papermill": {
     "duration": 0.106142,
     "end_time": "2025-06-08T16:24:04.973838",
     "exception": false,
     "start_time": "2025-06-08T16:24:04.867696",
     "status": "completed"
    },
    "tags": []
   },
   "outputs": [],
   "source": [
    "### 聚类0示例 ###\n",
    "if MODEL != 'Deep-learning/Ours':\n",
    "    # 复制数据集，确保不会修改原始数据\n",
    "    merged_data_cleaned = final_data.copy()\n",
    "    merged_data_cleaned['日期'] = pd.to_datetime(merged_data_cleaned['日期'])\n",
    "    \n",
    "    # 选择聚类标签为 0 的数据，找到数据最多的股票编号\n",
    "    cluster_0_data = merged_data_cleaned[merged_data_cleaned['聚类标签'] == 0]\n",
    "    top_stock_code = cluster_0_data['股票编号'].value_counts().idxmax()\n",
    "    top_stock_data = cluster_0_data[cluster_0_data['股票编号'] == top_stock_code]\n",
    "    \n",
    "    # 创建 3D 图\n",
    "    fig = plt.figure(figsize=(50, 50))\n",
    "    ax = fig.add_subplot(111, projection='3d')\n",
    "    \n",
    "    # 提取绘图数据\n",
    "    x = top_stock_data[EMO_NAME]  # 情绪值作为 x 轴\n",
    "    y = mdates.date2num(top_stock_data['日期'])  # 时间转换为数值类型\n",
    "    z = top_stock_data['收益率变化']  # 收益率变化作为 z 轴\n",
    "    \n",
    "    # 绘制三维折线图\n",
    "    ax.plot(x, y, z, label=f\"股票 {top_stock_code}\", marker='o', linestyle='-', alpha=0.7)\n",
    "    \n",
    "    # 设置轴标签\n",
    "    ax.set_xlabel(EMO_NAME)\n",
    "    ax.set_ylabel('时间')\n",
    "    ax.set_zlabel('收益率变化')\n",
    "    ax.set_title(f'股票 {top_stock_code}: {EMO_NAME} 与收益率变化的三维关系')\n",
    "    \n",
    "    # 设置 y 轴时间刻度（每半年一个刻度）\n",
    "    ax.yaxis.set_major_locator(mdates.MonthLocator(bymonthday=15, interval=6))  # 每半年一个刻度\n",
    "    ax.yaxis.set_major_formatter(mdates.DateFormatter('%Y-%m'))  # 按年月显示\n",
    "    \n",
    "    # 旋转日期标签防止重叠\n",
    "    fig.autofmt_xdate()\n",
    "    \n",
    "    # 调整布局并保存图像\n",
    "    plt.legend()\n",
    "    # plt.savefig(f'个股分析/{market_address}/图片/聚类0_{top_stock_code}.png', dpi=300, bbox_inches='tight')\n",
    "    plt.show()\n"
   ]
  },
  {
   "cell_type": "code",
   "execution_count": 15,
   "id": "f889b93b-d345-4862-821d-e20a660d5248",
   "metadata": {
    "execution": {
     "iopub.execute_input": "2025-06-08T16:24:05.175556Z",
     "iopub.status.busy": "2025-06-08T16:24:05.175035Z",
     "iopub.status.idle": "2025-06-08T16:24:05.182219Z",
     "shell.execute_reply": "2025-06-08T16:24:05.181213Z"
    },
    "papermill": {
     "duration": 0.10826,
     "end_time": "2025-06-08T16:24:05.187862",
     "exception": false,
     "start_time": "2025-06-08T16:24:05.079602",
     "status": "completed"
    },
    "tags": []
   },
   "outputs": [],
   "source": [
    "### 聚类1示例 ###\n",
    "if MODEL != 'Deep-learning/Ours':\n",
    "    # 复制数据集，确保不会修改原始数据\n",
    "    merged_data_cleaned = final_data.copy()\n",
    "    merged_data_cleaned['日期'] = pd.to_datetime(merged_data_cleaned['日期'])\n",
    "    \n",
    "    # 选择聚类标签为 0 的数据，找到数据最多的股票编号\n",
    "    cluster_0_data = merged_data_cleaned[merged_data_cleaned['聚类标签'] == 1]\n",
    "    top_stock_code = cluster_0_data['股票编号'].value_counts().idxmax()\n",
    "    top_stock_data = cluster_0_data[cluster_0_data['股票编号'] == top_stock_code]\n",
    "    \n",
    "    \n",
    "    # 创建 3D 图\n",
    "    fig = plt.figure(figsize=(50, 50))\n",
    "    ax = fig.add_subplot(111, projection='3d')\n",
    "    \n",
    "    # 提取绘图数据\n",
    "    x = top_stock_data[EMO_NAME]  # 情绪值作为 x 轴\n",
    "    y = mdates.date2num(top_stock_data['日期'])  # 时间转换为数值类型\n",
    "    z = top_stock_data['收益率变化']  # 收益率变化作为 z 轴\n",
    "    \n",
    "    # 绘制三维折线图\n",
    "    ax.plot(x, y, z, label=f\"股票 {top_stock_code}\", marker='o', linestyle='-', alpha=0.7)\n",
    "    \n",
    "    # 设置轴标签\n",
    "    ax.set_xlabel(EMO_NAME)\n",
    "    ax.set_ylabel('时间')\n",
    "    ax.set_zlabel('收益率变化')\n",
    "    ax.set_title(f'股票 {top_stock_code}: {EMO_NAME} 与收益率变化的三维关系')\n",
    "    \n",
    "    # 设置 y 轴时间刻度（每半年一个刻度）\n",
    "    ax.yaxis.set_major_locator(mdates.MonthLocator(bymonthday=15, interval=6))  # 每半年一个刻度\n",
    "    ax.yaxis.set_major_formatter(mdates.DateFormatter('%Y-%m'))  # 按年月显示\n",
    "    \n",
    "    # 旋转日期标签防止重叠\n",
    "    fig.autofmt_xdate()\n",
    "    \n",
    "    # 调整布局并保存图像\n",
    "    plt.legend()\n",
    "    # plt.savefig(f'个股分析/{market_address}/图片/聚类1_{top_stock_code}.png', dpi=300, bbox_inches='tight')\n",
    "    plt.show()\n"
   ]
  },
  {
   "cell_type": "code",
   "execution_count": 16,
   "id": "b5fc2e95-696f-4c88-8cb2-ab228cc9edd4",
   "metadata": {
    "execution": {
     "iopub.execute_input": "2025-06-08T16:24:05.404054Z",
     "iopub.status.busy": "2025-06-08T16:24:05.403127Z",
     "iopub.status.idle": "2025-06-08T16:24:05.413985Z",
     "shell.execute_reply": "2025-06-08T16:24:05.411950Z"
    },
    "papermill": {
     "duration": 0.130075,
     "end_time": "2025-06-08T16:24:05.416942",
     "exception": false,
     "start_time": "2025-06-08T16:24:05.286867",
     "status": "completed"
    },
    "tags": []
   },
   "outputs": [],
   "source": [
    "### 聚类2示例 ###\n",
    "if MODEL != 'Deep-learning/Ours':\n",
    "    # 复制数据集，确保不会修改原始数据\n",
    "    merged_data_cleaned = final_data.copy()\n",
    "    merged_data_cleaned['日期'] = pd.to_datetime(merged_data_cleaned['日期'])\n",
    "    \n",
    "    # 选择聚类标签为 0 的数据，找到数据最多的股票编号\n",
    "    cluster_0_data = merged_data_cleaned[merged_data_cleaned['聚类标签'] == 2]\n",
    "    top_stock_code = cluster_0_data['股票编号'].value_counts().idxmax()\n",
    "    top_stock_data = cluster_0_data[cluster_0_data['股票编号'] == top_stock_code]\n",
    "    \n",
    "    \n",
    "    # 创建 3D 图\n",
    "    fig = plt.figure(figsize=(50, 50))\n",
    "    ax = fig.add_subplot(111, projection='3d')\n",
    "    \n",
    "    # 提取绘图数据\n",
    "    x = top_stock_data[EMO_NAME]  # 情绪值作为 x 轴\n",
    "    y = mdates.date2num(top_stock_data['日期'])  # 时间转换为数值类型\n",
    "    z = top_stock_data['收益率变化']  # 收益率变化作为 z 轴\n",
    "    \n",
    "    # 绘制三维折线图\n",
    "    ax.plot(x, y, z, label=f\"股票 {top_stock_code}\", marker='o', linestyle='-', alpha=0.7)\n",
    "    \n",
    "    # 设置轴标签\n",
    "    ax.set_xlabel(EMO_NAME)\n",
    "    ax.set_ylabel('时间')\n",
    "    ax.set_zlabel('收益率变化')\n",
    "    ax.set_title(f'股票 {top_stock_code}: {EMO_NAME} 与收益率变化的三维关系')\n",
    "    \n",
    "    # 设置 y 轴时间刻度（每半年一个刻度）\n",
    "    ax.yaxis.set_major_locator(mdates.MonthLocator(bymonthday=15, interval=6))  # 每半年一个刻度\n",
    "    ax.yaxis.set_major_formatter(mdates.DateFormatter('%Y-%m'))  # 按年月显示\n",
    "    \n",
    "    # 旋转日期标签防止重叠\n",
    "    fig.autofmt_xdate()\n",
    "    \n",
    "    # 调整布局并保存图像\n",
    "    plt.legend()\n",
    "    # plt.savefig(f'个股分析/{market_address}/图片/聚类2_{top_stock_code}.png', dpi=300, bbox_inches='tight')\n",
    "    plt.show()\n"
   ]
  },
  {
   "cell_type": "markdown",
   "id": "f9fb3110-ba40-4553-9a28-fb7e7a5cb2fd",
   "metadata": {
    "papermill": {
     "duration": 0.128738,
     "end_time": "2025-06-08T16:24:05.641367",
     "exception": false,
     "start_time": "2025-06-08T16:24:05.512629",
     "status": "completed"
    },
    "tags": []
   },
   "source": [
    "## 进行聚类间实证分析"
   ]
  },
  {
   "cell_type": "markdown",
   "id": "5d72a906-887e-4ede-9e17-31ac9016f673",
   "metadata": {
    "papermill": {
     "duration": 0.11065,
     "end_time": "2025-06-08T16:24:05.891067",
     "exception": false,
     "start_time": "2025-06-08T16:24:05.780417",
     "status": "completed"
    },
    "tags": []
   },
   "source": [
    "#### 读取个股金融数据"
   ]
  },
  {
   "cell_type": "code",
   "execution_count": 17,
   "id": "366cd855-a111-4154-b9e3-413919e130cc",
   "metadata": {
    "execution": {
     "iopub.execute_input": "2025-06-08T16:24:06.176092Z",
     "iopub.status.busy": "2025-06-08T16:24:06.175619Z",
     "iopub.status.idle": "2025-06-08T16:24:07.243874Z",
     "shell.execute_reply": "2025-06-08T16:24:07.243194Z"
    },
    "papermill": {
     "duration": 1.25668,
     "end_time": "2025-06-08T16:24:07.244751",
     "exception": false,
     "start_time": "2025-06-08T16:24:05.988071",
     "status": "completed"
    },
    "tags": []
   },
   "outputs": [
    {
     "data": {
      "text/html": [
       "<div>\n",
       "<style scoped>\n",
       "    .dataframe tbody tr th:only-of-type {\n",
       "        vertical-align: middle;\n",
       "    }\n",
       "\n",
       "    .dataframe tbody tr th {\n",
       "        vertical-align: top;\n",
       "    }\n",
       "\n",
       "    .dataframe thead th {\n",
       "        text-align: right;\n",
       "    }\n",
       "</style>\n",
       "<table border=\"1\" class=\"dataframe\">\n",
       "  <thead>\n",
       "    <tr style=\"text-align: right;\">\n",
       "      <th></th>\n",
       "      <th>日期_Date</th>\n",
       "      <th>股票代码_Stkcd</th>\n",
       "      <th>日振幅(%)_Dampltd</th>\n",
       "      <th>日收益率_Dret</th>\n",
       "      <th>市盈率_PE</th>\n",
       "      <th>成交量_Trdvol</th>\n",
       "      <th>流通股日换手率(%)_DTrdTurnR</th>\n",
       "      <th>总市值加权平均日资本收益_Daretmc</th>\n",
       "    </tr>\n",
       "  </thead>\n",
       "  <tbody>\n",
       "    <tr>\n",
       "      <th>0</th>\n",
       "      <td>2023-02-01</td>\n",
       "      <td>000100</td>\n",
       "      <td>1.6667</td>\n",
       "      <td>0.0071</td>\n",
       "      <td>276.47</td>\n",
       "      <td>147751077.0</td>\n",
       "      <td>1.0357</td>\n",
       "      <td>0.0145</td>\n",
       "    </tr>\n",
       "    <tr>\n",
       "      <th>1</th>\n",
       "      <td>2023-02-02</td>\n",
       "      <td>000100</td>\n",
       "      <td>2.1277</td>\n",
       "      <td>-0.0095</td>\n",
       "      <td>273.86</td>\n",
       "      <td>188929965.0</td>\n",
       "      <td>1.3244</td>\n",
       "      <td>-0.0005</td>\n",
       "    </tr>\n",
       "    <tr>\n",
       "      <th>2</th>\n",
       "      <td>2023-02-03</td>\n",
       "      <td>000100</td>\n",
       "      <td>2.1480</td>\n",
       "      <td>-0.0048</td>\n",
       "      <td>272.55</td>\n",
       "      <td>200087013.0</td>\n",
       "      <td>1.4026</td>\n",
       "      <td>-0.0042</td>\n",
       "    </tr>\n",
       "    <tr>\n",
       "      <th>3</th>\n",
       "      <td>2023-02-06</td>\n",
       "      <td>000100</td>\n",
       "      <td>1.6787</td>\n",
       "      <td>-0.0072</td>\n",
       "      <td>270.59</td>\n",
       "      <td>134158688.0</td>\n",
       "      <td>0.9404</td>\n",
       "      <td>-0.0084</td>\n",
       "    </tr>\n",
       "    <tr>\n",
       "      <th>4</th>\n",
       "      <td>2023-02-07</td>\n",
       "      <td>000100</td>\n",
       "      <td>1.4493</td>\n",
       "      <td>0.0024</td>\n",
       "      <td>271.24</td>\n",
       "      <td>87200030.0</td>\n",
       "      <td>0.6113</td>\n",
       "      <td>0.0036</td>\n",
       "    </tr>\n",
       "    <tr>\n",
       "      <th>...</th>\n",
       "      <td>...</td>\n",
       "      <td>...</td>\n",
       "      <td>...</td>\n",
       "      <td>...</td>\n",
       "      <td>...</td>\n",
       "      <td>...</td>\n",
       "      <td>...</td>\n",
       "      <td>...</td>\n",
       "    </tr>\n",
       "    <tr>\n",
       "      <th>162617</th>\n",
       "      <td>2024-11-14</td>\n",
       "      <td>601566</td>\n",
       "      <td>3.0340</td>\n",
       "      <td>-0.0255</td>\n",
       "      <td>16.94</td>\n",
       "      <td>3223500.0</td>\n",
       "      <td>0.5610</td>\n",
       "      <td>-0.0146</td>\n",
       "    </tr>\n",
       "    <tr>\n",
       "      <th>162618</th>\n",
       "      <td>2024-11-15</td>\n",
       "      <td>601566</td>\n",
       "      <td>2.8643</td>\n",
       "      <td>0.0025</td>\n",
       "      <td>16.98</td>\n",
       "      <td>2824500.0</td>\n",
       "      <td>0.4915</td>\n",
       "      <td>-0.0112</td>\n",
       "    </tr>\n",
       "    <tr>\n",
       "      <th>162619</th>\n",
       "      <td>2024-11-18</td>\n",
       "      <td>601566</td>\n",
       "      <td>3.8509</td>\n",
       "      <td>-0.0025</td>\n",
       "      <td>16.94</td>\n",
       "      <td>3729993.0</td>\n",
       "      <td>0.6491</td>\n",
       "      <td>0.0009</td>\n",
       "    </tr>\n",
       "    <tr>\n",
       "      <th>162620</th>\n",
       "      <td>2024-11-19</td>\n",
       "      <td>601566</td>\n",
       "      <td>2.3661</td>\n",
       "      <td>0.0137</td>\n",
       "      <td>17.17</td>\n",
       "      <td>3367065.0</td>\n",
       "      <td>0.5859</td>\n",
       "      <td>0.0031</td>\n",
       "    </tr>\n",
       "    <tr>\n",
       "      <th>162621</th>\n",
       "      <td>2024-11-20</td>\n",
       "      <td>601566</td>\n",
       "      <td>2.4570</td>\n",
       "      <td>0.0172</td>\n",
       "      <td>17.46</td>\n",
       "      <td>4148800.0</td>\n",
       "      <td>0.7220</td>\n",
       "      <td>0.0054</td>\n",
       "    </tr>\n",
       "  </tbody>\n",
       "</table>\n",
       "<p>162622 rows × 8 columns</p>\n",
       "</div>"
      ],
      "text/plain": [
       "           日期_Date 股票代码_Stkcd  日振幅(%)_Dampltd  日收益率_Dret  市盈率_PE   成交量_Trdvol  \\\n",
       "0       2023-02-01     000100          1.6667     0.0071  276.47  147751077.0   \n",
       "1       2023-02-02     000100          2.1277    -0.0095  273.86  188929965.0   \n",
       "2       2023-02-03     000100          2.1480    -0.0048  272.55  200087013.0   \n",
       "3       2023-02-06     000100          1.6787    -0.0072  270.59  134158688.0   \n",
       "4       2023-02-07     000100          1.4493     0.0024  271.24   87200030.0   \n",
       "...            ...        ...             ...        ...     ...          ...   \n",
       "162617  2024-11-14     601566          3.0340    -0.0255   16.94    3223500.0   \n",
       "162618  2024-11-15     601566          2.8643     0.0025   16.98    2824500.0   \n",
       "162619  2024-11-18     601566          3.8509    -0.0025   16.94    3729993.0   \n",
       "162620  2024-11-19     601566          2.3661     0.0137   17.17    3367065.0   \n",
       "162621  2024-11-20     601566          2.4570     0.0172   17.46    4148800.0   \n",
       "\n",
       "        流通股日换手率(%)_DTrdTurnR  总市值加权平均日资本收益_Daretmc  \n",
       "0                     1.0357                0.0145  \n",
       "1                     1.3244               -0.0005  \n",
       "2                     1.4026               -0.0042  \n",
       "3                     0.9404               -0.0084  \n",
       "4                     0.6113                0.0036  \n",
       "...                      ...                   ...  \n",
       "162617                0.5610               -0.0146  \n",
       "162618                0.4915               -0.0112  \n",
       "162619                0.6491                0.0009  \n",
       "162620                0.5859                0.0031  \n",
       "162621                0.7220                0.0054  \n",
       "\n",
       "[162622 rows x 8 columns]"
      ]
     },
     "execution_count": 17,
     "metadata": {},
     "output_type": "execute_result"
    }
   ],
   "source": [
    "# 读取原始数据\n",
    "microfinancial_data = pd.read_csv(f'{Financial_Data_PATH}/个股微观金融数据.csv', encoding='utf-8')\n",
    "\n",
    "# 选择重要的列，日期和股票代码一定要包含\n",
    "columns_to_select = [\n",
    "    '日期_Date',  # 日期\n",
    "    '股票代码_Stkcd',  # 股票代码\n",
    "    '日振幅(%)_Dampltd',  # 日振幅\n",
    "    '日收益率_Dret',  # 日收益率\n",
    "    '市盈率_PE',  # 市盈率\n",
    "    '成交量_Trdvol',  # 成交量\n",
    "    '流通股日换手率(%)_DTrdTurnR',\n",
    "    '总市值加权平均日资本收益_Daretmc',\n",
    "]\n",
    "\n",
    "# 提取相关列\n",
    "microfinancial_data = microfinancial_data[columns_to_select]\n",
    "microfinancial_data['股票代码_Stkcd'] = microfinancial_data['股票代码_Stkcd'].apply(lambda x: str(x).zfill(6))\n",
    "\n",
    "# microfinancial_data = microfinancial_data[microfinancial_data['日期_Date'] == '2022-03-01'] #用于检验某一天数据\n",
    "microfinancial_data"
   ]
  },
  {
   "cell_type": "markdown",
   "id": "787c08e3-82c2-4b98-97fd-a9fc81a9cfcc",
   "metadata": {
    "papermill": {
     "duration": 0.088607,
     "end_time": "2025-06-08T16:24:07.463780",
     "exception": false,
     "start_time": "2025-06-08T16:24:07.375173",
     "status": "completed"
    },
    "tags": []
   },
   "source": [
    "#### 加载之前的情绪聚类数据"
   ]
  },
  {
   "cell_type": "code",
   "execution_count": 18,
   "id": "26d07f1c-0f88-47c3-92ab-fd4a41735e8e",
   "metadata": {
    "execution": {
     "iopub.execute_input": "2025-06-08T16:24:07.631326Z",
     "iopub.status.busy": "2025-06-08T16:24:07.631146Z",
     "iopub.status.idle": "2025-06-08T16:24:07.646396Z",
     "shell.execute_reply": "2025-06-08T16:24:07.645452Z"
    },
    "papermill": {
     "duration": 0.099274,
     "end_time": "2025-06-08T16:24:07.647154",
     "exception": false,
     "start_time": "2025-06-08T16:24:07.547880",
     "status": "completed"
    },
    "tags": []
   },
   "outputs": [
    {
     "data": {
      "text/html": [
       "<div>\n",
       "<style scoped>\n",
       "    .dataframe tbody tr th:only-of-type {\n",
       "        vertical-align: middle;\n",
       "    }\n",
       "\n",
       "    .dataframe tbody tr th {\n",
       "        vertical-align: top;\n",
       "    }\n",
       "\n",
       "    .dataframe thead th {\n",
       "        text-align: right;\n",
       "    }\n",
       "</style>\n",
       "<table border=\"1\" class=\"dataframe\">\n",
       "  <thead>\n",
       "    <tr style=\"text-align: right;\">\n",
       "      <th></th>\n",
       "      <th>股票编号</th>\n",
       "      <th>日期</th>\n",
       "      <th>高维情绪变量</th>\n",
       "      <th>交易量</th>\n",
       "      <th>收益率变化</th>\n",
       "      <th>聚类标签</th>\n",
       "      <th>公司名称</th>\n",
       "    </tr>\n",
       "  </thead>\n",
       "  <tbody>\n",
       "    <tr>\n",
       "      <th>0</th>\n",
       "      <td>000069</td>\n",
       "      <td>2021-06-02</td>\n",
       "      <td>[0.302, 0.14, 0.353, 0.079, -0.262, 0.477, -0....</td>\n",
       "      <td>120379289.0</td>\n",
       "      <td>0.047101</td>\n",
       "      <td>1.0</td>\n",
       "      <td>华侨城A</td>\n",
       "    </tr>\n",
       "    <tr>\n",
       "      <th>1</th>\n",
       "      <td>000069</td>\n",
       "      <td>2021-06-08</td>\n",
       "      <td>[-0.197, 0.69, 0.522, -0.127, -0.189, 0.426, -...</td>\n",
       "      <td>56433342.0</td>\n",
       "      <td>0.000000</td>\n",
       "      <td>1.0</td>\n",
       "      <td>华侨城A</td>\n",
       "    </tr>\n",
       "    <tr>\n",
       "      <th>2</th>\n",
       "      <td>000069</td>\n",
       "      <td>2021-06-09</td>\n",
       "      <td>[-0.134, 0.276, 0.309, 0.337, -0.178, 0.194, -...</td>\n",
       "      <td>67223725.0</td>\n",
       "      <td>-0.020214</td>\n",
       "      <td>1.0</td>\n",
       "      <td>华侨城A</td>\n",
       "    </tr>\n",
       "    <tr>\n",
       "      <th>3</th>\n",
       "      <td>000069</td>\n",
       "      <td>2021-06-25</td>\n",
       "      <td>[-0.107, 0.124, 0.349, 0.117, -0.162, 0.2, -0....</td>\n",
       "      <td>39615456.0</td>\n",
       "      <td>0.018519</td>\n",
       "      <td>1.0</td>\n",
       "      <td>华侨城A</td>\n",
       "    </tr>\n",
       "    <tr>\n",
       "      <th>4</th>\n",
       "      <td>000069</td>\n",
       "      <td>2021-06-29</td>\n",
       "      <td>[0.019, 0.244, 0.303, 0.452, -0.139, 0.132, -0...</td>\n",
       "      <td>34949814.0</td>\n",
       "      <td>-0.012970</td>\n",
       "      <td>1.0</td>\n",
       "      <td>华侨城A</td>\n",
       "    </tr>\n",
       "    <tr>\n",
       "      <th>...</th>\n",
       "      <td>...</td>\n",
       "      <td>...</td>\n",
       "      <td>...</td>\n",
       "      <td>...</td>\n",
       "      <td>...</td>\n",
       "      <td>...</td>\n",
       "      <td>...</td>\n",
       "    </tr>\n",
       "    <tr>\n",
       "      <th>22970</th>\n",
       "      <td>688981</td>\n",
       "      <td>2024-11-11</td>\n",
       "      <td>[-0.055, 0.026, 0.277, 0.147, -0.029, 0.276, -...</td>\n",
       "      <td>138069018.0</td>\n",
       "      <td>0.046660</td>\n",
       "      <td>2.0</td>\n",
       "      <td>中芯国际</td>\n",
       "    </tr>\n",
       "    <tr>\n",
       "      <th>22971</th>\n",
       "      <td>688981</td>\n",
       "      <td>2024-11-12</td>\n",
       "      <td>[-0.134, -0.011, 0.308, 0.208, 0.049, 0.263, -...</td>\n",
       "      <td>108866759.0</td>\n",
       "      <td>-0.036864</td>\n",
       "      <td>2.0</td>\n",
       "      <td>中芯国际</td>\n",
       "    </tr>\n",
       "    <tr>\n",
       "      <th>22972</th>\n",
       "      <td>688981</td>\n",
       "      <td>2024-11-13</td>\n",
       "      <td>[-0.228, 0.028, 0.358, 0.294, -0.137, 0.178, -...</td>\n",
       "      <td>80759477.0</td>\n",
       "      <td>-0.019484</td>\n",
       "      <td>2.0</td>\n",
       "      <td>中芯国际</td>\n",
       "    </tr>\n",
       "    <tr>\n",
       "      <th>22973</th>\n",
       "      <td>688981</td>\n",
       "      <td>2024-11-14</td>\n",
       "      <td>[-0.18, 0.054, 0.392, 0.292, -0.048, 0.215, -0...</td>\n",
       "      <td>76194102.0</td>\n",
       "      <td>-0.022897</td>\n",
       "      <td>2.0</td>\n",
       "      <td>中芯国际</td>\n",
       "    </tr>\n",
       "    <tr>\n",
       "      <th>22974</th>\n",
       "      <td>688981</td>\n",
       "      <td>2024-11-15</td>\n",
       "      <td>[-0.159, 0.022, 0.377, 0.319, -0.086, 0.268, -...</td>\n",
       "      <td>71066743.0</td>\n",
       "      <td>-0.020233</td>\n",
       "      <td>2.0</td>\n",
       "      <td>中芯国际</td>\n",
       "    </tr>\n",
       "  </tbody>\n",
       "</table>\n",
       "<p>22975 rows × 7 columns</p>\n",
       "</div>"
      ],
      "text/plain": [
       "         股票编号         日期                                             高维情绪变量  \\\n",
       "0      000069 2021-06-02  [0.302, 0.14, 0.353, 0.079, -0.262, 0.477, -0....   \n",
       "1      000069 2021-06-08  [-0.197, 0.69, 0.522, -0.127, -0.189, 0.426, -...   \n",
       "2      000069 2021-06-09  [-0.134, 0.276, 0.309, 0.337, -0.178, 0.194, -...   \n",
       "3      000069 2021-06-25  [-0.107, 0.124, 0.349, 0.117, -0.162, 0.2, -0....   \n",
       "4      000069 2021-06-29  [0.019, 0.244, 0.303, 0.452, -0.139, 0.132, -0...   \n",
       "...       ...        ...                                                ...   \n",
       "22970  688981 2024-11-11  [-0.055, 0.026, 0.277, 0.147, -0.029, 0.276, -...   \n",
       "22971  688981 2024-11-12  [-0.134, -0.011, 0.308, 0.208, 0.049, 0.263, -...   \n",
       "22972  688981 2024-11-13  [-0.228, 0.028, 0.358, 0.294, -0.137, 0.178, -...   \n",
       "22973  688981 2024-11-14  [-0.18, 0.054, 0.392, 0.292, -0.048, 0.215, -0...   \n",
       "22974  688981 2024-11-15  [-0.159, 0.022, 0.377, 0.319, -0.086, 0.268, -...   \n",
       "\n",
       "               交易量     收益率变化  聚类标签  公司名称  \n",
       "0      120379289.0  0.047101   1.0  华侨城A  \n",
       "1       56433342.0  0.000000   1.0  华侨城A  \n",
       "2       67223725.0 -0.020214   1.0  华侨城A  \n",
       "3       39615456.0  0.018519   1.0  华侨城A  \n",
       "4       34949814.0 -0.012970   1.0  华侨城A  \n",
       "...            ...       ...   ...   ...  \n",
       "22970  138069018.0  0.046660   2.0  中芯国际  \n",
       "22971  108866759.0 -0.036864   2.0  中芯国际  \n",
       "22972   80759477.0 -0.019484   2.0  中芯国际  \n",
       "22973   76194102.0 -0.022897   2.0  中芯国际  \n",
       "22974   71066743.0 -0.020233   2.0  中芯国际  \n",
       "\n",
       "[22975 rows x 7 columns]"
      ]
     },
     "execution_count": 18,
     "metadata": {},
     "output_type": "execute_result"
    }
   ],
   "source": [
    "final_data"
   ]
  },
  {
   "cell_type": "markdown",
   "id": "f9b4d839-d669-4daf-b47a-908c679f1635",
   "metadata": {
    "papermill": {
     "duration": 0.085899,
     "end_time": "2025-06-08T16:24:07.814600",
     "exception": false,
     "start_time": "2025-06-08T16:24:07.728701",
     "status": "completed"
    },
    "tags": []
   },
   "source": [
    "#### 读取市场换手率与市盈率并进行插值"
   ]
  },
  {
   "cell_type": "code",
   "execution_count": 19,
   "id": "7d25b396-8837-4a76-b2d8-abced31afa33",
   "metadata": {
    "execution": {
     "iopub.execute_input": "2025-06-08T16:24:07.989770Z",
     "iopub.status.busy": "2025-06-08T16:24:07.989251Z",
     "iopub.status.idle": "2025-06-08T16:24:08.045025Z",
     "shell.execute_reply": "2025-06-08T16:24:08.044052Z"
    },
    "papermill": {
     "duration": 0.145215,
     "end_time": "2025-06-08T16:24:08.045920",
     "exception": false,
     "start_time": "2025-06-08T16:24:07.900705",
     "status": "completed"
    },
    "tags": []
   },
   "outputs": [
    {
     "data": {
      "text/html": [
       "<div>\n",
       "<style scoped>\n",
       "    .dataframe tbody tr th:only-of-type {\n",
       "        vertical-align: middle;\n",
       "    }\n",
       "\n",
       "    .dataframe tbody tr th {\n",
       "        vertical-align: top;\n",
       "    }\n",
       "\n",
       "    .dataframe thead th {\n",
       "        text-align: right;\n",
       "    }\n",
       "</style>\n",
       "<table border=\"1\" class=\"dataframe\">\n",
       "  <thead>\n",
       "    <tr style=\"text-align: right;\">\n",
       "      <th></th>\n",
       "      <th>统计日期</th>\n",
       "      <th>市场平均市盈率</th>\n",
       "      <th>市场换手率(总股本)</th>\n",
       "    </tr>\n",
       "  </thead>\n",
       "  <tbody>\n",
       "    <tr>\n",
       "      <th>0</th>\n",
       "      <td>2021-01-04</td>\n",
       "      <td>16.918000</td>\n",
       "      <td>1.140600</td>\n",
       "    </tr>\n",
       "    <tr>\n",
       "      <th>12</th>\n",
       "      <td>2021-01-04</td>\n",
       "      <td>25.986305</td>\n",
       "      <td>1.237217</td>\n",
       "    </tr>\n",
       "    <tr>\n",
       "      <th>11</th>\n",
       "      <td>2021-01-04</td>\n",
       "      <td>35.054611</td>\n",
       "      <td>1.333834</td>\n",
       "    </tr>\n",
       "    <tr>\n",
       "      <th>10</th>\n",
       "      <td>2021-01-04</td>\n",
       "      <td>44.122916</td>\n",
       "      <td>1.430451</td>\n",
       "    </tr>\n",
       "    <tr>\n",
       "      <th>8</th>\n",
       "      <td>2021-01-04</td>\n",
       "      <td>53.191221</td>\n",
       "      <td>1.527068</td>\n",
       "    </tr>\n",
       "    <tr>\n",
       "      <th>...</th>\n",
       "      <td>...</td>\n",
       "      <td>...</td>\n",
       "      <td>...</td>\n",
       "    </tr>\n",
       "    <tr>\n",
       "      <th>12364</th>\n",
       "      <td>2024-12-06</td>\n",
       "      <td>39.185061</td>\n",
       "      <td>2.176139</td>\n",
       "    </tr>\n",
       "    <tr>\n",
       "      <th>12363</th>\n",
       "      <td>2024-12-06</td>\n",
       "      <td>14.390000</td>\n",
       "      <td>1.292500</td>\n",
       "    </tr>\n",
       "    <tr>\n",
       "      <th>12374</th>\n",
       "      <td>2024-12-06</td>\n",
       "      <td>14.390000</td>\n",
       "      <td>1.292500</td>\n",
       "    </tr>\n",
       "    <tr>\n",
       "      <th>12368</th>\n",
       "      <td>2024-12-06</td>\n",
       "      <td>14.390000</td>\n",
       "      <td>1.292500</td>\n",
       "    </tr>\n",
       "    <tr>\n",
       "      <th>12375</th>\n",
       "      <td>2024-12-06</td>\n",
       "      <td>14.390000</td>\n",
       "      <td>1.292500</td>\n",
       "    </tr>\n",
       "  </tbody>\n",
       "</table>\n",
       "<p>12376 rows × 3 columns</p>\n",
       "</div>"
      ],
      "text/plain": [
       "            统计日期    市场平均市盈率  市场换手率(总股本)\n",
       "0     2021-01-04  16.918000    1.140600\n",
       "12    2021-01-04  25.986305    1.237217\n",
       "11    2021-01-04  35.054611    1.333834\n",
       "10    2021-01-04  44.122916    1.430451\n",
       "8     2021-01-04  53.191221    1.527068\n",
       "...          ...        ...         ...\n",
       "12364 2024-12-06  39.185061    2.176139\n",
       "12363 2024-12-06  14.390000    1.292500\n",
       "12374 2024-12-06  14.390000    1.292500\n",
       "12368 2024-12-06  14.390000    1.292500\n",
       "12375 2024-12-06  14.390000    1.292500\n",
       "\n",
       "[12376 rows x 3 columns]"
      ]
     },
     "execution_count": 19,
     "metadata": {},
     "output_type": "execute_result"
    }
   ],
   "source": [
    "turnover_PE_rate = pd.read_csv(f'{Financial_Data_PATH}/市场整体换手率与市盈率.csv', encoding='utf-8')\n",
    "turnover_PE_rate['统计日期'] = pd.to_datetime(turnover_PE_rate['统计日期'])\n",
    "\n",
    "# 按照 '统计日期' 排序\n",
    "turnover_PE_rate = turnover_PE_rate.sort_values(by='统计日期')\n",
    "\n",
    "# 对 '平均市盈率' 和 '换手率(总股本)' 进行线性插值\n",
    "turnover_PE_rate[['平均市盈率', '换手率(总股本)']] = turnover_PE_rate[['平均市盈率', '换手率(总股本)']].interpolate(method='linear', axis=0)\n",
    "\n",
    "turnover_PE_rate = turnover_PE_rate.drop(columns=['统计口径编码'])\n",
    "turnover_PE_rate.columns = ['统计日期', '市场平均市盈率', '市场换手率(总股本)']\n",
    "turnover_PE_rate"
   ]
  },
  {
   "cell_type": "markdown",
   "id": "dceeef4a-a5ca-4d9c-b67d-59a41151ff31",
   "metadata": {
    "papermill": {
     "duration": 0.125198,
     "end_time": "2025-06-08T16:24:08.262917",
     "exception": false,
     "start_time": "2025-06-08T16:24:08.137719",
     "status": "completed"
    },
    "tags": []
   },
   "source": [
    "#### 数据拼接"
   ]
  },
  {
   "cell_type": "code",
   "execution_count": 20,
   "id": "405cad59-e9c6-4ff1-ae2d-f40ffa6b9180",
   "metadata": {
    "execution": {
     "iopub.execute_input": "2025-06-08T16:24:08.439845Z",
     "iopub.status.busy": "2025-06-08T16:24:08.438448Z",
     "iopub.status.idle": "2025-06-08T16:24:08.902154Z",
     "shell.execute_reply": "2025-06-08T16:24:08.901718Z"
    },
    "papermill": {
     "duration": 0.551318,
     "end_time": "2025-06-08T16:24:08.903005",
     "exception": false,
     "start_time": "2025-06-08T16:24:08.351687",
     "status": "completed"
    },
    "tags": []
   },
   "outputs": [
    {
     "data": {
      "text/html": [
       "<div>\n",
       "<style scoped>\n",
       "    .dataframe tbody tr th:only-of-type {\n",
       "        vertical-align: middle;\n",
       "    }\n",
       "\n",
       "    .dataframe tbody tr th {\n",
       "        vertical-align: top;\n",
       "    }\n",
       "\n",
       "    .dataframe thead th {\n",
       "        text-align: right;\n",
       "    }\n",
       "</style>\n",
       "<table border=\"1\" class=\"dataframe\">\n",
       "  <thead>\n",
       "    <tr style=\"text-align: right;\">\n",
       "      <th></th>\n",
       "      <th>股票编号</th>\n",
       "      <th>日期</th>\n",
       "      <th>高维情绪变量</th>\n",
       "      <th>收益率变化</th>\n",
       "      <th>日振幅(%)_Dampltd</th>\n",
       "      <th>市盈率_PE</th>\n",
       "      <th>流通股日换手率(%)_DTrdTurnR</th>\n",
       "      <th>总市值加权平均日资本收益_Daretmc</th>\n",
       "      <th>市场平均市盈率</th>\n",
       "      <th>市场换手率(总股本)</th>\n",
       "      <th>聚类标签</th>\n",
       "      <th>公司名称</th>\n",
       "      <th>成交量(百万)_Trdvol</th>\n",
       "    </tr>\n",
       "  </thead>\n",
       "  <tbody>\n",
       "    <tr>\n",
       "      <th>0</th>\n",
       "      <td>000069</td>\n",
       "      <td>2021-06-02</td>\n",
       "      <td>[0.302, 0.14, 0.353, 0.079, -0.262, 0.477, -0....</td>\n",
       "      <td>0.047101</td>\n",
       "      <td>6.2802</td>\n",
       "      <td>5.58</td>\n",
       "      <td>1.7042</td>\n",
       "      <td>-0.0122</td>\n",
       "      <td>30.012227</td>\n",
       "      <td>1.146041</td>\n",
       "      <td>1.0</td>\n",
       "      <td>华侨城A</td>\n",
       "      <td>120.379289</td>\n",
       "    </tr>\n",
       "    <tr>\n",
       "      <th>1</th>\n",
       "      <td>000069</td>\n",
       "      <td>2021-06-02</td>\n",
       "      <td>[0.302, 0.14, 0.353, 0.079, -0.262, 0.477, -0....</td>\n",
       "      <td>0.047101</td>\n",
       "      <td>6.2802</td>\n",
       "      <td>5.58</td>\n",
       "      <td>1.7042</td>\n",
       "      <td>-0.0122</td>\n",
       "      <td>36.350841</td>\n",
       "      <td>1.234311</td>\n",
       "      <td>1.0</td>\n",
       "      <td>华侨城A</td>\n",
       "      <td>120.379289</td>\n",
       "    </tr>\n",
       "    <tr>\n",
       "      <th>2</th>\n",
       "      <td>000069</td>\n",
       "      <td>2021-06-02</td>\n",
       "      <td>[0.302, 0.14, 0.353, 0.079, -0.262, 0.477, -0....</td>\n",
       "      <td>0.047101</td>\n",
       "      <td>6.2802</td>\n",
       "      <td>5.58</td>\n",
       "      <td>1.7042</td>\n",
       "      <td>-0.0122</td>\n",
       "      <td>42.689455</td>\n",
       "      <td>1.322581</td>\n",
       "      <td>1.0</td>\n",
       "      <td>华侨城A</td>\n",
       "      <td>120.379289</td>\n",
       "    </tr>\n",
       "    <tr>\n",
       "      <th>3</th>\n",
       "      <td>000069</td>\n",
       "      <td>2021-06-02</td>\n",
       "      <td>[0.302, 0.14, 0.353, 0.079, -0.262, 0.477, -0....</td>\n",
       "      <td>0.047101</td>\n",
       "      <td>6.2802</td>\n",
       "      <td>5.58</td>\n",
       "      <td>1.7042</td>\n",
       "      <td>-0.0122</td>\n",
       "      <td>49.028068</td>\n",
       "      <td>1.410852</td>\n",
       "      <td>1.0</td>\n",
       "      <td>华侨城A</td>\n",
       "      <td>120.379289</td>\n",
       "    </tr>\n",
       "    <tr>\n",
       "      <th>4</th>\n",
       "      <td>000069</td>\n",
       "      <td>2021-06-02</td>\n",
       "      <td>[0.302, 0.14, 0.353, 0.079, -0.262, 0.477, -0....</td>\n",
       "      <td>0.047101</td>\n",
       "      <td>6.2802</td>\n",
       "      <td>5.58</td>\n",
       "      <td>1.7042</td>\n",
       "      <td>-0.0122</td>\n",
       "      <td>55.366682</td>\n",
       "      <td>1.499122</td>\n",
       "      <td>1.0</td>\n",
       "      <td>华侨城A</td>\n",
       "      <td>120.379289</td>\n",
       "    </tr>\n",
       "    <tr>\n",
       "      <th>...</th>\n",
       "      <td>...</td>\n",
       "      <td>...</td>\n",
       "      <td>...</td>\n",
       "      <td>...</td>\n",
       "      <td>...</td>\n",
       "      <td>...</td>\n",
       "      <td>...</td>\n",
       "      <td>...</td>\n",
       "      <td>...</td>\n",
       "      <td>...</td>\n",
       "      <td>...</td>\n",
       "      <td>...</td>\n",
       "      <td>...</td>\n",
       "    </tr>\n",
       "    <tr>\n",
       "      <th>299710</th>\n",
       "      <td>603883</td>\n",
       "      <td>2024-11-15</td>\n",
       "      <td>[-0.162, 0.263, 0.162, 0.366, -0.206, 0.043, -...</td>\n",
       "      <td>-0.016820</td>\n",
       "      <td>3.2556</td>\n",
       "      <td>16.15</td>\n",
       "      <td>4.2812</td>\n",
       "      <td>-0.0112</td>\n",
       "      <td>65.934994</td>\n",
       "      <td>2.786785</td>\n",
       "      <td>1.0</td>\n",
       "      <td>老百姓</td>\n",
       "      <td>32.447776</td>\n",
       "    </tr>\n",
       "    <tr>\n",
       "      <th>299711</th>\n",
       "      <td>603883</td>\n",
       "      <td>2024-11-15</td>\n",
       "      <td>[-0.162, 0.263, 0.162, 0.366, -0.206, 0.043, -...</td>\n",
       "      <td>-0.016820</td>\n",
       "      <td>3.2556</td>\n",
       "      <td>16.15</td>\n",
       "      <td>4.2812</td>\n",
       "      <td>-0.0112</td>\n",
       "      <td>48.663329</td>\n",
       "      <td>2.336790</td>\n",
       "      <td>1.0</td>\n",
       "      <td>老百姓</td>\n",
       "      <td>32.447776</td>\n",
       "    </tr>\n",
       "    <tr>\n",
       "      <th>299712</th>\n",
       "      <td>603883</td>\n",
       "      <td>2024-11-15</td>\n",
       "      <td>[-0.162, 0.263, 0.162, 0.366, -0.206, 0.043, -...</td>\n",
       "      <td>-0.016820</td>\n",
       "      <td>3.2556</td>\n",
       "      <td>16.15</td>\n",
       "      <td>4.2812</td>\n",
       "      <td>-0.0112</td>\n",
       "      <td>31.391665</td>\n",
       "      <td>1.886795</td>\n",
       "      <td>1.0</td>\n",
       "      <td>老百姓</td>\n",
       "      <td>32.447776</td>\n",
       "    </tr>\n",
       "    <tr>\n",
       "      <th>299713</th>\n",
       "      <td>603883</td>\n",
       "      <td>2024-11-15</td>\n",
       "      <td>[-0.162, 0.263, 0.162, 0.366, -0.206, 0.043, -...</td>\n",
       "      <td>-0.016820</td>\n",
       "      <td>3.2556</td>\n",
       "      <td>16.15</td>\n",
       "      <td>4.2812</td>\n",
       "      <td>-0.0112</td>\n",
       "      <td>14.120000</td>\n",
       "      <td>1.436800</td>\n",
       "      <td>1.0</td>\n",
       "      <td>老百姓</td>\n",
       "      <td>32.447776</td>\n",
       "    </tr>\n",
       "    <tr>\n",
       "      <th>299714</th>\n",
       "      <td>603883</td>\n",
       "      <td>2024-11-15</td>\n",
       "      <td>[-0.162, 0.263, 0.162, 0.366, -0.206, 0.043, -...</td>\n",
       "      <td>-0.016820</td>\n",
       "      <td>3.2556</td>\n",
       "      <td>16.15</td>\n",
       "      <td>4.2812</td>\n",
       "      <td>-0.0112</td>\n",
       "      <td>20.714063</td>\n",
       "      <td>3.481729</td>\n",
       "      <td>1.0</td>\n",
       "      <td>老百姓</td>\n",
       "      <td>32.447776</td>\n",
       "    </tr>\n",
       "  </tbody>\n",
       "</table>\n",
       "<p>299715 rows × 13 columns</p>\n",
       "</div>"
      ],
      "text/plain": [
       "          股票编号         日期                                             高维情绪变量  \\\n",
       "0       000069 2021-06-02  [0.302, 0.14, 0.353, 0.079, -0.262, 0.477, -0....   \n",
       "1       000069 2021-06-02  [0.302, 0.14, 0.353, 0.079, -0.262, 0.477, -0....   \n",
       "2       000069 2021-06-02  [0.302, 0.14, 0.353, 0.079, -0.262, 0.477, -0....   \n",
       "3       000069 2021-06-02  [0.302, 0.14, 0.353, 0.079, -0.262, 0.477, -0....   \n",
       "4       000069 2021-06-02  [0.302, 0.14, 0.353, 0.079, -0.262, 0.477, -0....   \n",
       "...        ...        ...                                                ...   \n",
       "299710  603883 2024-11-15  [-0.162, 0.263, 0.162, 0.366, -0.206, 0.043, -...   \n",
       "299711  603883 2024-11-15  [-0.162, 0.263, 0.162, 0.366, -0.206, 0.043, -...   \n",
       "299712  603883 2024-11-15  [-0.162, 0.263, 0.162, 0.366, -0.206, 0.043, -...   \n",
       "299713  603883 2024-11-15  [-0.162, 0.263, 0.162, 0.366, -0.206, 0.043, -...   \n",
       "299714  603883 2024-11-15  [-0.162, 0.263, 0.162, 0.366, -0.206, 0.043, -...   \n",
       "\n",
       "           收益率变化  日振幅(%)_Dampltd  市盈率_PE  流通股日换手率(%)_DTrdTurnR  \\\n",
       "0       0.047101          6.2802    5.58                1.7042   \n",
       "1       0.047101          6.2802    5.58                1.7042   \n",
       "2       0.047101          6.2802    5.58                1.7042   \n",
       "3       0.047101          6.2802    5.58                1.7042   \n",
       "4       0.047101          6.2802    5.58                1.7042   \n",
       "...          ...             ...     ...                   ...   \n",
       "299710 -0.016820          3.2556   16.15                4.2812   \n",
       "299711 -0.016820          3.2556   16.15                4.2812   \n",
       "299712 -0.016820          3.2556   16.15                4.2812   \n",
       "299713 -0.016820          3.2556   16.15                4.2812   \n",
       "299714 -0.016820          3.2556   16.15                4.2812   \n",
       "\n",
       "        总市值加权平均日资本收益_Daretmc    市场平均市盈率  市场换手率(总股本)  聚类标签  公司名称  \\\n",
       "0                    -0.0122  30.012227    1.146041   1.0  华侨城A   \n",
       "1                    -0.0122  36.350841    1.234311   1.0  华侨城A   \n",
       "2                    -0.0122  42.689455    1.322581   1.0  华侨城A   \n",
       "3                    -0.0122  49.028068    1.410852   1.0  华侨城A   \n",
       "4                    -0.0122  55.366682    1.499122   1.0  华侨城A   \n",
       "...                      ...        ...         ...   ...   ...   \n",
       "299710               -0.0112  65.934994    2.786785   1.0   老百姓   \n",
       "299711               -0.0112  48.663329    2.336790   1.0   老百姓   \n",
       "299712               -0.0112  31.391665    1.886795   1.0   老百姓   \n",
       "299713               -0.0112  14.120000    1.436800   1.0   老百姓   \n",
       "299714               -0.0112  20.714063    3.481729   1.0   老百姓   \n",
       "\n",
       "        成交量(百万)_Trdvol  \n",
       "0           120.379289  \n",
       "1           120.379289  \n",
       "2           120.379289  \n",
       "3           120.379289  \n",
       "4           120.379289  \n",
       "...                ...  \n",
       "299710       32.447776  \n",
       "299711       32.447776  \n",
       "299712       32.447776  \n",
       "299713       32.447776  \n",
       "299714       32.447776  \n",
       "\n",
       "[299715 rows x 13 columns]"
      ]
     },
     "execution_count": 20,
     "metadata": {},
     "output_type": "execute_result"
    }
   ],
   "source": [
    "# 将日期列转换为 datetime 格式\n",
    "final_data['日期'] = pd.to_datetime(final_data['日期'])\n",
    "microfinancial_data['日期_Date'] = pd.to_datetime(microfinancial_data['日期_Date'], errors='coerce')\n",
    "\n",
    "# 使用 merge 进行内连接\n",
    "result = pd.merge(\n",
    "    final_data, \n",
    "    microfinancial_data, \n",
    "    left_on=['日期', '股票编号'],  # 左表的 key\n",
    "    right_on=['日期_Date', '股票代码_Stkcd'], # 右表的 key\n",
    "    how='inner'                   # 内连接\n",
    ")\n",
    "\n",
    "result = pd.merge(\n",
    "    result, \n",
    "    turnover_PE_rate, \n",
    "    left_on=['日期'],  # 左表的 key\n",
    "    right_on=['统计日期'], # 右表的 key\n",
    "    how='inner'                   # 内连接\n",
    ")\n",
    "\n",
    "# 删除重复的列\n",
    "result = result.drop(columns=['日期_Date', '股票代码_Stkcd', '交易量', '日收益率_Dret', '统计日期'])\n",
    "\n",
    "# 修改列的位置，更加美观可视\n",
    "columns_to_move = ['聚类标签', '公司名称']\n",
    "result = pd.concat([result.drop(columns=columns_to_move), result[columns_to_move]], axis=1)\n",
    "\n",
    "# 将成交量除以10000，并以万计数\n",
    "result['成交量(百万)_Trdvol'] = result['成交量_Trdvol'] / 1_000_000\n",
    "result = result.drop(columns=['成交量_Trdvol'])\n",
    "\n",
    "cols_to_check = ['收益率变化', '日振幅(%)_Dampltd', '市盈率_PE', \n",
    "                 '成交量(百万)_Trdvol', '流通股日换手率(%)_DTrdTurnR']\n",
    "\n",
    "# 删除含有空值的行\n",
    "result = result.dropna(subset=cols_to_check)\n",
    "result"
   ]
  },
  {
   "cell_type": "code",
   "execution_count": 21,
   "id": "526e4b9e-2a1e-48b2-b6a3-4ecb28362b9f",
   "metadata": {
    "execution": {
     "iopub.execute_input": "2025-06-08T16:24:09.264358Z",
     "iopub.status.busy": "2025-06-08T16:24:09.264104Z",
     "iopub.status.idle": "2025-06-08T16:24:09.277823Z",
     "shell.execute_reply": "2025-06-08T16:24:09.277089Z"
    },
    "papermill": {
     "duration": 0.133872,
     "end_time": "2025-06-08T16:24:09.278536",
     "exception": false,
     "start_time": "2025-06-08T16:24:09.144664",
     "status": "completed"
    },
    "tags": []
   },
   "outputs": [
    {
     "name": "stdout",
     "output_type": "stream",
     "text": [
      "49\n"
     ]
    }
   ],
   "source": [
    "# 查看匹配的公司数\n",
    "unique_stock_count = result['股票编号'].nunique()\n",
    "print(unique_stock_count)"
   ]
  },
  {
   "cell_type": "markdown",
   "id": "adb256c6-35b8-4f86-9527-36f26588ee4f",
   "metadata": {
    "papermill": {
     "duration": 0.07976,
     "end_time": "2025-06-08T16:24:09.442875",
     "exception": false,
     "start_time": "2025-06-08T16:24:09.363115",
     "status": "completed"
    },
    "tags": []
   },
   "source": [
    "#### 回归检验"
   ]
  },
  {
   "cell_type": "code",
   "execution_count": 22,
   "id": "7487061f-6f64-4a68-a815-78ca9e4a1251",
   "metadata": {
    "execution": {
     "iopub.execute_input": "2025-06-08T16:24:09.746689Z",
     "iopub.status.busy": "2025-06-08T16:24:09.746236Z",
     "iopub.status.idle": "2025-06-08T16:24:10.615778Z",
     "shell.execute_reply": "2025-06-08T16:24:10.615029Z"
    },
    "papermill": {
     "duration": 1.004592,
     "end_time": "2025-06-08T16:24:10.617407",
     "exception": false,
     "start_time": "2025-06-08T16:24:09.612815",
     "status": "completed"
    },
    "tags": []
   },
   "outputs": [
    {
     "data": {
      "text/html": [
       "<div>\n",
       "<style scoped>\n",
       "    .dataframe tbody tr th:only-of-type {\n",
       "        vertical-align: middle;\n",
       "    }\n",
       "\n",
       "    .dataframe tbody tr th {\n",
       "        vertical-align: top;\n",
       "    }\n",
       "\n",
       "    .dataframe thead th {\n",
       "        text-align: right;\n",
       "    }\n",
       "</style>\n",
       "<table border=\"1\" class=\"dataframe\">\n",
       "  <thead>\n",
       "    <tr style=\"text-align: right;\">\n",
       "      <th></th>\n",
       "      <th>Variable</th>\n",
       "      <th>S</th>\n",
       "      <th>Econ</th>\n",
       "      <th>Constant</th>\n",
       "      <th>R_squared</th>\n",
       "      <th>Econ_t_value</th>\n",
       "      <th>Constant_t_value</th>\n",
       "    </tr>\n",
       "  </thead>\n",
       "  <tbody>\n",
       "    <tr>\n",
       "      <th>0</th>\n",
       "      <td>收益率变化</td>\n",
       "      <td>0.003</td>\n",
       "      <td>1.074</td>\n",
       "      <td>0.000</td>\n",
       "      <td>24.685</td>\n",
       "      <td>313.420</td>\n",
       "      <td>7.961</td>\n",
       "    </tr>\n",
       "    <tr>\n",
       "      <th>1</th>\n",
       "      <td>日振幅(%)_Dampltd</td>\n",
       "      <td>0.321</td>\n",
       "      <td>13.326</td>\n",
       "      <td>3.334</td>\n",
       "      <td>0.572</td>\n",
       "      <td>41.539</td>\n",
       "      <td>832.847</td>\n",
       "    </tr>\n",
       "    <tr>\n",
       "      <th>2</th>\n",
       "      <td>市盈率_PE</td>\n",
       "      <td>14.117</td>\n",
       "      <td>-40.530</td>\n",
       "      <td>27.405</td>\n",
       "      <td>0.003</td>\n",
       "      <td>-2.871</td>\n",
       "      <td>155.559</td>\n",
       "    </tr>\n",
       "    <tr>\n",
       "      <th>3</th>\n",
       "      <td>成交量(百万)_Trdvol</td>\n",
       "      <td>10.166</td>\n",
       "      <td>325.363</td>\n",
       "      <td>52.165</td>\n",
       "      <td>0.341</td>\n",
       "      <td>32.005</td>\n",
       "      <td>411.177</td>\n",
       "    </tr>\n",
       "    <tr>\n",
       "      <th>4</th>\n",
       "      <td>流通股日换手率(%)_DTrdTurnR</td>\n",
       "      <td>0.267</td>\n",
       "      <td>5.904</td>\n",
       "      <td>1.209</td>\n",
       "      <td>0.162</td>\n",
       "      <td>22.077</td>\n",
       "      <td>362.283</td>\n",
       "    </tr>\n",
       "  </tbody>\n",
       "</table>\n",
       "</div>"
      ],
      "text/plain": [
       "               Variable       S     Econ  Constant  R_squared  Econ_t_value  \\\n",
       "0                 收益率变化   0.003    1.074     0.000     24.685       313.420   \n",
       "1        日振幅(%)_Dampltd   0.321   13.326     3.334      0.572        41.539   \n",
       "2                市盈率_PE  14.117  -40.530    27.405      0.003        -2.871   \n",
       "3        成交量(百万)_Trdvol  10.166  325.363    52.165      0.341        32.005   \n",
       "4  流通股日换手率(%)_DTrdTurnR   0.267    5.904     1.209      0.162        22.077   \n",
       "\n",
       "   Constant_t_value  \n",
       "0             7.961  \n",
       "1           832.847  \n",
       "2           155.559  \n",
       "3           411.177  \n",
       "4           362.283  "
      ]
     },
     "execution_count": 22,
     "metadata": {},
     "output_type": "execute_result"
    }
   ],
   "source": [
    "## 单因子：总市值加权平均日资本收益回归检验\n",
    "df = result.copy()\n",
    "\n",
    "# 自变量是总市值加权平均日资本收益\n",
    "X = df[['总市值加权平均日资本收益_Daretmc']]\n",
    "\n",
    "# 要拟合的因变量列表\n",
    "y_vars = [\n",
    "    '收益率变化', '日振幅(%)_Dampltd', '市盈率_PE', \n",
    "    '成交量(百万)_Trdvol','流通股日换手率(%)_DTrdTurnR'\n",
    "]\n",
    "\n",
    "\n",
    "# 添加常数项（截距项）\n",
    "X_with_const = sm.add_constant(X)\n",
    "\n",
    "# 创建一个空的列表存储回归结果\n",
    "regression_results = []\n",
    "\n",
    "# 对每个因变量进行回归分析\n",
    "for y_var in y_vars:\n",
    "    y = df[y_var]  # 当前的因变量\n",
    "\n",
    "    # 对股票编号分组进行回归\n",
    "    grouped = df.groupby('股票编号')\n",
    "    \n",
    "    r_squared_list = []\n",
    "    \n",
    "    for stock_code, group in grouped:\n",
    "        X_group = group[['总市值加权平均日资本收益_Daretmc']]\n",
    "        X_with_const_group = sm.add_constant(X_group)\n",
    "        y_group = group[y_var]\n",
    "        \n",
    "        try:\n",
    "            # 拟合回归模型\n",
    "            model = sm.OLS(y_group, X_with_const_group)\n",
    "            results = model.fit()\n",
    "\n",
    "            # 提取回归R方\n",
    "            r_squared_list.append(results.rsquared)\n",
    "        except Exception as e:\n",
    "            # 如果回归失败（如R方计算为-inf），跳过\n",
    "            print(f\"回归失败：股票编号 {stock_code}, 错误信息: {e}\")\n",
    "            r_squared_list.append(float('nan'))  # 将其R方设为NaN\n",
    "    \n",
    "    # 计算R方的平均值，忽略NaN值\n",
    "    avg_r_squared = pd.Series(r_squared_list).mean()\n",
    "    \n",
    "    # 对于每个因变量，存储回归系数等信息\n",
    "    model = sm.OLS(y, X_with_const)\n",
    "    results = model.fit()\n",
    "\n",
    "    regression_results.append({\n",
    "        'Variable': y_var,\n",
    "        'S': round(results.bse['总市值加权平均日资本收益_Daretmc'], 3),  # 标准误差\n",
    "        'Econ': round(results.params['总市值加权平均日资本收益_Daretmc'], 3),  # 回归系数\n",
    "        'Constant': round(results.params['const'], 3),  # 截距项，保留三位小数\n",
    "        'R_squared': round(results.rsquared * 100, 3), # 总体的回归R方，保留三位小数\n",
    "        'Econ_t_value': round(results.tvalues['总市值加权平均日资本收益_Daretmc'], 3),  # Econ的t统计量，保留三位小数\n",
    "        'Constant_t_value': round(results.tvalues['const'], 3)  # Constant的t统计量，保留三位小数\n",
    "    })\n",
    "\n",
    "# 转换为 DataFrame\n",
    "regression_df = pd.DataFrame(regression_results)\n",
    "# regression_df.to_csv(f'个股分析/{market_address}/双因子回归结果/单因子：总市值加权平均日资本收益.csv')\n",
    "regression_df\n"
   ]
  },
  {
   "cell_type": "code",
   "execution_count": 23,
   "id": "0d49a8de-517a-465d-8b82-38483c5ffa72",
   "metadata": {
    "execution": {
     "iopub.execute_input": "2025-06-08T16:24:11.066220Z",
     "iopub.status.busy": "2025-06-08T16:24:11.066036Z",
     "iopub.status.idle": "2025-06-08T16:26:28.405091Z",
     "shell.execute_reply": "2025-06-08T16:26:28.404487Z"
    },
    "papermill": {
     "duration": 137.776141,
     "end_time": "2025-06-08T16:26:28.652761",
     "exception": false,
     "start_time": "2025-06-08T16:24:10.876620",
     "status": "completed"
    },
    "tags": []
   },
   "outputs": [
    {
     "data": {
      "text/html": [
       "<div>\n",
       "<style scoped>\n",
       "    .dataframe tbody tr th:only-of-type {\n",
       "        vertical-align: middle;\n",
       "    }\n",
       "\n",
       "    .dataframe tbody tr th {\n",
       "        vertical-align: top;\n",
       "    }\n",
       "\n",
       "    .dataframe thead th {\n",
       "        text-align: right;\n",
       "    }\n",
       "</style>\n",
       "<table border=\"1\" class=\"dataframe\">\n",
       "  <thead>\n",
       "    <tr style=\"text-align: right;\">\n",
       "      <th></th>\n",
       "      <th>Variable</th>\n",
       "      <th>S</th>\n",
       "      <th>Econ</th>\n",
       "      <th>Constant</th>\n",
       "      <th>R_squared_global</th>\n",
       "      <th>Econ_t_value</th>\n",
       "      <th>Constant_t_value</th>\n",
       "    </tr>\n",
       "  </thead>\n",
       "  <tbody>\n",
       "    <tr>\n",
       "      <th>0</th>\n",
       "      <td>收益率变化</td>\n",
       "      <td>0.006</td>\n",
       "      <td>-0.027</td>\n",
       "      <td>0.040</td>\n",
       "      <td>11.059</td>\n",
       "      <td>-4.636</td>\n",
       "      <td>1.755</td>\n",
       "    </tr>\n",
       "    <tr>\n",
       "      <th>1</th>\n",
       "      <td>日振幅(%)_Dampltd</td>\n",
       "      <td>0.466</td>\n",
       "      <td>-3.392</td>\n",
       "      <td>8.290</td>\n",
       "      <td>17.170</td>\n",
       "      <td>-7.279</td>\n",
       "      <td>4.602</td>\n",
       "    </tr>\n",
       "    <tr>\n",
       "      <th>2</th>\n",
       "      <td>市盈率_PE</td>\n",
       "      <td>21.112</td>\n",
       "      <td>22.320</td>\n",
       "      <td>173.454</td>\n",
       "      <td>11.705</td>\n",
       "      <td>1.057</td>\n",
       "      <td>2.126</td>\n",
       "    </tr>\n",
       "    <tr>\n",
       "      <th>3</th>\n",
       "      <td>成交量(百万)_Trdvol</td>\n",
       "      <td>14.245</td>\n",
       "      <td>57.371</td>\n",
       "      <td>69.615</td>\n",
       "      <td>22.750</td>\n",
       "      <td>4.028</td>\n",
       "      <td>1.264</td>\n",
       "    </tr>\n",
       "    <tr>\n",
       "      <th>4</th>\n",
       "      <td>流通股日换手率(%)_DTrdTurnR</td>\n",
       "      <td>0.375</td>\n",
       "      <td>-3.013</td>\n",
       "      <td>0.239</td>\n",
       "      <td>22.552</td>\n",
       "      <td>-8.036</td>\n",
       "      <td>0.165</td>\n",
       "    </tr>\n",
       "  </tbody>\n",
       "</table>\n",
       "</div>"
      ],
      "text/plain": [
       "               Variable       S    Econ  Constant  R_squared_global  \\\n",
       "0                 收益率变化   0.006  -0.027     0.040            11.059   \n",
       "1        日振幅(%)_Dampltd   0.466  -3.392     8.290            17.170   \n",
       "2                市盈率_PE  21.112  22.320   173.454            11.705   \n",
       "3        成交量(百万)_Trdvol  14.245  57.371    69.615            22.750   \n",
       "4  流通股日换手率(%)_DTrdTurnR   0.375  -3.013     0.239            22.552   \n",
       "\n",
       "   Econ_t_value  Constant_t_value  \n",
       "0        -4.636             1.755  \n",
       "1        -7.279             4.602  \n",
       "2         1.057             2.126  \n",
       "3         4.028             1.264  \n",
       "4        -8.036             0.165  "
      ]
     },
     "execution_count": 23,
     "metadata": {},
     "output_type": "execute_result"
    }
   ],
   "source": [
    "## 单因子：情绪回归检验\n",
    "if MODEL != 'Deep-learning/Ours':\n",
    "    df = result.copy()\n",
    "    \n",
    "    # 自变量是情绪值\n",
    "    X = df[[EMO_NAME]]\n",
    "    \n",
    "    # 要拟合的因变量列表\n",
    "    y_vars = [\n",
    "        '收益率变化', '日振幅(%)_Dampltd', '市盈率_PE', \n",
    "        '成交量(百万)_Trdvol','流通股日换手率(%)_DTrdTurnR'\n",
    "    ]\n",
    "    \n",
    "    # 添加常数项（截距项）\n",
    "    X_with_const = sm.add_constant(X)\n",
    "    \n",
    "    # 创建一个空的列表存储回归结果\n",
    "    regression_results = []\n",
    "    \n",
    "    # 对每个因变量进行回归分析\n",
    "    for y_var in y_vars:\n",
    "        y = df[y_var]  # 当前的因变量\n",
    "    \n",
    "        # 对股票编号分组进行回归\n",
    "        grouped = df.groupby('股票编号')\n",
    "        \n",
    "        for stock_code, group in grouped:\n",
    "            X_group = group[[EMO_NAME]]\n",
    "            X_with_const_group = sm.add_constant(X_group)\n",
    "            y_group = group[y_var]\n",
    "            \n",
    "            # 拟合回归模型\n",
    "            model = sm.OLS(y_group, X_with_const_group)\n",
    "            results = model.fit()\n",
    "    \n",
    "            # 提取回归R方\n",
    "            r_squared_list.append(results.rsquared)\n",
    "        \n",
    "        # 计算R方的平均值\n",
    "        avg_r_squared = sum(r_squared_list) / len(r_squared_list)\n",
    "        \n",
    "        # 对于每个因变量，存储回归系数等信息\n",
    "        model = sm.OLS(y, X_with_const)\n",
    "        results = model.fit()\n",
    "    \n",
    "        regression_results.append({\n",
    "            'Variable': y_var,\n",
    "            'S': round(results.bse[EMO_NAME], 3),  # 标准误差，保留三位小数\n",
    "            'Econ': round(results.params[EMO_NAME], 3),  # 回归系数，保留三位小数\n",
    "            'Constant': round(results.params['const'], 3),  # 截距项，保留三位小数\n",
    "            'R_squared': round(results.rsquared * 100, 3), # 总体的回归R方，保留三位小数\n",
    "            'Econ_t_value': round(results.tvalues[EMO_NAME], 3),  # Econ的t统计量，保留三位小数\n",
    "            'Constant_t_value': round(results.tvalues['const'], 3)  # Constant的t统计量，保留三位小数\n",
    "        })\n",
    "else:\n",
    "    df = result.copy()\n",
    "    \n",
    "    # 拆分高维情绪变量为多个列（多变量）\n",
    "    emo_array = np.array(df['高维情绪变量'].tolist())  # shape: (样本数, 维度)\n",
    "    emo_df = pd.DataFrame(emo_array, columns=[f'emotion_{i}' for i in range(emo_array.shape[1])])\n",
    "    \n",
    "    # 合并回df\n",
    "    df = pd.concat([df.reset_index(drop=True), emo_df], axis=1)\n",
    "    \n",
    "    # 构造多维自变量X\n",
    "    EMO_COLUMNS = [f'emotion_{i}' for i in range(emo_array.shape[1])]\n",
    "    X = df[EMO_COLUMNS]\n",
    "    \n",
    "    # 要拟合的因变量列表\n",
    "    y_vars = [\n",
    "        '收益率变化', '日振幅(%)_Dampltd', '市盈率_PE', \n",
    "        '成交量(百万)_Trdvol','流通股日换手率(%)_DTrdTurnR'\n",
    "    ]\n",
    "    \n",
    "    # 添加常数项（截距项）\n",
    "    X_with_const = sm.add_constant(X)\n",
    "    \n",
    "    regression_results = []\n",
    "\n",
    "    for y_var in y_vars:\n",
    "        y = df[y_var]\n",
    "        \n",
    "        # 每个股票编号做回归，统计 R²\n",
    "        grouped = df.groupby('股票编号')\n",
    "        \n",
    "        # 全部数据回归\n",
    "        model = sm.OLS(y, X_with_const)\n",
    "        results = model.fit()\n",
    "\n",
    "        # 提取部分指标（示例提取第一个变量的参数）\n",
    "        econ_param = results.params[EMO_COLUMNS[0]]\n",
    "        econ_bse = results.bse[EMO_COLUMNS[0]]\n",
    "        econ_t = results.tvalues[EMO_COLUMNS[0]]\n",
    "        \n",
    "        regression_results.append({\n",
    "            'Variable': y_var,\n",
    "            'S': round(econ_bse, 3),\n",
    "            'Econ': round(econ_param, 3),\n",
    "            'Constant': round(results.params['const'], 3),\n",
    "            'R_squared_global': round(results.rsquared * 100, 3),\n",
    "            'Econ_t_value': round(econ_t, 3),\n",
    "            'Constant_t_value': round(results.tvalues['const'], 3)\n",
    "        })\n",
    "    \n",
    "\n",
    "\n",
    "# 转换为 DataFrame\n",
    "regression_df = pd.DataFrame(regression_results)\n",
    "# regression_df.to_csv(f'个股分析/{market_address}/双因子回归结果/单因子：{EMO_NAME}.csv')\n",
    "regression_df\n"
   ]
  },
  {
   "cell_type": "code",
   "execution_count": 24,
   "id": "776def31-2b12-4010-beb4-9a751f8880d3",
   "metadata": {
    "execution": {
     "iopub.execute_input": "2025-06-08T16:26:29.077565Z",
     "iopub.status.busy": "2025-06-08T16:26:29.077201Z",
     "iopub.status.idle": "2025-06-08T16:29:02.265883Z",
     "shell.execute_reply": "2025-06-08T16:29:02.265055Z"
    },
    "papermill": {
     "duration": 153.505537,
     "end_time": "2025-06-08T16:29:02.388478",
     "exception": false,
     "start_time": "2025-06-08T16:26:28.882941",
     "status": "completed"
    },
    "tags": []
   },
   "outputs": [
    {
     "data": {
      "text/html": [
       "<div>\n",
       "<style scoped>\n",
       "    .dataframe tbody tr th:only-of-type {\n",
       "        vertical-align: middle;\n",
       "    }\n",
       "\n",
       "    .dataframe tbody tr th {\n",
       "        vertical-align: top;\n",
       "    }\n",
       "\n",
       "    .dataframe thead th {\n",
       "        text-align: right;\n",
       "    }\n",
       "</style>\n",
       "<table border=\"1\" class=\"dataframe\">\n",
       "  <thead>\n",
       "    <tr style=\"text-align: right;\">\n",
       "      <th></th>\n",
       "      <th>Variable</th>\n",
       "      <th>S</th>\n",
       "      <th>Econ</th>\n",
       "      <th>Constant</th>\n",
       "      <th>R_squared</th>\n",
       "      <th>Econ_t_value</th>\n",
       "      <th>Constant_t_value</th>\n",
       "    </tr>\n",
       "  </thead>\n",
       "  <tbody>\n",
       "    <tr>\n",
       "      <th>0</th>\n",
       "      <td>收益率变化</td>\n",
       "      <td>0.005</td>\n",
       "      <td>-0.020</td>\n",
       "      <td>0.048</td>\n",
       "      <td>31.066</td>\n",
       "      <td>-3.741</td>\n",
       "      <td>2.390</td>\n",
       "    </tr>\n",
       "    <tr>\n",
       "      <th>1</th>\n",
       "      <td>日振幅(%)_Dampltd</td>\n",
       "      <td>0.465</td>\n",
       "      <td>-3.300</td>\n",
       "      <td>8.382</td>\n",
       "      <td>17.571</td>\n",
       "      <td>-7.099</td>\n",
       "      <td>4.665</td>\n",
       "    </tr>\n",
       "    <tr>\n",
       "      <th>2</th>\n",
       "      <td>市盈率_PE</td>\n",
       "      <td>21.111</td>\n",
       "      <td>21.865</td>\n",
       "      <td>172.997</td>\n",
       "      <td>11.710</td>\n",
       "      <td>1.036</td>\n",
       "      <td>2.120</td>\n",
       "    </tr>\n",
       "    <tr>\n",
       "      <th>3</th>\n",
       "      <td>成交量(百万)_Trdvol</td>\n",
       "      <td>14.225</td>\n",
       "      <td>59.511</td>\n",
       "      <td>71.766</td>\n",
       "      <td>22.968</td>\n",
       "      <td>4.184</td>\n",
       "      <td>1.305</td>\n",
       "    </tr>\n",
       "    <tr>\n",
       "      <th>4</th>\n",
       "      <td>流通股日换手率(%)_DTrdTurnR</td>\n",
       "      <td>0.375</td>\n",
       "      <td>-2.974</td>\n",
       "      <td>0.278</td>\n",
       "      <td>22.655</td>\n",
       "      <td>-7.938</td>\n",
       "      <td>0.192</td>\n",
       "    </tr>\n",
       "  </tbody>\n",
       "</table>\n",
       "</div>"
      ],
      "text/plain": [
       "               Variable       S    Econ  Constant  R_squared  Econ_t_value  \\\n",
       "0                 收益率变化   0.005  -0.020     0.048     31.066        -3.741   \n",
       "1        日振幅(%)_Dampltd   0.465  -3.300     8.382     17.571        -7.099   \n",
       "2                市盈率_PE  21.111  21.865   172.997     11.710         1.036   \n",
       "3        成交量(百万)_Trdvol  14.225  59.511    71.766     22.968         4.184   \n",
       "4  流通股日换手率(%)_DTrdTurnR   0.375  -2.974     0.278     22.655        -7.938   \n",
       "\n",
       "   Constant_t_value  \n",
       "0             2.390  \n",
       "1             4.665  \n",
       "2             2.120  \n",
       "3             1.305  \n",
       "4             0.192  "
      ]
     },
     "execution_count": 24,
     "metadata": {},
     "output_type": "execute_result"
    }
   ],
   "source": [
    "## 总体双因子回归检验\n",
    "if MODEL != 'Deep-learning/Ours':\n",
    "    df = result.copy()\n",
    "    \n",
    "    # 自变量是情绪值和总市值加权平均日资本收益\n",
    "    X = df[[EMO_NAME, '总市值加权平均日资本收益_Daretmc']]\n",
    "    \n",
    "    # 要拟合的因变量列表\n",
    "    y_vars = [\n",
    "        '收益率变化', '日振幅(%)_Dampltd', '市盈率_PE', \n",
    "        '成交量(百万)_Trdvol','流通股日换手率(%)_DTrdTurnR'\n",
    "    ]\n",
    "    \n",
    "    # 添加常数项（截距项）\n",
    "    X_with_const = sm.add_constant(X)\n",
    "    \n",
    "    # 创建一个空的列表存储回归结果\n",
    "    regression_results = []\n",
    "    \n",
    "    # 对每个因变量进行回归分析\n",
    "    for y_var in y_vars:\n",
    "        y = df[y_var]  # 当前的因变量\n",
    "    \n",
    "        # 对股票编号分组进行回归\n",
    "        grouped = df.groupby('股票编号')\n",
    "   \n",
    "        # 对于每个因变量，存储回归系数等信息\n",
    "        model = sm.OLS(y, X_with_const)\n",
    "        results = model.fit()\n",
    "    \n",
    "        regression_results.append({\n",
    "            'Variable': y_var,\n",
    "            'S': round(results.bse[EMO_NAME], 3),  # 标准误差，保留三位小数\n",
    "            'Econ': round(results.params[EMO_NAME], 3),  # 回归系数，保留三位小数\n",
    "            'Constant': round(results.params['const'], 3),  # 截距项，保留三位小数\n",
    "            'R_squared': round(results.rsquared * 100, 3), # 总体的回归R方，保留三位小数\n",
    "            'Econ_t_value': round(results.tvalues[EMO_NAME], 3),  # Econ的t统计量，保留三位小数\n",
    "            'Constant_t_value': round(results.tvalues['const'], 3)  # Constant的t统计量，保留三位小数\n",
    "        })\n",
    "\n",
    "else:\n",
    "    df = result.copy()\n",
    "    \n",
    "    # 拆分高维情绪变量为多个列（多变量）\n",
    "    emo_array = np.array(df['高维情绪变量'].tolist())  # shape: (样本数, 维度)\n",
    "    emo_df = pd.DataFrame(emo_array, columns=[f'emotion_{i}' for i in range(emo_array.shape[1])])\n",
    "    \n",
    "    # 合并回df\n",
    "    df = pd.concat([df.reset_index(drop=True), emo_df], axis=1)\n",
    "    \n",
    "    # 构造多维自变量X\n",
    "    EMO_COLUMNS = [f'emotion_{i}' for i in range(emo_array.shape[1])]\n",
    "    X = df[['总市值加权平均日资本收益_Daretmc'] + EMO_COLUMNS]\n",
    "    \n",
    "    # 要拟合的因变量列表\n",
    "    y_vars = [\n",
    "        '收益率变化', '日振幅(%)_Dampltd', '市盈率_PE', \n",
    "        '成交量(百万)_Trdvol','流通股日换手率(%)_DTrdTurnR'\n",
    "    ]\n",
    "    \n",
    "    # 添加常数项（截距项）\n",
    "    X_with_const = sm.add_constant(X)\n",
    "    \n",
    "    regression_results = []\n",
    "\n",
    "    for y_var in y_vars:\n",
    "        y = df[y_var]\n",
    "        \n",
    "        # 每个股票编号做回归，统计 R²\n",
    "        grouped = df.groupby('股票编号')\n",
    "\n",
    "        # 全部数据回归\n",
    "        model = sm.OLS(y, X_with_const)\n",
    "        results = model.fit()\n",
    "\n",
    "        # 提取部分指标（示例提取第一个变量的参数）\n",
    "        econ_param = results.params[EMO_COLUMNS[0]]\n",
    "        econ_bse = results.bse[EMO_COLUMNS[0]]\n",
    "        econ_t = results.tvalues[EMO_COLUMNS[0]]\n",
    "        \n",
    "        regression_results.append({\n",
    "            'Variable': y_var,\n",
    "            'S': round(econ_bse, 3),\n",
    "            'Econ': round(econ_param, 3),\n",
    "            'Constant': round(results.params['const'], 3),\n",
    "            'R_squared': round(results.rsquared * 100, 3),\n",
    "            'Econ_t_value': round(econ_t, 3),\n",
    "            'Constant_t_value': round(results.tvalues['const'], 3)\n",
    "        })\n",
    "    \n",
    "\n",
    "# 转换为 DataFrame\n",
    "regression_df = pd.DataFrame(regression_results)\n",
    "# regression_df.to_csv(f'个股分析/{market_address}/双因子回归结果/双因子：总体分析.csv')\n",
    "regression_df\n"
   ]
  },
  {
   "cell_type": "code",
   "execution_count": 25,
   "id": "8340fa00-1367-4252-992d-dd42f1e0bb17",
   "metadata": {
    "execution": {
     "iopub.execute_input": "2025-06-08T16:29:02.572352Z",
     "iopub.status.busy": "2025-06-08T16:29:02.572049Z",
     "iopub.status.idle": "2025-06-08T16:29:38.099617Z",
     "shell.execute_reply": "2025-06-08T16:29:38.099030Z"
    },
    "papermill": {
     "duration": 35.758468,
     "end_time": "2025-06-08T16:29:38.230164",
     "exception": false,
     "start_time": "2025-06-08T16:29:02.471696",
     "status": "completed"
    },
    "tags": []
   },
   "outputs": [
    {
     "data": {
      "text/html": [
       "<div>\n",
       "<style scoped>\n",
       "    .dataframe tbody tr th:only-of-type {\n",
       "        vertical-align: middle;\n",
       "    }\n",
       "\n",
       "    .dataframe tbody tr th {\n",
       "        vertical-align: top;\n",
       "    }\n",
       "\n",
       "    .dataframe thead th {\n",
       "        text-align: right;\n",
       "    }\n",
       "</style>\n",
       "<table border=\"1\" class=\"dataframe\">\n",
       "  <thead>\n",
       "    <tr style=\"text-align: right;\">\n",
       "      <th></th>\n",
       "      <th>Variable</th>\n",
       "      <th>S</th>\n",
       "      <th>Econ</th>\n",
       "      <th>Constant</th>\n",
       "      <th>R_squared</th>\n",
       "      <th>Econ_t_value</th>\n",
       "      <th>Constant_t_value</th>\n",
       "    </tr>\n",
       "  </thead>\n",
       "  <tbody>\n",
       "    <tr>\n",
       "      <th>0</th>\n",
       "      <td>收益率变化</td>\n",
       "      <td>0.009</td>\n",
       "      <td>0.009</td>\n",
       "      <td>0.075</td>\n",
       "      <td>36.418</td>\n",
       "      <td>1.035</td>\n",
       "      <td>2.088</td>\n",
       "    </tr>\n",
       "    <tr>\n",
       "      <th>1</th>\n",
       "      <td>日振幅(%)_Dampltd</td>\n",
       "      <td>0.797</td>\n",
       "      <td>-1.926</td>\n",
       "      <td>-5.304</td>\n",
       "      <td>31.323</td>\n",
       "      <td>-2.416</td>\n",
       "      <td>-1.709</td>\n",
       "    </tr>\n",
       "    <tr>\n",
       "      <th>2</th>\n",
       "      <td>市盈率_PE</td>\n",
       "      <td>13.862</td>\n",
       "      <td>-47.638</td>\n",
       "      <td>-98.688</td>\n",
       "      <td>38.486</td>\n",
       "      <td>-3.437</td>\n",
       "      <td>-1.828</td>\n",
       "    </tr>\n",
       "    <tr>\n",
       "      <th>3</th>\n",
       "      <td>成交量(百万)_Trdvol</td>\n",
       "      <td>27.322</td>\n",
       "      <td>33.434</td>\n",
       "      <td>-190.248</td>\n",
       "      <td>36.655</td>\n",
       "      <td>1.224</td>\n",
       "      <td>-1.788</td>\n",
       "    </tr>\n",
       "    <tr>\n",
       "      <th>4</th>\n",
       "      <td>流通股日换手率(%)_DTrdTurnR</td>\n",
       "      <td>0.391</td>\n",
       "      <td>-2.385</td>\n",
       "      <td>-5.295</td>\n",
       "      <td>33.440</td>\n",
       "      <td>-6.096</td>\n",
       "      <td>-3.474</td>\n",
       "    </tr>\n",
       "  </tbody>\n",
       "</table>\n",
       "</div>"
      ],
      "text/plain": [
       "               Variable       S    Econ  Constant  R_squared  Econ_t_value  \\\n",
       "0                 收益率变化   0.009   0.009     0.075     36.418         1.035   \n",
       "1        日振幅(%)_Dampltd   0.797  -1.926    -5.304     31.323        -2.416   \n",
       "2                市盈率_PE  13.862 -47.638   -98.688     38.486        -3.437   \n",
       "3        成交量(百万)_Trdvol  27.322  33.434  -190.248     36.655         1.224   \n",
       "4  流通股日换手率(%)_DTrdTurnR   0.391  -2.385    -5.295     33.440        -6.096   \n",
       "\n",
       "   Constant_t_value  \n",
       "0             2.088  \n",
       "1            -1.709  \n",
       "2            -1.828  \n",
       "3            -1.788  \n",
       "4            -3.474  "
      ]
     },
     "execution_count": 25,
     "metadata": {},
     "output_type": "execute_result"
    }
   ],
   "source": [
    "## 聚类0的回归检验\n",
    "if MODEL != 'Deep-learning/Ours':\n",
    "    df = result[result['聚类标签'] == 0].copy()\n",
    "    \n",
    "    # 自变量是情绪值和总市值加权平均日资本收益\n",
    "    X = df[[EMO_NAME, '总市值加权平均日资本收益_Daretmc']]\n",
    "    \n",
    "    # 要拟合的因变量列表\n",
    "    y_vars = [\n",
    "        '收益率变化', '日振幅(%)_Dampltd', '市盈率_PE', \n",
    "        '成交量(百万)_Trdvol','流通股日换手率(%)_DTrdTurnR'\n",
    "    ]\n",
    "    \n",
    "    \n",
    "    # 添加常数项（截距项）\n",
    "    X_with_const = sm.add_constant(X)\n",
    "    \n",
    "    # 创建一个空的列表存储回归结果\n",
    "    regression_results = []\n",
    "    \n",
    "    # 对每个因变量进行回归分析\n",
    "    for y_var in y_vars:\n",
    "        y = df[y_var]  # 当前的因变量\n",
    "    \n",
    "        # 对股票编号分组进行回归\n",
    "        grouped = df.groupby('股票编号')\n",
    "        \n",
    "        # 对于每个因变量，存储回归系数等信息\n",
    "        model = sm.OLS(y, X_with_const)\n",
    "        results = model.fit()\n",
    "    \n",
    "        regression_results.append({\n",
    "            'Variable': y_var,\n",
    "            'S': round(results.bse[EMO_NAME], 3),  # 标准误差，保留三位小数\n",
    "            'Econ': round(results.params[EMO_NAME], 3),  # 回归系数，保留三位小数\n",
    "            'Constant': round(results.params['const'], 3),  # 截距项，保留三位小数\n",
    "            'R_squared': round(results.rsquared * 100, 3), # 总体的回归R方，保留三位小数\n",
    "            'Econ_t_value': round(results.tvalues[EMO_NAME], 3),  # Econ的t统计量，保留三位小数\n",
    "            'Constant_t_value': round(results.tvalues['const'], 3)  # Constant的t统计量，保留三位小数\n",
    "        })\n",
    "\n",
    "else:\n",
    "    df = result[result['聚类标签'] == 0].copy()\n",
    "\n",
    "    # 拆分高维情绪变量为多个列（多变量）\n",
    "    emo_array = np.array(df['高维情绪变量'].tolist())  # shape: (样本数, 维度)\n",
    "    emo_df = pd.DataFrame(emo_array, columns=[f'emotion_{i}' for i in range(emo_array.shape[1])])\n",
    "    \n",
    "    # 合并回df\n",
    "    df = pd.concat([df.reset_index(drop=True), emo_df], axis=1)\n",
    "    \n",
    "    # 构造多维自变量X\n",
    "    EMO_COLUMNS = [f'emotion_{i}' for i in range(emo_array.shape[1])]\n",
    "    X = df[['总市值加权平均日资本收益_Daretmc'] + EMO_COLUMNS]\n",
    "    \n",
    "    # 要拟合的因变量列表\n",
    "    y_vars = [\n",
    "        '收益率变化', '日振幅(%)_Dampltd', '市盈率_PE', \n",
    "        '成交量(百万)_Trdvol','流通股日换手率(%)_DTrdTurnR'\n",
    "    ]\n",
    "    \n",
    "    # 添加常数项（截距项）\n",
    "    X_with_const = sm.add_constant(X)\n",
    "    \n",
    "    regression_results = []\n",
    "\n",
    "    for y_var in y_vars:\n",
    "        y = df[y_var]\n",
    "        \n",
    "        # 每个股票编号做回归，统计 R²\n",
    "        grouped = df.groupby('股票编号')\n",
    "        \n",
    "        # 全部数据回归\n",
    "        model = sm.OLS(y, X_with_const)\n",
    "        results = model.fit()\n",
    "\n",
    "        # 提取部分指标（示例提取第一个变量的参数）\n",
    "        econ_param = results.params[EMO_COLUMNS[0]]\n",
    "        econ_bse = results.bse[EMO_COLUMNS[0]]\n",
    "        econ_t = results.tvalues[EMO_COLUMNS[0]]\n",
    "        \n",
    "        regression_results.append({\n",
    "            'Variable': y_var,\n",
    "            'S': round(econ_bse, 3),\n",
    "            'Econ': round(econ_param, 3),\n",
    "            'Constant': round(results.params['const'], 3),\n",
    "            'R_squared': round(results.rsquared * 100, 3),\n",
    "            'Econ_t_value': round(econ_t, 3),\n",
    "            'Constant_t_value': round(results.tvalues['const'], 3)\n",
    "        })\n",
    "    \n",
    "# 转换为 DataFrame\n",
    "regression_df = pd.DataFrame(regression_results)\n",
    "# regression_df.to_csv(f'个股分析/{market_address}/双因子回归结果/双因子：聚类0检验.csv')\n",
    "regression_df\n"
   ]
  },
  {
   "cell_type": "code",
   "execution_count": 26,
   "id": "9f3303b1-d89c-44c4-8d0e-09ae0083f8fa",
   "metadata": {
    "execution": {
     "iopub.execute_input": "2025-06-08T16:29:38.409871Z",
     "iopub.status.busy": "2025-06-08T16:29:38.409605Z",
     "iopub.status.idle": "2025-06-08T16:30:04.726960Z",
     "shell.execute_reply": "2025-06-08T16:30:04.726457Z"
    },
    "papermill": {
     "duration": 26.442806,
     "end_time": "2025-06-08T16:30:04.760885",
     "exception": false,
     "start_time": "2025-06-08T16:29:38.318079",
     "status": "completed"
    },
    "tags": []
   },
   "outputs": [
    {
     "name": "stdout",
     "output_type": "stream",
     "text": [
      "(样本数, 维度): (66547, 768)\n"
     ]
    },
    {
     "data": {
      "text/html": [
       "<div>\n",
       "<style scoped>\n",
       "    .dataframe tbody tr th:only-of-type {\n",
       "        vertical-align: middle;\n",
       "    }\n",
       "\n",
       "    .dataframe tbody tr th {\n",
       "        vertical-align: top;\n",
       "    }\n",
       "\n",
       "    .dataframe thead th {\n",
       "        text-align: right;\n",
       "    }\n",
       "</style>\n",
       "<table border=\"1\" class=\"dataframe\">\n",
       "  <thead>\n",
       "    <tr style=\"text-align: right;\">\n",
       "      <th></th>\n",
       "      <th>Variable</th>\n",
       "      <th>S</th>\n",
       "      <th>Econ</th>\n",
       "      <th>Constant</th>\n",
       "      <th>R_squared</th>\n",
       "      <th>Econ_t_value</th>\n",
       "      <th>Constant_t_value</th>\n",
       "    </tr>\n",
       "  </thead>\n",
       "  <tbody>\n",
       "    <tr>\n",
       "      <th>0</th>\n",
       "      <td>收益率变化</td>\n",
       "      <td>0.012</td>\n",
       "      <td>-0.012</td>\n",
       "      <td>0.227</td>\n",
       "      <td>36.721</td>\n",
       "      <td>-1.041</td>\n",
       "      <td>4.489</td>\n",
       "    </tr>\n",
       "    <tr>\n",
       "      <th>1</th>\n",
       "      <td>日振幅(%)_Dampltd</td>\n",
       "      <td>0.989</td>\n",
       "      <td>-1.109</td>\n",
       "      <td>37.676</td>\n",
       "      <td>26.339</td>\n",
       "      <td>-1.121</td>\n",
       "      <td>8.860</td>\n",
       "    </tr>\n",
       "    <tr>\n",
       "      <th>2</th>\n",
       "      <td>市盈率_PE</td>\n",
       "      <td>75.755</td>\n",
       "      <td>429.713</td>\n",
       "      <td>1713.875</td>\n",
       "      <td>25.719</td>\n",
       "      <td>5.672</td>\n",
       "      <td>5.262</td>\n",
       "    </tr>\n",
       "    <tr>\n",
       "      <th>3</th>\n",
       "      <td>成交量(百万)_Trdvol</td>\n",
       "      <td>21.138</td>\n",
       "      <td>104.208</td>\n",
       "      <td>163.602</td>\n",
       "      <td>40.506</td>\n",
       "      <td>4.930</td>\n",
       "      <td>1.800</td>\n",
       "    </tr>\n",
       "    <tr>\n",
       "      <th>4</th>\n",
       "      <td>流通股日换手率(%)_DTrdTurnR</td>\n",
       "      <td>0.893</td>\n",
       "      <td>-0.411</td>\n",
       "      <td>22.705</td>\n",
       "      <td>30.211</td>\n",
       "      <td>-0.461</td>\n",
       "      <td>5.915</td>\n",
       "    </tr>\n",
       "  </tbody>\n",
       "</table>\n",
       "</div>"
      ],
      "text/plain": [
       "               Variable       S     Econ  Constant  R_squared  Econ_t_value  \\\n",
       "0                 收益率变化   0.012   -0.012     0.227     36.721        -1.041   \n",
       "1        日振幅(%)_Dampltd   0.989   -1.109    37.676     26.339        -1.121   \n",
       "2                市盈率_PE  75.755  429.713  1713.875     25.719         5.672   \n",
       "3        成交量(百万)_Trdvol  21.138  104.208   163.602     40.506         4.930   \n",
       "4  流通股日换手率(%)_DTrdTurnR   0.893   -0.411    22.705     30.211        -0.461   \n",
       "\n",
       "   Constant_t_value  \n",
       "0             4.489  \n",
       "1             8.860  \n",
       "2             5.262  \n",
       "3             1.800  \n",
       "4             5.915  "
      ]
     },
     "execution_count": 26,
     "metadata": {},
     "output_type": "execute_result"
    }
   ],
   "source": [
    "## 聚类1的回归检验\n",
    "if MODEL != 'Deep-learning/Ours':\n",
    "    df = result[result['聚类标签'] == 1].copy()\n",
    "    \n",
    "    # 自变量是情绪值和总市值加权平均日资本收益\n",
    "    X = df[[EMO_NAME, '总市值加权平均日资本收益_Daretmc']]\n",
    "    \n",
    "    # 要拟合的因变量列表\n",
    "    y_vars = [\n",
    "        '收益率变化', '日振幅(%)_Dampltd', '市盈率_PE', \n",
    "        '成交量(百万)_Trdvol','流通股日换手率(%)_DTrdTurnR'\n",
    "    ]\n",
    "    \n",
    "    \n",
    "    # 添加常数项（截距项）\n",
    "    X_with_const = sm.add_constant(X)\n",
    "    \n",
    "    # 创建一个空的列表存储回归结果\n",
    "    regression_results = []\n",
    "    \n",
    "    # 对每个因变量进行回归分析\n",
    "    for y_var in y_vars:\n",
    "        y = df[y_var]  # 当前的因变量\n",
    "    \n",
    "        # 对股票编号分组进行回归\n",
    "        grouped = df.groupby('股票编号')\n",
    "\n",
    "        # 对于每个因变量，存储回归系数等信息\n",
    "        model = sm.OLS(y, X_with_const)\n",
    "        results = model.fit()\n",
    "    \n",
    "        regression_results.append({\n",
    "            'Variable': y_var,\n",
    "            'S': round(results.bse[EMO_NAME], 3),  # 标准误差，保留三位小数\n",
    "            'Econ': round(results.params[EMO_NAME], 3),  # 回归系数，保留三位小数\n",
    "            'Constant': round(results.params['const'], 3),  # 截距项，保留三位小数\n",
    "            'R_squared': round(results.rsquared * 100, 3), # 总体的回归R方，保留三位小数\n",
    "            'Econ_t_value': round(results.tvalues[EMO_NAME], 3),  # Econ的t统计量，保留三位小数\n",
    "            'Constant_t_value': round(results.tvalues['const'], 3)  # Constant的t统计量，保留三位小数\n",
    "        })\n",
    "else:\n",
    "    df = result[result['聚类标签'] == 1].copy()\n",
    "    \n",
    "    # 拆分高维情绪变量为多个列（多变量）\n",
    "    emo_array = np.array(df['高维情绪变量'].tolist())  # shape: (样本数, 维度)\n",
    "    print('(样本数, 维度):', emo_array.shape)\n",
    "    emo_df = pd.DataFrame(emo_array, columns=[f'emotion_{i}' for i in range(emo_array.shape[1])])\n",
    "    \n",
    "    # 合并回df\n",
    "    df = pd.concat([df.reset_index(drop=True), emo_df], axis=1)\n",
    "    \n",
    "    # 构造多维自变量X\n",
    "    EMO_COLUMNS = [f'emotion_{i}' for i in range(emo_array.shape[1])]\n",
    "    X = df[['总市值加权平均日资本收益_Daretmc'] + EMO_COLUMNS]\n",
    "    \n",
    "    # 要拟合的因变量列表\n",
    "    y_vars = [\n",
    "        '收益率变化', '日振幅(%)_Dampltd', '市盈率_PE', \n",
    "        '成交量(百万)_Trdvol','流通股日换手率(%)_DTrdTurnR'\n",
    "    ]\n",
    "    \n",
    "    # 添加常数项（截距项）\n",
    "    X_with_const = sm.add_constant(X)\n",
    "    \n",
    "    regression_results = []\n",
    "\n",
    "    for y_var in y_vars:\n",
    "        y = df[y_var]\n",
    "        \n",
    "        # 每个股票编号做回归，统计 R²\n",
    "        grouped = df.groupby('股票编号')    \n",
    "\n",
    "        # 全部数据回归\n",
    "        model = sm.OLS(y, X_with_const)\n",
    "        results = model.fit()\n",
    "\n",
    "        # 提取部分指标（示例提取第一个变量的参数）\n",
    "        econ_param = results.params[EMO_COLUMNS[0]]\n",
    "        econ_bse = results.bse[EMO_COLUMNS[0]]\n",
    "        econ_t = results.tvalues[EMO_COLUMNS[0]]\n",
    "        \n",
    "        regression_results.append({\n",
    "            'Variable': y_var,\n",
    "            'S': round(econ_bse, 3),\n",
    "            'Econ': round(econ_param, 3),\n",
    "            'Constant': round(results.params['const'], 3),\n",
    "            'R_squared': round(results.rsquared * 100, 3),\n",
    "            'Econ_t_value': round(econ_t, 3),\n",
    "            'Constant_t_value': round(results.tvalues['const'], 3)\n",
    "        })\n",
    "\n",
    "# 转换为 DataFrame\n",
    "regression_df = pd.DataFrame(regression_results)\n",
    "# regression_df.to_csv(f'个股分析/{market_address}/双因子回归结果/双因子：聚类1检验.csv')\n",
    "regression_df\n"
   ]
  },
  {
   "cell_type": "code",
   "execution_count": 27,
   "id": "3da16d07-ee11-49aa-89ac-a26f06dec223",
   "metadata": {
    "execution": {
     "iopub.execute_input": "2025-06-08T16:30:05.051210Z",
     "iopub.status.busy": "2025-06-08T16:30:05.051016Z",
     "iopub.status.idle": "2025-06-08T16:30:53.056256Z",
     "shell.execute_reply": "2025-06-08T16:30:53.055749Z"
    },
    "papermill": {
     "duration": 48.218674,
     "end_time": "2025-06-08T16:30:53.182578",
     "exception": false,
     "start_time": "2025-06-08T16:30:04.963904",
     "status": "completed"
    },
    "tags": []
   },
   "outputs": [
    {
     "name": "stdout",
     "output_type": "stream",
     "text": [
      "(样本数, 维度): (150475, 768)\n"
     ]
    },
    {
     "data": {
      "text/html": [
       "<div>\n",
       "<style scoped>\n",
       "    .dataframe tbody tr th:only-of-type {\n",
       "        vertical-align: middle;\n",
       "    }\n",
       "\n",
       "    .dataframe tbody tr th {\n",
       "        vertical-align: top;\n",
       "    }\n",
       "\n",
       "    .dataframe thead th {\n",
       "        text-align: right;\n",
       "    }\n",
       "</style>\n",
       "<table border=\"1\" class=\"dataframe\">\n",
       "  <thead>\n",
       "    <tr style=\"text-align: right;\">\n",
       "      <th></th>\n",
       "      <th>Variable</th>\n",
       "      <th>S</th>\n",
       "      <th>Econ</th>\n",
       "      <th>Constant</th>\n",
       "      <th>R_squared</th>\n",
       "      <th>Econ_t_value</th>\n",
       "      <th>Constant_t_value</th>\n",
       "    </tr>\n",
       "  </thead>\n",
       "  <tbody>\n",
       "    <tr>\n",
       "      <th>0</th>\n",
       "      <td>收益率变化</td>\n",
       "      <td>0.007</td>\n",
       "      <td>-0.051</td>\n",
       "      <td>0.035</td>\n",
       "      <td>36.220</td>\n",
       "      <td>-6.810</td>\n",
       "      <td>1.000</td>\n",
       "    </tr>\n",
       "    <tr>\n",
       "      <th>1</th>\n",
       "      <td>日振幅(%)_Dampltd</td>\n",
       "      <td>0.663</td>\n",
       "      <td>-5.843</td>\n",
       "      <td>8.979</td>\n",
       "      <td>25.025</td>\n",
       "      <td>-8.810</td>\n",
       "      <td>2.876</td>\n",
       "    </tr>\n",
       "    <tr>\n",
       "      <th>2</th>\n",
       "      <td>市盈率_PE</td>\n",
       "      <td>21.230</td>\n",
       "      <td>-117.153</td>\n",
       "      <td>-162.655</td>\n",
       "      <td>23.614</td>\n",
       "      <td>-5.518</td>\n",
       "      <td>-1.628</td>\n",
       "    </tr>\n",
       "    <tr>\n",
       "      <th>3</th>\n",
       "      <td>成交量(百万)_Trdvol</td>\n",
       "      <td>20.051</td>\n",
       "      <td>52.830</td>\n",
       "      <td>448.024</td>\n",
       "      <td>33.527</td>\n",
       "      <td>2.635</td>\n",
       "      <td>4.747</td>\n",
       "    </tr>\n",
       "    <tr>\n",
       "      <th>4</th>\n",
       "      <td>流通股日换手率(%)_DTrdTurnR</td>\n",
       "      <td>0.560</td>\n",
       "      <td>-4.587</td>\n",
       "      <td>2.899</td>\n",
       "      <td>34.252</td>\n",
       "      <td>-8.194</td>\n",
       "      <td>1.101</td>\n",
       "    </tr>\n",
       "  </tbody>\n",
       "</table>\n",
       "</div>"
      ],
      "text/plain": [
       "               Variable       S     Econ  Constant  R_squared  Econ_t_value  \\\n",
       "0                 收益率变化   0.007   -0.051     0.035     36.220        -6.810   \n",
       "1        日振幅(%)_Dampltd   0.663   -5.843     8.979     25.025        -8.810   \n",
       "2                市盈率_PE  21.230 -117.153  -162.655     23.614        -5.518   \n",
       "3        成交量(百万)_Trdvol  20.051   52.830   448.024     33.527         2.635   \n",
       "4  流通股日换手率(%)_DTrdTurnR   0.560   -4.587     2.899     34.252        -8.194   \n",
       "\n",
       "   Constant_t_value  \n",
       "0             1.000  \n",
       "1             2.876  \n",
       "2            -1.628  \n",
       "3             4.747  \n",
       "4             1.101  "
      ]
     },
     "execution_count": 27,
     "metadata": {},
     "output_type": "execute_result"
    }
   ],
   "source": [
    "## 聚类2的回归检验\n",
    "if MODEL != 'Deep-learning/Ours':\n",
    "    df = result[result['聚类标签'] == 2].copy()\n",
    "    \n",
    "    # 自变量是情绪值和总市值加权平均日资本收益\n",
    "    X = df[[EMO_NAME, '总市值加权平均日资本收益_Daretmc']]\n",
    "    \n",
    "    # 要拟合的因变量列表\n",
    "    y_vars = [\n",
    "        '收益率变化', '日振幅(%)_Dampltd', '市盈率_PE', \n",
    "        '成交量(百万)_Trdvol','流通股日换手率(%)_DTrdTurnR'\n",
    "    ]\n",
    "    \n",
    "    \n",
    "    # 添加常数项（截距项）\n",
    "    X_with_const = sm.add_constant(X)\n",
    "    \n",
    "    # 创建一个空的列表存储回归结果\n",
    "    regression_results = []\n",
    "    \n",
    "    # 对每个因变量进行回归分析\n",
    "    for y_var in y_vars:\n",
    "        y = df[y_var]  # 当前的因变量\n",
    "    \n",
    "        # 对股票编号分组进行回归\n",
    "        grouped = df.groupby('股票编号')\n",
    "    \n",
    "        # 对于每个因变量，存储回归系数等信息\n",
    "        model = sm.OLS(y, X_with_const)\n",
    "        results = model.fit()\n",
    "    \n",
    "        regression_results.append({\n",
    "            'Variable': y_var,\n",
    "            'S': round(results.bse[EMO_NAME], 3),  # 标准误差，保留三位小数\n",
    "            'Econ': round(results.params[EMO_NAME], 3),  # 回归系数，保留三位小数\n",
    "            'Constant': round(results.params['const'], 3),  # 截距项，保留三位小数\n",
    "            'R_squared': round(results.rsquared * 100, 3), # 总体的回归R方，保留三位小数\n",
    "            'Econ_t_value': round(results.tvalues[EMO_NAME], 3),  # Econ的t统计量，保留三位小数\n",
    "            'Constant_t_value': round(results.tvalues['const'], 3)  # Constant的t统计量，保留三位小数\n",
    "        })\n",
    "else:\n",
    "    df = result[result['聚类标签'] == 2].copy()\n",
    "    \n",
    "    # 拆分高维情绪变量为多个列（多变量）\n",
    "    emo_array = np.array(df['高维情绪变量'].tolist())  # shape: (样本数, 维度)\n",
    "    print('(样本数, 维度):', emo_array.shape)\n",
    "    emo_df = pd.DataFrame(emo_array, columns=[f'emotion_{i}' for i in range(emo_array.shape[1])])\n",
    "    \n",
    "    # 合并回df\n",
    "    df = pd.concat([df.reset_index(drop=True), emo_df], axis=1)\n",
    "    \n",
    "    # 构造多维自变量X\n",
    "    EMO_COLUMNS = [f'emotion_{i}' for i in range(emo_array.shape[1])]\n",
    "    X = df[['总市值加权平均日资本收益_Daretmc'] + EMO_COLUMNS]\n",
    "    \n",
    "    # 要拟合的因变量列表\n",
    "    y_vars = [\n",
    "        '收益率变化', '日振幅(%)_Dampltd', '市盈率_PE', \n",
    "        '成交量(百万)_Trdvol','流通股日换手率(%)_DTrdTurnR'\n",
    "    ]\n",
    "    \n",
    "    # 添加常数项（截距项）\n",
    "    X_with_const = sm.add_constant(X)\n",
    "    \n",
    "    regression_results = []\n",
    "\n",
    "    for y_var in y_vars:\n",
    "        y = df[y_var]\n",
    "        \n",
    "        # 每个股票编号做回归，统计 R²\n",
    "        grouped = df.groupby('股票编号')\n",
    "        r_squared_list = []\n",
    "        \n",
    "        # 全部数据回归\n",
    "        model = sm.OLS(y, X_with_const)\n",
    "        results = model.fit()\n",
    "\n",
    "        # 提取部分指标（示例提取第一个变量的参数）\n",
    "        econ_param = results.params[EMO_COLUMNS[0]]\n",
    "        econ_bse = results.bse[EMO_COLUMNS[0]]\n",
    "        econ_t = results.tvalues[EMO_COLUMNS[0]]\n",
    "        \n",
    "        regression_results.append({\n",
    "            'Variable': y_var,\n",
    "            'S': round(econ_bse, 3),\n",
    "            'Econ': round(econ_param, 3),\n",
    "            'Constant': round(results.params['const'], 3),\n",
    "            'R_squared': round(results.rsquared * 100, 3),\n",
    "            'Econ_t_value': round(econ_t, 3),\n",
    "            'Constant_t_value': round(results.tvalues['const'], 3)\n",
    "        })\n",
    "\n",
    "# 转换为 DataFrame\n",
    "regression_df = pd.DataFrame(regression_results)\n",
    "# regression_df.to_csv(f'个股分析/{market_address}/双因子回归结果/双因子：聚类2检验.csv')\n",
    "regression_df\n"
   ]
  },
  {
   "cell_type": "code",
   "execution_count": null,
   "id": "71de2604-abcd-4d7c-967b-e7fa2a6b596f",
   "metadata": {
    "papermill": {
     "duration": 0.080474,
     "end_time": "2025-06-08T16:30:53.340944",
     "exception": false,
     "start_time": "2025-06-08T16:30:53.260470",
     "status": "completed"
    },
    "tags": []
   },
   "outputs": [],
   "source": []
  },
  {
   "cell_type": "code",
   "execution_count": null,
   "id": "f5076d27-9375-4b1f-afe9-0f040df89934",
   "metadata": {
    "papermill": {
     "duration": 0.082594,
     "end_time": "2025-06-08T16:30:53.505909",
     "exception": false,
     "start_time": "2025-06-08T16:30:53.423315",
     "status": "completed"
    },
    "tags": []
   },
   "outputs": [],
   "source": []
  }
 ],
 "metadata": {
  "kernelspec": {
   "display_name": "Python (z_env)",
   "language": "python",
   "name": "z_env"
  },
  "language_info": {
   "codemirror_mode": {
    "name": "ipython",
    "version": 3
   },
   "file_extension": ".py",
   "mimetype": "text/x-python",
   "name": "python",
   "nbconvert_exporter": "python",
   "pygments_lexer": "ipython3",
   "version": "3.12.9"
  },
  "papermill": {
   "default_parameters": {},
   "duration": 881.376976,
   "end_time": "2025-06-08T16:30:56.714557",
   "environment_variables": {},
   "exception": null,
   "input_path": "Model_Comparison.ipynb",
   "output_path": "output/Models/50/Deep-learning/Ours/沪深300情绪值.ipynb",
   "parameters": {
    "EMO_INDEX": 1,
    "MODEL_INDEX": 7,
    "N": 50
   },
   "start_time": "2025-06-08T16:16:15.337581",
   "version": "2.6.0"
  }
 },
 "nbformat": 4,
 "nbformat_minor": 5
}